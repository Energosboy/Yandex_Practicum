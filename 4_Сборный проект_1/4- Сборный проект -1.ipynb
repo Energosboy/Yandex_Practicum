{
 "cells": [
  {
   "cell_type": "markdown",
   "metadata": {
    "toc": true
   },
   "source": [
    "<h1>Table of Contents<span class=\"tocSkip\"></span></h1>\n",
    "<div class=\"toc\"><ul class=\"toc-item\"><li><ul class=\"toc-item\"><li><span><a href=\"#Описание-данных\" data-toc-modified-id=\"Описание-данных-0.1\"><span class=\"toc-item-num\">0.1&nbsp;&nbsp;</span>Описание данных</a></span></li></ul></li><li><span><a href=\"#Описание-проекта\" data-toc-modified-id=\"Описание-проекта-1\"><span class=\"toc-item-num\">1&nbsp;&nbsp;</span><strong>Описание проекта</strong></a></span><ul class=\"toc-item\"><li><span><a href=\"#Инструкция-по-выполнению-проекта\" data-toc-modified-id=\"Инструкция-по-выполнению-проекта-1.1\"><span class=\"toc-item-num\">1.1&nbsp;&nbsp;</span>Инструкция по выполнению проекта</a></span></li></ul></li><li><span><a href=\"#Изучение-данных-из-файла\" data-toc-modified-id=\"Изучение-данных-из-файла-2\"><span class=\"toc-item-num\">2&nbsp;&nbsp;</span><strong>Изучение данных из файла</strong></a></span></li><li><span><a href=\"#Обзор-данных\" data-toc-modified-id=\"Обзор-данных-3\"><span class=\"toc-item-num\">3&nbsp;&nbsp;</span><strong>Обзор данных</strong></a></span></li><li><span><a href=\"#Предобработка-данных\" data-toc-modified-id=\"Предобработка-данных-4\"><span class=\"toc-item-num\">4&nbsp;&nbsp;</span>Предобработка данных</a></span><ul class=\"toc-item\"><li><span><a href=\"#Вывод:\" data-toc-modified-id=\"Вывод:-4.1\"><span class=\"toc-item-num\">4.1&nbsp;&nbsp;</span>Вывод:</a></span></li></ul></li><li><span><a href=\"#Cколько-игр-выпускалось-в-разные-годы.-Важны-ли-данные-за-все-периоды?\" data-toc-modified-id=\"Cколько-игр-выпускалось-в-разные-годы.-Важны-ли-данные-за-все-периоды?-5\"><span class=\"toc-item-num\">5&nbsp;&nbsp;</span>Cколько игр выпускалось в разные годы. Важны ли данные за все периоды?</a></span></li><li><span><a href=\"#Вывод\" data-toc-modified-id=\"Вывод-6\"><span class=\"toc-item-num\">6&nbsp;&nbsp;</span>Вывод</a></span></li><li><span><a href=\"#Как-менялись-продажи-по-платформам.\" data-toc-modified-id=\"Как-менялись-продажи-по-платформам.-7\"><span class=\"toc-item-num\">7&nbsp;&nbsp;</span>Как менялись продажи по платформам.</a></span><ul class=\"toc-item\"><li><span><a href=\"#Возьмите-данные-за-соответствующий-актуальный-период.\" data-toc-modified-id=\"Возьмите-данные-за-соответствующий-актуальный-период.-7.1\"><span class=\"toc-item-num\">7.1&nbsp;&nbsp;</span>Возьмите данные за соответствующий актуальный период.</a></span></li></ul></li><li><span><a href=\"#Какие-платформы-лидируют-по-продажам,-растут-или-падают?\" data-toc-modified-id=\"Какие-платформы-лидируют-по-продажам,-растут-или-падают?-8\"><span class=\"toc-item-num\">8&nbsp;&nbsp;</span>Какие платформы лидируют по продажам, растут или падают?</a></span></li><li><span><a href=\"#Какие-платформы-можно-оставить-для-анализа?\" data-toc-modified-id=\"Какие-платформы-можно-оставить-для-анализа?-9\"><span class=\"toc-item-num\">9&nbsp;&nbsp;</span>Какие платформы можно оставить для анализа?</a></span></li><li><span><a href=\"#График-«ящик-с-усами»-по-глобальным-продажам-игр-в-разбивке-по-платформам.\" data-toc-modified-id=\"График-«ящик-с-усами»-по-глобальным-продажам-игр-в-разбивке-по-платформам.-10\"><span class=\"toc-item-num\">10&nbsp;&nbsp;</span>График «ящик с усами» по глобальным продажам игр в разбивке по платформам.</a></span><ul class=\"toc-item\"><li><span><a href=\"#Вывод:\" data-toc-modified-id=\"Вывод:-10.1\"><span class=\"toc-item-num\">10.1&nbsp;&nbsp;</span>Вывод:</a></span></li></ul></li><li><span><a href=\"#Как-влияют-на-продажи-внутри-одной-из-популярной-платформы-отзывы-пользователей-и-критиков.-Постройте-диаграмму-рассеяния-и-посчитайте-корреляцию-между-отзывами-и-продажами.\" data-toc-modified-id=\"Как-влияют-на-продажи-внутри-одной-из-популярной-платформы-отзывы-пользователей-и-критиков.-Постройте-диаграмму-рассеяния-и-посчитайте-корреляцию-между-отзывами-и-продажами.-11\"><span class=\"toc-item-num\">11&nbsp;&nbsp;</span>Как влияют на продажи внутри одной из популярной платформы отзывы пользователей и критиков. Постройте диаграмму рассеяния и посчитайте корреляцию между отзывами и продажами.</a></span></li><li><span><a href=\"#Вывод:\" data-toc-modified-id=\"Вывод:-12\"><span class=\"toc-item-num\">12&nbsp;&nbsp;</span>Вывод:</a></span></li><li><span><a href=\"#Общее-распределение-игр-по-жанрам.--Выделяются-ли-жанры-с-высокими-и-низкими-продажами?\" data-toc-modified-id=\"Общее-распределение-игр-по-жанрам.--Выделяются-ли-жанры-с-высокими-и-низкими-продажами?-13\"><span class=\"toc-item-num\">13&nbsp;&nbsp;</span>Общее распределение игр по жанрам.  Выделяются ли жанры с высокими и низкими продажами?</a></span><ul class=\"toc-item\"><li><span><a href=\"#Вывод\" data-toc-modified-id=\"Вывод-13.1\"><span class=\"toc-item-num\">13.1&nbsp;&nbsp;</span>Вывод</a></span></li><li><span><a href=\"#Из-графика-видно:\" data-toc-modified-id=\"Из-графика-видно:-13.2\"><span class=\"toc-item-num\">13.2&nbsp;&nbsp;</span>Из графика видно:</a></span></li></ul></li><li><span><a href=\"#Вывод:\" data-toc-modified-id=\"Вывод:-14\"><span class=\"toc-item-num\">14&nbsp;&nbsp;</span>Вывод:</a></span><ul class=\"toc-item\"><li><span><a href=\"#Средние-пользовательские-рейтинги-платформ-Xbox-One-и-PC-одинаковые\" data-toc-modified-id=\"Средние-пользовательские-рейтинги-платформ-Xbox-One-и-PC-одинаковые-14.1\"><span class=\"toc-item-num\">14.1&nbsp;&nbsp;</span>Средние пользовательские рейтинги платформ Xbox One и PC одинаковые</a></span></li><li><span><a href=\"#Вывод:-p-значение:--0.12481511051825932\" data-toc-modified-id=\"Вывод:-p-значение:--0.12481511051825932-14.2\"><span class=\"toc-item-num\">14.2&nbsp;&nbsp;</span>Вывод: p-значение:  0.12481511051825932</a></span></li><li><span><a href=\"#Средние-пользовательские-рейтинги-жанров-Action-и-Sports-разные\" data-toc-modified-id=\"Средние-пользовательские-рейтинги-жанров-Action-и-Sports-разные-14.3\"><span class=\"toc-item-num\">14.3&nbsp;&nbsp;</span>Средние пользовательские рейтинги жанров Action и Sports разные</a></span></li><li><span><a href=\"#Вывод:-p-значение:--2.083064105338575e-07\" data-toc-modified-id=\"Вывод:-p-значение:--2.083064105338575e-07-14.4\"><span class=\"toc-item-num\">14.4&nbsp;&nbsp;</span>Вывод: p-значение:  2.083064105338575e-07</a></span></li></ul></li><li><span><a href=\"#В-ходе-выполнения-данного-проекта:\" data-toc-modified-id=\"В-ходе-выполнения-данного-проекта:-15\"><span class=\"toc-item-num\">15&nbsp;&nbsp;</span>В ходе выполнения данного проекта:</a></span></li><li><span><a href=\"#Проведен-исследовательский-анализ-данных:\" data-toc-modified-id=\"Проведен-исследовательский-анализ-данных:-16\"><span class=\"toc-item-num\">16&nbsp;&nbsp;</span>Проведен исследовательский анализ данных:</a></span></li><li><span><a href=\"#Составлен-портрет-пользователя-каждого-региона\" data-toc-modified-id=\"Составлен-портрет-пользователя-каждого-региона-17\"><span class=\"toc-item-num\">17&nbsp;&nbsp;</span>Составлен портрет пользователя каждого региона</a></span></li><li><span><a href=\"#Проведена-проверка-двух-гипотез:\" data-toc-modified-id=\"Проведена-проверка-двух-гипотез:-18\"><span class=\"toc-item-num\">18&nbsp;&nbsp;</span>Проведена проверка двух гипотез:</a></span><ul class=\"toc-item\"><li><span><a href=\"#Результаты-проверки-гипотез:\" data-toc-modified-id=\"Результаты-проверки-гипотез:-18.1\"><span class=\"toc-item-num\">18.1&nbsp;&nbsp;</span><strong>Результаты проверки гипотез:</strong></a></span></li></ul></li></ul></div>"
   ]
  },
  {
   "cell_type": "markdown",
   "metadata": {
    "id": "HsKopWFEsBEm"
   },
   "source": [
    "# Анализ продаж компьютерных игр\n",
    "**Цель:** Выявить параметры, определяющие успешность игр, для дальнейшего управления продуктами (определение перспективных / стагнирующих сфер, распределение рекламных бюджетов, текущая / перспективная популярность).\n",
    "\n",
    "**Выборка:** Исторические данные о выпущенных играх с продажами по регионам. Данные за 2016 год могут быть не полными.\n",
    "\n",
    "### Описание данных\n",
    "    \n",
    "- *Name* — название игры\n",
    "- *Platform* — платформа\n",
    "- *Year_of_Release* — год выпуска\n",
    "- *Genre* — жанр игры\n",
    "- *NA_sales —* продажи в Северной Америке (миллионы долларов)\n",
    "- *EU_sales* — продажи в Европе (миллионы долларов)\n",
    "- *JP_sales* — продажи в Японии (миллионы долларов)\n",
    "- *Other_sales —* продажи в других странах (миллионы долларов)\n",
    "- *Critic_Score* — оценка критиков (от 0 до 100)\n",
    "- *User_Score* — оценка пользователей (от 0 до 10)\n",
    "- *Rating* — рейтинг от организации *ESRB* (англ. *Entertainment Software Rating Board).* Эта ассоциация определяет рейтинг компьютерных игр и присваивает им подходящую возрастную категорию."
   ]
  },
  {
   "cell_type": "markdown",
   "metadata": {},
   "source": [
    "## **Описание проекта**\n",
    "\n",
    "- \n",
    "    \n",
    "    Вы работаете в интернет-магазине «Стримчик», который продаёт по всему миру компьютерные игры. Из открытых источников доступны исторические данные о продажах игр, оценки пользователей и экспертов, жанры и платформы (например, *Xbox* или *PlayStation*). Вам нужно выявить определяющие успешность игры закономерности. Это позволит сделать ставку на потенциально популярный продукт и спланировать рекламные кампании.\n",
    "    \n",
    "    Перед вами данные до 2016 года. Представим, что сейчас декабрь 2016 г., и вы планируете кампанию на 2017-й. Нужно отработать принцип работы с данными. Не важно, прогнозируете ли вы продажи на 2017 год по данным 2016-го или же 2027-й — по данным 2026 года.\n",
    "    \n",
    "    В наборе данных попадается аббревиатура ESRB (Entertainment Software Rating Board) — это ассоциация, определяющая возрастной рейтинг компьютерных игр. ESRB оценивает игровой контент и присваивает ему подходящую возрастную категорию, например, «Для взрослых», «Для детей младшего возраста» или «Для подростков».\n",
    "    \n",
    "    ### Инструкция по выполнению проекта\n",
    "    \n",
    "    **Шаг 1. Откройте файл с данными и изучите общую информацию**\n",
    "    \n",
    "    Путь к файлу: */datasets/games.csv*\n",
    "    \n",
    "    **Шаг 2. Подготовьте данные**\n",
    "    \n",
    "    - Замените названия столбцов (приведите к нижнему регистру);\n",
    "    - Преобразуйте данные в нужные типы. Опишите, в каких столбцах заменили тип данных и почему;\n",
    "    - Обработайте пропуски при необходимости:\n",
    "        - Объясните, почему заполнили пропуски определённым образом или почему не стали это делать;\n",
    "        - Опишите причины, которые могли привести к пропускам;\n",
    "        - Обратите внимание на аббревиатуру *'tbd'* в столбцах с рейтингом. Поясните, как обработать это значение.\n",
    "    - Посчитайте суммарные продажи во всех регионах и запишите их в отдельный столбец.\n",
    "    \n",
    "    **Шаг 3. Проведите исследовательский анализ данных**\n",
    "    \n",
    "    - Посмотрите, сколько игр выпускалось в разные годы. Важны ли данные за все периоды?\n",
    "    - Посмотрите, как менялись продажи по платформам. Выберите платформы с наибольшими суммарными продажами и постройте распределение по годам. За какой характерный срок появляются новые и исчезают старые платформы?\n",
    "    - Возьмите данные за соответствующий **актуальный период.** Актуальный период определите самостоятельно в результате исследования предыдущих вопросов. Основной фактор — эти данные помогут построить прогноз на 2017 год.\n",
    "    - Не учитывайте в работе данные за **предыдущие годы**.\n",
    "    - Какие платформы лидируют по продажам, растут или падают? Выберите несколько потенциально прибыльных платформ.\n",
    "    - Постройте график «ящик с усами» по глобальным продажам игр в разбивке по платформам. Опишите результат.\n",
    "    - Посмотрите, как влияют на продажи внутри одной популярной платформы отзывы пользователей и критиков. Постройте диаграмму рассеяния и посчитайте корреляцию между отзывами и продажами. Сформулируйте выводы.\n",
    "    - Соотнесите выводы с продажами игр на других платформах.\n",
    "    - Посмотрите на общее распределение игр по жанрам. Что можно сказать о самых прибыльных жанрах? Выделяются ли жанры с высокими и низкими продажами?\n",
    "    \n",
    "    **Шаг 4. Составьте портрет пользователя каждого региона**\n",
    "    \n",
    "    Определите для пользователя каждого региона (*NA, EU, JP*):\n",
    "    \n",
    "    - Самые популярные платформы (топ-5). Опишите различия в долях продаж.\n",
    "    - Самые популярные жанры (топ-5). Поясните разницу.\n",
    "    - Влияет ли рейтинг ESRB на продажи в отдельном регионе?\n",
    "    \n",
    "    **Шаг 5. Проверьте гипотезы**\n",
    "    \n",
    "    - Средние пользовательские рейтинги платформ *Xbox One* и *PC* одинаковые;\n",
    "    - Средние пользовательские рейтинги жанров *Action* (англ. «действие») и *Sports* (англ. «виды спорта») разные.\n",
    "    \n",
    "    Задайте самостоятельно пороговое значение *alpha*.\n",
    "    \n",
    "    Поясните:\n",
    "    \n",
    "    - Как вы сформулировали нулевую и альтернативную гипотезы;\n",
    "    - Какой критерий применили для проверки гипотез и почему.\n",
    "    \n",
    "    **Шаг 6. Напишите общий вывод**\n",
    "    \n",
    "    **Оформление:** Выполните задание в *Jupyter Notebook*. Заполните программный код в ячейках типа *code,* текстовые пояснения — в ячейках типа *markdown*. Примените форматирование и заголовки."
   ]
  },
  {
   "cell_type": "markdown",
   "metadata": {},
   "source": [
    "## **Изучение данных из файла**"
   ]
  },
  {
   "cell_type": "code",
   "execution_count": 1,
   "metadata": {
    "id": "rdLc6B33uj0f"
   },
   "outputs": [],
   "source": [
    "import pandas as pd\n",
    "import matplotlib.pyplot as plt\n",
    "import seaborn as sns\n",
    "import matplotlib.ticker as ticker\n",
    "import numpy as np\n",
    "from scipy import stats as st\n",
    "import os"
   ]
  },
  {
   "cell_type": "code",
   "execution_count": 2,
   "metadata": {
    "id": "wXx-6wFvuu8k",
    "scrolled": true
   },
   "outputs": [],
   "source": [
    "games1 = 'dataset/games.csv'\n",
    "games2 = '/datasets/games.csv' #код ревьюера\n",
    "if os.path.exists(games1):\n",
    "    games = pd.read_csv(games1)\n",
    "elif os.path.exists(games2):\n",
    "    games = pd.read_csv(games2)\n",
    "else:\n",
    "    print('Something is wrong')"
   ]
  },
  {
   "cell_type": "code",
   "execution_count": 3,
   "metadata": {},
   "outputs": [],
   "source": [
    "# games = pd.read_csv('/datasets/games.csv') #код ревьюера"
   ]
  },
  {
   "cell_type": "markdown",
   "metadata": {},
   "source": [
    "## **Обзор данных**"
   ]
  },
  {
   "cell_type": "code",
   "execution_count": 4,
   "metadata": {},
   "outputs": [
    {
     "data": {
      "text/html": [
       "<div>\n",
       "<style scoped>\n",
       "    .dataframe tbody tr th:only-of-type {\n",
       "        vertical-align: middle;\n",
       "    }\n",
       "\n",
       "    .dataframe tbody tr th {\n",
       "        vertical-align: top;\n",
       "    }\n",
       "\n",
       "    .dataframe thead th {\n",
       "        text-align: right;\n",
       "    }\n",
       "</style>\n",
       "<table border=\"1\" class=\"dataframe\">\n",
       "  <thead>\n",
       "    <tr style=\"text-align: right;\">\n",
       "      <th></th>\n",
       "      <th>Name</th>\n",
       "      <th>Platform</th>\n",
       "      <th>Year_of_Release</th>\n",
       "      <th>Genre</th>\n",
       "      <th>NA_sales</th>\n",
       "      <th>EU_sales</th>\n",
       "      <th>JP_sales</th>\n",
       "      <th>Other_sales</th>\n",
       "      <th>Critic_Score</th>\n",
       "      <th>User_Score</th>\n",
       "      <th>Rating</th>\n",
       "    </tr>\n",
       "  </thead>\n",
       "  <tbody>\n",
       "    <tr>\n",
       "      <th>0</th>\n",
       "      <td>Wii Sports</td>\n",
       "      <td>Wii</td>\n",
       "      <td>2006.0</td>\n",
       "      <td>Sports</td>\n",
       "      <td>41.36</td>\n",
       "      <td>28.96</td>\n",
       "      <td>3.77</td>\n",
       "      <td>8.45</td>\n",
       "      <td>76.0</td>\n",
       "      <td>8</td>\n",
       "      <td>E</td>\n",
       "    </tr>\n",
       "    <tr>\n",
       "      <th>1</th>\n",
       "      <td>Super Mario Bros.</td>\n",
       "      <td>NES</td>\n",
       "      <td>1985.0</td>\n",
       "      <td>Platform</td>\n",
       "      <td>29.08</td>\n",
       "      <td>3.58</td>\n",
       "      <td>6.81</td>\n",
       "      <td>0.77</td>\n",
       "      <td>NaN</td>\n",
       "      <td>NaN</td>\n",
       "      <td>NaN</td>\n",
       "    </tr>\n",
       "    <tr>\n",
       "      <th>2</th>\n",
       "      <td>Mario Kart Wii</td>\n",
       "      <td>Wii</td>\n",
       "      <td>2008.0</td>\n",
       "      <td>Racing</td>\n",
       "      <td>15.68</td>\n",
       "      <td>12.76</td>\n",
       "      <td>3.79</td>\n",
       "      <td>3.29</td>\n",
       "      <td>82.0</td>\n",
       "      <td>8.3</td>\n",
       "      <td>E</td>\n",
       "    </tr>\n",
       "    <tr>\n",
       "      <th>3</th>\n",
       "      <td>Wii Sports Resort</td>\n",
       "      <td>Wii</td>\n",
       "      <td>2009.0</td>\n",
       "      <td>Sports</td>\n",
       "      <td>15.61</td>\n",
       "      <td>10.93</td>\n",
       "      <td>3.28</td>\n",
       "      <td>2.95</td>\n",
       "      <td>80.0</td>\n",
       "      <td>8</td>\n",
       "      <td>E</td>\n",
       "    </tr>\n",
       "    <tr>\n",
       "      <th>4</th>\n",
       "      <td>Pokemon Red/Pokemon Blue</td>\n",
       "      <td>GB</td>\n",
       "      <td>1996.0</td>\n",
       "      <td>Role-Playing</td>\n",
       "      <td>11.27</td>\n",
       "      <td>8.89</td>\n",
       "      <td>10.22</td>\n",
       "      <td>1.00</td>\n",
       "      <td>NaN</td>\n",
       "      <td>NaN</td>\n",
       "      <td>NaN</td>\n",
       "    </tr>\n",
       "  </tbody>\n",
       "</table>\n",
       "</div>"
      ],
      "text/plain": [
       "                       Name Platform  Year_of_Release         Genre  NA_sales  \\\n",
       "0                Wii Sports      Wii           2006.0        Sports     41.36   \n",
       "1         Super Mario Bros.      NES           1985.0      Platform     29.08   \n",
       "2            Mario Kart Wii      Wii           2008.0        Racing     15.68   \n",
       "3         Wii Sports Resort      Wii           2009.0        Sports     15.61   \n",
       "4  Pokemon Red/Pokemon Blue       GB           1996.0  Role-Playing     11.27   \n",
       "\n",
       "   EU_sales  JP_sales  Other_sales  Critic_Score User_Score Rating  \n",
       "0     28.96      3.77         8.45          76.0          8      E  \n",
       "1      3.58      6.81         0.77           NaN        NaN    NaN  \n",
       "2     12.76      3.79         3.29          82.0        8.3      E  \n",
       "3     10.93      3.28         2.95          80.0          8      E  \n",
       "4      8.89     10.22         1.00           NaN        NaN    NaN  "
      ]
     },
     "execution_count": 4,
     "metadata": {},
     "output_type": "execute_result"
    }
   ],
   "source": [
    "# Получение общей информации датасета\n",
    "games.head()"
   ]
  },
  {
   "cell_type": "code",
   "execution_count": 5,
   "metadata": {},
   "outputs": [
    {
     "name": "stdout",
     "output_type": "stream",
     "text": [
      "<class 'pandas.core.frame.DataFrame'>\n",
      "RangeIndex: 16715 entries, 0 to 16714\n",
      "Data columns (total 11 columns):\n",
      " #   Column           Non-Null Count  Dtype  \n",
      "---  ------           --------------  -----  \n",
      " 0   Name             16713 non-null  object \n",
      " 1   Platform         16715 non-null  object \n",
      " 2   Year_of_Release  16446 non-null  float64\n",
      " 3   Genre            16713 non-null  object \n",
      " 4   NA_sales         16715 non-null  float64\n",
      " 5   EU_sales         16715 non-null  float64\n",
      " 6   JP_sales         16715 non-null  float64\n",
      " 7   Other_sales      16715 non-null  float64\n",
      " 8   Critic_Score     8137 non-null   float64\n",
      " 9   User_Score       10014 non-null  object \n",
      " 10  Rating           9949 non-null   object \n",
      "dtypes: float64(6), object(5)\n",
      "memory usage: 1.4+ MB\n"
     ]
    }
   ],
   "source": [
    "games.info()"
   ]
  },
  {
   "cell_type": "code",
   "execution_count": 6,
   "metadata": {},
   "outputs": [
    {
     "data": {
      "text/plain": [
       "0"
      ]
     },
     "execution_count": 6,
     "metadata": {},
     "output_type": "execute_result"
    }
   ],
   "source": [
    "# проверим количество дубликатов в датасете, кол-во дубликатов равно 0\n",
    "games.duplicated().sum()"
   ]
  },
  {
   "cell_type": "code",
   "execution_count": 7,
   "metadata": {
    "scrolled": false
   },
   "outputs": [
    {
     "data": {
      "text/plain": [
       "Name                  2\n",
       "Platform              0\n",
       "Year_of_Release     269\n",
       "Genre                 2\n",
       "NA_sales              0\n",
       "EU_sales              0\n",
       "JP_sales              0\n",
       "Other_sales           0\n",
       "Critic_Score       8578\n",
       "User_Score         6701\n",
       "Rating             6766\n",
       "dtype: int64"
      ]
     },
     "execution_count": 7,
     "metadata": {},
     "output_type": "execute_result"
    }
   ],
   "source": [
    "# проверим количество пропусков в датасете\n",
    "games.isna().sum()"
   ]
  },
  {
   "cell_type": "markdown",
   "metadata": {},
   "source": [
    "В результате обзора данных выявлено, в датасете всего 11 столбцов и 16715 строк, есть пропуски в некоторых столбцах, дубликаты отсутствуют."
   ]
  },
  {
   "cell_type": "markdown",
   "metadata": {
    "id": "q9OmhEMEu77T"
   },
   "source": [
    "## Предобработка данных"
   ]
  },
  {
   "cell_type": "markdown",
   "metadata": {
    "id": "iovbbvJBv358"
   },
   "source": [
    "* Дубликатов в датасете нет.\n",
    "* Есть пропуски в некоторых столбцах, необходимо обработать пропуски и изменить типы данных (напр. Year_of_Release).\n",
    "* Также необходимо изменить названия столбцов (привести названия столбцов к нижнему регистру)."
   ]
  },
  {
   "cell_type": "code",
   "execution_count": 8,
   "metadata": {
    "id": "r0-o_6qhxWhf"
   },
   "outputs": [
    {
     "data": {
      "text/html": [
       "<div>\n",
       "<style scoped>\n",
       "    .dataframe tbody tr th:only-of-type {\n",
       "        vertical-align: middle;\n",
       "    }\n",
       "\n",
       "    .dataframe tbody tr th {\n",
       "        vertical-align: top;\n",
       "    }\n",
       "\n",
       "    .dataframe thead th {\n",
       "        text-align: right;\n",
       "    }\n",
       "</style>\n",
       "<table border=\"1\" class=\"dataframe\">\n",
       "  <thead>\n",
       "    <tr style=\"text-align: right;\">\n",
       "      <th></th>\n",
       "      <th>name</th>\n",
       "      <th>platform</th>\n",
       "      <th>year_of_release</th>\n",
       "      <th>genre</th>\n",
       "      <th>na_sales</th>\n",
       "      <th>eu_sales</th>\n",
       "      <th>jp_sales</th>\n",
       "      <th>other_sales</th>\n",
       "      <th>critic_score</th>\n",
       "      <th>user_score</th>\n",
       "      <th>rating</th>\n",
       "    </tr>\n",
       "  </thead>\n",
       "  <tbody>\n",
       "    <tr>\n",
       "      <th>0</th>\n",
       "      <td>Wii Sports</td>\n",
       "      <td>Wii</td>\n",
       "      <td>2006.0</td>\n",
       "      <td>Sports</td>\n",
       "      <td>41.36</td>\n",
       "      <td>28.96</td>\n",
       "      <td>3.77</td>\n",
       "      <td>8.45</td>\n",
       "      <td>76.0</td>\n",
       "      <td>8</td>\n",
       "      <td>E</td>\n",
       "    </tr>\n",
       "    <tr>\n",
       "      <th>1</th>\n",
       "      <td>Super Mario Bros.</td>\n",
       "      <td>NES</td>\n",
       "      <td>1985.0</td>\n",
       "      <td>Platform</td>\n",
       "      <td>29.08</td>\n",
       "      <td>3.58</td>\n",
       "      <td>6.81</td>\n",
       "      <td>0.77</td>\n",
       "      <td>NaN</td>\n",
       "      <td>NaN</td>\n",
       "      <td>NaN</td>\n",
       "    </tr>\n",
       "    <tr>\n",
       "      <th>2</th>\n",
       "      <td>Mario Kart Wii</td>\n",
       "      <td>Wii</td>\n",
       "      <td>2008.0</td>\n",
       "      <td>Racing</td>\n",
       "      <td>15.68</td>\n",
       "      <td>12.76</td>\n",
       "      <td>3.79</td>\n",
       "      <td>3.29</td>\n",
       "      <td>82.0</td>\n",
       "      <td>8.3</td>\n",
       "      <td>E</td>\n",
       "    </tr>\n",
       "    <tr>\n",
       "      <th>3</th>\n",
       "      <td>Wii Sports Resort</td>\n",
       "      <td>Wii</td>\n",
       "      <td>2009.0</td>\n",
       "      <td>Sports</td>\n",
       "      <td>15.61</td>\n",
       "      <td>10.93</td>\n",
       "      <td>3.28</td>\n",
       "      <td>2.95</td>\n",
       "      <td>80.0</td>\n",
       "      <td>8</td>\n",
       "      <td>E</td>\n",
       "    </tr>\n",
       "    <tr>\n",
       "      <th>4</th>\n",
       "      <td>Pokemon Red/Pokemon Blue</td>\n",
       "      <td>GB</td>\n",
       "      <td>1996.0</td>\n",
       "      <td>Role-Playing</td>\n",
       "      <td>11.27</td>\n",
       "      <td>8.89</td>\n",
       "      <td>10.22</td>\n",
       "      <td>1.00</td>\n",
       "      <td>NaN</td>\n",
       "      <td>NaN</td>\n",
       "      <td>NaN</td>\n",
       "    </tr>\n",
       "  </tbody>\n",
       "</table>\n",
       "</div>"
      ],
      "text/plain": [
       "                       name platform  year_of_release         genre  na_sales  \\\n",
       "0                Wii Sports      Wii           2006.0        Sports     41.36   \n",
       "1         Super Mario Bros.      NES           1985.0      Platform     29.08   \n",
       "2            Mario Kart Wii      Wii           2008.0        Racing     15.68   \n",
       "3         Wii Sports Resort      Wii           2009.0        Sports     15.61   \n",
       "4  Pokemon Red/Pokemon Blue       GB           1996.0  Role-Playing     11.27   \n",
       "\n",
       "   eu_sales  jp_sales  other_sales  critic_score user_score rating  \n",
       "0     28.96      3.77         8.45          76.0          8      E  \n",
       "1      3.58      6.81         0.77           NaN        NaN    NaN  \n",
       "2     12.76      3.79         3.29          82.0        8.3      E  \n",
       "3     10.93      3.28         2.95          80.0          8      E  \n",
       "4      8.89     10.22         1.00           NaN        NaN    NaN  "
      ]
     },
     "execution_count": 8,
     "metadata": {},
     "output_type": "execute_result"
    }
   ],
   "source": [
    "# Приведем названия столбцов к нижнему регистру\n",
    "games.columns = games.columns.str.lower()\n",
    "games.head() # проверим результат, названия столбцов приведены к нижнему регистру"
   ]
  },
  {
   "cell_type": "code",
   "execution_count": 9,
   "metadata": {
    "colab": {
     "base_uri": "https://localhost:8080/",
     "height": 112
    },
    "id": "8rwoBPcNwM7I",
    "outputId": "c8070138-175a-4243-9dca-44818d9a52be"
   },
   "outputs": [
    {
     "data": {
      "text/html": [
       "<div>\n",
       "<style scoped>\n",
       "    .dataframe tbody tr th:only-of-type {\n",
       "        vertical-align: middle;\n",
       "    }\n",
       "\n",
       "    .dataframe tbody tr th {\n",
       "        vertical-align: top;\n",
       "    }\n",
       "\n",
       "    .dataframe thead th {\n",
       "        text-align: right;\n",
       "    }\n",
       "</style>\n",
       "<table border=\"1\" class=\"dataframe\">\n",
       "  <thead>\n",
       "    <tr style=\"text-align: right;\">\n",
       "      <th></th>\n",
       "      <th>name</th>\n",
       "      <th>platform</th>\n",
       "      <th>year_of_release</th>\n",
       "      <th>genre</th>\n",
       "      <th>na_sales</th>\n",
       "      <th>eu_sales</th>\n",
       "      <th>jp_sales</th>\n",
       "      <th>other_sales</th>\n",
       "      <th>critic_score</th>\n",
       "      <th>user_score</th>\n",
       "      <th>rating</th>\n",
       "    </tr>\n",
       "  </thead>\n",
       "  <tbody>\n",
       "    <tr>\n",
       "      <th>659</th>\n",
       "      <td>NaN</td>\n",
       "      <td>GEN</td>\n",
       "      <td>1993.0</td>\n",
       "      <td>NaN</td>\n",
       "      <td>1.78</td>\n",
       "      <td>0.53</td>\n",
       "      <td>0.00</td>\n",
       "      <td>0.08</td>\n",
       "      <td>NaN</td>\n",
       "      <td>NaN</td>\n",
       "      <td>NaN</td>\n",
       "    </tr>\n",
       "    <tr>\n",
       "      <th>14244</th>\n",
       "      <td>NaN</td>\n",
       "      <td>GEN</td>\n",
       "      <td>1993.0</td>\n",
       "      <td>NaN</td>\n",
       "      <td>0.00</td>\n",
       "      <td>0.00</td>\n",
       "      <td>0.03</td>\n",
       "      <td>0.00</td>\n",
       "      <td>NaN</td>\n",
       "      <td>NaN</td>\n",
       "      <td>NaN</td>\n",
       "    </tr>\n",
       "  </tbody>\n",
       "</table>\n",
       "</div>"
      ],
      "text/plain": [
       "      name platform  year_of_release genre  na_sales  eu_sales  jp_sales  \\\n",
       "659    NaN      GEN           1993.0   NaN      1.78      0.53      0.00   \n",
       "14244  NaN      GEN           1993.0   NaN      0.00      0.00      0.03   \n",
       "\n",
       "       other_sales  critic_score user_score rating  \n",
       "659           0.08           NaN        NaN    NaN  \n",
       "14244         0.00           NaN        NaN    NaN  "
      ]
     },
     "execution_count": 9,
     "metadata": {},
     "output_type": "execute_result"
    }
   ],
   "source": [
    "# Посмотрим на пропуски в столбце name, их 2. Кстати это те же строки с пропусками в столбце genre, убъем сразу двух зайцев.\n",
    "games[games['name'].isnull()]"
   ]
  },
  {
   "cell_type": "markdown",
   "metadata": {
    "id": "7GhdejOswfNR"
   },
   "source": [
    "Данные пропуски лучше удалить, их всего 2 из 16175 строк."
   ]
  },
  {
   "cell_type": "code",
   "execution_count": 10,
   "metadata": {
    "id": "04mDA18dw8tp"
   },
   "outputs": [],
   "source": [
    "games = games.dropna(subset = ['name'])\n",
    "# games[games['name'].isnull()] # проверка"
   ]
  },
  {
   "cell_type": "code",
   "execution_count": 11,
   "metadata": {
    "colab": {
     "base_uri": "https://localhost:8080/",
     "height": 206
    },
    "id": "lj5KkHucxyqm",
    "outputId": "7065a813-0124-405a-8744-42bac3e6880d",
    "scrolled": true
   },
   "outputs": [
    {
     "data": {
      "text/html": [
       "<div>\n",
       "<style scoped>\n",
       "    .dataframe tbody tr th:only-of-type {\n",
       "        vertical-align: middle;\n",
       "    }\n",
       "\n",
       "    .dataframe tbody tr th {\n",
       "        vertical-align: top;\n",
       "    }\n",
       "\n",
       "    .dataframe thead th {\n",
       "        text-align: right;\n",
       "    }\n",
       "</style>\n",
       "<table border=\"1\" class=\"dataframe\">\n",
       "  <thead>\n",
       "    <tr style=\"text-align: right;\">\n",
       "      <th></th>\n",
       "      <th>name</th>\n",
       "      <th>platform</th>\n",
       "      <th>year_of_release</th>\n",
       "      <th>genre</th>\n",
       "      <th>na_sales</th>\n",
       "      <th>eu_sales</th>\n",
       "      <th>jp_sales</th>\n",
       "      <th>other_sales</th>\n",
       "      <th>critic_score</th>\n",
       "      <th>user_score</th>\n",
       "      <th>rating</th>\n",
       "    </tr>\n",
       "  </thead>\n",
       "  <tbody>\n",
       "    <tr>\n",
       "      <th>183</th>\n",
       "      <td>Madden NFL 2004</td>\n",
       "      <td>PS2</td>\n",
       "      <td>NaN</td>\n",
       "      <td>Sports</td>\n",
       "      <td>4.26</td>\n",
       "      <td>0.26</td>\n",
       "      <td>0.01</td>\n",
       "      <td>0.71</td>\n",
       "      <td>94.0</td>\n",
       "      <td>8.5</td>\n",
       "      <td>E</td>\n",
       "    </tr>\n",
       "    <tr>\n",
       "      <th>377</th>\n",
       "      <td>FIFA Soccer 2004</td>\n",
       "      <td>PS2</td>\n",
       "      <td>NaN</td>\n",
       "      <td>Sports</td>\n",
       "      <td>0.59</td>\n",
       "      <td>2.36</td>\n",
       "      <td>0.04</td>\n",
       "      <td>0.51</td>\n",
       "      <td>84.0</td>\n",
       "      <td>6.4</td>\n",
       "      <td>E</td>\n",
       "    </tr>\n",
       "    <tr>\n",
       "      <th>456</th>\n",
       "      <td>LEGO Batman: The Videogame</td>\n",
       "      <td>Wii</td>\n",
       "      <td>NaN</td>\n",
       "      <td>Action</td>\n",
       "      <td>1.80</td>\n",
       "      <td>0.97</td>\n",
       "      <td>0.00</td>\n",
       "      <td>0.29</td>\n",
       "      <td>74.0</td>\n",
       "      <td>7.9</td>\n",
       "      <td>E10+</td>\n",
       "    </tr>\n",
       "    <tr>\n",
       "      <th>475</th>\n",
       "      <td>wwe Smackdown vs. Raw 2006</td>\n",
       "      <td>PS2</td>\n",
       "      <td>NaN</td>\n",
       "      <td>Fighting</td>\n",
       "      <td>1.57</td>\n",
       "      <td>1.02</td>\n",
       "      <td>0.00</td>\n",
       "      <td>0.41</td>\n",
       "      <td>NaN</td>\n",
       "      <td>NaN</td>\n",
       "      <td>NaN</td>\n",
       "    </tr>\n",
       "    <tr>\n",
       "      <th>609</th>\n",
       "      <td>Space Invaders</td>\n",
       "      <td>2600</td>\n",
       "      <td>NaN</td>\n",
       "      <td>Shooter</td>\n",
       "      <td>2.36</td>\n",
       "      <td>0.14</td>\n",
       "      <td>0.00</td>\n",
       "      <td>0.03</td>\n",
       "      <td>NaN</td>\n",
       "      <td>NaN</td>\n",
       "      <td>NaN</td>\n",
       "    </tr>\n",
       "  </tbody>\n",
       "</table>\n",
       "</div>"
      ],
      "text/plain": [
       "                           name platform  year_of_release     genre  na_sales  \\\n",
       "183             Madden NFL 2004      PS2              NaN    Sports      4.26   \n",
       "377            FIFA Soccer 2004      PS2              NaN    Sports      0.59   \n",
       "456  LEGO Batman: The Videogame      Wii              NaN    Action      1.80   \n",
       "475  wwe Smackdown vs. Raw 2006      PS2              NaN  Fighting      1.57   \n",
       "609              Space Invaders     2600              NaN   Shooter      2.36   \n",
       "\n",
       "     eu_sales  jp_sales  other_sales  critic_score user_score rating  \n",
       "183      0.26      0.01         0.71          94.0        8.5      E  \n",
       "377      2.36      0.04         0.51          84.0        6.4      E  \n",
       "456      0.97      0.00         0.29          74.0        7.9   E10+  \n",
       "475      1.02      0.00         0.41           NaN        NaN    NaN  \n",
       "609      0.14      0.00         0.03           NaN        NaN    NaN  "
      ]
     },
     "execution_count": 11,
     "metadata": {},
     "output_type": "execute_result"
    }
   ],
   "source": [
    "# Посмотрим на пропуски в столбце год выпуска (year_of_release), пропусков - 269\n",
    "games[games['year_of_release'].isnull()].head()"
   ]
  },
  {
   "cell_type": "markdown",
   "metadata": {},
   "source": [
    "Всего пропусков - 269 из 16175 строк, что составляет менее 2% от общего количества, данные пропуски также лучше удалить"
   ]
  },
  {
   "cell_type": "code",
   "execution_count": 12,
   "metadata": {},
   "outputs": [],
   "source": [
    "games = games.dropna(subset = ['year_of_release'])\n",
    "# games[games['year_of_release'].isnull()] # проверка"
   ]
  },
  {
   "cell_type": "code",
   "execution_count": 13,
   "metadata": {
    "id": "JUuwJi1Oydo9"
   },
   "outputs": [],
   "source": [
    "games = games.dropna(subset = ['year_of_release'])\n",
    "# games[games['year_of_release'].isnull()] проверка"
   ]
  },
  {
   "cell_type": "code",
   "execution_count": 14,
   "metadata": {
    "colab": {
     "base_uri": "https://localhost:8080/"
    },
    "id": "XlbDF60gyfme",
    "outputId": "361240c7-c502-4ffe-c9d8-ac40afb03e85"
   },
   "outputs": [
    {
     "data": {
      "text/html": [
       "<div>\n",
       "<style scoped>\n",
       "    .dataframe tbody tr th:only-of-type {\n",
       "        vertical-align: middle;\n",
       "    }\n",
       "\n",
       "    .dataframe tbody tr th {\n",
       "        vertical-align: top;\n",
       "    }\n",
       "\n",
       "    .dataframe thead th {\n",
       "        text-align: right;\n",
       "    }\n",
       "</style>\n",
       "<table border=\"1\" class=\"dataframe\">\n",
       "  <thead>\n",
       "    <tr style=\"text-align: right;\">\n",
       "      <th></th>\n",
       "      <th>name</th>\n",
       "      <th>platform</th>\n",
       "      <th>year_of_release</th>\n",
       "      <th>genre</th>\n",
       "      <th>na_sales</th>\n",
       "      <th>eu_sales</th>\n",
       "      <th>jp_sales</th>\n",
       "      <th>other_sales</th>\n",
       "      <th>critic_score</th>\n",
       "      <th>user_score</th>\n",
       "      <th>rating</th>\n",
       "    </tr>\n",
       "  </thead>\n",
       "  <tbody>\n",
       "    <tr>\n",
       "      <th>1</th>\n",
       "      <td>Super Mario Bros.</td>\n",
       "      <td>NES</td>\n",
       "      <td>1985.0</td>\n",
       "      <td>Platform</td>\n",
       "      <td>29.08</td>\n",
       "      <td>3.58</td>\n",
       "      <td>6.81</td>\n",
       "      <td>0.77</td>\n",
       "      <td>NaN</td>\n",
       "      <td>NaN</td>\n",
       "      <td>NaN</td>\n",
       "    </tr>\n",
       "    <tr>\n",
       "      <th>4</th>\n",
       "      <td>Pokemon Red/Pokemon Blue</td>\n",
       "      <td>GB</td>\n",
       "      <td>1996.0</td>\n",
       "      <td>Role-Playing</td>\n",
       "      <td>11.27</td>\n",
       "      <td>8.89</td>\n",
       "      <td>10.22</td>\n",
       "      <td>1.00</td>\n",
       "      <td>NaN</td>\n",
       "      <td>NaN</td>\n",
       "      <td>NaN</td>\n",
       "    </tr>\n",
       "    <tr>\n",
       "      <th>5</th>\n",
       "      <td>Tetris</td>\n",
       "      <td>GB</td>\n",
       "      <td>1989.0</td>\n",
       "      <td>Puzzle</td>\n",
       "      <td>23.20</td>\n",
       "      <td>2.26</td>\n",
       "      <td>4.22</td>\n",
       "      <td>0.58</td>\n",
       "      <td>NaN</td>\n",
       "      <td>NaN</td>\n",
       "      <td>NaN</td>\n",
       "    </tr>\n",
       "    <tr>\n",
       "      <th>9</th>\n",
       "      <td>Duck Hunt</td>\n",
       "      <td>NES</td>\n",
       "      <td>1984.0</td>\n",
       "      <td>Shooter</td>\n",
       "      <td>26.93</td>\n",
       "      <td>0.63</td>\n",
       "      <td>0.28</td>\n",
       "      <td>0.47</td>\n",
       "      <td>NaN</td>\n",
       "      <td>NaN</td>\n",
       "      <td>NaN</td>\n",
       "    </tr>\n",
       "    <tr>\n",
       "      <th>10</th>\n",
       "      <td>Nintendogs</td>\n",
       "      <td>DS</td>\n",
       "      <td>2005.0</td>\n",
       "      <td>Simulation</td>\n",
       "      <td>9.05</td>\n",
       "      <td>10.95</td>\n",
       "      <td>1.93</td>\n",
       "      <td>2.74</td>\n",
       "      <td>NaN</td>\n",
       "      <td>NaN</td>\n",
       "      <td>NaN</td>\n",
       "    </tr>\n",
       "  </tbody>\n",
       "</table>\n",
       "</div>"
      ],
      "text/plain": [
       "                        name platform  year_of_release         genre  \\\n",
       "1          Super Mario Bros.      NES           1985.0      Platform   \n",
       "4   Pokemon Red/Pokemon Blue       GB           1996.0  Role-Playing   \n",
       "5                     Tetris       GB           1989.0        Puzzle   \n",
       "9                  Duck Hunt      NES           1984.0       Shooter   \n",
       "10                Nintendogs       DS           2005.0    Simulation   \n",
       "\n",
       "    na_sales  eu_sales  jp_sales  other_sales  critic_score user_score rating  \n",
       "1      29.08      3.58      6.81         0.77           NaN        NaN    NaN  \n",
       "4      11.27      8.89     10.22         1.00           NaN        NaN    NaN  \n",
       "5      23.20      2.26      4.22         0.58           NaN        NaN    NaN  \n",
       "9      26.93      0.63      0.28         0.47           NaN        NaN    NaN  \n",
       "10      9.05     10.95      1.93         2.74           NaN        NaN    NaN  "
      ]
     },
     "execution_count": 14,
     "metadata": {},
     "output_type": "execute_result"
    }
   ],
   "source": [
    "# Посмотрим на пропуски в столбце rating\n",
    "games[games['rating'].isnull()].head()"
   ]
  },
  {
   "cell_type": "markdown",
   "metadata": {
    "id": "bCp1qhTszafB"
   },
   "source": [
    "В большинстве случаев, пропущены одновременно и рейтинг, оценка критиков и оценка пользователей. Пропусков слишком много, удалить их нельзя."
   ]
  },
  {
   "cell_type": "code",
   "execution_count": 15,
   "metadata": {
    "colab": {
     "base_uri": "https://localhost:8080/"
    },
    "id": "5FKRs4Y80EBt",
    "outputId": "7556f2fc-45b7-4f4e-c588-75a391d8c2c8"
   },
   "outputs": [
    {
     "data": {
      "text/plain": [
       "Unknown    6676\n",
       "E          3921\n",
       "T          2905\n",
       "M          1536\n",
       "E10+       1393\n",
       "EC            8\n",
       "K-A           3\n",
       "RP            1\n",
       "AO            1\n",
       "Name: rating, dtype: int64"
      ]
     },
     "execution_count": 15,
     "metadata": {},
     "output_type": "execute_result"
    }
   ],
   "source": [
    "# заменим пропуски на Unknown\n",
    "games['rating'] = games['rating'].fillna('Unknown')\n",
    "games['rating'].value_counts()"
   ]
  },
  {
   "cell_type": "markdown",
   "metadata": {
    "id": "_8E9o8fE0cda"
   },
   "source": [
    "4 вида рейтинга встречаются часто: Е, Т, М и Е10+, а 4 встречаются очень редко. Их можно заменить:\n",
    "\n",
    "* АО - заменить на М;\n",
    "* RP - заменить на Unknown;\n",
    "* ЕС - заменить на Е;\n",
    "* К-А - заменить на Е."
   ]
  },
  {
   "cell_type": "code",
   "execution_count": 16,
   "metadata": {
    "id": "JW-2zNhB2eiR"
   },
   "outputs": [],
   "source": [
    "games.loc[games['rating'] == 'AO', 'rating'] = 'M'\n",
    "games.loc[games['rating'] == 'RP', 'rating'] = 'Unknown'\n",
    "games.loc[games['rating'].isin(['EC', 'K-A']), 'rating'] = 'E'"
   ]
  },
  {
   "cell_type": "code",
   "execution_count": 17,
   "metadata": {
    "colab": {
     "base_uri": "https://localhost:8080/"
    },
    "id": "_cc3MaoJhufF",
    "outputId": "bffcdcaf-db97-4110-e887-95c02a5da8ea"
   },
   "outputs": [
    {
     "data": {
      "text/plain": [
       "Unknown    6677\n",
       "E          3932\n",
       "T          2905\n",
       "M          1537\n",
       "E10+       1393\n",
       "Name: rating, dtype: int64"
      ]
     },
     "execution_count": 17,
     "metadata": {},
     "output_type": "execute_result"
    }
   ],
   "source": [
    "# проверка\n",
    "games['rating'].value_counts()"
   ]
  },
  {
   "cell_type": "code",
   "execution_count": 18,
   "metadata": {
    "colab": {
     "base_uri": "https://localhost:8080/"
    },
    "id": "ViBs5T4r29-x",
    "outputId": "08e867da-99ff-4d9c-ece4-4c80415dd64d"
   },
   "outputs": [
    {
     "data": {
      "text/html": [
       "<div>\n",
       "<style scoped>\n",
       "    .dataframe tbody tr th:only-of-type {\n",
       "        vertical-align: middle;\n",
       "    }\n",
       "\n",
       "    .dataframe tbody tr th {\n",
       "        vertical-align: top;\n",
       "    }\n",
       "\n",
       "    .dataframe thead th {\n",
       "        text-align: right;\n",
       "    }\n",
       "</style>\n",
       "<table border=\"1\" class=\"dataframe\">\n",
       "  <thead>\n",
       "    <tr style=\"text-align: right;\">\n",
       "      <th></th>\n",
       "      <th>name</th>\n",
       "      <th>platform</th>\n",
       "      <th>year_of_release</th>\n",
       "      <th>genre</th>\n",
       "      <th>na_sales</th>\n",
       "      <th>eu_sales</th>\n",
       "      <th>jp_sales</th>\n",
       "      <th>other_sales</th>\n",
       "      <th>critic_score</th>\n",
       "      <th>user_score</th>\n",
       "      <th>rating</th>\n",
       "    </tr>\n",
       "  </thead>\n",
       "  <tbody>\n",
       "    <tr>\n",
       "      <th>1</th>\n",
       "      <td>Super Mario Bros.</td>\n",
       "      <td>NES</td>\n",
       "      <td>1985.0</td>\n",
       "      <td>Platform</td>\n",
       "      <td>29.08</td>\n",
       "      <td>3.58</td>\n",
       "      <td>6.81</td>\n",
       "      <td>0.77</td>\n",
       "      <td>NaN</td>\n",
       "      <td>NaN</td>\n",
       "      <td>Unknown</td>\n",
       "    </tr>\n",
       "    <tr>\n",
       "      <th>4</th>\n",
       "      <td>Pokemon Red/Pokemon Blue</td>\n",
       "      <td>GB</td>\n",
       "      <td>1996.0</td>\n",
       "      <td>Role-Playing</td>\n",
       "      <td>11.27</td>\n",
       "      <td>8.89</td>\n",
       "      <td>10.22</td>\n",
       "      <td>1.00</td>\n",
       "      <td>NaN</td>\n",
       "      <td>NaN</td>\n",
       "      <td>Unknown</td>\n",
       "    </tr>\n",
       "    <tr>\n",
       "      <th>5</th>\n",
       "      <td>Tetris</td>\n",
       "      <td>GB</td>\n",
       "      <td>1989.0</td>\n",
       "      <td>Puzzle</td>\n",
       "      <td>23.20</td>\n",
       "      <td>2.26</td>\n",
       "      <td>4.22</td>\n",
       "      <td>0.58</td>\n",
       "      <td>NaN</td>\n",
       "      <td>NaN</td>\n",
       "      <td>Unknown</td>\n",
       "    </tr>\n",
       "    <tr>\n",
       "      <th>9</th>\n",
       "      <td>Duck Hunt</td>\n",
       "      <td>NES</td>\n",
       "      <td>1984.0</td>\n",
       "      <td>Shooter</td>\n",
       "      <td>26.93</td>\n",
       "      <td>0.63</td>\n",
       "      <td>0.28</td>\n",
       "      <td>0.47</td>\n",
       "      <td>NaN</td>\n",
       "      <td>NaN</td>\n",
       "      <td>Unknown</td>\n",
       "    </tr>\n",
       "    <tr>\n",
       "      <th>10</th>\n",
       "      <td>Nintendogs</td>\n",
       "      <td>DS</td>\n",
       "      <td>2005.0</td>\n",
       "      <td>Simulation</td>\n",
       "      <td>9.05</td>\n",
       "      <td>10.95</td>\n",
       "      <td>1.93</td>\n",
       "      <td>2.74</td>\n",
       "      <td>NaN</td>\n",
       "      <td>NaN</td>\n",
       "      <td>Unknown</td>\n",
       "    </tr>\n",
       "  </tbody>\n",
       "</table>\n",
       "</div>"
      ],
      "text/plain": [
       "                        name platform  year_of_release         genre  \\\n",
       "1          Super Mario Bros.      NES           1985.0      Platform   \n",
       "4   Pokemon Red/Pokemon Blue       GB           1996.0  Role-Playing   \n",
       "5                     Tetris       GB           1989.0        Puzzle   \n",
       "9                  Duck Hunt      NES           1984.0       Shooter   \n",
       "10                Nintendogs       DS           2005.0    Simulation   \n",
       "\n",
       "    na_sales  eu_sales  jp_sales  other_sales  critic_score user_score  \\\n",
       "1      29.08      3.58      6.81         0.77           NaN        NaN   \n",
       "4      11.27      8.89     10.22         1.00           NaN        NaN   \n",
       "5      23.20      2.26      4.22         0.58           NaN        NaN   \n",
       "9      26.93      0.63      0.28         0.47           NaN        NaN   \n",
       "10      9.05     10.95      1.93         2.74           NaN        NaN   \n",
       "\n",
       "     rating  \n",
       "1   Unknown  \n",
       "4   Unknown  \n",
       "5   Unknown  \n",
       "9   Unknown  \n",
       "10  Unknown  "
      ]
     },
     "execution_count": 18,
     "metadata": {},
     "output_type": "execute_result"
    }
   ],
   "source": [
    "# Посмотрим на пропуски в столбце critic_score\n",
    "games[games['critic_score'].isnull()].head()"
   ]
  },
  {
   "cell_type": "markdown",
   "metadata": {
    "id": "Y6bC29fm-9_O"
   },
   "source": [
    "Пропусков слишком много из общего количества строк, удалить их нельзя."
   ]
  },
  {
   "cell_type": "code",
   "execution_count": 19,
   "metadata": {
    "scrolled": true
   },
   "outputs": [
    {
     "data": {
      "text/plain": [
       "-10.0    8461\n",
       " 70.0     252\n",
       " 71.0     248\n",
       " 75.0     240\n",
       " 80.0     235\n",
       "         ... \n",
       " 20.0       3\n",
       " 29.0       3\n",
       " 13.0       1\n",
       " 17.0       1\n",
       " 21.0       1\n",
       "Name: critic_score, Length: 82, dtype: int64"
      ]
     },
     "execution_count": 19,
     "metadata": {},
     "output_type": "execute_result"
    }
   ],
   "source": [
    "# заменим пропуски на значение-заглушку -10\n",
    "games['critic_score'] = games['critic_score'].fillna(-10)\n",
    "# преобразуем столбец к целочисленному значению\n",
    "games['critic_score'] = games['critic_score'].astype('float')\n",
    "games['critic_score'].value_counts()"
   ]
  },
  {
   "cell_type": "code",
   "execution_count": 20,
   "metadata": {
    "colab": {
     "base_uri": "https://localhost:8080/"
    },
    "id": "WNaalvGMFd_P",
    "outputId": "b0a77cd7-83bc-4441-fe55-467743137e48"
   },
   "outputs": [
    {
     "data": {
      "text/html": [
       "<div>\n",
       "<style scoped>\n",
       "    .dataframe tbody tr th:only-of-type {\n",
       "        vertical-align: middle;\n",
       "    }\n",
       "\n",
       "    .dataframe tbody tr th {\n",
       "        vertical-align: top;\n",
       "    }\n",
       "\n",
       "    .dataframe thead th {\n",
       "        text-align: right;\n",
       "    }\n",
       "</style>\n",
       "<table border=\"1\" class=\"dataframe\">\n",
       "  <thead>\n",
       "    <tr style=\"text-align: right;\">\n",
       "      <th></th>\n",
       "      <th>name</th>\n",
       "      <th>platform</th>\n",
       "      <th>year_of_release</th>\n",
       "      <th>genre</th>\n",
       "      <th>na_sales</th>\n",
       "      <th>eu_sales</th>\n",
       "      <th>jp_sales</th>\n",
       "      <th>other_sales</th>\n",
       "      <th>critic_score</th>\n",
       "      <th>user_score</th>\n",
       "      <th>rating</th>\n",
       "    </tr>\n",
       "  </thead>\n",
       "  <tbody>\n",
       "    <tr>\n",
       "      <th>1</th>\n",
       "      <td>Super Mario Bros.</td>\n",
       "      <td>NES</td>\n",
       "      <td>1985.0</td>\n",
       "      <td>Platform</td>\n",
       "      <td>29.08</td>\n",
       "      <td>3.58</td>\n",
       "      <td>6.81</td>\n",
       "      <td>0.77</td>\n",
       "      <td>-10.0</td>\n",
       "      <td>NaN</td>\n",
       "      <td>Unknown</td>\n",
       "    </tr>\n",
       "    <tr>\n",
       "      <th>4</th>\n",
       "      <td>Pokemon Red/Pokemon Blue</td>\n",
       "      <td>GB</td>\n",
       "      <td>1996.0</td>\n",
       "      <td>Role-Playing</td>\n",
       "      <td>11.27</td>\n",
       "      <td>8.89</td>\n",
       "      <td>10.22</td>\n",
       "      <td>1.00</td>\n",
       "      <td>-10.0</td>\n",
       "      <td>NaN</td>\n",
       "      <td>Unknown</td>\n",
       "    </tr>\n",
       "    <tr>\n",
       "      <th>5</th>\n",
       "      <td>Tetris</td>\n",
       "      <td>GB</td>\n",
       "      <td>1989.0</td>\n",
       "      <td>Puzzle</td>\n",
       "      <td>23.20</td>\n",
       "      <td>2.26</td>\n",
       "      <td>4.22</td>\n",
       "      <td>0.58</td>\n",
       "      <td>-10.0</td>\n",
       "      <td>NaN</td>\n",
       "      <td>Unknown</td>\n",
       "    </tr>\n",
       "    <tr>\n",
       "      <th>9</th>\n",
       "      <td>Duck Hunt</td>\n",
       "      <td>NES</td>\n",
       "      <td>1984.0</td>\n",
       "      <td>Shooter</td>\n",
       "      <td>26.93</td>\n",
       "      <td>0.63</td>\n",
       "      <td>0.28</td>\n",
       "      <td>0.47</td>\n",
       "      <td>-10.0</td>\n",
       "      <td>NaN</td>\n",
       "      <td>Unknown</td>\n",
       "    </tr>\n",
       "    <tr>\n",
       "      <th>10</th>\n",
       "      <td>Nintendogs</td>\n",
       "      <td>DS</td>\n",
       "      <td>2005.0</td>\n",
       "      <td>Simulation</td>\n",
       "      <td>9.05</td>\n",
       "      <td>10.95</td>\n",
       "      <td>1.93</td>\n",
       "      <td>2.74</td>\n",
       "      <td>-10.0</td>\n",
       "      <td>NaN</td>\n",
       "      <td>Unknown</td>\n",
       "    </tr>\n",
       "  </tbody>\n",
       "</table>\n",
       "</div>"
      ],
      "text/plain": [
       "                        name platform  year_of_release         genre  \\\n",
       "1          Super Mario Bros.      NES           1985.0      Platform   \n",
       "4   Pokemon Red/Pokemon Blue       GB           1996.0  Role-Playing   \n",
       "5                     Tetris       GB           1989.0        Puzzle   \n",
       "9                  Duck Hunt      NES           1984.0       Shooter   \n",
       "10                Nintendogs       DS           2005.0    Simulation   \n",
       "\n",
       "    na_sales  eu_sales  jp_sales  other_sales  critic_score user_score  \\\n",
       "1      29.08      3.58      6.81         0.77         -10.0        NaN   \n",
       "4      11.27      8.89     10.22         1.00         -10.0        NaN   \n",
       "5      23.20      2.26      4.22         0.58         -10.0        NaN   \n",
       "9      26.93      0.63      0.28         0.47         -10.0        NaN   \n",
       "10      9.05     10.95      1.93         2.74         -10.0        NaN   \n",
       "\n",
       "     rating  \n",
       "1   Unknown  \n",
       "4   Unknown  \n",
       "5   Unknown  \n",
       "9   Unknown  \n",
       "10  Unknown  "
      ]
     },
     "execution_count": 20,
     "metadata": {},
     "output_type": "execute_result"
    }
   ],
   "source": [
    "# Посмотрим на пропуски в столбце user_score\n",
    "games[games['user_score'].isnull()].head()"
   ]
  },
  {
   "cell_type": "markdown",
   "metadata": {
    "id": "5tuTFHVzFkBB"
   },
   "source": [
    "Пропусков слишком много из общего количества строк, удалить их нельзя. Также посмотрим на аббревиатуру 'tbd'."
   ]
  },
  {
   "cell_type": "code",
   "execution_count": 21,
   "metadata": {
    "colab": {
     "base_uri": "https://localhost:8080/"
    },
    "id": "yBB7SbAyFKK2",
    "outputId": "e02ded76-de7d-40a1-83a4-349fe3307f0e"
   },
   "outputs": [
    {
     "data": {
      "text/html": [
       "<div>\n",
       "<style scoped>\n",
       "    .dataframe tbody tr th:only-of-type {\n",
       "        vertical-align: middle;\n",
       "    }\n",
       "\n",
       "    .dataframe tbody tr th {\n",
       "        vertical-align: top;\n",
       "    }\n",
       "\n",
       "    .dataframe thead th {\n",
       "        text-align: right;\n",
       "    }\n",
       "</style>\n",
       "<table border=\"1\" class=\"dataframe\">\n",
       "  <thead>\n",
       "    <tr style=\"text-align: right;\">\n",
       "      <th></th>\n",
       "      <th>name</th>\n",
       "      <th>platform</th>\n",
       "      <th>year_of_release</th>\n",
       "      <th>genre</th>\n",
       "      <th>na_sales</th>\n",
       "      <th>eu_sales</th>\n",
       "      <th>jp_sales</th>\n",
       "      <th>other_sales</th>\n",
       "      <th>critic_score</th>\n",
       "      <th>user_score</th>\n",
       "      <th>rating</th>\n",
       "    </tr>\n",
       "  </thead>\n",
       "  <tbody>\n",
       "    <tr>\n",
       "      <th>119</th>\n",
       "      <td>Zumba Fitness</td>\n",
       "      <td>Wii</td>\n",
       "      <td>2010.0</td>\n",
       "      <td>Sports</td>\n",
       "      <td>3.45</td>\n",
       "      <td>2.59</td>\n",
       "      <td>0.0</td>\n",
       "      <td>0.66</td>\n",
       "      <td>-10.0</td>\n",
       "      <td>tbd</td>\n",
       "      <td>E</td>\n",
       "    </tr>\n",
       "    <tr>\n",
       "      <th>301</th>\n",
       "      <td>Namco Museum: 50th Anniversary</td>\n",
       "      <td>PS2</td>\n",
       "      <td>2005.0</td>\n",
       "      <td>Misc</td>\n",
       "      <td>2.08</td>\n",
       "      <td>1.35</td>\n",
       "      <td>0.0</td>\n",
       "      <td>0.54</td>\n",
       "      <td>61.0</td>\n",
       "      <td>tbd</td>\n",
       "      <td>E10+</td>\n",
       "    </tr>\n",
       "    <tr>\n",
       "      <th>520</th>\n",
       "      <td>Zumba Fitness 2</td>\n",
       "      <td>Wii</td>\n",
       "      <td>2011.0</td>\n",
       "      <td>Sports</td>\n",
       "      <td>1.51</td>\n",
       "      <td>1.03</td>\n",
       "      <td>0.0</td>\n",
       "      <td>0.27</td>\n",
       "      <td>-10.0</td>\n",
       "      <td>tbd</td>\n",
       "      <td>T</td>\n",
       "    </tr>\n",
       "    <tr>\n",
       "      <th>645</th>\n",
       "      <td>uDraw Studio</td>\n",
       "      <td>Wii</td>\n",
       "      <td>2010.0</td>\n",
       "      <td>Misc</td>\n",
       "      <td>1.65</td>\n",
       "      <td>0.57</td>\n",
       "      <td>0.0</td>\n",
       "      <td>0.20</td>\n",
       "      <td>71.0</td>\n",
       "      <td>tbd</td>\n",
       "      <td>E</td>\n",
       "    </tr>\n",
       "    <tr>\n",
       "      <th>718</th>\n",
       "      <td>Just Dance Kids</td>\n",
       "      <td>Wii</td>\n",
       "      <td>2010.0</td>\n",
       "      <td>Misc</td>\n",
       "      <td>1.52</td>\n",
       "      <td>0.54</td>\n",
       "      <td>0.0</td>\n",
       "      <td>0.18</td>\n",
       "      <td>-10.0</td>\n",
       "      <td>tbd</td>\n",
       "      <td>E</td>\n",
       "    </tr>\n",
       "  </tbody>\n",
       "</table>\n",
       "</div>"
      ],
      "text/plain": [
       "                               name platform  year_of_release   genre  \\\n",
       "119                   Zumba Fitness      Wii           2010.0  Sports   \n",
       "301  Namco Museum: 50th Anniversary      PS2           2005.0    Misc   \n",
       "520                 Zumba Fitness 2      Wii           2011.0  Sports   \n",
       "645                    uDraw Studio      Wii           2010.0    Misc   \n",
       "718                 Just Dance Kids      Wii           2010.0    Misc   \n",
       "\n",
       "     na_sales  eu_sales  jp_sales  other_sales  critic_score user_score rating  \n",
       "119      3.45      2.59       0.0         0.66         -10.0        tbd      E  \n",
       "301      2.08      1.35       0.0         0.54          61.0        tbd   E10+  \n",
       "520      1.51      1.03       0.0         0.27         -10.0        tbd      T  \n",
       "645      1.65      0.57       0.0         0.20          71.0        tbd      E  \n",
       "718      1.52      0.54       0.0         0.18         -10.0        tbd      E  "
      ]
     },
     "execution_count": 21,
     "metadata": {},
     "output_type": "execute_result"
    }
   ],
   "source": [
    "games[games['user_score'] == 'tbd'].head()"
   ]
  },
  {
   "cell_type": "code",
   "execution_count": 22,
   "metadata": {
    "colab": {
     "base_uri": "https://localhost:8080/"
    },
    "id": "tmEy9bGgHcFT",
    "outputId": "c83ac902-3dfd-43cb-9606-f814ff469387"
   },
   "outputs": [
    {
     "data": {
      "text/plain": [
       "0.14449039163220628"
      ]
     },
     "execution_count": 22,
     "metadata": {},
     "output_type": "execute_result"
    }
   ],
   "source": [
    "# процент строк с аббревиатурой 'tbd'.\n",
    "len(games[games['user_score'] == 'tbd'])/len(games)"
   ]
  },
  {
   "cell_type": "markdown",
   "metadata": {
    "id": "Vl-nzVWoHRfs"
   },
   "source": [
    "Аббревиатура 'tbd' практически ничем не отличается от пропуска, при этом таких значений - 14,5%. Заменим указанные значения на значение-заглушку, например отрицательное число (-10)."
   ]
  },
  {
   "cell_type": "code",
   "execution_count": 23,
   "metadata": {
    "colab": {
     "base_uri": "https://localhost:8080/"
    },
    "id": "6S8c4ds4GDLL",
    "outputId": "ad0ed18c-3666-4f12-9d08-aa379bd77d1e"
   },
   "outputs": [
    {
     "data": {
      "text/plain": [
       "array([  8. , -10. ,   8.3,   8.5,   6.6,   8.4,   8.6,   7.7,   6.3,\n",
       "         7.4,   8.2,   9. ,   7.9,   8.1,   8.7,   7.1,   3.4,   5.3,\n",
       "         4.8,   3.2,   8.9,   6.4,   7.8,   7.5,   2.6,   7.2,   9.2,\n",
       "         7. ,   7.3,   4.3,   7.6,   5.7,   5. ,   9.1,   6.5,   8.8,\n",
       "         6.9,   9.4,   6.8,   6.1,   6.7,   5.4,   4. ,   4.9,   4.5,\n",
       "         9.3,   6.2,   4.2,   6. ,   3.7,   4.1,   5.8,   5.6,   5.5,\n",
       "         4.4,   4.6,   5.9,   3.9,   3.1,   2.9,   5.2,   3.3,   4.7,\n",
       "         5.1,   3.5,   2.5,   1.9,   3. ,   2.7,   2.2,   2. ,   9.5,\n",
       "         2.1,   3.6,   2.8,   1.8,   3.8,   0. ,   1.6,   9.6,   2.4,\n",
       "         1.7,   1.1,   0.3,   1.5,   0.7,   1.2,   2.3,   0.5,   1.3,\n",
       "         0.2,   0.6,   1.4,   0.9,   1. ,   9.7])"
      ]
     },
     "execution_count": 23,
     "metadata": {},
     "output_type": "execute_result"
    }
   ],
   "source": [
    "# games['user_score'].unique()\n",
    "games['user_score'] = games['user_score'].replace('tbd', np.NaN)\n",
    "# также заменим значения NaN на -10\n",
    "games['user_score'] = games['user_score'].replace(np.NaN, -10)\n",
    "# преобразуем данный столбец к целочисленному значению\n",
    "games['user_score'] = games['user_score'].astype('float')\n",
    "games['user_score'].unique()"
   ]
  },
  {
   "cell_type": "code",
   "execution_count": 24,
   "metadata": {
    "id": "l6QZi8n-KTlP"
   },
   "outputs": [],
   "source": [
    "# приведем типы данных столбца year_of_release на целочисленный\n",
    "games['year_of_release'] = games['year_of_release'].astype('int')"
   ]
  },
  {
   "cell_type": "code",
   "execution_count": 26,
   "metadata": {},
   "outputs": [
    {
     "data": {
      "text/html": [
       "<div>\n",
       "<style scoped>\n",
       "    .dataframe tbody tr th:only-of-type {\n",
       "        vertical-align: middle;\n",
       "    }\n",
       "\n",
       "    .dataframe tbody tr th {\n",
       "        vertical-align: top;\n",
       "    }\n",
       "\n",
       "    .dataframe thead th {\n",
       "        text-align: right;\n",
       "    }\n",
       "</style>\n",
       "<table border=\"1\" class=\"dataframe\">\n",
       "  <thead>\n",
       "    <tr style=\"text-align: right;\">\n",
       "      <th></th>\n",
       "      <th>name</th>\n",
       "      <th>platform</th>\n",
       "      <th>year_of_release</th>\n",
       "      <th>genre</th>\n",
       "      <th>na_sales</th>\n",
       "      <th>eu_sales</th>\n",
       "      <th>jp_sales</th>\n",
       "      <th>other_sales</th>\n",
       "      <th>critic_score</th>\n",
       "      <th>user_score</th>\n",
       "      <th>rating</th>\n",
       "      <th>total_sales</th>\n",
       "    </tr>\n",
       "  </thead>\n",
       "  <tbody>\n",
       "    <tr>\n",
       "      <th>0</th>\n",
       "      <td>Wii Sports</td>\n",
       "      <td>Wii</td>\n",
       "      <td>2006</td>\n",
       "      <td>Sports</td>\n",
       "      <td>41.36</td>\n",
       "      <td>28.96</td>\n",
       "      <td>3.77</td>\n",
       "      <td>8.45</td>\n",
       "      <td>76.0</td>\n",
       "      <td>8.0</td>\n",
       "      <td>E</td>\n",
       "      <td>82.54</td>\n",
       "    </tr>\n",
       "    <tr>\n",
       "      <th>1</th>\n",
       "      <td>Super Mario Bros.</td>\n",
       "      <td>NES</td>\n",
       "      <td>1985</td>\n",
       "      <td>Platform</td>\n",
       "      <td>29.08</td>\n",
       "      <td>3.58</td>\n",
       "      <td>6.81</td>\n",
       "      <td>0.77</td>\n",
       "      <td>-10.0</td>\n",
       "      <td>-10.0</td>\n",
       "      <td>Unknown</td>\n",
       "      <td>40.24</td>\n",
       "    </tr>\n",
       "    <tr>\n",
       "      <th>2</th>\n",
       "      <td>Mario Kart Wii</td>\n",
       "      <td>Wii</td>\n",
       "      <td>2008</td>\n",
       "      <td>Racing</td>\n",
       "      <td>15.68</td>\n",
       "      <td>12.76</td>\n",
       "      <td>3.79</td>\n",
       "      <td>3.29</td>\n",
       "      <td>82.0</td>\n",
       "      <td>8.3</td>\n",
       "      <td>E</td>\n",
       "      <td>35.52</td>\n",
       "    </tr>\n",
       "    <tr>\n",
       "      <th>3</th>\n",
       "      <td>Wii Sports Resort</td>\n",
       "      <td>Wii</td>\n",
       "      <td>2009</td>\n",
       "      <td>Sports</td>\n",
       "      <td>15.61</td>\n",
       "      <td>10.93</td>\n",
       "      <td>3.28</td>\n",
       "      <td>2.95</td>\n",
       "      <td>80.0</td>\n",
       "      <td>8.0</td>\n",
       "      <td>E</td>\n",
       "      <td>32.77</td>\n",
       "    </tr>\n",
       "    <tr>\n",
       "      <th>4</th>\n",
       "      <td>Pokemon Red/Pokemon Blue</td>\n",
       "      <td>GB</td>\n",
       "      <td>1996</td>\n",
       "      <td>Role-Playing</td>\n",
       "      <td>11.27</td>\n",
       "      <td>8.89</td>\n",
       "      <td>10.22</td>\n",
       "      <td>1.00</td>\n",
       "      <td>-10.0</td>\n",
       "      <td>-10.0</td>\n",
       "      <td>Unknown</td>\n",
       "      <td>31.38</td>\n",
       "    </tr>\n",
       "  </tbody>\n",
       "</table>\n",
       "</div>"
      ],
      "text/plain": [
       "                       name platform  year_of_release         genre  na_sales  \\\n",
       "0                Wii Sports      Wii             2006        Sports     41.36   \n",
       "1         Super Mario Bros.      NES             1985      Platform     29.08   \n",
       "2            Mario Kart Wii      Wii             2008        Racing     15.68   \n",
       "3         Wii Sports Resort      Wii             2009        Sports     15.61   \n",
       "4  Pokemon Red/Pokemon Blue       GB             1996  Role-Playing     11.27   \n",
       "\n",
       "   eu_sales  jp_sales  other_sales  critic_score  user_score   rating  \\\n",
       "0     28.96      3.77         8.45          76.0         8.0        E   \n",
       "1      3.58      6.81         0.77         -10.0       -10.0  Unknown   \n",
       "2     12.76      3.79         3.29          82.0         8.3        E   \n",
       "3     10.93      3.28         2.95          80.0         8.0        E   \n",
       "4      8.89     10.22         1.00         -10.0       -10.0  Unknown   \n",
       "\n",
       "   total_sales  \n",
       "0        82.54  \n",
       "1        40.24  \n",
       "2        35.52  \n",
       "3        32.77  \n",
       "4        31.38  "
      ]
     },
     "execution_count": 26,
     "metadata": {},
     "output_type": "execute_result"
    }
   ],
   "source": [
    "games.head()"
   ]
  },
  {
   "cell_type": "code",
   "execution_count": 27,
   "metadata": {
    "colab": {
     "base_uri": "https://localhost:8080/"
    },
    "id": "Ut89yBBjJYpX",
    "outputId": "66485d77-de30-4458-9bdd-4e8213321925"
   },
   "outputs": [
    {
     "name": "stdout",
     "output_type": "stream",
     "text": [
      "<class 'pandas.core.frame.DataFrame'>\n",
      "Int64Index: 16444 entries, 0 to 16714\n",
      "Data columns (total 12 columns):\n",
      " #   Column           Non-Null Count  Dtype  \n",
      "---  ------           --------------  -----  \n",
      " 0   name             16444 non-null  object \n",
      " 1   platform         16444 non-null  object \n",
      " 2   year_of_release  16444 non-null  int64  \n",
      " 3   genre            16444 non-null  object \n",
      " 4   na_sales         16444 non-null  float64\n",
      " 5   eu_sales         16444 non-null  float64\n",
      " 6   jp_sales         16444 non-null  float64\n",
      " 7   other_sales      16444 non-null  float64\n",
      " 8   critic_score     16444 non-null  float64\n",
      " 9   user_score       16444 non-null  float64\n",
      " 10  rating           16444 non-null  object \n",
      " 11  total_sales      16444 non-null  float64\n",
      "dtypes: float64(7), int64(1), object(4)\n",
      "memory usage: 1.6+ MB\n"
     ]
    }
   ],
   "source": [
    "games.info()"
   ]
  },
  {
   "cell_type": "markdown",
   "metadata": {
    "id": "wzIY1sQWWLVY"
   },
   "source": [
    "### Вывод:\n",
    "Данные в датасетах преобразованы для дальнейшего использования, были обработаны пропуски, в некоторых случаях строки были удалены за ненадобностью, в некоторых пропуски были заменены на значение заглушку (-10), также были расчитаны суммарные продажи по регионам и записаны в отдельный столбец 'total_sales'"
   ]
  },
  {
   "cell_type": "markdown",
   "metadata": {},
   "source": [
    "# Исследовательский анализ данных"
   ]
  },
  {
   "cell_type": "markdown",
   "metadata": {
    "id": "TddKPpv0XEsH"
   },
   "source": [
    "## Cколько игр выпускалось в разные годы. Важны ли данные за все периоды?"
   ]
  },
  {
   "cell_type": "code",
   "execution_count": 28,
   "metadata": {
    "colab": {
     "base_uri": "https://localhost:8080/"
    },
    "id": "4XHYOcqMpLUL",
    "outputId": "83974399-7050-4d25-fd69-ce5eca883e92"
   },
   "outputs": [
    {
     "data": {
      "image/png": "[encoded data removed]",
      "text/plain": [
       "<Figure size 936x576 with 1 Axes>"
      ]
     },
     "metadata": {
      "needs_background": "light"
     },
     "output_type": "display_data"
    }
   ],
   "source": [
    "# Построим график зависимости количества игр от года выпуска\n",
    "platform_sales = games.pivot_table(index='year_of_release', values='total_sales', aggfunc='count').plot(grid=True, figsize=(13, 8))"
   ]
  },
  {
   "cell_type": "markdown",
   "metadata": {
    "id": "k8qdQpYYbkpk"
   },
   "source": [
    "## Вывод\n",
    "\n",
    "Из графика можно предположить, что начиная с 2000 года начался рост количества игр, с 2002 по 2004 выявлен небольшой \"застой\", а затем резкий скачок до 2008-2009г, где наблюдался пик количества игр, затем наступил спад количества вплоть до 2016г. Таким образом, актуальными являются данные за прошедшие 10 лет, которые отражают как взлет, так и падение количества игр."
   ]
  },
  {
   "cell_type": "markdown",
   "metadata": {
    "id": "pYhbN7TzrKg-"
   },
   "source": [
    "## Как менялись продажи по платформам. \n",
    "Как менялись продажи по платформам. Выберите платформы с наибольшими суммарными продажами и постройте распределение по годам. За какой характерный срок появляются новые и исчезают старые платформы?"
   ]
  },
  {
   "cell_type": "code",
   "execution_count": 29,
   "metadata": {},
   "outputs": [
    {
     "data": {
      "image/png": "[encoded data removed]",
      "text/plain": [
       "<Figure size 432x288 with 1 Axes>"
      ]
     },
     "metadata": {
      "needs_background": "light"
     },
     "output_type": "display_data"
    }
   ],
   "source": [
    "# Построим график зависимости продаж по платформам\n",
    "platform_sales = games.pivot_table(index='platform', values='total_sales', aggfunc='sum').sort_values('total_sales', ascending=False).plot(kind='bar')"
   ]
  },
  {
   "cell_type": "markdown",
   "metadata": {
    "id": "CdbA4jFjtYqL"
   },
   "source": [
    "# Какие выводы можно сделать по платформам? Что видим на графике?\n",
    "\n",
    "Из данного графика можно выделить несколько платформ с наибольшими суммарными продажами, например, PS2, X360, PS3, Wii, DS, PS. Данные 6 платформ выделяются от всех остальных наибольшими суммарными продажами.\n"
   ]
  },
  {
   "cell_type": "markdown",
   "metadata": {},
   "source": [
    "###### Посмотрим, как менялись продажи по платформам с максимальным количеством продаж, построим распределение по годам."
   ]
  },
  {
   "cell_type": "code",
   "execution_count": 30,
   "metadata": {
    "scrolled": true
   },
   "outputs": [
    {
     "data": {
      "text/plain": [
       "<AxesSubplot:xlabel='year_of_release'>"
      ]
     },
     "execution_count": 30,
     "metadata": {},
     "output_type": "execute_result"
    },
    {
     "data": {
      "image/png": "[encoded data removed]",
      "text/plain": [
       "<Figure size 432x288 with 1 Axes>"
      ]
     },
     "metadata": {
      "needs_background": "light"
     },
     "output_type": "display_data"
    }
   ],
   "source": [
    "# Продажи по платформe PS2, распределение по годам.\n",
    "games.query('platform == \"PS2\"').pivot_table(index='year_of_release', values='total_sales', aggfunc='sum').plot(kind='bar')"
   ]
  },
  {
   "cell_type": "markdown",
   "metadata": {},
   "source": [
    "По платформе PS2 пик продаж наблюдался в период 2001-2005гг., затем следует спад, в 2011г. продажи прекратились, в настоящее время платформа не актуальна."
   ]
  },
  {
   "cell_type": "code",
   "execution_count": 31,
   "metadata": {
    "scrolled": false
   },
   "outputs": [
    {
     "data": {
      "text/plain": [
       "<AxesSubplot:xlabel='year_of_release'>"
      ]
     },
     "execution_count": 31,
     "metadata": {},
     "output_type": "execute_result"
    },
    {
     "data": {
      "image/png": "[encoded data removed]",
      "text/plain": [
       "<Figure size 432x288 with 1 Axes>"
      ]
     },
     "metadata": {
      "needs_background": "light"
     },
     "output_type": "display_data"
    }
   ],
   "source": [
    "# Продажи по платформe X360, распределение по годам.\n",
    "games.query('platform == \"X360\"').pivot_table(index='year_of_release', values='total_sales', aggfunc='sum').plot(kind='bar')"
   ]
  },
  {
   "cell_type": "markdown",
   "metadata": {},
   "source": [
    "По платформе X360 продажи стартовали с 2005г, пик продаж наблюдался в период 2010-2011гг., затем следует спад. Даже учитывая, что за 2016г. неполные данные, можно сделать вывод, что в настоящее время платформа не актуальна."
   ]
  },
  {
   "cell_type": "code",
   "execution_count": 32,
   "metadata": {
    "scrolled": true
   },
   "outputs": [
    {
     "data": {
      "text/plain": [
       "<AxesSubplot:xlabel='year_of_release'>"
      ]
     },
     "execution_count": 32,
     "metadata": {},
     "output_type": "execute_result"
    },
    {
     "data": {
      "image/png": "[encoded data removed]",
      "text/plain": [
       "<Figure size 432x288 with 1 Axes>"
      ]
     },
     "metadata": {
      "needs_background": "light"
     },
     "output_type": "display_data"
    }
   ],
   "source": [
    "# Продажи по платформe PS3, распределение по годам.\n",
    "games.query('platform == \"PS3\"').pivot_table(index='year_of_release', values='total_sales', aggfunc='sum').plot(kind='bar')"
   ]
  },
  {
   "cell_type": "markdown",
   "metadata": {},
   "source": [
    "По платформе PS3 продажи стартовали с 2006г, пик продаж наблюдался в период 2009-2011гг., затем следует спад. В 2015-2016гг. продажи данной платформы имеют минимальные значения."
   ]
  },
  {
   "cell_type": "code",
   "execution_count": 33,
   "metadata": {
    "scrolled": true
   },
   "outputs": [
    {
     "data": {
      "text/plain": [
       "<AxesSubplot:xlabel='year_of_release'>"
      ]
     },
     "execution_count": 33,
     "metadata": {},
     "output_type": "execute_result"
    },
    {
     "data": {
      "image/png": "[encoded data removed]",
      "text/plain": [
       "<Figure size 432x288 with 1 Axes>"
      ]
     },
     "metadata": {
      "needs_background": "light"
     },
     "output_type": "display_data"
    }
   ],
   "source": [
    "# Продажи по платформe Wii, распределение по годам.\n",
    "games.query('platform == \"Wii\"').pivot_table(index='year_of_release', values='total_sales', aggfunc='sum').plot(kind='bar')"
   ]
  },
  {
   "cell_type": "markdown",
   "metadata": {},
   "source": [
    "По платформе Wii продажи начались в 2006г., очень быстро достигли своего максимума в 2008-2009, затем следует спад, в 2014-2015г. продажи практически прекратились, в настоящее время платформа не актуальна."
   ]
  },
  {
   "cell_type": "code",
   "execution_count": 34,
   "metadata": {
    "scrolled": true
   },
   "outputs": [
    {
     "data": {
      "text/plain": [
       "<AxesSubplot:xlabel='year_of_release'>"
      ]
     },
     "execution_count": 34,
     "metadata": {},
     "output_type": "execute_result"
    },
    {
     "data": {
      "image/png": "[encoded data removed]",
      "text/plain": [
       "<Figure size 432x288 with 1 Axes>"
      ]
     },
     "metadata": {
      "needs_background": "light"
     },
     "output_type": "display_data"
    }
   ],
   "source": [
    "# Продажи по платформe DS, распределение по годам.\n",
    "games.query('platform == \"DS\"').pivot_table(index='year_of_release', values='total_sales', aggfunc='sum').plot(kind='bar')"
   ]
  },
  {
   "cell_type": "markdown",
   "metadata": {},
   "source": [
    "По платформе DS продажи начались в 2004г., очень быстро достигли своего максимума в 2005-2008, затем следует спад, в 2013 продажи практически прекратились, в настоящее время платформа не актуальна."
   ]
  },
  {
   "cell_type": "code",
   "execution_count": 35,
   "metadata": {
    "scrolled": true
   },
   "outputs": [
    {
     "data": {
      "text/plain": [
       "<AxesSubplot:xlabel='year_of_release'>"
      ]
     },
     "execution_count": 35,
     "metadata": {},
     "output_type": "execute_result"
    },
    {
     "data": {
      "image/png": "[encoded data removed]",
      "text/plain": [
       "<Figure size 432x288 with 1 Axes>"
      ]
     },
     "metadata": {
      "needs_background": "light"
     },
     "output_type": "display_data"
    }
   ],
   "source": [
    "# Продажи по платформe PS, распределение по годам.\n",
    "games.query('platform == \"PS\"').pivot_table(index='year_of_release', values='total_sales', aggfunc='sum').plot(kind='bar')"
   ]
  },
  {
   "cell_type": "markdown",
   "metadata": {},
   "source": [
    "Данная платформа PS самая \"старая\" из рассматриваемых, продажи начались в 1994г., своего максимума достигли в 1997-1999гг, затем идет спад продаж, в 2003 продажи практически прекратились, в настоящее время платформа не актуальна."
   ]
  },
  {
   "cell_type": "markdown",
   "metadata": {},
   "source": [
    "### Возьмите данные за соответствующий актуальный период."
   ]
  },
  {
   "cell_type": "markdown",
   "metadata": {},
   "source": [
    "В целях формирования прогноза на 2017 года имеет смысл проводить анализ по последние 2-3 года и сохранением данных за 2016г, использование более \"старых\" данных не имеет практического смысла. "
   ]
  },
  {
   "cell_type": "code",
   "execution_count": 36,
   "metadata": {
    "id": "xvaS054Lvp9r"
   },
   "outputs": [],
   "source": [
    "# отрезаем данные до 2014г. и сохраним данные за 2014, 2015, 2016гг. в таблице games_fresh\n",
    "games_fresh = games.query('year_of_release >= 2014').copy()"
   ]
  },
  {
   "cell_type": "markdown",
   "metadata": {
    "id": "YewEt2EYv_QE"
   },
   "source": [
    "## Какие платформы лидируют по продажам, растут или падают?"
   ]
  },
  {
   "cell_type": "code",
   "execution_count": 37,
   "metadata": {
    "colab": {
     "base_uri": "https://localhost:8080/",
     "height": 513
    },
    "id": "8ajXqccdwsZF",
    "outputId": "33ab2a94-612c-4fea-b75e-3b545a5330cb",
    "scrolled": true
   },
   "outputs": [
    {
     "data": {
      "image/png": "[encoded data removed]",
      "text/plain": [
       "<Figure size 432x288 with 1 Axes>"
      ]
     },
     "metadata": {
      "needs_background": "light"
     },
     "output_type": "display_data"
    }
   ],
   "source": [
    "# построим график зависимости продаж от типа платформ за актуальный период 2014-2016\n",
    "platform_sales_fresh = games_fresh.pivot_table(index='platform', values='total_sales', aggfunc='sum').sort_values('total_sales', ascending=False).plot(kind='bar')"
   ]
  },
  {
   "cell_type": "markdown",
   "metadata": {},
   "source": [
    "**Из данного графика можно сделать вывод, что за актуальный период лидируют по продажам платформы PS4, XOne, 3DS. Далее построим распределение платформ по годам.**"
   ]
  },
  {
   "cell_type": "code",
   "execution_count": 38,
   "metadata": {
    "scrolled": true
   },
   "outputs": [
    {
     "data": {
      "text/plain": [
       "<AxesSubplot:xlabel='year_of_release'>"
      ]
     },
     "execution_count": 38,
     "metadata": {},
     "output_type": "execute_result"
    },
    {
     "data": {
      "image/png": "[encoded data removed]",
      "text/plain": [
       "<Figure size 432x288 with 1 Axes>"
      ]
     },
     "metadata": {
      "needs_background": "light"
     },
     "output_type": "display_data"
    }
   ],
   "source": [
    "# Продажи по платформe PS4, распределение по годам.\n",
    "games_fresh.query('platform == \"PS4\"').pivot_table(index='year_of_release', values='total_sales', aggfunc='sum').plot(kind='bar')"
   ]
  },
  {
   "cell_type": "markdown",
   "metadata": {},
   "source": [
    "**Учитывая что данные за 2016г. неполные, можно сделать вывод, что по данной платформе продажи находятся на одном уровне, ее стабильно много покупают последние три года.**"
   ]
  },
  {
   "cell_type": "code",
   "execution_count": 39,
   "metadata": {
    "scrolled": true
   },
   "outputs": [
    {
     "data": {
      "text/plain": [
       "<AxesSubplot:xlabel='year_of_release'>"
      ]
     },
     "execution_count": 39,
     "metadata": {},
     "output_type": "execute_result"
    },
    {
     "data": {
      "image/png": "[encoded data removed]",
      "text/plain": [
       "<Figure size 432x288 with 1 Axes>"
      ]
     },
     "metadata": {
      "needs_background": "light"
     },
     "output_type": "display_data"
    }
   ],
   "source": [
    "# Продажи по платформe XOne, распределение по годам.\n",
    "games_fresh.query('platform == \"XOne\"').pivot_table(index='year_of_release', values='total_sales', aggfunc='sum').plot(kind='bar')"
   ]
  },
  {
   "cell_type": "markdown",
   "metadata": {},
   "source": [
    "**Также учитывая неполноту данных за 2016г., продажи находятся на одном уровне, ее стабильно покупают последние три года, но количество продаж в 2 раза меньше платформы PS4.**"
   ]
  },
  {
   "cell_type": "code",
   "execution_count": 40,
   "metadata": {
    "scrolled": true
   },
   "outputs": [
    {
     "data": {
      "text/plain": [
       "<AxesSubplot:xlabel='year_of_release'>"
      ]
     },
     "execution_count": 40,
     "metadata": {},
     "output_type": "execute_result"
    },
    {
     "data": {
      "image/png": "[encoded data removed]",
      "text/plain": [
       "<Figure size 432x288 with 1 Axes>"
      ]
     },
     "metadata": {
      "needs_background": "light"
     },
     "output_type": "display_data"
    }
   ],
   "source": [
    "# Продажи по платформe 3DS, распределение по годам.\n",
    "games_fresh.query('platform == \"3DS\"').pivot_table(index='year_of_release', values='total_sales', aggfunc='sum').plot(kind='bar')"
   ]
  },
  {
   "cell_type": "markdown",
   "metadata": {},
   "source": [
    "**По данной платформе наблюдается незначительный спад продаж, около 30 процентов ежегодно.**"
   ]
  },
  {
   "cell_type": "code",
   "execution_count": 41,
   "metadata": {
    "scrolled": true
   },
   "outputs": [
    {
     "data": {
      "text/plain": [
       "<AxesSubplot:xlabel='year_of_release'>"
      ]
     },
     "execution_count": 41,
     "metadata": {},
     "output_type": "execute_result"
    },
    {
     "data": {
      "image/png": "[encoded data removed]",
      "text/plain": [
       "<Figure size 432x288 with 1 Axes>"
      ]
     },
     "metadata": {
      "needs_background": "light"
     },
     "output_type": "display_data"
    }
   ],
   "source": [
    "# Продажи по платформe PS3, распределение по годам.\n",
    "games_fresh.query('platform == \"PS3\"').pivot_table(index='year_of_release', values='total_sales', aggfunc='sum').plot(kind='bar')"
   ]
  },
  {
   "cell_type": "markdown",
   "metadata": {},
   "source": [
    "**Из графика видно, что в 2015г. продажи резко упали относительно 2014г., а в 2016г. продажи практически прекратились. На смену данной платформе PS3 пришла более современная PS4.**"
   ]
  },
  {
   "cell_type": "code",
   "execution_count": 42,
   "metadata": {
    "scrolled": true
   },
   "outputs": [
    {
     "data": {
      "text/plain": [
       "<AxesSubplot:xlabel='year_of_release'>"
      ]
     },
     "execution_count": 42,
     "metadata": {},
     "output_type": "execute_result"
    },
    {
     "data": {
      "image/png": "[encoded data removed]",
      "text/plain": [
       "<Figure size 432x288 with 1 Axes>"
      ]
     },
     "metadata": {
      "needs_background": "light"
     },
     "output_type": "display_data"
    }
   ],
   "source": [
    "# Продажи по платформe X360, распределение по годам.\n",
    "games_fresh.query('platform == \"X360\"').pivot_table(index='year_of_release', values='total_sales', aggfunc='sum').plot(kind='bar')"
   ]
  },
  {
   "cell_type": "markdown",
   "metadata": {},
   "source": [
    "**Аналогичная ситуация наблюдается у данной платфоры, в 2016 ее уже никто не покупает.**"
   ]
  },
  {
   "cell_type": "code",
   "execution_count": 43,
   "metadata": {
    "scrolled": true
   },
   "outputs": [
    {
     "data": {
      "text/plain": [
       "<AxesSubplot:xlabel='year_of_release'>"
      ]
     },
     "execution_count": 43,
     "metadata": {},
     "output_type": "execute_result"
    },
    {
     "data": {
      "image/png": "[encoded data removed]",
      "text/plain": [
       "<Figure size 432x288 with 1 Axes>"
      ]
     },
     "metadata": {
      "needs_background": "light"
     },
     "output_type": "display_data"
    }
   ],
   "source": [
    "# Продажи по платформe WiiU, распределение по годам.\n",
    "games_fresh.query('platform == \"WiiU\"').pivot_table(index='year_of_release', values='total_sales', aggfunc='sum').plot(kind='bar')"
   ]
  },
  {
   "cell_type": "code",
   "execution_count": 44,
   "metadata": {
    "scrolled": true
   },
   "outputs": [
    {
     "data": {
      "text/plain": [
       "<AxesSubplot:xlabel='year_of_release'>"
      ]
     },
     "execution_count": 44,
     "metadata": {},
     "output_type": "execute_result"
    },
    {
     "data": {
      "image/png": "[encoded data removed]",
      "text/plain": [
       "<Figure size 432x288 with 1 Axes>"
      ]
     },
     "metadata": {
      "needs_background": "light"
     },
     "output_type": "display_data"
    }
   ],
   "source": [
    "# Продажи по платформe PC, распределение по годам.\n",
    "games_fresh.query('platform == \"PC\"').pivot_table(index='year_of_release', values='total_sales', aggfunc='sum').plot(kind='bar')"
   ]
  },
  {
   "cell_type": "code",
   "execution_count": 45,
   "metadata": {
    "scrolled": true
   },
   "outputs": [
    {
     "data": {
      "text/plain": [
       "<AxesSubplot:xlabel='year_of_release'>"
      ]
     },
     "execution_count": 45,
     "metadata": {},
     "output_type": "execute_result"
    },
    {
     "data": {
      "image/png": "[encoded data removed]",
      "text/plain": [
       "<Figure size 432x288 with 1 Axes>"
      ]
     },
     "metadata": {
      "needs_background": "light"
     },
     "output_type": "display_data"
    }
   ],
   "source": [
    "# Продажи по платформe PSV, распределение по годам.\n",
    "games_fresh.query('platform == \"PSV\"').pivot_table(index='year_of_release', values='total_sales', aggfunc='sum').plot(kind='bar')"
   ]
  },
  {
   "cell_type": "code",
   "execution_count": 46,
   "metadata": {
    "scrolled": true
   },
   "outputs": [
    {
     "data": {
      "text/plain": [
       "<AxesSubplot:xlabel='year_of_release'>"
      ]
     },
     "execution_count": 46,
     "metadata": {},
     "output_type": "execute_result"
    },
    {
     "data": {
      "image/png": "[encoded data removed]",
      "text/plain": [
       "<Figure size 432x288 with 1 Axes>"
      ]
     },
     "metadata": {
      "needs_background": "light"
     },
     "output_type": "display_data"
    }
   ],
   "source": [
    "# Продажи по платформe Wii, распределение по годам.\n",
    "games_fresh.query('platform == \"Wii\"').pivot_table(index='year_of_release', values='total_sales', aggfunc='sum').plot(kind='bar')"
   ]
  },
  {
   "cell_type": "markdown",
   "metadata": {},
   "source": [
    "**У платформ WiiU, PC, PSV, Wii изначально в 2014г. были относительно небольшие продажи, которые постепенно снижаются в 2015 и продолжают снижаться 2016г.**"
   ]
  },
  {
   "cell_type": "code",
   "execution_count": 47,
   "metadata": {
    "scrolled": true
   },
   "outputs": [
    {
     "data": {
      "text/plain": [
       "<AxesSubplot:xlabel='year_of_release'>"
      ]
     },
     "execution_count": 47,
     "metadata": {},
     "output_type": "execute_result"
    },
    {
     "data": {
      "image/png": "[encoded data removed]",
      "text/plain": [
       "<Figure size 432x288 with 1 Axes>"
      ]
     },
     "metadata": {
      "needs_background": "light"
     },
     "output_type": "display_data"
    }
   ],
   "source": [
    "# Продажи по платформe PSP, распределение по годам.\n",
    "games_fresh.query('platform == \"PSP\"').pivot_table(index='year_of_release', values='total_sales', aggfunc='sum').plot(kind='bar')"
   ]
  },
  {
   "cell_type": "markdown",
   "metadata": {},
   "source": [
    "**По данной платформе продажи в 2016г. прекратились, в настоящее время не актуальна.**"
   ]
  },
  {
   "cell_type": "markdown",
   "metadata": {
    "id": "fcPGIq9uxY1l"
   },
   "source": [
    "## Какие платформы можно оставить для анализа?"
   ]
  },
  {
   "cell_type": "markdown",
   "metadata": {},
   "source": [
    "**По результатам анализа количества продаж платформ за актуальный период, при дальнейшей обработке и анализе имеет смысл не учитывать платформы с минимальными продажами. Минимальные продажи у платформ PS3, X360, Wii, PSP.**"
   ]
  },
  {
   "cell_type": "code",
   "execution_count": 48,
   "metadata": {
    "id": "LZ5xLii1x5do"
   },
   "outputs": [],
   "source": [
    "# games_fresh = games_fresh.query('platform not in[\"PS3\", \"X360\", \"Wii\", \"PSP\"]')\n",
    "# games_fresh['platform'].value_counts() # проверка"
   ]
  },
  {
   "cell_type": "markdown",
   "metadata": {
    "id": "NkBebth6x56B"
   },
   "source": [
    "## График «ящик с усами» по глобальным продажам игр в разбивке по платформам."
   ]
  },
  {
   "cell_type": "code",
   "execution_count": 49,
   "metadata": {
    "scrolled": false
   },
   "outputs": [
    {
     "data": {
      "image/png": "[encoded data removed]",
      "text/plain": [
       "<Figure size 1440x720 with 1 Axes>"
      ]
     },
     "metadata": {
      "needs_background": "light"
     },
     "output_type": "display_data"
    }
   ],
   "source": [
    "# построим график по глобальным продажам игр в разбивке по платформам\n",
    "fig = plt.figure(figsize = (20,10))\n",
    "sns.boxplot(data = games_fresh, y = 'total_sales', x='platform').set(title = 'Продажи по перспективным платформам за 2014-2016 гг', xlabel = 'Платформы', ylabel = 'Общие продажи', ylim=(0, 3))\n",
    "plt.show()"
   ]
  },
  {
   "cell_type": "code",
   "execution_count": 50,
   "metadata": {},
   "outputs": [
    {
     "data": {
      "text/html": [
       "<div>\n",
       "<style scoped>\n",
       "    .dataframe tbody tr th:only-of-type {\n",
       "        vertical-align: middle;\n",
       "    }\n",
       "\n",
       "    .dataframe tbody tr th {\n",
       "        vertical-align: top;\n",
       "    }\n",
       "\n",
       "    .dataframe thead tr th {\n",
       "        text-align: left;\n",
       "    }\n",
       "\n",
       "    .dataframe thead tr:last-of-type th {\n",
       "        text-align: right;\n",
       "    }\n",
       "</style>\n",
       "<table border=\"1\" class=\"dataframe\">\n",
       "  <thead>\n",
       "    <tr>\n",
       "      <th></th>\n",
       "      <th>var</th>\n",
       "      <th>median</th>\n",
       "      <th>mean</th>\n",
       "    </tr>\n",
       "    <tr>\n",
       "      <th></th>\n",
       "      <th>total_sales</th>\n",
       "      <th>total_sales</th>\n",
       "      <th>total_sales</th>\n",
       "    </tr>\n",
       "    <tr>\n",
       "      <th>platform</th>\n",
       "      <th></th>\n",
       "      <th></th>\n",
       "      <th></th>\n",
       "    </tr>\n",
       "  </thead>\n",
       "  <tbody>\n",
       "    <tr>\n",
       "      <th>3DS</th>\n",
       "      <td>1.412219</td>\n",
       "      <td>0.090</td>\n",
       "      <td>0.408868</td>\n",
       "    </tr>\n",
       "    <tr>\n",
       "      <th>PC</th>\n",
       "      <td>0.108477</td>\n",
       "      <td>0.060</td>\n",
       "      <td>0.179139</td>\n",
       "    </tr>\n",
       "    <tr>\n",
       "      <th>PS3</th>\n",
       "      <td>0.400764</td>\n",
       "      <td>0.110</td>\n",
       "      <td>0.311324</td>\n",
       "    </tr>\n",
       "    <tr>\n",
       "      <th>PS4</th>\n",
       "      <td>2.608124</td>\n",
       "      <td>0.185</td>\n",
       "      <td>0.766356</td>\n",
       "    </tr>\n",
       "    <tr>\n",
       "      <th>PSP</th>\n",
       "      <td>0.000769</td>\n",
       "      <td>0.020</td>\n",
       "      <td>0.027692</td>\n",
       "    </tr>\n",
       "    <tr>\n",
       "      <th>PSV</th>\n",
       "      <td>0.020048</td>\n",
       "      <td>0.040</td>\n",
       "      <td>0.075932</td>\n",
       "    </tr>\n",
       "    <tr>\n",
       "      <th>Wii</th>\n",
       "      <td>0.391189</td>\n",
       "      <td>0.180</td>\n",
       "      <td>0.460909</td>\n",
       "    </tr>\n",
       "    <tr>\n",
       "      <th>WiiU</th>\n",
       "      <td>1.349005</td>\n",
       "      <td>0.190</td>\n",
       "      <td>0.588767</td>\n",
       "    </tr>\n",
       "    <tr>\n",
       "      <th>X360</th>\n",
       "      <td>0.395599</td>\n",
       "      <td>0.180</td>\n",
       "      <td>0.434414</td>\n",
       "    </tr>\n",
       "    <tr>\n",
       "      <th>XOne</th>\n",
       "      <td>1.095189</td>\n",
       "      <td>0.205</td>\n",
       "      <td>0.615614</td>\n",
       "    </tr>\n",
       "  </tbody>\n",
       "</table>\n",
       "</div>"
      ],
      "text/plain": [
       "                 var      median        mean\n",
       "         total_sales total_sales total_sales\n",
       "platform                                    \n",
       "3DS         1.412219       0.090    0.408868\n",
       "PC          0.108477       0.060    0.179139\n",
       "PS3         0.400764       0.110    0.311324\n",
       "PS4         2.608124       0.185    0.766356\n",
       "PSP         0.000769       0.020    0.027692\n",
       "PSV         0.020048       0.040    0.075932\n",
       "Wii         0.391189       0.180    0.460909\n",
       "WiiU        1.349005       0.190    0.588767\n",
       "X360        0.395599       0.180    0.434414\n",
       "XOne        1.095189       0.205    0.615614"
      ]
     },
     "execution_count": 50,
     "metadata": {},
     "output_type": "execute_result"
    }
   ],
   "source": [
    "games_fresh.pivot_table(index = 'platform', values = ['total_sales'],aggfunc = ['var', 'median', 'mean'])"
   ]
  },
  {
   "cell_type": "markdown",
   "metadata": {},
   "source": [
    "### Вывод:\n",
    "Из графика «ящик с усами» видно, что практически по всем платформам существуют выбросы дальше третьих квартилей. У платформ PS4, WiiU и XOne одинаковы медианные значения продаж (0.185, 0.190, 0.205 соответственно), также приблизительно равны среднее арифметическое значение продаж (0.766356, 0.588767, 0.615614 соответственно). Из данного анализа следует, что большей популярностью пользуются уже вышеуказанные платформы PS4, WiiU и XOne. "
   ]
  },
  {
   "cell_type": "markdown",
   "metadata": {
    "id": "Z3ZLev4P39Rx"
   },
   "source": [
    "##  Как влияют на продажи внутри одной из популярной платформы отзывы пользователей и критиков. Постройте диаграмму рассеяния и посчитайте корреляцию между отзывами и продажами."
   ]
  },
  {
   "cell_type": "code",
   "execution_count": 51,
   "metadata": {
    "colab": {
     "base_uri": "https://localhost:8080/"
    },
    "id": "hQaVV0y3a0XC",
    "outputId": "1d84fd37-3349-4f11-a268-b3ac9e2a02aa"
   },
   "outputs": [
    {
     "data": {
      "image/png": "[encoded data removed]",
      "text/plain": [
       "<Figure size 432x288 with 1 Axes>"
      ]
     },
     "metadata": {
      "needs_background": "light"
     },
     "output_type": "display_data"
    },
    {
     "data": {
      "image/png": "[encoded data removed]",
      "text/plain": [
       "<Figure size 432x288 with 1 Axes>"
      ]
     },
     "metadata": {
      "needs_background": "light"
     },
     "output_type": "display_data"
    },
    {
     "name": "stdout",
     "output_type": "stream",
     "text": [
      "critic_score    0.401903\n",
      "user_score     -0.043186\n",
      "total_sales     1.000000\n",
      "Name: total_sales, dtype: float64\n"
     ]
    }
   ],
   "source": [
    "# Построим диаграмму рассеяния для платформы PS4, исключим значения-заглушки (-10) в отзывах пользователей и критиков\n",
    "games_platform = games_fresh.query('platform == \"PS4\"')\n",
    "games_platform[games_platform['critic_score'] != -10].plot(kind='scatter', x='critic_score', y='total_sales')\n",
    "games_platform[games_platform['user_score'] != -10].plot(kind='scatter', x='user_score', y='total_sales')\n",
    "plt.show()\n",
    "# Расчет коэффициента корреляции\n",
    "print(games_platform[(games_platform['critic_score'] != -10) & (games_platform['user_score'] != -10)][['critic_score', 'user_score', 'total_sales']].corr()['total_sales'])"
   ]
  },
  {
   "cell_type": "markdown",
   "metadata": {
    "id": "zGAayNV8hbDu"
   },
   "source": [
    "**Оценка критиков для платформы PS4 имеет слабое влияние на продажи (коэфф. 0,4), оценка пользователей на продажи не влияет**"
   ]
  },
  {
   "cell_type": "code",
   "execution_count": 52,
   "metadata": {},
   "outputs": [
    {
     "data": {
      "image/png": "[encoded data removed]",
      "text/plain": [
       "<Figure size 432x288 with 1 Axes>"
      ]
     },
     "metadata": {
      "needs_background": "light"
     },
     "output_type": "display_data"
    },
    {
     "data": {
      "image/png": "[encoded data removed]",
      "text/plain": [
       "<Figure size 432x288 with 1 Axes>"
      ]
     },
     "metadata": {
      "needs_background": "light"
     },
     "output_type": "display_data"
    },
    {
     "name": "stdout",
     "output_type": "stream",
     "text": [
      "critic_score    0.284686\n",
      "user_score      0.279850\n",
      "total_sales     1.000000\n",
      "Name: total_sales, dtype: float64\n"
     ]
    }
   ],
   "source": [
    "# Построим диаграмму рассеяния для платформы 3DS\n",
    "games_platform = games_fresh.query('platform == \"3DS\"')\n",
    "games_platform[games_platform['critic_score'] != -10].plot(kind='scatter', x='critic_score', y='total_sales')\n",
    "games_platform[games_platform['user_score'] != -10].plot(kind='scatter', x='user_score', y='total_sales')\n",
    "plt.show()\n",
    "# Расчет коэффициента корреляции\n",
    "print(games_platform[(games_platform['critic_score'] != -10) & (games_platform['user_score'] != -10)][['critic_score', 'user_score', 'total_sales']].corr()['total_sales'])"
   ]
  },
  {
   "cell_type": "markdown",
   "metadata": {},
   "source": [
    "**Оценка критиков для платформы 3DS имеет очень слабое влияние на продажи (28 процентов), оценка пользователей также имеет очень слабое влияние.**"
   ]
  },
  {
   "cell_type": "code",
   "execution_count": 53,
   "metadata": {
    "scrolled": false
   },
   "outputs": [
    {
     "data": {
      "image/png": "[encoded data removed]",
      "text/plain": [
       "<Figure size 432x288 with 1 Axes>"
      ]
     },
     "metadata": {
      "needs_background": "light"
     },
     "output_type": "display_data"
    },
    {
     "data": {
      "image/png": "[encoded data removed]",
      "text/plain": [
       "<Figure size 432x288 with 1 Axes>"
      ]
     },
     "metadata": {
      "needs_background": "light"
     },
     "output_type": "display_data"
    },
    {
     "name": "stdout",
     "output_type": "stream",
     "text": [
      "critic_score    0.172061\n",
      "user_score     -0.089974\n",
      "total_sales     1.000000\n",
      "Name: total_sales, dtype: float64\n"
     ]
    }
   ],
   "source": [
    "# Построим диаграмму рассеяния для платформы PC\n",
    "games_platform = games_fresh.query('platform == \"PC\"')\n",
    "games_platform[games_platform['critic_score'] != -10].plot(kind='scatter', x='critic_score', y='total_sales')\n",
    "games_platform[games_platform['user_score'] != -10].plot(kind='scatter', x='user_score', y='total_sales')\n",
    "plt.show()\n",
    "# Расчет коэффициента корреляции\n",
    "print(games_platform[(games_platform['critic_score'] != -10) & (games_platform['user_score'] != -10)][['critic_score', 'user_score', 'total_sales']].corr()['total_sales'])"
   ]
  },
  {
   "cell_type": "markdown",
   "metadata": {},
   "source": [
    "**Оценка критиков для платформы PC не имеет влияние на продажи (17 процентов), оценка пользователей на продажи не влияет.**"
   ]
  },
  {
   "cell_type": "code",
   "execution_count": 54,
   "metadata": {
    "scrolled": false
   },
   "outputs": [
    {
     "data": {
      "image/png": "[encoded data removed]",
      "text/plain": [
       "<Figure size 432x288 with 1 Axes>"
      ]
     },
     "metadata": {
      "needs_background": "light"
     },
     "output_type": "display_data"
    },
    {
     "data": {
      "image/png": "[encoded data removed]",
      "text/plain": [
       "<Figure size 432x288 with 1 Axes>"
      ]
     },
     "metadata": {
      "needs_background": "light"
     },
     "output_type": "display_data"
    },
    {
     "name": "stdout",
     "output_type": "stream",
     "text": [
      "critic_score    0.041029\n",
      "user_score      0.023528\n",
      "total_sales     1.000000\n",
      "Name: total_sales, dtype: float64\n"
     ]
    }
   ],
   "source": [
    "# Построим диаграмму рассеяния для платформы PSV\n",
    "games_platform = games_fresh.query('platform == \"PSV\"')\n",
    "games_platform[games_platform['critic_score'] != -10].plot(kind='scatter', x='critic_score', y='total_sales')\n",
    "games_platform[games_platform['user_score'] != -10].plot(kind='scatter', x='user_score', y='total_sales')\n",
    "plt.show()\n",
    "# Расчет коэффициента корреляции\n",
    "print(games_platform[(games_platform['critic_score'] != -10) & (games_platform['user_score'] != -10)][['critic_score', 'user_score', 'total_sales']].corr()['total_sales'])"
   ]
  },
  {
   "cell_type": "markdown",
   "metadata": {},
   "source": [
    "**Оценка критиков для платформы PSV имеет слабое влияние на продажи, оценка пользователей имеет очень слабое влияние**"
   ]
  },
  {
   "cell_type": "code",
   "execution_count": 55,
   "metadata": {},
   "outputs": [
    {
     "data": {
      "image/png": "[encoded data removed]",
      "text/plain": [
       "<Figure size 432x288 with 1 Axes>"
      ]
     },
     "metadata": {
      "needs_background": "light"
     },
     "output_type": "display_data"
    },
    {
     "data": {
      "image/png": "[encoded data removed]",
      "text/plain": [
       "<Figure size 432x288 with 1 Axes>"
      ]
     },
     "metadata": {
      "needs_background": "light"
     },
     "output_type": "display_data"
    },
    {
     "name": "stdout",
     "output_type": "stream",
     "text": [
      "critic_score    0.375640\n",
      "user_score      0.411451\n",
      "total_sales     1.000000\n",
      "Name: total_sales, dtype: float64\n"
     ]
    }
   ],
   "source": [
    "# Построим диаграмму рассеяния для платформы WiiU\n",
    "games_platform = games_fresh.query('platform == \"WiiU\"')\n",
    "games_platform[games_platform['critic_score'] != -10].plot(kind='scatter', x='critic_score', y='total_sales')\n",
    "games_platform[games_platform['user_score'] != -10].plot(kind='scatter', x='user_score', y='total_sales')\n",
    "plt.show()\n",
    "# Расчет коэффициента корреляции\n",
    "print(games_platform[(games_platform['critic_score'] != -10) & (games_platform['user_score'] != -10)][['critic_score', 'user_score', 'total_sales']].corr()['total_sales'])"
   ]
  },
  {
   "cell_type": "markdown",
   "metadata": {},
   "source": [
    "**Оценка критиков для платформы WiiU имеет слабое влияние на продажи, оценка пользователей также имеет слабое влияние**"
   ]
  },
  {
   "cell_type": "code",
   "execution_count": 56,
   "metadata": {},
   "outputs": [
    {
     "data": {
      "image/png": "[encoded data removed]",
      "text/plain": [
       "<Figure size 432x288 with 1 Axes>"
      ]
     },
     "metadata": {
      "needs_background": "light"
     },
     "output_type": "display_data"
    },
    {
     "data": {
      "image/png": "[encoded data removed]",
      "text/plain": [
       "<Figure size 432x288 with 1 Axes>"
      ]
     },
     "metadata": {
      "needs_background": "light"
     },
     "output_type": "display_data"
    },
    {
     "name": "stdout",
     "output_type": "stream",
     "text": [
      "critic_score    0.422112\n",
      "user_score     -0.091734\n",
      "total_sales     1.000000\n",
      "Name: total_sales, dtype: float64\n"
     ]
    }
   ],
   "source": [
    "# Построим диаграмму рассеяния для платформы XOne\n",
    "games_platform = games_fresh.query('platform == \"XOne\"')\n",
    "games_platform[games_platform['critic_score'] != -10].plot(kind='scatter', x='critic_score', y='total_sales')\n",
    "games_platform[games_platform['user_score'] != -10].plot(kind='scatter', x='user_score', y='total_sales')\n",
    "plt.show()\n",
    "# Расчет коэффициента корреляции\n",
    "print(games_platform[(games_platform['critic_score'] != -10) & (games_platform['user_score'] != -10)][['critic_score', 'user_score', 'total_sales']].corr()['total_sales'])"
   ]
  },
  {
   "cell_type": "markdown",
   "metadata": {},
   "source": [
    "**Оценка критиков для платформы XOne имеет слабое влияние на продажи, оценка пользователей на продажи не влияет**"
   ]
  },
  {
   "cell_type": "markdown",
   "metadata": {
    "id": "7JezI1vhBzfG"
   },
   "source": [
    "## Вывод:\n",
    "Из построенных выше диаграмм рассеяния и расчета коэффициента корреляции по каждой платформе между отзывами и продажами видно, что оценки критиков для всех платформ практически не влияют или имеют очень слабое влияние на продажи. Оценки пользователей имеют очень слабое влияние на продажи и не влияют совсем."
   ]
  },
  {
   "cell_type": "markdown",
   "metadata": {
    "id": "Vzy6Zz07B73Z"
   },
   "source": [
    "## Общее распределение игр по жанрам.  Выделяются ли жанры с высокими и низкими продажами?"
   ]
  },
  {
   "cell_type": "code",
   "execution_count": 57,
   "metadata": {
    "colab": {
     "base_uri": "https://localhost:8080/"
    },
    "id": "Bb4h-LM7CR5N",
    "outputId": "b1b2ba5b-768c-4f62-b12e-2414e0d01df1"
   },
   "outputs": [
    {
     "data": {
      "image/png": "[encoded data removed]",
      "text/plain": [
       "<Figure size 936x576 with 1 Axes>"
      ]
     },
     "metadata": {
      "needs_background": "light"
     },
     "output_type": "display_data"
    }
   ],
   "source": [
    "# Построим график распределения продаж по жанрам игр\n",
    "plt.figure(figsize=(13, 8))\n",
    "platform_sales_fresh = games_fresh.pivot_table(index='genre', values='total_sales', aggfunc='sum').sort_values('total_sales', ascending=False)\n",
    "(sns.barplot(data = platform_sales_fresh, x = platform_sales_fresh.index, y = 'total_sales', color = 'green')\n",
    "    .set(title = 'Продажи по жанрам за 2014-2016 гг', xlabel = 'Платформы', ylabel = 'Общие продажи'))\n",
    "plt.show()"
   ]
  },
  {
   "cell_type": "markdown",
   "metadata": {
    "id": "ovf5PZsUbheB"
   },
   "source": [
    "### Вывод\n",
    "\n",
    "Из графика видно, что самыми интересными жанрами являются Action (продажи более 160 млн), Shooter (более 140 млн), Role-Playing (более 90 млн), Sports (около 80 млн), далее следуют жанры с примерно одинаковыми суммарными продажами Misc, Racing, Fighting, Platform, Adventure, Simulation (около 20 млн.)"
   ]
  },
  {
   "cell_type": "markdown",
   "metadata": {
    "id": "thth45uXl4zV"
   },
   "source": [
    "# Составьте портрет пользователя каждого региона (NA, EU, JP)"
   ]
  },
  {
   "cell_type": "markdown",
   "metadata": {},
   "source": [
    "Определите для пользователя каждого региона (NA, EU, JP):\n",
    "- Самые популярные платформы (топ-5). Опишите различия в долях продаж.\n",
    "- Самые популярные жанры (топ-5). Поясните разницу.\n",
    "- Влияет ли рейтинг ESRB на продажи в отдельном регионе?"
   ]
  },
  {
   "cell_type": "markdown",
   "metadata": {},
   "source": [
    "**Определим для пользователей каждого региона (NA, EU, JP) самые популярные платформы**"
   ]
  },
  {
   "cell_type": "code",
   "execution_count": 58,
   "metadata": {
    "scrolled": false
   },
   "outputs": [
    {
     "data": {
      "image/png": "[encoded data removed]",
      "text/plain": [
       "<Figure size 864x576 with 1 Axes>"
      ]
     },
     "metadata": {
      "needs_background": "light"
     },
     "output_type": "display_data"
    }
   ],
   "source": [
    "# сумма проданных копий для Северной Америки по платформам\n",
    "na_platf = games_fresh.groupby(['platform'])['na_sales'].agg(['sum'])\n",
    "# сумма проданных копий для Европы по платформам\n",
    "eu_platf = games_fresh.groupby(['platform'])['eu_sales'].agg(['sum'])\n",
    "# сумма проданных копий для Японии по платформам\n",
    "jp_platf = games_fresh.groupby(['platform'])['jp_sales'].agg(['sum'])\n",
    "# объединяем Series\n",
    "users_platf = pd.concat([na_platf, eu_platf, jp_platf], axis=1).reset_index()\n",
    "users_platf.columns = ['platform', 'american_user', 'europe_user', 'japan_user']\n",
    "users_platf = users_platf.sort_values(by='american_user', ascending=False)\n",
    "# строим bar plot\n",
    "users_platf.plot.bar(x=\"platform\", rot=0, figsize =(12, 8))\n",
    "plt.title('Сравнение популярности платформ в разных странах', fontsize=14)\n",
    "plt.xlabel('Платформы', fontsize=10)\n",
    "plt.ylabel('Продажи, млн шт',fontsize=12)\n",
    "plt.show()"
   ]
  },
  {
   "cell_type": "markdown",
   "metadata": {},
   "source": [
    "Из графика видно: \n",
    "- для пользователей Америки самыми популярными платформами являются PS4 (100 млн. шт) и XOne (более 80 млн. шт), платформы 3DS и WiiU имеют одинаковые кол-во продаж (около 20 млн. шт), самыми не популярными платформами являются PC и PSV.\n",
    "- для пользователей Европы самыми популярными платформами также являются PS4 (130 млн. шт) и XOne (более 50 млн. шт), платформы 3DS, WiiU и PC имеют одинаковые кол-во продаж (около 19 млн. шт), самыми не популярными платформой является PSV.\n",
    "- для пользователей Японии самой популярной платформой является 3DS (около 50 млн. шт), платформы PS4 и PSV имеют одинаковые кол-во продаж (чуть ниже 19 млн. шт), самыми не популярными платформами являются WiiU, XOne и PC."
   ]
  },
  {
   "cell_type": "markdown",
   "metadata": {},
   "source": [
    "**Определим для пользователей каждого региона (NA, EU, JP) самые популярные жанры игр.**"
   ]
  },
  {
   "cell_type": "code",
   "execution_count": 59,
   "metadata": {
    "scrolled": false
   },
   "outputs": [
    {
     "data": {
      "image/png": "[encoded data removed]",
      "text/plain": [
       "<Figure size 1080x576 with 1 Axes>"
      ]
     },
     "metadata": {
      "needs_background": "light"
     },
     "output_type": "display_data"
    }
   ],
   "source": [
    "# сумма проданных копий для Северной Америки по жанрам\n",
    "na_genre = games_fresh.groupby(['genre'])['na_sales'].agg(['sum'])\n",
    "# сумма проданных копий для Европы по жанрам\n",
    "eu_genre = games_fresh.groupby(['genre'])['eu_sales'].agg(['sum'])\n",
    "# сумма проданных копий для Японии по жанрам\n",
    "jp_genre = games_fresh.groupby(['genre'])['jp_sales'].agg(['sum'])\n",
    "# объединяем Series\n",
    "users_genre = pd.concat([na_genre, eu_genre, jp_genre], axis=1).reset_index()\n",
    "users_genre.columns = ['genre', 'american_user', 'europe_user', 'japan_user']\n",
    "users_genre = users_genre.sort_values(by='american_user', ascending=False)\n",
    "# строим bar plot\n",
    "users_genre.plot.bar(x=\"genre\", rot=0, figsize =(15, 8))\n",
    "plt.title('Сравнение популярности жанров в разных странах', fontsize=14)\n",
    "plt.xlabel('Жанры', fontsize=10)\n",
    "plt.ylabel('Продажи, млн шт',fontsize=12)\n",
    "plt.show()"
   ]
  },
  {
   "cell_type": "markdown",
   "metadata": {},
   "source": [
    "### Из графика видно: \n",
    "- для пользователей Америки самыми популярными жанрами являются Shooter (более 60 млн. шт) и Action (60 млн. шт), жанры Sports и Role-Playing имеют одинаковое количество продаж (около 30 млн. шт), самыми не популярными жанрами в Америке являются Strategy и Puzzle.\n",
    "- для пользователей Европы самыми популярными жанрами также являются Action (более 60 млн. шт) и Shooter (более 55 млн. шт), жанры Sports и Role-Playing имеют приблизительно одинаковое количество продаж (около 30 млн. шт), самыми не популярными жанрами в Европе также являются Strategy и Puzzle.\n",
    "- для пользователей Японии самыми популярными жанрами с подавляющим преимуществом являются Role-Playing и Action  (27 млн. шт), затем следуют несолько жанров Fighting, Misc, Adventure, Shooter имеют одинаковые кол-во продаж (около 5 млн. шт), самыми не популярными жанрами в Японии являются Strategy и Puzzle."
   ]
  },
  {
   "cell_type": "markdown",
   "metadata": {},
   "source": [
    "**Определим влияние рейтинга ESRB на продажи в отдельном регионе.**"
   ]
  },
  {
   "cell_type": "code",
   "execution_count": 60,
   "metadata": {
    "scrolled": false
   },
   "outputs": [
    {
     "data": {
      "image/png": "[encoded data removed]",
      "text/plain": [
       "<Figure size 1080x576 with 1 Axes>"
      ]
     },
     "metadata": {
      "needs_background": "light"
     },
     "output_type": "display_data"
    }
   ],
   "source": [
    "# сумма проданных копий для Северной Америки по рейтингу\n",
    "na_rating = games_fresh.groupby(['rating'])['na_sales'].agg(['sum'])\n",
    "# сумма проданных копий для Европы по рейтингу\n",
    "eu_rating = games_fresh.groupby(['rating'])['eu_sales'].agg(['sum'])\n",
    "# сумма проданных копий для Японии по рейтингу\n",
    "jp_rating = games_fresh.groupby(['rating'])['jp_sales'].agg(['sum'])\n",
    "# объединяем Series \n",
    "users_rat = pd.concat([na_rating, eu_rating, jp_rating], axis=1).reset_index()\n",
    "users_rat.columns = ['rating', 'american_user', 'europe_user', 'japan_user']\n",
    "users_rat = users_rat.sort_values(by='american_user', ascending=False)\n",
    "users_rat \n",
    "# строим bar plot\n",
    "users_rat.plot.bar(x=\"rating\", rot=0, figsize =(15, 8))\n",
    "plt.title('Сравнение популярности рейтингов игр в разных странах', fontsize=14)\n",
    "plt.xlabel('Рейтинг', fontsize=10)\n",
    "plt.ylabel('Продажи, млн шт',fontsize=12)\n",
    "plt.show()"
   ]
  },
  {
   "cell_type": "markdown",
   "metadata": {},
   "source": [
    "Из графика видно: \n",
    "- для пользователей Америки и Европы самые популярные игры с рейтингом М (80 млн. шт), затем следуют игры с неопределенным рейтингом Unknown (более 50 млн. шт), далее соответственно с рейтингом Е, Т и Е10+. Можно сказать, что в Америке и Европе пользователи отдают предпочтение одинаковым играм с одним и тем же рейтингом.\n",
    "- для пользователей Японии кардинально иная картина влияния рейтингов игр на продажи. Самыми популярными являются игры с рейтингом Unknown (50 млн. шт), затем с рейтингом Т, Е, М и Е10+."
   ]
  },
  {
   "cell_type": "markdown",
   "metadata": {},
   "source": [
    "## Вывод:\n",
    "В данном пункте проведены исследования для определения портрета пользователя каждого региона. Можно отметить, что предпочтения пользователей Америки и Европы во многом схожи, самыми популярными платформами являются PS4 и XOne, любимые жанры - Shooter и Action, игры с рейтингом М и Unknown. В связи с многочисленностью пользователей в данных регионах бизнесу повышенное внимание в первую очередь стоит обратить на указанные платформы и жанры игр. Предпочтения пользователей из Японии существенно отличаются, самой популярной платформой являются 3DS, любимые жанры - Role-Playing и Action и игры с рейтингом Unknown."
   ]
  },
  {
   "cell_type": "markdown",
   "metadata": {
    "id": "BykTVdoitZxr"
   },
   "source": [
    "# Проверка гипотез"
   ]
  },
  {
   "cell_type": "markdown",
   "metadata": {
    "id": "YJxz31B4t8JF"
   },
   "source": [
    "### Средние пользовательские рейтинги платформ Xbox One и PC одинаковые"
   ]
  },
  {
   "cell_type": "markdown",
   "metadata": {
    "id": "25BNN7-huefx"
   },
   "source": [
    "**Нулевая гипотеза**: Средние пользовательские рейтинги платформ Xbox One и PC одинаковые.\n",
    "\n",
    "**Альтернативная гипотеза**: Средние пользовательские рейтинги платформ Xbox One и PC различаются."
   ]
  },
  {
   "cell_type": "code",
   "execution_count": 61,
   "metadata": {
    "colab": {
     "base_uri": "https://localhost:8080/"
    },
    "id": "oSSqAsCFtdoe",
    "outputId": "2157aff0-e57b-412a-e707-7ab1d4313938"
   },
   "outputs": [
    {
     "name": "stdout",
     "output_type": "stream",
     "text": [
      "p-значение: 0.12481511051825932\n",
      "Не получилось отвергнуть нулевую гипотезу\n"
     ]
    }
   ],
   "source": [
    "# удаляем значения-заглушки\n",
    "games_fresh[games_fresh['user_score'] != -10]\n",
    "\n",
    "results = st.ttest_ind(games_fresh.query('platform == \"XOne\"')['user_score'], games_fresh.query('platform == \"PC\"')['user_score'])\n",
    "\n",
    "alpha = 0.05\n",
    "print('p-значение:', results.pvalue)\n",
    "\n",
    "if results.pvalue < alpha:\n",
    "    print(\"Отвергаем нулевую гипотезу\")\n",
    "else:\n",
    "    print(\"Не получилось отвергнуть нулевую гипотезу\")"
   ]
  },
  {
   "cell_type": "markdown",
   "metadata": {
    "id": "6Kpzkoy7x3Cb"
   },
   "source": [
    " ### Вывод: p-значение:  0.12481511051825932\n",
    "нет оснований утверждать, что средние пользовательские рейтинги платформ Xbox One и PC значимо различаются. Принимаем нулевую гипотезу, p-значение больше значения alpha, что дает основание принять предположение об отсутствии различий между средними пользовательскими рейтингами платформ Xbox One и PC"
   ]
  },
  {
   "cell_type": "markdown",
   "metadata": {
    "id": "jrzdv_Zd0sa7"
   },
   "source": [
    "### Средние пользовательские рейтинги жанров Action и Sports разные"
   ]
  },
  {
   "cell_type": "markdown",
   "metadata": {
    "id": "IxEJxnvI0sbA"
   },
   "source": [
    "**Нулевая гипотеза**: Средние пользовательские рейтинги жанров Action и Sports одинаковые.\n",
    "\n",
    "**Альтернативная гипотеза**: Средние пользовательские рейтинги жанров Action и Sports различаются."
   ]
  },
  {
   "cell_type": "code",
   "execution_count": 62,
   "metadata": {},
   "outputs": [
    {
     "name": "stdout",
     "output_type": "stream",
     "text": [
      "p-значение: 3.690722894578095e-08\n",
      "Отвергаем нулевую гипотезу\n"
     ]
    }
   ],
   "source": [
    "results = st.ttest_ind(games_fresh.query('genre == \"Action\"')['user_score'], games_fresh.query('genre == \"Sports\"')['user_score'])\n",
    "\n",
    "alpha = 0.05 # критический уровень статистической значимости\n",
    "# если p-value окажется меньше него - отвегнем гипотезу\n",
    "\n",
    "print('p-значение:', results.pvalue)\n",
    "\n",
    "if results.pvalue < alpha:\n",
    "    print(\"Отвергаем нулевую гипотезу\")\n",
    "else:\n",
    "    print(\"Не получилось отвергнуть нулевую гипотезу\")"
   ]
  },
  {
   "cell_type": "markdown",
   "metadata": {},
   "source": [
    " ### Вывод: p-значение:  2.083064105338575e-07\n",
    "Принимаем альтернативную гипотезу, p-значение достаточно мало, что дает основание отвергнуть предположение об отсутствии различий между cредними пользовательскими рейтингами жанров Action и Sports."
   ]
  },
  {
   "cell_type": "markdown",
   "metadata": {},
   "source": [
    "# Итоговый вывод"
   ]
  },
  {
   "cell_type": "markdown",
   "metadata": {},
   "source": [
    "## В ходе выполнения данного проекта:\n",
    "* Проведен обзор данных и выполнена предобработка данных, выявлены недостатки в данных, были обработаны пропуски, в некоторых случаях строки были удалены за ненадобностью, в некоторых пропуски были заменены на значение заглушку (-10), также были расчитаны суммарные продажи по регионам и записаны в отдельный столбец 'total_sales'.\n",
    "## Проведен исследовательский анализ данных:\n",
    "* Построен график количества игр выпускавшихся в разные годы.\n",
    "* Построен график как менялись продажи по платформам. Указаны платформы с наибольшими продажами и распределение по годам.\n",
    "* По итогам анализа данных, выбран соответствующий актуальный период.\n",
    "* Построен график зависимости продаж от типа платформ за актуальный период.\n",
    "* Построен график «ящик с усами» по продажам игр в разбивке по платформам.\n",
    "* Проведен анализ влияния на продажи отзывов пользователей и критиков. Построена диаграмма рассеяния и расчитан коэффициент корреляции между отзывами и продажами\n",
    "\n",
    " **Вывод:**\n",
    "* Начиная с 2000 года начался рост количества игр, с 2002 по 2004 небольшой \"застой\", а затем резкий скачок до 2008-2009г, где наблюдался пик количества игр, затем наступил спад вплоть до 2016г.\n",
    "* Платформы с наибольшими суммарными продажами, PS2, X360, PS3, Wii, DS, PS. Данные 6 платформ выделяются от всех остальных наибольшими суммарными продажами.\n",
    "* В целях формирования прогноза на 2017 года имеет смысл проводить анализ по последние 2-3 года c сохранением данных за 2016г. Выбран соответствующий актуальный период 2014-2016гг.\n",
    "* По результатам анализа количества продаж за актуальный период, при дальнейшей обработке и анализе имеет смысл не учитывать платформы с минимальными продажами. Минимальные продажи у платформ PS3, X360, Wii, PSP.\n",
    "* Из анализа графика «ящик с усами» следует, что большей популярностью пользуются платформы PS4, WiiU и XOne. У платформ PS4, WiiU и XOne одинаковы медианные значения продаж (0.185, 0.190, 0.205 соответственно), также приблизительно равны среднее арифметическое значение продаж (0.766356, 0.588767, 0.615614 соответственно).\n",
    "* Из построенных диаграмм рассеяния и расчета коэффициента корреляции по каждой платформе между отзывами и продажами видно, что оценки критиков для всех платформ практически не влияют или имеют очень слабое влияние на продажи. Оценки пользователей также имеют очень слабое влияние на продажи и не влияют совсем.\n",
    " \n",
    "## Составлен портрет пользователя каждого региона\n",
    "* Определены для пользователя каждого региона (NA, EU, JP) самые популярные платформы, жанры, а также влияние рейтинга ESRB на продажи в регионах.\n",
    "\n",
    " **Вывод:**\n",
    "Предпочтения пользователей Америки и Европы во многом схожи, самыми популярными платформами являются PS4 и XOne, любимые жанры - Shooter и Action, игры с рейтингом М и Unknown. В связи с многочисленностью пользователей в данных регионах бизнесу повышенное внимание в первую очередь стоит обратить на указанные платформы и жанры игр. Предпочтения пользователей из Японии существенно отличаются, самой популярной платформой являются 3DS, любимые жанры - Role-Playing и Action и игры с рейтингом Unknown.\n",
    "## Проведена проверка двух гипотез:\n",
    "* Средние пользовательские рейтинги платформ Xbox One и PC одинаковые;\n",
    "* Средние пользовательские рейтинги жанров Action и Sports разные.\n",
    "  ### **Результаты проверки гипотез:**\n",
    "- Первая гипотеза:  Принимаем нулевую гипотезу.\n",
    "- Вторая гипотеза: Принимаем альтернативную гипотезу."
   ]
  }
 ],
 "metadata": {
  "ExecuteTimeLog": [
   {
    "duration": 3,
    "start_time": "2022-04-30T07:19:04.214Z"
   },
   {
    "duration": 48,
    "start_time": "2022-04-30T07:19:04.219Z"
   },
   {
    "duration": 0,
    "start_time": "2022-04-30T07:19:04.270Z"
   },
   {
    "duration": 0,
    "start_time": "2022-04-30T07:19:04.271Z"
   },
   {
    "duration": 0,
    "start_time": "2022-04-30T07:19:04.272Z"
   },
   {
    "duration": 0,
    "start_time": "2022-04-30T07:19:04.273Z"
   },
   {
    "duration": 0,
    "start_time": "2022-04-30T07:19:04.274Z"
   },
   {
    "duration": 0,
    "start_time": "2022-04-30T07:19:04.275Z"
   },
   {
    "duration": 0,
    "start_time": "2022-04-30T07:19:04.276Z"
   },
   {
    "duration": 0,
    "start_time": "2022-04-30T07:19:04.277Z"
   },
   {
    "duration": 0,
    "start_time": "2022-04-30T07:19:04.278Z"
   },
   {
    "duration": 0,
    "start_time": "2022-04-30T07:19:04.279Z"
   },
   {
    "duration": 0,
    "start_time": "2022-04-30T07:19:04.280Z"
   },
   {
    "duration": 0,
    "start_time": "2022-04-30T07:19:04.281Z"
   },
   {
    "duration": 0,
    "start_time": "2022-04-30T07:19:04.283Z"
   },
   {
    "duration": 0,
    "start_time": "2022-04-30T07:19:04.284Z"
   },
   {
    "duration": 0,
    "start_time": "2022-04-30T07:19:04.285Z"
   },
   {
    "duration": 0,
    "start_time": "2022-04-30T07:19:04.285Z"
   },
   {
    "duration": 0,
    "start_time": "2022-04-30T07:19:04.287Z"
   },
   {
    "duration": 0,
    "start_time": "2022-04-30T07:19:04.288Z"
   },
   {
    "duration": 0,
    "start_time": "2022-04-30T07:19:04.288Z"
   },
   {
    "duration": 0,
    "start_time": "2022-04-30T07:19:04.320Z"
   },
   {
    "duration": 0,
    "start_time": "2022-04-30T07:19:04.322Z"
   },
   {
    "duration": 10,
    "start_time": "2022-04-30T07:19:04.326Z"
   },
   {
    "duration": 0,
    "start_time": "2022-04-30T07:19:04.338Z"
   },
   {
    "duration": 0,
    "start_time": "2022-04-30T07:19:04.339Z"
   },
   {
    "duration": 0,
    "start_time": "2022-04-30T07:19:04.340Z"
   },
   {
    "duration": 0,
    "start_time": "2022-04-30T07:19:04.342Z"
   },
   {
    "duration": 0,
    "start_time": "2022-04-30T07:19:04.343Z"
   },
   {
    "duration": 0,
    "start_time": "2022-04-30T07:19:04.344Z"
   },
   {
    "duration": 0,
    "start_time": "2022-04-30T07:19:04.346Z"
   },
   {
    "duration": 0,
    "start_time": "2022-04-30T07:19:04.347Z"
   },
   {
    "duration": 0,
    "start_time": "2022-04-30T07:19:04.349Z"
   },
   {
    "duration": 0,
    "start_time": "2022-04-30T07:19:04.350Z"
   },
   {
    "duration": 0,
    "start_time": "2022-04-30T07:19:04.351Z"
   },
   {
    "duration": 0,
    "start_time": "2022-04-30T07:19:04.352Z"
   },
   {
    "duration": 0,
    "start_time": "2022-04-30T07:19:04.353Z"
   },
   {
    "duration": 0,
    "start_time": "2022-04-30T07:19:04.407Z"
   },
   {
    "duration": 0,
    "start_time": "2022-04-30T07:19:04.408Z"
   },
   {
    "duration": 0,
    "start_time": "2022-04-30T07:19:04.409Z"
   },
   {
    "duration": 0,
    "start_time": "2022-04-30T07:19:04.409Z"
   },
   {
    "duration": 0,
    "start_time": "2022-04-30T07:19:04.410Z"
   },
   {
    "duration": 0,
    "start_time": "2022-04-30T07:19:04.417Z"
   },
   {
    "duration": 0,
    "start_time": "2022-04-30T07:19:04.418Z"
   },
   {
    "duration": 0,
    "start_time": "2022-04-30T07:19:04.420Z"
   },
   {
    "duration": 0,
    "start_time": "2022-04-30T07:19:04.421Z"
   },
   {
    "duration": 8,
    "start_time": "2022-04-30T07:19:04.431Z"
   },
   {
    "duration": 0,
    "start_time": "2022-04-30T07:19:04.441Z"
   },
   {
    "duration": 0,
    "start_time": "2022-04-30T07:19:04.442Z"
   },
   {
    "duration": 0,
    "start_time": "2022-04-30T07:19:04.443Z"
   },
   {
    "duration": 0,
    "start_time": "2022-04-30T07:19:04.445Z"
   },
   {
    "duration": 0,
    "start_time": "2022-04-30T07:19:04.446Z"
   },
   {
    "duration": 0,
    "start_time": "2022-04-30T07:19:04.447Z"
   },
   {
    "duration": 0,
    "start_time": "2022-04-30T07:19:04.449Z"
   },
   {
    "duration": 0,
    "start_time": "2022-04-30T07:19:04.450Z"
   },
   {
    "duration": 0,
    "start_time": "2022-04-30T07:19:04.451Z"
   },
   {
    "duration": 0,
    "start_time": "2022-04-30T07:19:04.452Z"
   },
   {
    "duration": 0,
    "start_time": "2022-04-30T07:19:04.509Z"
   },
   {
    "duration": 0,
    "start_time": "2022-04-30T07:19:04.510Z"
   },
   {
    "duration": 0,
    "start_time": "2022-04-30T07:19:04.511Z"
   },
   {
    "duration": 0,
    "start_time": "2022-04-30T07:19:04.512Z"
   },
   {
    "duration": 47,
    "start_time": "2022-04-30T07:21:15.094Z"
   },
   {
    "duration": 42,
    "start_time": "2022-04-30T07:21:20.287Z"
   },
   {
    "duration": 23,
    "start_time": "2022-04-30T07:22:17.143Z"
   },
   {
    "duration": 40,
    "start_time": "2022-04-30T07:22:39.424Z"
   },
   {
    "duration": 41,
    "start_time": "2022-04-30T07:22:47.577Z"
   },
   {
    "duration": 4,
    "start_time": "2022-04-30T07:23:03.691Z"
   },
   {
    "duration": 5,
    "start_time": "2022-04-30T07:23:03.697Z"
   },
   {
    "duration": 55,
    "start_time": "2022-04-30T07:23:03.704Z"
   },
   {
    "duration": 19,
    "start_time": "2022-04-30T07:23:03.761Z"
   },
   {
    "duration": 46,
    "start_time": "2022-04-30T07:23:03.782Z"
   },
   {
    "duration": 16,
    "start_time": "2022-04-30T07:23:03.830Z"
   },
   {
    "duration": 11,
    "start_time": "2022-04-30T07:23:03.848Z"
   },
   {
    "duration": 69,
    "start_time": "2022-04-30T07:23:03.861Z"
   },
   {
    "duration": 22,
    "start_time": "2022-04-30T07:23:03.931Z"
   },
   {
    "duration": 15,
    "start_time": "2022-04-30T07:23:03.955Z"
   },
   {
    "duration": 17,
    "start_time": "2022-04-30T07:23:03.972Z"
   },
   {
    "duration": 14,
    "start_time": "2022-04-30T07:23:03.991Z"
   },
   {
    "duration": 14,
    "start_time": "2022-04-30T07:23:04.006Z"
   },
   {
    "duration": 18,
    "start_time": "2022-04-30T07:23:04.023Z"
   },
   {
    "duration": 9,
    "start_time": "2022-04-30T07:23:04.044Z"
   },
   {
    "duration": 10,
    "start_time": "2022-04-30T07:23:04.055Z"
   },
   {
    "duration": 8,
    "start_time": "2022-04-30T07:23:04.066Z"
   },
   {
    "duration": 49,
    "start_time": "2022-04-30T07:23:04.076Z"
   },
   {
    "duration": 9,
    "start_time": "2022-04-30T07:23:04.127Z"
   },
   {
    "duration": 17,
    "start_time": "2022-04-30T07:23:04.139Z"
   },
   {
    "duration": 18,
    "start_time": "2022-04-30T07:23:04.158Z"
   },
   {
    "duration": 14,
    "start_time": "2022-04-30T07:23:04.207Z"
   },
   {
    "duration": 15,
    "start_time": "2022-04-30T07:23:04.223Z"
   },
   {
    "duration": 5,
    "start_time": "2022-04-30T07:23:04.240Z"
   },
   {
    "duration": 8,
    "start_time": "2022-04-30T07:23:04.246Z"
   },
   {
    "duration": 16,
    "start_time": "2022-04-30T07:23:04.256Z"
   },
   {
    "duration": 54,
    "start_time": "2022-04-30T07:23:04.274Z"
   },
   {
    "duration": 240,
    "start_time": "2022-04-30T07:23:04.330Z"
   },
   {
    "duration": 304,
    "start_time": "2022-04-30T07:23:04.572Z"
   },
   {
    "duration": 213,
    "start_time": "2022-04-30T07:23:04.878Z"
   },
   {
    "duration": 215,
    "start_time": "2022-04-30T07:23:05.093Z"
   },
   {
    "duration": 207,
    "start_time": "2022-04-30T07:23:05.311Z"
   },
   {
    "duration": 210,
    "start_time": "2022-04-30T07:23:05.520Z"
   },
   {
    "duration": 206,
    "start_time": "2022-04-30T07:23:05.732Z"
   },
   {
    "duration": 260,
    "start_time": "2022-04-30T07:23:05.939Z"
   },
   {
    "duration": 11,
    "start_time": "2022-04-30T07:23:06.201Z"
   },
   {
    "duration": 181,
    "start_time": "2022-04-30T07:23:06.214Z"
   },
   {
    "duration": 166,
    "start_time": "2022-04-30T07:23:06.397Z"
   },
   {
    "duration": 161,
    "start_time": "2022-04-30T07:23:06.565Z"
   },
   {
    "duration": 136,
    "start_time": "2022-04-30T07:23:06.728Z"
   },
   {
    "duration": 156,
    "start_time": "2022-04-30T07:23:06.866Z"
   },
   {
    "duration": 155,
    "start_time": "2022-04-30T07:23:07.024Z"
   },
   {
    "duration": 149,
    "start_time": "2022-04-30T07:23:07.181Z"
   },
   {
    "duration": 153,
    "start_time": "2022-04-30T07:23:07.331Z"
   },
   {
    "duration": 159,
    "start_time": "2022-04-30T07:23:07.486Z"
   },
   {
    "duration": 155,
    "start_time": "2022-04-30T07:23:07.647Z"
   },
   {
    "duration": 143,
    "start_time": "2022-04-30T07:23:07.808Z"
   },
   {
    "duration": 5,
    "start_time": "2022-04-30T07:23:07.953Z"
   },
   {
    "duration": 241,
    "start_time": "2022-04-30T07:23:07.960Z"
   },
   {
    "duration": 32,
    "start_time": "2022-04-30T07:23:08.202Z"
   },
   {
    "duration": 402,
    "start_time": "2022-04-30T07:23:08.236Z"
   },
   {
    "duration": 321,
    "start_time": "2022-04-30T07:23:08.640Z"
   },
   {
    "duration": 311,
    "start_time": "2022-04-30T07:23:08.962Z"
   },
   {
    "duration": 310,
    "start_time": "2022-04-30T07:23:09.275Z"
   },
   {
    "duration": 314,
    "start_time": "2022-04-30T07:23:09.586Z"
   },
   {
    "duration": 315,
    "start_time": "2022-04-30T07:23:09.910Z"
   },
   {
    "duration": 261,
    "start_time": "2022-04-30T07:23:10.227Z"
   },
   {
    "duration": 249,
    "start_time": "2022-04-30T07:23:10.490Z"
   },
   {
    "duration": 319,
    "start_time": "2022-04-30T07:23:10.741Z"
   },
   {
    "duration": 263,
    "start_time": "2022-04-30T07:23:11.062Z"
   },
   {
    "duration": 12,
    "start_time": "2022-04-30T07:23:11.327Z"
   },
   {
    "duration": 12,
    "start_time": "2022-04-30T07:23:11.341Z"
   },
   {
    "duration": 63,
    "start_time": "2022-04-30T07:35:37.652Z"
   },
   {
    "duration": 66,
    "start_time": "2022-04-30T07:44:34.274Z"
   },
   {
    "duration": 1227,
    "start_time": "2022-04-30T18:35:41.664Z"
   },
   {
    "duration": 90,
    "start_time": "2022-04-30T18:35:42.892Z"
   },
   {
    "duration": 2,
    "start_time": "2022-04-30T18:35:42.984Z"
   },
   {
    "duration": 18,
    "start_time": "2022-04-30T18:35:42.988Z"
   },
   {
    "duration": 18,
    "start_time": "2022-04-30T18:35:43.007Z"
   },
   {
    "duration": 15,
    "start_time": "2022-04-30T18:35:43.027Z"
   },
   {
    "duration": 8,
    "start_time": "2022-04-30T18:35:43.043Z"
   },
   {
    "duration": 13,
    "start_time": "2022-04-30T18:35:43.053Z"
   },
   {
    "duration": 33,
    "start_time": "2022-04-30T18:35:43.068Z"
   },
   {
    "duration": 7,
    "start_time": "2022-04-30T18:35:43.104Z"
   },
   {
    "duration": 13,
    "start_time": "2022-04-30T18:35:43.113Z"
   },
   {
    "duration": 7,
    "start_time": "2022-04-30T18:35:43.127Z"
   },
   {
    "duration": 6,
    "start_time": "2022-04-30T18:35:43.136Z"
   },
   {
    "duration": 18,
    "start_time": "2022-04-30T18:35:43.143Z"
   },
   {
    "duration": 33,
    "start_time": "2022-04-30T18:35:43.163Z"
   },
   {
    "duration": 8,
    "start_time": "2022-04-30T18:35:43.198Z"
   },
   {
    "duration": 7,
    "start_time": "2022-04-30T18:35:43.207Z"
   },
   {
    "duration": 17,
    "start_time": "2022-04-30T18:35:43.215Z"
   },
   {
    "duration": 6,
    "start_time": "2022-04-30T18:35:43.233Z"
   },
   {
    "duration": 18,
    "start_time": "2022-04-30T18:35:43.241Z"
   },
   {
    "duration": 38,
    "start_time": "2022-04-30T18:35:43.261Z"
   },
   {
    "duration": 11,
    "start_time": "2022-04-30T18:35:43.301Z"
   },
   {
    "duration": 12,
    "start_time": "2022-04-30T18:35:43.313Z"
   },
   {
    "duration": 4,
    "start_time": "2022-04-30T18:35:43.327Z"
   },
   {
    "duration": 19,
    "start_time": "2022-04-30T18:35:43.332Z"
   },
   {
    "duration": 16,
    "start_time": "2022-04-30T18:35:43.353Z"
   },
   {
    "duration": 35,
    "start_time": "2022-04-30T18:35:43.370Z"
   },
   {
    "duration": 185,
    "start_time": "2022-04-30T18:35:43.409Z"
   },
   {
    "duration": 244,
    "start_time": "2022-04-30T18:35:43.596Z"
   },
   {
    "duration": 179,
    "start_time": "2022-04-30T18:35:43.841Z"
   },
   {
    "duration": 173,
    "start_time": "2022-04-30T18:35:44.021Z"
   },
   {
    "duration": 174,
    "start_time": "2022-04-30T18:35:44.196Z"
   },
   {
    "duration": 170,
    "start_time": "2022-04-30T18:35:44.372Z"
   },
   {
    "duration": 159,
    "start_time": "2022-04-30T18:35:44.544Z"
   },
   {
    "duration": 230,
    "start_time": "2022-04-30T18:35:44.704Z"
   },
   {
    "duration": 6,
    "start_time": "2022-04-30T18:35:44.935Z"
   },
   {
    "duration": 151,
    "start_time": "2022-04-30T18:35:44.943Z"
   },
   {
    "duration": 126,
    "start_time": "2022-04-30T18:35:45.096Z"
   },
   {
    "duration": 130,
    "start_time": "2022-04-30T18:35:45.224Z"
   },
   {
    "duration": 122,
    "start_time": "2022-04-30T18:35:45.355Z"
   },
   {
    "duration": 125,
    "start_time": "2022-04-30T18:35:45.478Z"
   },
   {
    "duration": 136,
    "start_time": "2022-04-30T18:35:45.605Z"
   },
   {
    "duration": 119,
    "start_time": "2022-04-30T18:35:45.743Z"
   },
   {
    "duration": 133,
    "start_time": "2022-04-30T18:35:45.864Z"
   },
   {
    "duration": 132,
    "start_time": "2022-04-30T18:35:46.000Z"
   },
   {
    "duration": 131,
    "start_time": "2022-04-30T18:35:46.135Z"
   },
   {
    "duration": 130,
    "start_time": "2022-04-30T18:35:46.268Z"
   },
   {
    "duration": 2,
    "start_time": "2022-04-30T18:35:46.400Z"
   },
   {
    "duration": 348,
    "start_time": "2022-04-30T18:35:46.404Z"
   },
   {
    "duration": 26,
    "start_time": "2022-04-30T18:35:46.753Z"
   },
   {
    "duration": 261,
    "start_time": "2022-04-30T18:35:46.780Z"
   },
   {
    "duration": 263,
    "start_time": "2022-04-30T18:35:47.043Z"
   },
   {
    "duration": 244,
    "start_time": "2022-04-30T18:35:47.307Z"
   },
   {
    "duration": 254,
    "start_time": "2022-04-30T18:35:47.553Z"
   },
   {
    "duration": 258,
    "start_time": "2022-04-30T18:35:47.809Z"
   },
   {
    "duration": 249,
    "start_time": "2022-04-30T18:35:48.068Z"
   },
   {
    "duration": 224,
    "start_time": "2022-04-30T18:35:48.319Z"
   },
   {
    "duration": 230,
    "start_time": "2022-04-30T18:35:48.545Z"
   },
   {
    "duration": 263,
    "start_time": "2022-04-30T18:35:48.777Z"
   },
   {
    "duration": 192,
    "start_time": "2022-04-30T18:35:49.042Z"
   },
   {
    "duration": 11,
    "start_time": "2022-04-30T18:35:49.235Z"
   },
   {
    "duration": 9,
    "start_time": "2022-04-30T18:35:49.248Z"
   },
   {
    "duration": 1323,
    "start_time": "2022-04-30T21:40:10.271Z"
   },
   {
    "duration": 112,
    "start_time": "2022-04-30T21:40:11.596Z"
   },
   {
    "duration": 3,
    "start_time": "2022-04-30T21:40:11.709Z"
   },
   {
    "duration": 19,
    "start_time": "2022-04-30T21:40:11.714Z"
   },
   {
    "duration": 15,
    "start_time": "2022-04-30T21:40:11.735Z"
   },
   {
    "duration": 16,
    "start_time": "2022-04-30T21:40:11.751Z"
   },
   {
    "duration": 8,
    "start_time": "2022-04-30T21:40:11.768Z"
   },
   {
    "duration": 14,
    "start_time": "2022-04-30T21:40:11.778Z"
   },
   {
    "duration": 15,
    "start_time": "2022-04-30T21:40:11.825Z"
   },
   {
    "duration": 8,
    "start_time": "2022-04-30T21:40:11.843Z"
   },
   {
    "duration": 13,
    "start_time": "2022-04-30T21:40:11.852Z"
   },
   {
    "duration": 7,
    "start_time": "2022-04-30T21:40:11.867Z"
   },
   {
    "duration": 6,
    "start_time": "2022-04-30T21:40:11.876Z"
   },
   {
    "duration": 52,
    "start_time": "2022-04-30T21:40:11.884Z"
   },
   {
    "duration": 8,
    "start_time": "2022-04-30T21:40:11.938Z"
   },
   {
    "duration": 12,
    "start_time": "2022-04-30T21:40:11.947Z"
   },
   {
    "duration": 6,
    "start_time": "2022-04-30T21:40:11.960Z"
   },
   {
    "duration": 15,
    "start_time": "2022-04-30T21:40:11.967Z"
   },
   {
    "duration": 7,
    "start_time": "2022-04-30T21:40:11.983Z"
   },
   {
    "duration": 45,
    "start_time": "2022-04-30T21:40:11.991Z"
   },
   {
    "duration": 13,
    "start_time": "2022-04-30T21:40:12.038Z"
   },
   {
    "duration": 6,
    "start_time": "2022-04-30T21:40:12.053Z"
   },
   {
    "duration": 11,
    "start_time": "2022-04-30T21:40:12.061Z"
   },
   {
    "duration": 3,
    "start_time": "2022-04-30T21:40:12.074Z"
   },
   {
    "duration": 7,
    "start_time": "2022-04-30T21:40:12.078Z"
   },
   {
    "duration": 44,
    "start_time": "2022-04-30T21:40:12.087Z"
   },
   {
    "duration": 17,
    "start_time": "2022-04-30T21:40:12.135Z"
   },
   {
    "duration": 195,
    "start_time": "2022-04-30T21:40:12.157Z"
   },
   {
    "duration": 246,
    "start_time": "2022-04-30T21:40:12.353Z"
   },
   {
    "duration": 176,
    "start_time": "2022-04-30T21:40:12.601Z"
   },
   {
    "duration": 184,
    "start_time": "2022-04-30T21:40:12.779Z"
   },
   {
    "duration": 182,
    "start_time": "2022-04-30T21:40:12.964Z"
   },
   {
    "duration": 178,
    "start_time": "2022-04-30T21:40:13.148Z"
   },
   {
    "duration": 228,
    "start_time": "2022-04-30T21:40:13.328Z"
   },
   {
    "duration": 160,
    "start_time": "2022-04-30T21:40:13.558Z"
   },
   {
    "duration": 8,
    "start_time": "2022-04-30T21:40:13.723Z"
   },
   {
    "duration": 145,
    "start_time": "2022-04-30T21:40:13.733Z"
   },
   {
    "duration": 124,
    "start_time": "2022-04-30T21:40:13.879Z"
   },
   {
    "duration": 136,
    "start_time": "2022-04-30T21:40:14.004Z"
   },
   {
    "duration": 117,
    "start_time": "2022-04-30T21:40:14.141Z"
   },
   {
    "duration": 117,
    "start_time": "2022-04-30T21:40:14.260Z"
   },
   {
    "duration": 121,
    "start_time": "2022-04-30T21:40:14.379Z"
   },
   {
    "duration": 113,
    "start_time": "2022-04-30T21:40:14.502Z"
   },
   {
    "duration": 124,
    "start_time": "2022-04-30T21:40:14.624Z"
   },
   {
    "duration": 128,
    "start_time": "2022-04-30T21:40:14.749Z"
   },
   {
    "duration": 121,
    "start_time": "2022-04-30T21:40:14.879Z"
   },
   {
    "duration": 123,
    "start_time": "2022-04-30T21:40:15.002Z"
   },
   {
    "duration": 3,
    "start_time": "2022-04-30T21:40:15.127Z"
   },
   {
    "duration": 360,
    "start_time": "2022-04-30T21:40:15.131Z"
   },
   {
    "duration": 33,
    "start_time": "2022-04-30T21:40:15.493Z"
   },
   {
    "duration": 258,
    "start_time": "2022-04-30T21:40:15.527Z"
   },
   {
    "duration": 271,
    "start_time": "2022-04-30T21:40:15.787Z"
   },
   {
    "duration": 244,
    "start_time": "2022-04-30T21:40:16.060Z"
   },
   {
    "duration": 279,
    "start_time": "2022-04-30T21:40:16.305Z"
   },
   {
    "duration": 258,
    "start_time": "2022-04-30T21:40:16.586Z"
   },
   {
    "duration": 256,
    "start_time": "2022-04-30T21:40:16.846Z"
   },
   {
    "duration": 209,
    "start_time": "2022-04-30T21:40:17.104Z"
   },
   {
    "duration": 216,
    "start_time": "2022-04-30T21:40:17.315Z"
   },
   {
    "duration": 244,
    "start_time": "2022-04-30T21:40:17.534Z"
   },
   {
    "duration": 194,
    "start_time": "2022-04-30T21:40:17.780Z"
   },
   {
    "duration": 9,
    "start_time": "2022-04-30T21:40:17.976Z"
   },
   {
    "duration": 9,
    "start_time": "2022-04-30T21:40:17.986Z"
   }
  ],
  "colab": {
   "name": "milestones_games.ipynb",
   "provenance": [],
   "toc_visible": true
  },
  "kernelspec": {
   "display_name": "Python 3 (ipykernel)",
   "language": "python",
   "name": "python3"
  },
  "language_info": {
   "codemirror_mode": {
    "name": "ipython",
    "version": 3
   },
   "file_extension": ".py",
   "mimetype": "text/x-python",
   "name": "python",
   "nbconvert_exporter": "python",
   "pygments_lexer": "ipython3",
   "version": "3.9.7"
  },
  "toc": {
   "base_numbering": 1,
   "nav_menu": {},
   "number_sections": true,
   "sideBar": true,
   "skip_h1_title": true,
   "title_cell": "Table of Contents",
   "title_sidebar": "Contents",
   "toc_cell": true,
   "toc_position": {},
   "toc_section_display": true,
   "toc_window_display": false
  }
 },
 "nbformat": 4,
 "nbformat_minor": 1
}

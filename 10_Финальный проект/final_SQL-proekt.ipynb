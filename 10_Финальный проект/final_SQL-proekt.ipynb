{
 "cells": [
  {
   "cell_type": "markdown",
   "metadata": {},
   "source": [
    "<div style=\"border-radius: 15px; box-shadow: 2px 2px 4px; border: 1px solid; background:#bdc3c7; padding: 20px\"> <h7 style=\"color:black; margin-bottom:20px\"> Сергей, привет!) Это Михаил.\n",
    "\n",
    "Мои комментарии и замечания далее по тексту помечены различными цветами:\n",
    "    \n",
    "---    \n",
    "<div class=\"alert alert-block alert-danger\">\n",
    "❌ : Критическое замечание, которые следует исправить.\n",
    "</div> \n",
    "    \n",
    "---\n",
    "    \n",
    "<div class=\"alert alert-block alert-warning\">\n",
    "⚠️ : Замечание\\совет на будущее.\n",
    "</div>\n",
    "    \n",
    "---\n",
    "    \n",
    "<div class=\"alert alert-block alert-success\">\n",
    "✔️ : Когда всё сделано правильно.\n",
    "</div>\n",
    "\n",
    "---\n",
    "\n",
    "Если возникнут вопросы по проекту или вопросы общего характера, то не стесняйся - задавай!) Для того, чтобы мне было легче их найти, то выделяй их пожалуйста с помощью цвета, например вот так - <font color=#e17055>\"вопрос, который не останется незамеченным\"</font>\n",
    "        \n",
    "    \n",
    "p.s.: не удаляй мои замечания, если предстоит что то доработать в проекте.</h7>"
   ]
  },
  {
   "cell_type": "markdown",
   "metadata": {},
   "source": [
    "<div class=\"alert alert-danger\" style=\"border-radius: 15px; box-shadow: 4px 4px 4px; border: 1px solid \" > <b>Комментарии от ревьюера ❌ : </b> \n",
    "\n",
    "<s>Итог ревью - почти все запросы корректные и дают правильный результат. Но есть одно задание, которое тебе предстоит доработать, чтобы я смог принять твой проект. \n",
    "    \n",
    "Если возникнут вопросы, пиши - обязательно отвечу. Буду ждать!\n",
    "</div> "
   ]
  },
  {
   "cell_type": "markdown",
   "metadata": {},
   "source": [
    "<div class=\"alert alert-info\" > <b>Комментарии студента: </b> \n",
    "\n",
    "Добрый день Михаил! Так получилось, что ты проверял все мои работы в финальном проекте. По итогам, хочу выразить тебе свое уважение и благодарность, а также восхищаюсь твоим терпением при проверке наших \"туповатых\" работ. Успехов нам Всем в дальнейших проектах наших жизней.\n",
    "    \n",
    "</div>"
   ]
  },
  {
   "cell_type": "markdown",
   "metadata": {},
   "source": [
    "\n",
    "<div class=\"alert alert-success\" style=\"border-radius: 15px; box-shadow: 4px 4px 4px; border: 1px solid \" > <b>Комментарии от ревьюера v2 ✔️ : </b> \n",
    "\n",
    "Привет) Да, я стараюсь все работы проверить у своих студентов, но я бы не был столь категоричен и не использовал такие слова как \"туповатые\". Вполне хорошие работы, единственное некоторые нюансы ускользают, но это всё процесс обучения и наработки опыта. Так, что спасибо за добрые слова)\n",
    "    \n",
    "Все замечания учтены. Ты наглядно показал умение формировать запросы SQL для решения подобных задач. Так держать! \n",
    "    \n",
    "Поздравляю с завершением финального спринта! Особенно ценно, что ты полностью уложился в дедлайн 👏\n",
    "    \n",
    "![](https://media.giphy.com/media/SkwbfLHO0a1lS/giphy.gif)\n",
    "    \n",
    "Остается дождаться финального созвона в ближайшее время)\n",
    "</div>\n",
    "    \n",
    "---"
   ]
  },
  {
   "cell_type": "markdown",
   "metadata": {},
   "source": [
    "## Описание проекта"
   ]
  },
  {
   "cell_type": "markdown",
   "metadata": {},
   "source": [
    "###### Коронавирус застал мир врасплох, изменив привычный порядок вещей. В свободное время жители городов больше не выходят на улицу, не посещают кафе и торговые центры. Зато стало больше времени для книг. Это заметили стартаперы — и бросились создавать приложения для тех, кто любит читать. \n",
    "###### Ваша компания решила быть на волне и купила крупный сервис для чтения книг по подписке. Ваша первая задача как аналитика — проанализировать базу данных. В ней — информация о книгах, издательствах, авторах, а также пользовательские обзоры книг. Эти данные помогут сформулировать ценностное предложение для нового продукта.\n",
    "### Описание данных\n",
    "###### - Таблица books. Содержит данные о книгах:\n",
    "- book_id — идентификатор книги;\n",
    "- author_id — идентификатор автора;\n",
    "- title — название книги;\n",
    "- num_pages — количество страниц;\n",
    "- publication_date — дата публикации книги;\n",
    "- publisher_id — идентификатор издателя.\n",
    "###### - Таблица authors. Содержит данные об авторах:\n",
    "- author_id — идентификатор автора;\n",
    "- author — имя автора.\n",
    "###### - Таблица publishers. Содержит данные об издательствах:\n",
    "- publisher_id — идентификатор издательства;\n",
    "- publisher — название издательства;\n",
    "###### - Таблица ratings. Содержит данные о пользовательских оценках книг:\n",
    "- rating_id — идентификатор оценки;\n",
    "- book_id — идентификатор книги;\n",
    "- username — имя пользователя, оставившего оценку;\n",
    "- rating — оценка книги.\n",
    "###### - Таблица reviews. Содержит данные о пользовательских обзорах на книги:\n",
    "- review_id — идентификатор обзора;\n",
    "- book_id — идентификатор книги;\n",
    "- username — имя пользователя, написавшего обзор;\n",
    "- text — текст обзора."
   ]
  },
  {
   "cell_type": "markdown",
   "metadata": {},
   "source": [
    "### Задание"
   ]
  },
  {
   "cell_type": "markdown",
   "metadata": {},
   "source": [
    "- Посчитайте, сколько книг вышло после 1 января 2000 года;\n",
    "- Для каждой книги посчитайте количество обзоров и среднюю оценку;\n",
    "- Определите издательство, которое выпустило наибольшее число книг толще 50 страниц — так вы исключите из анализа брошюры;\n",
    "- Определите автора с самой высокой средней оценкой книг — учитывайте только книги с 50 и более оценками;\n",
    "- Посчитайте среднее количество обзоров от пользователей, которые поставили больше 50 оценок."
   ]
  },
  {
   "cell_type": "markdown",
   "metadata": {},
   "source": [
    "## Выполнение проекта"
   ]
  },
  {
   "cell_type": "markdown",
   "metadata": {},
   "source": [
    "### Импортируем библиотеки"
   ]
  },
  {
   "cell_type": "code",
   "execution_count": 1,
   "metadata": {},
   "outputs": [],
   "source": [
    "import pandas as pd\n",
    "from sqlalchemy import create_engine"
   ]
  },
  {
   "cell_type": "code",
   "execution_count": 2,
   "metadata": {},
   "outputs": [],
   "source": [
    "db_config = {'user': 'praktikum_student', # имя пользователя\n",
    "'pwd': 'Sdf4$2;d-d30pp', # пароль\n",
    "'host': 'rc1b-wcoijxj3yxfsf3fs.mdb.yandexcloud.net',\n",
    "'port': 6432, # порт подключения\n",
    "'db': 'data-analyst-final-project-db'} # название базы данных"
   ]
  },
  {
   "cell_type": "code",
   "execution_count": 3,
   "metadata": {},
   "outputs": [],
   "source": [
    "connection_string = 'postgresql://{}:{}@{}:{}/{}'.format(db_config['user'],\n",
    "db_config['pwd'],\n",
    "db_config['host'],\n",
    "db_config['port'],\n",
    "db_config['db'])"
   ]
  },
  {
   "cell_type": "code",
   "execution_count": 4,
   "metadata": {},
   "outputs": [],
   "source": [
    "engine = create_engine(connection_string)"
   ]
  },
  {
   "cell_type": "markdown",
   "metadata": {},
   "source": [
    "Создадим функцию для вывода результата "
   ]
  },
  {
   "cell_type": "code",
   "execution_count": 5,
   "metadata": {},
   "outputs": [],
   "source": [
    "def select(sql):\n",
    "  return pd.read_sql(sql,con = engine)"
   ]
  },
  {
   "cell_type": "markdown",
   "metadata": {},
   "source": [
    "Выведем данные из таблиц \"books\", \"authors\", \"publishers\", \"ratings\" и \"reviews\""
   ]
  },
  {
   "cell_type": "markdown",
   "metadata": {},
   "source": [
    "###### Посмотрим данные из таблицы books"
   ]
  },
  {
   "cell_type": "code",
   "execution_count": 6,
   "metadata": {},
   "outputs": [],
   "source": [
    "books = '''\n",
    "SELECT * FROM books\n",
    "'''"
   ]
  },
  {
   "cell_type": "code",
   "execution_count": 7,
   "metadata": {
    "scrolled": true
   },
   "outputs": [
    {
     "data": {
      "text/html": [
       "<div>\n",
       "<style scoped>\n",
       "    .dataframe tbody tr th:only-of-type {\n",
       "        vertical-align: middle;\n",
       "    }\n",
       "\n",
       "    .dataframe tbody tr th {\n",
       "        vertical-align: top;\n",
       "    }\n",
       "\n",
       "    .dataframe thead th {\n",
       "        text-align: right;\n",
       "    }\n",
       "</style>\n",
       "<table border=\"1\" class=\"dataframe\">\n",
       "  <thead>\n",
       "    <tr style=\"text-align: right;\">\n",
       "      <th></th>\n",
       "      <th>book_id</th>\n",
       "      <th>author_id</th>\n",
       "      <th>title</th>\n",
       "      <th>num_pages</th>\n",
       "      <th>publication_date</th>\n",
       "      <th>publisher_id</th>\n",
       "    </tr>\n",
       "  </thead>\n",
       "  <tbody>\n",
       "    <tr>\n",
       "      <th>0</th>\n",
       "      <td>1</td>\n",
       "      <td>546</td>\n",
       "      <td>'Salem's Lot</td>\n",
       "      <td>594</td>\n",
       "      <td>2005-11-01</td>\n",
       "      <td>93</td>\n",
       "    </tr>\n",
       "    <tr>\n",
       "      <th>1</th>\n",
       "      <td>2</td>\n",
       "      <td>465</td>\n",
       "      <td>1 000 Places to See Before You Die</td>\n",
       "      <td>992</td>\n",
       "      <td>2003-05-22</td>\n",
       "      <td>336</td>\n",
       "    </tr>\n",
       "    <tr>\n",
       "      <th>2</th>\n",
       "      <td>3</td>\n",
       "      <td>407</td>\n",
       "      <td>13 Little Blue Envelopes (Little Blue Envelope...</td>\n",
       "      <td>322</td>\n",
       "      <td>2010-12-21</td>\n",
       "      <td>135</td>\n",
       "    </tr>\n",
       "  </tbody>\n",
       "</table>\n",
       "</div>"
      ],
      "text/plain": [
       "   book_id  author_id                                              title  \\\n",
       "0        1        546                                       'Salem's Lot   \n",
       "1        2        465                 1 000 Places to See Before You Die   \n",
       "2        3        407  13 Little Blue Envelopes (Little Blue Envelope...   \n",
       "\n",
       "   num_pages publication_date  publisher_id  \n",
       "0        594       2005-11-01            93  \n",
       "1        992       2003-05-22           336  \n",
       "2        322       2010-12-21           135  "
      ]
     },
     "execution_count": 7,
     "metadata": {},
     "output_type": "execute_result"
    }
   ],
   "source": [
    "select(books).head(3)"
   ]
  },
  {
   "cell_type": "code",
   "execution_count": 8,
   "metadata": {},
   "outputs": [
    {
     "name": "stdout",
     "output_type": "stream",
     "text": [
      "<class 'pandas.core.frame.DataFrame'>\n",
      "RangeIndex: 1000 entries, 0 to 999\n",
      "Data columns (total 6 columns):\n",
      " #   Column            Non-Null Count  Dtype \n",
      "---  ------            --------------  ----- \n",
      " 0   book_id           1000 non-null   int64 \n",
      " 1   author_id         1000 non-null   int64 \n",
      " 2   title             1000 non-null   object\n",
      " 3   num_pages         1000 non-null   int64 \n",
      " 4   publication_date  1000 non-null   object\n",
      " 5   publisher_id      1000 non-null   int64 \n",
      "dtypes: int64(4), object(2)\n",
      "memory usage: 47.0+ KB\n"
     ]
    }
   ],
   "source": [
    "select(books).info()"
   ]
  },
  {
   "cell_type": "markdown",
   "metadata": {},
   "source": [
    "Проверим на наличие пропусков и дубликатов"
   ]
  },
  {
   "cell_type": "code",
   "execution_count": 9,
   "metadata": {
    "scrolled": true
   },
   "outputs": [
    {
     "data": {
      "text/plain": [
       "book_id             0\n",
       "author_id           0\n",
       "title               0\n",
       "num_pages           0\n",
       "publication_date    0\n",
       "publisher_id        0\n",
       "dtype: int64"
      ]
     },
     "execution_count": 9,
     "metadata": {},
     "output_type": "execute_result"
    }
   ],
   "source": [
    "select(books).isnull().sum()"
   ]
  },
  {
   "cell_type": "code",
   "execution_count": 10,
   "metadata": {},
   "outputs": [
    {
     "data": {
      "text/plain": [
       "0"
      ]
     },
     "execution_count": 10,
     "metadata": {},
     "output_type": "execute_result"
    }
   ],
   "source": [
    "select(books).duplicated().sum()"
   ]
  },
  {
   "cell_type": "markdown",
   "metadata": {},
   "source": [
    "В таблице books 1000 строк и 6 столбцов, отсутствуют пропуски и дубликаты"
   ]
  },
  {
   "cell_type": "markdown",
   "metadata": {},
   "source": [
    "###### Посмотрим данные из таблицы authors"
   ]
  },
  {
   "cell_type": "code",
   "execution_count": 11,
   "metadata": {},
   "outputs": [],
   "source": [
    "authors = '''\n",
    "SELECT * FROM authors\n",
    "'''"
   ]
  },
  {
   "cell_type": "code",
   "execution_count": 12,
   "metadata": {
    "scrolled": true
   },
   "outputs": [
    {
     "data": {
      "text/html": [
       "<div>\n",
       "<style scoped>\n",
       "    .dataframe tbody tr th:only-of-type {\n",
       "        vertical-align: middle;\n",
       "    }\n",
       "\n",
       "    .dataframe tbody tr th {\n",
       "        vertical-align: top;\n",
       "    }\n",
       "\n",
       "    .dataframe thead th {\n",
       "        text-align: right;\n",
       "    }\n",
       "</style>\n",
       "<table border=\"1\" class=\"dataframe\">\n",
       "  <thead>\n",
       "    <tr style=\"text-align: right;\">\n",
       "      <th></th>\n",
       "      <th>author_id</th>\n",
       "      <th>author</th>\n",
       "    </tr>\n",
       "  </thead>\n",
       "  <tbody>\n",
       "    <tr>\n",
       "      <th>0</th>\n",
       "      <td>1</td>\n",
       "      <td>A.S. Byatt</td>\n",
       "    </tr>\n",
       "    <tr>\n",
       "      <th>1</th>\n",
       "      <td>2</td>\n",
       "      <td>Aesop/Laura Harris/Laura Gibbs</td>\n",
       "    </tr>\n",
       "    <tr>\n",
       "      <th>2</th>\n",
       "      <td>3</td>\n",
       "      <td>Agatha Christie</td>\n",
       "    </tr>\n",
       "  </tbody>\n",
       "</table>\n",
       "</div>"
      ],
      "text/plain": [
       "   author_id                          author\n",
       "0          1                      A.S. Byatt\n",
       "1          2  Aesop/Laura Harris/Laura Gibbs\n",
       "2          3                 Agatha Christie"
      ]
     },
     "execution_count": 12,
     "metadata": {},
     "output_type": "execute_result"
    }
   ],
   "source": [
    "select(authors).head(3)"
   ]
  },
  {
   "cell_type": "code",
   "execution_count": 13,
   "metadata": {},
   "outputs": [
    {
     "name": "stdout",
     "output_type": "stream",
     "text": [
      "<class 'pandas.core.frame.DataFrame'>\n",
      "RangeIndex: 636 entries, 0 to 635\n",
      "Data columns (total 2 columns):\n",
      " #   Column     Non-Null Count  Dtype \n",
      "---  ------     --------------  ----- \n",
      " 0   author_id  636 non-null    int64 \n",
      " 1   author     636 non-null    object\n",
      "dtypes: int64(1), object(1)\n",
      "memory usage: 10.1+ KB\n"
     ]
    }
   ],
   "source": [
    "select(authors).info()"
   ]
  },
  {
   "cell_type": "markdown",
   "metadata": {},
   "source": [
    "Проверим на наличие пропусков и дубликатов"
   ]
  },
  {
   "cell_type": "code",
   "execution_count": 14,
   "metadata": {
    "scrolled": true
   },
   "outputs": [
    {
     "data": {
      "text/plain": [
       "author_id    0\n",
       "author       0\n",
       "dtype: int64"
      ]
     },
     "execution_count": 14,
     "metadata": {},
     "output_type": "execute_result"
    }
   ],
   "source": [
    "select(authors).isnull().sum()"
   ]
  },
  {
   "cell_type": "code",
   "execution_count": 15,
   "metadata": {},
   "outputs": [
    {
     "data": {
      "text/plain": [
       "0"
      ]
     },
     "execution_count": 15,
     "metadata": {},
     "output_type": "execute_result"
    }
   ],
   "source": [
    "select(authors).duplicated().sum()"
   ]
  },
  {
   "cell_type": "markdown",
   "metadata": {},
   "source": [
    "В таблице authors 636 строк и 2 столбца, отсутствуют пропуски и дубликаты"
   ]
  },
  {
   "cell_type": "markdown",
   "metadata": {},
   "source": [
    "###### Посмотрим данные из таблицы publishers"
   ]
  },
  {
   "cell_type": "code",
   "execution_count": 16,
   "metadata": {},
   "outputs": [],
   "source": [
    "publishers = '''\n",
    "SELECT * FROM publishers\n",
    "'''"
   ]
  },
  {
   "cell_type": "code",
   "execution_count": 17,
   "metadata": {
    "scrolled": false
   },
   "outputs": [
    {
     "data": {
      "text/html": [
       "<div>\n",
       "<style scoped>\n",
       "    .dataframe tbody tr th:only-of-type {\n",
       "        vertical-align: middle;\n",
       "    }\n",
       "\n",
       "    .dataframe tbody tr th {\n",
       "        vertical-align: top;\n",
       "    }\n",
       "\n",
       "    .dataframe thead th {\n",
       "        text-align: right;\n",
       "    }\n",
       "</style>\n",
       "<table border=\"1\" class=\"dataframe\">\n",
       "  <thead>\n",
       "    <tr style=\"text-align: right;\">\n",
       "      <th></th>\n",
       "      <th>publisher_id</th>\n",
       "      <th>publisher</th>\n",
       "    </tr>\n",
       "  </thead>\n",
       "  <tbody>\n",
       "    <tr>\n",
       "      <th>0</th>\n",
       "      <td>1</td>\n",
       "      <td>Ace</td>\n",
       "    </tr>\n",
       "    <tr>\n",
       "      <th>1</th>\n",
       "      <td>2</td>\n",
       "      <td>Ace Book</td>\n",
       "    </tr>\n",
       "    <tr>\n",
       "      <th>2</th>\n",
       "      <td>3</td>\n",
       "      <td>Ace Books</td>\n",
       "    </tr>\n",
       "  </tbody>\n",
       "</table>\n",
       "</div>"
      ],
      "text/plain": [
       "   publisher_id  publisher\n",
       "0             1        Ace\n",
       "1             2   Ace Book\n",
       "2             3  Ace Books"
      ]
     },
     "execution_count": 17,
     "metadata": {},
     "output_type": "execute_result"
    }
   ],
   "source": [
    "select(publishers).head(3)"
   ]
  },
  {
   "cell_type": "code",
   "execution_count": 18,
   "metadata": {},
   "outputs": [
    {
     "name": "stdout",
     "output_type": "stream",
     "text": [
      "<class 'pandas.core.frame.DataFrame'>\n",
      "RangeIndex: 340 entries, 0 to 339\n",
      "Data columns (total 2 columns):\n",
      " #   Column        Non-Null Count  Dtype \n",
      "---  ------        --------------  ----- \n",
      " 0   publisher_id  340 non-null    int64 \n",
      " 1   publisher     340 non-null    object\n",
      "dtypes: int64(1), object(1)\n",
      "memory usage: 5.4+ KB\n"
     ]
    }
   ],
   "source": [
    "select(publishers).info()"
   ]
  },
  {
   "cell_type": "markdown",
   "metadata": {},
   "source": [
    "Проверим на наличие пропусков и дубликатов"
   ]
  },
  {
   "cell_type": "code",
   "execution_count": 19,
   "metadata": {
    "scrolled": true
   },
   "outputs": [
    {
     "data": {
      "text/plain": [
       "publisher_id    0\n",
       "publisher       0\n",
       "dtype: int64"
      ]
     },
     "execution_count": 19,
     "metadata": {},
     "output_type": "execute_result"
    }
   ],
   "source": [
    "select(publishers).isnull().sum()"
   ]
  },
  {
   "cell_type": "code",
   "execution_count": 20,
   "metadata": {},
   "outputs": [
    {
     "data": {
      "text/plain": [
       "0"
      ]
     },
     "execution_count": 20,
     "metadata": {},
     "output_type": "execute_result"
    }
   ],
   "source": [
    "select(publishers).duplicated().sum()"
   ]
  },
  {
   "cell_type": "markdown",
   "metadata": {},
   "source": [
    "В таблице publishers 340 строк и 2 столбца, отсутствуют пропуски и дубликаты"
   ]
  },
  {
   "cell_type": "markdown",
   "metadata": {},
   "source": [
    "###### Посмотрим данные из таблицы ratings"
   ]
  },
  {
   "cell_type": "code",
   "execution_count": 21,
   "metadata": {},
   "outputs": [],
   "source": [
    "ratings = '''\n",
    "SELECT * FROM ratings\n",
    "'''"
   ]
  },
  {
   "cell_type": "code",
   "execution_count": 22,
   "metadata": {
    "scrolled": true
   },
   "outputs": [
    {
     "data": {
      "text/html": [
       "<div>\n",
       "<style scoped>\n",
       "    .dataframe tbody tr th:only-of-type {\n",
       "        vertical-align: middle;\n",
       "    }\n",
       "\n",
       "    .dataframe tbody tr th {\n",
       "        vertical-align: top;\n",
       "    }\n",
       "\n",
       "    .dataframe thead th {\n",
       "        text-align: right;\n",
       "    }\n",
       "</style>\n",
       "<table border=\"1\" class=\"dataframe\">\n",
       "  <thead>\n",
       "    <tr style=\"text-align: right;\">\n",
       "      <th></th>\n",
       "      <th>rating_id</th>\n",
       "      <th>book_id</th>\n",
       "      <th>username</th>\n",
       "      <th>rating</th>\n",
       "    </tr>\n",
       "  </thead>\n",
       "  <tbody>\n",
       "    <tr>\n",
       "      <th>0</th>\n",
       "      <td>1</td>\n",
       "      <td>1</td>\n",
       "      <td>ryanfranco</td>\n",
       "      <td>4</td>\n",
       "    </tr>\n",
       "    <tr>\n",
       "      <th>1</th>\n",
       "      <td>2</td>\n",
       "      <td>1</td>\n",
       "      <td>grantpatricia</td>\n",
       "      <td>2</td>\n",
       "    </tr>\n",
       "    <tr>\n",
       "      <th>2</th>\n",
       "      <td>3</td>\n",
       "      <td>1</td>\n",
       "      <td>brandtandrea</td>\n",
       "      <td>5</td>\n",
       "    </tr>\n",
       "  </tbody>\n",
       "</table>\n",
       "</div>"
      ],
      "text/plain": [
       "   rating_id  book_id       username  rating\n",
       "0          1        1     ryanfranco       4\n",
       "1          2        1  grantpatricia       2\n",
       "2          3        1   brandtandrea       5"
      ]
     },
     "execution_count": 22,
     "metadata": {},
     "output_type": "execute_result"
    }
   ],
   "source": [
    "select(ratings).head(3)"
   ]
  },
  {
   "cell_type": "code",
   "execution_count": 23,
   "metadata": {},
   "outputs": [
    {
     "name": "stdout",
     "output_type": "stream",
     "text": [
      "<class 'pandas.core.frame.DataFrame'>\n",
      "RangeIndex: 6456 entries, 0 to 6455\n",
      "Data columns (total 4 columns):\n",
      " #   Column     Non-Null Count  Dtype \n",
      "---  ------     --------------  ----- \n",
      " 0   rating_id  6456 non-null   int64 \n",
      " 1   book_id    6456 non-null   int64 \n",
      " 2   username   6456 non-null   object\n",
      " 3   rating     6456 non-null   int64 \n",
      "dtypes: int64(3), object(1)\n",
      "memory usage: 201.9+ KB\n"
     ]
    }
   ],
   "source": [
    "select(ratings).info()"
   ]
  },
  {
   "cell_type": "markdown",
   "metadata": {},
   "source": [
    "Проверим на наличие пропусков и дубликатов"
   ]
  },
  {
   "cell_type": "code",
   "execution_count": 24,
   "metadata": {
    "scrolled": true
   },
   "outputs": [
    {
     "data": {
      "text/plain": [
       "rating_id    0\n",
       "book_id      0\n",
       "username     0\n",
       "rating       0\n",
       "dtype: int64"
      ]
     },
     "execution_count": 24,
     "metadata": {},
     "output_type": "execute_result"
    }
   ],
   "source": [
    "select(ratings).isnull().sum()"
   ]
  },
  {
   "cell_type": "code",
   "execution_count": 25,
   "metadata": {},
   "outputs": [
    {
     "data": {
      "text/plain": [
       "0"
      ]
     },
     "execution_count": 25,
     "metadata": {},
     "output_type": "execute_result"
    }
   ],
   "source": [
    "select(ratings).duplicated().sum()"
   ]
  },
  {
   "cell_type": "markdown",
   "metadata": {},
   "source": [
    "В таблице ratings 6456 строк и 4 столбца, отсутствуют пропуски и дубликаты"
   ]
  },
  {
   "cell_type": "markdown",
   "metadata": {},
   "source": [
    "###### Посмотрим данные из таблицы reviews"
   ]
  },
  {
   "cell_type": "code",
   "execution_count": 26,
   "metadata": {},
   "outputs": [],
   "source": [
    "reviews = '''\n",
    "SELECT * FROM reviews\n",
    "'''"
   ]
  },
  {
   "cell_type": "code",
   "execution_count": 27,
   "metadata": {
    "scrolled": true
   },
   "outputs": [
    {
     "data": {
      "text/html": [
       "<div>\n",
       "<style scoped>\n",
       "    .dataframe tbody tr th:only-of-type {\n",
       "        vertical-align: middle;\n",
       "    }\n",
       "\n",
       "    .dataframe tbody tr th {\n",
       "        vertical-align: top;\n",
       "    }\n",
       "\n",
       "    .dataframe thead th {\n",
       "        text-align: right;\n",
       "    }\n",
       "</style>\n",
       "<table border=\"1\" class=\"dataframe\">\n",
       "  <thead>\n",
       "    <tr style=\"text-align: right;\">\n",
       "      <th></th>\n",
       "      <th>review_id</th>\n",
       "      <th>book_id</th>\n",
       "      <th>username</th>\n",
       "      <th>text</th>\n",
       "    </tr>\n",
       "  </thead>\n",
       "  <tbody>\n",
       "    <tr>\n",
       "      <th>0</th>\n",
       "      <td>1</td>\n",
       "      <td>1</td>\n",
       "      <td>brandtandrea</td>\n",
       "      <td>Mention society tell send professor analysis. ...</td>\n",
       "    </tr>\n",
       "    <tr>\n",
       "      <th>1</th>\n",
       "      <td>2</td>\n",
       "      <td>1</td>\n",
       "      <td>ryanfranco</td>\n",
       "      <td>Foot glass pretty audience hit themselves. Amo...</td>\n",
       "    </tr>\n",
       "    <tr>\n",
       "      <th>2</th>\n",
       "      <td>3</td>\n",
       "      <td>2</td>\n",
       "      <td>lorichen</td>\n",
       "      <td>Listen treat keep worry. Miss husband tax but ...</td>\n",
       "    </tr>\n",
       "  </tbody>\n",
       "</table>\n",
       "</div>"
      ],
      "text/plain": [
       "   review_id  book_id      username  \\\n",
       "0          1        1  brandtandrea   \n",
       "1          2        1    ryanfranco   \n",
       "2          3        2      lorichen   \n",
       "\n",
       "                                                text  \n",
       "0  Mention society tell send professor analysis. ...  \n",
       "1  Foot glass pretty audience hit themselves. Amo...  \n",
       "2  Listen treat keep worry. Miss husband tax but ...  "
      ]
     },
     "execution_count": 27,
     "metadata": {},
     "output_type": "execute_result"
    }
   ],
   "source": [
    "select(reviews).head(3)"
   ]
  },
  {
   "cell_type": "code",
   "execution_count": 28,
   "metadata": {},
   "outputs": [
    {
     "name": "stdout",
     "output_type": "stream",
     "text": [
      "<class 'pandas.core.frame.DataFrame'>\n",
      "RangeIndex: 2793 entries, 0 to 2792\n",
      "Data columns (total 4 columns):\n",
      " #   Column     Non-Null Count  Dtype \n",
      "---  ------     --------------  ----- \n",
      " 0   review_id  2793 non-null   int64 \n",
      " 1   book_id    2793 non-null   int64 \n",
      " 2   username   2793 non-null   object\n",
      " 3   text       2793 non-null   object\n",
      "dtypes: int64(2), object(2)\n",
      "memory usage: 87.4+ KB\n"
     ]
    }
   ],
   "source": [
    "select(reviews).info()"
   ]
  },
  {
   "cell_type": "markdown",
   "metadata": {},
   "source": [
    "Проверим на наличие пропусков и дубликатов"
   ]
  },
  {
   "cell_type": "code",
   "execution_count": 29,
   "metadata": {
    "scrolled": true
   },
   "outputs": [
    {
     "data": {
      "text/plain": [
       "review_id    0\n",
       "book_id      0\n",
       "username     0\n",
       "text         0\n",
       "dtype: int64"
      ]
     },
     "execution_count": 29,
     "metadata": {},
     "output_type": "execute_result"
    }
   ],
   "source": [
    "select(reviews).isnull().sum()"
   ]
  },
  {
   "cell_type": "code",
   "execution_count": 30,
   "metadata": {},
   "outputs": [
    {
     "data": {
      "text/plain": [
       "0"
      ]
     },
     "execution_count": 30,
     "metadata": {},
     "output_type": "execute_result"
    }
   ],
   "source": [
    "select(reviews).duplicated().sum()"
   ]
  },
  {
   "cell_type": "markdown",
   "metadata": {},
   "source": [
    "В таблице reviews 2793 строк и 4 столбца, отсутствуют пропуски и дубликаты"
   ]
  },
  {
   "cell_type": "markdown",
   "metadata": {},
   "source": [
    "<div class=\"alert alert-success\" style=\"border-radius: 15px; box-shadow: 4px 4px 4px; border: 1px solid \" > <b>Комментарии от ревьюера ✔️ : </b> \n",
    "\n",
    "Здесь всё хорошо. Ты корректно выгрузил данные и посмотрел их содержимое. Вывел информацию  о размерности датасетов. Теперь можем приступать к выполнению заданий\n",
    "</div>"
   ]
  },
  {
   "cell_type": "markdown",
   "metadata": {},
   "source": [
    "### Задание 1"
   ]
  },
  {
   "cell_type": "markdown",
   "metadata": {},
   "source": [
    "###### Посчитаем сколько книг, выпущено после 1 января 2000 года"
   ]
  },
  {
   "cell_type": "code",
   "execution_count": 31,
   "metadata": {},
   "outputs": [],
   "source": [
    "books_cnt = '''\n",
    "SELECT COUNT(book_id) FROM books WHERE publication_date > '2000-01-01'\n",
    "'''"
   ]
  },
  {
   "cell_type": "code",
   "execution_count": 32,
   "metadata": {},
   "outputs": [
    {
     "data": {
      "text/html": [
       "<div>\n",
       "<style scoped>\n",
       "    .dataframe tbody tr th:only-of-type {\n",
       "        vertical-align: middle;\n",
       "    }\n",
       "\n",
       "    .dataframe tbody tr th {\n",
       "        vertical-align: top;\n",
       "    }\n",
       "\n",
       "    .dataframe thead th {\n",
       "        text-align: right;\n",
       "    }\n",
       "</style>\n",
       "<table border=\"1\" class=\"dataframe\">\n",
       "  <thead>\n",
       "    <tr style=\"text-align: right;\">\n",
       "      <th></th>\n",
       "      <th>count</th>\n",
       "    </tr>\n",
       "  </thead>\n",
       "  <tbody>\n",
       "    <tr>\n",
       "      <th>0</th>\n",
       "      <td>819</td>\n",
       "    </tr>\n",
       "  </tbody>\n",
       "</table>\n",
       "</div>"
      ],
      "text/plain": [
       "   count\n",
       "0    819"
      ]
     },
     "execution_count": 32,
     "metadata": {},
     "output_type": "execute_result"
    }
   ],
   "source": [
    "select(books_cnt)"
   ]
  },
  {
   "cell_type": "markdown",
   "metadata": {},
   "source": [
    "<div class=\"alert alert-success\" style=\"border-radius: 15px; box-shadow: 4px 4px 4px; border: 1px solid \" > <b>Комментарии от ревьюера ✔️ : </b> \n",
    "    \n",
    "Всё верно. Это правильный ответ\n",
    "\n",
    "</div>"
   ]
  },
  {
   "cell_type": "markdown",
   "metadata": {},
   "source": [
    "После 1 января 2000 года было выпущено 819 книг"
   ]
  },
  {
   "cell_type": "markdown",
   "metadata": {},
   "source": [
    "### Задание 2"
   ]
  },
  {
   "cell_type": "markdown",
   "metadata": {},
   "source": [
    "###### Посчитаем для каждой книги количество обзоров и среднюю оценку"
   ]
  },
  {
   "cell_type": "markdown",
   "metadata": {},
   "source": [
    "<div class=\"alert alert-info\" > <b>Комментарии студента: </b> В соответствии с замечаниями ревьюера, выведем данные о количестве обзоров и среднюю оценку для всех книг.\n",
    "</div>"
   ]
  },
  {
   "cell_type": "code",
   "execution_count": 33,
   "metadata": {},
   "outputs": [],
   "source": [
    "book_reviews = '''\n",
    "SELECT books.title,\n",
    "    books.book_id,\n",
    "    AVG(ratings.rating) AS avg,\n",
    "    COUNT(DISTINCT reviews.text) AS cnt\n",
    "FROM\n",
    "    books\n",
    "LEFT JOIN ratings ON ratings.book_id = books.book_id\n",
    "LEFT JOIN reviews ON reviews.book_id = books.book_id\n",
    "GROUP BY\n",
    "    books.title,\n",
    "    books.book_id\n",
    "ORDER BY\n",
    "    cnt DESC\n",
    "\n",
    "'''"
   ]
  },
  {
   "cell_type": "code",
   "execution_count": 34,
   "metadata": {
    "scrolled": true
   },
   "outputs": [
    {
     "data": {
      "text/html": [
       "<div>\n",
       "<style scoped>\n",
       "    .dataframe tbody tr th:only-of-type {\n",
       "        vertical-align: middle;\n",
       "    }\n",
       "\n",
       "    .dataframe tbody tr th {\n",
       "        vertical-align: top;\n",
       "    }\n",
       "\n",
       "    .dataframe thead th {\n",
       "        text-align: right;\n",
       "    }\n",
       "</style>\n",
       "<table border=\"1\" class=\"dataframe\">\n",
       "  <thead>\n",
       "    <tr style=\"text-align: right;\">\n",
       "      <th></th>\n",
       "      <th>title</th>\n",
       "      <th>book_id</th>\n",
       "      <th>avg</th>\n",
       "      <th>cnt</th>\n",
       "    </tr>\n",
       "  </thead>\n",
       "  <tbody>\n",
       "    <tr>\n",
       "      <th>0</th>\n",
       "      <td>Twilight (Twilight  #1)</td>\n",
       "      <td>948</td>\n",
       "      <td>3.662500</td>\n",
       "      <td>7</td>\n",
       "    </tr>\n",
       "    <tr>\n",
       "      <th>1</th>\n",
       "      <td>Water for Elephants</td>\n",
       "      <td>963</td>\n",
       "      <td>3.977273</td>\n",
       "      <td>6</td>\n",
       "    </tr>\n",
       "    <tr>\n",
       "      <th>2</th>\n",
       "      <td>The Glass Castle</td>\n",
       "      <td>734</td>\n",
       "      <td>4.206897</td>\n",
       "      <td>6</td>\n",
       "    </tr>\n",
       "    <tr>\n",
       "      <th>3</th>\n",
       "      <td>Harry Potter and the Prisoner of Azkaban (Harr...</td>\n",
       "      <td>302</td>\n",
       "      <td>4.414634</td>\n",
       "      <td>6</td>\n",
       "    </tr>\n",
       "    <tr>\n",
       "      <th>4</th>\n",
       "      <td>The Curious Incident of the Dog in the Night-Time</td>\n",
       "      <td>695</td>\n",
       "      <td>4.081081</td>\n",
       "      <td>6</td>\n",
       "    </tr>\n",
       "    <tr>\n",
       "      <th>...</th>\n",
       "      <td>...</td>\n",
       "      <td>...</td>\n",
       "      <td>...</td>\n",
       "      <td>...</td>\n",
       "    </tr>\n",
       "    <tr>\n",
       "      <th>995</th>\n",
       "      <td>Anne Rice's The Vampire Lestat: A Graphic Novel</td>\n",
       "      <td>83</td>\n",
       "      <td>3.666667</td>\n",
       "      <td>0</td>\n",
       "    </tr>\n",
       "    <tr>\n",
       "      <th>996</th>\n",
       "      <td>The Natural Way to Draw</td>\n",
       "      <td>808</td>\n",
       "      <td>3.000000</td>\n",
       "      <td>0</td>\n",
       "    </tr>\n",
       "    <tr>\n",
       "      <th>997</th>\n",
       "      <td>The Cat in the Hat and Other Dr. Seuss Favorites</td>\n",
       "      <td>672</td>\n",
       "      <td>5.000000</td>\n",
       "      <td>0</td>\n",
       "    </tr>\n",
       "    <tr>\n",
       "      <th>998</th>\n",
       "      <td>Essential Tales and Poems</td>\n",
       "      <td>221</td>\n",
       "      <td>4.000000</td>\n",
       "      <td>0</td>\n",
       "    </tr>\n",
       "    <tr>\n",
       "      <th>999</th>\n",
       "      <td>Disney's Beauty and the Beast (A Little Golden...</td>\n",
       "      <td>191</td>\n",
       "      <td>4.000000</td>\n",
       "      <td>0</td>\n",
       "    </tr>\n",
       "  </tbody>\n",
       "</table>\n",
       "<p>1000 rows × 4 columns</p>\n",
       "</div>"
      ],
      "text/plain": [
       "                                                 title  book_id       avg  cnt\n",
       "0                              Twilight (Twilight  #1)      948  3.662500    7\n",
       "1                                  Water for Elephants      963  3.977273    6\n",
       "2                                     The Glass Castle      734  4.206897    6\n",
       "3    Harry Potter and the Prisoner of Azkaban (Harr...      302  4.414634    6\n",
       "4    The Curious Incident of the Dog in the Night-Time      695  4.081081    6\n",
       "..                                                 ...      ...       ...  ...\n",
       "995    Anne Rice's The Vampire Lestat: A Graphic Novel       83  3.666667    0\n",
       "996                            The Natural Way to Draw      808  3.000000    0\n",
       "997   The Cat in the Hat and Other Dr. Seuss Favorites      672  5.000000    0\n",
       "998                          Essential Tales and Poems      221  4.000000    0\n",
       "999  Disney's Beauty and the Beast (A Little Golden...      191  4.000000    0\n",
       "\n",
       "[1000 rows x 4 columns]"
      ]
     },
     "execution_count": 34,
     "metadata": {},
     "output_type": "execute_result"
    }
   ],
   "source": [
    "select(book_reviews)"
   ]
  },
  {
   "cell_type": "markdown",
   "metadata": {},
   "source": [
    "<div class=\"alert alert-danger\" style=\"border-radius: 15px; box-shadow: 4px 4px 4px; border: 1px solid \" > <b>Комментарии от ревьюера ❌ : </b>\n",
    "    \n",
    "<s>Ты вывел только те книги (994 из 1000), у которых есть текстовые отзывы reviews, а ведь у книг без отзывов оценки никуда не делись и их по задаче необходимо вывести.\n",
    "\n",
    "\n",
    "</div>"
   ]
  },
  {
   "cell_type": "markdown",
   "metadata": {},
   "source": [
    "<div class=\"alert alert-success\" style=\"border-radius: 15px; box-shadow: 4px 4px 4px; border: 1px solid \" > <b>Комментарии от ревьюера v2 ✔️ : </b> \n",
    "\n",
    "Отлично! Теперь всё верно\n",
    "</div>"
   ]
  },
  {
   "cell_type": "markdown",
   "metadata": {},
   "source": [
    "Максимальное кол-во обзоров у книги Twilight (Twilight #1) - 7, затем следует множество книг с количеством обзоров - 6,  средняя оценка в диапазоне 3.8 - 4.2."
   ]
  },
  {
   "cell_type": "markdown",
   "metadata": {},
   "source": [
    "### Задание 3"
   ]
  },
  {
   "cell_type": "markdown",
   "metadata": {},
   "source": [
    "###### Определим издательство, которое издало наибольшее число книг толще 50 страниц"
   ]
  },
  {
   "cell_type": "code",
   "execution_count": 35,
   "metadata": {},
   "outputs": [],
   "source": [
    "book_publisher = '''\n",
    "SELECT\n",
    "    publishers.publisher AS name,\n",
    "    COUNT(books.book_id) AS cnt\n",
    "FROM\n",
    "    publishers\n",
    "INNER JOIN books ON books.publisher_id = publishers.publisher_id\n",
    "WHERE\n",
    "    books.num_pages > 50\n",
    "GROUP BY\n",
    "    name\n",
    "ORDER BY \n",
    "    cnt DESC\n",
    "LIMIT 10\n",
    "'''"
   ]
  },
  {
   "cell_type": "code",
   "execution_count": 36,
   "metadata": {},
   "outputs": [
    {
     "data": {
      "text/html": [
       "<div>\n",
       "<style scoped>\n",
       "    .dataframe tbody tr th:only-of-type {\n",
       "        vertical-align: middle;\n",
       "    }\n",
       "\n",
       "    .dataframe tbody tr th {\n",
       "        vertical-align: top;\n",
       "    }\n",
       "\n",
       "    .dataframe thead th {\n",
       "        text-align: right;\n",
       "    }\n",
       "</style>\n",
       "<table border=\"1\" class=\"dataframe\">\n",
       "  <thead>\n",
       "    <tr style=\"text-align: right;\">\n",
       "      <th></th>\n",
       "      <th>name</th>\n",
       "      <th>cnt</th>\n",
       "    </tr>\n",
       "  </thead>\n",
       "  <tbody>\n",
       "    <tr>\n",
       "      <th>0</th>\n",
       "      <td>Penguin Books</td>\n",
       "      <td>42</td>\n",
       "    </tr>\n",
       "    <tr>\n",
       "      <th>1</th>\n",
       "      <td>Vintage</td>\n",
       "      <td>31</td>\n",
       "    </tr>\n",
       "    <tr>\n",
       "      <th>2</th>\n",
       "      <td>Grand Central Publishing</td>\n",
       "      <td>25</td>\n",
       "    </tr>\n",
       "    <tr>\n",
       "      <th>3</th>\n",
       "      <td>Penguin Classics</td>\n",
       "      <td>24</td>\n",
       "    </tr>\n",
       "    <tr>\n",
       "      <th>4</th>\n",
       "      <td>Ballantine Books</td>\n",
       "      <td>19</td>\n",
       "    </tr>\n",
       "  </tbody>\n",
       "</table>\n",
       "</div>"
      ],
      "text/plain": [
       "                       name  cnt\n",
       "0             Penguin Books   42\n",
       "1                   Vintage   31\n",
       "2  Grand Central Publishing   25\n",
       "3          Penguin Classics   24\n",
       "4          Ballantine Books   19"
      ]
     },
     "execution_count": 36,
     "metadata": {},
     "output_type": "execute_result"
    }
   ],
   "source": [
    "select(book_publisher).head()"
   ]
  },
  {
   "cell_type": "markdown",
   "metadata": {},
   "source": [
    "<div class=\"alert alert-success\" style=\"border-radius: 15px; box-shadow: 4px 4px 4px; border: 1px solid \" > <b>Комментарии от ревьюера ✔️ : </b> \n",
    "    \n",
    "\n",
    "Согласен с результатом. Действительно данное издательство является лидером по выпущенным книгам\n",
    "\n",
    "</div>"
   ]
  },
  {
   "cell_type": "markdown",
   "metadata": {},
   "source": [
    "Издательство Penguin Books - выпустило наибольше число книг в кол-ве 42 книг, толще 50 страниц, затем следуют издательства Vintage (31) и Grand Central Publishing (25)"
   ]
  },
  {
   "cell_type": "markdown",
   "metadata": {},
   "source": [
    "### Задание 4"
   ]
  },
  {
   "cell_type": "markdown",
   "metadata": {},
   "source": [
    "######  Определим автора с самой высокой средней оценкой книг (учитываем только книги с 50 и более оценками)."
   ]
  },
  {
   "cell_type": "code",
   "execution_count": 37,
   "metadata": {},
   "outputs": [],
   "source": [
    "best_author = '''\n",
    "SELECT\n",
    "    ABAC.author AS author,\n",
    "    AVG(ABAC.avg_rating) AS avg_rating\n",
    "FROM\n",
    "(SELECT\n",
    "    authors.author AS author,\n",
    "    books.book_id AS id,\n",
    "    AVG(ratings.rating) AS avg_rating,\n",
    "    COUNT(ratings.rating) AS cnt_rating\n",
    "FROM\n",
    "    authors\n",
    "INNER JOIN books ON books.author_id = authors.author_id\n",
    "INNER JOIN ratings ON ratings.book_id = books.book_id\n",
    "GROUP BY\n",
    "    author,\n",
    "    id\n",
    "    HAVING\n",
    "    COUNT(ratings.rating) >= 50) AS ABAC\n",
    "GROUP BY\n",
    "    author\n",
    "ORDER BY\n",
    "    avg_rating DESC\n",
    "'''"
   ]
  },
  {
   "cell_type": "code",
   "execution_count": 38,
   "metadata": {},
   "outputs": [
    {
     "data": {
      "text/html": [
       "<div>\n",
       "<style scoped>\n",
       "    .dataframe tbody tr th:only-of-type {\n",
       "        vertical-align: middle;\n",
       "    }\n",
       "\n",
       "    .dataframe tbody tr th {\n",
       "        vertical-align: top;\n",
       "    }\n",
       "\n",
       "    .dataframe thead th {\n",
       "        text-align: right;\n",
       "    }\n",
       "</style>\n",
       "<table border=\"1\" class=\"dataframe\">\n",
       "  <thead>\n",
       "    <tr style=\"text-align: right;\">\n",
       "      <th></th>\n",
       "      <th>author</th>\n",
       "      <th>avg_rating</th>\n",
       "    </tr>\n",
       "  </thead>\n",
       "  <tbody>\n",
       "    <tr>\n",
       "      <th>0</th>\n",
       "      <td>J.K. Rowling/Mary GrandPré</td>\n",
       "      <td>4.283844</td>\n",
       "    </tr>\n",
       "    <tr>\n",
       "      <th>1</th>\n",
       "      <td>Markus Zusak/Cao Xuân Việt Khương</td>\n",
       "      <td>4.264151</td>\n",
       "    </tr>\n",
       "    <tr>\n",
       "      <th>2</th>\n",
       "      <td>J.R.R. Tolkien</td>\n",
       "      <td>4.258446</td>\n",
       "    </tr>\n",
       "    <tr>\n",
       "      <th>3</th>\n",
       "      <td>Louisa May Alcott</td>\n",
       "      <td>4.192308</td>\n",
       "    </tr>\n",
       "    <tr>\n",
       "      <th>4</th>\n",
       "      <td>Rick Riordan</td>\n",
       "      <td>4.080645</td>\n",
       "    </tr>\n",
       "  </tbody>\n",
       "</table>\n",
       "</div>"
      ],
      "text/plain": [
       "                              author  avg_rating\n",
       "0         J.K. Rowling/Mary GrandPré    4.283844\n",
       "1  Markus Zusak/Cao Xuân Việt Khương    4.264151\n",
       "2                     J.R.R. Tolkien    4.258446\n",
       "3                  Louisa May Alcott    4.192308\n",
       "4                       Rick Riordan    4.080645"
      ]
     },
     "execution_count": 38,
     "metadata": {},
     "output_type": "execute_result"
    }
   ],
   "source": [
    "select(best_author).head()"
   ]
  },
  {
   "cell_type": "markdown",
   "metadata": {},
   "source": [
    "<div class=\"alert alert-success\" style=\"border-radius: 15px; box-shadow: 4px 4px 4px; border: 1px solid \" > <b>Комментарии от ревьюера ✔️ : </b> \n",
    "    \n",
    "\n",
    "И здесь ты не ошибся. Ты верно отфильтровал книги и рассчитал средний рейтинг авторов\n",
    "\n",
    "</div>"
   ]
  },
  {
   "cell_type": "markdown",
   "metadata": {},
   "source": [
    "Cамая высокая средняя оценка у автора J.K. Rowling/Mary GrandPré (4.2838), далее Markus Zusak/Cao Xuân Việt Khương (4.2641) и J.R.R. Tolkien (4.2584)"
   ]
  },
  {
   "cell_type": "markdown",
   "metadata": {},
   "source": [
    "### Задание 5"
   ]
  },
  {
   "cell_type": "markdown",
   "metadata": {},
   "source": [
    "######  Посчитаем среднее количество обзоров от пользователей, которые поставили больше 50 оценок."
   ]
  },
  {
   "cell_type": "code",
   "execution_count": 39,
   "metadata": {},
   "outputs": [],
   "source": [
    "avg_text = '''\n",
    "SELECT ROUND(avg(count)) \n",
    "FROM\n",
    "(SELECT\n",
    "    COUNT(text)\n",
    "FROM \n",
    "    reviews\n",
    "FULL OUTER JOIN (SELECT username,\n",
    "    COUNT(rating_id) as cnt\n",
    "FROM \n",
    "    ratings\n",
    "GROUP BY\n",
    "    username) AS cnt_rating\n",
    "ON cnt_rating.username = reviews.username\n",
    "WHERE cnt > 50\n",
    "GROUP BY reviews.username) as count\n",
    "'''"
   ]
  },
  {
   "cell_type": "code",
   "execution_count": 40,
   "metadata": {},
   "outputs": [
    {
     "data": {
      "text/html": [
       "<div>\n",
       "<style scoped>\n",
       "    .dataframe tbody tr th:only-of-type {\n",
       "        vertical-align: middle;\n",
       "    }\n",
       "\n",
       "    .dataframe tbody tr th {\n",
       "        vertical-align: top;\n",
       "    }\n",
       "\n",
       "    .dataframe thead th {\n",
       "        text-align: right;\n",
       "    }\n",
       "</style>\n",
       "<table border=\"1\" class=\"dataframe\">\n",
       "  <thead>\n",
       "    <tr style=\"text-align: right;\">\n",
       "      <th></th>\n",
       "      <th>round</th>\n",
       "    </tr>\n",
       "  </thead>\n",
       "  <tbody>\n",
       "    <tr>\n",
       "      <th>0</th>\n",
       "      <td>24.0</td>\n",
       "    </tr>\n",
       "  </tbody>\n",
       "</table>\n",
       "</div>"
      ],
      "text/plain": [
       "   round\n",
       "0   24.0"
      ]
     },
     "execution_count": 40,
     "metadata": {},
     "output_type": "execute_result"
    }
   ],
   "source": [
    "select(avg_text)"
   ]
  },
  {
   "cell_type": "markdown",
   "metadata": {},
   "source": [
    "<div class=\"alert alert-success\" style=\"border-radius: 15px; box-shadow: 4px 4px 4px; border: 1px solid \" > <b>Комментарии от ревьюера ✔️ : </b> \n",
    "    \n",
    "\n",
    "И это .. правильный ответ! Ты корректно отобрал пользователей и рассчитал их показатели.\n",
    "\n",
    "\n",
    "В итоге, 4\\5 с первой попытки - это достойный результат)\n",
    "\n",
    "</div>"
   ]
  },
  {
   "cell_type": "markdown",
   "metadata": {},
   "source": [
    "Среднее кол-во обзоров пользователей, которые поставили более чем по 50 оценок равно 24."
   ]
  },
  {
   "cell_type": "markdown",
   "metadata": {},
   "source": [
    "### Общий вывод:"
   ]
  },
  {
   "cell_type": "markdown",
   "metadata": {},
   "source": [
    "- В таблице book_publisher лежит список всех издательств, которые выпускают книги от 50 страниц.\n",
    "- В таблице best_author лежит список авторов с самой выской средней оценкой, так как у этих авторов учтены книги которые имеют больше 50 пользовательских оценок. \n",
    "- В таблице book_reviews есть книги со средней оценкой и пользовательскими обзорами.\n",
    "- Так же среднее количество текстовых обзоров на книги более чем 50 оценками имеют в среднем 24 текстовых обзора, что будет достаточно информативно для будущих пользователей."
   ]
  }
 ],
 "metadata": {
  "ExecuteTimeLog": [
   {
    "duration": 330,
    "start_time": "2022-02-16T16:15:27.025Z"
   },
   {
    "duration": 101,
    "start_time": "2022-02-16T16:15:36.991Z"
   },
   {
    "duration": 823,
    "start_time": "2022-02-16T16:15:42.960Z"
   },
   {
    "duration": 190,
    "start_time": "2022-02-16T16:15:50.277Z"
   },
   {
    "duration": 353,
    "start_time": "2022-02-16T16:16:10.466Z"
   },
   {
    "duration": 27,
    "start_time": "2022-02-16T16:16:36.472Z"
   },
   {
    "duration": 33,
    "start_time": "2022-02-16T16:17:02.921Z"
   },
   {
    "duration": 5,
    "start_time": "2022-02-16T16:22:02.771Z"
   },
   {
    "duration": 32,
    "start_time": "2022-02-16T16:28:19.925Z"
   },
   {
    "duration": 5,
    "start_time": "2022-02-16T16:28:45.328Z"
   },
   {
    "duration": 48,
    "start_time": "2022-02-16T16:30:03.635Z"
   },
   {
    "duration": 46,
    "start_time": "2022-02-16T16:33:05.013Z"
   },
   {
    "duration": 86,
    "start_time": "2022-02-16T16:43:10.133Z"
   },
   {
    "duration": 6972,
    "start_time": "2022-02-16T16:43:16.432Z"
   },
   {
    "duration": -12,
    "start_time": "2022-02-16T16:43:23.421Z"
   },
   {
    "duration": 11,
    "start_time": "2022-02-16T16:45:17.706Z"
   },
   {
    "duration": 23,
    "start_time": "2022-02-16T16:45:53.864Z"
   },
   {
    "duration": 31,
    "start_time": "2022-02-16T16:45:55.601Z"
   },
   {
    "duration": 86,
    "start_time": "2022-02-16T16:47:59.026Z"
   },
   {
    "duration": 96,
    "start_time": "2022-02-16T16:50:49.606Z"
   },
   {
    "duration": 93,
    "start_time": "2022-02-16T16:50:51.065Z"
   },
   {
    "duration": 90,
    "start_time": "2022-02-16T16:50:51.975Z"
   },
   {
    "duration": 78,
    "start_time": "2022-02-16T16:51:26.642Z"
   },
   {
    "duration": 74,
    "start_time": "2022-02-16T16:55:14.864Z"
   },
   {
    "duration": 87,
    "start_time": "2022-02-16T16:55:54.736Z"
   },
   {
    "duration": 85,
    "start_time": "2022-02-16T17:06:31.251Z"
   },
   {
    "duration": 75,
    "start_time": "2022-02-16T17:09:34.263Z"
   },
   {
    "duration": 9,
    "start_time": "2022-02-16T17:10:42.571Z"
   },
   {
    "duration": 317,
    "start_time": "2022-02-16T17:17:31.052Z"
   },
   {
    "duration": 279,
    "start_time": "2022-02-16T17:17:37.019Z"
   },
   {
    "duration": 9,
    "start_time": "2022-02-16T17:17:43.797Z"
   },
   {
    "duration": 324,
    "start_time": "2022-02-16T17:18:26.935Z"
   },
   {
    "duration": 370,
    "start_time": "2022-02-16T17:18:41.984Z"
   },
   {
    "duration": 8,
    "start_time": "2022-02-16T17:19:19.326Z"
   },
   {
    "duration": 61,
    "start_time": "2022-02-16T17:20:19.427Z"
   },
   {
    "duration": 23,
    "start_time": "2022-02-16T17:34:35.950Z"
   },
   {
    "duration": 22,
    "start_time": "2022-02-16T17:36:56.716Z"
   },
   {
    "duration": 57,
    "start_time": "2022-02-16T17:37:15.048Z"
   },
   {
    "duration": 22,
    "start_time": "2022-02-16T17:38:07.175Z"
   },
   {
    "duration": 59,
    "start_time": "2022-02-16T17:38:11.723Z"
   },
   {
    "duration": 5,
    "start_time": "2022-02-16T17:47:45.572Z"
   },
   {
    "duration": 773,
    "start_time": "2022-02-16T17:48:13.530Z"
   },
   {
    "duration": 187,
    "start_time": "2022-02-16T17:48:14.305Z"
   },
   {
    "duration": 27,
    "start_time": "2022-02-16T17:48:14.496Z"
   },
   {
    "duration": 33,
    "start_time": "2022-02-16T17:48:14.534Z"
   },
   {
    "duration": 5,
    "start_time": "2022-02-16T17:48:14.569Z"
   },
   {
    "duration": 7,
    "start_time": "2022-02-16T17:48:14.577Z"
   },
   {
    "duration": 68,
    "start_time": "2022-02-16T17:48:14.586Z"
   },
   {
    "duration": 5,
    "start_time": "2022-02-16T17:48:14.658Z"
   },
   {
    "duration": 33,
    "start_time": "2022-02-16T17:48:14.666Z"
   },
   {
    "duration": 48,
    "start_time": "2022-02-16T17:48:14.701Z"
   },
   {
    "duration": 34,
    "start_time": "2022-02-16T17:48:14.752Z"
   },
   {
    "duration": 99,
    "start_time": "2022-02-16T17:48:14.789Z"
   },
   {
    "duration": 112,
    "start_time": "2022-02-16T17:48:14.891Z"
   },
   {
    "duration": 88,
    "start_time": "2022-02-16T17:48:15.006Z"
   },
   {
    "duration": 71,
    "start_time": "2022-02-16T17:48:15.097Z"
   },
   {
    "duration": 24,
    "start_time": "2022-02-16T17:48:15.171Z"
   },
   {
    "duration": 49,
    "start_time": "2022-02-16T17:48:15.198Z"
   },
   {
    "duration": 58,
    "start_time": "2022-02-16T17:48:15.250Z"
   },
   {
    "duration": 3,
    "start_time": "2022-02-16T17:48:15.331Z"
   },
   {
    "duration": 6,
    "start_time": "2022-02-16T17:48:15.337Z"
   },
   {
    "duration": 5,
    "start_time": "2022-02-16T17:48:15.346Z"
   },
   {
    "duration": 6,
    "start_time": "2022-02-16T17:48:15.354Z"
   },
   {
    "duration": 3,
    "start_time": "2022-02-16T17:48:15.367Z"
   },
   {
    "duration": 11,
    "start_time": "2022-02-16T17:48:15.374Z"
   },
   {
    "duration": 4,
    "start_time": "2022-02-16T17:48:15.388Z"
   },
   {
    "duration": 5,
    "start_time": "2022-02-16T17:48:15.433Z"
   },
   {
    "duration": 10,
    "start_time": "2022-02-16T17:48:15.440Z"
   },
   {
    "duration": 7,
    "start_time": "2022-02-16T17:48:15.452Z"
   },
   {
    "duration": 5,
    "start_time": "2022-02-16T17:48:15.461Z"
   },
   {
    "duration": 6,
    "start_time": "2022-02-16T17:48:15.468Z"
   },
   {
    "duration": 5,
    "start_time": "2022-02-16T17:48:15.476Z"
   },
   {
    "duration": 9,
    "start_time": "2022-02-16T17:48:15.483Z"
   },
   {
    "duration": 38,
    "start_time": "2022-02-16T17:48:15.494Z"
   },
   {
    "duration": 7,
    "start_time": "2022-02-16T17:48:15.535Z"
   },
   {
    "duration": 7,
    "start_time": "2022-02-16T17:48:15.544Z"
   },
   {
    "duration": 6,
    "start_time": "2022-02-16T17:48:15.553Z"
   },
   {
    "duration": 5,
    "start_time": "2022-02-16T17:48:15.562Z"
   },
   {
    "duration": 5,
    "start_time": "2022-02-16T17:48:15.569Z"
   },
   {
    "duration": 4,
    "start_time": "2022-02-16T17:48:15.576Z"
   },
   {
    "duration": 16,
    "start_time": "2022-02-16T17:53:41.210Z"
   },
   {
    "duration": 15,
    "start_time": "2022-02-16T17:57:38.087Z"
   },
   {
    "duration": 130,
    "start_time": "2022-02-16T18:20:36.613Z"
   },
   {
    "duration": 97,
    "start_time": "2022-02-16T18:21:03.683Z"
   },
   {
    "duration": 161,
    "start_time": "2022-02-16T18:21:12.097Z"
   },
   {
    "duration": 96,
    "start_time": "2022-02-16T18:21:51.212Z"
   },
   {
    "duration": 115,
    "start_time": "2022-02-16T18:22:48.068Z"
   },
   {
    "duration": 141,
    "start_time": "2022-02-16T18:26:45.611Z"
   },
   {
    "duration": 94,
    "start_time": "2022-02-16T18:27:08.876Z"
   },
   {
    "duration": 15,
    "start_time": "2022-02-16T18:27:19.124Z"
   },
   {
    "duration": 77,
    "start_time": "2022-02-16T18:31:52.721Z"
   },
   {
    "duration": 75,
    "start_time": "2022-02-16T18:32:03.444Z"
   },
   {
    "duration": 383,
    "start_time": "2022-02-16T18:32:22.607Z"
   },
   {
    "duration": 114,
    "start_time": "2022-02-16T18:32:46.640Z"
   },
   {
    "duration": 75,
    "start_time": "2022-02-16T18:33:09.155Z"
   },
   {
    "duration": 15,
    "start_time": "2022-02-16T18:33:20.346Z"
   },
   {
    "duration": 22,
    "start_time": "2022-02-16T18:34:54.094Z"
   },
   {
    "duration": 22,
    "start_time": "2022-02-16T18:35:06.738Z"
   },
   {
    "duration": 101,
    "start_time": "2022-02-16T18:35:18.040Z"
   },
   {
    "duration": 92,
    "start_time": "2022-02-16T18:35:32.099Z"
   },
   {
    "duration": 14,
    "start_time": "2022-02-16T18:35:49.023Z"
   },
   {
    "duration": 89,
    "start_time": "2022-02-16T18:44:46.056Z"
   },
   {
    "duration": 370,
    "start_time": "2022-02-16T18:44:57.057Z"
   },
   {
    "duration": 15,
    "start_time": "2022-02-16T18:45:08.962Z"
   },
   {
    "duration": 271,
    "start_time": "2022-02-17T17:27:37.728Z"
   },
   {
    "duration": 653,
    "start_time": "2022-02-17T17:28:13.862Z"
   },
   {
    "duration": 155,
    "start_time": "2022-02-17T17:28:14.517Z"
   },
   {
    "duration": 19,
    "start_time": "2022-02-17T17:28:14.674Z"
   },
   {
    "duration": 37,
    "start_time": "2022-02-17T17:28:14.695Z"
   },
   {
    "duration": 5,
    "start_time": "2022-02-17T17:28:14.734Z"
   },
   {
    "duration": 25,
    "start_time": "2022-02-17T17:28:14.741Z"
   },
   {
    "duration": 41,
    "start_time": "2022-02-17T17:28:14.770Z"
   },
   {
    "duration": 4,
    "start_time": "2022-02-17T17:28:14.815Z"
   },
   {
    "duration": 63,
    "start_time": "2022-02-17T17:28:14.821Z"
   },
   {
    "duration": 51,
    "start_time": "2022-02-17T17:28:14.887Z"
   },
   {
    "duration": 61,
    "start_time": "2022-02-17T17:28:14.940Z"
   },
   {
    "duration": 99,
    "start_time": "2022-02-17T17:28:15.004Z"
   },
   {
    "duration": 94,
    "start_time": "2022-02-17T17:28:15.105Z"
   },
   {
    "duration": 68,
    "start_time": "2022-02-17T17:28:15.201Z"
   },
   {
    "duration": 48,
    "start_time": "2022-02-17T17:28:15.271Z"
   },
   {
    "duration": 18,
    "start_time": "2022-02-17T17:28:15.321Z"
   },
   {
    "duration": 37,
    "start_time": "2022-02-17T17:28:15.341Z"
   },
   {
    "duration": 43,
    "start_time": "2022-02-17T17:28:15.380Z"
   },
   {
    "duration": 12,
    "start_time": "2022-02-17T17:28:15.425Z"
   },
   {
    "duration": 32,
    "start_time": "2022-02-17T17:28:15.439Z"
   },
   {
    "duration": 3,
    "start_time": "2022-02-17T17:28:15.473Z"
   },
   {
    "duration": 30,
    "start_time": "2022-02-17T17:28:15.478Z"
   },
   {
    "duration": 20,
    "start_time": "2022-02-17T17:28:15.512Z"
   },
   {
    "duration": 44,
    "start_time": "2022-02-17T17:28:15.534Z"
   },
   {
    "duration": 14,
    "start_time": "2022-02-17T17:28:15.580Z"
   },
   {
    "duration": 21,
    "start_time": "2022-02-17T17:28:15.596Z"
   },
   {
    "duration": 15,
    "start_time": "2022-02-17T17:28:15.620Z"
   },
   {
    "duration": 37,
    "start_time": "2022-02-17T17:28:15.637Z"
   },
   {
    "duration": 27,
    "start_time": "2022-02-17T17:28:15.676Z"
   },
   {
    "duration": 11,
    "start_time": "2022-02-17T17:28:15.705Z"
   },
   {
    "duration": 6,
    "start_time": "2022-02-17T17:28:15.718Z"
   },
   {
    "duration": 46,
    "start_time": "2022-02-17T17:28:15.726Z"
   },
   {
    "duration": 20,
    "start_time": "2022-02-17T17:28:15.773Z"
   },
   {
    "duration": 34,
    "start_time": "2022-02-17T17:28:15.796Z"
   },
   {
    "duration": 48,
    "start_time": "2022-02-17T17:28:15.832Z"
   },
   {
    "duration": 54,
    "start_time": "2022-02-17T17:28:15.882Z"
   },
   {
    "duration": 12,
    "start_time": "2022-02-17T17:28:15.938Z"
   },
   {
    "duration": 29,
    "start_time": "2022-02-17T17:28:15.970Z"
   },
   {
    "duration": 12,
    "start_time": "2022-02-17T17:28:16.002Z"
   },
   {
    "duration": 14,
    "start_time": "2022-02-17T17:28:42.941Z"
   },
   {
    "duration": 23,
    "start_time": "2022-02-17T17:28:48.280Z"
   },
   {
    "duration": 612,
    "start_time": "2022-02-17T17:28:56.480Z"
   },
   {
    "duration": 153,
    "start_time": "2022-02-17T17:28:57.094Z"
   },
   {
    "duration": 22,
    "start_time": "2022-02-17T17:28:57.250Z"
   },
   {
    "duration": 29,
    "start_time": "2022-02-17T17:28:57.274Z"
   },
   {
    "duration": 4,
    "start_time": "2022-02-17T17:28:57.306Z"
   },
   {
    "duration": 6,
    "start_time": "2022-02-17T17:28:57.311Z"
   },
   {
    "duration": 54,
    "start_time": "2022-02-17T17:28:57.319Z"
   },
   {
    "duration": 3,
    "start_time": "2022-02-17T17:28:57.376Z"
   },
   {
    "duration": 28,
    "start_time": "2022-02-17T17:28:57.382Z"
   },
   {
    "duration": 17,
    "start_time": "2022-02-17T17:28:57.413Z"
   },
   {
    "duration": 47,
    "start_time": "2022-02-17T17:28:57.432Z"
   },
   {
    "duration": 63,
    "start_time": "2022-02-17T17:28:57.482Z"
   },
   {
    "duration": 86,
    "start_time": "2022-02-17T17:28:57.547Z"
   },
   {
    "duration": 68,
    "start_time": "2022-02-17T17:28:57.635Z"
   },
   {
    "duration": 45,
    "start_time": "2022-02-17T17:28:57.705Z"
   },
   {
    "duration": 32,
    "start_time": "2022-02-17T17:28:57.752Z"
   },
   {
    "duration": 20,
    "start_time": "2022-02-17T17:28:57.786Z"
   },
   {
    "duration": 64,
    "start_time": "2022-02-17T17:28:57.809Z"
   },
   {
    "duration": 12,
    "start_time": "2022-02-17T17:28:57.874Z"
   },
   {
    "duration": 12,
    "start_time": "2022-02-17T17:28:57.887Z"
   },
   {
    "duration": 4,
    "start_time": "2022-02-17T17:28:57.900Z"
   },
   {
    "duration": 22,
    "start_time": "2022-02-17T17:28:57.906Z"
   },
   {
    "duration": 44,
    "start_time": "2022-02-17T17:28:57.932Z"
   },
   {
    "duration": 18,
    "start_time": "2022-02-17T17:28:57.979Z"
   },
   {
    "duration": 15,
    "start_time": "2022-02-17T17:28:57.999Z"
   },
   {
    "duration": 19,
    "start_time": "2022-02-17T17:28:58.016Z"
   },
   {
    "duration": 52,
    "start_time": "2022-02-17T17:28:58.037Z"
   },
   {
    "duration": 9,
    "start_time": "2022-02-17T17:28:58.091Z"
   },
   {
    "duration": 21,
    "start_time": "2022-02-17T17:28:58.102Z"
   },
   {
    "duration": 14,
    "start_time": "2022-02-17T17:28:58.125Z"
   },
   {
    "duration": 32,
    "start_time": "2022-02-17T17:28:58.141Z"
   },
   {
    "duration": 47,
    "start_time": "2022-02-17T17:28:58.175Z"
   },
   {
    "duration": 19,
    "start_time": "2022-02-17T17:28:58.224Z"
   },
   {
    "duration": 52,
    "start_time": "2022-02-17T17:28:58.244Z"
   },
   {
    "duration": 20,
    "start_time": "2022-02-17T17:28:58.298Z"
   },
   {
    "duration": 79,
    "start_time": "2022-02-17T17:28:58.320Z"
   },
   {
    "duration": 13,
    "start_time": "2022-02-17T17:28:58.401Z"
   },
   {
    "duration": 31,
    "start_time": "2022-02-17T17:28:58.415Z"
   },
   {
    "duration": 29,
    "start_time": "2022-02-17T17:28:58.448Z"
   },
   {
    "duration": 15,
    "start_time": "2022-02-17T17:30:17.625Z"
   },
   {
    "duration": 10,
    "start_time": "2022-02-17T17:30:19.007Z"
   },
   {
    "duration": 4,
    "start_time": "2022-02-17T17:30:23.667Z"
   },
   {
    "duration": 31,
    "start_time": "2022-02-17T17:30:25.797Z"
   },
   {
    "duration": 19,
    "start_time": "2022-02-17T17:30:28.759Z"
   },
   {
    "duration": 32,
    "start_time": "2022-02-17T17:30:31.415Z"
   },
   {
    "duration": 20,
    "start_time": "2022-02-17T17:30:33.530Z"
   },
   {
    "duration": 58,
    "start_time": "2022-02-17T17:30:39.871Z"
   },
   {
    "duration": 12,
    "start_time": "2022-02-17T17:31:13.294Z"
   },
   {
    "duration": 12,
    "start_time": "2022-02-17T17:31:14.499Z"
   },
   {
    "duration": 63,
    "start_time": "2022-02-17T17:31:15.476Z"
   },
   {
    "duration": 12,
    "start_time": "2022-02-17T17:31:24.492Z"
   },
   {
    "duration": 61,
    "start_time": "2022-02-17T17:31:31.214Z"
   },
   {
    "duration": 425,
    "start_time": "2022-02-17T17:32:07.734Z"
   },
   {
    "duration": 12,
    "start_time": "2022-02-17T17:32:37.283Z"
   },
   {
    "duration": 5,
    "start_time": "2022-02-17T17:32:40.246Z"
   },
   {
    "duration": 8,
    "start_time": "2022-02-17T17:33:20.215Z"
   },
   {
    "duration": 5,
    "start_time": "2022-02-17T17:33:24.242Z"
   },
   {
    "duration": 5,
    "start_time": "2022-02-17T17:42:04.470Z"
   },
   {
    "duration": 21,
    "start_time": "2022-02-17T17:42:07.713Z"
   },
   {
    "duration": 5,
    "start_time": "2022-02-17T17:42:15.520Z"
   },
   {
    "duration": 20,
    "start_time": "2022-02-17T17:42:19.350Z"
   },
   {
    "duration": 15,
    "start_time": "2022-02-17T17:42:21.329Z"
   },
   {
    "duration": 18,
    "start_time": "2022-02-17T17:42:24.202Z"
   },
   {
    "duration": 14,
    "start_time": "2022-02-17T17:42:26.304Z"
   },
   {
    "duration": 5,
    "start_time": "2022-02-17T17:42:30.518Z"
   },
   {
    "duration": 8,
    "start_time": "2022-02-17T17:42:34.732Z"
   },
   {
    "duration": 5,
    "start_time": "2022-02-17T17:42:36.702Z"
   },
   {
    "duration": 618,
    "start_time": "2022-02-17T17:44:34.504Z"
   },
   {
    "duration": 170,
    "start_time": "2022-02-17T17:44:35.125Z"
   },
   {
    "duration": 19,
    "start_time": "2022-02-17T17:44:35.297Z"
   },
   {
    "duration": 28,
    "start_time": "2022-02-17T17:44:35.318Z"
   },
   {
    "duration": 3,
    "start_time": "2022-02-17T17:44:35.348Z"
   },
   {
    "duration": 5,
    "start_time": "2022-02-17T17:44:35.369Z"
   },
   {
    "duration": 35,
    "start_time": "2022-02-17T17:44:35.376Z"
   },
   {
    "duration": 7,
    "start_time": "2022-02-17T17:44:35.414Z"
   },
   {
    "duration": 45,
    "start_time": "2022-02-17T17:44:35.424Z"
   },
   {
    "duration": 24,
    "start_time": "2022-02-17T17:44:35.472Z"
   },
   {
    "duration": 25,
    "start_time": "2022-02-17T17:44:35.498Z"
   },
   {
    "duration": 95,
    "start_time": "2022-02-17T17:44:35.525Z"
   },
   {
    "duration": 92,
    "start_time": "2022-02-17T17:44:35.622Z"
   },
   {
    "duration": 65,
    "start_time": "2022-02-17T17:44:35.717Z"
   },
   {
    "duration": 42,
    "start_time": "2022-02-17T17:44:35.785Z"
   },
   {
    "duration": 16,
    "start_time": "2022-02-17T17:44:35.829Z"
   },
   {
    "duration": 42,
    "start_time": "2022-02-17T17:44:35.846Z"
   },
   {
    "duration": 43,
    "start_time": "2022-02-17T17:44:35.890Z"
   },
   {
    "duration": 35,
    "start_time": "2022-02-17T17:44:35.936Z"
   },
   {
    "duration": 15,
    "start_time": "2022-02-17T17:44:35.974Z"
   },
   {
    "duration": 4,
    "start_time": "2022-02-17T17:44:35.990Z"
   },
   {
    "duration": 20,
    "start_time": "2022-02-17T17:44:35.996Z"
   },
   {
    "duration": 15,
    "start_time": "2022-02-17T17:44:36.020Z"
   },
   {
    "duration": 53,
    "start_time": "2022-02-17T17:44:36.038Z"
   },
   {
    "duration": 15,
    "start_time": "2022-02-17T17:44:36.093Z"
   },
   {
    "duration": 15,
    "start_time": "2022-02-17T17:44:36.110Z"
   },
   {
    "duration": 52,
    "start_time": "2022-02-17T17:44:36.127Z"
   },
   {
    "duration": 7,
    "start_time": "2022-02-17T17:44:36.183Z"
   },
   {
    "duration": 15,
    "start_time": "2022-02-17T17:44:36.192Z"
   },
   {
    "duration": 10,
    "start_time": "2022-02-17T17:44:36.209Z"
   },
   {
    "duration": 6,
    "start_time": "2022-02-17T17:44:36.220Z"
   },
   {
    "duration": 41,
    "start_time": "2022-02-17T17:44:36.228Z"
   },
   {
    "duration": 21,
    "start_time": "2022-02-17T17:44:36.272Z"
   },
   {
    "duration": 19,
    "start_time": "2022-02-17T17:44:36.295Z"
   },
   {
    "duration": 13,
    "start_time": "2022-02-17T17:44:36.316Z"
   },
   {
    "duration": 48,
    "start_time": "2022-02-17T17:44:36.331Z"
   },
   {
    "duration": 5,
    "start_time": "2022-02-17T17:44:36.381Z"
   },
   {
    "duration": 9,
    "start_time": "2022-02-17T17:44:36.388Z"
   },
   {
    "duration": 5,
    "start_time": "2022-02-17T17:44:36.398Z"
   },
   {
    "duration": 289,
    "start_time": "2022-02-26T17:39:34.911Z"
   },
   {
    "duration": 225,
    "start_time": "2022-02-26T17:39:41.479Z"
   },
   {
    "duration": 251,
    "start_time": "2022-02-26T17:40:01.142Z"
   },
   {
    "duration": 1893,
    "start_time": "2022-02-26T17:40:21.405Z"
   },
   {
    "duration": 261,
    "start_time": "2022-02-26T17:41:55.783Z"
   },
   {
    "duration": 585,
    "start_time": "2022-02-26T17:42:04.222Z"
   },
   {
    "duration": 159,
    "start_time": "2022-02-26T17:42:04.809Z"
   },
   {
    "duration": 18,
    "start_time": "2022-02-26T17:42:04.973Z"
   },
   {
    "duration": 25,
    "start_time": "2022-02-26T17:42:04.993Z"
   },
   {
    "duration": 9,
    "start_time": "2022-02-26T17:42:05.020Z"
   },
   {
    "duration": 23,
    "start_time": "2022-02-26T17:42:05.031Z"
   },
   {
    "duration": 24,
    "start_time": "2022-02-26T17:42:05.057Z"
   },
   {
    "duration": 27,
    "start_time": "2022-02-26T17:42:05.083Z"
   },
   {
    "duration": 16,
    "start_time": "2022-02-26T17:42:05.112Z"
   },
   {
    "duration": 46,
    "start_time": "2022-02-26T17:42:05.131Z"
   },
   {
    "duration": 61,
    "start_time": "2022-02-26T17:42:05.179Z"
   },
   {
    "duration": 92,
    "start_time": "2022-02-26T17:42:05.242Z"
   },
   {
    "duration": 58,
    "start_time": "2022-02-26T17:42:05.336Z"
   },
   {
    "duration": 44,
    "start_time": "2022-02-26T17:42:05.396Z"
   },
   {
    "duration": 38,
    "start_time": "2022-02-26T17:42:05.442Z"
   },
   {
    "duration": 19,
    "start_time": "2022-02-26T17:42:05.482Z"
   },
   {
    "duration": 44,
    "start_time": "2022-02-26T17:42:05.503Z"
   },
   {
    "duration": 33,
    "start_time": "2022-02-26T17:42:05.549Z"
   },
   {
    "duration": 10,
    "start_time": "2022-02-26T17:42:05.584Z"
   },
   {
    "duration": 3,
    "start_time": "2022-02-26T17:42:05.596Z"
   },
   {
    "duration": 21,
    "start_time": "2022-02-26T17:42:05.601Z"
   },
   {
    "duration": 14,
    "start_time": "2022-02-26T17:42:05.626Z"
   },
   {
    "duration": 42,
    "start_time": "2022-02-26T17:42:05.642Z"
   },
   {
    "duration": 51,
    "start_time": "2022-02-26T17:42:05.686Z"
   },
   {
    "duration": 27,
    "start_time": "2022-02-26T17:42:05.738Z"
   },
   {
    "duration": 20,
    "start_time": "2022-02-26T17:42:05.767Z"
   },
   {
    "duration": 31,
    "start_time": "2022-02-26T17:42:05.789Z"
   },
   {
    "duration": 25,
    "start_time": "2022-02-26T17:42:05.822Z"
   },
   {
    "duration": 28,
    "start_time": "2022-02-26T17:42:05.848Z"
   },
   {
    "duration": 31,
    "start_time": "2022-02-26T17:42:05.878Z"
   },
   {
    "duration": 44,
    "start_time": "2022-02-26T17:42:05.911Z"
   },
   {
    "duration": 34,
    "start_time": "2022-02-26T17:42:05.957Z"
   },
   {
    "duration": 27,
    "start_time": "2022-02-26T17:42:05.993Z"
   },
   {
    "duration": 15,
    "start_time": "2022-02-26T17:42:06.022Z"
   },
   {
    "duration": 18,
    "start_time": "2022-02-26T17:42:06.039Z"
   },
   {
    "duration": 21,
    "start_time": "2022-02-26T17:42:06.059Z"
   },
   {
    "duration": 11,
    "start_time": "2022-02-26T17:42:06.081Z"
   },
   {
    "duration": 14,
    "start_time": "2022-02-26T17:42:06.093Z"
   },
   {
    "duration": 42,
    "start_time": "2022-02-26T17:46:55.439Z"
   },
   {
    "duration": 11,
    "start_time": "2022-02-26T17:48:40.929Z"
   },
   {
    "duration": 11,
    "start_time": "2022-02-26T17:51:12.526Z"
   },
   {
    "duration": 4,
    "start_time": "2022-02-26T17:54:37.282Z"
   },
   {
    "duration": 638,
    "start_time": "2022-02-26T17:55:40.563Z"
   },
   {
    "duration": 146,
    "start_time": "2022-02-26T17:55:41.204Z"
   },
   {
    "duration": 17,
    "start_time": "2022-02-26T17:55:41.352Z"
   },
   {
    "duration": 37,
    "start_time": "2022-02-26T17:55:41.371Z"
   },
   {
    "duration": 21,
    "start_time": "2022-02-26T17:55:41.409Z"
   },
   {
    "duration": 31,
    "start_time": "2022-02-26T17:55:41.432Z"
   },
   {
    "duration": 21,
    "start_time": "2022-02-26T17:55:41.465Z"
   },
   {
    "duration": 34,
    "start_time": "2022-02-26T17:55:41.488Z"
   },
   {
    "duration": 38,
    "start_time": "2022-02-26T17:55:41.525Z"
   },
   {
    "duration": 40,
    "start_time": "2022-02-26T17:55:41.565Z"
   },
   {
    "duration": 81,
    "start_time": "2022-02-26T17:55:41.607Z"
   },
   {
    "duration": 70,
    "start_time": "2022-02-26T17:55:41.690Z"
   },
   {
    "duration": 61,
    "start_time": "2022-02-26T17:55:41.762Z"
   },
   {
    "duration": 63,
    "start_time": "2022-02-26T17:55:41.825Z"
   },
   {
    "duration": 16,
    "start_time": "2022-02-26T17:55:41.890Z"
   },
   {
    "duration": 21,
    "start_time": "2022-02-26T17:55:41.908Z"
   },
   {
    "duration": 57,
    "start_time": "2022-02-26T17:55:41.931Z"
   },
   {
    "duration": 25,
    "start_time": "2022-02-26T17:55:41.990Z"
   },
   {
    "duration": 16,
    "start_time": "2022-02-26T17:55:42.017Z"
   },
   {
    "duration": 26,
    "start_time": "2022-02-26T17:55:42.035Z"
   },
   {
    "duration": 37,
    "start_time": "2022-02-26T17:55:42.063Z"
   },
   {
    "duration": 26,
    "start_time": "2022-02-26T17:55:42.101Z"
   },
   {
    "duration": 24,
    "start_time": "2022-02-26T17:55:42.130Z"
   },
   {
    "duration": 26,
    "start_time": "2022-02-26T17:55:42.156Z"
   },
   {
    "duration": 21,
    "start_time": "2022-02-26T17:55:42.184Z"
   },
   {
    "duration": 19,
    "start_time": "2022-02-26T17:55:42.207Z"
   },
   {
    "duration": 13,
    "start_time": "2022-02-26T17:55:42.227Z"
   },
   {
    "duration": 30,
    "start_time": "2022-02-26T17:55:42.242Z"
   },
   {
    "duration": 22,
    "start_time": "2022-02-26T17:55:42.273Z"
   },
   {
    "duration": 16,
    "start_time": "2022-02-26T17:55:42.297Z"
   },
   {
    "duration": 40,
    "start_time": "2022-02-26T17:55:42.314Z"
   },
   {
    "duration": 12,
    "start_time": "2022-02-26T17:55:42.356Z"
   },
   {
    "duration": 24,
    "start_time": "2022-02-26T17:55:42.370Z"
   },
   {
    "duration": 11,
    "start_time": "2022-02-26T17:55:42.396Z"
   },
   {
    "duration": 9,
    "start_time": "2022-02-26T17:55:42.409Z"
   },
   {
    "duration": 16,
    "start_time": "2022-02-26T17:55:42.419Z"
   },
   {
    "duration": 9,
    "start_time": "2022-02-26T17:55:42.437Z"
   },
   {
    "duration": 14,
    "start_time": "2022-02-26T17:55:42.447Z"
   },
   {
    "duration": 327,
    "start_time": "2022-02-27T07:33:29.728Z"
   },
   {
    "duration": 524,
    "start_time": "2022-08-16T06:12:59.435Z"
   },
   {
    "duration": 4,
    "start_time": "2022-08-16T06:12:59.961Z"
   },
   {
    "duration": 10,
    "start_time": "2022-08-16T06:12:59.966Z"
   },
   {
    "duration": 5704,
    "start_time": "2022-08-16T06:12:59.978Z"
   },
   {
    "duration": 3,
    "start_time": "2022-08-16T06:13:05.684Z"
   },
   {
    "duration": 21,
    "start_time": "2022-08-16T06:13:05.688Z"
   },
   {
    "duration": 319,
    "start_time": "2022-08-16T06:13:05.711Z"
   },
   {
    "duration": 113,
    "start_time": "2022-08-16T06:13:06.032Z"
   },
   {
    "duration": 80,
    "start_time": "2022-08-16T06:13:06.146Z"
   },
   {
    "duration": 79,
    "start_time": "2022-08-16T06:13:06.229Z"
   },
   {
    "duration": 3,
    "start_time": "2022-08-16T06:13:06.310Z"
   },
   {
    "duration": 95,
    "start_time": "2022-08-16T06:13:06.314Z"
   },
   {
    "duration": 92,
    "start_time": "2022-08-16T06:13:06.411Z"
   },
   {
    "duration": 76,
    "start_time": "2022-08-16T06:13:06.505Z"
   },
   {
    "duration": 77,
    "start_time": "2022-08-16T06:13:06.582Z"
   },
   {
    "duration": 2,
    "start_time": "2022-08-16T06:13:06.660Z"
   },
   {
    "duration": 96,
    "start_time": "2022-08-16T06:13:06.664Z"
   },
   {
    "duration": 80,
    "start_time": "2022-08-16T06:13:06.762Z"
   },
   {
    "duration": 76,
    "start_time": "2022-08-16T06:13:06.844Z"
   },
   {
    "duration": 79,
    "start_time": "2022-08-16T06:13:06.922Z"
   },
   {
    "duration": 3,
    "start_time": "2022-08-16T06:13:07.003Z"
   },
   {
    "duration": 116,
    "start_time": "2022-08-16T06:13:07.008Z"
   },
   {
    "duration": 103,
    "start_time": "2022-08-16T06:13:07.126Z"
   },
   {
    "duration": 135,
    "start_time": "2022-08-16T06:13:07.232Z"
   },
   {
    "duration": 89,
    "start_time": "2022-08-16T06:13:07.368Z"
   },
   {
    "duration": 2,
    "start_time": "2022-08-16T06:13:07.459Z"
   },
   {
    "duration": 98,
    "start_time": "2022-08-16T06:13:07.463Z"
   },
   {
    "duration": 100,
    "start_time": "2022-08-16T06:13:07.564Z"
   },
   {
    "duration": 83,
    "start_time": "2022-08-16T06:13:07.665Z"
   },
   {
    "duration": 92,
    "start_time": "2022-08-16T06:13:07.750Z"
   },
   {
    "duration": 2,
    "start_time": "2022-08-16T06:13:07.845Z"
   },
   {
    "duration": 84,
    "start_time": "2022-08-16T06:13:07.848Z"
   },
   {
    "duration": 3,
    "start_time": "2022-08-16T06:13:07.933Z"
   },
   {
    "duration": 120,
    "start_time": "2022-08-16T06:13:07.938Z"
   },
   {
    "duration": 3,
    "start_time": "2022-08-16T06:13:08.059Z"
   },
   {
    "duration": 91,
    "start_time": "2022-08-16T06:13:08.063Z"
   },
   {
    "duration": 3,
    "start_time": "2022-08-16T06:13:08.155Z"
   },
   {
    "duration": 90,
    "start_time": "2022-08-16T06:13:08.160Z"
   },
   {
    "duration": 5,
    "start_time": "2022-08-16T06:13:08.252Z"
   },
   {
    "duration": 102,
    "start_time": "2022-08-16T06:13:08.259Z"
   },
   {
    "duration": 518,
    "start_time": "2022-08-17T04:24:06.011Z"
   },
   {
    "duration": 3,
    "start_time": "2022-08-17T04:24:06.531Z"
   },
   {
    "duration": 7,
    "start_time": "2022-08-17T04:24:06.536Z"
   },
   {
    "duration": 9291,
    "start_time": "2022-08-17T04:24:06.545Z"
   },
   {
    "duration": 3,
    "start_time": "2022-08-17T04:24:15.837Z"
   },
   {
    "duration": 19,
    "start_time": "2022-08-17T04:24:15.841Z"
   },
   {
    "duration": 298,
    "start_time": "2022-08-17T04:24:15.861Z"
   },
   {
    "duration": 79,
    "start_time": "2022-08-17T04:24:16.161Z"
   },
   {
    "duration": 75,
    "start_time": "2022-08-17T04:24:16.242Z"
   },
   {
    "duration": 75,
    "start_time": "2022-08-17T04:24:16.321Z"
   },
   {
    "duration": 2,
    "start_time": "2022-08-17T04:24:16.398Z"
   },
   {
    "duration": 89,
    "start_time": "2022-08-17T04:24:16.402Z"
   },
   {
    "duration": 75,
    "start_time": "2022-08-17T04:24:16.493Z"
   },
   {
    "duration": 73,
    "start_time": "2022-08-17T04:24:16.569Z"
   },
   {
    "duration": 72,
    "start_time": "2022-08-17T04:24:16.643Z"
   },
   {
    "duration": 3,
    "start_time": "2022-08-17T04:24:16.716Z"
   },
   {
    "duration": 105,
    "start_time": "2022-08-17T04:24:16.720Z"
   },
   {
    "duration": 76,
    "start_time": "2022-08-17T04:24:16.827Z"
   },
   {
    "duration": 73,
    "start_time": "2022-08-17T04:24:16.905Z"
   },
   {
    "duration": 85,
    "start_time": "2022-08-17T04:24:16.980Z"
   },
   {
    "duration": 3,
    "start_time": "2022-08-17T04:24:17.067Z"
   },
   {
    "duration": 123,
    "start_time": "2022-08-17T04:24:17.071Z"
   },
   {
    "duration": 95,
    "start_time": "2022-08-17T04:24:17.195Z"
   },
   {
    "duration": 129,
    "start_time": "2022-08-17T04:24:17.292Z"
   },
   {
    "duration": 83,
    "start_time": "2022-08-17T04:24:17.422Z"
   },
   {
    "duration": 2,
    "start_time": "2022-08-17T04:24:17.506Z"
   },
   {
    "duration": 99,
    "start_time": "2022-08-17T04:24:17.510Z"
   },
   {
    "duration": 82,
    "start_time": "2022-08-17T04:24:17.612Z"
   },
   {
    "duration": 80,
    "start_time": "2022-08-17T04:24:17.696Z"
   },
   {
    "duration": 83,
    "start_time": "2022-08-17T04:24:17.777Z"
   },
   {
    "duration": 2,
    "start_time": "2022-08-17T04:24:17.862Z"
   },
   {
    "duration": 95,
    "start_time": "2022-08-17T04:24:17.866Z"
   },
   {
    "duration": 3,
    "start_time": "2022-08-17T04:24:17.963Z"
   },
   {
    "duration": 110,
    "start_time": "2022-08-17T04:24:17.967Z"
   },
   {
    "duration": 3,
    "start_time": "2022-08-17T04:24:18.078Z"
   },
   {
    "duration": 81,
    "start_time": "2022-08-17T04:24:18.082Z"
   },
   {
    "duration": 3,
    "start_time": "2022-08-17T04:24:18.165Z"
   },
   {
    "duration": 90,
    "start_time": "2022-08-17T04:24:18.169Z"
   },
   {
    "duration": 2,
    "start_time": "2022-08-17T04:24:18.261Z"
   },
   {
    "duration": 82,
    "start_time": "2022-08-17T04:24:18.264Z"
   },
   {
    "duration": 3,
    "start_time": "2022-08-17T04:24:51.803Z"
   },
   {
    "duration": 115,
    "start_time": "2022-08-17T04:24:54.827Z"
   },
   {
    "duration": 508,
    "start_time": "2022-08-17T05:03:32.366Z"
   },
   {
    "duration": 3,
    "start_time": "2022-08-17T05:03:32.876Z"
   },
   {
    "duration": 7,
    "start_time": "2022-08-17T05:03:32.881Z"
   },
   {
    "duration": 8430,
    "start_time": "2022-08-17T05:03:32.890Z"
   },
   {
    "duration": 3,
    "start_time": "2022-08-17T05:03:41.322Z"
   },
   {
    "duration": 6,
    "start_time": "2022-08-17T05:03:41.327Z"
   },
   {
    "duration": 75,
    "start_time": "2022-08-17T05:03:41.335Z"
   },
   {
    "duration": 18,
    "start_time": "2022-08-17T05:03:41.412Z"
   },
   {
    "duration": 12,
    "start_time": "2022-08-17T05:03:41.432Z"
   },
   {
    "duration": 13,
    "start_time": "2022-08-17T05:03:41.446Z"
   },
   {
    "duration": 2,
    "start_time": "2022-08-17T05:03:41.461Z"
   },
   {
    "duration": 15,
    "start_time": "2022-08-17T05:03:41.464Z"
   },
   {
    "duration": 13,
    "start_time": "2022-08-17T05:03:41.481Z"
   },
   {
    "duration": 10,
    "start_time": "2022-08-17T05:03:41.496Z"
   },
   {
    "duration": 9,
    "start_time": "2022-08-17T05:03:41.507Z"
   },
   {
    "duration": 2,
    "start_time": "2022-08-17T05:03:41.518Z"
   },
   {
    "duration": 13,
    "start_time": "2022-08-17T05:03:41.554Z"
   },
   {
    "duration": 20,
    "start_time": "2022-08-17T05:03:41.569Z"
   },
   {
    "duration": 10,
    "start_time": "2022-08-17T05:03:41.591Z"
   },
   {
    "duration": 10,
    "start_time": "2022-08-17T05:03:41.603Z"
   },
   {
    "duration": 2,
    "start_time": "2022-08-17T05:03:41.615Z"
   },
   {
    "duration": 41,
    "start_time": "2022-08-17T05:03:41.619Z"
   },
   {
    "duration": 27,
    "start_time": "2022-08-17T05:03:41.662Z"
   },
   {
    "duration": 64,
    "start_time": "2022-08-17T05:03:41.691Z"
   },
   {
    "duration": 20,
    "start_time": "2022-08-17T05:03:41.757Z"
   },
   {
    "duration": 2,
    "start_time": "2022-08-17T05:03:41.778Z"
   },
   {
    "duration": 25,
    "start_time": "2022-08-17T05:03:41.782Z"
   },
   {
    "duration": 23,
    "start_time": "2022-08-17T05:03:41.809Z"
   },
   {
    "duration": 23,
    "start_time": "2022-08-17T05:03:41.833Z"
   },
   {
    "duration": 19,
    "start_time": "2022-08-17T05:03:41.857Z"
   },
   {
    "duration": 3,
    "start_time": "2022-08-17T05:03:41.878Z"
   },
   {
    "duration": 14,
    "start_time": "2022-08-17T05:03:41.882Z"
   },
   {
    "duration": 3,
    "start_time": "2022-08-17T05:03:41.897Z"
   },
   {
    "duration": 36,
    "start_time": "2022-08-17T05:03:41.902Z"
   },
   {
    "duration": 2,
    "start_time": "2022-08-17T05:03:41.940Z"
   },
   {
    "duration": 19,
    "start_time": "2022-08-17T05:03:41.944Z"
   },
   {
    "duration": 4,
    "start_time": "2022-08-17T05:03:41.964Z"
   },
   {
    "duration": 28,
    "start_time": "2022-08-17T05:03:41.970Z"
   },
   {
    "duration": 3,
    "start_time": "2022-08-17T05:03:42.000Z"
   },
   {
    "duration": 17,
    "start_time": "2022-08-17T05:03:42.005Z"
   },
   {
    "duration": 2,
    "start_time": "2022-08-17T05:06:19.976Z"
   },
   {
    "duration": 151,
    "start_time": "2022-08-17T05:06:24.078Z"
   },
   {
    "duration": 2,
    "start_time": "2022-08-17T05:06:36.389Z"
   },
   {
    "duration": 36,
    "start_time": "2022-08-17T05:06:37.397Z"
   },
   {
    "duration": 2,
    "start_time": "2022-08-17T05:06:46.109Z"
   },
   {
    "duration": 29,
    "start_time": "2022-08-17T05:06:46.965Z"
   },
   {
    "duration": 2,
    "start_time": "2022-08-17T05:08:16.932Z"
   },
   {
    "duration": 96,
    "start_time": "2022-08-17T05:08:18.664Z"
   },
   {
    "duration": 3,
    "start_time": "2022-08-17T05:08:25.623Z"
   },
   {
    "duration": 135,
    "start_time": "2022-08-17T05:08:27.330Z"
   },
   {
    "duration": 3,
    "start_time": "2022-08-17T05:20:13.879Z"
   },
   {
    "duration": 34,
    "start_time": "2022-08-17T05:20:14.559Z"
   },
   {
    "duration": 3,
    "start_time": "2022-08-17T05:22:15.843Z"
   },
   {
    "duration": 169,
    "start_time": "2022-08-17T05:22:16.900Z"
   },
   {
    "duration": 2,
    "start_time": "2022-08-17T05:23:14.332Z"
   },
   {
    "duration": 33,
    "start_time": "2022-08-17T05:23:15.277Z"
   },
   {
    "duration": 2,
    "start_time": "2022-08-17T05:23:24.853Z"
   },
   {
    "duration": 37,
    "start_time": "2022-08-17T05:23:27.477Z"
   },
   {
    "duration": 3,
    "start_time": "2022-08-17T05:25:15.382Z"
   },
   {
    "duration": 30,
    "start_time": "2022-08-17T05:25:17.015Z"
   },
   {
    "duration": 2,
    "start_time": "2022-08-17T05:26:23.695Z"
   },
   {
    "duration": 96,
    "start_time": "2022-08-17T05:26:24.438Z"
   },
   {
    "duration": 2,
    "start_time": "2022-08-17T05:26:44.397Z"
   },
   {
    "duration": 124,
    "start_time": "2022-08-17T05:26:45.893Z"
   },
   {
    "duration": 4,
    "start_time": "2022-08-17T05:27:01.958Z"
   },
   {
    "duration": 38,
    "start_time": "2022-08-17T05:27:03.631Z"
   },
   {
    "duration": 3,
    "start_time": "2022-08-17T05:29:12.323Z"
   },
   {
    "duration": 29,
    "start_time": "2022-08-17T05:29:13.506Z"
   },
   {
    "duration": 3,
    "start_time": "2022-08-17T05:30:00.631Z"
   },
   {
    "duration": 34,
    "start_time": "2022-08-17T05:30:01.555Z"
   },
   {
    "duration": 4,
    "start_time": "2022-08-17T05:30:19.198Z"
   },
   {
    "duration": 31,
    "start_time": "2022-08-17T05:30:20.288Z"
   },
   {
    "duration": 33,
    "start_time": "2022-08-17T05:33:36.106Z"
   },
   {
    "duration": 507,
    "start_time": "2022-08-17T05:34:21.077Z"
   },
   {
    "duration": 3,
    "start_time": "2022-08-17T05:34:21.588Z"
   },
   {
    "duration": 6,
    "start_time": "2022-08-17T05:34:21.592Z"
   },
   {
    "duration": 12592,
    "start_time": "2022-08-17T05:34:21.599Z"
   },
   {
    "duration": 2,
    "start_time": "2022-08-17T05:34:34.193Z"
   },
   {
    "duration": 8,
    "start_time": "2022-08-17T05:34:34.197Z"
   },
   {
    "duration": 96,
    "start_time": "2022-08-17T05:34:34.206Z"
   },
   {
    "duration": 16,
    "start_time": "2022-08-17T05:34:34.303Z"
   },
   {
    "duration": 14,
    "start_time": "2022-08-17T05:34:34.320Z"
   },
   {
    "duration": 11,
    "start_time": "2022-08-17T05:34:34.335Z"
   },
   {
    "duration": 2,
    "start_time": "2022-08-17T05:34:34.347Z"
   },
   {
    "duration": 43,
    "start_time": "2022-08-17T05:34:34.350Z"
   },
   {
    "duration": 14,
    "start_time": "2022-08-17T05:34:34.394Z"
   },
   {
    "duration": 9,
    "start_time": "2022-08-17T05:34:34.412Z"
   },
   {
    "duration": 9,
    "start_time": "2022-08-17T05:34:34.423Z"
   },
   {
    "duration": 2,
    "start_time": "2022-08-17T05:34:34.434Z"
   },
   {
    "duration": 12,
    "start_time": "2022-08-17T05:34:34.438Z"
   },
   {
    "duration": 43,
    "start_time": "2022-08-17T05:34:34.452Z"
   },
   {
    "duration": 9,
    "start_time": "2022-08-17T05:34:34.497Z"
   },
   {
    "duration": 9,
    "start_time": "2022-08-17T05:34:34.508Z"
   },
   {
    "duration": 2,
    "start_time": "2022-08-17T05:34:34.519Z"
   },
   {
    "duration": 42,
    "start_time": "2022-08-17T05:34:34.523Z"
   },
   {
    "duration": 41,
    "start_time": "2022-08-17T05:34:34.568Z"
   },
   {
    "duration": 77,
    "start_time": "2022-08-17T05:34:34.612Z"
   },
   {
    "duration": 21,
    "start_time": "2022-08-17T05:34:34.691Z"
   },
   {
    "duration": 2,
    "start_time": "2022-08-17T05:34:34.713Z"
   },
   {
    "duration": 18,
    "start_time": "2022-08-17T05:34:34.717Z"
   },
   {
    "duration": 62,
    "start_time": "2022-08-17T05:34:34.737Z"
   },
   {
    "duration": 17,
    "start_time": "2022-08-17T05:34:34.800Z"
   },
   {
    "duration": 15,
    "start_time": "2022-08-17T05:34:34.819Z"
   },
   {
    "duration": 2,
    "start_time": "2022-08-17T05:34:34.836Z"
   },
   {
    "duration": 12,
    "start_time": "2022-08-17T05:34:34.839Z"
   },
   {
    "duration": 10,
    "start_time": "2022-08-17T05:34:34.852Z"
   },
   {
    "duration": 41,
    "start_time": "2022-08-17T05:34:34.876Z"
   },
   {
    "duration": 2,
    "start_time": "2022-08-17T05:34:34.919Z"
   },
   {
    "duration": 14,
    "start_time": "2022-08-17T05:34:34.922Z"
   },
   {
    "duration": 2,
    "start_time": "2022-08-17T05:34:34.938Z"
   },
   {
    "duration": 23,
    "start_time": "2022-08-17T05:34:34.942Z"
   },
   {
    "duration": 2,
    "start_time": "2022-08-17T05:34:34.966Z"
   },
   {
    "duration": 41,
    "start_time": "2022-08-17T05:34:34.969Z"
   },
   {
    "duration": 52,
    "start_time": "2022-08-17T05:35:59.841Z"
   },
   {
    "duration": 183,
    "start_time": "2022-08-17T05:37:36.197Z"
   },
   {
    "duration": 31,
    "start_time": "2022-08-17T05:58:08.920Z"
   },
   {
    "duration": 510,
    "start_time": "2022-08-17T05:59:14.846Z"
   },
   {
    "duration": 2,
    "start_time": "2022-08-17T05:59:15.358Z"
   },
   {
    "duration": 6,
    "start_time": "2022-08-17T05:59:15.362Z"
   },
   {
    "duration": 8332,
    "start_time": "2022-08-17T05:59:15.369Z"
   },
   {
    "duration": 2,
    "start_time": "2022-08-17T05:59:23.703Z"
   },
   {
    "duration": 6,
    "start_time": "2022-08-17T05:59:23.707Z"
   },
   {
    "duration": 64,
    "start_time": "2022-08-17T05:59:23.714Z"
   },
   {
    "duration": 16,
    "start_time": "2022-08-17T05:59:23.780Z"
   },
   {
    "duration": 13,
    "start_time": "2022-08-17T05:59:23.798Z"
   },
   {
    "duration": 12,
    "start_time": "2022-08-17T05:59:23.813Z"
   },
   {
    "duration": 2,
    "start_time": "2022-08-17T05:59:23.826Z"
   },
   {
    "duration": 14,
    "start_time": "2022-08-17T05:59:23.829Z"
   },
   {
    "duration": 12,
    "start_time": "2022-08-17T05:59:23.855Z"
   },
   {
    "duration": 10,
    "start_time": "2022-08-17T05:59:23.869Z"
   },
   {
    "duration": 8,
    "start_time": "2022-08-17T05:59:23.880Z"
   },
   {
    "duration": 2,
    "start_time": "2022-08-17T05:59:23.890Z"
   },
   {
    "duration": 15,
    "start_time": "2022-08-17T05:59:23.894Z"
   },
   {
    "duration": 12,
    "start_time": "2022-08-17T05:59:23.910Z"
   },
   {
    "duration": 9,
    "start_time": "2022-08-17T05:59:23.923Z"
   },
   {
    "duration": 9,
    "start_time": "2022-08-17T05:59:23.955Z"
   },
   {
    "duration": 2,
    "start_time": "2022-08-17T05:59:23.966Z"
   },
   {
    "duration": 24,
    "start_time": "2022-08-17T05:59:23.970Z"
   },
   {
    "duration": 23,
    "start_time": "2022-08-17T05:59:23.996Z"
   },
   {
    "duration": 75,
    "start_time": "2022-08-17T05:59:24.020Z"
   },
   {
    "duration": 20,
    "start_time": "2022-08-17T05:59:24.097Z"
   },
   {
    "duration": 3,
    "start_time": "2022-08-17T05:59:24.118Z"
   },
   {
    "duration": 20,
    "start_time": "2022-08-17T05:59:24.122Z"
   },
   {
    "duration": 28,
    "start_time": "2022-08-17T05:59:24.145Z"
   },
   {
    "duration": 15,
    "start_time": "2022-08-17T05:59:24.174Z"
   },
   {
    "duration": 15,
    "start_time": "2022-08-17T05:59:24.191Z"
   },
   {
    "duration": 2,
    "start_time": "2022-08-17T05:59:24.207Z"
   },
   {
    "duration": 13,
    "start_time": "2022-08-17T05:59:24.211Z"
   },
   {
    "duration": 2,
    "start_time": "2022-08-17T05:59:24.225Z"
   },
   {
    "duration": 37,
    "start_time": "2022-08-17T05:59:24.228Z"
   },
   {
    "duration": 3,
    "start_time": "2022-08-17T05:59:24.266Z"
   },
   {
    "duration": 16,
    "start_time": "2022-08-17T05:59:24.271Z"
   },
   {
    "duration": 3,
    "start_time": "2022-08-17T05:59:24.289Z"
   },
   {
    "duration": 18,
    "start_time": "2022-08-17T05:59:24.293Z"
   },
   {
    "duration": 2,
    "start_time": "2022-08-17T05:59:24.313Z"
   },
   {
    "duration": 13,
    "start_time": "2022-08-17T05:59:24.317Z"
   }
  ],
  "colab": {
   "collapsed_sections": [
    "E0vqbgi9ay0H",
    "VUC88oWjTJw2"
   ],
   "name": "yandex_music_project_2021.2.ipynb",
   "provenance": []
  },
  "kernelspec": {
   "display_name": "Python 3 (ipykernel)",
   "language": "python",
   "name": "python3"
  },
  "language_info": {
   "codemirror_mode": {
    "name": "ipython",
    "version": 3
   },
   "file_extension": ".py",
   "mimetype": "text/x-python",
   "name": "python",
   "nbconvert_exporter": "python",
   "pygments_lexer": "ipython3",
   "version": "3.9.5"
  },
  "toc": {
   "base_numbering": 1,
   "nav_menu": {},
   "number_sections": true,
   "sideBar": true,
   "skip_h1_title": true,
   "title_cell": "Table of Contents",
   "title_sidebar": "Contents",
   "toc_cell": false,
   "toc_position": {
    "height": "calc(100% - 180px)",
    "left": "10px",
    "top": "150px",
    "width": "165px"
   },
   "toc_section_display": true,
   "toc_window_display": true
  }
 },
 "nbformat": 4,
 "nbformat_minor": 1
}

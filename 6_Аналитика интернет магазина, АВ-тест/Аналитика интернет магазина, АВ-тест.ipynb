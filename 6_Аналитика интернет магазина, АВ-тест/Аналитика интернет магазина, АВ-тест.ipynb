{
 "cells": [
  {
   "cell_type": "markdown",
   "metadata": {},
   "source": [
    "# Описание проекта\n",
    "\n",
    "Вы — аналитик крупного интернет-магазина. Вместе с отделом маркетинга вы подготовили список гипотез для увеличения выручки.\n",
    "Приоритизируйте гипотезы, запустите A/B-тест и проанализируйте результаты.\n",
    "\n",
    "## Описание данных:\n",
    "### Данные для первой части\n",
    "#### *Файл /datasets/hypothesis.csv*\n",
    "\n",
    "- Hypothesis — краткое описание гипотезы;\n",
    "- Reach — охват пользователей по 10-балльной шкале;\n",
    "- Impact — влияние на пользователей по 10-балльной шкале;\n",
    "- Confidence — уверенность в гипотезе по 10-балльной шкале;\n",
    "- Efforts — затраты ресурсов на проверку гипотезы по 10-балльной шкале. Чем больше значение Efforts, тем дороже проверка гипотезы.\n",
    "\n",
    "### *Данные для второй части*\n",
    "\n",
    "#### Файл /datasets/orders.csv\n",
    "\n",
    "- transactionId — идентификатор заказа;\n",
    "- visitorId — идентификатор пользователя, совершившего заказ;\n",
    "- date — дата, когда был совершён заказ;\n",
    "- revenue — выручка заказа;\n",
    "- group — группа A/B-теста, в которую попал заказ.\n",
    "\n",
    "#### Файл /datasets/visitors.csv.\n",
    "\n",
    "- date — дата;\n",
    "- group — группа A/B-теста;\n",
    "- visitors — количество пользователей в указанную дату в указанной группе A/B-теста\n",
    "\n",
    "## Описание проекта\n",
    "\n",
    "### *Часть 1. Приоритизация гипотез*\n",
    "\n",
    "*В файле /datasets/hypothesis.csv 9 гипотез по увеличению выручки интернет-магазина с указанными параметрами Reach, Impact, Confidence, Effort*\n",
    "#### Задача\n",
    "- Примените фреймворк ICE для приоритизации гипотез. Отсортируйте их по убыванию приоритета.\n",
    "- Примените фреймворк RICE для приоритизации гипотез. Отсортируйте их по убыванию приоритета.\n",
    "- Укажите, как изменилась приоритизация гипотез при применении RICE вместо ICE. Объясните, почему так произошло.\n",
    "\n",
    "### *Часть 2. Анализ A/B-теста*\n",
    "*Вы провели A/B-тест и получили результаты, которые описаны в файлах /datasets/orders.csv и /datasets/visitors.csv*\n",
    "#### Задача\n",
    "- Проанализируйте A/B-тест:\n",
    "- Постройте график кумулятивной выручки по группам. Сделайте выводы и предположения.\n",
    "- Постройте график кумулятивного среднего чека по группам. Сделайте выводы и предположения.\n",
    "- Постройте график относительного изменения кумулятивного среднего чека группы B к группе A. Сделайте выводы и предположения.\n",
    "- Постройте график кумулятивной конверсии по группам. Сделайте выводы и предположения.\n",
    "- Постройте график относительного изменения кумулятивной конверсии группы B к группе A. Сделайте выводы и предположения.\n",
    "- Постройте точечный график количества заказов по пользователям. Сделайте выводы и предположения.\n",
    "- Посчитайте 95-й и 99-й перцентили количества заказов на пользователя. Выберите границу для определения аномальных пользователей.\n",
    "- Постройте точечный график стоимостей заказов. Сделайте выводы и предположения.\n",
    "- Посчитайте 95-й и 99-й перцентили стоимости заказов. Выберите границу для определения аномальных заказов.\n",
    "- Посчитайте статистическую значимость различий в конверсии между группами по «сырым» данным. Сделайте выводы и предположения.\n",
    "- Посчитайте статистическую значимость различий в среднем чеке заказа между группами по «сырым» данным. Сделайте выводы и предположения.\n",
    "- Посчитайте статистическую значимость различий в конверсии между группами по «очищенным» данным. Сделайте выводы и предположения.\n",
    "- Посчитайте статистическую значимость различий в среднем чеке заказа между группами по «очищенным» данным. Сделайте выводы и предположения.\n",
    "- Примите решение по результатам теста и объясните его. Варианты решений:\n",
    "1. Остановить тест, зафиксировать победу одной из групп. \n",
    "2. Остановить тест, зафиксировать отсутствие различий между группами. \n",
    "3. Продолжить тест."
   ]
  },
  {
   "cell_type": "markdown",
   "metadata": {},
   "source": [
    "## Изучение и обзор данных"
   ]
  },
  {
   "cell_type": "markdown",
   "metadata": {},
   "source": [
    "Открытие файла с данными и изучение общей информации"
   ]
  },
  {
   "cell_type": "code",
   "execution_count": 1,
   "metadata": {},
   "outputs": [],
   "source": [
    "# Необходимые библиотеки для исследования \n",
    "import pandas as pd\n",
    "import matplotlib.pyplot as plt\n",
    "import scipy.stats as stats\n",
    "import numpy as np    \n",
    "from scipy import stats as st\n",
    "import seaborn as sns\n",
    "from IPython.display import display"
   ]
  },
  {
   "cell_type": "code",
   "execution_count": 2,
   "metadata": {},
   "outputs": [],
   "source": [
    "# Загрузка файлов\n",
    "hypothesis = pd.read_csv('/datasets/hypothesis.csv')\n",
    "orders = pd.read_csv('/datasets/orders.csv')\n",
    "visitors = pd.read_csv('/datasets/visitors.csv')"
   ]
  },
  {
   "cell_type": "code",
   "execution_count": 3,
   "metadata": {},
   "outputs": [
    {
     "data": {
      "text/html": [
       "<div>\n",
       "<style scoped>\n",
       "    .dataframe tbody tr th:only-of-type {\n",
       "        vertical-align: middle;\n",
       "    }\n",
       "\n",
       "    .dataframe tbody tr th {\n",
       "        vertical-align: top;\n",
       "    }\n",
       "\n",
       "    .dataframe thead th {\n",
       "        text-align: right;\n",
       "    }\n",
       "</style>\n",
       "<table border=\"1\" class=\"dataframe\">\n",
       "  <thead>\n",
       "    <tr style=\"text-align: right;\">\n",
       "      <th></th>\n",
       "      <th>Hypothesis</th>\n",
       "      <th>Reach</th>\n",
       "      <th>Impact</th>\n",
       "      <th>Confidence</th>\n",
       "      <th>Efforts</th>\n",
       "    </tr>\n",
       "  </thead>\n",
       "  <tbody>\n",
       "    <tr>\n",
       "      <th>0</th>\n",
       "      <td>Добавить два новых канала привлечения трафика, что позволит привлекать на 30% больше пользователей</td>\n",
       "      <td>3</td>\n",
       "      <td>10</td>\n",
       "      <td>8</td>\n",
       "      <td>6</td>\n",
       "    </tr>\n",
       "    <tr>\n",
       "      <th>1</th>\n",
       "      <td>Запустить собственную службу доставки, что сократит срок доставки заказов</td>\n",
       "      <td>2</td>\n",
       "      <td>5</td>\n",
       "      <td>4</td>\n",
       "      <td>10</td>\n",
       "    </tr>\n",
       "    <tr>\n",
       "      <th>2</th>\n",
       "      <td>Добавить блоки рекомендаций товаров на сайт интернет магазина, чтобы повысить конверсию и средний чек заказа</td>\n",
       "      <td>8</td>\n",
       "      <td>3</td>\n",
       "      <td>7</td>\n",
       "      <td>3</td>\n",
       "    </tr>\n",
       "    <tr>\n",
       "      <th>3</th>\n",
       "      <td>Изменить структура категорий, что увеличит конверсию, т.к. пользователи быстрее найдут нужный товар</td>\n",
       "      <td>8</td>\n",
       "      <td>3</td>\n",
       "      <td>3</td>\n",
       "      <td>8</td>\n",
       "    </tr>\n",
       "    <tr>\n",
       "      <th>4</th>\n",
       "      <td>Изменить цвет фона главной страницы, чтобы увеличить вовлеченность пользователей</td>\n",
       "      <td>3</td>\n",
       "      <td>1</td>\n",
       "      <td>1</td>\n",
       "      <td>1</td>\n",
       "    </tr>\n",
       "    <tr>\n",
       "      <th>5</th>\n",
       "      <td>Добавить страницу отзывов клиентов о магазине, что позволит увеличить количество заказов</td>\n",
       "      <td>3</td>\n",
       "      <td>2</td>\n",
       "      <td>2</td>\n",
       "      <td>3</td>\n",
       "    </tr>\n",
       "    <tr>\n",
       "      <th>6</th>\n",
       "      <td>Показать на главной странице баннеры с актуальными акциями и распродажами, чтобы увеличить конверсию</td>\n",
       "      <td>5</td>\n",
       "      <td>3</td>\n",
       "      <td>8</td>\n",
       "      <td>3</td>\n",
       "    </tr>\n",
       "    <tr>\n",
       "      <th>7</th>\n",
       "      <td>Добавить форму подписки на все основные страницы, чтобы собрать базу клиентов для email-рассылок</td>\n",
       "      <td>10</td>\n",
       "      <td>7</td>\n",
       "      <td>8</td>\n",
       "      <td>5</td>\n",
       "    </tr>\n",
       "    <tr>\n",
       "      <th>8</th>\n",
       "      <td>Запустить акцию, дающую скидку на товар в день рождения</td>\n",
       "      <td>1</td>\n",
       "      <td>9</td>\n",
       "      <td>9</td>\n",
       "      <td>5</td>\n",
       "    </tr>\n",
       "  </tbody>\n",
       "</table>\n",
       "</div>"
      ],
      "text/plain": [
       "                                                                                                     Hypothesis  \\\n",
       "0  Добавить два новых канала привлечения трафика, что позволит привлекать на 30% больше пользователей             \n",
       "1  Запустить собственную службу доставки, что сократит срок доставки заказов                                      \n",
       "2  Добавить блоки рекомендаций товаров на сайт интернет магазина, чтобы повысить конверсию и средний чек заказа   \n",
       "3  Изменить структура категорий, что увеличит конверсию, т.к. пользователи быстрее найдут нужный товар            \n",
       "4  Изменить цвет фона главной страницы, чтобы увеличить вовлеченность пользователей                               \n",
       "5  Добавить страницу отзывов клиентов о магазине, что позволит увеличить количество заказов                       \n",
       "6  Показать на главной странице баннеры с актуальными акциями и распродажами, чтобы увеличить конверсию           \n",
       "7  Добавить форму подписки на все основные страницы, чтобы собрать базу клиентов для email-рассылок               \n",
       "8  Запустить акцию, дающую скидку на товар в день рождения                                                        \n",
       "\n",
       "   Reach  Impact  Confidence  Efforts  \n",
       "0  3      10      8           6        \n",
       "1  2      5       4           10       \n",
       "2  8      3       7           3        \n",
       "3  8      3       3           8        \n",
       "4  3      1       1           1        \n",
       "5  3      2       2           3        \n",
       "6  5      3       8           3        \n",
       "7  10     7       8           5        \n",
       "8  1      9       9           5        "
      ]
     },
     "execution_count": 3,
     "metadata": {},
     "output_type": "execute_result"
    }
   ],
   "source": [
    "# Получение общей информации датасета hypothesis\n",
    "pd.options.display.max_colwidth = 1\n",
    "hypothesis.head(10)"
   ]
  },
  {
   "cell_type": "code",
   "execution_count": 4,
   "metadata": {
    "scrolled": true
   },
   "outputs": [
    {
     "name": "stdout",
     "output_type": "stream",
     "text": [
      "<class 'pandas.core.frame.DataFrame'>\n",
      "RangeIndex: 9 entries, 0 to 8\n",
      "Data columns (total 5 columns):\n",
      " #   Column      Non-Null Count  Dtype \n",
      "---  ------      --------------  ----- \n",
      " 0   Hypothesis  9 non-null      object\n",
      " 1   Reach       9 non-null      int64 \n",
      " 2   Impact      9 non-null      int64 \n",
      " 3   Confidence  9 non-null      int64 \n",
      " 4   Efforts     9 non-null      int64 \n",
      "dtypes: int64(4), object(1)\n",
      "memory usage: 488.0+ bytes\n"
     ]
    }
   ],
   "source": [
    "hypothesis.info()"
   ]
  },
  {
   "cell_type": "markdown",
   "metadata": {},
   "source": [
    "*Названия колонок датасета hypothesis приведем к единому регистру*"
   ]
  },
  {
   "cell_type": "code",
   "execution_count": 5,
   "metadata": {},
   "outputs": [],
   "source": [
    "hypothesis.columns = hypothesis.columns.str.lower()"
   ]
  },
  {
   "cell_type": "markdown",
   "metadata": {},
   "source": [
    "При анализе датасета hypothesis выявлено: всего 9 строк, 5 столбцов, пропусков нет, дубликатов нет"
   ]
  },
  {
   "cell_type": "code",
   "execution_count": 6,
   "metadata": {},
   "outputs": [
    {
     "data": {
      "text/html": [
       "<div>\n",
       "<style scoped>\n",
       "    .dataframe tbody tr th:only-of-type {\n",
       "        vertical-align: middle;\n",
       "    }\n",
       "\n",
       "    .dataframe tbody tr th {\n",
       "        vertical-align: top;\n",
       "    }\n",
       "\n",
       "    .dataframe thead th {\n",
       "        text-align: right;\n",
       "    }\n",
       "</style>\n",
       "<table border=\"1\" class=\"dataframe\">\n",
       "  <thead>\n",
       "    <tr style=\"text-align: right;\">\n",
       "      <th></th>\n",
       "      <th>transactionId</th>\n",
       "      <th>visitorId</th>\n",
       "      <th>date</th>\n",
       "      <th>revenue</th>\n",
       "      <th>group</th>\n",
       "    </tr>\n",
       "  </thead>\n",
       "  <tbody>\n",
       "    <tr>\n",
       "      <th>0</th>\n",
       "      <td>3667963787</td>\n",
       "      <td>3312258926</td>\n",
       "      <td>2019-08-15</td>\n",
       "      <td>1650</td>\n",
       "      <td>B</td>\n",
       "    </tr>\n",
       "    <tr>\n",
       "      <th>1</th>\n",
       "      <td>2804400009</td>\n",
       "      <td>3642806036</td>\n",
       "      <td>2019-08-15</td>\n",
       "      <td>730</td>\n",
       "      <td>B</td>\n",
       "    </tr>\n",
       "    <tr>\n",
       "      <th>2</th>\n",
       "      <td>2961555356</td>\n",
       "      <td>4069496402</td>\n",
       "      <td>2019-08-15</td>\n",
       "      <td>400</td>\n",
       "      <td>A</td>\n",
       "    </tr>\n",
       "    <tr>\n",
       "      <th>3</th>\n",
       "      <td>3797467345</td>\n",
       "      <td>1196621759</td>\n",
       "      <td>2019-08-15</td>\n",
       "      <td>9759</td>\n",
       "      <td>B</td>\n",
       "    </tr>\n",
       "    <tr>\n",
       "      <th>4</th>\n",
       "      <td>2282983706</td>\n",
       "      <td>2322279887</td>\n",
       "      <td>2019-08-15</td>\n",
       "      <td>2308</td>\n",
       "      <td>B</td>\n",
       "    </tr>\n",
       "  </tbody>\n",
       "</table>\n",
       "</div>"
      ],
      "text/plain": [
       "   transactionId   visitorId        date  revenue group\n",
       "0  3667963787     3312258926  2019-08-15  1650     B   \n",
       "1  2804400009     3642806036  2019-08-15  730      B   \n",
       "2  2961555356     4069496402  2019-08-15  400      A   \n",
       "3  3797467345     1196621759  2019-08-15  9759     B   \n",
       "4  2282983706     2322279887  2019-08-15  2308     B   "
      ]
     },
     "execution_count": 6,
     "metadata": {},
     "output_type": "execute_result"
    }
   ],
   "source": [
    "# Получение общей информации датасета orders\n",
    "orders.head()"
   ]
  },
  {
   "cell_type": "code",
   "execution_count": 7,
   "metadata": {},
   "outputs": [
    {
     "name": "stdout",
     "output_type": "stream",
     "text": [
      "<class 'pandas.core.frame.DataFrame'>\n",
      "RangeIndex: 1197 entries, 0 to 1196\n",
      "Data columns (total 5 columns):\n",
      " #   Column         Non-Null Count  Dtype \n",
      "---  ------         --------------  ----- \n",
      " 0   transactionId  1197 non-null   int64 \n",
      " 1   visitorId      1197 non-null   int64 \n",
      " 2   date           1197 non-null   object\n",
      " 3   revenue        1197 non-null   int64 \n",
      " 4   group          1197 non-null   object\n",
      "dtypes: int64(3), object(2)\n",
      "memory usage: 46.9+ KB\n"
     ]
    }
   ],
   "source": [
    "orders.info()"
   ]
  },
  {
   "cell_type": "code",
   "execution_count": 8,
   "metadata": {},
   "outputs": [
    {
     "data": {
      "text/plain": [
       "0"
      ]
     },
     "execution_count": 8,
     "metadata": {},
     "output_type": "execute_result"
    }
   ],
   "source": [
    "# проверим количество дубликатов в датасете orders, кол-во дубликатов равно 0.\n",
    "orders.duplicated().sum()"
   ]
  },
  {
   "cell_type": "code",
   "execution_count": 9,
   "metadata": {},
   "outputs": [
    {
     "name": "stdout",
     "output_type": "stream",
     "text": [
      "максимальная дата, 2019-08-31\n"
     ]
    }
   ],
   "source": [
    "# максимальная дата\n",
    "print('максимальная дата,',orders['date'].max())"
   ]
  },
  {
   "cell_type": "code",
   "execution_count": 10,
   "metadata": {
    "scrolled": true
   },
   "outputs": [
    {
     "name": "stdout",
     "output_type": "stream",
     "text": [
      "минимальная дата, 2019-08-01\n"
     ]
    }
   ],
   "source": [
    "# минимальная дата\n",
    "print('минимальная дата,',orders['date'].min())"
   ]
  },
  {
   "cell_type": "code",
   "execution_count": 11,
   "metadata": {},
   "outputs": [
    {
     "name": "stdout",
     "output_type": "stream",
     "text": [
      "максимальная выручка, 1294500\n"
     ]
    }
   ],
   "source": [
    "# максимальная выручка\n",
    "print('максимальная выручка,',orders['revenue'].max())"
   ]
  },
  {
   "cell_type": "code",
   "execution_count": 12,
   "metadata": {
    "scrolled": true
   },
   "outputs": [
    {
     "name": "stdout",
     "output_type": "stream",
     "text": [
      "минимальная выручка, 50\n"
     ]
    }
   ],
   "source": [
    "# минимальная выручка\n",
    "print('минимальная выручка,',orders['revenue'].min())"
   ]
  },
  {
   "cell_type": "code",
   "execution_count": 13,
   "metadata": {},
   "outputs": [],
   "source": [
    "orders['date'] = pd.to_datetime(orders['date'], format='%Y-%m-%d')"
   ]
  },
  {
   "cell_type": "markdown",
   "metadata": {},
   "source": [
    "При анализе датасета orders выявлено: всего 1197 строк, 5 столбцов, пропусков нет, дубликатов нет. Максимальная выручка составляет - 1 294 500, что достаточно большая величина. Столбец с датой переведен из объектного типа в тип datetime64."
   ]
  },
  {
   "cell_type": "code",
   "execution_count": 14,
   "metadata": {},
   "outputs": [
    {
     "data": {
      "text/html": [
       "<div>\n",
       "<style scoped>\n",
       "    .dataframe tbody tr th:only-of-type {\n",
       "        vertical-align: middle;\n",
       "    }\n",
       "\n",
       "    .dataframe tbody tr th {\n",
       "        vertical-align: top;\n",
       "    }\n",
       "\n",
       "    .dataframe thead th {\n",
       "        text-align: right;\n",
       "    }\n",
       "</style>\n",
       "<table border=\"1\" class=\"dataframe\">\n",
       "  <thead>\n",
       "    <tr style=\"text-align: right;\">\n",
       "      <th></th>\n",
       "      <th>date</th>\n",
       "      <th>group</th>\n",
       "      <th>visitors</th>\n",
       "    </tr>\n",
       "  </thead>\n",
       "  <tbody>\n",
       "    <tr>\n",
       "      <th>0</th>\n",
       "      <td>2019-08-01</td>\n",
       "      <td>A</td>\n",
       "      <td>719</td>\n",
       "    </tr>\n",
       "    <tr>\n",
       "      <th>1</th>\n",
       "      <td>2019-08-02</td>\n",
       "      <td>A</td>\n",
       "      <td>619</td>\n",
       "    </tr>\n",
       "    <tr>\n",
       "      <th>2</th>\n",
       "      <td>2019-08-03</td>\n",
       "      <td>A</td>\n",
       "      <td>507</td>\n",
       "    </tr>\n",
       "    <tr>\n",
       "      <th>3</th>\n",
       "      <td>2019-08-04</td>\n",
       "      <td>A</td>\n",
       "      <td>717</td>\n",
       "    </tr>\n",
       "    <tr>\n",
       "      <th>4</th>\n",
       "      <td>2019-08-05</td>\n",
       "      <td>A</td>\n",
       "      <td>756</td>\n",
       "    </tr>\n",
       "  </tbody>\n",
       "</table>\n",
       "</div>"
      ],
      "text/plain": [
       "         date group  visitors\n",
       "0  2019-08-01  A     719     \n",
       "1  2019-08-02  A     619     \n",
       "2  2019-08-03  A     507     \n",
       "3  2019-08-04  A     717     \n",
       "4  2019-08-05  A     756     "
      ]
     },
     "execution_count": 14,
     "metadata": {},
     "output_type": "execute_result"
    }
   ],
   "source": [
    "# Получение общей информации датасета visitors\n",
    "visitors.head()"
   ]
  },
  {
   "cell_type": "code",
   "execution_count": 15,
   "metadata": {},
   "outputs": [
    {
     "name": "stdout",
     "output_type": "stream",
     "text": [
      "<class 'pandas.core.frame.DataFrame'>\n",
      "RangeIndex: 62 entries, 0 to 61\n",
      "Data columns (total 3 columns):\n",
      " #   Column    Non-Null Count  Dtype \n",
      "---  ------    --------------  ----- \n",
      " 0   date      62 non-null     object\n",
      " 1   group     62 non-null     object\n",
      " 2   visitors  62 non-null     int64 \n",
      "dtypes: int64(1), object(2)\n",
      "memory usage: 1.6+ KB\n"
     ]
    }
   ],
   "source": [
    "visitors.info()"
   ]
  },
  {
   "cell_type": "code",
   "execution_count": 16,
   "metadata": {},
   "outputs": [
    {
     "data": {
      "text/plain": [
       "0"
      ]
     },
     "execution_count": 16,
     "metadata": {},
     "output_type": "execute_result"
    }
   ],
   "source": [
    "# проверим количество дубликатов в датасете visitors, кол-во дубликатов равно 0.\n",
    "visitors.duplicated().sum()"
   ]
  },
  {
   "cell_type": "code",
   "execution_count": 17,
   "metadata": {},
   "outputs": [
    {
     "name": "stdout",
     "output_type": "stream",
     "text": [
      "максимальное количество пользователей, 770\n"
     ]
    }
   ],
   "source": [
    "# максимальное количество пользователей в указанную дату \n",
    "print('максимальное количество пользователей,',visitors['visitors'].max())"
   ]
  },
  {
   "cell_type": "code",
   "execution_count": 18,
   "metadata": {},
   "outputs": [],
   "source": [
    "visitors['date'] = pd.to_datetime(visitors['date'], format='%Y-%m-%d')"
   ]
  },
  {
   "cell_type": "markdown",
   "metadata": {},
   "source": [
    "При анализе датасета visitors выявлено: всего 62 строк, 3 столбца, пропусков нет, дубликатов нет, максимальное количество пользователей за день - 770, что допустимо. Столбец с датой переведен из объектного типа в тип datetime64."
   ]
  },
  {
   "cell_type": "markdown",
   "metadata": {},
   "source": [
    "### Выводы:"
   ]
  },
  {
   "cell_type": "markdown",
   "metadata": {},
   "source": [
    "При анализе таблиц выявлено, что в датасетах hypothesis, orders, visitors отсутствуют пропуски в данных, дубликатов также нет. Данные готовы для дальнейшего использования."
   ]
  },
  {
   "cell_type": "markdown",
   "metadata": {},
   "source": [
    "## Часть 1. Приоритизация гипотез"
   ]
  },
  {
   "cell_type": "markdown",
   "metadata": {},
   "source": [
    "#### Примените фреймворк ICE для приоритизации гипотез. Отсортируйте их по убыванию приоритета."
   ]
  },
  {
   "cell_type": "code",
   "execution_count": 19,
   "metadata": {},
   "outputs": [
    {
     "data": {
      "text/html": [
       "<div>\n",
       "<style scoped>\n",
       "    .dataframe tbody tr th:only-of-type {\n",
       "        vertical-align: middle;\n",
       "    }\n",
       "\n",
       "    .dataframe tbody tr th {\n",
       "        vertical-align: top;\n",
       "    }\n",
       "\n",
       "    .dataframe thead th {\n",
       "        text-align: right;\n",
       "    }\n",
       "</style>\n",
       "<table border=\"1\" class=\"dataframe\">\n",
       "  <thead>\n",
       "    <tr style=\"text-align: right;\">\n",
       "      <th></th>\n",
       "      <th>hypothesis</th>\n",
       "      <th>ICE</th>\n",
       "    </tr>\n",
       "  </thead>\n",
       "  <tbody>\n",
       "    <tr>\n",
       "      <th>8</th>\n",
       "      <td>Запустить акцию, дающую скидку на товар в день рождения</td>\n",
       "      <td>16.200000</td>\n",
       "    </tr>\n",
       "    <tr>\n",
       "      <th>0</th>\n",
       "      <td>Добавить два новых канала привлечения трафика, что позволит привлекать на 30% больше пользователей</td>\n",
       "      <td>13.333333</td>\n",
       "    </tr>\n",
       "    <tr>\n",
       "      <th>7</th>\n",
       "      <td>Добавить форму подписки на все основные страницы, чтобы собрать базу клиентов для email-рассылок</td>\n",
       "      <td>11.200000</td>\n",
       "    </tr>\n",
       "    <tr>\n",
       "      <th>6</th>\n",
       "      <td>Показать на главной странице баннеры с актуальными акциями и распродажами, чтобы увеличить конверсию</td>\n",
       "      <td>8.000000</td>\n",
       "    </tr>\n",
       "    <tr>\n",
       "      <th>2</th>\n",
       "      <td>Добавить блоки рекомендаций товаров на сайт интернет магазина, чтобы повысить конверсию и средний чек заказа</td>\n",
       "      <td>7.000000</td>\n",
       "    </tr>\n",
       "    <tr>\n",
       "      <th>1</th>\n",
       "      <td>Запустить собственную службу доставки, что сократит срок доставки заказов</td>\n",
       "      <td>2.000000</td>\n",
       "    </tr>\n",
       "    <tr>\n",
       "      <th>5</th>\n",
       "      <td>Добавить страницу отзывов клиентов о магазине, что позволит увеличить количество заказов</td>\n",
       "      <td>1.333333</td>\n",
       "    </tr>\n",
       "    <tr>\n",
       "      <th>3</th>\n",
       "      <td>Изменить структура категорий, что увеличит конверсию, т.к. пользователи быстрее найдут нужный товар</td>\n",
       "      <td>1.125000</td>\n",
       "    </tr>\n",
       "    <tr>\n",
       "      <th>4</th>\n",
       "      <td>Изменить цвет фона главной страницы, чтобы увеличить вовлеченность пользователей</td>\n",
       "      <td>1.000000</td>\n",
       "    </tr>\n",
       "  </tbody>\n",
       "</table>\n",
       "</div>"
      ],
      "text/plain": [
       "                                                                                                     hypothesis  \\\n",
       "8  Запустить акцию, дающую скидку на товар в день рождения                                                        \n",
       "0  Добавить два новых канала привлечения трафика, что позволит привлекать на 30% больше пользователей             \n",
       "7  Добавить форму подписки на все основные страницы, чтобы собрать базу клиентов для email-рассылок               \n",
       "6  Показать на главной странице баннеры с актуальными акциями и распродажами, чтобы увеличить конверсию           \n",
       "2  Добавить блоки рекомендаций товаров на сайт интернет магазина, чтобы повысить конверсию и средний чек заказа   \n",
       "1  Запустить собственную службу доставки, что сократит срок доставки заказов                                      \n",
       "5  Добавить страницу отзывов клиентов о магазине, что позволит увеличить количество заказов                       \n",
       "3  Изменить структура категорий, что увеличит конверсию, т.к. пользователи быстрее найдут нужный товар            \n",
       "4  Изменить цвет фона главной страницы, чтобы увеличить вовлеченность пользователей                               \n",
       "\n",
       "         ICE  \n",
       "8  16.200000  \n",
       "0  13.333333  \n",
       "7  11.200000  \n",
       "6  8.000000   \n",
       "2  7.000000   \n",
       "1  2.000000   \n",
       "5  1.333333   \n",
       "3  1.125000   \n",
       "4  1.000000   "
      ]
     },
     "metadata": {},
     "output_type": "display_data"
    },
    {
     "data": {
      "text/plain": [
       "0"
      ]
     },
     "metadata": {},
     "output_type": "display_data"
    }
   ],
   "source": [
    "pd.options.display.max_colwidth = 1\n",
    "hypothesis['ICE'] = hypothesis['impact'] * hypothesis['confidence'] / hypothesis['efforts']\n",
    "display(hypothesis[['hypothesis', 'ICE']].sort_values(by='ICE', ascending=False),0)"
   ]
  },
  {
   "cell_type": "markdown",
   "metadata": {},
   "source": [
    "#### Примените фреймворк RICE для приоритизации гипотез. Отсортируйте их по убыванию приоритета."
   ]
  },
  {
   "cell_type": "code",
   "execution_count": 20,
   "metadata": {},
   "outputs": [
    {
     "data": {
      "text/html": [
       "<div>\n",
       "<style scoped>\n",
       "    .dataframe tbody tr th:only-of-type {\n",
       "        vertical-align: middle;\n",
       "    }\n",
       "\n",
       "    .dataframe tbody tr th {\n",
       "        vertical-align: top;\n",
       "    }\n",
       "\n",
       "    .dataframe thead th {\n",
       "        text-align: right;\n",
       "    }\n",
       "</style>\n",
       "<table border=\"1\" class=\"dataframe\">\n",
       "  <thead>\n",
       "    <tr style=\"text-align: right;\">\n",
       "      <th></th>\n",
       "      <th>hypothesis</th>\n",
       "      <th>RICE</th>\n",
       "    </tr>\n",
       "  </thead>\n",
       "  <tbody>\n",
       "    <tr>\n",
       "      <th>7</th>\n",
       "      <td>Добавить форму подписки на все основные страницы, чтобы собрать базу клиентов для email-рассылок</td>\n",
       "      <td>112.0</td>\n",
       "    </tr>\n",
       "    <tr>\n",
       "      <th>2</th>\n",
       "      <td>Добавить блоки рекомендаций товаров на сайт интернет магазина, чтобы повысить конверсию и средний чек заказа</td>\n",
       "      <td>56.0</td>\n",
       "    </tr>\n",
       "    <tr>\n",
       "      <th>0</th>\n",
       "      <td>Добавить два новых канала привлечения трафика, что позволит привлекать на 30% больше пользователей</td>\n",
       "      <td>40.0</td>\n",
       "    </tr>\n",
       "    <tr>\n",
       "      <th>6</th>\n",
       "      <td>Показать на главной странице баннеры с актуальными акциями и распродажами, чтобы увеличить конверсию</td>\n",
       "      <td>40.0</td>\n",
       "    </tr>\n",
       "    <tr>\n",
       "      <th>8</th>\n",
       "      <td>Запустить акцию, дающую скидку на товар в день рождения</td>\n",
       "      <td>16.2</td>\n",
       "    </tr>\n",
       "    <tr>\n",
       "      <th>3</th>\n",
       "      <td>Изменить структура категорий, что увеличит конверсию, т.к. пользователи быстрее найдут нужный товар</td>\n",
       "      <td>9.0</td>\n",
       "    </tr>\n",
       "    <tr>\n",
       "      <th>1</th>\n",
       "      <td>Запустить собственную службу доставки, что сократит срок доставки заказов</td>\n",
       "      <td>4.0</td>\n",
       "    </tr>\n",
       "    <tr>\n",
       "      <th>5</th>\n",
       "      <td>Добавить страницу отзывов клиентов о магазине, что позволит увеличить количество заказов</td>\n",
       "      <td>4.0</td>\n",
       "    </tr>\n",
       "    <tr>\n",
       "      <th>4</th>\n",
       "      <td>Изменить цвет фона главной страницы, чтобы увеличить вовлеченность пользователей</td>\n",
       "      <td>3.0</td>\n",
       "    </tr>\n",
       "  </tbody>\n",
       "</table>\n",
       "</div>"
      ],
      "text/plain": [
       "                                                                                                     hypothesis  \\\n",
       "7  Добавить форму подписки на все основные страницы, чтобы собрать базу клиентов для email-рассылок               \n",
       "2  Добавить блоки рекомендаций товаров на сайт интернет магазина, чтобы повысить конверсию и средний чек заказа   \n",
       "0  Добавить два новых канала привлечения трафика, что позволит привлекать на 30% больше пользователей             \n",
       "6  Показать на главной странице баннеры с актуальными акциями и распродажами, чтобы увеличить конверсию           \n",
       "8  Запустить акцию, дающую скидку на товар в день рождения                                                        \n",
       "3  Изменить структура категорий, что увеличит конверсию, т.к. пользователи быстрее найдут нужный товар            \n",
       "1  Запустить собственную службу доставки, что сократит срок доставки заказов                                      \n",
       "5  Добавить страницу отзывов клиентов о магазине, что позволит увеличить количество заказов                       \n",
       "4  Изменить цвет фона главной страницы, чтобы увеличить вовлеченность пользователей                               \n",
       "\n",
       "    RICE  \n",
       "7  112.0  \n",
       "2  56.0   \n",
       "0  40.0   \n",
       "6  40.0   \n",
       "8  16.2   \n",
       "3  9.0    \n",
       "1  4.0    \n",
       "5  4.0    \n",
       "4  3.0    "
      ]
     },
     "metadata": {},
     "output_type": "display_data"
    }
   ],
   "source": [
    "pd.options.display.max_colwidth = 1\n",
    "hypothesis ['RICE'] = hypothesis ['reach'] * hypothesis ['impact'] * hypothesis ['confidence'] / hypothesis ['efforts']\n",
    "display(hypothesis [['hypothesis', 'RICE']].sort_values(by='RICE', ascending=False))"
   ]
  },
  {
   "cell_type": "markdown",
   "metadata": {},
   "source": [
    "#### Укажите, как изменилась приоритизация гипотез при применении RICE вместо ICE. Объясните, почему так произошло"
   ]
  },
  {
   "cell_type": "markdown",
   "metadata": {},
   "source": [
    "В случае применения фреймворка ICE для приоритизации гипотез, наиболее перспективные гипотезы 8,0,7 и 6. При применении фреймворка RICE наиболее перспективными становятся гипотезы 7,2,0 и 6. Гипотеза 7 стала на первом месте в фреймворке RICE в связи с тем, что ее параметр Reach максимальный и равен 10, у гипотезы 2 параметр Reach также велик и равен 8."
   ]
  },
  {
   "cell_type": "markdown",
   "metadata": {},
   "source": [
    "## Часть 2. Анализ A/B-теста"
   ]
  },
  {
   "cell_type": "markdown",
   "metadata": {},
   "source": [
    "### Построим график кумулятивной выручки по группам"
   ]
  },
  {
   "cell_type": "code",
   "execution_count": 1,
   "metadata": {},
   "outputs": [
    {
     "ename": "NameError",
     "evalue": "name 'orders' is not defined",
     "output_type": "error",
     "traceback": [
      "\u001b[1;31m---------------------------------------------------------------------------\u001b[0m",
      "\u001b[1;31mNameError\u001b[0m                                 Traceback (most recent call last)",
      "\u001b[1;32m~\\AppData\\Local\\Temp/ipykernel_1740/370789409.py\u001b[0m in \u001b[0;36m<module>\u001b[1;34m\u001b[0m\n\u001b[1;32m----> 1\u001b[1;33m display(orders.groupby('visitorId')\n\u001b[0m\u001b[0;32m      2\u001b[0m     \u001b[1;33m.\u001b[0m\u001b[0magg\u001b[0m\u001b[1;33m(\u001b[0m\u001b[1;33m{\u001b[0m\u001b[1;34m'group'\u001b[0m\u001b[1;33m:\u001b[0m \u001b[0mpd\u001b[0m\u001b[1;33m.\u001b[0m\u001b[0mSeries\u001b[0m\u001b[1;33m.\u001b[0m\u001b[0mnunique\u001b[0m\u001b[1;33m}\u001b[0m\u001b[1;33m)\u001b[0m\u001b[1;33m\u001b[0m\u001b[1;33m\u001b[0m\u001b[0m\n\u001b[0;32m      3\u001b[0m     .query('group == 2').count())\n",
      "\u001b[1;31mNameError\u001b[0m: name 'orders' is not defined"
     ]
    }
   ],
   "source": [
    "display(orders.groupby('visitorId')\n",
    "    .agg({'group': pd.Series.nunique})\n",
    "    .query('group == 2').count())"
   ]
  },
  {
   "cell_type": "markdown",
   "metadata": {},
   "source": [
    "Количество пользователей, входящих в обе группы сразу - 58 шт, от общего количества пользователей (1197) данное число составляет около 5%. Предлагаю пренебречь данными пользователями, большой погрешности в исследования они не должны привнести, кроме того, предполагаю, исходя из задания проекта и предложенных датасетов, исходные данные считаются \"чистыми\"."
   ]
  },
  {
   "cell_type": "markdown",
   "metadata": {},
   "source": [
    "###### Сформируем кумулятивные данные"
   ]
  },
  {
   "cell_type": "code",
   "execution_count": 22,
   "metadata": {},
   "outputs": [
    {
     "name": "stdout",
     "output_type": "stream",
     "text": [
      "        date group  orders  buyers  revenue  visitors\n",
      "0 2019-08-01  A     24      20      148579   719     \n",
      "1 2019-08-01  B     21      20      101217   713     \n",
      "2 2019-08-02  A     44      38      242401   1338    \n",
      "3 2019-08-02  B     45      43      266748   1294    \n",
      "4 2019-08-03  A     68      62      354874   1845    \n"
     ]
    }
   ],
   "source": [
    "# создаем массив уникальных пар значений дат и групп теста\n",
    "datesGroups = orders[['date','group']].drop_duplicates()\n",
    "# получаем агрегированные кумулятивные по дням данные о заказах \n",
    "ordersAggregated = datesGroups.apply(lambda x: orders[np.logical_and(orders['date'] <= x['date'],\n",
    "    orders['group'] == x['group'])].agg({'date' : 'max', 'group' : 'max', 'transactionId' : 'nunique', 'visitorId' : 'nunique', 'revenue' : 'sum'}), axis=1).sort_values(by=['date','group'])\n",
    "# получаем агрегированные кумулятивные по дням данные о посетителях интернет-магазина \n",
    "visitorsAggregated = datesGroups.apply(lambda x: visitors[np.logical_and(visitors['date'] <= x['date'],\n",
    "    visitors['group'] == x['group'])].agg({'date' : 'max', 'group' : 'max', 'visitors' : 'sum'}), axis=1).sort_values(by=['date','group'])\n",
    "# объединяем кумулятивные данные в одной таблице и присваиваем ее столбцам понятные названия\n",
    "cumulativeData = ordersAggregated.merge(visitorsAggregated, left_on=['date', 'group'], right_on=['date', 'group'])\n",
    "cumulativeData.columns = ['date', 'group', 'orders', 'buyers', 'revenue', 'visitors']\n",
    "print(cumulativeData.head(5))"
   ]
  },
  {
   "cell_type": "code",
   "execution_count": 23,
   "metadata": {},
   "outputs": [
    {
     "data": {
      "image/png": "[encoded data removed]",
      "text/plain": [
       "<Figure size 432x288 with 1 Axes>"
      ]
     },
     "metadata": {
      "needs_background": "light"
     },
     "output_type": "display_data"
    }
   ],
   "source": [
    "# строим график выручки по группам\n",
    "# датафрейм с кумулятивным количеством заказов и кумулятивной выручкой по дням в группе А\n",
    "cumulativeRevenueA = cumulativeData[cumulativeData['group']=='A'][['date','revenue', 'orders']]\n",
    "# датафрейм с кумулятивным количеством заказов и кумулятивной выручкой по дням в группе B\n",
    "cumulativeRevenueB = cumulativeData[cumulativeData['group']=='B'][['date','revenue', 'orders']]\n",
    "# Строим график выручки группы А\n",
    "plt.plot(cumulativeRevenueA['date'], cumulativeRevenueA['revenue'], label='A')\n",
    "# Строим график выручки группы B\n",
    "plt.plot(cumulativeRevenueB['date'], cumulativeRevenueB['revenue'], label='B')\n",
    "plt.legend()\n",
    "plt.ylabel('Выручка')\n",
    "plt.xlabel('Дата')\n",
    "plt.xticks(rotation = 45)\n",
    "plt.title('График выручки по группам')\n",
    "plt.show()"
   ]
  },
  {
   "cell_type": "markdown",
   "metadata": {},
   "source": [
    "#### Вывод:\n",
    "- Выручка равномерно увеличивается в течение всего теста. Однако график выручки группы В в одной точке резко растет. Это может сигнализировать о всплеске числа заказов, либо о появлении очень дорогих заказов в выборке*"
   ]
  },
  {
   "cell_type": "markdown",
   "metadata": {},
   "source": [
    "### Построим графики среднего чека по группам"
   ]
  },
  {
   "cell_type": "code",
   "execution_count": 24,
   "metadata": {},
   "outputs": [
    {
     "data": {
      "image/png": "[encoded data removed]",
      "text/plain": [
       "<Figure size 432x288 with 1 Axes>"
      ]
     },
     "metadata": {
      "needs_background": "light"
     },
     "output_type": "display_data"
    }
   ],
   "source": [
    "plt.plot(cumulativeRevenueA['date'], cumulativeRevenueA['revenue']/cumulativeRevenueA['orders'], label='A')\n",
    "plt.plot(cumulativeRevenueB['date'], cumulativeRevenueB['revenue']/cumulativeRevenueB['orders'], label='B')\n",
    "plt.legend()\n",
    "\n",
    "plt.ylabel('Средний чек')\n",
    "plt.xlabel('Дата')\n",
    "plt.xticks(rotation = 45)\n",
    "plt.title('График среднего чека по группам')\n",
    "plt.show()"
   ]
  },
  {
   "cell_type": "markdown",
   "metadata": {},
   "source": [
    "#### Вывод: \n",
    "- Средний чек тоже становится равномерным ближе к концу теста: установился для группы A и падает для группы B. Возможно, в группу B в середине теста попали крупные заказы (резкий всплеск на графике). Тогда группе В нужно больше данных, чтобы прийти к реальному среднему чеку и установиться на его уровне."
   ]
  },
  {
   "cell_type": "markdown",
   "metadata": {},
   "source": [
    "### Построим график относительного изменения кумулятивного среднего чека группы B к группе A."
   ]
  },
  {
   "cell_type": "code",
   "execution_count": 25,
   "metadata": {},
   "outputs": [
    {
     "data": {
      "image/png": "[encoded data removed]",
      "text/plain": [
       "<Figure size 432x288 with 1 Axes>"
      ]
     },
     "metadata": {
      "needs_background": "light"
     },
     "output_type": "display_data"
    }
   ],
   "source": [
    "# собираем данные в одном датафрейме\n",
    "mergedCumulativeRevenue = cumulativeRevenueA.merge(cumulativeRevenueB, left_on='date', right_on='date', how='left', suffixes=['A', 'B'])\n",
    "# cтроим отношение средних чеков\n",
    "plt.plot(mergedCumulativeRevenue['date'], (mergedCumulativeRevenue['revenueB']/mergedCumulativeRevenue['ordersB'])/(mergedCumulativeRevenue['revenueA']/mergedCumulativeRevenue['ordersA'])-1)\n",
    "# добавляем ось X\n",
    "plt.axhline(y=0, color='black', linestyle='--')\n",
    "\n",
    "plt.ylabel('Изменение среднего чека')\n",
    "plt.xlabel('Дата')\n",
    "plt.xticks(rotation = 45)\n",
    "plt.title('График относительного изменения кумулятивного среднего чека')\n",
    "plt.show()"
   ]
  },
  {
   "cell_type": "markdown",
   "metadata": {},
   "source": [
    "#### Вывод: \n",
    "- В нескольких точках график различия между сегментами резко «скачет». Где-то спрятались крупные заказы или выбросы."
   ]
  },
  {
   "cell_type": "markdown",
   "metadata": {},
   "source": [
    "### Построим график кумулятивной конверсии по группам."
   ]
  },
  {
   "cell_type": "code",
   "execution_count": 26,
   "metadata": {},
   "outputs": [
    {
     "data": {
      "image/png": "[encoded data removed]",
      "text/plain": [
       "<Figure size 432x288 with 1 Axes>"
      ]
     },
     "metadata": {
      "needs_background": "light"
     },
     "output_type": "display_data"
    }
   ],
   "source": [
    "# считаем кумулятивную конверсию\n",
    "cumulativeData['conversion'] = cumulativeData['orders']/cumulativeData['visitors']\n",
    "# отделяем данные по группе A\n",
    "cumulativeDataA = cumulativeData[cumulativeData['group']=='A']\n",
    "# отделяем данные по группе B\n",
    "cumulativeDataB = cumulativeData[cumulativeData['group']=='B']\n",
    "# строим графики\n",
    "plt.plot(cumulativeDataA['date'], cumulativeDataA['conversion'], label='A')\n",
    "plt.plot(cumulativeDataB['date'], cumulativeDataB['conversion'], label='B')\n",
    "plt.legend()\n",
    "plt.ylabel('Кумулятивная конверсия')\n",
    "plt.xlabel('Дата')\n",
    "plt.xticks(rotation = 45)\n",
    "plt.title('График кумулятивной конверсии по группам')\n",
    "plt.show()"
   ]
  },
  {
   "cell_type": "markdown",
   "metadata": {},
   "source": [
    "#### Вывод: \n",
    "- Получился достаточно симметричный график. Группы колеблются около одного значения, но конверсия группы В находится выше А. В конце графика конверсии зафиксировались."
   ]
  },
  {
   "cell_type": "markdown",
   "metadata": {},
   "source": [
    "### Построим график относительного изменения кумулятивной конверсии группы B к группе A"
   ]
  },
  {
   "cell_type": "code",
   "execution_count": 27,
   "metadata": {
    "scrolled": true
   },
   "outputs": [
    {
     "data": {
      "image/png": "[encoded data removed]",
      "text/plain": [
       "<Figure size 432x288 with 1 Axes>"
      ]
     },
     "metadata": {
      "needs_background": "light"
     },
     "output_type": "display_data"
    }
   ],
   "source": [
    "mergedCumulativeConversions = cumulativeDataA[['date','conversion']].merge(cumulativeDataB[['date','conversion']], left_on='date', right_on='date', how='left', suffixes=['A', 'B'])\n",
    "plt.plot(mergedCumulativeConversions['date'], mergedCumulativeConversions['conversionB']/mergedCumulativeConversions['conversionA']-1, label=\"Относительный прирост конверсии группы B относительно группы A\")\n",
    "plt.legend()\n",
    "plt.axhline(y=0, color='black', linestyle='--')\n",
    "plt.axhline(y=-0.1, color='grey', linestyle='--')\n",
    "\n",
    "plt.ylabel('Кумулятивная конверсия')\n",
    "plt.xlabel('Дата')\n",
    "plt.xticks(rotation = 45)\n",
    "plt.title('График относительного изменения кумулятивной конверсии группы B к группе A')\n",
    "plt.show()"
   ]
  },
  {
   "cell_type": "markdown",
   "metadata": {},
   "source": [
    "#### Вывод: \n",
    "- В начале теста группа B была приблизительно одинакова к группе A, но затем вырвалась вперёд. Далее её конверсия немного снизилась, и можно сказать установилась на определенном уровне."
   ]
  },
  {
   "cell_type": "markdown",
   "metadata": {},
   "source": [
    "### Построим точечный график количества заказов по пользователям"
   ]
  },
  {
   "cell_type": "code",
   "execution_count": 28,
   "metadata": {},
   "outputs": [
    {
     "name": "stdout",
     "output_type": "stream",
     "text": [
      "       visitorId  orders\n",
      "1023  4256040402  11    \n",
      "591   2458001652  11    \n",
      "569   2378935119  9     \n",
      "487   2038680547  8     \n",
      "44    199603092   5     \n",
      "744   3062433592  5     \n",
      "55    237748145   5     \n",
      "917   3803269165  5     \n",
      "299   1230306981  5     \n",
      "897   3717692402  5     \n"
     ]
    },
    {
     "data": {
      "image/png": "[encoded data removed]",
      "text/plain": [
       "<Figure size 432x288 with 1 Axes>"
      ]
     },
     "metadata": {
      "needs_background": "light"
     },
     "output_type": "display_data"
    }
   ],
   "source": [
    "ordersByUsers = (orders.groupby('visitorId', as_index=False).agg({'transactionId': 'nunique'}))\n",
    "ordersByUsers.columns = ['visitorId', 'orders']\n",
    "print(ordersByUsers.sort_values(by='orders', ascending=False).head(10))\n",
    "x_values = pd.Series(range(0,len(ordersByUsers)))\n",
    "plt.scatter(x_values, ordersByUsers['orders'])\n",
    "plt.ylabel('Количество заказов')\n",
    "plt.xlabel('Количество пользователей')\n",
    "plt.title('График количества заказов по пользователям')\n",
    "plt.show()"
   ]
  },
  {
   "cell_type": "markdown",
   "metadata": {},
   "source": [
    "#### Вывод:\n",
    "- Пользователей, заказавших более 3 раз немного, они вполне могут быть аномальными. Принято отсеивать от 1% до 5% наблюдений с крайними значениями."
   ]
  },
  {
   "cell_type": "markdown",
   "metadata": {},
   "source": [
    "### Посчитаем 95-й и 99-й перцентили количества заказов на пользователя. Выберем границу для определения аномальных пользователей."
   ]
  },
  {
   "cell_type": "code",
   "execution_count": 29,
   "metadata": {},
   "outputs": [
    {
     "name": "stdout",
     "output_type": "stream",
     "text": [
      "[2. 4.]\n"
     ]
    }
   ],
   "source": [
    "print(np.percentile(ordersByUsers['orders'], [95, 99]))"
   ]
  },
  {
   "cell_type": "markdown",
   "metadata": {},
   "source": [
    "#### Вывод: \n",
    "- Не более 5% пользователей заказали больше 2 раз и не более 1% пользователей больше 4 раз. Разумно выбрать 3 или 4 заказов на одного пользователя за нижнюю границу числа заказов и отсеять аномальных пользователей по ней."
   ]
  },
  {
   "cell_type": "markdown",
   "metadata": {},
   "source": [
    "### Построим точечный график стоимостей заказов."
   ]
  },
  {
   "cell_type": "code",
   "execution_count": 30,
   "metadata": {},
   "outputs": [
    {
     "data": {
      "image/png": "[encoded data removed]",
      "text/plain": [
       "<Figure size 432x288 with 1 Axes>"
      ]
     },
     "metadata": {
      "needs_background": "light"
     },
     "output_type": "display_data"
    }
   ],
   "source": [
    "x_values = pd.Series(range(0,len(orders['revenue'])))\n",
    "plt.scatter(x_values, orders['revenue'])\n",
    "plt.ylabel('Стоимость заказов')\n",
    "plt.xlabel('Количество пользователей')\n",
    "plt.title('График стоимости заказов по пользователям')\n",
    "plt.show()"
   ]
  },
  {
   "cell_type": "markdown",
   "metadata": {},
   "source": [
    "#### Вывод: \n",
    "- Eсть несколько дорогих заказов. Максимальная сумма заказа - 1 294 500, принято отсеивать от 1% до 5% наблюдений с крайними значениями. В данных явно есть заказы дороже 50 000, однако большинство имеет меньшую выручку."
   ]
  },
  {
   "cell_type": "markdown",
   "metadata": {},
   "source": [
    "### Посчитаем 95-й и 99-й перцентили стоимости заказов. Выберите границу для определения аномальных пользователей"
   ]
  },
  {
   "cell_type": "code",
   "execution_count": 31,
   "metadata": {},
   "outputs": [
    {
     "name": "stdout",
     "output_type": "stream",
     "text": [
      "[28000.  58233.2]\n"
     ]
    }
   ],
   "source": [
    "print(np.percentile(orders['revenue'], [95, 99]))"
   ]
  },
  {
   "cell_type": "markdown",
   "metadata": {},
   "source": [
    "###### Вывод:\n",
    "- Не более 5% заказов дороже 28 000 рублей и не более 1% дороже 58233.2 рублей. Разумно выбрать цену стоимости заказа в 28 000 за нижнюю границу и отсеять аномальные величины по ней."
   ]
  },
  {
   "cell_type": "markdown",
   "metadata": {},
   "source": [
    "### Посчитаем статистическую значимость различий в конверсии между группами по «сырым» данным."
   ]
  },
  {
   "cell_type": "markdown",
   "metadata": {},
   "source": [
    "###### Проверка гипотезы\n",
    "\n",
    "*Сформулируем гипотезу.*\n",
    "- Нулевая гипотеза : различий в конверсии между группами нет. \n",
    "- Альтернативная гипотеза: различия в конверсии между группами есть."
   ]
  },
  {
   "cell_type": "markdown",
   "metadata": {},
   "source": [
    "Подготовим данные"
   ]
  },
  {
   "cell_type": "code",
   "execution_count": 32,
   "metadata": {},
   "outputs": [
    {
     "name": "stdout",
     "output_type": "stream",
     "text": [
      "        date  ordersPerDateA  revenuePerDateA  ordersPerDateB  \\\n",
      "0 2019-08-01  24              148579           21               \n",
      "1 2019-08-02  20              93822            24               \n",
      "2 2019-08-03  24              112473           16               \n",
      "3 2019-08-04  16              70825            17               \n",
      "4 2019-08-05  25              124218           23               \n",
      "\n",
      "   revenuePerDateB  ordersCummulativeA  revenueCummulativeA  \\\n",
      "0  101217           24                  148579                \n",
      "1  165531           44                  242401                \n",
      "2  114248           68                  354874                \n",
      "3  108571           84                  425699                \n",
      "4  92428            109                 549917                \n",
      "\n",
      "   ordersCummulativeB  revenueCummulativeB  visitorsPerDateA  \\\n",
      "0  21                  101217               719                \n",
      "1  45                  266748               619                \n",
      "2  61                  380996               507                \n",
      "3  78                  489567               717                \n",
      "4  101                 581995               756                \n",
      "\n",
      "   visitorsPerDateB  visitorsCummulativeA  visitorsCummulativeB  \n",
      "0  713               719                   713                   \n",
      "1  581               1338                  1294                  \n",
      "2  509               1845                  1803                  \n",
      "3  770               2562                  2573                  \n",
      "4  707               3318                  3280                  \n"
     ]
    }
   ],
   "source": [
    "visitorsADaily = visitors[visitors['group'] == 'A'][['date', 'visitors']]\n",
    "visitorsADaily.columns = ['date', 'visitorsPerDateA']\n",
    "\n",
    "visitorsACummulative = visitorsADaily.apply(\n",
    "    lambda x: visitorsADaily[visitorsADaily['date'] <= x['date']].agg({'date': 'max', 'visitorsPerDateA': 'sum'}),axis=1,)\n",
    "visitorsACummulative.columns = ['date', 'visitorsCummulativeA']\n",
    "\n",
    "visitorsBDaily = visitors[visitors['group'] == 'B'][['date', 'visitors']]\n",
    "visitorsBDaily.columns = ['date', 'visitorsPerDateB']\n",
    "\n",
    "visitorsBCummulative = visitorsBDaily.apply(\n",
    "    lambda x: visitorsBDaily[visitorsBDaily['date'] <= x['date']].agg({'date': 'max', 'visitorsPerDateB': 'sum'}),axis=1,)\n",
    "visitorsBCummulative.columns = ['date', 'visitorsCummulativeB']\n",
    "\n",
    "ordersADaily = (\n",
    "    orders[orders['group'] == 'A'][['date', 'transactionId', 'visitorId', 'revenue']]\n",
    "    .groupby('date', as_index=False)\n",
    "    .agg({'transactionId': pd.Series.nunique, 'revenue': 'sum'}))\n",
    "ordersADaily.columns = ['date', 'ordersPerDateA', 'revenuePerDateA']\n",
    "\n",
    "ordersACummulative = ordersADaily.apply(\n",
    "    lambda x: ordersADaily[ordersADaily['date'] <= x['date']].agg(\n",
    "        {'date': 'max', 'ordersPerDateA': 'sum', 'revenuePerDateA': 'sum'}),axis=1,).sort_values(by=['date'])\n",
    "ordersACummulative.columns = ['date','ordersCummulativeA','revenueCummulativeA',]\n",
    "\n",
    "ordersBDaily = (\n",
    "    orders[orders['group'] == 'B'][['date', 'transactionId', 'visitorId', 'revenue']]\n",
    "    .groupby('date', as_index=False)\n",
    "    .agg({'transactionId': pd.Series.nunique, 'revenue': 'sum'}))\n",
    "ordersBDaily.columns = ['date', 'ordersPerDateB', 'revenuePerDateB']\n",
    "\n",
    "ordersBCummulative = ordersBDaily.apply(\n",
    "    lambda x: ordersBDaily[ordersBDaily['date'] <= x['date']].agg(\n",
    "        {'date': 'max', 'ordersPerDateB': 'sum', 'revenuePerDateB': 'sum'}),axis=1,).sort_values(by=['date'])\n",
    "ordersBCummulative.columns = ['date','ordersCummulativeB','revenueCummulativeB',]\n",
    "data = (ordersADaily.merge(ordersBDaily, left_on='date', right_on='date', how='left')\n",
    "    .merge(ordersACummulative, left_on='date', right_on='date', how='left')\n",
    "    .merge(ordersBCummulative, left_on='date', right_on='date', how='left')\n",
    "    .merge(visitorsADaily, left_on='date', right_on='date', how='left')\n",
    "    .merge(visitorsBDaily, left_on='date', right_on='date', how='left')\n",
    "    .merge(visitorsACummulative, left_on='date', right_on='date', how='left')\n",
    "    .merge(visitorsBCummulative, left_on='date', right_on='date', how='left'))\n",
    "print(data.head(5))"
   ]
  },
  {
   "cell_type": "markdown",
   "metadata": {},
   "source": [
    "- Посчитаем статистическую значимость различия в конверсии между группами. \n",
    "- Метод, который будем применять для A/B-тестирования, называется критерий Манна-Уитни (st.mannwhitneyu).\n",
    "- критический уровень статистической значимости p-value = 0,05\n",
    "- если полученный результат будет меньше  < 0,05, то отвергаем нулевую гипотезу: разница статистически значима."
   ]
  },
  {
   "cell_type": "code",
   "execution_count": 33,
   "metadata": {},
   "outputs": [],
   "source": [
    "# Создадим переменные ordersByUsersA и ordersByUsersB со столбцами ['userId', 'orders']. \n",
    "# в них для пользователей, которые заказывали хотя бы 1 раз, укажем число совершённых заказов. \n",
    "ordersByUsersA = (orders[orders['group'] == 'A']\n",
    "    .groupby('visitorId', as_index=False)\n",
    "    .agg({'transactionId': pd.Series.nunique}))\n",
    "ordersByUsersA.columns = ['visitorId', 'orders']\n",
    "\n",
    "ordersByUsersB = (orders[orders['group'] == 'B']\n",
    "    .groupby('visitorId', as_index=False)\n",
    "    .agg({'transactionId': pd.Series.nunique}))\n",
    "ordersByUsersB.columns = ['visitorId', 'orders']"
   ]
  },
  {
   "cell_type": "markdown",
   "metadata": {},
   "source": [
    "- В sampleA сохраним выборку, где каждый элемент — число заказов определённого пользователя, в том числе ноль, т.е число элементов sampleA — это количество пользователей, сумма всех элементов — количество заказов. Чтобы получить конверсию в группе, поделим сумму заказов на число пользователей — найдём среднее в выборке sampleA методом mean(). Аналогично найдём конверсию группы B.\n",
    "- Также выведем относительный прирост конверсии группы B: конверсия группы B / конверсия группы A - 1"
   ]
  },
  {
   "cell_type": "code",
   "execution_count": 34,
   "metadata": {},
   "outputs": [
    {
     "name": "stdout",
     "output_type": "stream",
     "text": [
      "Значение p-value,  0.017\n",
      "0.138\n"
     ]
    }
   ],
   "source": [
    "sampleA = pd.concat([ordersByUsersA['orders'],\n",
    "        pd.Series(0,index=np.arange(data['visitorsPerDateA'].sum() - len(ordersByUsersA['orders'])),\n",
    "            name='orders',),],axis=0,)\n",
    "\n",
    "sampleB = pd.concat([ordersByUsersB['orders'],\n",
    "        pd.Series(0,index=np.arange(data['visitorsPerDateB'].sum() - len(ordersByUsersB['orders'])),\n",
    "            name='orders',),],axis=0,)\n",
    "\n",
    "print('Значение p-value, ',\"{0:.3f}\".format(stats.mannwhitneyu(sampleA, sampleB)[1]))\n",
    "print(\"{0:.3f}\".format(sampleB.mean() / sampleA.mean() - 1))"
   ]
  },
  {
   "cell_type": "markdown",
   "metadata": {},
   "source": [
    "###### Вывод: \n",
    "- По «сырым» данным различия в конверсии групп A и B есть. Первое число — p-value = 0.017 меньше 0.05. Значит, нулевую гипотезу о том, что статистически значимых различий в конверсии между группами нет, отвергаем. Относительный проигрыш группы A равен 13.8% (второе число в выводе)."
   ]
  },
  {
   "cell_type": "markdown",
   "metadata": {},
   "source": [
    "### Посчитаем статистическую значимость различий в среднем чеке заказа между группами по «сырым» данным."
   ]
  },
  {
   "cell_type": "markdown",
   "metadata": {},
   "source": [
    "###### Проверим статистическую значимость различий в среднем чеке. "
   ]
  },
  {
   "cell_type": "markdown",
   "metadata": {},
   "source": [
    "*Сформулируем гипотезу*\n",
    "- Нулевая гипотеза: различий в среднем чеке между группами нет. \n",
    "- Альтернативная гипотеза: различия в среднем чеке между группами есть. \n",
    "\n",
    "Чтобы рассчитать статистическую значимость различий в среднем чеке, передадим критерию mannwhitneyu() данные о выручке с заказов."
   ]
  },
  {
   "cell_type": "code",
   "execution_count": 35,
   "metadata": {},
   "outputs": [
    {
     "name": "stdout",
     "output_type": "stream",
     "text": [
      "Значение p-value,  0.729\n",
      "0.259\n"
     ]
    }
   ],
   "source": [
    "print('Значение p-value, ', '{0:.3f}'.format(stats.mannwhitneyu(orders[orders['group']=='A']['revenue'], orders[orders['group']=='B']['revenue'])[1]))\n",
    "print('{0:.3f}'.format(orders[orders['group']=='B']['revenue'].mean()/orders[orders['group']=='A']['revenue'].mean()-1))"
   ]
  },
  {
   "cell_type": "markdown",
   "metadata": {},
   "source": [
    "###### Вывод:\n",
    "- P-value = 0.729 значительно больше 0.05. Значит, причин отвергать нулевую гипотезу и считать, что в среднем чеке есть различия, нет. Средний чек группы B выше среднего чека группы A"
   ]
  },
  {
   "cell_type": "markdown",
   "metadata": {},
   "source": [
    "### Посчитаем статистическую значимость различий в конверсии между группами по «очищенным» данным. "
   ]
  },
  {
   "cell_type": "markdown",
   "metadata": {},
   "source": [
    "Примем за аномальных пользователей тех, кто совершил от 3 заказов или совершил заказ дороже 28 000 рублей. Так мы уберём 5% пользователей с наибольшим числом заказов и от 1% до 5% пользователей с дорогими заказами. Сделаем срезы пользователей с числом заказов больше 3 — usersWithManyOrders и пользователей, совершивших заказы дороже 28 000 — usersWithExpensiveOrders. Объединим их в таблице abnormalUsers. Узнаем, сколько всего аномальных пользователей методом shape(). "
   ]
  },
  {
   "cell_type": "code",
   "execution_count": 36,
   "metadata": {},
   "outputs": [
    {
     "name": "stdout",
     "output_type": "stream",
     "text": [
      "1099    148427295\n",
      "18      199603092\n",
      "928     204675465\n",
      "23      237748145\n",
      "684     358944393\n",
      "Name: visitorId, dtype: int64\n",
      "63\n"
     ]
    }
   ],
   "source": [
    "usersWithManyOrders = pd.concat([\n",
    "        ordersByUsersA[ordersByUsersA['orders'] > 3]['visitorId'],\n",
    "        ordersByUsersB[ordersByUsersB['orders'] > 3]['visitorId'],],axis=0,)\n",
    "usersWithExpensiveOrders = orders[orders['revenue'] > 28000]['visitorId']\n",
    "abnormalUsers = (pd.concat([usersWithManyOrders, usersWithExpensiveOrders], axis=0)\n",
    "    .drop_duplicates().sort_values())\n",
    "print(abnormalUsers.head(5))\n",
    "print(abnormalUsers.shape[0])"
   ]
  },
  {
   "cell_type": "markdown",
   "metadata": {},
   "source": [
    "###### Вывод:\n",
    "- Всего 63 аномальных пользователей. Узнаем, как их действия повлияли на результаты теста. Посчитаем статистическую значимость различий в конверсии между группами теста по очищенным данным. Сначала подготовим выборки количества заказов по пользователям по группам теста:"
   ]
  },
  {
   "cell_type": "code",
   "execution_count": 37,
   "metadata": {
    "scrolled": true
   },
   "outputs": [
    {
     "name": "stdout",
     "output_type": "stream",
     "text": [
      "Значение p-value,  0.018\n",
      "0.148\n"
     ]
    }
   ],
   "source": [
    "sampleAFiltered = pd.concat([ordersByUsersA[np.logical_not(ordersByUsersA['visitorId'].isin(abnormalUsers))]['orders'],\n",
    "        pd.Series(0,index=np.arange(data['visitorsPerDateA'].sum() - len(ordersByUsersA['orders'])),\n",
    "            name='orders',),],axis=0,)\n",
    "\n",
    "sampleBFiltered = pd.concat([ordersByUsersB[np.logical_not(ordersByUsersB['visitorId'].isin(abnormalUsers))]['orders'],\n",
    "        pd.Series(0,index=np.arange(data['visitorsPerDateB'].sum() - len(ordersByUsersB['orders'])),\n",
    "            name='orders',),],axis=0,)\n",
    "# Применим статистический критерий Манна-Уитни к полученным выборкам\n",
    "print('Значение p-value, ', '{0:.3f}'.format(stats.mannwhitneyu(sampleAFiltered, sampleBFiltered)[1]))\n",
    "print('{0:.3f}'.format(sampleBFiltered.mean()/sampleAFiltered.mean()-1))"
   ]
  },
  {
   "cell_type": "markdown",
   "metadata": {},
   "source": [
    "###### Вывод: \n",
    "- По «сырым» данным первое число — p-value = 0.017, по очищенным данным p-value = 0.018. \n",
    "- ###### Величина P-value меньше 0.05. Значит, принимаем альтернативную гипотезу, что дает основание отвергнуть предположение об отсутствии различий.\n",
    "- Средний чек группы B выше среднего чека группы A\n",
    "- По «сырым» данным относительный проигрыш группы A равен 13.8%, по очищенным данным - 14.8%.\n",
    "\n",
    "*Результаты по конверсии практически не изменились*"
   ]
  },
  {
   "cell_type": "markdown",
   "metadata": {},
   "source": [
    "### Посчитаем статистическую значимость различий в среднем чеке заказа между группами по «очищенным» данным."
   ]
  },
  {
   "cell_type": "code",
   "execution_count": 38,
   "metadata": {},
   "outputs": [
    {
     "name": "stdout",
     "output_type": "stream",
     "text": [
      "Значение p-value,  0.977\n",
      "-0.017\n"
     ]
    }
   ],
   "source": [
    "print('Значение p-value, ', '{0:.3f}'.format(stats.mannwhitneyu(orders[np.logical_and(orders['group'] == 'A',\n",
    "                    np.logical_not(orders['visitorId'].isin(abnormalUsers)),)]['revenue'],\n",
    "            orders[np.logical_and(orders['group'] == 'B',np.logical_not(orders['visitorId'].isin(abnormalUsers)),)]\n",
    "                  ['revenue'],)[1]))\n",
    "print(\"{0:.3f}\".format(orders[np.logical_and(orders['group'] == 'B',np.logical_not(orders['visitorId'].isin(abnormalUsers)),)]\n",
    "                  ['revenue'].mean() / orders[np.logical_and(orders['group'] == 'A',np.logical_not(orders['visitorId']\n",
    "                  .isin(abnormalUsers)),)]['revenue'].mean()- 1))"
   ]
  },
  {
   "cell_type": "markdown",
   "metadata": {},
   "source": [
    "###### Вывод:\n",
    "- P-value = 0.977, что значительно больше 0.05. Значит, причин отвергать нулевую гипотезу и считать, что в среднем чеке есть различия, нет. \n",
    "- Средний чек группы B ниже среднего чека группы A (- 0,017).\n",
    "- По сравнению с \"сырыми\" данными P-value незначительно изменился (был 0,729). *Нет статистически значимого различия по среднему чеку между группами*.\n",
    "- Разница между сегментами изменилась существенно (была 0,259), а стала отрицательной. Это означает, что по \"очищенным\" данным средний чек группы B чуть ниже среднего чека группы A.\n",
    "\n",
    "*Хотя общие выводы по результатам теста не изменились, пример показывает, как сильно аномалии могут влиять на результаты A/B-теста.*"
   ]
  },
  {
   "cell_type": "markdown",
   "metadata": {},
   "source": [
    "### Примите решение по результатам теста и объясните его. Варианты решений: \n",
    "- 1. Остановить тест, зафиксировать победу одной из групп. \n",
    "- 2. Остановить тест, зафиксировать отсутствие различий между группами. \n",
    "- 3. Продолжить тест."
   ]
  },
  {
   "cell_type": "markdown",
   "metadata": {},
   "source": [
    "## Вывод: Какие выводы по тесту можно сделать?\n",
    "- Нет какого либо значимого различия по конверсии между группами А и В ни по «сырым», ни по данным после фильтрации аномалий; \n",
    "- Также нет значимого различия по среднему чеку между группами ни по «сырым», ни по данным после фильтрации аномалий. Однако разница между сегментами после \"чистки\" данных изменилась существенно и стала отрицательной.\n",
    "- График различия конверсии между группами сообщает, что результаты группы B несколько лучше группы A и можно сказать, что конверсия группы B установилась на более высоком уровне.\n",
    "- График различия среднего чека говорит о том, что результаты группы B лучше более чем на 30%, в то же время был зафиксирован резкий скачок, который мог быть обусловлен крупным заказом или выбросом.\n",
    "- Исходя из обнаруженных фактов, тест следует остановить и признать его успешным. При имеющихся данных сегмент B на самом деле лучше сегмента A. Группа B статистически значимо лучше группы A по метрикам, а график конверсии говорит о фиксации результата."
   ]
  },
  {
   "cell_type": "markdown",
   "metadata": {},
   "source": [
    "###### Общий вывод: *В ходе выполнения данного проекта, были проведены следующие работы:*\n",
    "- *Приоритизация гипотез*\n",
    "    - Для приоритизации гипотез были применены фреймворк ICE и RICE. В случае применения фреймворка ICE, наиболее перспективные гипотезы 8,0,7 и 6. При применении фреймворка RICE наиболее перспективными становятся гипотезы 7,2,0 и 6. Гипотеза 7 стала на первом месте в фреймворке RICE в связи с тем, что ее параметр Reach максимальный и равен 10, у гипотезы 2 параметр Reach также велик и равен 8.\n",
    "\n",
    "- *Проанализирован A/B-тест:*\n",
    "    - Построены графики кумулятивной выручки и кумулятивного среднего чека  по группам;\n",
    "    - Построены графики относительного изменения кумулятивного среднего чека группы B к группе A, кумулятивной конверсии по группам, относительного изменения кумулятивной конверсии;\n",
    "    - Построен точечный график количества заказов по пользователям и стоимостей заказов;\n",
    "    - Посчитаны 95-й и 99-й перцентили количества заказов на пользователя и стоимости заказов;\n",
    "    - Посчитаны статистические значимости различий в конверсии и среднем чеке заказа между группами по «сырым» данным;\n",
    "    - Посчитаны статистические значимости различий в конверсии и среднем чеке заказа между группами по «очищеным» данным;\n",
    "- ###### *По итогам теста принято решение об остановке теста и признания его успешным. Группа B статистически значимо лучше группы A по метрикам, а график конверсии говорит о фиксации результата.*\n",
    "    \n",
    "    \n",
    "    \n",
    "    \n",
    "    \n"
   ]
  }
 ],
 "metadata": {
  "ExecuteTimeLog": [
   {
    "duration": 15,
    "start_time": "2022-05-30T18:15:11.287Z"
   },
   {
    "duration": 1330,
    "start_time": "2022-05-31T08:09:12.855Z"
   },
   {
    "duration": 121,
    "start_time": "2022-05-31T08:10:26.760Z"
   },
   {
    "duration": 24,
    "start_time": "2022-05-31T08:11:20.910Z"
   },
   {
    "duration": 43,
    "start_time": "2022-05-31T08:11:25.426Z"
   },
   {
    "duration": 1129,
    "start_time": "2022-05-31T08:11:55.352Z"
   },
   {
    "duration": 110,
    "start_time": "2022-05-31T08:11:56.483Z"
   },
   {
    "duration": 185,
    "start_time": "2022-05-31T08:12:24.473Z"
   },
   {
    "duration": 70,
    "start_time": "2022-05-31T08:12:26.679Z"
   },
   {
    "duration": 12,
    "start_time": "2022-05-31T08:12:33.471Z"
   },
   {
    "duration": 13,
    "start_time": "2022-05-31T08:12:58.162Z"
   },
   {
    "duration": 5,
    "start_time": "2022-05-31T08:13:07.146Z"
   },
   {
    "duration": 4,
    "start_time": "2022-05-31T08:13:14.717Z"
   },
   {
    "duration": 8,
    "start_time": "2022-05-31T08:13:40.757Z"
   },
   {
    "duration": 12,
    "start_time": "2022-05-31T08:13:54.703Z"
   },
   {
    "duration": 6,
    "start_time": "2022-05-31T08:14:09.948Z"
   },
   {
    "duration": 6,
    "start_time": "2022-05-31T08:14:24.561Z"
   },
   {
    "duration": 4,
    "start_time": "2022-05-31T08:14:25.372Z"
   },
   {
    "duration": 16,
    "start_time": "2022-05-31T08:14:54.587Z"
   },
   {
    "duration": 8,
    "start_time": "2022-05-31T08:14:55.479Z"
   },
   {
    "duration": 2,
    "start_time": "2022-05-31T08:15:51.563Z"
   },
   {
    "duration": 121,
    "start_time": "2022-05-31T08:16:35.793Z"
   },
   {
    "duration": 12,
    "start_time": "2022-05-31T08:17:36.926Z"
   },
   {
    "duration": 245,
    "start_time": "2022-05-31T08:18:56.809Z"
   },
   {
    "duration": 431,
    "start_time": "2022-05-31T08:19:13.035Z"
   },
   {
    "duration": 339,
    "start_time": "2022-05-31T08:20:06.547Z"
   },
   {
    "duration": 360,
    "start_time": "2022-05-31T08:21:08.931Z"
   },
   {
    "duration": 270,
    "start_time": "2022-05-31T08:21:59.996Z"
   },
   {
    "duration": 38,
    "start_time": "2022-05-31T08:22:54.396Z"
   },
   {
    "duration": 375,
    "start_time": "2022-05-31T08:23:19.591Z"
   },
   {
    "duration": 137,
    "start_time": "2022-05-31T08:24:03.282Z"
   },
   {
    "duration": 9,
    "start_time": "2022-05-31T08:26:01.651Z"
   },
   {
    "duration": 122,
    "start_time": "2022-05-31T08:26:38.090Z"
   },
   {
    "duration": 4,
    "start_time": "2022-05-31T08:29:00.288Z"
   },
   {
    "duration": 51,
    "start_time": "2022-05-31T08:35:56.905Z"
   },
   {
    "duration": 20,
    "start_time": "2022-05-31T08:36:12.062Z"
   },
   {
    "duration": 17,
    "start_time": "2022-05-31T08:36:30.773Z"
   },
   {
    "duration": 157,
    "start_time": "2022-05-31T08:37:13.394Z"
   },
   {
    "duration": 166,
    "start_time": "2022-05-31T08:38:20.568Z"
   },
   {
    "duration": 785,
    "start_time": "2022-05-31T08:42:06.645Z"
   },
   {
    "duration": 144,
    "start_time": "2022-05-31T08:47:40.332Z"
   },
   {
    "duration": 198,
    "start_time": "2022-05-31T08:47:52.359Z"
   },
   {
    "duration": 658,
    "start_time": "2022-05-31T08:48:02.466Z"
   },
   {
    "duration": 139,
    "start_time": "2022-05-31T08:54:10.429Z"
   },
   {
    "duration": 104,
    "start_time": "2022-05-31T08:54:34.748Z"
   },
   {
    "duration": 209,
    "start_time": "2022-05-31T08:55:54.860Z"
   },
   {
    "duration": 696,
    "start_time": "2022-05-31T08:56:19.555Z"
   },
   {
    "duration": 174,
    "start_time": "2022-05-31T08:58:56.935Z"
   },
   {
    "duration": 4,
    "start_time": "2022-05-31T08:59:49.331Z"
   },
   {
    "duration": 3,
    "start_time": "2022-05-31T08:59:50.283Z"
   },
   {
    "duration": 1155,
    "start_time": "2022-05-31T08:59:57.557Z"
   },
   {
    "duration": 72,
    "start_time": "2022-05-31T08:59:58.714Z"
   },
   {
    "duration": 14,
    "start_time": "2022-05-31T08:59:58.788Z"
   },
   {
    "duration": 25,
    "start_time": "2022-05-31T08:59:58.805Z"
   },
   {
    "duration": 23,
    "start_time": "2022-05-31T08:59:58.832Z"
   },
   {
    "duration": 6,
    "start_time": "2022-05-31T08:59:58.857Z"
   },
   {
    "duration": 17,
    "start_time": "2022-05-31T08:59:58.865Z"
   },
   {
    "duration": 14,
    "start_time": "2022-05-31T08:59:58.884Z"
   },
   {
    "duration": 10,
    "start_time": "2022-05-31T08:59:58.899Z"
   },
   {
    "duration": 14,
    "start_time": "2022-05-31T08:59:58.912Z"
   },
   {
    "duration": 9,
    "start_time": "2022-05-31T08:59:58.929Z"
   },
   {
    "duration": 28,
    "start_time": "2022-05-31T08:59:58.940Z"
   },
   {
    "duration": 22,
    "start_time": "2022-05-31T08:59:58.970Z"
   },
   {
    "duration": 11,
    "start_time": "2022-05-31T08:59:58.994Z"
   },
   {
    "duration": 29,
    "start_time": "2022-05-31T08:59:59.007Z"
   },
   {
    "duration": 12,
    "start_time": "2022-05-31T08:59:59.038Z"
   },
   {
    "duration": 310,
    "start_time": "2022-05-31T08:59:59.052Z"
   },
   {
    "duration": 385,
    "start_time": "2022-05-31T08:59:59.364Z"
   },
   {
    "duration": 286,
    "start_time": "2022-05-31T08:59:59.766Z"
   },
   {
    "duration": 361,
    "start_time": "2022-05-31T09:00:00.054Z"
   },
   {
    "duration": 278,
    "start_time": "2022-05-31T09:00:00.417Z"
   },
   {
    "duration": 400,
    "start_time": "2022-05-31T09:00:00.697Z"
   },
   {
    "duration": 152,
    "start_time": "2022-05-31T09:00:01.099Z"
   },
   {
    "duration": 8,
    "start_time": "2022-05-31T09:00:01.253Z"
   },
   {
    "duration": 208,
    "start_time": "2022-05-31T09:00:01.263Z"
   },
   {
    "duration": 4,
    "start_time": "2022-05-31T09:00:01.473Z"
   },
   {
    "duration": 262,
    "start_time": "2022-05-31T09:00:01.479Z"
   },
   {
    "duration": 184,
    "start_time": "2022-05-31T09:00:01.744Z"
   },
   {
    "duration": 70,
    "start_time": "2022-05-31T10:49:31.875Z"
   },
   {
    "duration": 1942,
    "start_time": "2022-05-31T10:49:47.292Z"
   },
   {
    "duration": 203,
    "start_time": "2022-05-31T10:49:49.238Z"
   },
   {
    "duration": 12,
    "start_time": "2022-05-31T10:49:49.443Z"
   },
   {
    "duration": 14,
    "start_time": "2022-05-31T10:49:49.456Z"
   },
   {
    "duration": 8,
    "start_time": "2022-05-31T10:49:49.472Z"
   },
   {
    "duration": 7,
    "start_time": "2022-05-31T10:49:49.481Z"
   },
   {
    "duration": 9,
    "start_time": "2022-05-31T10:49:49.490Z"
   },
   {
    "duration": 14,
    "start_time": "2022-05-31T10:49:49.500Z"
   },
   {
    "duration": 12,
    "start_time": "2022-05-31T10:49:49.515Z"
   },
   {
    "duration": 16,
    "start_time": "2022-05-31T10:49:49.530Z"
   },
   {
    "duration": 6,
    "start_time": "2022-05-31T10:49:49.548Z"
   },
   {
    "duration": 9,
    "start_time": "2022-05-31T10:49:49.556Z"
   },
   {
    "duration": 11,
    "start_time": "2022-05-31T10:49:49.566Z"
   },
   {
    "duration": 11,
    "start_time": "2022-05-31T10:49:49.579Z"
   },
   {
    "duration": 15,
    "start_time": "2022-05-31T10:49:49.592Z"
   },
   {
    "duration": 20,
    "start_time": "2022-05-31T10:49:49.608Z"
   },
   {
    "duration": 337,
    "start_time": "2022-05-31T10:49:49.630Z"
   },
   {
    "duration": 282,
    "start_time": "2022-05-31T10:49:49.969Z"
   },
   {
    "duration": 249,
    "start_time": "2022-05-31T10:49:50.253Z"
   },
   {
    "duration": 406,
    "start_time": "2022-05-31T10:49:50.504Z"
   },
   {
    "duration": 264,
    "start_time": "2022-05-31T10:49:50.912Z"
   },
   {
    "duration": 335,
    "start_time": "2022-05-31T10:49:51.178Z"
   },
   {
    "duration": 132,
    "start_time": "2022-05-31T10:49:51.514Z"
   },
   {
    "duration": 7,
    "start_time": "2022-05-31T10:49:51.647Z"
   },
   {
    "duration": 144,
    "start_time": "2022-05-31T10:49:51.655Z"
   },
   {
    "duration": 5,
    "start_time": "2022-05-31T10:49:51.800Z"
   },
   {
    "duration": 207,
    "start_time": "2022-05-31T10:49:51.806Z"
   },
   {
    "duration": 173,
    "start_time": "2022-05-31T10:49:52.016Z"
   },
   {
    "duration": 11,
    "start_time": "2022-05-31T10:52:46.682Z"
   },
   {
    "duration": 460,
    "start_time": "2022-05-31T11:06:51.851Z"
   },
   {
    "duration": 399,
    "start_time": "2022-05-31T11:07:24.872Z"
   },
   {
    "duration": 331,
    "start_time": "2022-05-31T11:07:32.398Z"
   },
   {
    "duration": 8,
    "start_time": "2022-05-31T11:07:38.353Z"
   },
   {
    "duration": 7,
    "start_time": "2022-05-31T11:12:08.730Z"
   },
   {
    "duration": 31,
    "start_time": "2022-05-31T11:12:35.121Z"
   },
   {
    "duration": 26,
    "start_time": "2022-05-31T11:12:56.910Z"
   },
   {
    "duration": 14,
    "start_time": "2022-05-31T11:14:00.918Z"
   },
   {
    "duration": 17,
    "start_time": "2022-05-31T11:16:06.243Z"
   },
   {
    "duration": 33,
    "start_time": "2022-05-31T11:17:36.394Z"
   },
   {
    "duration": 12,
    "start_time": "2022-05-31T11:17:52.803Z"
   },
   {
    "duration": 4,
    "start_time": "2022-05-31T11:26:34.389Z"
   },
   {
    "duration": 3,
    "start_time": "2022-05-31T11:26:47.037Z"
   },
   {
    "duration": 72,
    "start_time": "2022-05-31T11:27:06.620Z"
   },
   {
    "duration": 4,
    "start_time": "2022-05-31T11:27:14.774Z"
   },
   {
    "duration": 4,
    "start_time": "2022-05-31T11:27:21.178Z"
   },
   {
    "duration": 3,
    "start_time": "2022-05-31T11:27:22.586Z"
   },
   {
    "duration": 3,
    "start_time": "2022-05-31T11:27:27.458Z"
   },
   {
    "duration": 3,
    "start_time": "2022-05-31T11:27:28.806Z"
   },
   {
    "duration": 3,
    "start_time": "2022-05-31T11:28:29.704Z"
   },
   {
    "duration": 3,
    "start_time": "2022-05-31T11:28:50.497Z"
   },
   {
    "duration": 4,
    "start_time": "2022-05-31T11:28:52.242Z"
   },
   {
    "duration": 3,
    "start_time": "2022-05-31T11:29:46.095Z"
   },
   {
    "duration": 3,
    "start_time": "2022-05-31T11:30:22.510Z"
   },
   {
    "duration": 4,
    "start_time": "2022-05-31T11:30:57.685Z"
   },
   {
    "duration": 3,
    "start_time": "2022-05-31T11:31:37.848Z"
   },
   {
    "duration": 29,
    "start_time": "2022-05-31T11:40:24.443Z"
   },
   {
    "duration": 24,
    "start_time": "2022-05-31T11:40:39.010Z"
   },
   {
    "duration": 44,
    "start_time": "2022-05-31T11:40:53.000Z"
   },
   {
    "duration": 1113,
    "start_time": "2022-05-31T11:41:24.355Z"
   },
   {
    "duration": 75,
    "start_time": "2022-05-31T11:41:25.470Z"
   },
   {
    "duration": 11,
    "start_time": "2022-05-31T11:41:25.546Z"
   },
   {
    "duration": 12,
    "start_time": "2022-05-31T11:41:25.558Z"
   },
   {
    "duration": 6,
    "start_time": "2022-05-31T11:41:25.573Z"
   },
   {
    "duration": 14,
    "start_time": "2022-05-31T11:41:25.581Z"
   },
   {
    "duration": 12,
    "start_time": "2022-05-31T11:41:25.597Z"
   },
   {
    "duration": 7,
    "start_time": "2022-05-31T11:41:25.610Z"
   },
   {
    "duration": 8,
    "start_time": "2022-05-31T11:41:25.619Z"
   },
   {
    "duration": 5,
    "start_time": "2022-05-31T11:41:25.629Z"
   },
   {
    "duration": 6,
    "start_time": "2022-05-31T11:41:25.635Z"
   },
   {
    "duration": 7,
    "start_time": "2022-05-31T11:41:25.643Z"
   },
   {
    "duration": 10,
    "start_time": "2022-05-31T11:41:25.652Z"
   },
   {
    "duration": 12,
    "start_time": "2022-05-31T11:41:25.665Z"
   },
   {
    "duration": 8,
    "start_time": "2022-05-31T11:41:25.679Z"
   },
   {
    "duration": 7,
    "start_time": "2022-05-31T11:41:25.688Z"
   },
   {
    "duration": 33,
    "start_time": "2022-05-31T11:41:25.697Z"
   },
   {
    "duration": 10,
    "start_time": "2022-05-31T11:41:25.732Z"
   },
   {
    "duration": 9,
    "start_time": "2022-05-31T11:41:25.744Z"
   },
   {
    "duration": 0,
    "start_time": "2022-05-31T11:41:25.754Z"
   },
   {
    "duration": 0,
    "start_time": "2022-05-31T11:41:25.756Z"
   },
   {
    "duration": 0,
    "start_time": "2022-05-31T11:41:25.757Z"
   },
   {
    "duration": 0,
    "start_time": "2022-05-31T11:41:25.758Z"
   },
   {
    "duration": 0,
    "start_time": "2022-05-31T11:41:25.759Z"
   },
   {
    "duration": 0,
    "start_time": "2022-05-31T11:41:25.760Z"
   },
   {
    "duration": 0,
    "start_time": "2022-05-31T11:41:25.761Z"
   },
   {
    "duration": 0,
    "start_time": "2022-05-31T11:41:25.762Z"
   },
   {
    "duration": 0,
    "start_time": "2022-05-31T11:41:25.763Z"
   },
   {
    "duration": 0,
    "start_time": "2022-05-31T11:41:25.764Z"
   },
   {
    "duration": 0,
    "start_time": "2022-05-31T11:41:25.765Z"
   },
   {
    "duration": 0,
    "start_time": "2022-05-31T11:41:25.766Z"
   },
   {
    "duration": 0,
    "start_time": "2022-05-31T11:41:25.768Z"
   },
   {
    "duration": 0,
    "start_time": "2022-05-31T11:41:25.769Z"
   },
   {
    "duration": 0,
    "start_time": "2022-05-31T11:41:25.769Z"
   },
   {
    "duration": 248,
    "start_time": "2022-05-31T11:42:49.773Z"
   },
   {
    "duration": 441,
    "start_time": "2022-05-31T11:42:57.670Z"
   },
   {
    "duration": 245,
    "start_time": "2022-05-31T11:45:18.135Z"
   },
   {
    "duration": 333,
    "start_time": "2022-05-31T11:48:08.542Z"
   },
   {
    "duration": 246,
    "start_time": "2022-05-31T11:49:35.322Z"
   },
   {
    "duration": 255,
    "start_time": "2022-05-31T11:50:33.108Z"
   },
   {
    "duration": 253,
    "start_time": "2022-05-31T11:51:15.129Z"
   },
   {
    "duration": 374,
    "start_time": "2022-05-31T11:55:46.440Z"
   },
   {
    "duration": 129,
    "start_time": "2022-05-31T11:59:58.975Z"
   },
   {
    "duration": 156,
    "start_time": "2022-05-31T12:53:09.215Z"
   },
   {
    "duration": 127,
    "start_time": "2022-05-31T12:54:03.414Z"
   },
   {
    "duration": 127,
    "start_time": "2022-05-31T12:54:30.632Z"
   },
   {
    "duration": 9,
    "start_time": "2022-05-31T12:58:37.869Z"
   },
   {
    "duration": 8,
    "start_time": "2022-05-31T12:58:42.967Z"
   },
   {
    "duration": 4,
    "start_time": "2022-05-31T12:58:58.382Z"
   },
   {
    "duration": 9,
    "start_time": "2022-05-31T12:59:04.102Z"
   },
   {
    "duration": 5,
    "start_time": "2022-05-31T12:59:11.716Z"
   },
   {
    "duration": 275,
    "start_time": "2022-05-31T13:04:32.995Z"
   },
   {
    "duration": 4,
    "start_time": "2022-05-31T13:10:15.911Z"
   },
   {
    "duration": 197,
    "start_time": "2022-05-31T13:14:52.160Z"
   },
   {
    "duration": 190,
    "start_time": "2022-05-31T13:15:20.425Z"
   },
   {
    "duration": 15,
    "start_time": "2022-05-31T13:18:57.540Z"
   },
   {
    "duration": 15,
    "start_time": "2022-05-31T13:24:48.199Z"
   },
   {
    "duration": 16,
    "start_time": "2022-05-31T13:25:10.848Z"
   },
   {
    "duration": 36,
    "start_time": "2022-05-31T13:26:13.544Z"
   },
   {
    "duration": 16,
    "start_time": "2022-05-31T13:28:24.344Z"
   },
   {
    "duration": 69,
    "start_time": "2022-05-31T16:16:10.091Z"
   },
   {
    "duration": 9,
    "start_time": "2022-05-31T16:16:17.576Z"
   },
   {
    "duration": 1602,
    "start_time": "2022-05-31T16:16:21.423Z"
   },
   {
    "duration": 101,
    "start_time": "2022-05-31T16:16:23.202Z"
   },
   {
    "duration": 210,
    "start_time": "2022-05-31T16:16:35.250Z"
   },
   {
    "duration": 1232,
    "start_time": "2022-05-31T16:18:54.094Z"
   },
   {
    "duration": 86,
    "start_time": "2022-05-31T16:18:55.329Z"
   },
   {
    "duration": 14,
    "start_time": "2022-05-31T16:18:55.417Z"
   },
   {
    "duration": 11,
    "start_time": "2022-05-31T16:18:55.434Z"
   },
   {
    "duration": 5,
    "start_time": "2022-05-31T16:18:55.446Z"
   },
   {
    "duration": 34,
    "start_time": "2022-05-31T16:18:55.452Z"
   },
   {
    "duration": 15,
    "start_time": "2022-05-31T16:18:55.488Z"
   },
   {
    "duration": 7,
    "start_time": "2022-05-31T16:18:55.505Z"
   },
   {
    "duration": 7,
    "start_time": "2022-05-31T16:18:55.514Z"
   },
   {
    "duration": 7,
    "start_time": "2022-05-31T16:18:55.525Z"
   },
   {
    "duration": 7,
    "start_time": "2022-05-31T16:18:55.534Z"
   },
   {
    "duration": 14,
    "start_time": "2022-05-31T16:18:55.543Z"
   },
   {
    "duration": 28,
    "start_time": "2022-05-31T16:18:55.562Z"
   },
   {
    "duration": 20,
    "start_time": "2022-05-31T16:18:55.592Z"
   },
   {
    "duration": 13,
    "start_time": "2022-05-31T16:18:55.614Z"
   },
   {
    "duration": 10,
    "start_time": "2022-05-31T16:18:55.629Z"
   },
   {
    "duration": 21,
    "start_time": "2022-05-31T16:18:55.641Z"
   },
   {
    "duration": 17,
    "start_time": "2022-05-31T16:18:55.664Z"
   },
   {
    "duration": 306,
    "start_time": "2022-05-31T16:18:55.683Z"
   },
   {
    "duration": 413,
    "start_time": "2022-05-31T16:18:55.991Z"
   },
   {
    "duration": 280,
    "start_time": "2022-05-31T16:18:56.406Z"
   },
   {
    "duration": 345,
    "start_time": "2022-05-31T16:18:56.688Z"
   },
   {
    "duration": 273,
    "start_time": "2022-05-31T16:18:57.035Z"
   },
   {
    "duration": 425,
    "start_time": "2022-05-31T16:18:57.310Z"
   },
   {
    "duration": 120,
    "start_time": "2022-05-31T16:18:57.736Z"
   },
   {
    "duration": 0,
    "start_time": "2022-05-31T16:18:57.858Z"
   },
   {
    "duration": 0,
    "start_time": "2022-05-31T16:18:57.859Z"
   },
   {
    "duration": 0,
    "start_time": "2022-05-31T16:18:57.861Z"
   },
   {
    "duration": 0,
    "start_time": "2022-05-31T16:18:57.862Z"
   },
   {
    "duration": 0,
    "start_time": "2022-05-31T16:18:57.870Z"
   },
   {
    "duration": 0,
    "start_time": "2022-05-31T16:18:57.877Z"
   },
   {
    "duration": 0,
    "start_time": "2022-05-31T16:18:57.879Z"
   },
   {
    "duration": 0,
    "start_time": "2022-05-31T16:18:57.881Z"
   },
   {
    "duration": 0,
    "start_time": "2022-05-31T16:18:57.882Z"
   },
   {
    "duration": 15,
    "start_time": "2022-05-31T16:21:02.027Z"
   },
   {
    "duration": 15,
    "start_time": "2022-05-31T16:21:05.139Z"
   },
   {
    "duration": 221,
    "start_time": "2022-05-31T16:21:09.511Z"
   },
   {
    "duration": 15,
    "start_time": "2022-05-31T16:21:20.839Z"
   },
   {
    "duration": 13,
    "start_time": "2022-05-31T16:21:28.484Z"
   },
   {
    "duration": 467,
    "start_time": "2022-05-31T16:21:34.915Z"
   },
   {
    "duration": 374,
    "start_time": "2022-05-31T16:21:39.184Z"
   },
   {
    "duration": 374,
    "start_time": "2022-05-31T16:21:42.181Z"
   },
   {
    "duration": 14,
    "start_time": "2022-05-31T16:23:10.542Z"
   },
   {
    "duration": 10,
    "start_time": "2022-05-31T16:23:19.422Z"
   },
   {
    "duration": 15,
    "start_time": "2022-05-31T16:25:26.774Z"
   },
   {
    "duration": 323,
    "start_time": "2022-05-31T16:25:57.515Z"
   },
   {
    "duration": 328,
    "start_time": "2022-05-31T16:26:02.394Z"
   },
   {
    "duration": 153,
    "start_time": "2022-05-31T16:27:26.841Z"
   },
   {
    "duration": 6,
    "start_time": "2022-05-31T16:27:32.481Z"
   },
   {
    "duration": 1202,
    "start_time": "2022-05-31T16:27:43.354Z"
   },
   {
    "duration": 83,
    "start_time": "2022-05-31T16:27:44.559Z"
   },
   {
    "duration": 24,
    "start_time": "2022-05-31T16:27:44.646Z"
   },
   {
    "duration": 32,
    "start_time": "2022-05-31T16:27:44.675Z"
   },
   {
    "duration": 6,
    "start_time": "2022-05-31T16:27:44.710Z"
   },
   {
    "duration": 22,
    "start_time": "2022-05-31T16:27:44.718Z"
   },
   {
    "duration": 48,
    "start_time": "2022-05-31T16:27:44.742Z"
   },
   {
    "duration": 9,
    "start_time": "2022-05-31T16:27:44.792Z"
   },
   {
    "duration": 4,
    "start_time": "2022-05-31T16:27:44.803Z"
   },
   {
    "duration": 7,
    "start_time": "2022-05-31T16:27:44.809Z"
   },
   {
    "duration": 5,
    "start_time": "2022-05-31T16:27:44.818Z"
   },
   {
    "duration": 33,
    "start_time": "2022-05-31T16:27:44.825Z"
   },
   {
    "duration": 32,
    "start_time": "2022-05-31T16:27:44.860Z"
   },
   {
    "duration": 18,
    "start_time": "2022-05-31T16:27:44.894Z"
   },
   {
    "duration": 8,
    "start_time": "2022-05-31T16:27:44.914Z"
   },
   {
    "duration": 6,
    "start_time": "2022-05-31T16:27:44.963Z"
   },
   {
    "duration": 26,
    "start_time": "2022-05-31T16:27:44.971Z"
   },
   {
    "duration": 14,
    "start_time": "2022-05-31T16:27:44.999Z"
   },
   {
    "duration": 433,
    "start_time": "2022-05-31T16:27:45.015Z"
   },
   {
    "duration": 453,
    "start_time": "2022-05-31T16:27:45.454Z"
   },
   {
    "duration": 287,
    "start_time": "2022-05-31T16:27:45.909Z"
   },
   {
    "duration": 394,
    "start_time": "2022-05-31T16:27:46.198Z"
   },
   {
    "duration": 294,
    "start_time": "2022-05-31T16:27:46.594Z"
   },
   {
    "duration": 381,
    "start_time": "2022-05-31T16:27:46.891Z"
   },
   {
    "duration": 171,
    "start_time": "2022-05-31T16:27:47.274Z"
   },
   {
    "duration": 6,
    "start_time": "2022-05-31T16:27:47.453Z"
   },
   {
    "duration": 165,
    "start_time": "2022-05-31T16:27:47.461Z"
   },
   {
    "duration": 6,
    "start_time": "2022-05-31T16:27:47.637Z"
   },
   {
    "duration": 283,
    "start_time": "2022-05-31T16:27:47.645Z"
   },
   {
    "duration": 225,
    "start_time": "2022-05-31T16:27:47.930Z"
   },
   {
    "duration": 26,
    "start_time": "2022-05-31T16:27:48.157Z"
   },
   {
    "duration": 18,
    "start_time": "2022-05-31T16:27:48.188Z"
   },
   {
    "duration": 39,
    "start_time": "2022-05-31T16:27:48.209Z"
   },
   {
    "duration": 30,
    "start_time": "2022-05-31T16:27:48.255Z"
   },
   {
    "duration": 1286,
    "start_time": "2022-06-01T06:42:35.616Z"
   },
   {
    "duration": 187,
    "start_time": "2022-06-01T06:42:36.905Z"
   },
   {
    "duration": 17,
    "start_time": "2022-06-01T06:42:37.095Z"
   },
   {
    "duration": 17,
    "start_time": "2022-06-01T06:42:37.114Z"
   },
   {
    "duration": 17,
    "start_time": "2022-06-01T06:42:37.134Z"
   },
   {
    "duration": 22,
    "start_time": "2022-06-01T06:42:37.153Z"
   },
   {
    "duration": 21,
    "start_time": "2022-06-01T06:42:37.177Z"
   },
   {
    "duration": 13,
    "start_time": "2022-06-01T06:42:37.200Z"
   },
   {
    "duration": 27,
    "start_time": "2022-06-01T06:42:37.214Z"
   },
   {
    "duration": 18,
    "start_time": "2022-06-01T06:42:37.243Z"
   },
   {
    "duration": 25,
    "start_time": "2022-06-01T06:42:37.263Z"
   },
   {
    "duration": 22,
    "start_time": "2022-06-01T06:42:37.290Z"
   },
   {
    "duration": 13,
    "start_time": "2022-06-01T06:42:37.314Z"
   },
   {
    "duration": 27,
    "start_time": "2022-06-01T06:42:37.329Z"
   },
   {
    "duration": 9,
    "start_time": "2022-06-01T06:42:37.358Z"
   },
   {
    "duration": 6,
    "start_time": "2022-06-01T06:42:37.369Z"
   },
   {
    "duration": 15,
    "start_time": "2022-06-01T06:42:37.376Z"
   },
   {
    "duration": 10,
    "start_time": "2022-06-01T06:42:37.393Z"
   },
   {
    "duration": 302,
    "start_time": "2022-06-01T06:42:37.405Z"
   },
   {
    "duration": 371,
    "start_time": "2022-06-01T06:42:37.709Z"
   },
   {
    "duration": 307,
    "start_time": "2022-06-01T06:42:38.081Z"
   },
   {
    "duration": 427,
    "start_time": "2022-06-01T06:42:38.389Z"
   },
   {
    "duration": 268,
    "start_time": "2022-06-01T06:42:38.818Z"
   },
   {
    "duration": 399,
    "start_time": "2022-06-01T06:42:39.089Z"
   },
   {
    "duration": 155,
    "start_time": "2022-06-01T06:42:39.490Z"
   },
   {
    "duration": 4,
    "start_time": "2022-06-01T06:42:39.652Z"
   },
   {
    "duration": 151,
    "start_time": "2022-06-01T06:42:39.658Z"
   },
   {
    "duration": 5,
    "start_time": "2022-06-01T06:42:39.811Z"
   },
   {
    "duration": 240,
    "start_time": "2022-06-01T06:42:39.817Z"
   },
   {
    "duration": 193,
    "start_time": "2022-06-01T06:42:40.059Z"
   },
   {
    "duration": 10,
    "start_time": "2022-06-01T06:42:40.254Z"
   },
   {
    "duration": 14,
    "start_time": "2022-06-01T06:42:40.266Z"
   },
   {
    "duration": 36,
    "start_time": "2022-06-01T06:42:40.282Z"
   },
   {
    "duration": 34,
    "start_time": "2022-06-01T06:42:40.321Z"
   },
   {
    "duration": 1186,
    "start_time": "2022-06-01T07:20:44.481Z"
   },
   {
    "duration": 79,
    "start_time": "2022-06-01T07:20:45.669Z"
   },
   {
    "duration": 13,
    "start_time": "2022-06-01T07:20:45.750Z"
   },
   {
    "duration": 30,
    "start_time": "2022-06-01T07:20:45.764Z"
   },
   {
    "duration": 5,
    "start_time": "2022-06-01T07:20:45.797Z"
   },
   {
    "duration": 14,
    "start_time": "2022-06-01T07:20:45.805Z"
   },
   {
    "duration": 17,
    "start_time": "2022-06-01T07:20:45.820Z"
   },
   {
    "duration": 7,
    "start_time": "2022-06-01T07:20:45.839Z"
   },
   {
    "duration": 7,
    "start_time": "2022-06-01T07:20:45.848Z"
   },
   {
    "duration": 15,
    "start_time": "2022-06-01T07:20:45.857Z"
   },
   {
    "duration": 7,
    "start_time": "2022-06-01T07:20:45.873Z"
   },
   {
    "duration": 9,
    "start_time": "2022-06-01T07:20:45.882Z"
   },
   {
    "duration": 17,
    "start_time": "2022-06-01T07:20:45.893Z"
   },
   {
    "duration": 13,
    "start_time": "2022-06-01T07:20:45.913Z"
   },
   {
    "duration": 8,
    "start_time": "2022-06-01T07:20:45.927Z"
   },
   {
    "duration": 17,
    "start_time": "2022-06-01T07:20:45.936Z"
   },
   {
    "duration": 16,
    "start_time": "2022-06-01T07:20:45.955Z"
   },
   {
    "duration": 10,
    "start_time": "2022-06-01T07:20:45.973Z"
   },
   {
    "duration": 335,
    "start_time": "2022-06-01T07:20:45.985Z"
   },
   {
    "duration": 374,
    "start_time": "2022-06-01T07:20:46.321Z"
   },
   {
    "duration": 284,
    "start_time": "2022-06-01T07:20:46.697Z"
   },
   {
    "duration": 358,
    "start_time": "2022-06-01T07:20:46.983Z"
   },
   {
    "duration": 280,
    "start_time": "2022-06-01T07:20:47.343Z"
   },
   {
    "duration": 420,
    "start_time": "2022-06-01T07:20:47.625Z"
   },
   {
    "duration": 148,
    "start_time": "2022-06-01T07:20:48.052Z"
   },
   {
    "duration": 5,
    "start_time": "2022-06-01T07:20:48.202Z"
   },
   {
    "duration": 165,
    "start_time": "2022-06-01T07:20:48.208Z"
   },
   {
    "duration": 5,
    "start_time": "2022-06-01T07:20:48.375Z"
   },
   {
    "duration": 236,
    "start_time": "2022-06-01T07:20:48.383Z"
   },
   {
    "duration": 187,
    "start_time": "2022-06-01T07:20:48.620Z"
   },
   {
    "duration": 11,
    "start_time": "2022-06-01T07:20:48.810Z"
   },
   {
    "duration": 12,
    "start_time": "2022-06-01T07:20:48.823Z"
   },
   {
    "duration": 46,
    "start_time": "2022-06-01T07:20:48.852Z"
   },
   {
    "duration": 14,
    "start_time": "2022-06-01T07:20:48.900Z"
   },
   {
    "duration": 1238,
    "start_time": "2022-06-01T07:26:20.871Z"
   },
   {
    "duration": 87,
    "start_time": "2022-06-01T07:26:22.111Z"
   },
   {
    "duration": 11,
    "start_time": "2022-06-01T07:26:22.200Z"
   },
   {
    "duration": 12,
    "start_time": "2022-06-01T07:26:22.213Z"
   },
   {
    "duration": 6,
    "start_time": "2022-06-01T07:26:22.228Z"
   },
   {
    "duration": 13,
    "start_time": "2022-06-01T07:26:22.235Z"
   },
   {
    "duration": 35,
    "start_time": "2022-06-01T07:26:22.250Z"
   },
   {
    "duration": 8,
    "start_time": "2022-06-01T07:26:22.287Z"
   },
   {
    "duration": 7,
    "start_time": "2022-06-01T07:26:22.297Z"
   },
   {
    "duration": 7,
    "start_time": "2022-06-01T07:26:22.306Z"
   },
   {
    "duration": 7,
    "start_time": "2022-06-01T07:26:22.315Z"
   },
   {
    "duration": 10,
    "start_time": "2022-06-01T07:26:22.324Z"
   },
   {
    "duration": 12,
    "start_time": "2022-06-01T07:26:22.336Z"
   },
   {
    "duration": 26,
    "start_time": "2022-06-01T07:26:22.354Z"
   },
   {
    "duration": 7,
    "start_time": "2022-06-01T07:26:22.382Z"
   },
   {
    "duration": 9,
    "start_time": "2022-06-01T07:26:22.391Z"
   },
   {
    "duration": 24,
    "start_time": "2022-06-01T07:26:22.402Z"
   },
   {
    "duration": 11,
    "start_time": "2022-06-01T07:26:22.428Z"
   },
   {
    "duration": 355,
    "start_time": "2022-06-01T07:26:22.441Z"
   },
   {
    "duration": 384,
    "start_time": "2022-06-01T07:26:22.798Z"
   },
   {
    "duration": 292,
    "start_time": "2022-06-01T07:26:23.184Z"
   },
   {
    "duration": 365,
    "start_time": "2022-06-01T07:26:23.479Z"
   },
   {
    "duration": 270,
    "start_time": "2022-06-01T07:26:23.846Z"
   },
   {
    "duration": 427,
    "start_time": "2022-06-01T07:26:24.118Z"
   },
   {
    "duration": 127,
    "start_time": "2022-06-01T07:26:24.552Z"
   },
   {
    "duration": 4,
    "start_time": "2022-06-01T07:26:24.681Z"
   },
   {
    "duration": 154,
    "start_time": "2022-06-01T07:26:24.686Z"
   },
   {
    "duration": 4,
    "start_time": "2022-06-01T07:26:24.842Z"
   },
   {
    "duration": 224,
    "start_time": "2022-06-01T07:26:24.855Z"
   },
   {
    "duration": 249,
    "start_time": "2022-06-01T07:26:25.081Z"
   },
   {
    "duration": 22,
    "start_time": "2022-06-01T07:26:25.333Z"
   },
   {
    "duration": 21,
    "start_time": "2022-06-01T07:26:25.365Z"
   },
   {
    "duration": 52,
    "start_time": "2022-06-01T07:26:25.388Z"
   },
   {
    "duration": 23,
    "start_time": "2022-06-01T07:26:25.442Z"
   },
   {
    "duration": 68,
    "start_time": "2022-06-01T10:40:53.723Z"
   },
   {
    "duration": 1426,
    "start_time": "2022-06-01T10:41:04.074Z"
   },
   {
    "duration": 218,
    "start_time": "2022-06-01T10:41:05.502Z"
   },
   {
    "duration": 21,
    "start_time": "2022-06-01T10:41:05.723Z"
   },
   {
    "duration": 35,
    "start_time": "2022-06-01T10:41:05.747Z"
   },
   {
    "duration": 11,
    "start_time": "2022-06-01T10:41:05.784Z"
   },
   {
    "duration": 23,
    "start_time": "2022-06-01T10:41:05.798Z"
   },
   {
    "duration": 52,
    "start_time": "2022-06-01T10:41:05.823Z"
   },
   {
    "duration": 11,
    "start_time": "2022-06-01T10:41:05.877Z"
   },
   {
    "duration": 5,
    "start_time": "2022-06-01T10:41:05.890Z"
   },
   {
    "duration": 15,
    "start_time": "2022-06-01T10:41:05.898Z"
   },
   {
    "duration": 38,
    "start_time": "2022-06-01T10:41:05.915Z"
   },
   {
    "duration": 15,
    "start_time": "2022-06-01T10:41:05.955Z"
   },
   {
    "duration": 17,
    "start_time": "2022-06-01T10:41:05.972Z"
   },
   {
    "duration": 23,
    "start_time": "2022-06-01T10:41:05.991Z"
   },
   {
    "duration": 17,
    "start_time": "2022-06-01T10:41:06.017Z"
   },
   {
    "duration": 34,
    "start_time": "2022-06-01T10:41:06.036Z"
   },
   {
    "duration": 15,
    "start_time": "2022-06-01T10:41:06.072Z"
   },
   {
    "duration": 19,
    "start_time": "2022-06-01T10:41:06.088Z"
   },
   {
    "duration": 10,
    "start_time": "2022-06-01T10:41:06.109Z"
   },
   {
    "duration": 351,
    "start_time": "2022-06-01T10:41:06.121Z"
   },
   {
    "duration": 0,
    "start_time": "2022-06-01T10:41:06.474Z"
   },
   {
    "duration": 0,
    "start_time": "2022-06-01T10:41:06.476Z"
   },
   {
    "duration": 0,
    "start_time": "2022-06-01T10:41:06.477Z"
   },
   {
    "duration": 0,
    "start_time": "2022-06-01T10:41:06.478Z"
   },
   {
    "duration": 0,
    "start_time": "2022-06-01T10:41:06.478Z"
   },
   {
    "duration": 0,
    "start_time": "2022-06-01T10:41:06.480Z"
   },
   {
    "duration": 0,
    "start_time": "2022-06-01T10:41:06.480Z"
   },
   {
    "duration": 0,
    "start_time": "2022-06-01T10:41:06.482Z"
   },
   {
    "duration": 0,
    "start_time": "2022-06-01T10:41:06.483Z"
   },
   {
    "duration": 0,
    "start_time": "2022-06-01T10:41:06.484Z"
   },
   {
    "duration": 0,
    "start_time": "2022-06-01T10:41:06.485Z"
   },
   {
    "duration": 0,
    "start_time": "2022-06-01T10:41:06.487Z"
   },
   {
    "duration": 0,
    "start_time": "2022-06-01T10:41:06.488Z"
   },
   {
    "duration": 0,
    "start_time": "2022-06-01T10:41:06.489Z"
   },
   {
    "duration": 0,
    "start_time": "2022-06-01T10:41:06.490Z"
   },
   {
    "duration": 3,
    "start_time": "2022-06-01T10:41:14.889Z"
   },
   {
    "duration": 96,
    "start_time": "2022-06-01T10:41:16.602Z"
   },
   {
    "duration": 9,
    "start_time": "2022-06-01T10:41:18.616Z"
   },
   {
    "duration": 4,
    "start_time": "2022-06-01T10:41:50.139Z"
   },
   {
    "duration": 6,
    "start_time": "2022-06-01T10:41:59.897Z"
   },
   {
    "duration": 17,
    "start_time": "2022-06-01T10:42:14.007Z"
   },
   {
    "duration": 11,
    "start_time": "2022-06-01T10:42:28.894Z"
   },
   {
    "duration": 19,
    "start_time": "2022-06-01T10:42:44.817Z"
   },
   {
    "duration": 101,
    "start_time": "2022-06-01T10:43:24.545Z"
   },
   {
    "duration": 6,
    "start_time": "2022-06-01T10:43:30.955Z"
   },
   {
    "duration": 15,
    "start_time": "2022-06-01T10:43:32.659Z"
   },
   {
    "duration": 1347,
    "start_time": "2022-06-01T10:43:43.327Z"
   },
   {
    "duration": 98,
    "start_time": "2022-06-01T10:43:44.676Z"
   },
   {
    "duration": 16,
    "start_time": "2022-06-01T10:43:44.776Z"
   },
   {
    "duration": 29,
    "start_time": "2022-06-01T10:43:44.796Z"
   },
   {
    "duration": 39,
    "start_time": "2022-06-01T10:43:44.838Z"
   },
   {
    "duration": 19,
    "start_time": "2022-06-01T10:43:44.879Z"
   },
   {
    "duration": 15,
    "start_time": "2022-06-01T10:43:44.900Z"
   },
   {
    "duration": 73,
    "start_time": "2022-06-01T10:43:44.916Z"
   },
   {
    "duration": 12,
    "start_time": "2022-06-01T10:43:44.991Z"
   },
   {
    "duration": 48,
    "start_time": "2022-06-01T10:43:45.007Z"
   },
   {
    "duration": 34,
    "start_time": "2022-06-01T10:43:45.059Z"
   },
   {
    "duration": 16,
    "start_time": "2022-06-01T10:43:45.097Z"
   },
   {
    "duration": 169,
    "start_time": "2022-06-01T10:43:45.115Z"
   },
   {
    "duration": 0,
    "start_time": "2022-06-01T10:43:45.287Z"
   },
   {
    "duration": 0,
    "start_time": "2022-06-01T10:43:45.289Z"
   },
   {
    "duration": 0,
    "start_time": "2022-06-01T10:43:45.291Z"
   },
   {
    "duration": 0,
    "start_time": "2022-06-01T10:43:45.293Z"
   },
   {
    "duration": 0,
    "start_time": "2022-06-01T10:43:45.294Z"
   },
   {
    "duration": 0,
    "start_time": "2022-06-01T10:43:45.295Z"
   },
   {
    "duration": 0,
    "start_time": "2022-06-01T10:43:45.296Z"
   },
   {
    "duration": 0,
    "start_time": "2022-06-01T10:43:45.297Z"
   },
   {
    "duration": 0,
    "start_time": "2022-06-01T10:43:45.299Z"
   },
   {
    "duration": 0,
    "start_time": "2022-06-01T10:43:45.300Z"
   },
   {
    "duration": 0,
    "start_time": "2022-06-01T10:43:45.302Z"
   },
   {
    "duration": 0,
    "start_time": "2022-06-01T10:43:45.303Z"
   },
   {
    "duration": 0,
    "start_time": "2022-06-01T10:43:45.326Z"
   },
   {
    "duration": 0,
    "start_time": "2022-06-01T10:43:45.326Z"
   },
   {
    "duration": 0,
    "start_time": "2022-06-01T10:43:45.327Z"
   },
   {
    "duration": 0,
    "start_time": "2022-06-01T10:43:45.329Z"
   },
   {
    "duration": 0,
    "start_time": "2022-06-01T10:43:45.346Z"
   },
   {
    "duration": 0,
    "start_time": "2022-06-01T10:43:45.348Z"
   },
   {
    "duration": 0,
    "start_time": "2022-06-01T10:43:45.350Z"
   },
   {
    "duration": 0,
    "start_time": "2022-06-01T10:43:45.351Z"
   },
   {
    "duration": 0,
    "start_time": "2022-06-01T10:43:45.352Z"
   },
   {
    "duration": 0,
    "start_time": "2022-06-01T10:43:45.353Z"
   },
   {
    "duration": 0,
    "start_time": "2022-06-01T10:43:45.354Z"
   },
   {
    "duration": 6,
    "start_time": "2022-06-01T10:44:03.689Z"
   },
   {
    "duration": 11,
    "start_time": "2022-06-01T10:44:05.302Z"
   },
   {
    "duration": 11,
    "start_time": "2022-06-01T10:44:08.179Z"
   },
   {
    "duration": 13,
    "start_time": "2022-06-01T10:44:29.839Z"
   },
   {
    "duration": 10,
    "start_time": "2022-06-01T10:45:55.693Z"
   },
   {
    "duration": 16,
    "start_time": "2022-06-01T10:45:57.240Z"
   },
   {
    "duration": 6,
    "start_time": "2022-06-01T10:46:14.284Z"
   },
   {
    "duration": 4,
    "start_time": "2022-06-01T10:46:24.884Z"
   },
   {
    "duration": 14,
    "start_time": "2022-06-01T10:46:33.944Z"
   },
   {
    "duration": 4,
    "start_time": "2022-06-01T10:47:07.449Z"
   },
   {
    "duration": 11,
    "start_time": "2022-06-01T10:49:47.198Z"
   },
   {
    "duration": 16,
    "start_time": "2022-06-01T10:49:49.739Z"
   },
   {
    "duration": 299,
    "start_time": "2022-06-01T10:49:50.804Z"
   },
   {
    "duration": 552,
    "start_time": "2022-06-01T10:49:53.092Z"
   },
   {
    "duration": 13,
    "start_time": "2022-06-01T10:49:58.300Z"
   },
   {
    "duration": 14,
    "start_time": "2022-06-01T10:50:00.679Z"
   },
   {
    "duration": 15,
    "start_time": "2022-06-01T10:50:03.424Z"
   },
   {
    "duration": 6,
    "start_time": "2022-06-01T10:50:05.772Z"
   },
   {
    "duration": 217,
    "start_time": "2022-06-01T10:53:10.467Z"
   },
   {
    "duration": 220,
    "start_time": "2022-06-01T10:55:52.673Z"
   },
   {
    "duration": 230,
    "start_time": "2022-06-01T10:55:58.512Z"
   },
   {
    "duration": 251,
    "start_time": "2022-06-01T10:56:03.494Z"
   },
   {
    "duration": 217,
    "start_time": "2022-06-01T10:58:41.078Z"
   },
   {
    "duration": 216,
    "start_time": "2022-06-01T10:59:10.473Z"
   },
   {
    "duration": 263,
    "start_time": "2022-06-01T11:00:11.302Z"
   },
   {
    "duration": 336,
    "start_time": "2022-06-01T11:00:25.826Z"
   },
   {
    "duration": 427,
    "start_time": "2022-06-01T11:01:58.112Z"
   },
   {
    "duration": 325,
    "start_time": "2022-06-01T11:02:47.494Z"
   },
   {
    "duration": 316,
    "start_time": "2022-06-01T11:02:58.489Z"
   },
   {
    "duration": 427,
    "start_time": "2022-06-01T11:03:33.324Z"
   },
   {
    "duration": 237,
    "start_time": "2022-06-01T11:03:47.240Z"
   },
   {
    "duration": 230,
    "start_time": "2022-06-01T11:03:57.085Z"
   },
   {
    "duration": 6,
    "start_time": "2022-06-01T11:04:18.745Z"
   },
   {
    "duration": 246,
    "start_time": "2022-06-01T11:04:38.323Z"
   },
   {
    "duration": 218,
    "start_time": "2022-06-01T11:04:47.201Z"
   },
   {
    "duration": 206,
    "start_time": "2022-06-01T11:05:07.134Z"
   },
   {
    "duration": 225,
    "start_time": "2022-06-01T11:06:17.519Z"
   },
   {
    "duration": 215,
    "start_time": "2022-06-01T11:06:50.878Z"
   },
   {
    "duration": 339,
    "start_time": "2022-06-01T11:07:21.611Z"
   },
   {
    "duration": 364,
    "start_time": "2022-06-01T11:07:32.114Z"
   },
   {
    "duration": 324,
    "start_time": "2022-06-01T11:07:46.176Z"
   },
   {
    "duration": 363,
    "start_time": "2022-06-01T11:08:30.082Z"
   },
   {
    "duration": 260,
    "start_time": "2022-06-01T11:09:10.871Z"
   },
   {
    "duration": 15,
    "start_time": "2022-06-01T11:09:32.621Z"
   },
   {
    "duration": 151,
    "start_time": "2022-06-01T11:11:08.496Z"
   },
   {
    "duration": 160,
    "start_time": "2022-06-01T11:11:18.520Z"
   },
   {
    "duration": 152,
    "start_time": "2022-06-01T11:11:29.802Z"
   },
   {
    "duration": 171,
    "start_time": "2022-06-01T11:11:35.990Z"
   },
   {
    "duration": 174,
    "start_time": "2022-06-01T11:12:23.184Z"
   },
   {
    "duration": 145,
    "start_time": "2022-06-01T11:12:40.659Z"
   },
   {
    "duration": 156,
    "start_time": "2022-06-01T11:12:45.642Z"
   },
   {
    "duration": 181,
    "start_time": "2022-06-01T11:12:50.167Z"
   },
   {
    "duration": 9,
    "start_time": "2022-06-01T11:12:58.235Z"
   },
   {
    "duration": 16,
    "start_time": "2022-06-01T11:14:46.531Z"
   },
   {
    "duration": 144,
    "start_time": "2022-06-01T11:14:50.634Z"
   },
   {
    "duration": 236,
    "start_time": "2022-06-01T11:14:54.896Z"
   },
   {
    "duration": 182,
    "start_time": "2022-06-01T11:14:58.945Z"
   },
   {
    "duration": 10,
    "start_time": "2022-06-01T11:15:03.453Z"
   },
   {
    "duration": 33,
    "start_time": "2022-06-01T11:15:08.839Z"
   },
   {
    "duration": 16,
    "start_time": "2022-06-01T11:15:11.674Z"
   },
   {
    "duration": 10,
    "start_time": "2022-06-01T11:15:23.739Z"
   },
   {
    "duration": 200,
    "start_time": "2022-06-01T11:25:40.352Z"
   },
   {
    "duration": 227,
    "start_time": "2022-06-01T11:26:25.625Z"
   },
   {
    "duration": 35,
    "start_time": "2022-06-01T11:40:21.139Z"
   },
   {
    "duration": 155,
    "start_time": "2022-06-01T11:40:28.345Z"
   },
   {
    "duration": 51,
    "start_time": "2022-06-01T11:41:58.647Z"
   },
   {
    "duration": 12,
    "start_time": "2022-06-01T11:46:57.461Z"
   },
   {
    "duration": 49,
    "start_time": "2022-06-01T11:52:44.813Z"
   },
   {
    "duration": 335,
    "start_time": "2022-06-01T11:56:30.383Z"
   },
   {
    "duration": 242,
    "start_time": "2022-06-01T11:56:50.206Z"
   },
   {
    "duration": 10,
    "start_time": "2022-06-01T11:58:25.764Z"
   },
   {
    "duration": 12,
    "start_time": "2022-06-01T11:58:40.633Z"
   },
   {
    "duration": 58,
    "start_time": "2022-06-01T13:09:33.954Z"
   },
   {
    "duration": 7,
    "start_time": "2022-06-01T13:09:35.907Z"
   },
   {
    "duration": 8,
    "start_time": "2022-06-01T13:09:42.427Z"
   },
   {
    "duration": 1350,
    "start_time": "2022-06-01T13:09:49.143Z"
   },
   {
    "duration": 202,
    "start_time": "2022-06-01T13:09:50.495Z"
   },
   {
    "duration": 13,
    "start_time": "2022-06-01T13:09:50.699Z"
   },
   {
    "duration": 17,
    "start_time": "2022-06-01T13:09:50.713Z"
   },
   {
    "duration": 19,
    "start_time": "2022-06-01T13:09:50.733Z"
   },
   {
    "duration": 12,
    "start_time": "2022-06-01T13:09:50.753Z"
   },
   {
    "duration": 16,
    "start_time": "2022-06-01T13:09:50.767Z"
   },
   {
    "duration": 17,
    "start_time": "2022-06-01T13:09:50.785Z"
   },
   {
    "duration": 11,
    "start_time": "2022-06-01T13:09:50.803Z"
   },
   {
    "duration": 18,
    "start_time": "2022-06-01T13:09:50.815Z"
   },
   {
    "duration": 20,
    "start_time": "2022-06-01T13:09:50.837Z"
   },
   {
    "duration": 11,
    "start_time": "2022-06-01T13:09:50.860Z"
   },
   {
    "duration": 10,
    "start_time": "2022-06-01T13:09:50.873Z"
   },
   {
    "duration": 14,
    "start_time": "2022-06-01T13:09:50.886Z"
   },
   {
    "duration": 16,
    "start_time": "2022-06-01T13:09:50.901Z"
   },
   {
    "duration": 27,
    "start_time": "2022-06-01T13:09:50.919Z"
   },
   {
    "duration": 8,
    "start_time": "2022-06-01T13:09:50.948Z"
   },
   {
    "duration": 5,
    "start_time": "2022-06-01T13:09:50.958Z"
   },
   {
    "duration": 20,
    "start_time": "2022-06-01T13:09:50.964Z"
   },
   {
    "duration": 11,
    "start_time": "2022-06-01T13:09:50.986Z"
   },
   {
    "duration": 349,
    "start_time": "2022-06-01T13:09:50.999Z"
   },
   {
    "duration": 513,
    "start_time": "2022-06-01T13:09:51.350Z"
   },
   {
    "duration": 210,
    "start_time": "2022-06-01T13:09:51.864Z"
   },
   {
    "duration": 337,
    "start_time": "2022-06-01T13:09:52.075Z"
   },
   {
    "duration": 242,
    "start_time": "2022-06-01T13:09:52.415Z"
   },
   {
    "duration": 333,
    "start_time": "2022-06-01T13:09:52.660Z"
   },
   {
    "duration": 154,
    "start_time": "2022-06-01T13:09:52.995Z"
   },
   {
    "duration": 4,
    "start_time": "2022-06-01T13:09:53.151Z"
   },
   {
    "duration": 165,
    "start_time": "2022-06-01T13:09:53.157Z"
   },
   {
    "duration": 5,
    "start_time": "2022-06-01T13:09:53.327Z"
   },
   {
    "duration": 252,
    "start_time": "2022-06-01T13:09:53.334Z"
   },
   {
    "duration": 158,
    "start_time": "2022-06-01T13:09:53.588Z"
   },
   {
    "duration": 33,
    "start_time": "2022-06-01T13:09:53.748Z"
   },
   {
    "duration": 11,
    "start_time": "2022-06-01T13:09:53.783Z"
   },
   {
    "duration": 10,
    "start_time": "2022-06-01T13:09:53.795Z"
   },
   {
    "duration": 38,
    "start_time": "2022-06-01T13:09:53.827Z"
   },
   {
    "duration": 14,
    "start_time": "2022-06-01T13:09:53.867Z"
   },
   {
    "duration": 3,
    "start_time": "2022-06-01T13:10:04.218Z"
   },
   {
    "duration": 74,
    "start_time": "2022-06-01T13:10:06.090Z"
   },
   {
    "duration": 10,
    "start_time": "2022-06-01T13:10:07.541Z"
   },
   {
    "duration": 8,
    "start_time": "2022-06-01T13:10:28.804Z"
   },
   {
    "duration": 4,
    "start_time": "2022-06-01T13:10:34.145Z"
   },
   {
    "duration": 5,
    "start_time": "2022-06-01T13:10:38.820Z"
   },
   {
    "duration": 5,
    "start_time": "2022-06-01T13:10:42.496Z"
   },
   {
    "duration": 777,
    "start_time": "2022-06-01T13:10:45.460Z"
   },
   {
    "duration": 650,
    "start_time": "2022-06-01T13:10:50.773Z"
   },
   {
    "duration": 573,
    "start_time": "2022-06-01T13:11:09.902Z"
   },
   {
    "duration": 15,
    "start_time": "2022-06-01T13:11:16.955Z"
   },
   {
    "duration": 8,
    "start_time": "2022-06-01T13:11:20.571Z"
   },
   {
    "duration": 75,
    "start_time": "2022-06-01T13:11:22.580Z"
   },
   {
    "duration": 3,
    "start_time": "2022-06-01T13:11:26.081Z"
   },
   {
    "duration": 9,
    "start_time": "2022-06-01T13:11:28.946Z"
   },
   {
    "duration": 8,
    "start_time": "2022-06-01T13:11:32.441Z"
   },
   {
    "duration": 8,
    "start_time": "2022-06-01T13:11:35.217Z"
   },
   {
    "duration": 7,
    "start_time": "2022-06-01T13:11:37.146Z"
   },
   {
    "duration": 12,
    "start_time": "2022-06-01T13:11:41.320Z"
   },
   {
    "duration": 11,
    "start_time": "2022-06-01T13:12:00.026Z"
   },
   {
    "duration": 12,
    "start_time": "2022-06-01T13:12:08.697Z"
   },
   {
    "duration": 12,
    "start_time": "2022-06-01T13:12:19.839Z"
   },
   {
    "duration": 14,
    "start_time": "2022-06-01T13:12:32.220Z"
   },
   {
    "duration": 12,
    "start_time": "2022-06-01T13:12:35.632Z"
   },
   {
    "duration": 10,
    "start_time": "2022-06-01T13:12:38.992Z"
   },
   {
    "duration": 14,
    "start_time": "2022-06-01T13:12:42.614Z"
   },
   {
    "duration": 11,
    "start_time": "2022-06-01T13:12:44.685Z"
   },
   {
    "duration": 11,
    "start_time": "2022-06-01T13:12:49.354Z"
   },
   {
    "duration": 10,
    "start_time": "2022-06-01T13:12:53.025Z"
   },
   {
    "duration": 11,
    "start_time": "2022-06-01T13:12:57.295Z"
   },
   {
    "duration": 34,
    "start_time": "2022-06-01T13:15:16.200Z"
   },
   {
    "duration": 15,
    "start_time": "2022-06-01T13:24:18.409Z"
   },
   {
    "duration": 1279,
    "start_time": "2022-06-01T18:11:06.201Z"
   },
   {
    "duration": 184,
    "start_time": "2022-06-01T18:11:07.482Z"
   },
   {
    "duration": 15,
    "start_time": "2022-06-01T18:11:07.668Z"
   },
   {
    "duration": 11,
    "start_time": "2022-06-01T18:11:07.686Z"
   },
   {
    "duration": 6,
    "start_time": "2022-06-01T18:11:07.699Z"
   },
   {
    "duration": 10,
    "start_time": "2022-06-01T18:11:07.706Z"
   },
   {
    "duration": 11,
    "start_time": "2022-06-01T18:11:07.718Z"
   },
   {
    "duration": 9,
    "start_time": "2022-06-01T18:11:07.731Z"
   },
   {
    "duration": 13,
    "start_time": "2022-06-01T18:11:07.742Z"
   },
   {
    "duration": 6,
    "start_time": "2022-06-01T18:11:07.757Z"
   },
   {
    "duration": 5,
    "start_time": "2022-06-01T18:11:07.765Z"
   },
   {
    "duration": 12,
    "start_time": "2022-06-01T18:11:07.771Z"
   },
   {
    "duration": 12,
    "start_time": "2022-06-01T18:11:07.784Z"
   },
   {
    "duration": 10,
    "start_time": "2022-06-01T18:11:07.797Z"
   },
   {
    "duration": 13,
    "start_time": "2022-06-01T18:11:07.808Z"
   },
   {
    "duration": 8,
    "start_time": "2022-06-01T18:11:07.823Z"
   },
   {
    "duration": 21,
    "start_time": "2022-06-01T18:11:07.832Z"
   },
   {
    "duration": 5,
    "start_time": "2022-06-01T18:11:07.856Z"
   },
   {
    "duration": 15,
    "start_time": "2022-06-01T18:11:07.863Z"
   },
   {
    "duration": 10,
    "start_time": "2022-06-01T18:11:07.880Z"
   },
   {
    "duration": 281,
    "start_time": "2022-06-01T18:11:07.891Z"
   },
   {
    "duration": 359,
    "start_time": "2022-06-01T18:11:08.174Z"
   },
   {
    "duration": 176,
    "start_time": "2022-06-01T18:11:08.535Z"
   },
   {
    "duration": 343,
    "start_time": "2022-06-01T18:11:08.712Z"
   },
   {
    "duration": 224,
    "start_time": "2022-06-01T18:11:09.056Z"
   },
   {
    "duration": 318,
    "start_time": "2022-06-01T18:11:09.282Z"
   },
   {
    "duration": 149,
    "start_time": "2022-06-01T18:11:09.602Z"
   },
   {
    "duration": 4,
    "start_time": "2022-06-01T18:11:09.754Z"
   },
   {
    "duration": 136,
    "start_time": "2022-06-01T18:11:09.759Z"
   },
   {
    "duration": 5,
    "start_time": "2022-06-01T18:11:09.896Z"
   },
   {
    "duration": 222,
    "start_time": "2022-06-01T18:11:09.902Z"
   },
   {
    "duration": 153,
    "start_time": "2022-06-01T18:11:10.126Z"
   },
   {
    "duration": 33,
    "start_time": "2022-06-01T18:11:10.280Z"
   },
   {
    "duration": 14,
    "start_time": "2022-06-01T18:11:10.315Z"
   },
   {
    "duration": 28,
    "start_time": "2022-06-01T18:11:10.331Z"
   },
   {
    "duration": 33,
    "start_time": "2022-06-01T18:11:10.361Z"
   },
   {
    "duration": 12,
    "start_time": "2022-06-01T18:11:10.396Z"
   },
   {
    "duration": 244,
    "start_time": "2022-06-01T18:13:23.171Z"
   },
   {
    "duration": 10,
    "start_time": "2022-06-01T18:15:56.985Z"
   },
   {
    "duration": 32,
    "start_time": "2022-06-01T18:27:08.630Z"
   },
   {
    "duration": 29,
    "start_time": "2022-06-01T18:27:16.611Z"
   },
   {
    "duration": 262,
    "start_time": "2022-06-01T18:27:27.764Z"
   },
   {
    "duration": 262,
    "start_time": "2022-06-01T18:31:34.208Z"
   },
   {
    "duration": 244,
    "start_time": "2022-06-01T18:32:09.427Z"
   },
   {
    "duration": 130,
    "start_time": "2022-06-01T18:33:45.019Z"
   },
   {
    "duration": 24,
    "start_time": "2022-06-01T18:40:59.563Z"
   },
   {
    "duration": 20,
    "start_time": "2022-06-01T18:41:05.325Z"
   },
   {
    "duration": 173,
    "start_time": "2022-06-01T18:41:19.021Z"
   },
   {
    "duration": 10,
    "start_time": "2022-06-01T18:41:47.979Z"
   },
   {
    "duration": 141,
    "start_time": "2022-06-01T18:41:53.502Z"
   },
   {
    "duration": 11,
    "start_time": "2022-06-01T18:42:26.107Z"
   },
   {
    "duration": 11,
    "start_time": "2022-06-01T18:42:36.898Z"
   },
   {
    "duration": 10,
    "start_time": "2022-06-01T18:43:09.636Z"
   },
   {
    "duration": 232,
    "start_time": "2022-06-01T18:44:19.883Z"
   },
   {
    "duration": 26,
    "start_time": "2022-06-01T18:45:39.798Z"
   },
   {
    "duration": 296,
    "start_time": "2022-06-01T18:46:10.731Z"
   },
   {
    "duration": 129,
    "start_time": "2022-06-01T18:50:55.313Z"
   },
   {
    "duration": 10,
    "start_time": "2022-06-01T18:52:13.025Z"
   },
   {
    "duration": 272,
    "start_time": "2022-06-01T18:56:08.940Z"
   },
   {
    "duration": 1152,
    "start_time": "2022-06-02T07:43:29.244Z"
   },
   {
    "duration": 74,
    "start_time": "2022-06-02T07:43:30.398Z"
   },
   {
    "duration": 12,
    "start_time": "2022-06-02T07:43:30.474Z"
   },
   {
    "duration": 30,
    "start_time": "2022-06-02T07:43:30.488Z"
   },
   {
    "duration": 21,
    "start_time": "2022-06-02T07:43:30.522Z"
   },
   {
    "duration": 33,
    "start_time": "2022-06-02T07:43:30.545Z"
   },
   {
    "duration": 23,
    "start_time": "2022-06-02T07:43:30.581Z"
   },
   {
    "duration": 30,
    "start_time": "2022-06-02T07:43:30.606Z"
   },
   {
    "duration": 47,
    "start_time": "2022-06-02T07:43:30.638Z"
   },
   {
    "duration": 30,
    "start_time": "2022-06-02T07:43:30.688Z"
   },
   {
    "duration": 48,
    "start_time": "2022-06-02T07:43:30.720Z"
   },
   {
    "duration": 21,
    "start_time": "2022-06-02T07:43:30.770Z"
   },
   {
    "duration": 51,
    "start_time": "2022-06-02T07:43:30.793Z"
   },
   {
    "duration": 36,
    "start_time": "2022-06-02T07:43:30.849Z"
   },
   {
    "duration": 63,
    "start_time": "2022-06-02T07:43:30.887Z"
   },
   {
    "duration": 34,
    "start_time": "2022-06-02T07:43:30.952Z"
   },
   {
    "duration": 52,
    "start_time": "2022-06-02T07:43:30.988Z"
   },
   {
    "duration": 53,
    "start_time": "2022-06-02T07:43:31.042Z"
   },
   {
    "duration": 50,
    "start_time": "2022-06-02T07:43:31.097Z"
   },
   {
    "duration": 64,
    "start_time": "2022-06-02T07:43:31.150Z"
   },
   {
    "duration": 251,
    "start_time": "2022-06-02T07:43:31.216Z"
   },
   {
    "duration": 13,
    "start_time": "2022-06-02T07:43:31.468Z"
   },
   {
    "duration": 39,
    "start_time": "2022-06-02T07:43:31.483Z"
   },
   {
    "duration": 336,
    "start_time": "2022-06-02T07:43:31.524Z"
   },
   {
    "duration": 541,
    "start_time": "2022-06-02T07:43:31.862Z"
   },
   {
    "duration": 285,
    "start_time": "2022-06-02T07:43:32.405Z"
   },
   {
    "duration": 324,
    "start_time": "2022-06-02T07:43:32.692Z"
   },
   {
    "duration": 230,
    "start_time": "2022-06-02T07:43:33.018Z"
   },
   {
    "duration": 356,
    "start_time": "2022-06-02T07:43:33.250Z"
   },
   {
    "duration": 182,
    "start_time": "2022-06-02T07:43:33.607Z"
   },
   {
    "duration": 5,
    "start_time": "2022-06-02T07:43:33.792Z"
   },
   {
    "duration": 223,
    "start_time": "2022-06-02T07:43:33.799Z"
   },
   {
    "duration": 6,
    "start_time": "2022-06-02T07:43:34.024Z"
   },
   {
    "duration": 331,
    "start_time": "2022-06-02T07:43:34.043Z"
   },
   {
    "duration": 176,
    "start_time": "2022-06-02T07:43:34.377Z"
   },
   {
    "duration": 57,
    "start_time": "2022-06-02T07:43:34.555Z"
   },
   {
    "duration": 11,
    "start_time": "2022-06-02T07:43:34.615Z"
   },
   {
    "duration": 49,
    "start_time": "2022-06-02T07:43:34.645Z"
   },
   {
    "duration": 80,
    "start_time": "2022-06-02T07:43:34.696Z"
   },
   {
    "duration": 31,
    "start_time": "2022-06-02T07:43:34.778Z"
   },
   {
    "duration": 1228,
    "start_time": "2022-06-02T07:44:26.785Z"
   },
   {
    "duration": 76,
    "start_time": "2022-06-02T07:44:28.015Z"
   },
   {
    "duration": 12,
    "start_time": "2022-06-02T07:44:28.093Z"
   },
   {
    "duration": 39,
    "start_time": "2022-06-02T07:44:28.106Z"
   },
   {
    "duration": 20,
    "start_time": "2022-06-02T07:44:28.147Z"
   },
   {
    "duration": 24,
    "start_time": "2022-06-02T07:44:28.169Z"
   },
   {
    "duration": 19,
    "start_time": "2022-06-02T07:44:28.195Z"
   },
   {
    "duration": 22,
    "start_time": "2022-06-02T07:44:28.215Z"
   },
   {
    "duration": 9,
    "start_time": "2022-06-02T07:44:28.239Z"
   },
   {
    "duration": 12,
    "start_time": "2022-06-02T07:44:28.250Z"
   },
   {
    "duration": 24,
    "start_time": "2022-06-02T07:44:28.263Z"
   },
   {
    "duration": 16,
    "start_time": "2022-06-02T07:44:28.290Z"
   },
   {
    "duration": 32,
    "start_time": "2022-06-02T07:44:28.308Z"
   },
   {
    "duration": 30,
    "start_time": "2022-06-02T07:44:28.344Z"
   },
   {
    "duration": 17,
    "start_time": "2022-06-02T07:44:28.377Z"
   },
   {
    "duration": 23,
    "start_time": "2022-06-02T07:44:28.396Z"
   },
   {
    "duration": 19,
    "start_time": "2022-06-02T07:44:28.422Z"
   },
   {
    "duration": 23,
    "start_time": "2022-06-02T07:44:28.443Z"
   },
   {
    "duration": 29,
    "start_time": "2022-06-02T07:44:28.468Z"
   },
   {
    "duration": 12,
    "start_time": "2022-06-02T07:44:28.498Z"
   },
   {
    "duration": 202,
    "start_time": "2022-06-02T07:44:28.511Z"
   },
   {
    "duration": 11,
    "start_time": "2022-06-02T07:44:28.716Z"
   },
   {
    "duration": 29,
    "start_time": "2022-06-02T07:44:28.729Z"
   },
   {
    "duration": 312,
    "start_time": "2022-06-02T07:44:28.760Z"
   },
   {
    "duration": 409,
    "start_time": "2022-06-02T07:44:29.074Z"
   },
   {
    "duration": 208,
    "start_time": "2022-06-02T07:44:29.485Z"
   },
   {
    "duration": 323,
    "start_time": "2022-06-02T07:44:29.695Z"
   },
   {
    "duration": 266,
    "start_time": "2022-06-02T07:44:30.021Z"
   },
   {
    "duration": 323,
    "start_time": "2022-06-02T07:44:30.289Z"
   },
   {
    "duration": 154,
    "start_time": "2022-06-02T07:44:30.614Z"
   },
   {
    "duration": 5,
    "start_time": "2022-06-02T07:44:30.771Z"
   },
   {
    "duration": 170,
    "start_time": "2022-06-02T07:44:30.778Z"
   },
   {
    "duration": 5,
    "start_time": "2022-06-02T07:44:30.950Z"
   },
   {
    "duration": 258,
    "start_time": "2022-06-02T07:44:30.957Z"
   },
   {
    "duration": 156,
    "start_time": "2022-06-02T07:44:31.218Z"
   },
   {
    "duration": 54,
    "start_time": "2022-06-02T07:44:31.376Z"
   },
   {
    "duration": 22,
    "start_time": "2022-06-02T07:44:31.432Z"
   },
   {
    "duration": 35,
    "start_time": "2022-06-02T07:44:31.456Z"
   },
   {
    "duration": 64,
    "start_time": "2022-06-02T07:44:31.493Z"
   },
   {
    "duration": 14,
    "start_time": "2022-06-02T07:44:31.559Z"
   },
   {
    "duration": 1228,
    "start_time": "2022-06-02T11:23:40.963Z"
   },
   {
    "duration": 168,
    "start_time": "2022-06-02T11:23:42.193Z"
   },
   {
    "duration": 11,
    "start_time": "2022-06-02T11:23:42.363Z"
   },
   {
    "duration": 21,
    "start_time": "2022-06-02T11:23:42.376Z"
   },
   {
    "duration": 5,
    "start_time": "2022-06-02T11:23:42.400Z"
   },
   {
    "duration": 11,
    "start_time": "2022-06-02T11:23:42.407Z"
   },
   {
    "duration": 14,
    "start_time": "2022-06-02T11:23:42.420Z"
   },
   {
    "duration": 8,
    "start_time": "2022-06-02T11:23:42.436Z"
   },
   {
    "duration": 6,
    "start_time": "2022-06-02T11:23:42.446Z"
   },
   {
    "duration": 10,
    "start_time": "2022-06-02T11:23:42.454Z"
   },
   {
    "duration": 8,
    "start_time": "2022-06-02T11:23:42.466Z"
   },
   {
    "duration": 9,
    "start_time": "2022-06-02T11:23:42.475Z"
   },
   {
    "duration": 9,
    "start_time": "2022-06-02T11:23:42.486Z"
   },
   {
    "duration": 17,
    "start_time": "2022-06-02T11:23:42.498Z"
   },
   {
    "duration": 12,
    "start_time": "2022-06-02T11:23:42.516Z"
   },
   {
    "duration": 12,
    "start_time": "2022-06-02T11:23:42.529Z"
   },
   {
    "duration": 10,
    "start_time": "2022-06-02T11:23:42.542Z"
   },
   {
    "duration": 14,
    "start_time": "2022-06-02T11:23:42.553Z"
   },
   {
    "duration": 31,
    "start_time": "2022-06-02T11:23:42.569Z"
   },
   {
    "duration": 16,
    "start_time": "2022-06-02T11:23:42.601Z"
   },
   {
    "duration": 172,
    "start_time": "2022-06-02T11:23:42.619Z"
   },
   {
    "duration": 10,
    "start_time": "2022-06-02T11:23:42.793Z"
   },
   {
    "duration": 11,
    "start_time": "2022-06-02T11:23:42.805Z"
   },
   {
    "duration": 287,
    "start_time": "2022-06-02T11:23:42.818Z"
   },
   {
    "duration": 364,
    "start_time": "2022-06-02T11:23:43.107Z"
   },
   {
    "duration": 185,
    "start_time": "2022-06-02T11:23:43.472Z"
   },
   {
    "duration": 330,
    "start_time": "2022-06-02T11:23:43.659Z"
   },
   {
    "duration": 218,
    "start_time": "2022-06-02T11:23:43.991Z"
   },
   {
    "duration": 311,
    "start_time": "2022-06-02T11:23:44.210Z"
   },
   {
    "duration": 132,
    "start_time": "2022-06-02T11:23:44.523Z"
   },
   {
    "duration": 4,
    "start_time": "2022-06-02T11:23:44.657Z"
   },
   {
    "duration": 154,
    "start_time": "2022-06-02T11:23:44.663Z"
   },
   {
    "duration": 4,
    "start_time": "2022-06-02T11:23:44.819Z"
   },
   {
    "duration": 234,
    "start_time": "2022-06-02T11:23:44.825Z"
   },
   {
    "duration": 137,
    "start_time": "2022-06-02T11:23:45.061Z"
   },
   {
    "duration": 34,
    "start_time": "2022-06-02T11:23:45.200Z"
   },
   {
    "duration": 26,
    "start_time": "2022-06-02T11:23:45.236Z"
   },
   {
    "duration": 25,
    "start_time": "2022-06-02T11:23:45.266Z"
   },
   {
    "duration": 49,
    "start_time": "2022-06-02T11:23:45.293Z"
   },
   {
    "duration": 18,
    "start_time": "2022-06-02T11:23:45.344Z"
   },
   {
    "duration": 79,
    "start_time": "2022-06-02T11:24:56.538Z"
   },
   {
    "duration": 35,
    "start_time": "2022-06-02T11:25:44.043Z"
   },
   {
    "duration": 23,
    "start_time": "2022-06-02T11:25:53.270Z"
   },
   {
    "duration": 39,
    "start_time": "2022-06-02T11:26:00.871Z"
   },
   {
    "duration": 151,
    "start_time": "2022-06-02T11:26:23.555Z"
   },
   {
    "duration": 139,
    "start_time": "2022-06-02T11:26:24.476Z"
   },
   {
    "duration": 56,
    "start_time": "2022-06-02T11:27:01.874Z"
   },
   {
    "duration": 147,
    "start_time": "2022-06-02T11:27:06.183Z"
   },
   {
    "duration": 136,
    "start_time": "2022-06-02T11:28:08.040Z"
   },
   {
    "duration": 128,
    "start_time": "2022-06-02T11:29:59.879Z"
   },
   {
    "duration": 149,
    "start_time": "2022-06-02T11:30:10.708Z"
   },
   {
    "duration": 5,
    "start_time": "2022-06-02T11:30:48.309Z"
   },
   {
    "duration": 100,
    "start_time": "2022-06-02T11:30:58.635Z"
   },
   {
    "duration": 8,
    "start_time": "2022-06-02T11:31:06.702Z"
   },
   {
    "duration": 4,
    "start_time": "2022-06-02T11:31:16.792Z"
   },
   {
    "duration": 4,
    "start_time": "2022-06-02T11:34:16.893Z"
   },
   {
    "duration": 15,
    "start_time": "2022-06-02T11:34:28.179Z"
   },
   {
    "duration": 5,
    "start_time": "2022-06-02T11:34:33.179Z"
   },
   {
    "duration": 46,
    "start_time": "2022-06-02T11:35:50.150Z"
   },
   {
    "duration": 143,
    "start_time": "2022-06-02T11:36:04.576Z"
   },
   {
    "duration": 131,
    "start_time": "2022-06-02T11:36:57.370Z"
   },
   {
    "duration": 127,
    "start_time": "2022-06-02T11:37:01.609Z"
   },
   {
    "duration": 129,
    "start_time": "2022-06-02T11:37:06.705Z"
   },
   {
    "duration": 145,
    "start_time": "2022-06-02T11:37:24.673Z"
   },
   {
    "duration": 128,
    "start_time": "2022-06-02T11:37:38.904Z"
   },
   {
    "duration": 142,
    "start_time": "2022-06-02T11:37:42.601Z"
   },
   {
    "duration": 143,
    "start_time": "2022-06-02T11:37:49.698Z"
   },
   {
    "duration": 153,
    "start_time": "2022-06-02T11:37:54.840Z"
   },
   {
    "duration": 132,
    "start_time": "2022-06-02T11:37:58.863Z"
   },
   {
    "duration": 10,
    "start_time": "2022-06-02T11:41:20.187Z"
   },
   {
    "duration": 8,
    "start_time": "2022-06-02T11:41:24.627Z"
   },
   {
    "duration": 9,
    "start_time": "2022-06-02T11:44:29.287Z"
   },
   {
    "duration": 11,
    "start_time": "2022-06-02T11:44:34.678Z"
   },
   {
    "duration": 133,
    "start_time": "2022-06-02T11:45:37.281Z"
   },
   {
    "duration": 22,
    "start_time": "2022-06-02T11:46:43.828Z"
   },
   {
    "duration": 77,
    "start_time": "2022-06-02T11:46:54.428Z"
   },
   {
    "duration": 140,
    "start_time": "2022-06-02T11:47:24.972Z"
   },
   {
    "duration": 158,
    "start_time": "2022-06-02T11:47:53.595Z"
   },
   {
    "duration": 135,
    "start_time": "2022-06-02T11:48:11.146Z"
   },
   {
    "duration": 144,
    "start_time": "2022-06-02T11:48:30.226Z"
   },
   {
    "duration": 130,
    "start_time": "2022-06-02T11:50:06.486Z"
   },
   {
    "duration": 131,
    "start_time": "2022-06-02T11:50:28.996Z"
   },
   {
    "duration": 118,
    "start_time": "2022-06-02T11:51:12.084Z"
   },
   {
    "duration": 144,
    "start_time": "2022-06-02T11:51:16.380Z"
   },
   {
    "duration": 134,
    "start_time": "2022-06-02T11:51:27.125Z"
   },
   {
    "duration": 141,
    "start_time": "2022-06-02T11:51:48.099Z"
   },
   {
    "duration": 145,
    "start_time": "2022-06-02T11:52:02.629Z"
   },
   {
    "duration": 140,
    "start_time": "2022-06-02T11:52:15.636Z"
   },
   {
    "duration": 133,
    "start_time": "2022-06-02T11:52:56.419Z"
   },
   {
    "duration": 130,
    "start_time": "2022-06-02T11:54:59.791Z"
   },
   {
    "duration": 138,
    "start_time": "2022-06-02T11:55:39.086Z"
   },
   {
    "duration": 135,
    "start_time": "2022-06-02T11:56:07.997Z"
   },
   {
    "duration": 132,
    "start_time": "2022-06-02T12:11:18.777Z"
   },
   {
    "duration": 1071,
    "start_time": "2022-06-02T22:54:11.452Z"
   },
   {
    "duration": 68,
    "start_time": "2022-06-02T22:54:12.525Z"
   },
   {
    "duration": 10,
    "start_time": "2022-06-02T22:54:12.594Z"
   },
   {
    "duration": 10,
    "start_time": "2022-06-02T22:54:12.605Z"
   },
   {
    "duration": 22,
    "start_time": "2022-06-02T22:54:12.617Z"
   },
   {
    "duration": 12,
    "start_time": "2022-06-02T22:54:12.641Z"
   },
   {
    "duration": 16,
    "start_time": "2022-06-02T22:54:12.654Z"
   },
   {
    "duration": 7,
    "start_time": "2022-06-02T22:54:12.672Z"
   },
   {
    "duration": 10,
    "start_time": "2022-06-02T22:54:12.680Z"
   },
   {
    "duration": 8,
    "start_time": "2022-06-02T22:54:12.693Z"
   },
   {
    "duration": 7,
    "start_time": "2022-06-02T22:54:12.703Z"
   },
   {
    "duration": 6,
    "start_time": "2022-06-02T22:54:12.711Z"
   },
   {
    "duration": 13,
    "start_time": "2022-06-02T22:54:12.718Z"
   },
   {
    "duration": 9,
    "start_time": "2022-06-02T22:54:12.732Z"
   },
   {
    "duration": 11,
    "start_time": "2022-06-02T22:54:12.743Z"
   },
   {
    "duration": 4,
    "start_time": "2022-06-02T22:54:12.756Z"
   },
   {
    "duration": 5,
    "start_time": "2022-06-02T22:54:12.762Z"
   },
   {
    "duration": 9,
    "start_time": "2022-06-02T22:54:12.768Z"
   },
   {
    "duration": 13,
    "start_time": "2022-06-02T22:54:12.800Z"
   },
   {
    "duration": 10,
    "start_time": "2022-06-02T22:54:12.814Z"
   },
   {
    "duration": 152,
    "start_time": "2022-06-02T22:54:12.826Z"
   },
   {
    "duration": 288,
    "start_time": "2022-06-02T22:54:12.979Z"
   },
   {
    "duration": 386,
    "start_time": "2022-06-02T22:54:13.269Z"
   },
   {
    "duration": 190,
    "start_time": "2022-06-02T22:54:13.656Z"
   },
   {
    "duration": 264,
    "start_time": "2022-06-02T22:54:13.847Z"
   },
   {
    "duration": 199,
    "start_time": "2022-06-02T22:54:14.112Z"
   },
   {
    "duration": 306,
    "start_time": "2022-06-02T22:54:14.313Z"
   },
   {
    "duration": 125,
    "start_time": "2022-06-02T22:54:14.622Z"
   },
   {
    "duration": 4,
    "start_time": "2022-06-02T22:54:14.749Z"
   },
   {
    "duration": 139,
    "start_time": "2022-06-02T22:54:14.754Z"
   },
   {
    "duration": 4,
    "start_time": "2022-06-02T22:54:14.898Z"
   },
   {
    "duration": 230,
    "start_time": "2022-06-02T22:54:14.904Z"
   },
   {
    "duration": 137,
    "start_time": "2022-06-02T22:54:15.135Z"
   },
   {
    "duration": 41,
    "start_time": "2022-06-02T22:54:15.273Z"
   },
   {
    "duration": 9,
    "start_time": "2022-06-02T22:54:15.316Z"
   },
   {
    "duration": 9,
    "start_time": "2022-06-02T22:54:15.326Z"
   },
   {
    "duration": 34,
    "start_time": "2022-06-02T22:54:15.336Z"
   },
   {
    "duration": 29,
    "start_time": "2022-06-02T22:54:15.371Z"
   },
   {
    "duration": 1122,
    "start_time": "2022-06-02T23:03:34.194Z"
   },
   {
    "duration": 73,
    "start_time": "2022-06-02T23:03:35.317Z"
   },
   {
    "duration": 12,
    "start_time": "2022-06-02T23:03:35.392Z"
   },
   {
    "duration": 11,
    "start_time": "2022-06-02T23:03:35.405Z"
   },
   {
    "duration": 8,
    "start_time": "2022-06-02T23:03:35.418Z"
   },
   {
    "duration": 11,
    "start_time": "2022-06-02T23:03:35.428Z"
   },
   {
    "duration": 11,
    "start_time": "2022-06-02T23:03:35.441Z"
   },
   {
    "duration": 17,
    "start_time": "2022-06-02T23:03:35.455Z"
   },
   {
    "duration": 8,
    "start_time": "2022-06-02T23:03:35.474Z"
   },
   {
    "duration": 28,
    "start_time": "2022-06-02T23:03:35.484Z"
   },
   {
    "duration": 6,
    "start_time": "2022-06-02T23:03:35.514Z"
   },
   {
    "duration": 10,
    "start_time": "2022-06-02T23:03:35.522Z"
   },
   {
    "duration": 7,
    "start_time": "2022-06-02T23:03:35.533Z"
   },
   {
    "duration": 8,
    "start_time": "2022-06-02T23:03:35.544Z"
   },
   {
    "duration": 11,
    "start_time": "2022-06-02T23:03:35.554Z"
   },
   {
    "duration": 7,
    "start_time": "2022-06-02T23:03:35.567Z"
   },
   {
    "duration": 7,
    "start_time": "2022-06-02T23:03:35.575Z"
   },
   {
    "duration": 16,
    "start_time": "2022-06-02T23:03:35.583Z"
   },
   {
    "duration": 13,
    "start_time": "2022-06-02T23:03:35.601Z"
   },
   {
    "duration": 13,
    "start_time": "2022-06-02T23:03:35.615Z"
   },
   {
    "duration": 153,
    "start_time": "2022-06-02T23:03:35.629Z"
   },
   {
    "duration": 271,
    "start_time": "2022-06-02T23:03:35.783Z"
   },
   {
    "duration": 365,
    "start_time": "2022-06-02T23:03:36.056Z"
   },
   {
    "duration": 190,
    "start_time": "2022-06-02T23:03:36.423Z"
   },
   {
    "duration": 287,
    "start_time": "2022-06-02T23:03:36.614Z"
   },
   {
    "duration": 211,
    "start_time": "2022-06-02T23:03:36.902Z"
   },
   {
    "duration": 317,
    "start_time": "2022-06-02T23:03:37.115Z"
   },
   {
    "duration": 138,
    "start_time": "2022-06-02T23:03:37.433Z"
   },
   {
    "duration": 4,
    "start_time": "2022-06-02T23:03:37.573Z"
   },
   {
    "duration": 144,
    "start_time": "2022-06-02T23:03:37.578Z"
   },
   {
    "duration": 4,
    "start_time": "2022-06-02T23:03:37.723Z"
   },
   {
    "duration": 210,
    "start_time": "2022-06-02T23:03:37.729Z"
   },
   {
    "duration": 138,
    "start_time": "2022-06-02T23:03:37.941Z"
   },
   {
    "duration": 39,
    "start_time": "2022-06-02T23:03:38.080Z"
   },
   {
    "duration": 10,
    "start_time": "2022-06-02T23:03:38.120Z"
   },
   {
    "duration": 10,
    "start_time": "2022-06-02T23:03:38.132Z"
   },
   {
    "duration": 36,
    "start_time": "2022-06-02T23:03:38.143Z"
   },
   {
    "duration": 29,
    "start_time": "2022-06-02T23:03:38.180Z"
   },
   {
    "duration": 1039,
    "start_time": "2022-06-02T23:04:27.196Z"
   },
   {
    "duration": 71,
    "start_time": "2022-06-02T23:04:28.236Z"
   },
   {
    "duration": 10,
    "start_time": "2022-06-02T23:04:28.309Z"
   },
   {
    "duration": 11,
    "start_time": "2022-06-02T23:04:28.321Z"
   },
   {
    "duration": 7,
    "start_time": "2022-06-02T23:04:28.333Z"
   },
   {
    "duration": 15,
    "start_time": "2022-06-02T23:04:28.341Z"
   },
   {
    "duration": 16,
    "start_time": "2022-06-02T23:04:28.358Z"
   },
   {
    "duration": 15,
    "start_time": "2022-06-02T23:04:28.375Z"
   },
   {
    "duration": 7,
    "start_time": "2022-06-02T23:04:28.391Z"
   },
   {
    "duration": 7,
    "start_time": "2022-06-02T23:04:28.401Z"
   },
   {
    "duration": 8,
    "start_time": "2022-06-02T23:04:28.409Z"
   },
   {
    "duration": 6,
    "start_time": "2022-06-02T23:04:28.418Z"
   },
   {
    "duration": 11,
    "start_time": "2022-06-02T23:04:28.426Z"
   },
   {
    "duration": 10,
    "start_time": "2022-06-02T23:04:28.438Z"
   },
   {
    "duration": 11,
    "start_time": "2022-06-02T23:04:28.449Z"
   },
   {
    "duration": 6,
    "start_time": "2022-06-02T23:04:28.462Z"
   },
   {
    "duration": 5,
    "start_time": "2022-06-02T23:04:28.469Z"
   },
   {
    "duration": 23,
    "start_time": "2022-06-02T23:04:28.476Z"
   },
   {
    "duration": 13,
    "start_time": "2022-06-02T23:04:28.500Z"
   },
   {
    "duration": 11,
    "start_time": "2022-06-02T23:04:28.514Z"
   },
   {
    "duration": 163,
    "start_time": "2022-06-02T23:04:28.527Z"
   },
   {
    "duration": 260,
    "start_time": "2022-06-02T23:04:28.700Z"
   },
   {
    "duration": 354,
    "start_time": "2022-06-02T23:04:28.962Z"
   },
   {
    "duration": 178,
    "start_time": "2022-06-02T23:04:29.317Z"
   },
   {
    "duration": 287,
    "start_time": "2022-06-02T23:04:29.497Z"
   },
   {
    "duration": 199,
    "start_time": "2022-06-02T23:04:29.786Z"
   },
   {
    "duration": 327,
    "start_time": "2022-06-02T23:04:29.999Z"
   },
   {
    "duration": 131,
    "start_time": "2022-06-02T23:04:30.329Z"
   },
   {
    "duration": 4,
    "start_time": "2022-06-02T23:04:30.462Z"
   },
   {
    "duration": 156,
    "start_time": "2022-06-02T23:04:30.467Z"
   },
   {
    "duration": 5,
    "start_time": "2022-06-02T23:04:30.624Z"
   },
   {
    "duration": 217,
    "start_time": "2022-06-02T23:04:30.630Z"
   },
   {
    "duration": 118,
    "start_time": "2022-06-02T23:04:30.849Z"
   },
   {
    "duration": 34,
    "start_time": "2022-06-02T23:04:30.969Z"
   },
   {
    "duration": 28,
    "start_time": "2022-06-02T23:04:31.005Z"
   },
   {
    "duration": 14,
    "start_time": "2022-06-02T23:04:31.034Z"
   },
   {
    "duration": 43,
    "start_time": "2022-06-02T23:04:31.049Z"
   },
   {
    "duration": 12,
    "start_time": "2022-06-02T23:04:31.094Z"
   }
  ],
  "kernelspec": {
   "display_name": "Python 3 (ipykernel)",
   "language": "python",
   "name": "python3"
  },
  "language_info": {
   "codemirror_mode": {
    "name": "ipython",
    "version": 3
   },
   "file_extension": ".py",
   "mimetype": "text/x-python",
   "name": "python",
   "nbconvert_exporter": "python",
   "pygments_lexer": "ipython3",
   "version": "3.9.7"
  },
  "toc": {
   "base_numbering": 1,
   "nav_menu": {},
   "number_sections": true,
   "sideBar": true,
   "skip_h1_title": true,
   "title_cell": "Table of Contents",
   "title_sidebar": "Contents",
   "toc_cell": false,
   "toc_position": {},
   "toc_section_display": true,
   "toc_window_display": false
  }
 },
 "nbformat": 4,
 "nbformat_minor": 2
}

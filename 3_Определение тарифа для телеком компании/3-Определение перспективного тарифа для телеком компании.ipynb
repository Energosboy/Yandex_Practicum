{
 "cells": [
  {
   "cell_type": "markdown",
   "id": "c7061dc2",
   "metadata": {},
   "source": [
    "# Определение перспективного тарифа для телеком компании\n",
    "## Цель: Определить выгодный тарифный план для корректировки рекламного бюджета.\n",
    "\n",
    "Необходимо провести предварительный анализ тарифов на небольшой выборке клиентов. Нужно проанализировать поведение клиентов и сделать вывод — какой тариф лучше.\n",
    "\n",
    "Выборка. Данные 500 пользователей тарифных планов «Смарт» и «Ультра»: кто они, откуда, каким тарифом пользуются, сколько звонков и сообщений каждый отправил за 2018 год.\n",
    "\n",
    "Примечание: «Мегалайн» всегда округляет секунды до минут, а мегабайты — до гигабайт:\n",
    "\n",
    "Каждый звонок округляется отдельно: даже если он длился всего 1 секунду, будет засчитан как 1 минута.\n",
    "Для веб-трафика отдельные сессии не считаются. Вместо этого общая сумма за месяц округляется в бо́льшую сторону. Если абонент использует 1025 мегабайт в этом месяце, с него возьмут плату за 2 гигабайта.\n",
    "## Описание тарифов\n",
    "### Тариф «Смарт»\n",
    "- Ежемесячная плата: 550 рублей\n",
    "- Включено 500 минут разговора, 50 сообщений и 15 Гб интернет-трафика\n",
    "- Стоимость услуг сверх тарифного пакета:\n",
    "- минута разговора: 3 рубля\n",
    "- сообщение: 3 рубля\n",
    "- 1 Гб интернет-трафика: 200 рублей\n",
    "### Тариф «Ультра»\n",
    "- Ежемесячная плата: 1950 рублей\n",
    "- Включено 3000 минут разговора, 1000 сообщений и 30 Гб интернет-трафика\n",
    "- Стоимость услуг сверх тарифного пакета:\n",
    "- минута разговора: 1 рубль\n",
    "- сообщение: 1 рубль\n",
    "- 1 Гб интернет-трафика: 150 рублей"
   ]
  },
  {
   "cell_type": "markdown",
   "id": "2d8cfaf7",
   "metadata": {},
   "source": [
    "## **Изучение данных из файла**"
   ]
  },
  {
   "cell_type": "markdown",
   "id": "68c3bb8c",
   "metadata": {},
   "source": [
    "Открытие файла с данными и изучение общей информации"
   ]
  },
  {
   "cell_type": "code",
   "execution_count": 1,
   "id": "41f17369",
   "metadata": {},
   "outputs": [],
   "source": [
    "# Необходимые библиотеки для исследования \n",
    "\n",
    "import pandas as pd\n",
    "import matplotlib.pyplot as plt\n",
    "import numpy as np    \n",
    "from scipy import stats as st\n",
    "import seaborn as sns\n",
    "from IPython.display import display"
   ]
  },
  {
   "cell_type": "markdown",
   "id": "3bcb74b2",
   "metadata": {},
   "source": [
    "## **Обзор данных**"
   ]
  },
  {
   "cell_type": "code",
   "execution_count": 2,
   "id": "7d2f3e6b",
   "metadata": {},
   "outputs": [],
   "source": [
    "# Загрузка файлов\n",
    "\n",
    "df_calls = pd.read_csv('/datasets/calls.csv')\n",
    "df_internet = pd.read_csv('/datasets/internet.csv')\n",
    "df_messages = pd.read_csv('/datasets/messages.csv')\n",
    "df_tariffs = pd.read_csv('/datasets/tariffs.csv')\n",
    "df_users = pd.read_csv('/datasets/users.csv')"
   ]
  },
  {
   "cell_type": "code",
   "execution_count": 3,
   "id": "8ab75263",
   "metadata": {},
   "outputs": [
    {
     "data": {
      "text/html": [
       "<div>\n",
       "<style scoped>\n",
       "    .dataframe tbody tr th:only-of-type {\n",
       "        vertical-align: middle;\n",
       "    }\n",
       "\n",
       "    .dataframe tbody tr th {\n",
       "        vertical-align: top;\n",
       "    }\n",
       "\n",
       "    .dataframe thead th {\n",
       "        text-align: right;\n",
       "    }\n",
       "</style>\n",
       "<table border=\"1\" class=\"dataframe\">\n",
       "  <thead>\n",
       "    <tr style=\"text-align: right;\">\n",
       "      <th></th>\n",
       "      <th>id</th>\n",
       "      <th>call_date</th>\n",
       "      <th>duration</th>\n",
       "      <th>user_id</th>\n",
       "    </tr>\n",
       "  </thead>\n",
       "  <tbody>\n",
       "    <tr>\n",
       "      <th>0</th>\n",
       "      <td>1000_0</td>\n",
       "      <td>2018-07-25</td>\n",
       "      <td>0.00</td>\n",
       "      <td>1000</td>\n",
       "    </tr>\n",
       "    <tr>\n",
       "      <th>1</th>\n",
       "      <td>1000_1</td>\n",
       "      <td>2018-08-17</td>\n",
       "      <td>0.00</td>\n",
       "      <td>1000</td>\n",
       "    </tr>\n",
       "    <tr>\n",
       "      <th>2</th>\n",
       "      <td>1000_2</td>\n",
       "      <td>2018-06-11</td>\n",
       "      <td>2.85</td>\n",
       "      <td>1000</td>\n",
       "    </tr>\n",
       "    <tr>\n",
       "      <th>3</th>\n",
       "      <td>1000_3</td>\n",
       "      <td>2018-09-21</td>\n",
       "      <td>13.80</td>\n",
       "      <td>1000</td>\n",
       "    </tr>\n",
       "    <tr>\n",
       "      <th>4</th>\n",
       "      <td>1000_4</td>\n",
       "      <td>2018-12-15</td>\n",
       "      <td>5.18</td>\n",
       "      <td>1000</td>\n",
       "    </tr>\n",
       "  </tbody>\n",
       "</table>\n",
       "</div>"
      ],
      "text/plain": [
       "       id   call_date  duration  user_id\n",
       "0  1000_0  2018-07-25      0.00     1000\n",
       "1  1000_1  2018-08-17      0.00     1000\n",
       "2  1000_2  2018-06-11      2.85     1000\n",
       "3  1000_3  2018-09-21     13.80     1000\n",
       "4  1000_4  2018-12-15      5.18     1000"
      ]
     },
     "execution_count": 3,
     "metadata": {},
     "output_type": "execute_result"
    }
   ],
   "source": [
    "# Получение общей информации датасета df_calls\n",
    "df_calls.head()"
   ]
  },
  {
   "cell_type": "code",
   "execution_count": 4,
   "id": "b4464173",
   "metadata": {
    "scrolled": true
   },
   "outputs": [
    {
     "name": "stdout",
     "output_type": "stream",
     "text": [
      "<class 'pandas.core.frame.DataFrame'>\n",
      "RangeIndex: 202607 entries, 0 to 202606\n",
      "Data columns (total 4 columns):\n",
      " #   Column     Non-Null Count   Dtype  \n",
      "---  ------     --------------   -----  \n",
      " 0   id         202607 non-null  object \n",
      " 1   call_date  202607 non-null  object \n",
      " 2   duration   202607 non-null  float64\n",
      " 3   user_id    202607 non-null  int64  \n",
      "dtypes: float64(1), int64(1), object(2)\n",
      "memory usage: 6.2+ MB\n"
     ]
    }
   ],
   "source": [
    "df_calls.info()"
   ]
  },
  {
   "cell_type": "code",
   "execution_count": 5,
   "id": "a585f872",
   "metadata": {},
   "outputs": [
    {
     "data": {
      "text/plain": [
       "0"
      ]
     },
     "execution_count": 5,
     "metadata": {},
     "output_type": "execute_result"
    }
   ],
   "source": [
    "# проверим количество дубликатов в датасете df_calls, кол-во дубликатов равно 0.\n",
    "df_calls.duplicated().sum()"
   ]
  },
  {
   "cell_type": "markdown",
   "id": "ecfa6587",
   "metadata": {},
   "source": [
    "*При анализе датасета df_calls выявлено: всего 202 607 строк, 4 столбца, пропусков нет, дубликатов нет*"
   ]
  },
  {
   "cell_type": "code",
   "execution_count": 6,
   "id": "c1ffb5d9",
   "metadata": {},
   "outputs": [
    {
     "data": {
      "text/html": [
       "<div>\n",
       "<style scoped>\n",
       "    .dataframe tbody tr th:only-of-type {\n",
       "        vertical-align: middle;\n",
       "    }\n",
       "\n",
       "    .dataframe tbody tr th {\n",
       "        vertical-align: top;\n",
       "    }\n",
       "\n",
       "    .dataframe thead th {\n",
       "        text-align: right;\n",
       "    }\n",
       "</style>\n",
       "<table border=\"1\" class=\"dataframe\">\n",
       "  <thead>\n",
       "    <tr style=\"text-align: right;\">\n",
       "      <th></th>\n",
       "      <th>Unnamed: 0</th>\n",
       "      <th>id</th>\n",
       "      <th>mb_used</th>\n",
       "      <th>session_date</th>\n",
       "      <th>user_id</th>\n",
       "    </tr>\n",
       "  </thead>\n",
       "  <tbody>\n",
       "    <tr>\n",
       "      <th>0</th>\n",
       "      <td>0</td>\n",
       "      <td>1000_0</td>\n",
       "      <td>112.95</td>\n",
       "      <td>2018-11-25</td>\n",
       "      <td>1000</td>\n",
       "    </tr>\n",
       "    <tr>\n",
       "      <th>1</th>\n",
       "      <td>1</td>\n",
       "      <td>1000_1</td>\n",
       "      <td>1052.81</td>\n",
       "      <td>2018-09-07</td>\n",
       "      <td>1000</td>\n",
       "    </tr>\n",
       "    <tr>\n",
       "      <th>2</th>\n",
       "      <td>2</td>\n",
       "      <td>1000_2</td>\n",
       "      <td>1197.26</td>\n",
       "      <td>2018-06-25</td>\n",
       "      <td>1000</td>\n",
       "    </tr>\n",
       "    <tr>\n",
       "      <th>3</th>\n",
       "      <td>3</td>\n",
       "      <td>1000_3</td>\n",
       "      <td>550.27</td>\n",
       "      <td>2018-08-22</td>\n",
       "      <td>1000</td>\n",
       "    </tr>\n",
       "    <tr>\n",
       "      <th>4</th>\n",
       "      <td>4</td>\n",
       "      <td>1000_4</td>\n",
       "      <td>302.56</td>\n",
       "      <td>2018-09-24</td>\n",
       "      <td>1000</td>\n",
       "    </tr>\n",
       "  </tbody>\n",
       "</table>\n",
       "</div>"
      ],
      "text/plain": [
       "   Unnamed: 0      id  mb_used session_date  user_id\n",
       "0           0  1000_0   112.95   2018-11-25     1000\n",
       "1           1  1000_1  1052.81   2018-09-07     1000\n",
       "2           2  1000_2  1197.26   2018-06-25     1000\n",
       "3           3  1000_3   550.27   2018-08-22     1000\n",
       "4           4  1000_4   302.56   2018-09-24     1000"
      ]
     },
     "execution_count": 6,
     "metadata": {},
     "output_type": "execute_result"
    }
   ],
   "source": [
    "# Получение общей информации датасета df_internet\n",
    "df_internet.head()"
   ]
  },
  {
   "cell_type": "code",
   "execution_count": 7,
   "id": "67d51c7d",
   "metadata": {
    "scrolled": true
   },
   "outputs": [
    {
     "name": "stdout",
     "output_type": "stream",
     "text": [
      "<class 'pandas.core.frame.DataFrame'>\n",
      "RangeIndex: 149396 entries, 0 to 149395\n",
      "Data columns (total 5 columns):\n",
      " #   Column        Non-Null Count   Dtype  \n",
      "---  ------        --------------   -----  \n",
      " 0   Unnamed: 0    149396 non-null  int64  \n",
      " 1   id            149396 non-null  object \n",
      " 2   mb_used       149396 non-null  float64\n",
      " 3   session_date  149396 non-null  object \n",
      " 4   user_id       149396 non-null  int64  \n",
      "dtypes: float64(1), int64(2), object(2)\n",
      "memory usage: 5.7+ MB\n"
     ]
    }
   ],
   "source": [
    "df_internet.info()"
   ]
  },
  {
   "cell_type": "code",
   "execution_count": 8,
   "id": "6c61c9ca",
   "metadata": {},
   "outputs": [
    {
     "data": {
      "text/plain": [
       "0"
      ]
     },
     "execution_count": 8,
     "metadata": {},
     "output_type": "execute_result"
    }
   ],
   "source": [
    "# проверим количество дубликатов в датасете df_internet, кол-во дубликатов равно 0.\n",
    "df_internet.duplicated().sum()"
   ]
  },
  {
   "cell_type": "markdown",
   "id": "001363d2",
   "metadata": {},
   "source": [
    "*При анализе датасета df_internet выявлено: всего 149 396 строк, 5 столбцов, пропусков нет, дубликатов нет*"
   ]
  },
  {
   "cell_type": "code",
   "execution_count": 9,
   "id": "1cfe3697",
   "metadata": {},
   "outputs": [
    {
     "data": {
      "text/html": [
       "<div>\n",
       "<style scoped>\n",
       "    .dataframe tbody tr th:only-of-type {\n",
       "        vertical-align: middle;\n",
       "    }\n",
       "\n",
       "    .dataframe tbody tr th {\n",
       "        vertical-align: top;\n",
       "    }\n",
       "\n",
       "    .dataframe thead th {\n",
       "        text-align: right;\n",
       "    }\n",
       "</style>\n",
       "<table border=\"1\" class=\"dataframe\">\n",
       "  <thead>\n",
       "    <tr style=\"text-align: right;\">\n",
       "      <th></th>\n",
       "      <th>id</th>\n",
       "      <th>message_date</th>\n",
       "      <th>user_id</th>\n",
       "    </tr>\n",
       "  </thead>\n",
       "  <tbody>\n",
       "    <tr>\n",
       "      <th>0</th>\n",
       "      <td>1000_0</td>\n",
       "      <td>2018-06-27</td>\n",
       "      <td>1000</td>\n",
       "    </tr>\n",
       "    <tr>\n",
       "      <th>1</th>\n",
       "      <td>1000_1</td>\n",
       "      <td>2018-10-08</td>\n",
       "      <td>1000</td>\n",
       "    </tr>\n",
       "    <tr>\n",
       "      <th>2</th>\n",
       "      <td>1000_2</td>\n",
       "      <td>2018-08-04</td>\n",
       "      <td>1000</td>\n",
       "    </tr>\n",
       "    <tr>\n",
       "      <th>3</th>\n",
       "      <td>1000_3</td>\n",
       "      <td>2018-06-16</td>\n",
       "      <td>1000</td>\n",
       "    </tr>\n",
       "    <tr>\n",
       "      <th>4</th>\n",
       "      <td>1000_4</td>\n",
       "      <td>2018-12-05</td>\n",
       "      <td>1000</td>\n",
       "    </tr>\n",
       "  </tbody>\n",
       "</table>\n",
       "</div>"
      ],
      "text/plain": [
       "       id message_date  user_id\n",
       "0  1000_0   2018-06-27     1000\n",
       "1  1000_1   2018-10-08     1000\n",
       "2  1000_2   2018-08-04     1000\n",
       "3  1000_3   2018-06-16     1000\n",
       "4  1000_4   2018-12-05     1000"
      ]
     },
     "execution_count": 9,
     "metadata": {},
     "output_type": "execute_result"
    }
   ],
   "source": [
    "# Получение общей информации датасета df_messages\n",
    "df_messages.head()"
   ]
  },
  {
   "cell_type": "code",
   "execution_count": 10,
   "id": "222d62e4",
   "metadata": {
    "scrolled": true
   },
   "outputs": [
    {
     "name": "stdout",
     "output_type": "stream",
     "text": [
      "<class 'pandas.core.frame.DataFrame'>\n",
      "RangeIndex: 123036 entries, 0 to 123035\n",
      "Data columns (total 3 columns):\n",
      " #   Column        Non-Null Count   Dtype \n",
      "---  ------        --------------   ----- \n",
      " 0   id            123036 non-null  object\n",
      " 1   message_date  123036 non-null  object\n",
      " 2   user_id       123036 non-null  int64 \n",
      "dtypes: int64(1), object(2)\n",
      "memory usage: 2.8+ MB\n"
     ]
    }
   ],
   "source": [
    "df_messages.info()"
   ]
  },
  {
   "cell_type": "code",
   "execution_count": 11,
   "id": "d5168600",
   "metadata": {
    "scrolled": true
   },
   "outputs": [
    {
     "data": {
      "text/plain": [
       "0"
      ]
     },
     "execution_count": 11,
     "metadata": {},
     "output_type": "execute_result"
    }
   ],
   "source": [
    "# проверим количество дубликатов в датасете df_messages, кол-во дубликатов равно 0.\n",
    "df_messages.duplicated().sum()"
   ]
  },
  {
   "cell_type": "markdown",
   "id": "e66436b7",
   "metadata": {},
   "source": [
    "**При анализе датасета df_messages выявлено: всего 123 036 строк, 3 столбца, пропусков нет, дубликатов нет**"
   ]
  },
  {
   "cell_type": "code",
   "execution_count": 12,
   "id": "b102898a",
   "metadata": {
    "scrolled": true
   },
   "outputs": [
    {
     "data": {
      "text/html": [
       "<div>\n",
       "<style scoped>\n",
       "    .dataframe tbody tr th:only-of-type {\n",
       "        vertical-align: middle;\n",
       "    }\n",
       "\n",
       "    .dataframe tbody tr th {\n",
       "        vertical-align: top;\n",
       "    }\n",
       "\n",
       "    .dataframe thead th {\n",
       "        text-align: right;\n",
       "    }\n",
       "</style>\n",
       "<table border=\"1\" class=\"dataframe\">\n",
       "  <thead>\n",
       "    <tr style=\"text-align: right;\">\n",
       "      <th></th>\n",
       "      <th>messages_included</th>\n",
       "      <th>mb_per_month_included</th>\n",
       "      <th>minutes_included</th>\n",
       "      <th>rub_monthly_fee</th>\n",
       "      <th>rub_per_gb</th>\n",
       "      <th>rub_per_message</th>\n",
       "      <th>rub_per_minute</th>\n",
       "      <th>tariff_name</th>\n",
       "    </tr>\n",
       "  </thead>\n",
       "  <tbody>\n",
       "    <tr>\n",
       "      <th>0</th>\n",
       "      <td>50</td>\n",
       "      <td>15360</td>\n",
       "      <td>500</td>\n",
       "      <td>550</td>\n",
       "      <td>200</td>\n",
       "      <td>3</td>\n",
       "      <td>3</td>\n",
       "      <td>smart</td>\n",
       "    </tr>\n",
       "    <tr>\n",
       "      <th>1</th>\n",
       "      <td>1000</td>\n",
       "      <td>30720</td>\n",
       "      <td>3000</td>\n",
       "      <td>1950</td>\n",
       "      <td>150</td>\n",
       "      <td>1</td>\n",
       "      <td>1</td>\n",
       "      <td>ultra</td>\n",
       "    </tr>\n",
       "  </tbody>\n",
       "</table>\n",
       "</div>"
      ],
      "text/plain": [
       "   messages_included  mb_per_month_included  minutes_included  \\\n",
       "0                 50                  15360               500   \n",
       "1               1000                  30720              3000   \n",
       "\n",
       "   rub_monthly_fee  rub_per_gb  rub_per_message  rub_per_minute tariff_name  \n",
       "0              550         200                3               3       smart  \n",
       "1             1950         150                1               1       ultra  "
      ]
     },
     "execution_count": 12,
     "metadata": {},
     "output_type": "execute_result"
    }
   ],
   "source": [
    "# Получение общей информации датасета df_tariffs\n",
    "df_tariffs.head()"
   ]
  },
  {
   "cell_type": "code",
   "execution_count": 13,
   "id": "e986899f",
   "metadata": {
    "scrolled": true
   },
   "outputs": [
    {
     "name": "stdout",
     "output_type": "stream",
     "text": [
      "<class 'pandas.core.frame.DataFrame'>\n",
      "RangeIndex: 2 entries, 0 to 1\n",
      "Data columns (total 8 columns):\n",
      " #   Column                 Non-Null Count  Dtype \n",
      "---  ------                 --------------  ----- \n",
      " 0   messages_included      2 non-null      int64 \n",
      " 1   mb_per_month_included  2 non-null      int64 \n",
      " 2   minutes_included       2 non-null      int64 \n",
      " 3   rub_monthly_fee        2 non-null      int64 \n",
      " 4   rub_per_gb             2 non-null      int64 \n",
      " 5   rub_per_message        2 non-null      int64 \n",
      " 6   rub_per_minute         2 non-null      int64 \n",
      " 7   tariff_name            2 non-null      object\n",
      "dtypes: int64(7), object(1)\n",
      "memory usage: 256.0+ bytes\n"
     ]
    }
   ],
   "source": [
    "df_tariffs.info()"
   ]
  },
  {
   "cell_type": "code",
   "execution_count": 14,
   "id": "800929bb",
   "metadata": {
    "scrolled": true
   },
   "outputs": [
    {
     "data": {
      "text/plain": [
       "0"
      ]
     },
     "execution_count": 14,
     "metadata": {},
     "output_type": "execute_result"
    }
   ],
   "source": [
    "# проверим количество дубликатов в датасете df_tariffs, кол-во дубликатов равно 0.\n",
    "df_tariffs.duplicated().sum()"
   ]
  },
  {
   "cell_type": "markdown",
   "id": "ba77aa59",
   "metadata": {},
   "source": [
    "**При анализе датасета df_tariffs выявлено: всего 2 строки, 8 столбцов, пропусков нет, дубликатов нет**"
   ]
  },
  {
   "cell_type": "code",
   "execution_count": 15,
   "id": "14483e07",
   "metadata": {
    "scrolled": true
   },
   "outputs": [
    {
     "data": {
      "text/html": [
       "<div>\n",
       "<style scoped>\n",
       "    .dataframe tbody tr th:only-of-type {\n",
       "        vertical-align: middle;\n",
       "    }\n",
       "\n",
       "    .dataframe tbody tr th {\n",
       "        vertical-align: top;\n",
       "    }\n",
       "\n",
       "    .dataframe thead th {\n",
       "        text-align: right;\n",
       "    }\n",
       "</style>\n",
       "<table border=\"1\" class=\"dataframe\">\n",
       "  <thead>\n",
       "    <tr style=\"text-align: right;\">\n",
       "      <th></th>\n",
       "      <th>user_id</th>\n",
       "      <th>age</th>\n",
       "      <th>churn_date</th>\n",
       "      <th>city</th>\n",
       "      <th>first_name</th>\n",
       "      <th>last_name</th>\n",
       "      <th>reg_date</th>\n",
       "      <th>tariff</th>\n",
       "    </tr>\n",
       "  </thead>\n",
       "  <tbody>\n",
       "    <tr>\n",
       "      <th>0</th>\n",
       "      <td>1000</td>\n",
       "      <td>52</td>\n",
       "      <td>NaN</td>\n",
       "      <td>Краснодар</td>\n",
       "      <td>Рафаил</td>\n",
       "      <td>Верещагин</td>\n",
       "      <td>2018-05-25</td>\n",
       "      <td>ultra</td>\n",
       "    </tr>\n",
       "    <tr>\n",
       "      <th>1</th>\n",
       "      <td>1001</td>\n",
       "      <td>41</td>\n",
       "      <td>NaN</td>\n",
       "      <td>Москва</td>\n",
       "      <td>Иван</td>\n",
       "      <td>Ежов</td>\n",
       "      <td>2018-11-01</td>\n",
       "      <td>smart</td>\n",
       "    </tr>\n",
       "    <tr>\n",
       "      <th>2</th>\n",
       "      <td>1002</td>\n",
       "      <td>59</td>\n",
       "      <td>NaN</td>\n",
       "      <td>Стерлитамак</td>\n",
       "      <td>Евгений</td>\n",
       "      <td>Абрамович</td>\n",
       "      <td>2018-06-17</td>\n",
       "      <td>smart</td>\n",
       "    </tr>\n",
       "    <tr>\n",
       "      <th>3</th>\n",
       "      <td>1003</td>\n",
       "      <td>23</td>\n",
       "      <td>NaN</td>\n",
       "      <td>Москва</td>\n",
       "      <td>Белла</td>\n",
       "      <td>Белякова</td>\n",
       "      <td>2018-08-17</td>\n",
       "      <td>ultra</td>\n",
       "    </tr>\n",
       "    <tr>\n",
       "      <th>4</th>\n",
       "      <td>1004</td>\n",
       "      <td>68</td>\n",
       "      <td>NaN</td>\n",
       "      <td>Новокузнецк</td>\n",
       "      <td>Татьяна</td>\n",
       "      <td>Авдеенко</td>\n",
       "      <td>2018-05-14</td>\n",
       "      <td>ultra</td>\n",
       "    </tr>\n",
       "  </tbody>\n",
       "</table>\n",
       "</div>"
      ],
      "text/plain": [
       "   user_id  age churn_date         city first_name  last_name    reg_date  \\\n",
       "0     1000   52        NaN    Краснодар     Рафаил  Верещагин  2018-05-25   \n",
       "1     1001   41        NaN       Москва       Иван       Ежов  2018-11-01   \n",
       "2     1002   59        NaN  Стерлитамак    Евгений  Абрамович  2018-06-17   \n",
       "3     1003   23        NaN       Москва      Белла   Белякова  2018-08-17   \n",
       "4     1004   68        NaN  Новокузнецк    Татьяна   Авдеенко  2018-05-14   \n",
       "\n",
       "  tariff  \n",
       "0  ultra  \n",
       "1  smart  \n",
       "2  smart  \n",
       "3  ultra  \n",
       "4  ultra  "
      ]
     },
     "execution_count": 15,
     "metadata": {},
     "output_type": "execute_result"
    }
   ],
   "source": [
    "# Получение общей информации датасета df_users\n",
    "df_users.head()"
   ]
  },
  {
   "cell_type": "code",
   "execution_count": 16,
   "id": "95a9b434",
   "metadata": {
    "scrolled": true
   },
   "outputs": [
    {
     "name": "stdout",
     "output_type": "stream",
     "text": [
      "count    500.00000\n",
      "mean      46.58800\n",
      "std       16.66763\n",
      "min       18.00000\n",
      "25%       32.00000\n",
      "50%       46.00000\n",
      "75%       62.00000\n",
      "max       75.00000\n",
      "Name: age, dtype: float64\n"
     ]
    },
    {
     "data": {
      "text/plain": [
       "<AxesSubplot:>"
      ]
     },
     "execution_count": 16,
     "metadata": {},
     "output_type": "execute_result"
    },
    {
     "data": {
      "image/png": "[encoded data removed]",
      "text/plain": [
       "<Figure size 432x288 with 1 Axes>"
      ]
     },
     "metadata": {
      "needs_background": "light"
     },
     "output_type": "display_data"
    }
   ],
   "source": [
    "print(df_users['age'].describe())\n",
    "df_users['age'].hist(bins=10, range= (15, 100))"
   ]
  },
  {
   "cell_type": "markdown",
   "id": "b7e7e34f",
   "metadata": {},
   "source": [
    "<div class=\"alert alert-block alert-info\">\n",
    "Максимальное количество лет- 75, минимальное - 18, по результатам построенной гистограммы в столбце 'age' ошибочных данных не выявлено.\n",
    "</div>"
   ]
  },
  {
   "cell_type": "code",
   "execution_count": 17,
   "id": "2ee5d79d",
   "metadata": {},
   "outputs": [
    {
     "name": "stdout",
     "output_type": "stream",
     "text": [
      "<class 'pandas.core.frame.DataFrame'>\n",
      "RangeIndex: 500 entries, 0 to 499\n",
      "Data columns (total 8 columns):\n",
      " #   Column      Non-Null Count  Dtype \n",
      "---  ------      --------------  ----- \n",
      " 0   user_id     500 non-null    int64 \n",
      " 1   age         500 non-null    int64 \n",
      " 2   churn_date  38 non-null     object\n",
      " 3   city        500 non-null    object\n",
      " 4   first_name  500 non-null    object\n",
      " 5   last_name   500 non-null    object\n",
      " 6   reg_date    500 non-null    object\n",
      " 7   tariff      500 non-null    object\n",
      "dtypes: int64(2), object(6)\n",
      "memory usage: 31.4+ KB\n"
     ]
    }
   ],
   "source": [
    "df_users.info()"
   ]
  },
  {
   "cell_type": "code",
   "execution_count": 18,
   "id": "0fe0607b",
   "metadata": {},
   "outputs": [
    {
     "data": {
      "text/plain": [
       "0"
      ]
     },
     "execution_count": 18,
     "metadata": {},
     "output_type": "execute_result"
    }
   ],
   "source": [
    "# проверим количество дубликатов в датасете df_users, кол-во дубликатов равно 0.\n",
    "df_users.duplicated().sum()"
   ]
  },
  {
   "cell_type": "markdown",
   "id": "00c3424f",
   "metadata": {},
   "source": [
    "**При анализе датасета df_users выявлено: всего 500 строк, 8 столбцов, пропуски в столбце churn_date (дата прекращения пользования тарифом) в количестве 462 шт., дубликатов нет. Пропуски в столбце churn_date означают, что тариф ещё действовал на момент выгрузки данных, заполнять пропуски не нужно**"
   ]
  },
  {
   "cell_type": "markdown",
   "id": "abcea9b3",
   "metadata": {},
   "source": [
    "### Выводы:\n",
    "\n",
    "При анализе таблиц выявлено:\n",
    "- Значения даты в датасетах с данными о звонках, сообщениях и интернета имеют тип object, эти данные лучше преобразовать в тип datetime64.\n",
    "- Также необходимо округлить длительность звонков и изменить тип данных на целочисленный."
   ]
  },
  {
   "cell_type": "markdown",
   "id": "a3dd159b",
   "metadata": {},
   "source": [
    "### Поработаем с каждой таблицей для приведения в нужный вид\n",
    "\n",
    "### Звонки"
   ]
  },
  {
   "cell_type": "code",
   "execution_count": 19,
   "id": "c7e78632",
   "metadata": {},
   "outputs": [],
   "source": [
    "# Перевод даты из объектного типа в тип datetime64\n",
    "df_calls['call_date'] = pd.to_datetime(df_calls['call_date'], format='%Y-%m-%d')\n",
    "\n",
    "# Добавляем столбец с категорией месяца: Январь - 1, Февраль - 2, ..., Декабрь - 12\n",
    "df_calls['month_num'] = pd.DatetimeIndex(df_calls['call_date']).month\n",
    "\n",
    "# Добавляем столбец с началом календарного месяца\n",
    "df_calls['month'] = df_calls['call_date'].astype('datetime64[M]')\n",
    "\n",
    "# Округляем длительность звонков и меняем тип данных на целочисленный\n",
    "df_calls['duration'] = np.ceil(df_calls['duration']).astype('int')"
   ]
  },
  {
   "cell_type": "code",
   "execution_count": 20,
   "id": "0b3ff8a0",
   "metadata": {},
   "outputs": [
    {
     "data": {
      "text/html": [
       "<div>\n",
       "<style scoped>\n",
       "    .dataframe tbody tr th:only-of-type {\n",
       "        vertical-align: middle;\n",
       "    }\n",
       "\n",
       "    .dataframe tbody tr th {\n",
       "        vertical-align: top;\n",
       "    }\n",
       "\n",
       "    .dataframe thead th {\n",
       "        text-align: right;\n",
       "    }\n",
       "</style>\n",
       "<table border=\"1\" class=\"dataframe\">\n",
       "  <thead>\n",
       "    <tr style=\"text-align: right;\">\n",
       "      <th></th>\n",
       "      <th>id</th>\n",
       "      <th>call_date</th>\n",
       "      <th>duration</th>\n",
       "      <th>user_id</th>\n",
       "      <th>month_num</th>\n",
       "      <th>month</th>\n",
       "    </tr>\n",
       "  </thead>\n",
       "  <tbody>\n",
       "    <tr>\n",
       "      <th>0</th>\n",
       "      <td>1000_0</td>\n",
       "      <td>2018-07-25</td>\n",
       "      <td>0</td>\n",
       "      <td>1000</td>\n",
       "      <td>7</td>\n",
       "      <td>2018-07-01</td>\n",
       "    </tr>\n",
       "    <tr>\n",
       "      <th>1</th>\n",
       "      <td>1000_1</td>\n",
       "      <td>2018-08-17</td>\n",
       "      <td>0</td>\n",
       "      <td>1000</td>\n",
       "      <td>8</td>\n",
       "      <td>2018-08-01</td>\n",
       "    </tr>\n",
       "    <tr>\n",
       "      <th>2</th>\n",
       "      <td>1000_2</td>\n",
       "      <td>2018-06-11</td>\n",
       "      <td>3</td>\n",
       "      <td>1000</td>\n",
       "      <td>6</td>\n",
       "      <td>2018-06-01</td>\n",
       "    </tr>\n",
       "    <tr>\n",
       "      <th>3</th>\n",
       "      <td>1000_3</td>\n",
       "      <td>2018-09-21</td>\n",
       "      <td>14</td>\n",
       "      <td>1000</td>\n",
       "      <td>9</td>\n",
       "      <td>2018-09-01</td>\n",
       "    </tr>\n",
       "    <tr>\n",
       "      <th>4</th>\n",
       "      <td>1000_4</td>\n",
       "      <td>2018-12-15</td>\n",
       "      <td>6</td>\n",
       "      <td>1000</td>\n",
       "      <td>12</td>\n",
       "      <td>2018-12-01</td>\n",
       "    </tr>\n",
       "  </tbody>\n",
       "</table>\n",
       "</div>"
      ],
      "text/plain": [
       "       id  call_date  duration  user_id  month_num      month\n",
       "0  1000_0 2018-07-25         0     1000          7 2018-07-01\n",
       "1  1000_1 2018-08-17         0     1000          8 2018-08-01\n",
       "2  1000_2 2018-06-11         3     1000          6 2018-06-01\n",
       "3  1000_3 2018-09-21        14     1000          9 2018-09-01\n",
       "4  1000_4 2018-12-15         6     1000         12 2018-12-01"
      ]
     },
     "execution_count": 20,
     "metadata": {},
     "output_type": "execute_result"
    }
   ],
   "source": [
    "df_calls.head()"
   ]
  },
  {
   "cell_type": "code",
   "execution_count": 21,
   "id": "d50d4c37",
   "metadata": {},
   "outputs": [
    {
     "name": "stdout",
     "output_type": "stream",
     "text": [
      "count    202607.000000\n",
      "mean          7.158198\n",
      "std           5.959173\n",
      "min           0.000000\n",
      "25%           2.000000\n",
      "50%           6.000000\n",
      "75%          11.000000\n",
      "max          38.000000\n",
      "Name: duration, dtype: float64\n"
     ]
    }
   ],
   "source": [
    "# Рассмотрим данные для столбца 'duration' (длительность звонка)\n",
    "print(df_calls['duration'].describe())"
   ]
  },
  {
   "cell_type": "code",
   "execution_count": 22,
   "id": "c44f371b",
   "metadata": {
    "scrolled": true
   },
   "outputs": [
    {
     "data": {
      "text/plain": [
       "<AxesSubplot:>"
      ]
     },
     "execution_count": 22,
     "metadata": {},
     "output_type": "execute_result"
    },
    {
     "data": {
      "image/png": "[encoded data removed]",
      "text/plain": [
       "<Figure size 432x288 with 1 Axes>"
      ]
     },
     "metadata": {
      "needs_background": "light"
     },
     "output_type": "display_data"
    }
   ],
   "source": [
    "df_calls['duration'].hist(bins=10, range= (0, 40))"
   ]
  },
  {
   "cell_type": "markdown",
   "id": "779c4f2a",
   "metadata": {},
   "source": [
    "### Сообщения"
   ]
  },
  {
   "cell_type": "code",
   "execution_count": 23,
   "id": "a7cd8fc1",
   "metadata": {},
   "outputs": [],
   "source": [
    "# Перевод даты из объектного типа в тип datetime64\n",
    "df_messages['message_date'] = pd.to_datetime(df_messages['message_date'] , format='%Y-%m-%d')\n",
    "\n",
    "# Добавляем столбец с категорией месяца: Январь - 1, Февраль - 2, ..., Декабрь - 12\n",
    "df_messages['month_num'] = pd.DatetimeIndex(df_messages['message_date']).month\n",
    "\n",
    "# Добавляем столбец с началом календарного месяца\n",
    "df_messages['month'] = df_messages['message_date'].astype('datetime64[M]')"
   ]
  },
  {
   "cell_type": "code",
   "execution_count": 24,
   "id": "4cd7800e",
   "metadata": {
    "scrolled": true
   },
   "outputs": [
    {
     "data": {
      "text/html": [
       "<div>\n",
       "<style scoped>\n",
       "    .dataframe tbody tr th:only-of-type {\n",
       "        vertical-align: middle;\n",
       "    }\n",
       "\n",
       "    .dataframe tbody tr th {\n",
       "        vertical-align: top;\n",
       "    }\n",
       "\n",
       "    .dataframe thead th {\n",
       "        text-align: right;\n",
       "    }\n",
       "</style>\n",
       "<table border=\"1\" class=\"dataframe\">\n",
       "  <thead>\n",
       "    <tr style=\"text-align: right;\">\n",
       "      <th></th>\n",
       "      <th>id</th>\n",
       "      <th>message_date</th>\n",
       "      <th>user_id</th>\n",
       "      <th>month_num</th>\n",
       "      <th>month</th>\n",
       "    </tr>\n",
       "  </thead>\n",
       "  <tbody>\n",
       "    <tr>\n",
       "      <th>0</th>\n",
       "      <td>1000_0</td>\n",
       "      <td>2018-06-27</td>\n",
       "      <td>1000</td>\n",
       "      <td>6</td>\n",
       "      <td>2018-06-01</td>\n",
       "    </tr>\n",
       "    <tr>\n",
       "      <th>1</th>\n",
       "      <td>1000_1</td>\n",
       "      <td>2018-10-08</td>\n",
       "      <td>1000</td>\n",
       "      <td>10</td>\n",
       "      <td>2018-10-01</td>\n",
       "    </tr>\n",
       "    <tr>\n",
       "      <th>2</th>\n",
       "      <td>1000_2</td>\n",
       "      <td>2018-08-04</td>\n",
       "      <td>1000</td>\n",
       "      <td>8</td>\n",
       "      <td>2018-08-01</td>\n",
       "    </tr>\n",
       "    <tr>\n",
       "      <th>3</th>\n",
       "      <td>1000_3</td>\n",
       "      <td>2018-06-16</td>\n",
       "      <td>1000</td>\n",
       "      <td>6</td>\n",
       "      <td>2018-06-01</td>\n",
       "    </tr>\n",
       "    <tr>\n",
       "      <th>4</th>\n",
       "      <td>1000_4</td>\n",
       "      <td>2018-12-05</td>\n",
       "      <td>1000</td>\n",
       "      <td>12</td>\n",
       "      <td>2018-12-01</td>\n",
       "    </tr>\n",
       "  </tbody>\n",
       "</table>\n",
       "</div>"
      ],
      "text/plain": [
       "       id message_date  user_id  month_num      month\n",
       "0  1000_0   2018-06-27     1000          6 2018-06-01\n",
       "1  1000_1   2018-10-08     1000         10 2018-10-01\n",
       "2  1000_2   2018-08-04     1000          8 2018-08-01\n",
       "3  1000_3   2018-06-16     1000          6 2018-06-01\n",
       "4  1000_4   2018-12-05     1000         12 2018-12-01"
      ]
     },
     "execution_count": 24,
     "metadata": {},
     "output_type": "execute_result"
    }
   ],
   "source": [
    "df_messages.head()"
   ]
  },
  {
   "cell_type": "code",
   "execution_count": 25,
   "id": "86a20764",
   "metadata": {},
   "outputs": [
    {
     "name": "stdout",
     "output_type": "stream",
     "text": [
      "count    123036.000000\n",
      "mean          8.632262\n",
      "std           2.747328\n",
      "min           1.000000\n",
      "25%           7.000000\n",
      "50%           9.000000\n",
      "75%          11.000000\n",
      "max          12.000000\n",
      "Name: month_num, dtype: float64\n"
     ]
    }
   ],
   "source": [
    "print(df_messages['month_num'].describe())"
   ]
  },
  {
   "cell_type": "code",
   "execution_count": 26,
   "id": "c3a6cc62",
   "metadata": {
    "scrolled": true
   },
   "outputs": [
    {
     "data": {
      "text/plain": [
       "<AxesSubplot:>"
      ]
     },
     "execution_count": 26,
     "metadata": {},
     "output_type": "execute_result"
    },
    {
     "data": {
      "image/png": "[encoded data removed]",
      "text/plain": [
       "<Figure size 432x288 with 1 Axes>"
      ]
     },
     "metadata": {
      "needs_background": "light"
     },
     "output_type": "display_data"
    }
   ],
   "source": [
    "df_messages['month_num'].hist(bins=10, range= (0, 12))"
   ]
  },
  {
   "cell_type": "markdown",
   "id": "e9c6b05d",
   "metadata": {},
   "source": [
    "### Интернет траффик"
   ]
  },
  {
   "cell_type": "code",
   "execution_count": 27,
   "id": "7d882efc",
   "metadata": {},
   "outputs": [],
   "source": [
    "# Перевод даты из объектного типа в тип datetime64\n",
    "df_internet['session_date'] = pd.to_datetime(df_internet['session_date'] , format='%Y-%m-%d')\n",
    "\n",
    "# Добавляем столбец с категорией месяца: Январь - 1, Февраль - 2, ..., Декабрь - 12\n",
    "df_internet['month_num'] = pd.DatetimeIndex(df_internet['session_date']).month\n",
    "\n",
    "# Добавляем столбец с началом календарного месяца\n",
    "df_internet['month'] = df_internet['session_date'].astype('datetime64[M]')"
   ]
  },
  {
   "cell_type": "code",
   "execution_count": 28,
   "id": "cfc975a8",
   "metadata": {},
   "outputs": [
    {
     "data": {
      "text/html": [
       "<div>\n",
       "<style scoped>\n",
       "    .dataframe tbody tr th:only-of-type {\n",
       "        vertical-align: middle;\n",
       "    }\n",
       "\n",
       "    .dataframe tbody tr th {\n",
       "        vertical-align: top;\n",
       "    }\n",
       "\n",
       "    .dataframe thead th {\n",
       "        text-align: right;\n",
       "    }\n",
       "</style>\n",
       "<table border=\"1\" class=\"dataframe\">\n",
       "  <thead>\n",
       "    <tr style=\"text-align: right;\">\n",
       "      <th></th>\n",
       "      <th>Unnamed: 0</th>\n",
       "      <th>id</th>\n",
       "      <th>mb_used</th>\n",
       "      <th>session_date</th>\n",
       "      <th>user_id</th>\n",
       "      <th>month_num</th>\n",
       "      <th>month</th>\n",
       "    </tr>\n",
       "  </thead>\n",
       "  <tbody>\n",
       "    <tr>\n",
       "      <th>0</th>\n",
       "      <td>0</td>\n",
       "      <td>1000_0</td>\n",
       "      <td>112.95</td>\n",
       "      <td>2018-11-25</td>\n",
       "      <td>1000</td>\n",
       "      <td>11</td>\n",
       "      <td>2018-11-01</td>\n",
       "    </tr>\n",
       "    <tr>\n",
       "      <th>1</th>\n",
       "      <td>1</td>\n",
       "      <td>1000_1</td>\n",
       "      <td>1052.81</td>\n",
       "      <td>2018-09-07</td>\n",
       "      <td>1000</td>\n",
       "      <td>9</td>\n",
       "      <td>2018-09-01</td>\n",
       "    </tr>\n",
       "    <tr>\n",
       "      <th>2</th>\n",
       "      <td>2</td>\n",
       "      <td>1000_2</td>\n",
       "      <td>1197.26</td>\n",
       "      <td>2018-06-25</td>\n",
       "      <td>1000</td>\n",
       "      <td>6</td>\n",
       "      <td>2018-06-01</td>\n",
       "    </tr>\n",
       "    <tr>\n",
       "      <th>3</th>\n",
       "      <td>3</td>\n",
       "      <td>1000_3</td>\n",
       "      <td>550.27</td>\n",
       "      <td>2018-08-22</td>\n",
       "      <td>1000</td>\n",
       "      <td>8</td>\n",
       "      <td>2018-08-01</td>\n",
       "    </tr>\n",
       "    <tr>\n",
       "      <th>4</th>\n",
       "      <td>4</td>\n",
       "      <td>1000_4</td>\n",
       "      <td>302.56</td>\n",
       "      <td>2018-09-24</td>\n",
       "      <td>1000</td>\n",
       "      <td>9</td>\n",
       "      <td>2018-09-01</td>\n",
       "    </tr>\n",
       "  </tbody>\n",
       "</table>\n",
       "</div>"
      ],
      "text/plain": [
       "   Unnamed: 0      id  mb_used session_date  user_id  month_num      month\n",
       "0           0  1000_0   112.95   2018-11-25     1000         11 2018-11-01\n",
       "1           1  1000_1  1052.81   2018-09-07     1000          9 2018-09-01\n",
       "2           2  1000_2  1197.26   2018-06-25     1000          6 2018-06-01\n",
       "3           3  1000_3   550.27   2018-08-22     1000          8 2018-08-01\n",
       "4           4  1000_4   302.56   2018-09-24     1000          9 2018-09-01"
      ]
     },
     "execution_count": 28,
     "metadata": {},
     "output_type": "execute_result"
    }
   ],
   "source": [
    "df_internet.head()"
   ]
  },
  {
   "cell_type": "code",
   "execution_count": 29,
   "id": "a448d6f1",
   "metadata": {},
   "outputs": [
    {
     "name": "stdout",
     "output_type": "stream",
     "text": [
      "count    149396.000000\n",
      "mean        370.192426\n",
      "std         278.300951\n",
      "min           0.000000\n",
      "25%         138.187500\n",
      "50%         348.015000\n",
      "75%         559.552500\n",
      "max        1724.830000\n",
      "Name: mb_used, dtype: float64\n"
     ]
    }
   ],
   "source": [
    "print(df_internet['mb_used'].describe())"
   ]
  },
  {
   "cell_type": "code",
   "execution_count": 30,
   "id": "c5863505",
   "metadata": {
    "scrolled": false
   },
   "outputs": [
    {
     "data": {
      "text/plain": [
       "<AxesSubplot:>"
      ]
     },
     "execution_count": 30,
     "metadata": {},
     "output_type": "execute_result"
    },
    {
     "data": {
      "image/png": "[encoded data removed]",
      "text/plain": [
       "<Figure size 432x288 with 1 Axes>"
      ]
     },
     "metadata": {
      "needs_background": "light"
     },
     "output_type": "display_data"
    }
   ],
   "source": [
    "df_internet['mb_used'].hist(bins=10, range= (0, 1700))"
   ]
  },
  {
   "cell_type": "markdown",
   "id": "f995d262",
   "metadata": {},
   "source": [
    "## Расчитаем для каждого пользователя:\n",
    "- количество сделанных звонков и израсходованных минут разговора по месяцам;\n",
    "- количество отправленных сообщений по месяцам;\n",
    "- объем израсходованного интернет-трафика по месяцам;\n",
    "- помесячную выручку с каждого пользователя (вычтите бесплатный лимит из суммарного количества звонков, сообщений и интернет-трафика; остаток умножьте на значение из тарифного плана; прибавьте абонентскую плату, соответствующую тарифному плану)."
   ]
  },
  {
   "cell_type": "code",
   "execution_count": 31,
   "id": "ad092a21",
   "metadata": {},
   "outputs": [
    {
     "data": {
      "text/html": [
       "<div>\n",
       "<style scoped>\n",
       "    .dataframe tbody tr th:only-of-type {\n",
       "        vertical-align: middle;\n",
       "    }\n",
       "\n",
       "    .dataframe tbody tr th {\n",
       "        vertical-align: top;\n",
       "    }\n",
       "\n",
       "    .dataframe thead th {\n",
       "        text-align: right;\n",
       "    }\n",
       "</style>\n",
       "<table border=\"1\" class=\"dataframe\">\n",
       "  <thead>\n",
       "    <tr style=\"text-align: right;\">\n",
       "      <th></th>\n",
       "      <th>user_id</th>\n",
       "      <th>month</th>\n",
       "      <th>calls_duration</th>\n",
       "      <th>calls_number</th>\n",
       "    </tr>\n",
       "  </thead>\n",
       "  <tbody>\n",
       "    <tr>\n",
       "      <th>0</th>\n",
       "      <td>1000</td>\n",
       "      <td>2018-05-01</td>\n",
       "      <td>159</td>\n",
       "      <td>22</td>\n",
       "    </tr>\n",
       "    <tr>\n",
       "      <th>1</th>\n",
       "      <td>1000</td>\n",
       "      <td>2018-06-01</td>\n",
       "      <td>172</td>\n",
       "      <td>43</td>\n",
       "    </tr>\n",
       "    <tr>\n",
       "      <th>2</th>\n",
       "      <td>1000</td>\n",
       "      <td>2018-07-01</td>\n",
       "      <td>340</td>\n",
       "      <td>47</td>\n",
       "    </tr>\n",
       "    <tr>\n",
       "      <th>3</th>\n",
       "      <td>1000</td>\n",
       "      <td>2018-08-01</td>\n",
       "      <td>408</td>\n",
       "      <td>52</td>\n",
       "    </tr>\n",
       "    <tr>\n",
       "      <th>4</th>\n",
       "      <td>1000</td>\n",
       "      <td>2018-09-01</td>\n",
       "      <td>466</td>\n",
       "      <td>58</td>\n",
       "    </tr>\n",
       "  </tbody>\n",
       "</table>\n",
       "</div>"
      ],
      "text/plain": [
       "   user_id      month  calls_duration  calls_number\n",
       "0     1000 2018-05-01             159            22\n",
       "1     1000 2018-06-01             172            43\n",
       "2     1000 2018-07-01             340            47\n",
       "3     1000 2018-08-01             408            52\n",
       "4     1000 2018-09-01             466            58"
      ]
     },
     "execution_count": 31,
     "metadata": {},
     "output_type": "execute_result"
    }
   ],
   "source": [
    "# Расчет количества сделанных звонков и израсходованных минут разговора по месяцам для каждого пользователя\n",
    "calls = df_calls.groupby(['user_id','month']).agg(calls_duration = pd.NamedAgg(column = 'duration', aggfunc = 'sum'), calls_number = ('id', 'count')).reset_index()\n",
    "calls.head(5)"
   ]
  },
  {
   "cell_type": "code",
   "execution_count": 32,
   "id": "4d791050",
   "metadata": {},
   "outputs": [
    {
     "data": {
      "text/html": [
       "<div>\n",
       "<style scoped>\n",
       "    .dataframe tbody tr th:only-of-type {\n",
       "        vertical-align: middle;\n",
       "    }\n",
       "\n",
       "    .dataframe tbody tr th {\n",
       "        vertical-align: top;\n",
       "    }\n",
       "\n",
       "    .dataframe thead th {\n",
       "        text-align: right;\n",
       "    }\n",
       "</style>\n",
       "<table border=\"1\" class=\"dataframe\">\n",
       "  <thead>\n",
       "    <tr style=\"text-align: right;\">\n",
       "      <th></th>\n",
       "      <th>user_id</th>\n",
       "      <th>month</th>\n",
       "      <th>msgs_number</th>\n",
       "    </tr>\n",
       "  </thead>\n",
       "  <tbody>\n",
       "    <tr>\n",
       "      <th>0</th>\n",
       "      <td>1000</td>\n",
       "      <td>2018-05-01</td>\n",
       "      <td>22</td>\n",
       "    </tr>\n",
       "    <tr>\n",
       "      <th>1</th>\n",
       "      <td>1000</td>\n",
       "      <td>2018-06-01</td>\n",
       "      <td>60</td>\n",
       "    </tr>\n",
       "    <tr>\n",
       "      <th>2</th>\n",
       "      <td>1000</td>\n",
       "      <td>2018-07-01</td>\n",
       "      <td>75</td>\n",
       "    </tr>\n",
       "    <tr>\n",
       "      <th>3</th>\n",
       "      <td>1000</td>\n",
       "      <td>2018-08-01</td>\n",
       "      <td>81</td>\n",
       "    </tr>\n",
       "    <tr>\n",
       "      <th>4</th>\n",
       "      <td>1000</td>\n",
       "      <td>2018-09-01</td>\n",
       "      <td>57</td>\n",
       "    </tr>\n",
       "  </tbody>\n",
       "</table>\n",
       "</div>"
      ],
      "text/plain": [
       "   user_id      month  msgs_number\n",
       "0     1000 2018-05-01           22\n",
       "1     1000 2018-06-01           60\n",
       "2     1000 2018-07-01           75\n",
       "3     1000 2018-08-01           81\n",
       "4     1000 2018-09-01           57"
      ]
     },
     "execution_count": 32,
     "metadata": {},
     "output_type": "execute_result"
    }
   ],
   "source": [
    "# Расчет количества отправленных сообщений по месяцам для каждого пользователя\n",
    "msgs = df_messages.groupby(['user_id','month']).agg(msgs_number = pd.NamedAgg(column = 'id', aggfunc = 'count')).reset_index()\n",
    "msgs.head(5)"
   ]
  },
  {
   "cell_type": "code",
   "execution_count": 33,
   "id": "0007de40",
   "metadata": {},
   "outputs": [],
   "source": [
    "# Расчет объема израсходованного интернет-трафика по месяцам для каждого пользователя\n",
    "#internet = df_internet.groupby(['user_id','month']).agg(mb_used = pd.NamedAgg(column = 'mb_used', aggfunc = 'sum')).reset_index()\n",
    "#internet.head(5)"
   ]
  },
  {
   "cell_type": "code",
   "execution_count": 34,
   "id": "c30cc620",
   "metadata": {},
   "outputs": [
    {
     "data": {
      "text/html": [
       "<div>\n",
       "<style scoped>\n",
       "    .dataframe tbody tr th:only-of-type {\n",
       "        vertical-align: middle;\n",
       "    }\n",
       "\n",
       "    .dataframe tbody tr th {\n",
       "        vertical-align: top;\n",
       "    }\n",
       "\n",
       "    .dataframe thead th {\n",
       "        text-align: right;\n",
       "    }\n",
       "</style>\n",
       "<table border=\"1\" class=\"dataframe\">\n",
       "  <thead>\n",
       "    <tr style=\"text-align: right;\">\n",
       "      <th></th>\n",
       "      <th>user_id</th>\n",
       "      <th>month</th>\n",
       "      <th>mb_used</th>\n",
       "    </tr>\n",
       "  </thead>\n",
       "  <tbody>\n",
       "    <tr>\n",
       "      <th>0</th>\n",
       "      <td>1000</td>\n",
       "      <td>2018-05-01</td>\n",
       "      <td>2253.49</td>\n",
       "    </tr>\n",
       "    <tr>\n",
       "      <th>1</th>\n",
       "      <td>1000</td>\n",
       "      <td>2018-06-01</td>\n",
       "      <td>23233.77</td>\n",
       "    </tr>\n",
       "    <tr>\n",
       "      <th>2</th>\n",
       "      <td>1000</td>\n",
       "      <td>2018-07-01</td>\n",
       "      <td>14003.64</td>\n",
       "    </tr>\n",
       "    <tr>\n",
       "      <th>3</th>\n",
       "      <td>1000</td>\n",
       "      <td>2018-08-01</td>\n",
       "      <td>14055.93</td>\n",
       "    </tr>\n",
       "    <tr>\n",
       "      <th>4</th>\n",
       "      <td>1000</td>\n",
       "      <td>2018-09-01</td>\n",
       "      <td>14568.91</td>\n",
       "    </tr>\n",
       "  </tbody>\n",
       "</table>\n",
       "</div>"
      ],
      "text/plain": [
       "   user_id      month   mb_used\n",
       "0     1000 2018-05-01   2253.49\n",
       "1     1000 2018-06-01  23233.77\n",
       "2     1000 2018-07-01  14003.64\n",
       "3     1000 2018-08-01  14055.93\n",
       "4     1000 2018-09-01  14568.91"
      ]
     },
     "execution_count": 34,
     "metadata": {},
     "output_type": "execute_result"
    }
   ],
   "source": [
    "# Расчет объема израсходованного интернет-трафика по месяцам для каждого пользователя по комментариям ревьюера\n",
    "internet = df_internet.groupby(['user_id','month']).agg(mb_used = ('mb_used', 'sum')).reset_index()\n",
    "internet.head(5)"
   ]
  },
  {
   "cell_type": "markdown",
   "id": "93200e3f",
   "metadata": {},
   "source": [
    "### Объединение данных из таблиц"
   ]
  },
  {
   "cell_type": "code",
   "execution_count": 35,
   "id": "ddb87f0e",
   "metadata": {},
   "outputs": [],
   "source": [
    "# Объединим данные таблиц calls и msgs в одну таблицу\n",
    "data = calls.merge(msgs, how='outer', on=['user_id', 'month'])"
   ]
  },
  {
   "cell_type": "code",
   "execution_count": 36,
   "id": "3cc5dc3e",
   "metadata": {
    "scrolled": true
   },
   "outputs": [],
   "source": [
    "# Добавим к сводной таблице данные из таблицы internet\n",
    "data = data.merge(internet, how='outer', on=['user_id', 'month'])"
   ]
  },
  {
   "cell_type": "code",
   "execution_count": 37,
   "id": "c476cec1",
   "metadata": {},
   "outputs": [],
   "source": [
    "# Добавим к сводной таблице данные из таблицы df_users\n",
    "data = data.merge(df_users, how='outer', on=['user_id'])"
   ]
  },
  {
   "cell_type": "code",
   "execution_count": 38,
   "id": "35bc0a28",
   "metadata": {},
   "outputs": [],
   "source": [
    "# С целью добавления к сводной таблице данных из таблицы df_tariffs по столбцу tariff, переименуем столбец tariff_name таблицы\n",
    "# df_tariffs на tariff.\n",
    "df_tariffs.rename(columns = {'tariff_name' : 'tariff'}, inplace = True)\n",
    "# df_tariffs"
   ]
  },
  {
   "cell_type": "code",
   "execution_count": 39,
   "id": "5097ffd1",
   "metadata": {},
   "outputs": [],
   "source": [
    "# Добавим к сводной таблице данные из таблицы df_tariffs\n",
    "data = data.merge(df_tariffs, how='outer', on=['tariff'])"
   ]
  },
  {
   "cell_type": "code",
   "execution_count": 40,
   "id": "79a8aa32",
   "metadata": {
    "scrolled": true
   },
   "outputs": [
    {
     "data": {
      "text/html": [
       "<div>\n",
       "<style scoped>\n",
       "    .dataframe tbody tr th:only-of-type {\n",
       "        vertical-align: middle;\n",
       "    }\n",
       "\n",
       "    .dataframe tbody tr th {\n",
       "        vertical-align: top;\n",
       "    }\n",
       "\n",
       "    .dataframe thead th {\n",
       "        text-align: right;\n",
       "    }\n",
       "</style>\n",
       "<table border=\"1\" class=\"dataframe\">\n",
       "  <thead>\n",
       "    <tr style=\"text-align: right;\">\n",
       "      <th></th>\n",
       "      <th>user_id</th>\n",
       "      <th>month</th>\n",
       "      <th>calls_duration</th>\n",
       "      <th>calls_number</th>\n",
       "      <th>msgs_number</th>\n",
       "      <th>mb_used</th>\n",
       "      <th>age</th>\n",
       "      <th>churn_date</th>\n",
       "      <th>city</th>\n",
       "      <th>first_name</th>\n",
       "      <th>last_name</th>\n",
       "      <th>reg_date</th>\n",
       "      <th>tariff</th>\n",
       "      <th>messages_included</th>\n",
       "      <th>mb_per_month_included</th>\n",
       "      <th>minutes_included</th>\n",
       "      <th>rub_monthly_fee</th>\n",
       "      <th>rub_per_gb</th>\n",
       "      <th>rub_per_message</th>\n",
       "      <th>rub_per_minute</th>\n",
       "    </tr>\n",
       "  </thead>\n",
       "  <tbody>\n",
       "    <tr>\n",
       "      <th>0</th>\n",
       "      <td>1000</td>\n",
       "      <td>2018-05-01</td>\n",
       "      <td>159.0</td>\n",
       "      <td>22.0</td>\n",
       "      <td>22.0</td>\n",
       "      <td>2253.49</td>\n",
       "      <td>52</td>\n",
       "      <td>NaN</td>\n",
       "      <td>Краснодар</td>\n",
       "      <td>Рафаил</td>\n",
       "      <td>Верещагин</td>\n",
       "      <td>2018-05-25</td>\n",
       "      <td>ultra</td>\n",
       "      <td>1000</td>\n",
       "      <td>30720</td>\n",
       "      <td>3000</td>\n",
       "      <td>1950</td>\n",
       "      <td>150</td>\n",
       "      <td>1</td>\n",
       "      <td>1</td>\n",
       "    </tr>\n",
       "    <tr>\n",
       "      <th>1</th>\n",
       "      <td>1000</td>\n",
       "      <td>2018-06-01</td>\n",
       "      <td>172.0</td>\n",
       "      <td>43.0</td>\n",
       "      <td>60.0</td>\n",
       "      <td>23233.77</td>\n",
       "      <td>52</td>\n",
       "      <td>NaN</td>\n",
       "      <td>Краснодар</td>\n",
       "      <td>Рафаил</td>\n",
       "      <td>Верещагин</td>\n",
       "      <td>2018-05-25</td>\n",
       "      <td>ultra</td>\n",
       "      <td>1000</td>\n",
       "      <td>30720</td>\n",
       "      <td>3000</td>\n",
       "      <td>1950</td>\n",
       "      <td>150</td>\n",
       "      <td>1</td>\n",
       "      <td>1</td>\n",
       "    </tr>\n",
       "    <tr>\n",
       "      <th>2</th>\n",
       "      <td>1000</td>\n",
       "      <td>2018-07-01</td>\n",
       "      <td>340.0</td>\n",
       "      <td>47.0</td>\n",
       "      <td>75.0</td>\n",
       "      <td>14003.64</td>\n",
       "      <td>52</td>\n",
       "      <td>NaN</td>\n",
       "      <td>Краснодар</td>\n",
       "      <td>Рафаил</td>\n",
       "      <td>Верещагин</td>\n",
       "      <td>2018-05-25</td>\n",
       "      <td>ultra</td>\n",
       "      <td>1000</td>\n",
       "      <td>30720</td>\n",
       "      <td>3000</td>\n",
       "      <td>1950</td>\n",
       "      <td>150</td>\n",
       "      <td>1</td>\n",
       "      <td>1</td>\n",
       "    </tr>\n",
       "    <tr>\n",
       "      <th>3</th>\n",
       "      <td>1000</td>\n",
       "      <td>2018-08-01</td>\n",
       "      <td>408.0</td>\n",
       "      <td>52.0</td>\n",
       "      <td>81.0</td>\n",
       "      <td>14055.93</td>\n",
       "      <td>52</td>\n",
       "      <td>NaN</td>\n",
       "      <td>Краснодар</td>\n",
       "      <td>Рафаил</td>\n",
       "      <td>Верещагин</td>\n",
       "      <td>2018-05-25</td>\n",
       "      <td>ultra</td>\n",
       "      <td>1000</td>\n",
       "      <td>30720</td>\n",
       "      <td>3000</td>\n",
       "      <td>1950</td>\n",
       "      <td>150</td>\n",
       "      <td>1</td>\n",
       "      <td>1</td>\n",
       "    </tr>\n",
       "    <tr>\n",
       "      <th>4</th>\n",
       "      <td>1000</td>\n",
       "      <td>2018-09-01</td>\n",
       "      <td>466.0</td>\n",
       "      <td>58.0</td>\n",
       "      <td>57.0</td>\n",
       "      <td>14568.91</td>\n",
       "      <td>52</td>\n",
       "      <td>NaN</td>\n",
       "      <td>Краснодар</td>\n",
       "      <td>Рафаил</td>\n",
       "      <td>Верещагин</td>\n",
       "      <td>2018-05-25</td>\n",
       "      <td>ultra</td>\n",
       "      <td>1000</td>\n",
       "      <td>30720</td>\n",
       "      <td>3000</td>\n",
       "      <td>1950</td>\n",
       "      <td>150</td>\n",
       "      <td>1</td>\n",
       "      <td>1</td>\n",
       "    </tr>\n",
       "  </tbody>\n",
       "</table>\n",
       "</div>"
      ],
      "text/plain": [
       "   user_id      month  calls_duration  calls_number  msgs_number   mb_used  \\\n",
       "0     1000 2018-05-01           159.0          22.0         22.0   2253.49   \n",
       "1     1000 2018-06-01           172.0          43.0         60.0  23233.77   \n",
       "2     1000 2018-07-01           340.0          47.0         75.0  14003.64   \n",
       "3     1000 2018-08-01           408.0          52.0         81.0  14055.93   \n",
       "4     1000 2018-09-01           466.0          58.0         57.0  14568.91   \n",
       "\n",
       "   age churn_date       city first_name  last_name    reg_date tariff  \\\n",
       "0   52        NaN  Краснодар     Рафаил  Верещагин  2018-05-25  ultra   \n",
       "1   52        NaN  Краснодар     Рафаил  Верещагин  2018-05-25  ultra   \n",
       "2   52        NaN  Краснодар     Рафаил  Верещагин  2018-05-25  ultra   \n",
       "3   52        NaN  Краснодар     Рафаил  Верещагин  2018-05-25  ultra   \n",
       "4   52        NaN  Краснодар     Рафаил  Верещагин  2018-05-25  ultra   \n",
       "\n",
       "   messages_included  mb_per_month_included  minutes_included  \\\n",
       "0               1000                  30720              3000   \n",
       "1               1000                  30720              3000   \n",
       "2               1000                  30720              3000   \n",
       "3               1000                  30720              3000   \n",
       "4               1000                  30720              3000   \n",
       "\n",
       "   rub_monthly_fee  rub_per_gb  rub_per_message  rub_per_minute  \n",
       "0             1950         150                1               1  \n",
       "1             1950         150                1               1  \n",
       "2             1950         150                1               1  \n",
       "3             1950         150                1               1  \n",
       "4             1950         150                1               1  "
      ]
     },
     "execution_count": 40,
     "metadata": {},
     "output_type": "execute_result"
    }
   ],
   "source": [
    "data.head()"
   ]
  },
  {
   "cell_type": "code",
   "execution_count": 41,
   "id": "dd9a124d",
   "metadata": {},
   "outputs": [
    {
     "data": {
      "text/html": [
       "<div>\n",
       "<style scoped>\n",
       "    .dataframe tbody tr th:only-of-type {\n",
       "        vertical-align: middle;\n",
       "    }\n",
       "\n",
       "    .dataframe tbody tr th {\n",
       "        vertical-align: top;\n",
       "    }\n",
       "\n",
       "    .dataframe thead th {\n",
       "        text-align: right;\n",
       "    }\n",
       "</style>\n",
       "<table border=\"1\" class=\"dataframe\">\n",
       "  <thead>\n",
       "    <tr style=\"text-align: right;\">\n",
       "      <th></th>\n",
       "      <th>user_id</th>\n",
       "      <th>month</th>\n",
       "      <th>calls_duration</th>\n",
       "      <th>calls_number</th>\n",
       "      <th>msgs_number</th>\n",
       "      <th>mb_used</th>\n",
       "      <th>age</th>\n",
       "      <th>churn_date</th>\n",
       "      <th>city</th>\n",
       "      <th>first_name</th>\n",
       "      <th>last_name</th>\n",
       "      <th>reg_date</th>\n",
       "      <th>tariff</th>\n",
       "      <th>messages_included</th>\n",
       "      <th>mb_per_month_included</th>\n",
       "      <th>minutes_included</th>\n",
       "      <th>rub_monthly_fee</th>\n",
       "      <th>rub_per_gb</th>\n",
       "      <th>rub_per_message</th>\n",
       "      <th>rub_per_minute</th>\n",
       "    </tr>\n",
       "  </thead>\n",
       "  <tbody>\n",
       "    <tr>\n",
       "      <th>934</th>\n",
       "      <td>1476</td>\n",
       "      <td>2018-04-01</td>\n",
       "      <td>NaN</td>\n",
       "      <td>NaN</td>\n",
       "      <td>NaN</td>\n",
       "      <td>530.78</td>\n",
       "      <td>50</td>\n",
       "      <td>NaN</td>\n",
       "      <td>Москва</td>\n",
       "      <td>Валентина</td>\n",
       "      <td>Семенова</td>\n",
       "      <td>2018-04-30</td>\n",
       "      <td>ultra</td>\n",
       "      <td>1000</td>\n",
       "      <td>30720</td>\n",
       "      <td>3000</td>\n",
       "      <td>1950</td>\n",
       "      <td>150</td>\n",
       "      <td>1</td>\n",
       "      <td>1</td>\n",
       "    </tr>\n",
       "    <tr>\n",
       "      <th>952</th>\n",
       "      <td>1091</td>\n",
       "      <td>2018-05-01</td>\n",
       "      <td>NaN</td>\n",
       "      <td>NaN</td>\n",
       "      <td>30.0</td>\n",
       "      <td>10703.37</td>\n",
       "      <td>36</td>\n",
       "      <td>NaN</td>\n",
       "      <td>Набережные Челны</td>\n",
       "      <td>Вера</td>\n",
       "      <td>Суслова</td>\n",
       "      <td>2018-05-08</td>\n",
       "      <td>ultra</td>\n",
       "      <td>1000</td>\n",
       "      <td>30720</td>\n",
       "      <td>3000</td>\n",
       "      <td>1950</td>\n",
       "      <td>150</td>\n",
       "      <td>1</td>\n",
       "      <td>1</td>\n",
       "    </tr>\n",
       "    <tr>\n",
       "      <th>953</th>\n",
       "      <td>1091</td>\n",
       "      <td>2018-06-01</td>\n",
       "      <td>NaN</td>\n",
       "      <td>NaN</td>\n",
       "      <td>30.0</td>\n",
       "      <td>10236.19</td>\n",
       "      <td>36</td>\n",
       "      <td>NaN</td>\n",
       "      <td>Набережные Челны</td>\n",
       "      <td>Вера</td>\n",
       "      <td>Суслова</td>\n",
       "      <td>2018-05-08</td>\n",
       "      <td>ultra</td>\n",
       "      <td>1000</td>\n",
       "      <td>30720</td>\n",
       "      <td>3000</td>\n",
       "      <td>1950</td>\n",
       "      <td>150</td>\n",
       "      <td>1</td>\n",
       "      <td>1</td>\n",
       "    </tr>\n",
       "    <tr>\n",
       "      <th>954</th>\n",
       "      <td>1091</td>\n",
       "      <td>2018-07-01</td>\n",
       "      <td>NaN</td>\n",
       "      <td>NaN</td>\n",
       "      <td>35.0</td>\n",
       "      <td>16444.98</td>\n",
       "      <td>36</td>\n",
       "      <td>NaN</td>\n",
       "      <td>Набережные Челны</td>\n",
       "      <td>Вера</td>\n",
       "      <td>Суслова</td>\n",
       "      <td>2018-05-08</td>\n",
       "      <td>ultra</td>\n",
       "      <td>1000</td>\n",
       "      <td>30720</td>\n",
       "      <td>3000</td>\n",
       "      <td>1950</td>\n",
       "      <td>150</td>\n",
       "      <td>1</td>\n",
       "      <td>1</td>\n",
       "    </tr>\n",
       "    <tr>\n",
       "      <th>955</th>\n",
       "      <td>1091</td>\n",
       "      <td>2018-08-01</td>\n",
       "      <td>NaN</td>\n",
       "      <td>NaN</td>\n",
       "      <td>31.0</td>\n",
       "      <td>12633.88</td>\n",
       "      <td>36</td>\n",
       "      <td>NaN</td>\n",
       "      <td>Набережные Челны</td>\n",
       "      <td>Вера</td>\n",
       "      <td>Суслова</td>\n",
       "      <td>2018-05-08</td>\n",
       "      <td>ultra</td>\n",
       "      <td>1000</td>\n",
       "      <td>30720</td>\n",
       "      <td>3000</td>\n",
       "      <td>1950</td>\n",
       "      <td>150</td>\n",
       "      <td>1</td>\n",
       "      <td>1</td>\n",
       "    </tr>\n",
       "  </tbody>\n",
       "</table>\n",
       "</div>"
      ],
      "text/plain": [
       "     user_id      month  calls_duration  calls_number  msgs_number   mb_used  \\\n",
       "934     1476 2018-04-01             NaN           NaN          NaN    530.78   \n",
       "952     1091 2018-05-01             NaN           NaN         30.0  10703.37   \n",
       "953     1091 2018-06-01             NaN           NaN         30.0  10236.19   \n",
       "954     1091 2018-07-01             NaN           NaN         35.0  16444.98   \n",
       "955     1091 2018-08-01             NaN           NaN         31.0  12633.88   \n",
       "\n",
       "     age churn_date              city first_name last_name    reg_date tariff  \\\n",
       "934   50        NaN            Москва  Валентина  Семенова  2018-04-30  ultra   \n",
       "952   36        NaN  Набережные Челны       Вера   Суслова  2018-05-08  ultra   \n",
       "953   36        NaN  Набережные Челны       Вера   Суслова  2018-05-08  ultra   \n",
       "954   36        NaN  Набережные Челны       Вера   Суслова  2018-05-08  ultra   \n",
       "955   36        NaN  Набережные Челны       Вера   Суслова  2018-05-08  ultra   \n",
       "\n",
       "     messages_included  mb_per_month_included  minutes_included  \\\n",
       "934               1000                  30720              3000   \n",
       "952               1000                  30720              3000   \n",
       "953               1000                  30720              3000   \n",
       "954               1000                  30720              3000   \n",
       "955               1000                  30720              3000   \n",
       "\n",
       "     rub_monthly_fee  rub_per_gb  rub_per_message  rub_per_minute  \n",
       "934             1950         150                1               1  \n",
       "952             1950         150                1               1  \n",
       "953             1950         150                1               1  \n",
       "954             1950         150                1               1  \n",
       "955             1950         150                1               1  "
      ]
     },
     "execution_count": 41,
     "metadata": {},
     "output_type": "execute_result"
    }
   ],
   "source": [
    "data[data['calls_duration'].isnull()].head()"
   ]
  },
  {
   "cell_type": "code",
   "execution_count": 42,
   "id": "1f5c5aa8",
   "metadata": {},
   "outputs": [],
   "source": [
    "data['calls_duration'] = data['calls_duration'].replace(np.NaN, 0)\n",
    "data['calls_number'] = data['calls_number'].replace(np.NaN, 0)\n",
    "data['msgs_number'] = data['msgs_number'].replace(np.NaN, 0)\n",
    "data['mb_used'] = data['mb_used'].replace(np.NaN, 0)"
   ]
  },
  {
   "cell_type": "code",
   "execution_count": 43,
   "id": "01cd5c2e",
   "metadata": {},
   "outputs": [
    {
     "data": {
      "text/html": [
       "<div>\n",
       "<style scoped>\n",
       "    .dataframe tbody tr th:only-of-type {\n",
       "        vertical-align: middle;\n",
       "    }\n",
       "\n",
       "    .dataframe tbody tr th {\n",
       "        vertical-align: top;\n",
       "    }\n",
       "\n",
       "    .dataframe thead th {\n",
       "        text-align: right;\n",
       "    }\n",
       "</style>\n",
       "<table border=\"1\" class=\"dataframe\">\n",
       "  <thead>\n",
       "    <tr style=\"text-align: right;\">\n",
       "      <th></th>\n",
       "      <th>user_id</th>\n",
       "      <th>month</th>\n",
       "      <th>calls_duration</th>\n",
       "      <th>calls_number</th>\n",
       "      <th>msgs_number</th>\n",
       "      <th>mb_used</th>\n",
       "      <th>age</th>\n",
       "      <th>churn_date</th>\n",
       "      <th>city</th>\n",
       "      <th>first_name</th>\n",
       "      <th>last_name</th>\n",
       "      <th>reg_date</th>\n",
       "      <th>tariff</th>\n",
       "      <th>messages_included</th>\n",
       "      <th>mb_per_month_included</th>\n",
       "      <th>minutes_included</th>\n",
       "      <th>rub_monthly_fee</th>\n",
       "      <th>rub_per_gb</th>\n",
       "      <th>rub_per_message</th>\n",
       "      <th>rub_per_minute</th>\n",
       "    </tr>\n",
       "  </thead>\n",
       "  <tbody>\n",
       "    <tr>\n",
       "      <th>985</th>\n",
       "      <td>1128</td>\n",
       "      <td>NaT</td>\n",
       "      <td>0.0</td>\n",
       "      <td>0.0</td>\n",
       "      <td>0.0</td>\n",
       "      <td>0.0</td>\n",
       "      <td>51</td>\n",
       "      <td>2018-12-23</td>\n",
       "      <td>Волжский</td>\n",
       "      <td>Ксения</td>\n",
       "      <td>Агаева</td>\n",
       "      <td>2018-12-15</td>\n",
       "      <td>ultra</td>\n",
       "      <td>1000</td>\n",
       "      <td>30720</td>\n",
       "      <td>3000</td>\n",
       "      <td>1950</td>\n",
       "      <td>150</td>\n",
       "      <td>1</td>\n",
       "      <td>1</td>\n",
       "    </tr>\n",
       "    <tr>\n",
       "      <th>3215</th>\n",
       "      <td>1371</td>\n",
       "      <td>NaT</td>\n",
       "      <td>0.0</td>\n",
       "      <td>0.0</td>\n",
       "      <td>0.0</td>\n",
       "      <td>0.0</td>\n",
       "      <td>50</td>\n",
       "      <td>2018-12-30</td>\n",
       "      <td>Омск</td>\n",
       "      <td>Ириней</td>\n",
       "      <td>Трофимов</td>\n",
       "      <td>2018-12-25</td>\n",
       "      <td>smart</td>\n",
       "      <td>50</td>\n",
       "      <td>15360</td>\n",
       "      <td>500</td>\n",
       "      <td>550</td>\n",
       "      <td>200</td>\n",
       "      <td>3</td>\n",
       "      <td>3</td>\n",
       "    </tr>\n",
       "  </tbody>\n",
       "</table>\n",
       "</div>"
      ],
      "text/plain": [
       "      user_id month  calls_duration  calls_number  msgs_number  mb_used  age  \\\n",
       "985      1128   NaT             0.0           0.0          0.0      0.0   51   \n",
       "3215     1371   NaT             0.0           0.0          0.0      0.0   50   \n",
       "\n",
       "      churn_date      city first_name last_name    reg_date tariff  \\\n",
       "985   2018-12-23  Волжский     Ксения    Агаева  2018-12-15  ultra   \n",
       "3215  2018-12-30      Омск     Ириней  Трофимов  2018-12-25  smart   \n",
       "\n",
       "      messages_included  mb_per_month_included  minutes_included  \\\n",
       "985                1000                  30720              3000   \n",
       "3215                 50                  15360               500   \n",
       "\n",
       "      rub_monthly_fee  rub_per_gb  rub_per_message  rub_per_minute  \n",
       "985              1950         150                1               1  \n",
       "3215              550         200                3               3  "
      ]
     },
     "execution_count": 43,
     "metadata": {},
     "output_type": "execute_result"
    }
   ],
   "source": [
    "# В таблицу попали два клиента, которые не пользовались услугами тарифов\n",
    "data[data['month'].isnull()]"
   ]
  },
  {
   "cell_type": "code",
   "execution_count": 44,
   "id": "cd4bc425",
   "metadata": {},
   "outputs": [],
   "source": [
    "# удалим строки с данными клиентами.\n",
    "data.loc[data['user_id'] == 1128,'user_id'] = None\n",
    "data.loc[data['user_id'] == 1371,'user_id'] = None\n",
    "data = data.dropna(subset=['user_id'])\n",
    "# data[data['month'].isnull()]"
   ]
  },
  {
   "cell_type": "code",
   "execution_count": 45,
   "id": "27de7f55",
   "metadata": {},
   "outputs": [],
   "source": [
    "# data[data['msgs_number'].isnull()].head()"
   ]
  },
  {
   "cell_type": "markdown",
   "id": "ec2b6c01",
   "metadata": {},
   "source": [
    "###  Расчитаем помесячную выручку с каждого пользователя"
   ]
  },
  {
   "cell_type": "code",
   "execution_count": 46,
   "id": "0a22ccfc",
   "metadata": {},
   "outputs": [],
   "source": [
    "# Расчитаем помесячную выручку с каждого пользователя с помощью функции\n",
    "def calculate_revenue(pay):\n",
    "    tariff_fee = pay['rub_monthly_fee']\n",
    "    if (pay['calls_duration'] > pay['minutes_included']):\n",
    "        tariff_fee += (pay['calls_duration'] - pay['minutes_included']) * pay['rub_per_minute']  \n",
    "    if(pay['msgs_number'] > pay['messages_included']):\n",
    "        tariff_fee += (pay['msgs_number'] - pay['messages_included']) * pay['rub_per_message']   \n",
    "    if (pay['mb_used'] /1024 > pay['mb_per_month_included'] / 1024):\n",
    "        tariff_fee += np.ceil(pay['mb_used']/1024 - pay['mb_per_month_included'] / 1024) * pay['rub_per_gb']\n",
    "    return (tariff_fee)\n",
    "# в датасете data создадим столбец monthly_revenue с данными о месячной выручке каждого пользователя\n",
    "data['monthly_revenue'] = data.apply(calculate_revenue, axis=1)"
   ]
  },
  {
   "cell_type": "code",
   "execution_count": 47,
   "id": "fbcd185a",
   "metadata": {
    "scrolled": true
   },
   "outputs": [
    {
     "data": {
      "text/html": [
       "<div>\n",
       "<style scoped>\n",
       "    .dataframe tbody tr th:only-of-type {\n",
       "        vertical-align: middle;\n",
       "    }\n",
       "\n",
       "    .dataframe tbody tr th {\n",
       "        vertical-align: top;\n",
       "    }\n",
       "\n",
       "    .dataframe thead th {\n",
       "        text-align: right;\n",
       "    }\n",
       "</style>\n",
       "<table border=\"1\" class=\"dataframe\">\n",
       "  <thead>\n",
       "    <tr style=\"text-align: right;\">\n",
       "      <th></th>\n",
       "      <th>user_id</th>\n",
       "      <th>month</th>\n",
       "      <th>calls_duration</th>\n",
       "      <th>calls_number</th>\n",
       "      <th>msgs_number</th>\n",
       "      <th>mb_used</th>\n",
       "      <th>age</th>\n",
       "      <th>churn_date</th>\n",
       "      <th>city</th>\n",
       "      <th>first_name</th>\n",
       "      <th>...</th>\n",
       "      <th>reg_date</th>\n",
       "      <th>tariff</th>\n",
       "      <th>messages_included</th>\n",
       "      <th>mb_per_month_included</th>\n",
       "      <th>minutes_included</th>\n",
       "      <th>rub_monthly_fee</th>\n",
       "      <th>rub_per_gb</th>\n",
       "      <th>rub_per_message</th>\n",
       "      <th>rub_per_minute</th>\n",
       "      <th>monthly_revenue</th>\n",
       "    </tr>\n",
       "  </thead>\n",
       "  <tbody>\n",
       "    <tr>\n",
       "      <th>0</th>\n",
       "      <td>1000.0</td>\n",
       "      <td>2018-05-01</td>\n",
       "      <td>159.0</td>\n",
       "      <td>22.0</td>\n",
       "      <td>22.0</td>\n",
       "      <td>2253.49</td>\n",
       "      <td>52</td>\n",
       "      <td>NaN</td>\n",
       "      <td>Краснодар</td>\n",
       "      <td>Рафаил</td>\n",
       "      <td>...</td>\n",
       "      <td>2018-05-25</td>\n",
       "      <td>ultra</td>\n",
       "      <td>1000</td>\n",
       "      <td>30720</td>\n",
       "      <td>3000</td>\n",
       "      <td>1950</td>\n",
       "      <td>150</td>\n",
       "      <td>1</td>\n",
       "      <td>1</td>\n",
       "      <td>1950.0</td>\n",
       "    </tr>\n",
       "    <tr>\n",
       "      <th>1</th>\n",
       "      <td>1000.0</td>\n",
       "      <td>2018-06-01</td>\n",
       "      <td>172.0</td>\n",
       "      <td>43.0</td>\n",
       "      <td>60.0</td>\n",
       "      <td>23233.77</td>\n",
       "      <td>52</td>\n",
       "      <td>NaN</td>\n",
       "      <td>Краснодар</td>\n",
       "      <td>Рафаил</td>\n",
       "      <td>...</td>\n",
       "      <td>2018-05-25</td>\n",
       "      <td>ultra</td>\n",
       "      <td>1000</td>\n",
       "      <td>30720</td>\n",
       "      <td>3000</td>\n",
       "      <td>1950</td>\n",
       "      <td>150</td>\n",
       "      <td>1</td>\n",
       "      <td>1</td>\n",
       "      <td>1950.0</td>\n",
       "    </tr>\n",
       "    <tr>\n",
       "      <th>2</th>\n",
       "      <td>1000.0</td>\n",
       "      <td>2018-07-01</td>\n",
       "      <td>340.0</td>\n",
       "      <td>47.0</td>\n",
       "      <td>75.0</td>\n",
       "      <td>14003.64</td>\n",
       "      <td>52</td>\n",
       "      <td>NaN</td>\n",
       "      <td>Краснодар</td>\n",
       "      <td>Рафаил</td>\n",
       "      <td>...</td>\n",
       "      <td>2018-05-25</td>\n",
       "      <td>ultra</td>\n",
       "      <td>1000</td>\n",
       "      <td>30720</td>\n",
       "      <td>3000</td>\n",
       "      <td>1950</td>\n",
       "      <td>150</td>\n",
       "      <td>1</td>\n",
       "      <td>1</td>\n",
       "      <td>1950.0</td>\n",
       "    </tr>\n",
       "    <tr>\n",
       "      <th>3</th>\n",
       "      <td>1000.0</td>\n",
       "      <td>2018-08-01</td>\n",
       "      <td>408.0</td>\n",
       "      <td>52.0</td>\n",
       "      <td>81.0</td>\n",
       "      <td>14055.93</td>\n",
       "      <td>52</td>\n",
       "      <td>NaN</td>\n",
       "      <td>Краснодар</td>\n",
       "      <td>Рафаил</td>\n",
       "      <td>...</td>\n",
       "      <td>2018-05-25</td>\n",
       "      <td>ultra</td>\n",
       "      <td>1000</td>\n",
       "      <td>30720</td>\n",
       "      <td>3000</td>\n",
       "      <td>1950</td>\n",
       "      <td>150</td>\n",
       "      <td>1</td>\n",
       "      <td>1</td>\n",
       "      <td>1950.0</td>\n",
       "    </tr>\n",
       "    <tr>\n",
       "      <th>4</th>\n",
       "      <td>1000.0</td>\n",
       "      <td>2018-09-01</td>\n",
       "      <td>466.0</td>\n",
       "      <td>58.0</td>\n",
       "      <td>57.0</td>\n",
       "      <td>14568.91</td>\n",
       "      <td>52</td>\n",
       "      <td>NaN</td>\n",
       "      <td>Краснодар</td>\n",
       "      <td>Рафаил</td>\n",
       "      <td>...</td>\n",
       "      <td>2018-05-25</td>\n",
       "      <td>ultra</td>\n",
       "      <td>1000</td>\n",
       "      <td>30720</td>\n",
       "      <td>3000</td>\n",
       "      <td>1950</td>\n",
       "      <td>150</td>\n",
       "      <td>1</td>\n",
       "      <td>1</td>\n",
       "      <td>1950.0</td>\n",
       "    </tr>\n",
       "  </tbody>\n",
       "</table>\n",
       "<p>5 rows × 21 columns</p>\n",
       "</div>"
      ],
      "text/plain": [
       "   user_id      month  calls_duration  calls_number  msgs_number   mb_used  \\\n",
       "0   1000.0 2018-05-01           159.0          22.0         22.0   2253.49   \n",
       "1   1000.0 2018-06-01           172.0          43.0         60.0  23233.77   \n",
       "2   1000.0 2018-07-01           340.0          47.0         75.0  14003.64   \n",
       "3   1000.0 2018-08-01           408.0          52.0         81.0  14055.93   \n",
       "4   1000.0 2018-09-01           466.0          58.0         57.0  14568.91   \n",
       "\n",
       "   age churn_date       city first_name  ...    reg_date tariff  \\\n",
       "0   52        NaN  Краснодар     Рафаил  ...  2018-05-25  ultra   \n",
       "1   52        NaN  Краснодар     Рафаил  ...  2018-05-25  ultra   \n",
       "2   52        NaN  Краснодар     Рафаил  ...  2018-05-25  ultra   \n",
       "3   52        NaN  Краснодар     Рафаил  ...  2018-05-25  ultra   \n",
       "4   52        NaN  Краснодар     Рафаил  ...  2018-05-25  ultra   \n",
       "\n",
       "  messages_included  mb_per_month_included  minutes_included  rub_monthly_fee  \\\n",
       "0              1000                  30720              3000             1950   \n",
       "1              1000                  30720              3000             1950   \n",
       "2              1000                  30720              3000             1950   \n",
       "3              1000                  30720              3000             1950   \n",
       "4              1000                  30720              3000             1950   \n",
       "\n",
       "   rub_per_gb  rub_per_message  rub_per_minute  monthly_revenue  \n",
       "0         150                1               1           1950.0  \n",
       "1         150                1               1           1950.0  \n",
       "2         150                1               1           1950.0  \n",
       "3         150                1               1           1950.0  \n",
       "4         150                1               1           1950.0  \n",
       "\n",
       "[5 rows x 21 columns]"
      ]
     },
     "execution_count": 47,
     "metadata": {},
     "output_type": "execute_result"
    }
   ],
   "source": [
    "data.head()"
   ]
  },
  {
   "cell_type": "markdown",
   "id": "83d37418",
   "metadata": {},
   "source": [
    "### Выводы: \n",
    "- В данном пункте рассчитали для каждого пользователя данные о количестве сделанных звонков и израсходованных минут, отправленных сообщений, объем израсходованного интернет-трафика по месяцам.\n",
    "- Кроме того, объединили все используемые таблицы в одну сводную и добавили столбец с помесячной выручкой с каждого пользователя в зависимости от выбранного тарифа."
   ]
  },
  {
   "cell_type": "markdown",
   "id": "33f05cc1",
   "metadata": {},
   "source": [
    "## **Анализ данных**"
   ]
  },
  {
   "cell_type": "markdown",
   "id": "707ddf5b",
   "metadata": {},
   "source": [
    "Задание:\n",
    "- Опишите поведение клиентов оператора, исходя из выборки. \n",
    "- Сколько минут разговора, сколько сообщений и какой объём интернет-трафика требуется пользователям каждого тарифа в месяц? \n",
    "- Посчитайте среднее количество, дисперсию и стандартное отклонение. \n",
    "- Постройте гистограммы. \n",
    "- Опишите распределения."
   ]
  },
  {
   "cell_type": "code",
   "execution_count": 48,
   "id": "34eb9b73",
   "metadata": {},
   "outputs": [
    {
     "data": {
      "text/html": [
       "<div>\n",
       "<style scoped>\n",
       "    .dataframe tbody tr th:only-of-type {\n",
       "        vertical-align: middle;\n",
       "    }\n",
       "\n",
       "    .dataframe tbody tr th {\n",
       "        vertical-align: top;\n",
       "    }\n",
       "\n",
       "    .dataframe thead th {\n",
       "        text-align: right;\n",
       "    }\n",
       "</style>\n",
       "<table border=\"1\" class=\"dataframe\">\n",
       "  <thead>\n",
       "    <tr style=\"text-align: right;\">\n",
       "      <th></th>\n",
       "      <th>user_id</th>\n",
       "      <th>calls_duration</th>\n",
       "      <th>calls_number</th>\n",
       "      <th>msgs_number</th>\n",
       "      <th>mb_used</th>\n",
       "      <th>age</th>\n",
       "      <th>messages_included</th>\n",
       "      <th>mb_per_month_included</th>\n",
       "      <th>minutes_included</th>\n",
       "      <th>rub_monthly_fee</th>\n",
       "      <th>rub_per_gb</th>\n",
       "      <th>rub_per_message</th>\n",
       "      <th>rub_per_minute</th>\n",
       "      <th>monthly_revenue</th>\n",
       "    </tr>\n",
       "  </thead>\n",
       "  <tbody>\n",
       "    <tr>\n",
       "      <th>count</th>\n",
       "      <td>3214.000000</td>\n",
       "      <td>3214.000000</td>\n",
       "      <td>3214.000000</td>\n",
       "      <td>3214.000000</td>\n",
       "      <td>3214.000000</td>\n",
       "      <td>3214.000000</td>\n",
       "      <td>3214.000000</td>\n",
       "      <td>3214.000000</td>\n",
       "      <td>3214.000000</td>\n",
       "      <td>3214.000000</td>\n",
       "      <td>3214.000000</td>\n",
       "      <td>3214.000000</td>\n",
       "      <td>3214.000000</td>\n",
       "      <td>3214.000000</td>\n",
       "    </tr>\n",
       "    <tr>\n",
       "      <th>mean</th>\n",
       "      <td>1251.590230</td>\n",
       "      <td>451.244866</td>\n",
       "      <td>63.038892</td>\n",
       "      <td>38.281269</td>\n",
       "      <td>17207.612859</td>\n",
       "      <td>46.641568</td>\n",
       "      <td>341.148102</td>\n",
       "      <td>20067.405103</td>\n",
       "      <td>1266.179216</td>\n",
       "      <td>979.060361</td>\n",
       "      <td>184.676416</td>\n",
       "      <td>2.387057</td>\n",
       "      <td>2.387057</td>\n",
       "      <td>1529.076229</td>\n",
       "    </tr>\n",
       "    <tr>\n",
       "      <th>std</th>\n",
       "      <td>144.659172</td>\n",
       "      <td>241.909978</td>\n",
       "      <td>33.236368</td>\n",
       "      <td>36.148326</td>\n",
       "      <td>7570.958771</td>\n",
       "      <td>16.586109</td>\n",
       "      <td>438.044726</td>\n",
       "      <td>7082.491569</td>\n",
       "      <td>1152.749279</td>\n",
       "      <td>645.539596</td>\n",
       "      <td>23.054986</td>\n",
       "      <td>0.922199</td>\n",
       "      <td>0.922199</td>\n",
       "      <td>798.251091</td>\n",
       "    </tr>\n",
       "    <tr>\n",
       "      <th>min</th>\n",
       "      <td>1000.000000</td>\n",
       "      <td>0.000000</td>\n",
       "      <td>0.000000</td>\n",
       "      <td>0.000000</td>\n",
       "      <td>0.000000</td>\n",
       "      <td>18.000000</td>\n",
       "      <td>50.000000</td>\n",
       "      <td>15360.000000</td>\n",
       "      <td>500.000000</td>\n",
       "      <td>550.000000</td>\n",
       "      <td>150.000000</td>\n",
       "      <td>1.000000</td>\n",
       "      <td>1.000000</td>\n",
       "      <td>550.000000</td>\n",
       "    </tr>\n",
       "    <tr>\n",
       "      <th>25%</th>\n",
       "      <td>1125.000000</td>\n",
       "      <td>282.000000</td>\n",
       "      <td>40.000000</td>\n",
       "      <td>9.000000</td>\n",
       "      <td>12491.890000</td>\n",
       "      <td>32.000000</td>\n",
       "      <td>50.000000</td>\n",
       "      <td>15360.000000</td>\n",
       "      <td>500.000000</td>\n",
       "      <td>550.000000</td>\n",
       "      <td>150.000000</td>\n",
       "      <td>1.000000</td>\n",
       "      <td>1.000000</td>\n",
       "      <td>750.000000</td>\n",
       "    </tr>\n",
       "    <tr>\n",
       "      <th>50%</th>\n",
       "      <td>1253.000000</td>\n",
       "      <td>443.000000</td>\n",
       "      <td>62.000000</td>\n",
       "      <td>30.000000</td>\n",
       "      <td>16943.175000</td>\n",
       "      <td>46.000000</td>\n",
       "      <td>50.000000</td>\n",
       "      <td>15360.000000</td>\n",
       "      <td>500.000000</td>\n",
       "      <td>550.000000</td>\n",
       "      <td>200.000000</td>\n",
       "      <td>3.000000</td>\n",
       "      <td>3.000000</td>\n",
       "      <td>1653.500000</td>\n",
       "    </tr>\n",
       "    <tr>\n",
       "      <th>75%</th>\n",
       "      <td>1378.750000</td>\n",
       "      <td>589.000000</td>\n",
       "      <td>82.000000</td>\n",
       "      <td>57.000000</td>\n",
       "      <td>21424.625000</td>\n",
       "      <td>62.000000</td>\n",
       "      <td>1000.000000</td>\n",
       "      <td>30720.000000</td>\n",
       "      <td>3000.000000</td>\n",
       "      <td>1950.000000</td>\n",
       "      <td>200.000000</td>\n",
       "      <td>3.000000</td>\n",
       "      <td>3.000000</td>\n",
       "      <td>1950.000000</td>\n",
       "    </tr>\n",
       "    <tr>\n",
       "      <th>max</th>\n",
       "      <td>1499.000000</td>\n",
       "      <td>1673.000000</td>\n",
       "      <td>244.000000</td>\n",
       "      <td>224.000000</td>\n",
       "      <td>49745.690000</td>\n",
       "      <td>75.000000</td>\n",
       "      <td>1000.000000</td>\n",
       "      <td>30720.000000</td>\n",
       "      <td>3000.000000</td>\n",
       "      <td>1950.000000</td>\n",
       "      <td>200.000000</td>\n",
       "      <td>3.000000</td>\n",
       "      <td>3.000000</td>\n",
       "      <td>6770.000000</td>\n",
       "    </tr>\n",
       "  </tbody>\n",
       "</table>\n",
       "</div>"
      ],
      "text/plain": [
       "           user_id  calls_duration  calls_number  msgs_number       mb_used  \\\n",
       "count  3214.000000     3214.000000   3214.000000  3214.000000   3214.000000   \n",
       "mean   1251.590230      451.244866     63.038892    38.281269  17207.612859   \n",
       "std     144.659172      241.909978     33.236368    36.148326   7570.958771   \n",
       "min    1000.000000        0.000000      0.000000     0.000000      0.000000   \n",
       "25%    1125.000000      282.000000     40.000000     9.000000  12491.890000   \n",
       "50%    1253.000000      443.000000     62.000000    30.000000  16943.175000   \n",
       "75%    1378.750000      589.000000     82.000000    57.000000  21424.625000   \n",
       "max    1499.000000     1673.000000    244.000000   224.000000  49745.690000   \n",
       "\n",
       "               age  messages_included  mb_per_month_included  \\\n",
       "count  3214.000000        3214.000000            3214.000000   \n",
       "mean     46.641568         341.148102           20067.405103   \n",
       "std      16.586109         438.044726            7082.491569   \n",
       "min      18.000000          50.000000           15360.000000   \n",
       "25%      32.000000          50.000000           15360.000000   \n",
       "50%      46.000000          50.000000           15360.000000   \n",
       "75%      62.000000        1000.000000           30720.000000   \n",
       "max      75.000000        1000.000000           30720.000000   \n",
       "\n",
       "       minutes_included  rub_monthly_fee   rub_per_gb  rub_per_message  \\\n",
       "count       3214.000000      3214.000000  3214.000000      3214.000000   \n",
       "mean        1266.179216       979.060361   184.676416         2.387057   \n",
       "std         1152.749279       645.539596    23.054986         0.922199   \n",
       "min          500.000000       550.000000   150.000000         1.000000   \n",
       "25%          500.000000       550.000000   150.000000         1.000000   \n",
       "50%          500.000000       550.000000   200.000000         3.000000   \n",
       "75%         3000.000000      1950.000000   200.000000         3.000000   \n",
       "max         3000.000000      1950.000000   200.000000         3.000000   \n",
       "\n",
       "       rub_per_minute  monthly_revenue  \n",
       "count     3214.000000      3214.000000  \n",
       "mean         2.387057      1529.076229  \n",
       "std          0.922199       798.251091  \n",
       "min          1.000000       550.000000  \n",
       "25%          1.000000       750.000000  \n",
       "50%          3.000000      1653.500000  \n",
       "75%          3.000000      1950.000000  \n",
       "max          3.000000      6770.000000  "
      ]
     },
     "execution_count": 48,
     "metadata": {},
     "output_type": "execute_result"
    }
   ],
   "source": [
    "# Проведем анализ данных\n",
    "data.describe()\n",
    "# data[data['tariff'] == 'ultra'].mean()\n",
    "# data[data['tariff'] == 'smart'].mean()\n"
   ]
  },
  {
   "cell_type": "code",
   "execution_count": 49,
   "id": "c55fe610",
   "metadata": {
    "scrolled": true
   },
   "outputs": [
    {
     "data": {
      "text/plain": [
       "<AxesSubplot:>"
      ]
     },
     "execution_count": 49,
     "metadata": {},
     "output_type": "execute_result"
    },
    {
     "data": {
      "image/png": "[encoded data removed]",
      "text/plain": [
       "<Figure size 1512x432 with 2 Axes>"
      ]
     },
     "metadata": {
      "needs_background": "light"
     },
     "output_type": "display_data"
    }
   ],
   "source": [
    "# Проведем сравнение тарифов ULTRA И SMART по минутам разговора\n",
    "fig = plt.figure(figsize = (21,6))\n",
    "data[data['tariff'] == 'ultra'].boxplot('calls_duration', ax = plt.subplot(1,2,1))\n",
    "data[data['tariff'] == 'smart'].boxplot('calls_duration', ax = plt.subplot(1,2,2))"
   ]
  },
  {
   "cell_type": "markdown",
   "id": "fa847a2b",
   "metadata": {},
   "source": [
    "- Пользователи тарифа Смарт (среднее 419 мин) в месяц тратят меньше минут разговора, чем пользователи тарифа Ультра (среднее 545 мин).\n",
    "- На тарифе Смарт пользователи часто не укладываются в лимиты и доплачивают за звонки."
   ]
  },
  {
   "cell_type": "markdown",
   "id": "961b2309",
   "metadata": {},
   "source": [
    "Также для сравнения тарифов построим гистограммы для столбцов с данными о количестве звонков, израсходованных минут, отправленных сообщений и объема израсходованного интернет-трафика по месяцам."
   ]
  },
  {
   "cell_type": "code",
   "execution_count": 50,
   "id": "65ce306d",
   "metadata": {},
   "outputs": [],
   "source": [
    "def hist_maker_and_table(df, name,x_1_smart,x_2_ultra):\n",
    "    cd = df.groupby(df.tariff)[name]\n",
    "    cd_desc = cd.describe(percentiles = [.01,.25,.75,.99])\n",
    "    cd_desc['var']= [np.var(cd.get_group('smart'), ddof=1), np.var(cd.get_group('ultra'), ddof=1)]\n",
    "    display(cd_desc)\n",
    "    smart = df.query('tariff == \"smart\"')[name]\n",
    "    ultra = df.query('tariff == \"ultra\"')[name]\n",
    "    plt.figure(figsize=(10,6))\n",
    "    plt.hist(smart, bins=50, color='blue', edgecolor='grey', alpha=0.5, label = 'smart', density = False)\n",
    "    plt.hist(ultra, bins=50, color='orange', edgecolor='grey', alpha=0.5,label = 'ultra', density = False)"
   ]
  },
  {
   "cell_type": "code",
   "execution_count": 51,
   "id": "f016baf8",
   "metadata": {
    "scrolled": true
   },
   "outputs": [
    {
     "data": {
      "text/html": [
       "<div>\n",
       "<style scoped>\n",
       "    .dataframe tbody tr th:only-of-type {\n",
       "        vertical-align: middle;\n",
       "    }\n",
       "\n",
       "    .dataframe tbody tr th {\n",
       "        vertical-align: top;\n",
       "    }\n",
       "\n",
       "    .dataframe thead th {\n",
       "        text-align: right;\n",
       "    }\n",
       "</style>\n",
       "<table border=\"1\" class=\"dataframe\">\n",
       "  <thead>\n",
       "    <tr style=\"text-align: right;\">\n",
       "      <th></th>\n",
       "      <th>count</th>\n",
       "      <th>mean</th>\n",
       "      <th>std</th>\n",
       "      <th>min</th>\n",
       "      <th>1%</th>\n",
       "      <th>25%</th>\n",
       "      <th>50%</th>\n",
       "      <th>75%</th>\n",
       "      <th>99%</th>\n",
       "      <th>max</th>\n",
       "      <th>var</th>\n",
       "    </tr>\n",
       "    <tr>\n",
       "      <th>tariff</th>\n",
       "      <th></th>\n",
       "      <th></th>\n",
       "      <th></th>\n",
       "      <th></th>\n",
       "      <th></th>\n",
       "      <th></th>\n",
       "      <th></th>\n",
       "      <th></th>\n",
       "      <th></th>\n",
       "      <th></th>\n",
       "      <th></th>\n",
       "    </tr>\n",
       "  </thead>\n",
       "  <tbody>\n",
       "    <tr>\n",
       "      <th>smart</th>\n",
       "      <td>2229.0</td>\n",
       "      <td>417.934948</td>\n",
       "      <td>190.313730</td>\n",
       "      <td>0.0</td>\n",
       "      <td>15.28</td>\n",
       "      <td>282.0</td>\n",
       "      <td>422.0</td>\n",
       "      <td>545.0</td>\n",
       "      <td>872.72</td>\n",
       "      <td>1435.0</td>\n",
       "      <td>36219.315784</td>\n",
       "    </tr>\n",
       "    <tr>\n",
       "      <th>ultra</th>\n",
       "      <td>985.0</td>\n",
       "      <td>526.623350</td>\n",
       "      <td>317.606098</td>\n",
       "      <td>0.0</td>\n",
       "      <td>0.00</td>\n",
       "      <td>284.0</td>\n",
       "      <td>518.0</td>\n",
       "      <td>752.0</td>\n",
       "      <td>1291.12</td>\n",
       "      <td>1673.0</td>\n",
       "      <td>100873.633397</td>\n",
       "    </tr>\n",
       "  </tbody>\n",
       "</table>\n",
       "</div>"
      ],
      "text/plain": [
       "         count        mean         std  min     1%    25%    50%    75%  \\\n",
       "tariff                                                                    \n",
       "smart   2229.0  417.934948  190.313730  0.0  15.28  282.0  422.0  545.0   \n",
       "ultra    985.0  526.623350  317.606098  0.0   0.00  284.0  518.0  752.0   \n",
       "\n",
       "            99%     max            var  \n",
       "tariff                                  \n",
       "smart    872.72  1435.0   36219.315784  \n",
       "ultra   1291.12  1673.0  100873.633397  "
      ]
     },
     "metadata": {},
     "output_type": "display_data"
    },
    {
     "data": {
      "image/png": "[encoded data removed]",
      "text/plain": [
       "<Figure size 720x432 with 1 Axes>"
      ]
     },
     "metadata": {
      "needs_background": "light"
     },
     "output_type": "display_data"
    }
   ],
   "source": [
    "# Построим гистограмму для данных о длительности звонков\n",
    "hist_maker_and_table(data,'calls_duration',500,3000)"
   ]
  },
  {
   "cell_type": "markdown",
   "id": "cd350664",
   "metadata": {},
   "source": [
    "Из данных гистограммы можно сделать выводы:\n",
    "- Среднее количество минут на тарифе Ультра (545) больше чем на тарифе Смарт (419). \n",
    "- Также величины стандартного отклонения и дисперсии на тарифе Ультра (307 и 94203) больше чем на тарифе Смарт (189 и 35844) соответственно.\n",
    "- Пользователи тарифа Ультра всегда укладываются в установленные лимиты. Максимальное число минут разговора в месяц значительно меньше заложенных в него 3000. \n",
    "- На тарифе Смарт пользователи часто не укладываются в лимиты (500) и доплачивают за звонки."
   ]
  },
  {
   "cell_type": "code",
   "execution_count": 52,
   "id": "d05c391c",
   "metadata": {
    "scrolled": true
   },
   "outputs": [
    {
     "data": {
      "text/html": [
       "<div>\n",
       "<style scoped>\n",
       "    .dataframe tbody tr th:only-of-type {\n",
       "        vertical-align: middle;\n",
       "    }\n",
       "\n",
       "    .dataframe tbody tr th {\n",
       "        vertical-align: top;\n",
       "    }\n",
       "\n",
       "    .dataframe thead th {\n",
       "        text-align: right;\n",
       "    }\n",
       "</style>\n",
       "<table border=\"1\" class=\"dataframe\">\n",
       "  <thead>\n",
       "    <tr style=\"text-align: right;\">\n",
       "      <th></th>\n",
       "      <th>count</th>\n",
       "      <th>mean</th>\n",
       "      <th>std</th>\n",
       "      <th>min</th>\n",
       "      <th>1%</th>\n",
       "      <th>25%</th>\n",
       "      <th>50%</th>\n",
       "      <th>75%</th>\n",
       "      <th>99%</th>\n",
       "      <th>max</th>\n",
       "      <th>var</th>\n",
       "    </tr>\n",
       "    <tr>\n",
       "      <th>tariff</th>\n",
       "      <th></th>\n",
       "      <th></th>\n",
       "      <th></th>\n",
       "      <th></th>\n",
       "      <th></th>\n",
       "      <th></th>\n",
       "      <th></th>\n",
       "      <th></th>\n",
       "      <th></th>\n",
       "      <th></th>\n",
       "      <th></th>\n",
       "    </tr>\n",
       "  </thead>\n",
       "  <tbody>\n",
       "    <tr>\n",
       "      <th>smart</th>\n",
       "      <td>2229.0</td>\n",
       "      <td>58.463437</td>\n",
       "      <td>25.939858</td>\n",
       "      <td>0.0</td>\n",
       "      <td>2.0</td>\n",
       "      <td>40.0</td>\n",
       "      <td>60.0</td>\n",
       "      <td>76.0</td>\n",
       "      <td>120.72</td>\n",
       "      <td>198.0</td>\n",
       "      <td>672.876243</td>\n",
       "    </tr>\n",
       "    <tr>\n",
       "      <th>ultra</th>\n",
       "      <td>985.0</td>\n",
       "      <td>73.392893</td>\n",
       "      <td>43.916853</td>\n",
       "      <td>0.0</td>\n",
       "      <td>0.0</td>\n",
       "      <td>41.0</td>\n",
       "      <td>74.0</td>\n",
       "      <td>104.0</td>\n",
       "      <td>182.16</td>\n",
       "      <td>244.0</td>\n",
       "      <td>1928.689990</td>\n",
       "    </tr>\n",
       "  </tbody>\n",
       "</table>\n",
       "</div>"
      ],
      "text/plain": [
       "         count       mean        std  min   1%   25%   50%    75%     99%  \\\n",
       "tariff                                                                      \n",
       "smart   2229.0  58.463437  25.939858  0.0  2.0  40.0  60.0   76.0  120.72   \n",
       "ultra    985.0  73.392893  43.916853  0.0  0.0  41.0  74.0  104.0  182.16   \n",
       "\n",
       "          max          var  \n",
       "tariff                      \n",
       "smart   198.0   672.876243  \n",
       "ultra   244.0  1928.689990  "
      ]
     },
     "metadata": {},
     "output_type": "display_data"
    },
    {
     "data": {
      "image/png": "[encoded data removed]",
      "text/plain": [
       "<Figure size 720x432 with 1 Axes>"
      ]
     },
     "metadata": {
      "needs_background": "light"
     },
     "output_type": "display_data"
    }
   ],
   "source": [
    "# Построим гистограмму для данных о количестве звонков\n",
    "hist_maker_and_table(data,'calls_number',50,300)"
   ]
  },
  {
   "cell_type": "markdown",
   "id": "19699c5d",
   "metadata": {},
   "source": [
    "Из данных гистограммы можно сделать выводы:\n",
    "- Среднее количество звонков на тарифе Ультра (76) больше чем на тарифе Смарт (58). \n",
    "- Также величины стандартного отклонения и дисперсии на тарифе Ультра (42 и 1798) больше чем на тарифе Смарт (25,8 и 665) соответственно."
   ]
  },
  {
   "cell_type": "code",
   "execution_count": 53,
   "id": "a2e736d7",
   "metadata": {},
   "outputs": [
    {
     "data": {
      "text/html": [
       "<div>\n",
       "<style scoped>\n",
       "    .dataframe tbody tr th:only-of-type {\n",
       "        vertical-align: middle;\n",
       "    }\n",
       "\n",
       "    .dataframe tbody tr th {\n",
       "        vertical-align: top;\n",
       "    }\n",
       "\n",
       "    .dataframe thead th {\n",
       "        text-align: right;\n",
       "    }\n",
       "</style>\n",
       "<table border=\"1\" class=\"dataframe\">\n",
       "  <thead>\n",
       "    <tr style=\"text-align: right;\">\n",
       "      <th></th>\n",
       "      <th>count</th>\n",
       "      <th>mean</th>\n",
       "      <th>std</th>\n",
       "      <th>min</th>\n",
       "      <th>1%</th>\n",
       "      <th>25%</th>\n",
       "      <th>50%</th>\n",
       "      <th>75%</th>\n",
       "      <th>99%</th>\n",
       "      <th>max</th>\n",
       "      <th>var</th>\n",
       "    </tr>\n",
       "    <tr>\n",
       "      <th>tariff</th>\n",
       "      <th></th>\n",
       "      <th></th>\n",
       "      <th></th>\n",
       "      <th></th>\n",
       "      <th></th>\n",
       "      <th></th>\n",
       "      <th></th>\n",
       "      <th></th>\n",
       "      <th></th>\n",
       "      <th></th>\n",
       "      <th></th>\n",
       "    </tr>\n",
       "  </thead>\n",
       "  <tbody>\n",
       "    <tr>\n",
       "      <th>smart</th>\n",
       "      <td>2229.0</td>\n",
       "      <td>33.384029</td>\n",
       "      <td>28.227876</td>\n",
       "      <td>0.0</td>\n",
       "      <td>0.0</td>\n",
       "      <td>10.0</td>\n",
       "      <td>28.0</td>\n",
       "      <td>51.0</td>\n",
       "      <td>108.00</td>\n",
       "      <td>143.0</td>\n",
       "      <td>796.812958</td>\n",
       "    </tr>\n",
       "    <tr>\n",
       "      <th>ultra</th>\n",
       "      <td>985.0</td>\n",
       "      <td>49.363452</td>\n",
       "      <td>47.804457</td>\n",
       "      <td>0.0</td>\n",
       "      <td>0.0</td>\n",
       "      <td>6.0</td>\n",
       "      <td>38.0</td>\n",
       "      <td>79.0</td>\n",
       "      <td>183.32</td>\n",
       "      <td>224.0</td>\n",
       "      <td>2285.266143</td>\n",
       "    </tr>\n",
       "  </tbody>\n",
       "</table>\n",
       "</div>"
      ],
      "text/plain": [
       "         count       mean        std  min   1%   25%   50%   75%     99%  \\\n",
       "tariff                                                                     \n",
       "smart   2229.0  33.384029  28.227876  0.0  0.0  10.0  28.0  51.0  108.00   \n",
       "ultra    985.0  49.363452  47.804457  0.0  0.0   6.0  38.0  79.0  183.32   \n",
       "\n",
       "          max          var  \n",
       "tariff                      \n",
       "smart   143.0   796.812958  \n",
       "ultra   224.0  2285.266143  "
      ]
     },
     "metadata": {},
     "output_type": "display_data"
    },
    {
     "data": {
      "image/png": "[encoded data removed]",
      "text/plain": [
       "<Figure size 720x432 with 1 Axes>"
      ]
     },
     "metadata": {
      "needs_background": "light"
     },
     "output_type": "display_data"
    }
   ],
   "source": [
    "# Построим гистограмму для данных о количестве сообщений\n",
    "hist_maker_and_table(data,'msgs_number',50,300)"
   ]
  },
  {
   "cell_type": "markdown",
   "id": "fb4d5ffd",
   "metadata": {},
   "source": [
    "Из данных гистограммы можно сделать выводы:\n",
    "- Среднее количество сообщений на тарифе Ультра (61) больше чем на тарифе Смарт (39). \n",
    "- Также величины стандартного отклонения и дисперсии на тарифе Ультра (46 и 2110) больше чем на тарифе Смарт (27 и 717) соответственно.\n",
    "- Пользователи тарифа Ультра всегда укладываются в установленные лимиты. Максимальное число сообщений в месяц значительно меньше заложенных в него 1000.\n",
    "- На тарифе Смарт пользователи часто не укладываются в лимиты (50) и доплачивают за сообщения сверх тарифного плана."
   ]
  },
  {
   "cell_type": "code",
   "execution_count": 54,
   "id": "639604bd",
   "metadata": {},
   "outputs": [
    {
     "data": {
      "text/html": [
       "<div>\n",
       "<style scoped>\n",
       "    .dataframe tbody tr th:only-of-type {\n",
       "        vertical-align: middle;\n",
       "    }\n",
       "\n",
       "    .dataframe tbody tr th {\n",
       "        vertical-align: top;\n",
       "    }\n",
       "\n",
       "    .dataframe thead th {\n",
       "        text-align: right;\n",
       "    }\n",
       "</style>\n",
       "<table border=\"1\" class=\"dataframe\">\n",
       "  <thead>\n",
       "    <tr style=\"text-align: right;\">\n",
       "      <th></th>\n",
       "      <th>count</th>\n",
       "      <th>mean</th>\n",
       "      <th>std</th>\n",
       "      <th>min</th>\n",
       "      <th>1%</th>\n",
       "      <th>25%</th>\n",
       "      <th>50%</th>\n",
       "      <th>75%</th>\n",
       "      <th>99%</th>\n",
       "      <th>max</th>\n",
       "      <th>var</th>\n",
       "    </tr>\n",
       "    <tr>\n",
       "      <th>tariff</th>\n",
       "      <th></th>\n",
       "      <th></th>\n",
       "      <th></th>\n",
       "      <th></th>\n",
       "      <th></th>\n",
       "      <th></th>\n",
       "      <th></th>\n",
       "      <th></th>\n",
       "      <th></th>\n",
       "      <th></th>\n",
       "      <th></th>\n",
       "    </tr>\n",
       "  </thead>\n",
       "  <tbody>\n",
       "    <tr>\n",
       "      <th>smart</th>\n",
       "      <td>2229.0</td>\n",
       "      <td>16208.386990</td>\n",
       "      <td>5870.476681</td>\n",
       "      <td>0.0</td>\n",
       "      <td>1496.0384</td>\n",
       "      <td>12643.01</td>\n",
       "      <td>16506.84</td>\n",
       "      <td>20042.93</td>\n",
       "      <td>29693.6956</td>\n",
       "      <td>38552.45</td>\n",
       "      <td>3.446250e+07</td>\n",
       "    </tr>\n",
       "    <tr>\n",
       "      <th>ultra</th>\n",
       "      <td>985.0</td>\n",
       "      <td>19468.805208</td>\n",
       "      <td>10087.170752</td>\n",
       "      <td>0.0</td>\n",
       "      <td>0.0000</td>\n",
       "      <td>11770.26</td>\n",
       "      <td>19308.01</td>\n",
       "      <td>26837.69</td>\n",
       "      <td>43005.9644</td>\n",
       "      <td>49745.69</td>\n",
       "      <td>1.017510e+08</td>\n",
       "    </tr>\n",
       "  </tbody>\n",
       "</table>\n",
       "</div>"
      ],
      "text/plain": [
       "         count          mean           std  min         1%       25%  \\\n",
       "tariff                                                                 \n",
       "smart   2229.0  16208.386990   5870.476681  0.0  1496.0384  12643.01   \n",
       "ultra    985.0  19468.805208  10087.170752  0.0     0.0000  11770.26   \n",
       "\n",
       "             50%       75%         99%       max           var  \n",
       "tariff                                                          \n",
       "smart   16506.84  20042.93  29693.6956  38552.45  3.446250e+07  \n",
       "ultra   19308.01  26837.69  43005.9644  49745.69  1.017510e+08  "
      ]
     },
     "metadata": {},
     "output_type": "display_data"
    },
    {
     "data": {
      "image/png": "[encoded data removed]",
      "text/plain": [
       "<Figure size 720x432 with 1 Axes>"
      ]
     },
     "metadata": {
      "needs_background": "light"
     },
     "output_type": "display_data"
    }
   ],
   "source": [
    "# Построим гистограмму для данных о количестве интернет-траффика\n",
    "hist_maker_and_table(data,'mb_used',50,300)"
   ]
  },
  {
   "cell_type": "markdown",
   "id": "d00a55a6",
   "metadata": {},
   "source": [
    "Из данных гистограммы можно сделать выводы:\n",
    "- Среднее количество интернет-траффика на тарифе Ультра (19668) больше чем на тарифе Смарт (16215).\n",
    "- Также величины стандартного отклонения и дисперсии на тарифе Ультра (9943) больше чем на тарифе Смарт (5862) соответственно.\n",
    "- Пользователи тарифа Ультра не всегда укладываются в установленные лимиты. Максимальное число интернет-траффика (50Гб) в месяц больше заложенных в него 30Гб.\n",
    "- На тарифе Смарт пользователи очень часто не укладываются в лимиты (30Гб) и доплачивают за сообщения сверх тарифного плана."
   ]
  },
  {
   "cell_type": "markdown",
   "id": "4c9551b2",
   "metadata": {},
   "source": [
    "### Выводы:\n",
    "- Пользователи тарифа Смарт в среднем в месяц тратят меньше минут разговора, чем пользователи тарифа Ультра.\n",
    "- На тарифе Смарт пользователи очень часто не укладываются в лимиты и доплачивают за превышения лимита по звонкам, сообщениям и интернет-траффиком.\n",
    "- Дисперсия и стандартное отклонение всегда выше на тарифе Ультра, но пользователи этого тарифа укладываются в установленные лимиты. \n",
    "- Максимальное число минут разговора, сообщений в месяц значительно меньше заложенных в тариф Ультра.\n",
    "- Пользователи тарифа Ультра не всегда укладываются в установленные лимиты интернет-траффика. Максимальное число интернет-траффика (50Гб) в месяц больше заложенных в него 30Гб."
   ]
  },
  {
   "cell_type": "code",
   "execution_count": 55,
   "id": "c09e679d",
   "metadata": {},
   "outputs": [
    {
     "data": {
      "text/html": [
       "<div>\n",
       "<style scoped>\n",
       "    .dataframe tbody tr th:only-of-type {\n",
       "        vertical-align: middle;\n",
       "    }\n",
       "\n",
       "    .dataframe tbody tr th {\n",
       "        vertical-align: top;\n",
       "    }\n",
       "\n",
       "    .dataframe thead tr th {\n",
       "        text-align: left;\n",
       "    }\n",
       "\n",
       "    .dataframe thead tr:last-of-type th {\n",
       "        text-align: right;\n",
       "    }\n",
       "</style>\n",
       "<table border=\"1\" class=\"dataframe\">\n",
       "  <thead>\n",
       "    <tr>\n",
       "      <th></th>\n",
       "      <th colspan=\"3\" halign=\"left\">var</th>\n",
       "      <th colspan=\"3\" halign=\"left\">std</th>\n",
       "      <th colspan=\"3\" halign=\"left\">mean</th>\n",
       "    </tr>\n",
       "    <tr>\n",
       "      <th></th>\n",
       "      <th>calls_duration</th>\n",
       "      <th>mb_used</th>\n",
       "      <th>msgs_number</th>\n",
       "      <th>calls_duration</th>\n",
       "      <th>mb_used</th>\n",
       "      <th>msgs_number</th>\n",
       "      <th>calls_duration</th>\n",
       "      <th>mb_used</th>\n",
       "      <th>msgs_number</th>\n",
       "    </tr>\n",
       "    <tr>\n",
       "      <th>tariff</th>\n",
       "      <th></th>\n",
       "      <th></th>\n",
       "      <th></th>\n",
       "      <th></th>\n",
       "      <th></th>\n",
       "      <th></th>\n",
       "      <th></th>\n",
       "      <th></th>\n",
       "      <th></th>\n",
       "    </tr>\n",
       "  </thead>\n",
       "  <tbody>\n",
       "    <tr>\n",
       "      <th>smart</th>\n",
       "      <td>36219.315784</td>\n",
       "      <td>3.446250e+07</td>\n",
       "      <td>796.812958</td>\n",
       "      <td>190.313730</td>\n",
       "      <td>5870.476681</td>\n",
       "      <td>28.227876</td>\n",
       "      <td>417.934948</td>\n",
       "      <td>16208.386990</td>\n",
       "      <td>33.384029</td>\n",
       "    </tr>\n",
       "    <tr>\n",
       "      <th>ultra</th>\n",
       "      <td>100873.633397</td>\n",
       "      <td>1.017510e+08</td>\n",
       "      <td>2285.266143</td>\n",
       "      <td>317.606098</td>\n",
       "      <td>10087.170752</td>\n",
       "      <td>47.804457</td>\n",
       "      <td>526.623350</td>\n",
       "      <td>19468.805208</td>\n",
       "      <td>49.363452</td>\n",
       "    </tr>\n",
       "  </tbody>\n",
       "</table>\n",
       "</div>"
      ],
      "text/plain": [
       "                  var                                       std                \\\n",
       "       calls_duration       mb_used  msgs_number calls_duration       mb_used   \n",
       "tariff                                                                          \n",
       "smart    36219.315784  3.446250e+07   796.812958     190.313730   5870.476681   \n",
       "ultra   100873.633397  1.017510e+08  2285.266143     317.606098  10087.170752   \n",
       "\n",
       "                             mean                            \n",
       "       msgs_number calls_duration       mb_used msgs_number  \n",
       "tariff                                                       \n",
       "smart    28.227876     417.934948  16208.386990   33.384029  \n",
       "ultra    47.804457     526.623350  19468.805208   49.363452  "
      ]
     },
     "execution_count": 55,
     "metadata": {},
     "output_type": "execute_result"
    }
   ],
   "source": [
    "# код ревьюера\n",
    "data.pivot_table(index = 'tariff', values = ['calls_duration', 'mb_used', 'msgs_number'],\n",
    "                            aggfunc = ['var', 'std', 'mean'])"
   ]
  },
  {
   "cell_type": "markdown",
   "id": "d6513281",
   "metadata": {},
   "source": [
    "## Проверка гипотез\n",
    "- средняя выручка пользователей тарифов «Ультра» и «Смарт» различается;\n",
    "- средняя выручка пользователей из Москвы отличается от выручки пользователей из других регионов.\n"
   ]
  },
  {
   "cell_type": "markdown",
   "id": "1283bbbe",
   "metadata": {},
   "source": [
    "### Гипотеза 1:\n",
    "Средняя выручка пользователей тарифов «Ультра» и «Смарт» различаются.\n",
    "- Нулевая гипотеза: Средняя выручка пользователей тарифов «Ультра» и «Смарт» равны, т.е. средние значения равны.\n",
    "\n",
    "- Альтернативная гипотеза: Средняя выручка пользователей тарифов «Ультра» и «Смарт» не равны, т.е. средние значения не равны.\n",
    "\n",
    "Дисперсии выборок отличаются более чем на 5%."
   ]
  },
  {
   "cell_type": "code",
   "execution_count": 56,
   "id": "3d80fa54",
   "metadata": {},
   "outputs": [
    {
     "name": "stdout",
     "output_type": "stream",
     "text": [
      "p-значение:  1.4229814360764067e-160\n",
      "Принимаем альтернативную гипотезу\n"
     ]
    }
   ],
   "source": [
    "sample_1 = data[data['tariff'] == 'ultra']['monthly_revenue'] \n",
    "sample_2 = data[data['tariff'] == 'smart']['monthly_revenue'] \n",
    "\n",
    "alpha = 0.05 # критический уровень статистической значимости\n",
    "# если p-value окажется меньше него - отвегнем гипотезу\n",
    "\n",
    "results = st.ttest_ind( sample_1, sample_2)\n",
    "\n",
    "print('p-значение: ', results.pvalue)\n",
    "if results.pvalue < alpha:\n",
    "    print('Принимаем альтернативную гипотезу')\n",
    "else:\n",
    "    print('Опровергнуть нулевую гипотезу нельзя')"
   ]
  },
  {
   "cell_type": "markdown",
   "id": "8f0d25a0",
   "metadata": {},
   "source": [
    "### Вывод: p-значение:  1.0331049116258098e-192\n",
    "Принимаем альтернативную гипотезу, p-значение достаточно мало, что дает основание отвергнуть предположение об отсутствии различий между выручками у разных тарифных планов."
   ]
  },
  {
   "cell_type": "markdown",
   "id": "cc8d4598",
   "metadata": {},
   "source": [
    "### Гипотеза 2:\n",
    "Cредняя выручка пользователей из Москвы отличается от выручки пользователей из других регионов.\n",
    "\n",
    "- Нулевая гипотеза: Средняя выручка пользователей из Москвы и других регионов равны, т.е. средние значения равны.\n",
    "\n",
    "- Альтернативная гипотеза: Средняя выручка пользователей из Москвы и других регионов не равны, т.е. средние значения не равны.\n",
    "\n",
    "Дисперсии выборок отличаются более чем на 5%"
   ]
  },
  {
   "cell_type": "code",
   "execution_count": 57,
   "id": "1ee2c9d1",
   "metadata": {},
   "outputs": [],
   "source": [
    "# data['city'].unique()\n",
    "# data[data['city'] == 'Москва'].count()\n",
    "# data[data['city'] != 'Москва'].count("
   ]
  },
  {
   "cell_type": "code",
   "execution_count": 58,
   "id": "e4e77d26",
   "metadata": {},
   "outputs": [
    {
     "name": "stdout",
     "output_type": "stream",
     "text": [
      "p-значение:  0.5440152911670224\n",
      "Опровергнуть нулевую гипотезу нельзя\n"
     ]
    }
   ],
   "source": [
    "sample_1 = data[data['city'] == 'Москва']['monthly_revenue'] \n",
    "sample_2 = data[data['city'] != 'Москва']['monthly_revenue'] \n",
    "results = st.ttest_ind( sample_1, sample_2)\n",
    "\n",
    "alpha = 0.05 # критический уровень статистической значимости\n",
    "# если p-value окажется меньше него - отвегнем гипотезу\n",
    "\n",
    "print('p-значение: ', results.pvalue)\n",
    "if results.pvalue < alpha:\n",
    "    print('Принимаем альтернативную гипотезу')\n",
    "else:\n",
    "    print('Опровергнуть нулевую гипотезу нельзя')"
   ]
  },
  {
   "cell_type": "markdown",
   "id": "8708fbd7",
   "metadata": {},
   "source": [
    "### Вывод: p-значение:  0.4667239724061705\n",
    "Принимаем нулевую гипотезу, p-значение больше значения alpha, что дает основание принять предположение об отсутствии различий между средними выручками у пользователей из Москвы и других регионов."
   ]
  },
  {
   "cell_type": "markdown",
   "id": "3ea42580",
   "metadata": {},
   "source": [
    "# Итоговый вывод\n",
    "\n",
    "### В ходе выполнения данного проекта:\n",
    "* Проведен анализ предложенных тарифов Смарт и Ультра на небольшой выборке клиентов, выявлены недостатки в данных, данные были преобразованы в необходимые типы, изменены на целочисленный тип.\n",
    "* Выполнен для каждого пользователя расчет данных о количестве сделанных звонков, израсходованных минут, отправленных сообщений и объема интернет-трафика по месяцам.\n",
    "* Все используемые таблицы объединены в одну сводную и добавлен столбец с помесячной выручкой каждого пользователя в зависимости от выбранного тарифа.\n",
    "### Проведено сравнение тарифов Смарт и Ультра по некоторым параметрам, получены следующие результаты:\n",
    "* Пользователи тарифа Смарт в среднем в месяц тратят меньше минут разговора, сообщений и интернет-траффика, чем пользователи тарифа Ультра.\n",
    "* На тарифе Смарт пользователи очень часто не укладываются в лимиты и доплачивают за превышения лимита по звонкам, сообщениям и интернет-траффиком.\n",
    "* Дисперсия и стандартное отклонение всегда выше на тарифе Ультра, но пользователи этого тарифа укладываются в установленные лимиты. \n",
    "* Максимальное число минут разговора и сообщений пользователей тарифа Ультра в месяц значительно меньше заложенных в тариф.\n",
    "* Пользователи тарифа Ультра не всегда укладываются в установленные лимиты интернет-траффика. Максимальное число интернет-траффика (50Гб) в месяц больше заложенных в него 30Гб.\n",
    "### Проведена проверка двух гипотез:\n",
    "* средняя выручка пользователей тарифов «Ультра» и «Смарт» различается;\n",
    "* средняя выручка пользователей из Москвы отличается от выручки пользователей из других регионов.\n",
    "  - **Результаты проверки гипотез:**\n",
    "- Первая гипотеза: Принимаем альтернативную гипотезу.\n",
    "- Вторая гипотеза: Принимаем нулевую гипотезу.\n"
   ]
  }
 ],
 "metadata": {
  "ExecuteTimeLog": [
   {
    "duration": 1136,
    "start_time": "2022-04-17T21:47:16.986Z"
   },
   {
    "duration": 129,
    "start_time": "2022-04-17T21:47:18.124Z"
   },
   {
    "duration": 0,
    "start_time": "2022-04-17T21:47:18.256Z"
   },
   {
    "duration": 0,
    "start_time": "2022-04-17T21:47:18.257Z"
   },
   {
    "duration": 0,
    "start_time": "2022-04-17T21:47:18.258Z"
   },
   {
    "duration": 0,
    "start_time": "2022-04-17T21:47:18.260Z"
   },
   {
    "duration": 0,
    "start_time": "2022-04-17T21:47:18.261Z"
   },
   {
    "duration": 0,
    "start_time": "2022-04-17T21:47:18.262Z"
   },
   {
    "duration": 0,
    "start_time": "2022-04-17T21:47:18.263Z"
   },
   {
    "duration": 0,
    "start_time": "2022-04-17T21:47:18.264Z"
   },
   {
    "duration": 0,
    "start_time": "2022-04-17T21:47:18.265Z"
   },
   {
    "duration": 0,
    "start_time": "2022-04-17T21:47:18.266Z"
   },
   {
    "duration": 0,
    "start_time": "2022-04-17T21:47:18.267Z"
   },
   {
    "duration": 0,
    "start_time": "2022-04-17T21:47:18.268Z"
   },
   {
    "duration": 0,
    "start_time": "2022-04-17T21:47:18.269Z"
   },
   {
    "duration": 0,
    "start_time": "2022-04-17T21:47:18.270Z"
   },
   {
    "duration": 0,
    "start_time": "2022-04-17T21:47:18.271Z"
   },
   {
    "duration": 0,
    "start_time": "2022-04-17T21:47:18.272Z"
   },
   {
    "duration": 0,
    "start_time": "2022-04-17T21:47:18.273Z"
   },
   {
    "duration": 0,
    "start_time": "2022-04-17T21:47:18.307Z"
   },
   {
    "duration": 0,
    "start_time": "2022-04-17T21:47:18.309Z"
   },
   {
    "duration": 0,
    "start_time": "2022-04-17T21:47:18.310Z"
   },
   {
    "duration": 0,
    "start_time": "2022-04-17T21:47:18.310Z"
   },
   {
    "duration": 0,
    "start_time": "2022-04-17T21:47:18.311Z"
   },
   {
    "duration": 0,
    "start_time": "2022-04-17T21:47:18.312Z"
   },
   {
    "duration": 0,
    "start_time": "2022-04-17T21:47:18.313Z"
   },
   {
    "duration": 0,
    "start_time": "2022-04-17T21:47:18.314Z"
   },
   {
    "duration": 0,
    "start_time": "2022-04-17T21:47:18.315Z"
   },
   {
    "duration": 0,
    "start_time": "2022-04-17T21:47:18.316Z"
   },
   {
    "duration": 0,
    "start_time": "2022-04-17T21:47:18.317Z"
   },
   {
    "duration": 0,
    "start_time": "2022-04-17T21:47:18.318Z"
   },
   {
    "duration": 0,
    "start_time": "2022-04-17T21:47:18.319Z"
   },
   {
    "duration": 0,
    "start_time": "2022-04-17T21:47:18.320Z"
   },
   {
    "duration": 0,
    "start_time": "2022-04-17T21:47:18.321Z"
   },
   {
    "duration": 0,
    "start_time": "2022-04-17T21:47:18.323Z"
   },
   {
    "duration": 0,
    "start_time": "2022-04-17T21:47:18.324Z"
   },
   {
    "duration": 0,
    "start_time": "2022-04-17T21:47:18.325Z"
   },
   {
    "duration": 0,
    "start_time": "2022-04-17T21:47:18.326Z"
   },
   {
    "duration": 0,
    "start_time": "2022-04-17T21:47:18.327Z"
   },
   {
    "duration": 0,
    "start_time": "2022-04-17T21:47:18.328Z"
   },
   {
    "duration": 0,
    "start_time": "2022-04-17T21:47:18.329Z"
   },
   {
    "duration": 1,
    "start_time": "2022-04-17T21:47:18.329Z"
   },
   {
    "duration": 0,
    "start_time": "2022-04-17T21:47:18.330Z"
   },
   {
    "duration": 0,
    "start_time": "2022-04-17T21:47:18.331Z"
   },
   {
    "duration": 0,
    "start_time": "2022-04-17T21:47:18.332Z"
   },
   {
    "duration": 1194,
    "start_time": "2022-04-17T21:47:37.899Z"
   },
   {
    "duration": 384,
    "start_time": "2022-04-17T21:47:39.095Z"
   },
   {
    "duration": 18,
    "start_time": "2022-04-17T21:47:39.480Z"
   },
   {
    "duration": 33,
    "start_time": "2022-04-17T21:47:39.501Z"
   },
   {
    "duration": 122,
    "start_time": "2022-04-17T21:47:39.536Z"
   },
   {
    "duration": 10,
    "start_time": "2022-04-17T21:47:39.660Z"
   },
   {
    "duration": 39,
    "start_time": "2022-04-17T21:47:39.672Z"
   },
   {
    "duration": 76,
    "start_time": "2022-04-17T21:47:39.712Z"
   },
   {
    "duration": 20,
    "start_time": "2022-04-17T21:47:39.790Z"
   },
   {
    "duration": 18,
    "start_time": "2022-04-17T21:47:39.813Z"
   },
   {
    "duration": 47,
    "start_time": "2022-04-17T21:47:39.833Z"
   },
   {
    "duration": 29,
    "start_time": "2022-04-17T21:47:39.882Z"
   },
   {
    "duration": 10,
    "start_time": "2022-04-17T21:47:39.913Z"
   },
   {
    "duration": 6,
    "start_time": "2022-04-17T21:47:39.925Z"
   },
   {
    "duration": 11,
    "start_time": "2022-04-17T21:47:39.933Z"
   },
   {
    "duration": 12,
    "start_time": "2022-04-17T21:47:39.946Z"
   },
   {
    "duration": 6,
    "start_time": "2022-04-17T21:47:39.960Z"
   },
   {
    "duration": 105,
    "start_time": "2022-04-17T21:47:39.968Z"
   },
   {
    "duration": 9,
    "start_time": "2022-04-17T21:47:40.075Z"
   },
   {
    "duration": 32,
    "start_time": "2022-04-17T21:47:40.085Z"
   },
   {
    "duration": 42,
    "start_time": "2022-04-17T21:47:40.118Z"
   },
   {
    "duration": 9,
    "start_time": "2022-04-17T21:47:40.162Z"
   },
   {
    "duration": 76,
    "start_time": "2022-04-17T21:47:40.173Z"
   },
   {
    "duration": 9,
    "start_time": "2022-04-17T21:47:40.251Z"
   },
   {
    "duration": 54,
    "start_time": "2022-04-17T21:47:40.262Z"
   },
   {
    "duration": 27,
    "start_time": "2022-04-17T21:47:40.318Z"
   },
   {
    "duration": 23,
    "start_time": "2022-04-17T21:47:40.347Z"
   },
   {
    "duration": 37,
    "start_time": "2022-04-17T21:47:40.373Z"
   },
   {
    "duration": 7,
    "start_time": "2022-04-17T21:47:40.412Z"
   },
   {
    "duration": 7,
    "start_time": "2022-04-17T21:47:40.421Z"
   },
   {
    "duration": 3,
    "start_time": "2022-04-17T21:47:40.430Z"
   },
   {
    "duration": 9,
    "start_time": "2022-04-17T21:47:40.434Z"
   },
   {
    "duration": 16,
    "start_time": "2022-04-17T21:47:40.445Z"
   },
   {
    "duration": 144,
    "start_time": "2022-04-17T21:47:40.463Z"
   },
   {
    "duration": 20,
    "start_time": "2022-04-17T21:47:40.609Z"
   },
   {
    "duration": 57,
    "start_time": "2022-04-17T21:47:40.631Z"
   },
   {
    "duration": 263,
    "start_time": "2022-04-17T21:47:40.690Z"
   },
   {
    "duration": 5,
    "start_time": "2022-04-17T21:47:40.955Z"
   },
   {
    "duration": 291,
    "start_time": "2022-04-17T21:47:40.962Z"
   },
   {
    "duration": 274,
    "start_time": "2022-04-17T21:47:41.255Z"
   },
   {
    "duration": 267,
    "start_time": "2022-04-17T21:47:41.531Z"
   },
   {
    "duration": 360,
    "start_time": "2022-04-17T21:47:41.800Z"
   },
   {
    "duration": 9,
    "start_time": "2022-04-17T21:47:42.162Z"
   },
   {
    "duration": 4,
    "start_time": "2022-04-17T21:47:42.173Z"
   },
   {
    "duration": 13,
    "start_time": "2022-04-17T21:47:42.178Z"
   },
   {
    "duration": 29,
    "start_time": "2022-04-17T21:49:32.994Z"
   },
   {
    "duration": 21,
    "start_time": "2022-04-17T21:50:16.458Z"
   },
   {
    "duration": 28,
    "start_time": "2022-04-17T21:56:26.249Z"
   },
   {
    "duration": 29,
    "start_time": "2022-04-17T21:56:38.802Z"
   },
   {
    "duration": 54,
    "start_time": "2022-04-18T16:37:16.419Z"
   },
   {
    "duration": 6,
    "start_time": "2022-04-18T16:37:23.303Z"
   },
   {
    "duration": 1373,
    "start_time": "2022-04-18T16:37:32.985Z"
   },
   {
    "duration": 425,
    "start_time": "2022-04-18T16:37:34.360Z"
   },
   {
    "duration": 15,
    "start_time": "2022-04-18T16:37:34.787Z"
   },
   {
    "duration": 28,
    "start_time": "2022-04-18T16:37:34.805Z"
   },
   {
    "duration": 123,
    "start_time": "2022-04-18T16:37:34.835Z"
   },
   {
    "duration": 10,
    "start_time": "2022-04-18T16:37:34.960Z"
   },
   {
    "duration": 24,
    "start_time": "2022-04-18T16:37:34.972Z"
   },
   {
    "duration": 108,
    "start_time": "2022-04-18T16:37:34.999Z"
   },
   {
    "duration": 8,
    "start_time": "2022-04-18T16:37:35.110Z"
   },
   {
    "duration": 21,
    "start_time": "2022-04-18T16:37:35.133Z"
   },
   {
    "duration": 52,
    "start_time": "2022-04-18T16:37:35.156Z"
   },
   {
    "duration": 10,
    "start_time": "2022-04-18T16:37:35.233Z"
   },
   {
    "duration": 14,
    "start_time": "2022-04-18T16:37:35.245Z"
   },
   {
    "duration": 7,
    "start_time": "2022-04-18T16:37:35.261Z"
   },
   {
    "duration": 12,
    "start_time": "2022-04-18T16:37:35.270Z"
   },
   {
    "duration": 14,
    "start_time": "2022-04-18T16:37:35.284Z"
   },
   {
    "duration": 37,
    "start_time": "2022-04-18T16:37:35.300Z"
   },
   {
    "duration": 76,
    "start_time": "2022-04-18T16:37:35.339Z"
   },
   {
    "duration": 24,
    "start_time": "2022-04-18T16:37:35.416Z"
   },
   {
    "duration": 19,
    "start_time": "2022-04-18T16:37:35.442Z"
   },
   {
    "duration": 300,
    "start_time": "2022-04-18T16:37:35.463Z"
   },
   {
    "duration": 46,
    "start_time": "2022-04-18T16:37:35.766Z"
   },
   {
    "duration": 27,
    "start_time": "2022-04-18T16:37:35.814Z"
   },
   {
    "duration": 17,
    "start_time": "2022-04-18T16:37:35.843Z"
   },
   {
    "duration": 72,
    "start_time": "2022-04-18T16:37:35.862Z"
   },
   {
    "duration": 10,
    "start_time": "2022-04-18T16:37:35.936Z"
   },
   {
    "duration": 51,
    "start_time": "2022-04-18T16:37:35.948Z"
   },
   {
    "duration": 47,
    "start_time": "2022-04-18T16:37:36.003Z"
   },
   {
    "duration": 27,
    "start_time": "2022-04-18T16:37:36.051Z"
   },
   {
    "duration": 9,
    "start_time": "2022-04-18T16:37:36.079Z"
   },
   {
    "duration": 8,
    "start_time": "2022-04-18T16:37:36.090Z"
   },
   {
    "duration": 38,
    "start_time": "2022-04-18T16:37:36.100Z"
   },
   {
    "duration": 3,
    "start_time": "2022-04-18T16:37:36.140Z"
   },
   {
    "duration": 13,
    "start_time": "2022-04-18T16:37:36.145Z"
   },
   {
    "duration": 18,
    "start_time": "2022-04-18T16:37:36.160Z"
   },
   {
    "duration": 131,
    "start_time": "2022-04-18T16:37:36.180Z"
   },
   {
    "duration": 31,
    "start_time": "2022-04-18T16:37:36.313Z"
   },
   {
    "duration": 50,
    "start_time": "2022-04-18T16:37:36.346Z"
   },
   {
    "duration": 262,
    "start_time": "2022-04-18T16:37:36.397Z"
   },
   {
    "duration": 5,
    "start_time": "2022-04-18T16:37:36.661Z"
   },
   {
    "duration": 312,
    "start_time": "2022-04-18T16:37:36.668Z"
   },
   {
    "duration": 304,
    "start_time": "2022-04-18T16:37:36.982Z"
   },
   {
    "duration": 364,
    "start_time": "2022-04-18T16:37:37.287Z"
   },
   {
    "duration": 291,
    "start_time": "2022-04-18T16:37:37.654Z"
   },
   {
    "duration": 34,
    "start_time": "2022-04-18T16:37:37.947Z"
   },
   {
    "duration": 10,
    "start_time": "2022-04-18T16:37:37.983Z"
   },
   {
    "duration": 9,
    "start_time": "2022-04-18T16:37:37.995Z"
   },
   {
    "duration": 33,
    "start_time": "2022-04-18T16:37:38.005Z"
   },
   {
    "duration": 309,
    "start_time": "2022-04-18T16:37:49.400Z"
   },
   {
    "duration": 269,
    "start_time": "2022-04-18T16:37:54.053Z"
   },
   {
    "duration": 282,
    "start_time": "2022-04-18T16:37:59.029Z"
   },
   {
    "duration": 178,
    "start_time": "2022-04-18T16:38:02.072Z"
   },
   {
    "duration": 11,
    "start_time": "2022-04-18T16:47:55.876Z"
   },
   {
    "duration": 249,
    "start_time": "2022-04-18T16:48:19.384Z"
   },
   {
    "duration": 163,
    "start_time": "2022-04-18T16:48:26.121Z"
   },
   {
    "duration": 145,
    "start_time": "2022-04-18T16:48:46.201Z"
   },
   {
    "duration": 151,
    "start_time": "2022-04-18T16:48:50.673Z"
   },
   {
    "duration": 151,
    "start_time": "2022-04-18T16:48:58.777Z"
   },
   {
    "duration": 135,
    "start_time": "2022-04-18T16:49:28.942Z"
   },
   {
    "duration": 14,
    "start_time": "2022-04-18T16:51:06.801Z"
   },
   {
    "duration": 155,
    "start_time": "2022-04-18T16:51:32.622Z"
   },
   {
    "duration": 154,
    "start_time": "2022-04-18T16:51:53.011Z"
   },
   {
    "duration": 151,
    "start_time": "2022-04-18T16:51:57.017Z"
   },
   {
    "duration": 151,
    "start_time": "2022-04-18T16:52:05.361Z"
   },
   {
    "duration": 164,
    "start_time": "2022-04-18T16:52:11.489Z"
   },
   {
    "duration": 165,
    "start_time": "2022-04-18T16:55:19.287Z"
   },
   {
    "duration": 11,
    "start_time": "2022-04-18T16:55:48.981Z"
   },
   {
    "duration": 154,
    "start_time": "2022-04-18T16:57:06.193Z"
   },
   {
    "duration": 194,
    "start_time": "2022-04-18T16:57:18.804Z"
   },
   {
    "duration": 274,
    "start_time": "2022-04-18T16:57:23.953Z"
   },
   {
    "duration": 185,
    "start_time": "2022-04-18T16:57:28.834Z"
   },
   {
    "duration": 108,
    "start_time": "2022-04-18T17:15:04.436Z"
   },
   {
    "duration": 9,
    "start_time": "2022-04-18T17:15:12.018Z"
   },
   {
    "duration": 33,
    "start_time": "2022-04-18T17:15:33.194Z"
   },
   {
    "duration": 22,
    "start_time": "2022-04-18T17:15:54.045Z"
   },
   {
    "duration": 5,
    "start_time": "2022-04-18T17:16:11.889Z"
   },
   {
    "duration": 6,
    "start_time": "2022-04-18T17:16:18.840Z"
   },
   {
    "duration": 6,
    "start_time": "2022-04-18T17:16:50.470Z"
   },
   {
    "duration": 19,
    "start_time": "2022-04-18T17:17:00.624Z"
   },
   {
    "duration": 23,
    "start_time": "2022-04-18T17:17:30.302Z"
   },
   {
    "duration": 24,
    "start_time": "2022-04-18T17:19:41.778Z"
   },
   {
    "duration": 9,
    "start_time": "2022-04-18T17:20:21.193Z"
   },
   {
    "duration": 20,
    "start_time": "2022-04-18T17:20:49.276Z"
   },
   {
    "duration": 20,
    "start_time": "2022-04-18T17:21:39.269Z"
   },
   {
    "duration": 22,
    "start_time": "2022-04-18T17:21:49.129Z"
   },
   {
    "duration": 4,
    "start_time": "2022-04-18T17:22:23.022Z"
   },
   {
    "duration": 15,
    "start_time": "2022-04-18T17:22:31.990Z"
   },
   {
    "duration": 8,
    "start_time": "2022-04-18T17:23:01.057Z"
   },
   {
    "duration": 4,
    "start_time": "2022-04-18T17:23:27.286Z"
   },
   {
    "duration": 9,
    "start_time": "2022-04-18T17:25:48.217Z"
   },
   {
    "duration": 4,
    "start_time": "2022-04-18T17:25:55.818Z"
   },
   {
    "duration": 14,
    "start_time": "2022-04-18T17:26:04.824Z"
   },
   {
    "duration": 5,
    "start_time": "2022-04-18T17:26:28.006Z"
   },
   {
    "duration": 10,
    "start_time": "2022-04-18T17:26:47.185Z"
   },
   {
    "duration": 15,
    "start_time": "2022-04-18T17:27:03.546Z"
   },
   {
    "duration": 21,
    "start_time": "2022-04-18T17:27:11.066Z"
   },
   {
    "duration": 14,
    "start_time": "2022-04-18T17:27:38.147Z"
   },
   {
    "duration": 19,
    "start_time": "2022-04-18T17:27:45.863Z"
   },
   {
    "duration": 20,
    "start_time": "2022-04-18T17:29:02.792Z"
   },
   {
    "duration": 12,
    "start_time": "2022-04-18T17:29:16.663Z"
   },
   {
    "duration": 25,
    "start_time": "2022-04-18T17:29:22.346Z"
   },
   {
    "duration": 13,
    "start_time": "2022-04-18T17:29:33.004Z"
   },
   {
    "duration": 21,
    "start_time": "2022-04-18T17:29:40.412Z"
   },
   {
    "duration": 26,
    "start_time": "2022-04-18T17:30:05.201Z"
   },
   {
    "duration": 21,
    "start_time": "2022-04-18T17:30:15.112Z"
   },
   {
    "duration": 9,
    "start_time": "2022-04-18T17:30:29.433Z"
   },
   {
    "duration": 9,
    "start_time": "2022-04-18T17:39:16.374Z"
   },
   {
    "duration": 9,
    "start_time": "2022-04-18T17:44:25.045Z"
   },
   {
    "duration": 6,
    "start_time": "2022-04-18T17:46:43.356Z"
   },
   {
    "duration": 9,
    "start_time": "2022-04-18T17:46:51.422Z"
   },
   {
    "duration": 25,
    "start_time": "2022-04-18T17:46:57.206Z"
   },
   {
    "duration": 20,
    "start_time": "2022-04-18T17:47:08.306Z"
   },
   {
    "duration": 9,
    "start_time": "2022-04-18T17:47:18.243Z"
   },
   {
    "duration": 34,
    "start_time": "2022-04-18T17:47:27.747Z"
   },
   {
    "duration": 15,
    "start_time": "2022-04-18T17:47:59.135Z"
   },
   {
    "duration": 1168,
    "start_time": "2022-04-18T17:48:13.183Z"
   },
   {
    "duration": 437,
    "start_time": "2022-04-18T17:48:14.353Z"
   },
   {
    "duration": 12,
    "start_time": "2022-04-18T17:48:14.792Z"
   },
   {
    "duration": 30,
    "start_time": "2022-04-18T17:48:14.806Z"
   },
   {
    "duration": 129,
    "start_time": "2022-04-18T17:48:14.838Z"
   },
   {
    "duration": 12,
    "start_time": "2022-04-18T17:48:14.969Z"
   },
   {
    "duration": 39,
    "start_time": "2022-04-18T17:48:14.983Z"
   },
   {
    "duration": 91,
    "start_time": "2022-04-18T17:48:15.023Z"
   },
   {
    "duration": 9,
    "start_time": "2022-04-18T17:48:15.116Z"
   },
   {
    "duration": 20,
    "start_time": "2022-04-18T17:48:15.135Z"
   },
   {
    "duration": 56,
    "start_time": "2022-04-18T17:48:15.157Z"
   },
   {
    "duration": 11,
    "start_time": "2022-04-18T17:48:15.234Z"
   },
   {
    "duration": 15,
    "start_time": "2022-04-18T17:48:15.246Z"
   },
   {
    "duration": 10,
    "start_time": "2022-04-18T17:48:15.263Z"
   },
   {
    "duration": 15,
    "start_time": "2022-04-18T17:48:15.275Z"
   },
   {
    "duration": 186,
    "start_time": "2022-04-18T17:48:15.292Z"
   },
   {
    "duration": 11,
    "start_time": "2022-04-18T17:48:15.480Z"
   },
   {
    "duration": 14,
    "start_time": "2022-04-18T17:48:15.493Z"
   },
   {
    "duration": 95,
    "start_time": "2022-04-18T17:48:15.510Z"
   },
   {
    "duration": 10,
    "start_time": "2022-04-18T17:48:15.608Z"
   },
   {
    "duration": 20,
    "start_time": "2022-04-18T17:48:15.620Z"
   },
   {
    "duration": 192,
    "start_time": "2022-04-18T17:48:15.641Z"
   },
   {
    "duration": 47,
    "start_time": "2022-04-18T17:48:15.835Z"
   },
   {
    "duration": 9,
    "start_time": "2022-04-18T17:48:15.884Z"
   },
   {
    "duration": 15,
    "start_time": "2022-04-18T17:48:15.895Z"
   },
   {
    "duration": 169,
    "start_time": "2022-04-18T17:48:15.933Z"
   },
   {
    "duration": 69,
    "start_time": "2022-04-18T17:48:16.104Z"
   },
   {
    "duration": 15,
    "start_time": "2022-04-18T17:48:16.178Z"
   },
   {
    "duration": 16,
    "start_time": "2022-04-18T17:48:16.195Z"
   },
   {
    "duration": 196,
    "start_time": "2022-04-18T17:48:16.213Z"
   },
   {
    "duration": 58,
    "start_time": "2022-04-18T17:48:16.411Z"
   },
   {
    "duration": 31,
    "start_time": "2022-04-18T17:48:16.471Z"
   },
   {
    "duration": 40,
    "start_time": "2022-04-18T17:48:16.504Z"
   },
   {
    "duration": 8,
    "start_time": "2022-04-18T17:48:16.546Z"
   },
   {
    "duration": 10,
    "start_time": "2022-04-18T17:48:16.556Z"
   },
   {
    "duration": 9,
    "start_time": "2022-04-18T17:48:16.568Z"
   },
   {
    "duration": 8,
    "start_time": "2022-04-18T17:48:16.579Z"
   },
   {
    "duration": 11,
    "start_time": "2022-04-18T17:48:16.589Z"
   },
   {
    "duration": 19,
    "start_time": "2022-04-18T17:48:16.634Z"
   },
   {
    "duration": 29,
    "start_time": "2022-04-18T17:48:16.656Z"
   },
   {
    "duration": 6,
    "start_time": "2022-04-18T17:48:16.687Z"
   },
   {
    "duration": 39,
    "start_time": "2022-04-18T17:48:16.695Z"
   },
   {
    "duration": 17,
    "start_time": "2022-04-18T17:48:16.736Z"
   },
   {
    "duration": 26,
    "start_time": "2022-04-18T17:48:16.755Z"
   },
   {
    "duration": 7,
    "start_time": "2022-04-18T17:48:16.783Z"
   },
   {
    "duration": 10,
    "start_time": "2022-04-18T17:48:16.792Z"
   },
   {
    "duration": 39,
    "start_time": "2022-04-18T17:48:16.804Z"
   },
   {
    "duration": 119,
    "start_time": "2022-04-18T17:48:16.845Z"
   },
   {
    "duration": 23,
    "start_time": "2022-04-18T17:48:16.966Z"
   },
   {
    "duration": 67,
    "start_time": "2022-04-18T17:48:16.991Z"
   },
   {
    "duration": 256,
    "start_time": "2022-04-18T17:48:17.060Z"
   },
   {
    "duration": 6,
    "start_time": "2022-04-18T17:48:17.317Z"
   },
   {
    "duration": 330,
    "start_time": "2022-04-18T17:48:17.325Z"
   },
   {
    "duration": 390,
    "start_time": "2022-04-18T17:48:17.657Z"
   },
   {
    "duration": 305,
    "start_time": "2022-04-18T17:48:18.049Z"
   },
   {
    "duration": 310,
    "start_time": "2022-04-18T17:48:18.356Z"
   },
   {
    "duration": 34,
    "start_time": "2022-04-18T17:48:18.668Z"
   },
   {
    "duration": 31,
    "start_time": "2022-04-18T17:48:18.704Z"
   },
   {
    "duration": 3,
    "start_time": "2022-04-18T17:48:18.738Z"
   },
   {
    "duration": 13,
    "start_time": "2022-04-18T17:48:18.743Z"
   },
   {
    "duration": 5,
    "start_time": "2022-04-18T17:49:37.224Z"
   },
   {
    "duration": 22,
    "start_time": "2022-04-18T17:49:49.311Z"
   },
   {
    "duration": 5,
    "start_time": "2022-04-18T17:49:56.509Z"
   },
   {
    "duration": 5,
    "start_time": "2022-04-18T17:49:57.431Z"
   },
   {
    "duration": 22,
    "start_time": "2022-04-18T17:49:58.352Z"
   },
   {
    "duration": 1214,
    "start_time": "2022-04-18T17:50:06.435Z"
   },
   {
    "duration": 404,
    "start_time": "2022-04-18T17:50:07.651Z"
   },
   {
    "duration": 13,
    "start_time": "2022-04-18T17:50:08.056Z"
   },
   {
    "duration": 29,
    "start_time": "2022-04-18T17:50:08.071Z"
   },
   {
    "duration": 123,
    "start_time": "2022-04-18T17:50:08.102Z"
   },
   {
    "duration": 14,
    "start_time": "2022-04-18T17:50:08.227Z"
   },
   {
    "duration": 24,
    "start_time": "2022-04-18T17:50:08.242Z"
   },
   {
    "duration": 91,
    "start_time": "2022-04-18T17:50:08.267Z"
   },
   {
    "duration": 8,
    "start_time": "2022-04-18T17:50:08.359Z"
   },
   {
    "duration": 22,
    "start_time": "2022-04-18T17:50:08.369Z"
   },
   {
    "duration": 74,
    "start_time": "2022-04-18T17:50:08.393Z"
   },
   {
    "duration": 8,
    "start_time": "2022-04-18T17:50:08.469Z"
   },
   {
    "duration": 12,
    "start_time": "2022-04-18T17:50:08.479Z"
   },
   {
    "duration": 9,
    "start_time": "2022-04-18T17:50:08.493Z"
   },
   {
    "duration": 31,
    "start_time": "2022-04-18T17:50:08.504Z"
   },
   {
    "duration": 173,
    "start_time": "2022-04-18T17:50:08.537Z"
   },
   {
    "duration": 21,
    "start_time": "2022-04-18T17:50:08.712Z"
   },
   {
    "duration": 7,
    "start_time": "2022-04-18T17:50:08.735Z"
   },
   {
    "duration": 89,
    "start_time": "2022-04-18T17:50:08.744Z"
   },
   {
    "duration": 10,
    "start_time": "2022-04-18T17:50:08.835Z"
   },
   {
    "duration": 15,
    "start_time": "2022-04-18T17:50:08.847Z"
   },
   {
    "duration": 183,
    "start_time": "2022-04-18T17:50:08.864Z"
   },
   {
    "duration": 50,
    "start_time": "2022-04-18T17:50:09.049Z"
   },
   {
    "duration": 10,
    "start_time": "2022-04-18T17:50:09.100Z"
   },
   {
    "duration": 30,
    "start_time": "2022-04-18T17:50:09.111Z"
   },
   {
    "duration": 167,
    "start_time": "2022-04-18T17:50:09.143Z"
   },
   {
    "duration": 64,
    "start_time": "2022-04-18T17:50:09.311Z"
   },
   {
    "duration": 11,
    "start_time": "2022-04-18T17:50:09.379Z"
   },
   {
    "duration": 18,
    "start_time": "2022-04-18T17:50:09.391Z"
   },
   {
    "duration": 190,
    "start_time": "2022-04-18T17:50:09.411Z"
   },
   {
    "duration": 59,
    "start_time": "2022-04-18T17:50:09.603Z"
   },
   {
    "duration": 32,
    "start_time": "2022-04-18T17:50:09.664Z"
   },
   {
    "duration": 46,
    "start_time": "2022-04-18T17:50:09.698Z"
   },
   {
    "duration": 8,
    "start_time": "2022-04-18T17:50:09.746Z"
   },
   {
    "duration": 8,
    "start_time": "2022-04-18T17:50:09.756Z"
   },
   {
    "duration": 7,
    "start_time": "2022-04-18T17:50:09.766Z"
   },
   {
    "duration": 5,
    "start_time": "2022-04-18T17:50:09.774Z"
   },
   {
    "duration": 10,
    "start_time": "2022-04-18T17:50:09.780Z"
   },
   {
    "duration": 16,
    "start_time": "2022-04-18T17:50:09.792Z"
   },
   {
    "duration": 29,
    "start_time": "2022-04-18T17:50:09.809Z"
   },
   {
    "duration": 4,
    "start_time": "2022-04-18T17:50:09.840Z"
   },
   {
    "duration": 19,
    "start_time": "2022-04-18T17:50:09.846Z"
   },
   {
    "duration": 16,
    "start_time": "2022-04-18T17:50:09.866Z"
   },
   {
    "duration": 18,
    "start_time": "2022-04-18T17:50:09.884Z"
   },
   {
    "duration": 5,
    "start_time": "2022-04-18T17:50:09.903Z"
   },
   {
    "duration": 8,
    "start_time": "2022-04-18T17:50:09.910Z"
   },
   {
    "duration": 17,
    "start_time": "2022-04-18T17:50:09.920Z"
   },
   {
    "duration": 108,
    "start_time": "2022-04-18T17:50:09.938Z"
   },
   {
    "duration": 23,
    "start_time": "2022-04-18T17:50:10.048Z"
   },
   {
    "duration": 48,
    "start_time": "2022-04-18T17:50:10.072Z"
   },
   {
    "duration": 251,
    "start_time": "2022-04-18T17:50:10.122Z"
   },
   {
    "duration": 8,
    "start_time": "2022-04-18T17:50:10.375Z"
   },
   {
    "duration": 500,
    "start_time": "2022-04-18T17:50:10.385Z"
   },
   {
    "duration": 367,
    "start_time": "2022-04-18T17:50:10.887Z"
   },
   {
    "duration": 277,
    "start_time": "2022-04-18T17:50:11.256Z"
   },
   {
    "duration": 277,
    "start_time": "2022-04-18T17:50:11.535Z"
   },
   {
    "duration": 39,
    "start_time": "2022-04-18T17:50:11.814Z"
   },
   {
    "duration": 8,
    "start_time": "2022-04-18T17:50:11.854Z"
   },
   {
    "duration": 5,
    "start_time": "2022-04-18T17:50:11.864Z"
   },
   {
    "duration": 9,
    "start_time": "2022-04-18T17:50:11.871Z"
   },
   {
    "duration": 5,
    "start_time": "2022-04-18T17:50:33.614Z"
   },
   {
    "duration": 22,
    "start_time": "2022-04-18T17:50:38.645Z"
   },
   {
    "duration": 4,
    "start_time": "2022-04-18T17:50:54.682Z"
   },
   {
    "duration": 4,
    "start_time": "2022-04-18T17:50:55.787Z"
   },
   {
    "duration": 23,
    "start_time": "2022-04-18T17:51:00.849Z"
   },
   {
    "duration": 26,
    "start_time": "2022-04-18T17:51:13.016Z"
   },
   {
    "duration": 3,
    "start_time": "2022-04-18T17:51:45.497Z"
   },
   {
    "duration": 23,
    "start_time": "2022-04-18T17:51:46.878Z"
   },
   {
    "duration": 4,
    "start_time": "2022-04-18T17:52:46.268Z"
   },
   {
    "duration": 14,
    "start_time": "2022-04-18T17:52:47.729Z"
   },
   {
    "duration": 4,
    "start_time": "2022-04-18T17:52:54.089Z"
   },
   {
    "duration": 6,
    "start_time": "2022-04-18T17:53:19.829Z"
   },
   {
    "duration": 6,
    "start_time": "2022-04-18T17:53:21.076Z"
   },
   {
    "duration": 7,
    "start_time": "2022-04-18T17:53:21.698Z"
   },
   {
    "duration": 7,
    "start_time": "2022-04-18T17:53:22.385Z"
   },
   {
    "duration": 17,
    "start_time": "2022-04-18T17:53:43.462Z"
   },
   {
    "duration": 15,
    "start_time": "2022-04-18T17:56:53.785Z"
   },
   {
    "duration": 21,
    "start_time": "2022-04-18T17:57:06.764Z"
   },
   {
    "duration": 11,
    "start_time": "2022-04-18T17:58:40.580Z"
   },
   {
    "duration": 24,
    "start_time": "2022-04-18T17:58:55.934Z"
   },
   {
    "duration": 18,
    "start_time": "2022-04-18T17:59:15.560Z"
   },
   {
    "duration": 8,
    "start_time": "2022-04-18T17:59:58.193Z"
   },
   {
    "duration": 14,
    "start_time": "2022-04-18T18:00:25.353Z"
   },
   {
    "duration": 13,
    "start_time": "2022-04-18T18:00:32.654Z"
   },
   {
    "duration": 14,
    "start_time": "2022-04-18T18:00:39.011Z"
   },
   {
    "duration": 3,
    "start_time": "2022-04-18T18:00:45.339Z"
   },
   {
    "duration": 15,
    "start_time": "2022-04-18T18:02:53.315Z"
   },
   {
    "duration": 128,
    "start_time": "2022-04-18T18:10:51.759Z"
   },
   {
    "duration": 126,
    "start_time": "2022-04-18T18:10:53.597Z"
   },
   {
    "duration": 23,
    "start_time": "2022-04-18T18:10:54.887Z"
   },
   {
    "duration": 127,
    "start_time": "2022-04-18T18:13:32.705Z"
   },
   {
    "duration": 34,
    "start_time": "2022-04-18T18:14:20.072Z"
   },
   {
    "duration": 42,
    "start_time": "2022-04-18T18:14:48.280Z"
   },
   {
    "duration": 5,
    "start_time": "2022-04-18T18:15:22.556Z"
   },
   {
    "duration": 42,
    "start_time": "2022-04-18T18:15:46.858Z"
   },
   {
    "duration": 44,
    "start_time": "2022-04-18T18:16:10.986Z"
   },
   {
    "duration": 34,
    "start_time": "2022-04-18T18:19:56.762Z"
   },
   {
    "duration": 24,
    "start_time": "2022-04-18T18:23:23.741Z"
   },
   {
    "duration": 22,
    "start_time": "2022-04-18T18:23:28.301Z"
   },
   {
    "duration": 30,
    "start_time": "2022-04-18T18:44:54.523Z"
   },
   {
    "duration": 1364,
    "start_time": "2022-04-18T18:46:14.309Z"
   },
   {
    "duration": 4293,
    "start_time": "2022-04-18T18:46:15.676Z"
   },
   {
    "duration": 15,
    "start_time": "2022-04-18T18:46:19.971Z"
   },
   {
    "duration": 30,
    "start_time": "2022-04-18T18:46:19.989Z"
   },
   {
    "duration": 124,
    "start_time": "2022-04-18T18:46:20.022Z"
   },
   {
    "duration": 10,
    "start_time": "2022-04-18T18:46:20.148Z"
   },
   {
    "duration": 28,
    "start_time": "2022-04-18T18:46:20.160Z"
   },
   {
    "duration": 119,
    "start_time": "2022-04-18T18:46:20.190Z"
   },
   {
    "duration": 8,
    "start_time": "2022-04-18T18:46:20.311Z"
   },
   {
    "duration": 22,
    "start_time": "2022-04-18T18:46:20.335Z"
   },
   {
    "duration": 75,
    "start_time": "2022-04-18T18:46:20.359Z"
   },
   {
    "duration": 9,
    "start_time": "2022-04-18T18:46:20.436Z"
   },
   {
    "duration": 14,
    "start_time": "2022-04-18T18:46:20.447Z"
   },
   {
    "duration": 8,
    "start_time": "2022-04-18T18:46:20.463Z"
   },
   {
    "duration": 13,
    "start_time": "2022-04-18T18:46:20.473Z"
   },
   {
    "duration": 213,
    "start_time": "2022-04-18T18:46:20.488Z"
   },
   {
    "duration": 12,
    "start_time": "2022-04-18T18:46:20.703Z"
   },
   {
    "duration": 20,
    "start_time": "2022-04-18T18:46:20.717Z"
   },
   {
    "duration": 101,
    "start_time": "2022-04-18T18:46:20.740Z"
   },
   {
    "duration": 10,
    "start_time": "2022-04-18T18:46:20.843Z"
   },
   {
    "duration": 23,
    "start_time": "2022-04-18T18:46:20.855Z"
   },
   {
    "duration": 190,
    "start_time": "2022-04-18T18:46:20.880Z"
   },
   {
    "duration": 49,
    "start_time": "2022-04-18T18:46:21.072Z"
   },
   {
    "duration": 11,
    "start_time": "2022-04-18T18:46:21.134Z"
   },
   {
    "duration": 17,
    "start_time": "2022-04-18T18:46:21.147Z"
   },
   {
    "duration": 236,
    "start_time": "2022-04-18T18:46:21.166Z"
   },
   {
    "duration": 69,
    "start_time": "2022-04-18T18:46:21.404Z"
   },
   {
    "duration": 11,
    "start_time": "2022-04-18T18:46:21.478Z"
   },
   {
    "duration": 18,
    "start_time": "2022-04-18T18:46:21.490Z"
   },
   {
    "duration": 197,
    "start_time": "2022-04-18T18:46:21.510Z"
   },
   {
    "duration": 79,
    "start_time": "2022-04-18T18:46:21.711Z"
   },
   {
    "duration": 44,
    "start_time": "2022-04-18T18:46:21.792Z"
   },
   {
    "duration": 2,
    "start_time": "2022-04-18T18:46:21.839Z"
   },
   {
    "duration": 32,
    "start_time": "2022-04-18T18:46:21.843Z"
   },
   {
    "duration": 11,
    "start_time": "2022-04-18T18:46:21.878Z"
   },
   {
    "duration": 43,
    "start_time": "2022-04-18T18:46:21.891Z"
   },
   {
    "duration": 8,
    "start_time": "2022-04-18T18:46:21.936Z"
   },
   {
    "duration": 4,
    "start_time": "2022-04-18T18:46:21.946Z"
   },
   {
    "duration": 12,
    "start_time": "2022-04-18T18:46:21.952Z"
   },
   {
    "duration": 21,
    "start_time": "2022-04-18T18:46:21.966Z"
   },
   {
    "duration": 57,
    "start_time": "2022-04-18T18:46:21.989Z"
   },
   {
    "duration": 7,
    "start_time": "2022-04-18T18:46:22.048Z"
   },
   {
    "duration": 22,
    "start_time": "2022-04-18T18:46:22.057Z"
   },
   {
    "duration": 14,
    "start_time": "2022-04-18T18:46:22.081Z"
   },
   {
    "duration": 37,
    "start_time": "2022-04-18T18:46:22.097Z"
   },
   {
    "duration": 157,
    "start_time": "2022-04-18T18:46:22.136Z"
   },
   {
    "duration": 23,
    "start_time": "2022-04-18T18:46:22.295Z"
   },
   {
    "duration": 61,
    "start_time": "2022-04-18T18:46:22.320Z"
   },
   {
    "duration": 277,
    "start_time": "2022-04-18T18:46:22.383Z"
   },
   {
    "duration": 6,
    "start_time": "2022-04-18T18:46:22.662Z"
   },
   {
    "duration": 345,
    "start_time": "2022-04-18T18:46:22.670Z"
   },
   {
    "duration": 415,
    "start_time": "2022-04-18T18:46:23.018Z"
   },
   {
    "duration": 347,
    "start_time": "2022-04-18T18:46:23.435Z"
   },
   {
    "duration": 325,
    "start_time": "2022-04-18T18:46:23.784Z"
   },
   {
    "duration": 47,
    "start_time": "2022-04-18T18:46:24.110Z"
   },
   {
    "duration": 9,
    "start_time": "2022-04-18T18:46:24.159Z"
   },
   {
    "duration": 4,
    "start_time": "2022-04-18T18:46:24.170Z"
   },
   {
    "duration": 10,
    "start_time": "2022-04-18T18:46:24.176Z"
   },
   {
    "duration": 14,
    "start_time": "2022-04-18T18:47:06.703Z"
   },
   {
    "duration": 3,
    "start_time": "2022-04-18T18:47:16.764Z"
   },
   {
    "duration": 1172,
    "start_time": "2022-04-19T09:09:23.493Z"
   },
   {
    "duration": 384,
    "start_time": "2022-04-19T09:09:24.667Z"
   },
   {
    "duration": 13,
    "start_time": "2022-04-19T09:09:25.052Z"
   },
   {
    "duration": 28,
    "start_time": "2022-04-19T09:09:25.067Z"
   },
   {
    "duration": 104,
    "start_time": "2022-04-19T09:09:25.097Z"
   },
   {
    "duration": 9,
    "start_time": "2022-04-19T09:09:25.203Z"
   },
   {
    "duration": 23,
    "start_time": "2022-04-19T09:09:25.213Z"
   },
   {
    "duration": 83,
    "start_time": "2022-04-19T09:09:25.237Z"
   },
   {
    "duration": 7,
    "start_time": "2022-04-19T09:09:25.322Z"
   },
   {
    "duration": 19,
    "start_time": "2022-04-19T09:09:25.332Z"
   },
   {
    "duration": 72,
    "start_time": "2022-04-19T09:09:25.353Z"
   },
   {
    "duration": 8,
    "start_time": "2022-04-19T09:09:25.427Z"
   },
   {
    "duration": 11,
    "start_time": "2022-04-19T09:09:25.436Z"
   },
   {
    "duration": 6,
    "start_time": "2022-04-19T09:09:25.449Z"
   },
   {
    "duration": 10,
    "start_time": "2022-04-19T09:09:25.457Z"
   },
   {
    "duration": 180,
    "start_time": "2022-04-19T09:09:25.468Z"
   },
   {
    "duration": 11,
    "start_time": "2022-04-19T09:09:25.650Z"
   },
   {
    "duration": 8,
    "start_time": "2022-04-19T09:09:25.663Z"
   },
   {
    "duration": 94,
    "start_time": "2022-04-19T09:09:25.672Z"
   },
   {
    "duration": 9,
    "start_time": "2022-04-19T09:09:25.768Z"
   },
   {
    "duration": 29,
    "start_time": "2022-04-19T09:09:25.779Z"
   },
   {
    "duration": 160,
    "start_time": "2022-04-19T09:09:25.810Z"
   },
   {
    "duration": 54,
    "start_time": "2022-04-19T09:09:25.972Z"
   },
   {
    "duration": 8,
    "start_time": "2022-04-19T09:09:26.027Z"
   },
   {
    "duration": 15,
    "start_time": "2022-04-19T09:09:26.037Z"
   },
   {
    "duration": 164,
    "start_time": "2022-04-19T09:09:26.053Z"
   },
   {
    "duration": 58,
    "start_time": "2022-04-19T09:09:26.219Z"
   },
   {
    "duration": 26,
    "start_time": "2022-04-19T09:09:26.281Z"
   },
   {
    "duration": 14,
    "start_time": "2022-04-19T09:09:26.309Z"
   },
   {
    "duration": 204,
    "start_time": "2022-04-19T09:09:26.324Z"
   },
   {
    "duration": 42,
    "start_time": "2022-04-19T09:09:26.529Z"
   },
   {
    "duration": 46,
    "start_time": "2022-04-19T09:09:26.573Z"
   },
   {
    "duration": 3,
    "start_time": "2022-04-19T09:09:26.620Z"
   },
   {
    "duration": 29,
    "start_time": "2022-04-19T09:09:26.625Z"
   },
   {
    "duration": 8,
    "start_time": "2022-04-19T09:09:26.655Z"
   },
   {
    "duration": 8,
    "start_time": "2022-04-19T09:09:26.665Z"
   },
   {
    "duration": 32,
    "start_time": "2022-04-19T09:09:26.675Z"
   },
   {
    "duration": 3,
    "start_time": "2022-04-19T09:09:26.709Z"
   },
   {
    "duration": 9,
    "start_time": "2022-04-19T09:09:26.714Z"
   },
   {
    "duration": 17,
    "start_time": "2022-04-19T09:09:26.725Z"
   },
   {
    "duration": 20,
    "start_time": "2022-04-19T09:09:26.744Z"
   },
   {
    "duration": 6,
    "start_time": "2022-04-19T09:09:26.766Z"
   },
   {
    "duration": 44,
    "start_time": "2022-04-19T09:09:26.774Z"
   },
   {
    "duration": 9,
    "start_time": "2022-04-19T09:09:26.820Z"
   },
   {
    "duration": 2,
    "start_time": "2022-04-19T09:09:26.830Z"
   },
   {
    "duration": 133,
    "start_time": "2022-04-19T09:09:26.834Z"
   },
   {
    "duration": 21,
    "start_time": "2022-04-19T09:09:26.968Z"
   },
   {
    "duration": 52,
    "start_time": "2022-04-19T09:09:26.991Z"
   },
   {
    "duration": 241,
    "start_time": "2022-04-19T09:09:27.044Z"
   },
   {
    "duration": 5,
    "start_time": "2022-04-19T09:09:27.286Z"
   },
   {
    "duration": 295,
    "start_time": "2022-04-19T09:09:27.293Z"
   },
   {
    "duration": 331,
    "start_time": "2022-04-19T09:09:27.589Z"
   },
   {
    "duration": 265,
    "start_time": "2022-04-19T09:09:27.921Z"
   },
   {
    "duration": 284,
    "start_time": "2022-04-19T09:09:28.187Z"
   },
   {
    "duration": 38,
    "start_time": "2022-04-19T09:09:28.473Z"
   },
   {
    "duration": 8,
    "start_time": "2022-04-19T09:09:28.513Z"
   },
   {
    "duration": 4,
    "start_time": "2022-04-19T09:09:28.523Z"
   },
   {
    "duration": 9,
    "start_time": "2022-04-19T09:09:28.528Z"
   },
   {
    "duration": 20,
    "start_time": "2022-04-19T09:09:46.848Z"
   }
  ],
  "kernelspec": {
   "display_name": "Python 3 (ipykernel)",
   "language": "python",
   "name": "python3"
  },
  "language_info": {
   "codemirror_mode": {
    "name": "ipython",
    "version": 3
   },
   "file_extension": ".py",
   "mimetype": "text/x-python",
   "name": "python",
   "nbconvert_exporter": "python",
   "pygments_lexer": "ipython3",
   "version": "3.9.7"
  },
  "toc": {
   "base_numbering": 1,
   "nav_menu": {},
   "number_sections": false,
   "sideBar": true,
   "skip_h1_title": false,
   "title_cell": "Table of Contents",
   "title_sidebar": "Contents",
   "toc_cell": false,
   "toc_position": {
    "height": "calc(100% - 180px)",
    "left": "10px",
    "top": "150px",
    "width": "362.391px"
   },
   "toc_section_display": true,
   "toc_window_display": true
  }
 },
 "nbformat": 4,
 "nbformat_minor": 5
}

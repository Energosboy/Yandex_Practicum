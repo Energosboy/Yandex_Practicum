{
 "cells": [
  {
   "cell_type": "markdown",
   "metadata": {},
   "source": [
    "# Описание проекта"
   ]
  },
  {
   "cell_type": "markdown",
   "metadata": {},
   "source": [
    "## Задача"
   ]
  },
  {
   "cell_type": "markdown",
   "metadata": {},
   "source": [
    "- Сеть фитнес-центров «Культурист-датасаентист» разрабатывает стратегию взаимодействия с клиентами на основе аналитических данных.\n",
    "- Распространённая проблема фитнес-клубов и других сервисов — отток клиентов. Как понять, что клиент больше не с вами? Можно записать в отток тех, кто попросил закрыть договор или удалил аккаунт. Однако клиенты не всегда уходят демонстративно: чаще перестают пользоваться сервисом тихо.\n",
    "- Индикаторы оттока зависят от специфики отрасли. Когда пользователь редко, но стабильно закупается в интернет-магазине — не похоже, что он «отвалился». А вот если две недели не заходит на канал с ежедневно обновляемым контентом, дела плохи: подписчик заскучал и, кажется, оставил вас.\n",
    "- Для фитнес-центра можно считать, что клиент попал в отток, если за последний месяц ни разу не посетил спортзал. Конечно, не исключено, что он уехал на Бали и по приезде обязательно продолжит ходить на фитнес. Однако чаще бывает наоборот. Если клиент начал новую жизнь с понедельника, немного походил в спортзал, а потом пропал — скорее всего, он не вернётся.\n",
    "- Чтобы бороться с оттоком, отдел по работе с клиентами «Культуриста-датасаентиста» перевёл в электронный вид множество клиентских анкет. Ваша задача — провести анализ и подготовить план действий по удержанию клиентов.\n",
    "- А именно:\n",
    "  - научиться прогнозировать вероятность оттока (на уровне следующего месяца) для каждого клиента;\n",
    "  - сформировать типичные портреты клиентов: выделить несколько наиболее ярких групп и охарактеризовать их основные свойства;\n",
    "  - проанализировать основные признаки, наиболее сильно влияющие на отток;\n",
    "  - сформулировать основные выводы и разработать рекомендации по повышению качества работы с клиентами: 1) выделить целевые группы клиентов;2) предложить меры по снижению оттока; 3) определить другие особенности взаимодействия с клиентами."
   ]
  },
  {
   "cell_type": "markdown",
   "metadata": {},
   "source": [
    "## Инструкция по выполнению проекта"
   ]
  },
  {
   "cell_type": "markdown",
   "metadata": {},
   "source": [
    "### Шаг 1. Загрузите данные"
   ]
  },
  {
   "cell_type": "markdown",
   "metadata": {},
   "source": [
    " «Культурист-датасаентист» предоставил сведения в csv-файлах. Заказчик подготовил данные, которые содержат данные на месяц до оттока и факт оттока на определённый месяц. Набор данных включает следующие поля:\n",
    "###### Данные клиента за предыдущий до проверки факта оттока месяц:\n",
    "- 'gender' — пол;\n",
    "- 'Near_Location' — проживание или работа в районе, где находится фитнес-центр;\n",
    "- 'Partner' — сотрудник компании-партнёра клуба (сотрудничество с компаниями, чьи сотрудники могут получать скидки на абонемент — в таком случае фитнес-центр хранит информацию о работодателе клиента);\n",
    "- Promo_friends — факт первоначальной записи в рамках акции «приведи друга» (использовал промо-код от знакомого при оплате первого абонемента);\n",
    "- 'Phone' — наличие контактного телефона;\n",
    "- 'Age' — возраст;\n",
    "- 'Lifetime' — время с момента первого обращения в фитнес-центр (в месяцах).\n",
    "###### Информация на основе журнала посещений, покупок и информация о текущем статусе абонемента клиента:\n",
    "- 'Contract_period' — длительность текущего действующего абонемента (месяц, 6 месяцев, год);\n",
    "- 'Month_to_end_contract' — срок до окончания текущего действующего абонемента (в месяцах);\n",
    "- 'Group_visits' — факт посещения групповых занятий;\n",
    "- 'Avg_class_frequency_total' — средняя частота посещений в неделю за все время с начала действия абонемента;\n",
    "- 'Avg_class_frequency_current_month' — средняя частота посещений в неделю за предыдущий месяц;\n",
    "- 'Avg_additional_charges_total' — суммарная выручка от других услуг фитнес-центра: кафе, спорттовары, косметический и массажный салон.\n",
    "- 'Churn' — факт оттока в текущем месяце."
   ]
  },
  {
   "cell_type": "markdown",
   "metadata": {},
   "source": [
    "### Шаг 2. Проведите исследовательский анализ данных (EDA)"
   ]
  },
  {
   "cell_type": "markdown",
   "metadata": {},
   "source": [
    "- Посмотрите на датасет: есть ли в нем отсутствующие признаки, изучите средние значения и стандартные отклонения (пригодится метод describe());\n",
    "- Посмотрите на средние значения признаков в двух группах — тех, кто ушел в отток и тех, кто остался (воспользуйтесь методом groupby());\n",
    "- Постройте столбчатые гистограммы и распределения признаков для тех, кто ушёл (отток) и тех, кто остался (не попали в отток);\n",
    "- Постройте матрицу корреляций и отобразите её."
   ]
  },
  {
   "cell_type": "markdown",
   "metadata": {},
   "source": [
    "### Шаг 3. Постройте модель прогнозирования оттока клиентов"
   ]
  },
  {
   "cell_type": "markdown",
   "metadata": {},
   "source": [
    "Постройте модель бинарной классификации клиентов, где целевой признак — факт оттока клиента в следующем месяце:\n",
    "- Разбейте данные на обучающую и валидационную выборку функцией train_test_split().\n",
    "- Обучите модель на train-выборке двумя способами:\n",
    "   -  логистической регрессией,\n",
    "   - случайным лесом.\n",
    "- Оцените метрики accuracy, precision и recall для обеих моделей на валидационной выборке. Сравните по ним модели. Какая модель показала себя лучше на основании метрик?"
   ]
  },
  {
   "cell_type": "markdown",
   "metadata": {},
   "source": [
    "### Шаг 4. Сделайте кластеризацию клиентов"
   ]
  },
  {
   "cell_type": "markdown",
   "metadata": {},
   "source": [
    "Отложите в сторону столбец с оттоком и проведите кластеризацию объектов (клиентов):\n",
    "- Стандартизируйте данные.\n",
    "- Постройте матрицу расстояний функцией linkage() на стандартизованной матрице признаков и нарисуйте дендрограмму. Внимание: отрисовка дендрограммы может занять время! На основании полученного графика предположите, какое количество кластеров можно выделить.\n",
    "- Обучите модель кластеризации на основании алгоритма K-Means и спрогнозируйте кластеры клиентов. Договоримся за число кластеров принять n=5, чтобы ваши результаты можно было сравнивать с результатами остальных студентов. Однако, конечно, в жизни никто не скажет вам правильный ответ, и решение остаётся за вами (на основании изучения графика из предыдущего пункта).\n",
    "- Посмотрите на средние значения признаков для кластеров. Можно ли сразу что-то заметить?\n",
    "- Постройте распределения признаков для кластеров. Можно ли что-то заметить по ним?\n",
    "- Для каждого полученного кластера посчитайте долю оттока (методом groupby()). Отличаются ли они по доле оттока? Какие кластеры склонны к оттоку, а какие — надёжны?"
   ]
  },
  {
   "cell_type": "markdown",
   "metadata": {},
   "source": [
    "### Шаг 5. Сформулируйте выводы и сделайте базовые рекомендации по работе с клиентами"
   ]
  },
  {
   "cell_type": "markdown",
   "metadata": {},
   "source": [
    "- Сформулируйте основные выводы и предложите рекомендации для стратегии взаимодействия с клиентами и их удержания.\n",
    "- Не описывайте стратегию детально: достаточно 3-4 важных принципов и примеров их реализации в виде определённых маркетинговых действий"
   ]
  },
  {
   "cell_type": "markdown",
   "metadata": {},
   "source": [
    "# 1. Изучение и обзор данных"
   ]
  },
  {
   "cell_type": "markdown",
   "metadata": {},
   "source": [
    "*Открытие файла с данными и изучение общей информации*"
   ]
  },
  {
   "cell_type": "code",
   "execution_count": 1,
   "metadata": {},
   "outputs": [],
   "source": [
    "import pandas as pd\n",
    "import seaborn as sns\n",
    "import os\n",
    "import plotly.graph_objects as go\n",
    "from sklearn.preprocessing import StandardScaler\n",
    "from sklearn.model_selection import train_test_split\n",
    "from sklearn.linear_model import LogisticRegression\n",
    "from sklearn.metrics import roc_auc_score\n",
    "from sklearn.metrics import accuracy_score, precision_score, recall_score, f1_score\n",
    "from scipy.cluster.hierarchy import dendrogram, linkage\n",
    "from sklearn.cluster import KMeans\n",
    "from sklearn.ensemble import RandomForestClassifier\n",
    "import matplotlib.pyplot as plt\n",
    "from sklearn.metrics import mean_absolute_error, mean_squared_error, r2_score\n",
    "import warnings\n",
    "warnings.filterwarnings('ignore')"
   ]
  },
  {
   "cell_type": "code",
   "execution_count": 30,
   "metadata": {},
   "outputs": [],
   "source": [
    "# Загрузка файла\n",
    "df1 = 'datasets/gym_churn.csv'\n",
    "df2 = '/datasets/gym_churn.csv'\n",
    "if os.path.exists(df1):\n",
    "    df = 'datasets/gym_churn.csv'\n",
    "elif os.path.exists(df2):\n",
    "    df = pd.read_csv(df2)\n",
    "else:\n",
    "    print('Something is wrong')"
   ]
  },
  {
   "cell_type": "markdown",
   "metadata": {},
   "source": [
    "# 2. Исследовательский анализ данных (EDA)¶"
   ]
  },
  {
   "cell_type": "code",
   "execution_count": 29,
   "metadata": {
    "scrolled": true
   },
   "outputs": [
    {
     "name": "stdout",
     "output_type": "stream",
     "text": [
      "<class 'pandas.core.frame.DataFrame'>\n",
      "RangeIndex: 4000 entries, 0 to 3999\n",
      "Data columns (total 14 columns):\n",
      " #   Column                             Non-Null Count  Dtype  \n",
      "---  ------                             --------------  -----  \n",
      " 0   gender                             4000 non-null   int64  \n",
      " 1   Near_Location                      4000 non-null   int64  \n",
      " 2   Partner                            4000 non-null   int64  \n",
      " 3   Promo_friends                      4000 non-null   int64  \n",
      " 4   Phone                              4000 non-null   int64  \n",
      " 5   Contract_period                    4000 non-null   int64  \n",
      " 6   Group_visits                       4000 non-null   int64  \n",
      " 7   Age                                4000 non-null   int64  \n",
      " 8   Avg_additional_charges_total       4000 non-null   float64\n",
      " 9   Month_to_end_contract              4000 non-null   float64\n",
      " 10  Lifetime                           4000 non-null   int64  \n",
      " 11  Avg_class_frequency_total          4000 non-null   float64\n",
      " 12  Avg_class_frequency_current_month  4000 non-null   float64\n",
      " 13  Churn                              4000 non-null   int64  \n",
      "dtypes: float64(4), int64(10)\n",
      "memory usage: 437.6 KB\n"
     ]
    }
   ],
   "source": [
    "df.info()"
   ]
  },
  {
   "cell_type": "markdown",
   "metadata": {},
   "source": [
    "В датафрейме 4000 строк и 14 столбцов, пропусков в столбцах нет."
   ]
  },
  {
   "cell_type": "code",
   "execution_count": 5,
   "metadata": {},
   "outputs": [
    {
     "data": {
      "text/html": [
       "<div>\n",
       "<style scoped>\n",
       "    .dataframe tbody tr th:only-of-type {\n",
       "        vertical-align: middle;\n",
       "    }\n",
       "\n",
       "    .dataframe tbody tr th {\n",
       "        vertical-align: top;\n",
       "    }\n",
       "\n",
       "    .dataframe thead th {\n",
       "        text-align: right;\n",
       "    }\n",
       "</style>\n",
       "<table border=\"1\" class=\"dataframe\">\n",
       "  <thead>\n",
       "    <tr style=\"text-align: right;\">\n",
       "      <th></th>\n",
       "      <th>gender</th>\n",
       "      <th>Near_Location</th>\n",
       "      <th>Partner</th>\n",
       "      <th>Promo_friends</th>\n",
       "      <th>Phone</th>\n",
       "      <th>Contract_period</th>\n",
       "      <th>Group_visits</th>\n",
       "      <th>Age</th>\n",
       "      <th>Avg_additional_charges_total</th>\n",
       "      <th>Month_to_end_contract</th>\n",
       "      <th>Lifetime</th>\n",
       "      <th>Avg_class_frequency_total</th>\n",
       "      <th>Avg_class_frequency_current_month</th>\n",
       "      <th>Churn</th>\n",
       "    </tr>\n",
       "  </thead>\n",
       "  <tbody>\n",
       "    <tr>\n",
       "      <th>0</th>\n",
       "      <td>1</td>\n",
       "      <td>1</td>\n",
       "      <td>1</td>\n",
       "      <td>1</td>\n",
       "      <td>0</td>\n",
       "      <td>6</td>\n",
       "      <td>1</td>\n",
       "      <td>29</td>\n",
       "      <td>14.227470</td>\n",
       "      <td>5.0</td>\n",
       "      <td>3</td>\n",
       "      <td>0.020398</td>\n",
       "      <td>0.000000</td>\n",
       "      <td>0</td>\n",
       "    </tr>\n",
       "    <tr>\n",
       "      <th>1</th>\n",
       "      <td>0</td>\n",
       "      <td>1</td>\n",
       "      <td>0</td>\n",
       "      <td>0</td>\n",
       "      <td>1</td>\n",
       "      <td>12</td>\n",
       "      <td>1</td>\n",
       "      <td>31</td>\n",
       "      <td>113.202938</td>\n",
       "      <td>12.0</td>\n",
       "      <td>7</td>\n",
       "      <td>1.922936</td>\n",
       "      <td>1.910244</td>\n",
       "      <td>0</td>\n",
       "    </tr>\n",
       "    <tr>\n",
       "      <th>2</th>\n",
       "      <td>0</td>\n",
       "      <td>1</td>\n",
       "      <td>1</td>\n",
       "      <td>0</td>\n",
       "      <td>1</td>\n",
       "      <td>1</td>\n",
       "      <td>0</td>\n",
       "      <td>28</td>\n",
       "      <td>129.448479</td>\n",
       "      <td>1.0</td>\n",
       "      <td>2</td>\n",
       "      <td>1.859098</td>\n",
       "      <td>1.736502</td>\n",
       "      <td>0</td>\n",
       "    </tr>\n",
       "    <tr>\n",
       "      <th>3</th>\n",
       "      <td>0</td>\n",
       "      <td>1</td>\n",
       "      <td>1</td>\n",
       "      <td>1</td>\n",
       "      <td>1</td>\n",
       "      <td>12</td>\n",
       "      <td>1</td>\n",
       "      <td>33</td>\n",
       "      <td>62.669863</td>\n",
       "      <td>12.0</td>\n",
       "      <td>2</td>\n",
       "      <td>3.205633</td>\n",
       "      <td>3.357215</td>\n",
       "      <td>0</td>\n",
       "    </tr>\n",
       "    <tr>\n",
       "      <th>4</th>\n",
       "      <td>1</td>\n",
       "      <td>1</td>\n",
       "      <td>1</td>\n",
       "      <td>1</td>\n",
       "      <td>1</td>\n",
       "      <td>1</td>\n",
       "      <td>0</td>\n",
       "      <td>26</td>\n",
       "      <td>198.362265</td>\n",
       "      <td>1.0</td>\n",
       "      <td>3</td>\n",
       "      <td>1.113884</td>\n",
       "      <td>1.120078</td>\n",
       "      <td>0</td>\n",
       "    </tr>\n",
       "  </tbody>\n",
       "</table>\n",
       "</div>"
      ],
      "text/plain": [
       "   gender  Near_Location  Partner  Promo_friends  Phone  Contract_period  \\\n",
       "0       1              1        1              1      0                6   \n",
       "1       0              1        0              0      1               12   \n",
       "2       0              1        1              0      1                1   \n",
       "3       0              1        1              1      1               12   \n",
       "4       1              1        1              1      1                1   \n",
       "\n",
       "   Group_visits  Age  Avg_additional_charges_total  Month_to_end_contract  \\\n",
       "0             1   29                     14.227470                    5.0   \n",
       "1             1   31                    113.202938                   12.0   \n",
       "2             0   28                    129.448479                    1.0   \n",
       "3             1   33                     62.669863                   12.0   \n",
       "4             0   26                    198.362265                    1.0   \n",
       "\n",
       "   Lifetime  Avg_class_frequency_total  Avg_class_frequency_current_month  \\\n",
       "0         3                   0.020398                           0.000000   \n",
       "1         7                   1.922936                           1.910244   \n",
       "2         2                   1.859098                           1.736502   \n",
       "3         2                   3.205633                           3.357215   \n",
       "4         3                   1.113884                           1.120078   \n",
       "\n",
       "   Churn  \n",
       "0      0  \n",
       "1      0  \n",
       "2      0  \n",
       "3      0  \n",
       "4      0  "
      ]
     },
     "execution_count": 5,
     "metadata": {},
     "output_type": "execute_result"
    }
   ],
   "source": [
    "df.head()"
   ]
  },
  {
   "cell_type": "code",
   "execution_count": 5,
   "metadata": {},
   "outputs": [
    {
     "data": {
      "text/plain": [
       "array([0, 1])"
      ]
     },
     "execution_count": 5,
     "metadata": {},
     "output_type": "execute_result"
    }
   ],
   "source": [
    "df['Churn'].unique()"
   ]
  },
  {
   "cell_type": "markdown",
   "metadata": {},
   "source": [
    "Столбец \"Churn\" содержит либо 0 (остался) или 1 (ушел)"
   ]
  },
  {
   "cell_type": "markdown",
   "metadata": {},
   "source": [
    "Проверим количество дубликатов в датасете, кол-во дубликатов равно 0."
   ]
  },
  {
   "cell_type": "code",
   "execution_count": 7,
   "metadata": {
    "scrolled": true
   },
   "outputs": [
    {
     "data": {
      "text/plain": [
       "0"
      ]
     },
     "execution_count": 7,
     "metadata": {},
     "output_type": "execute_result"
    }
   ],
   "source": [
    "df.duplicated().sum()"
   ]
  },
  {
   "cell_type": "code",
   "execution_count": 6,
   "metadata": {},
   "outputs": [
    {
     "data": {
      "text/plain": [
       "gender                               0\n",
       "Near_Location                        0\n",
       "Partner                              0\n",
       "Promo_friends                        0\n",
       "Phone                                0\n",
       "Contract_period                      0\n",
       "Group_visits                         0\n",
       "Age                                  0\n",
       "Avg_additional_charges_total         0\n",
       "Month_to_end_contract                0\n",
       "Lifetime                             0\n",
       "Avg_class_frequency_total            0\n",
       "Avg_class_frequency_current_month    0\n",
       "Churn                                0\n",
       "dtype: int64"
      ]
     },
     "execution_count": 6,
     "metadata": {},
     "output_type": "execute_result"
    }
   ],
   "source": [
    "# проверим количество пропусков в датасете\n",
    "df.isna().sum()"
   ]
  },
  {
   "cell_type": "code",
   "execution_count": 8,
   "metadata": {
    "scrolled": true
   },
   "outputs": [
    {
     "data": {
      "text/html": [
       "<div>\n",
       "<style scoped>\n",
       "    .dataframe tbody tr th:only-of-type {\n",
       "        vertical-align: middle;\n",
       "    }\n",
       "\n",
       "    .dataframe tbody tr th {\n",
       "        vertical-align: top;\n",
       "    }\n",
       "\n",
       "    .dataframe thead th {\n",
       "        text-align: right;\n",
       "    }\n",
       "</style>\n",
       "<table border=\"1\" class=\"dataframe\">\n",
       "  <thead>\n",
       "    <tr style=\"text-align: right;\">\n",
       "      <th></th>\n",
       "      <th>gender</th>\n",
       "      <th>Near_Location</th>\n",
       "      <th>Partner</th>\n",
       "      <th>Promo_friends</th>\n",
       "      <th>Phone</th>\n",
       "      <th>Contract_period</th>\n",
       "      <th>Group_visits</th>\n",
       "      <th>Age</th>\n",
       "      <th>Avg_additional_charges_total</th>\n",
       "      <th>Month_to_end_contract</th>\n",
       "      <th>Lifetime</th>\n",
       "      <th>Avg_class_frequency_total</th>\n",
       "      <th>Avg_class_frequency_current_month</th>\n",
       "      <th>Churn</th>\n",
       "    </tr>\n",
       "  </thead>\n",
       "  <tbody>\n",
       "    <tr>\n",
       "      <th>count</th>\n",
       "      <td>4000.000000</td>\n",
       "      <td>4000.000000</td>\n",
       "      <td>4000.000000</td>\n",
       "      <td>4000.000000</td>\n",
       "      <td>4000.000000</td>\n",
       "      <td>4000.000000</td>\n",
       "      <td>4000.000000</td>\n",
       "      <td>4000.000000</td>\n",
       "      <td>4000.000000</td>\n",
       "      <td>4000.000000</td>\n",
       "      <td>4000.000000</td>\n",
       "      <td>4000.000000</td>\n",
       "      <td>4000.000000</td>\n",
       "      <td>4000.000000</td>\n",
       "    </tr>\n",
       "    <tr>\n",
       "      <th>mean</th>\n",
       "      <td>0.510250</td>\n",
       "      <td>0.845250</td>\n",
       "      <td>0.486750</td>\n",
       "      <td>0.308500</td>\n",
       "      <td>0.903500</td>\n",
       "      <td>4.681250</td>\n",
       "      <td>0.412250</td>\n",
       "      <td>29.184250</td>\n",
       "      <td>146.943728</td>\n",
       "      <td>4.322750</td>\n",
       "      <td>3.724750</td>\n",
       "      <td>1.879020</td>\n",
       "      <td>1.767052</td>\n",
       "      <td>0.265250</td>\n",
       "    </tr>\n",
       "    <tr>\n",
       "      <th>std</th>\n",
       "      <td>0.499957</td>\n",
       "      <td>0.361711</td>\n",
       "      <td>0.499887</td>\n",
       "      <td>0.461932</td>\n",
       "      <td>0.295313</td>\n",
       "      <td>4.549706</td>\n",
       "      <td>0.492301</td>\n",
       "      <td>3.258367</td>\n",
       "      <td>96.355602</td>\n",
       "      <td>4.191297</td>\n",
       "      <td>3.749267</td>\n",
       "      <td>0.972245</td>\n",
       "      <td>1.052906</td>\n",
       "      <td>0.441521</td>\n",
       "    </tr>\n",
       "    <tr>\n",
       "      <th>min</th>\n",
       "      <td>0.000000</td>\n",
       "      <td>0.000000</td>\n",
       "      <td>0.000000</td>\n",
       "      <td>0.000000</td>\n",
       "      <td>0.000000</td>\n",
       "      <td>1.000000</td>\n",
       "      <td>0.000000</td>\n",
       "      <td>18.000000</td>\n",
       "      <td>0.148205</td>\n",
       "      <td>1.000000</td>\n",
       "      <td>0.000000</td>\n",
       "      <td>0.000000</td>\n",
       "      <td>0.000000</td>\n",
       "      <td>0.000000</td>\n",
       "    </tr>\n",
       "    <tr>\n",
       "      <th>25%</th>\n",
       "      <td>0.000000</td>\n",
       "      <td>1.000000</td>\n",
       "      <td>0.000000</td>\n",
       "      <td>0.000000</td>\n",
       "      <td>1.000000</td>\n",
       "      <td>1.000000</td>\n",
       "      <td>0.000000</td>\n",
       "      <td>27.000000</td>\n",
       "      <td>68.868830</td>\n",
       "      <td>1.000000</td>\n",
       "      <td>1.000000</td>\n",
       "      <td>1.180875</td>\n",
       "      <td>0.963003</td>\n",
       "      <td>0.000000</td>\n",
       "    </tr>\n",
       "    <tr>\n",
       "      <th>50%</th>\n",
       "      <td>1.000000</td>\n",
       "      <td>1.000000</td>\n",
       "      <td>0.000000</td>\n",
       "      <td>0.000000</td>\n",
       "      <td>1.000000</td>\n",
       "      <td>1.000000</td>\n",
       "      <td>0.000000</td>\n",
       "      <td>29.000000</td>\n",
       "      <td>136.220159</td>\n",
       "      <td>1.000000</td>\n",
       "      <td>3.000000</td>\n",
       "      <td>1.832768</td>\n",
       "      <td>1.719574</td>\n",
       "      <td>0.000000</td>\n",
       "    </tr>\n",
       "    <tr>\n",
       "      <th>75%</th>\n",
       "      <td>1.000000</td>\n",
       "      <td>1.000000</td>\n",
       "      <td>1.000000</td>\n",
       "      <td>1.000000</td>\n",
       "      <td>1.000000</td>\n",
       "      <td>6.000000</td>\n",
       "      <td>1.000000</td>\n",
       "      <td>31.000000</td>\n",
       "      <td>210.949625</td>\n",
       "      <td>6.000000</td>\n",
       "      <td>5.000000</td>\n",
       "      <td>2.536078</td>\n",
       "      <td>2.510336</td>\n",
       "      <td>1.000000</td>\n",
       "    </tr>\n",
       "    <tr>\n",
       "      <th>max</th>\n",
       "      <td>1.000000</td>\n",
       "      <td>1.000000</td>\n",
       "      <td>1.000000</td>\n",
       "      <td>1.000000</td>\n",
       "      <td>1.000000</td>\n",
       "      <td>12.000000</td>\n",
       "      <td>1.000000</td>\n",
       "      <td>41.000000</td>\n",
       "      <td>552.590740</td>\n",
       "      <td>12.000000</td>\n",
       "      <td>31.000000</td>\n",
       "      <td>6.023668</td>\n",
       "      <td>6.146783</td>\n",
       "      <td>1.000000</td>\n",
       "    </tr>\n",
       "  </tbody>\n",
       "</table>\n",
       "</div>"
      ],
      "text/plain": [
       "            gender  Near_Location      Partner  Promo_friends        Phone  \\\n",
       "count  4000.000000    4000.000000  4000.000000    4000.000000  4000.000000   \n",
       "mean      0.510250       0.845250     0.486750       0.308500     0.903500   \n",
       "std       0.499957       0.361711     0.499887       0.461932     0.295313   \n",
       "min       0.000000       0.000000     0.000000       0.000000     0.000000   \n",
       "25%       0.000000       1.000000     0.000000       0.000000     1.000000   \n",
       "50%       1.000000       1.000000     0.000000       0.000000     1.000000   \n",
       "75%       1.000000       1.000000     1.000000       1.000000     1.000000   \n",
       "max       1.000000       1.000000     1.000000       1.000000     1.000000   \n",
       "\n",
       "       Contract_period  Group_visits          Age  \\\n",
       "count      4000.000000   4000.000000  4000.000000   \n",
       "mean          4.681250      0.412250    29.184250   \n",
       "std           4.549706      0.492301     3.258367   \n",
       "min           1.000000      0.000000    18.000000   \n",
       "25%           1.000000      0.000000    27.000000   \n",
       "50%           1.000000      0.000000    29.000000   \n",
       "75%           6.000000      1.000000    31.000000   \n",
       "max          12.000000      1.000000    41.000000   \n",
       "\n",
       "       Avg_additional_charges_total  Month_to_end_contract     Lifetime  \\\n",
       "count                   4000.000000            4000.000000  4000.000000   \n",
       "mean                     146.943728               4.322750     3.724750   \n",
       "std                       96.355602               4.191297     3.749267   \n",
       "min                        0.148205               1.000000     0.000000   \n",
       "25%                       68.868830               1.000000     1.000000   \n",
       "50%                      136.220159               1.000000     3.000000   \n",
       "75%                      210.949625               6.000000     5.000000   \n",
       "max                      552.590740              12.000000    31.000000   \n",
       "\n",
       "       Avg_class_frequency_total  Avg_class_frequency_current_month  \\\n",
       "count                4000.000000                        4000.000000   \n",
       "mean                    1.879020                           1.767052   \n",
       "std                     0.972245                           1.052906   \n",
       "min                     0.000000                           0.000000   \n",
       "25%                     1.180875                           0.963003   \n",
       "50%                     1.832768                           1.719574   \n",
       "75%                     2.536078                           2.510336   \n",
       "max                     6.023668                           6.146783   \n",
       "\n",
       "             Churn  \n",
       "count  4000.000000  \n",
       "mean      0.265250  \n",
       "std       0.441521  \n",
       "min       0.000000  \n",
       "25%       0.000000  \n",
       "50%       0.000000  \n",
       "75%       1.000000  \n",
       "max       1.000000  "
      ]
     },
     "execution_count": 8,
     "metadata": {},
     "output_type": "execute_result"
    }
   ],
   "source": [
    "df.describe()"
   ]
  },
  {
   "cell_type": "markdown",
   "metadata": {},
   "source": [
    "Посмотрим на средние значения признаков двух групп, кто ушел и кто остался, сгруппируем датафрейм по столбцу Churn"
   ]
  },
  {
   "cell_type": "code",
   "execution_count": 15,
   "metadata": {},
   "outputs": [],
   "source": [
    "clients_no_churn = df.query('Churn == 0')\n",
    "clients_churn = df.query('Churn == 1')"
   ]
  },
  {
   "cell_type": "code",
   "execution_count": 18,
   "metadata": {
    "scrolled": true
   },
   "outputs": [
    {
     "data": {
      "text/html": [
       "<div>\n",
       "<style scoped>\n",
       "    .dataframe tbody tr th:only-of-type {\n",
       "        vertical-align: middle;\n",
       "    }\n",
       "\n",
       "    .dataframe tbody tr th {\n",
       "        vertical-align: top;\n",
       "    }\n",
       "\n",
       "    .dataframe thead th {\n",
       "        text-align: right;\n",
       "    }\n",
       "</style>\n",
       "<table border=\"1\" class=\"dataframe\">\n",
       "  <thead>\n",
       "    <tr style=\"text-align: right;\">\n",
       "      <th></th>\n",
       "      <th>Среднее значение для клиентов кто ушел</th>\n",
       "      <th>Среднее значение для клиентов кто остался</th>\n",
       "    </tr>\n",
       "  </thead>\n",
       "  <tbody>\n",
       "    <tr>\n",
       "      <th>gender</th>\n",
       "      <td>0.510839</td>\n",
       "      <td>0.510037</td>\n",
       "    </tr>\n",
       "    <tr>\n",
       "      <th>Near_Location</th>\n",
       "      <td>0.768143</td>\n",
       "      <td>0.873086</td>\n",
       "    </tr>\n",
       "    <tr>\n",
       "      <th>Partner</th>\n",
       "      <td>0.355325</td>\n",
       "      <td>0.534195</td>\n",
       "    </tr>\n",
       "    <tr>\n",
       "      <th>Promo_friends</th>\n",
       "      <td>0.183789</td>\n",
       "      <td>0.353522</td>\n",
       "    </tr>\n",
       "    <tr>\n",
       "      <th>Phone</th>\n",
       "      <td>0.902922</td>\n",
       "      <td>0.903709</td>\n",
       "    </tr>\n",
       "    <tr>\n",
       "      <th>Contract_period</th>\n",
       "      <td>1.728558</td>\n",
       "      <td>5.747193</td>\n",
       "    </tr>\n",
       "    <tr>\n",
       "      <th>Group_visits</th>\n",
       "      <td>0.268615</td>\n",
       "      <td>0.464103</td>\n",
       "    </tr>\n",
       "    <tr>\n",
       "      <th>Age</th>\n",
       "      <td>26.989632</td>\n",
       "      <td>29.976523</td>\n",
       "    </tr>\n",
       "    <tr>\n",
       "      <th>Avg_additional_charges_total</th>\n",
       "      <td>115.082899</td>\n",
       "      <td>158.445715</td>\n",
       "    </tr>\n",
       "    <tr>\n",
       "      <th>Month_to_end_contract</th>\n",
       "      <td>1.662582</td>\n",
       "      <td>5.283089</td>\n",
       "    </tr>\n",
       "    <tr>\n",
       "      <th>Lifetime</th>\n",
       "      <td>0.990575</td>\n",
       "      <td>4.711807</td>\n",
       "    </tr>\n",
       "    <tr>\n",
       "      <th>Avg_class_frequency_total</th>\n",
       "      <td>1.474995</td>\n",
       "      <td>2.024876</td>\n",
       "    </tr>\n",
       "    <tr>\n",
       "      <th>Avg_class_frequency_current_month</th>\n",
       "      <td>1.044546</td>\n",
       "      <td>2.027882</td>\n",
       "    </tr>\n",
       "    <tr>\n",
       "      <th>Churn</th>\n",
       "      <td>1.000000</td>\n",
       "      <td>0.000000</td>\n",
       "    </tr>\n",
       "  </tbody>\n",
       "</table>\n",
       "</div>"
      ],
      "text/plain": [
       "                                   Среднее значение для клиентов кто ушел  \\\n",
       "gender                                                           0.510839   \n",
       "Near_Location                                                    0.768143   \n",
       "Partner                                                          0.355325   \n",
       "Promo_friends                                                    0.183789   \n",
       "Phone                                                            0.902922   \n",
       "Contract_period                                                  1.728558   \n",
       "Group_visits                                                     0.268615   \n",
       "Age                                                             26.989632   \n",
       "Avg_additional_charges_total                                   115.082899   \n",
       "Month_to_end_contract                                            1.662582   \n",
       "Lifetime                                                         0.990575   \n",
       "Avg_class_frequency_total                                        1.474995   \n",
       "Avg_class_frequency_current_month                                1.044546   \n",
       "Churn                                                            1.000000   \n",
       "\n",
       "                                   Среднее значение для клиентов кто остался  \n",
       "gender                                                              0.510037  \n",
       "Near_Location                                                       0.873086  \n",
       "Partner                                                             0.534195  \n",
       "Promo_friends                                                       0.353522  \n",
       "Phone                                                               0.903709  \n",
       "Contract_period                                                     5.747193  \n",
       "Group_visits                                                        0.464103  \n",
       "Age                                                                29.976523  \n",
       "Avg_additional_charges_total                                      158.445715  \n",
       "Month_to_end_contract                                               5.283089  \n",
       "Lifetime                                                            4.711807  \n",
       "Avg_class_frequency_total                                           2.024876  \n",
       "Avg_class_frequency_current_month                                   2.027882  \n",
       "Churn                                                               0.000000  "
      ]
     },
     "execution_count": 18,
     "metadata": {},
     "output_type": "execute_result"
    }
   ],
   "source": [
    "churn_info = pd.DataFrame({'Среднее значение для клиентов кто ушел': clients_churn.mean(),\n",
    "                           'Среднее значение для клиентов кто остался': clients_no_churn.mean()})\n",
    "churn_info"
   ]
  },
  {
   "cell_type": "code",
   "execution_count": 14,
   "metadata": {},
   "outputs": [
    {
     "data": {
      "text/html": [
       "<div>\n",
       "<style scoped>\n",
       "    .dataframe tbody tr th:only-of-type {\n",
       "        vertical-align: middle;\n",
       "    }\n",
       "\n",
       "    .dataframe tbody tr th {\n",
       "        vertical-align: top;\n",
       "    }\n",
       "\n",
       "    .dataframe thead th {\n",
       "        text-align: right;\n",
       "    }\n",
       "</style>\n",
       "<table border=\"1\" class=\"dataframe\">\n",
       "  <thead>\n",
       "    <tr style=\"text-align: right;\">\n",
       "      <th>Churn</th>\n",
       "      <th>0</th>\n",
       "      <th>1</th>\n",
       "    </tr>\n",
       "  </thead>\n",
       "  <tbody>\n",
       "    <tr>\n",
       "      <th>gender</th>\n",
       "      <td>0.510037</td>\n",
       "      <td>0.510839</td>\n",
       "    </tr>\n",
       "    <tr>\n",
       "      <th>Near_Location</th>\n",
       "      <td>0.873086</td>\n",
       "      <td>0.768143</td>\n",
       "    </tr>\n",
       "    <tr>\n",
       "      <th>Partner</th>\n",
       "      <td>0.534195</td>\n",
       "      <td>0.355325</td>\n",
       "    </tr>\n",
       "    <tr>\n",
       "      <th>Promo_friends</th>\n",
       "      <td>0.353522</td>\n",
       "      <td>0.183789</td>\n",
       "    </tr>\n",
       "    <tr>\n",
       "      <th>Phone</th>\n",
       "      <td>0.903709</td>\n",
       "      <td>0.902922</td>\n",
       "    </tr>\n",
       "    <tr>\n",
       "      <th>Contract_period</th>\n",
       "      <td>5.747193</td>\n",
       "      <td>1.728558</td>\n",
       "    </tr>\n",
       "    <tr>\n",
       "      <th>Group_visits</th>\n",
       "      <td>0.464103</td>\n",
       "      <td>0.268615</td>\n",
       "    </tr>\n",
       "    <tr>\n",
       "      <th>Age</th>\n",
       "      <td>29.976523</td>\n",
       "      <td>26.989632</td>\n",
       "    </tr>\n",
       "    <tr>\n",
       "      <th>Avg_additional_charges_total</th>\n",
       "      <td>158.445715</td>\n",
       "      <td>115.082899</td>\n",
       "    </tr>\n",
       "    <tr>\n",
       "      <th>Month_to_end_contract</th>\n",
       "      <td>5.283089</td>\n",
       "      <td>1.662582</td>\n",
       "    </tr>\n",
       "    <tr>\n",
       "      <th>Lifetime</th>\n",
       "      <td>4.711807</td>\n",
       "      <td>0.990575</td>\n",
       "    </tr>\n",
       "    <tr>\n",
       "      <th>Avg_class_frequency_total</th>\n",
       "      <td>2.024876</td>\n",
       "      <td>1.474995</td>\n",
       "    </tr>\n",
       "    <tr>\n",
       "      <th>Avg_class_frequency_current_month</th>\n",
       "      <td>2.027882</td>\n",
       "      <td>1.044546</td>\n",
       "    </tr>\n",
       "  </tbody>\n",
       "</table>\n",
       "</div>"
      ],
      "text/plain": [
       "Churn                                       0           1\n",
       "gender                               0.510037    0.510839\n",
       "Near_Location                        0.873086    0.768143\n",
       "Partner                              0.534195    0.355325\n",
       "Promo_friends                        0.353522    0.183789\n",
       "Phone                                0.903709    0.902922\n",
       "Contract_period                      5.747193    1.728558\n",
       "Group_visits                         0.464103    0.268615\n",
       "Age                                 29.976523   26.989632\n",
       "Avg_additional_charges_total       158.445715  115.082899\n",
       "Month_to_end_contract                5.283089    1.662582\n",
       "Lifetime                             4.711807    0.990575\n",
       "Avg_class_frequency_total            2.024876    1.474995\n",
       "Avg_class_frequency_current_month    2.027882    1.044546"
      ]
     },
     "execution_count": 14,
     "metadata": {},
     "output_type": "execute_result"
    }
   ],
   "source": [
    "df.groupby('Churn').agg('mean').T"
   ]
  },
  {
   "cell_type": "markdown",
   "metadata": {},
   "source": [
    "######  Вывод: \n",
    "- По признакам можно сделать вывод, что в целом у клиентов в оттоке меньшая активность и затраты."
   ]
  },
  {
   "cell_type": "markdown",
   "metadata": {},
   "source": [
    " ###### Построим столбчатые гистограммы и распределения признаков для тех, кто ушёл (отток) и тех, кто остался (не попали в отток)"
   ]
  },
  {
   "cell_type": "markdown",
   "metadata": {},
   "source": [
    "Разделим датафрейм по столбцам с бинарными данными (0 или 1) и остальные."
   ]
  },
  {
   "cell_type": "markdown",
   "metadata": {},
   "source": [
    "######  Построим распределения признаков для тех, кто ушёл (отток) и тех, кто остался (не попали в отток) для столбцов с не бинарными данными"
   ]
  },
  {
   "cell_type": "code",
   "execution_count": 11,
   "metadata": {},
   "outputs": [
    {
     "data": {
      "image/png": "[encoded data removed]",
      "text/plain": [
       "<Figure size 432x216 with 1 Axes>"
      ]
     },
     "metadata": {
      "needs_background": "light"
     },
     "output_type": "display_data"
    },
    {
     "data": {
      "image/png": "[encoded data removed]",
      "text/plain": [
       "<Figure size 432x216 with 1 Axes>"
      ]
     },
     "metadata": {
      "needs_background": "light"
     },
     "output_type": "display_data"
    },
    {
     "data": {
      "image/png": "[encoded data removed]",
      "text/plain": [
       "<Figure size 432x216 with 1 Axes>"
      ]
     },
     "metadata": {
      "needs_background": "light"
     },
     "output_type": "display_data"
    },
    {
     "data": {
      "image/png": "[encoded data removed]",
      "text/plain": [
       "<Figure size 432x216 with 1 Axes>"
      ]
     },
     "metadata": {
      "needs_background": "light"
     },
     "output_type": "display_data"
    },
    {
     "data": {
      "image/png": "[encoded data removed]",
      "text/plain": [
       "<Figure size 432x216 with 1 Axes>"
      ]
     },
     "metadata": {
      "needs_background": "light"
     },
     "output_type": "display_data"
    },
    {
     "data": {
      "image/png": "[encoded data removed]",
      "text/plain": [
       "<Figure size 432x216 with 1 Axes>"
      ]
     },
     "metadata": {
      "needs_background": "light"
     },
     "output_type": "display_data"
    }
   ],
   "source": [
    "column = df.drop(columns =(['gender', 'Near_Location', 'Partner','Promo_friends', 'Phone',\n",
    "                              'Group_visits', 'Contract_period', 'Churn'])).columns\n",
    "for col in column:\n",
    "    plt.figure(figsize=(6, 3))\n",
    "    sns.distplot(clients_no_churn[col])\n",
    "    sns.distplot(clients_churn[col], color = 'r')\n",
    "    plt.legend(labels = ('Остались', 'Ушли'))\n",
    "    plt.title('Распределение для признака ' + col)\n",
    "    plt.show()"
   ]
  },
  {
   "cell_type": "markdown",
   "metadata": {},
   "source": [
    "###### Вывод: \n",
    "- Молодые люди уходят чаще, чем взрослые и наоборот чем старше, тем вероятнее останется.\n",
    "- Уходящие клиенты тратят меньше, чем оставшиеся.\n",
    "- Уходящие клиенты в основном покупают абонемент на один месяц.\n",
    "- Уходят в основном новички, если клиент занимался более 5 месяцев, то его уход маловероятен.\n",
    "- Клиенты в оттоке чаще всего посещают зал 1, 2 раза в неделю.\n",
    "- Если клиент ни разу не посетил зал за месяц, то вероятнее всего он не вернется, если посетил более 4-х раз, то станет постоянным клиентом."
   ]
  },
  {
   "cell_type": "markdown",
   "metadata": {},
   "source": [
    "###### Построим столбчатые диаграммы для тех, кто ушёл (отток) и тех, кто остался (не попали в отток) для столбцов с  бинарными данными"
   ]
  },
  {
   "cell_type": "code",
   "execution_count": 12,
   "metadata": {},
   "outputs": [],
   "source": [
    "binar = df[['gender', 'Near_Location', 'Partner','Promo_friends', 'Phone', 'Group_visits', 'Contract_period', 'Churn']]"
   ]
  },
  {
   "cell_type": "code",
   "execution_count": 13,
   "metadata": {},
   "outputs": [
    {
     "data": {
      "image/png": "[encoded data removed]",
      "text/plain": [
       "<Figure size 288x180 with 2 Axes>"
      ]
     },
     "metadata": {
      "needs_background": "light"
     },
     "output_type": "display_data"
    },
    {
     "data": {
      "image/png": "[encoded data removed]",
      "text/plain": [
       "<Figure size 288x180 with 2 Axes>"
      ]
     },
     "metadata": {
      "needs_background": "light"
     },
     "output_type": "display_data"
    },
    {
     "data": {
      "image/png": "[encoded data removed]",
      "text/plain": [
       "<Figure size 288x180 with 2 Axes>"
      ]
     },
     "metadata": {
      "needs_background": "light"
     },
     "output_type": "display_data"
    },
    {
     "data": {
      "image/png": "[encoded data removed]",
      "text/plain": [
       "<Figure size 288x180 with 2 Axes>"
      ]
     },
     "metadata": {
      "needs_background": "light"
     },
     "output_type": "display_data"
    },
    {
     "data": {
      "image/png": "[encoded data removed]",
      "text/plain": [
       "<Figure size 288x180 with 2 Axes>"
      ]
     },
     "metadata": {
      "needs_background": "light"
     },
     "output_type": "display_data"
    },
    {
     "data": {
      "image/png": "[encoded data removed]",
      "text/plain": [
       "<Figure size 288x180 with 2 Axes>"
      ]
     },
     "metadata": {
      "needs_background": "light"
     },
     "output_type": "display_data"
    },
    {
     "data": {
      "image/png": "[encoded data removed]",
      "text/plain": [
       "<Figure size 288x180 with 2 Axes>"
      ]
     },
     "metadata": {
      "needs_background": "light"
     },
     "output_type": "display_data"
    },
    {
     "data": {
      "image/png": "[encoded data removed]",
      "text/plain": [
       "<Figure size 288x180 with 2 Axes>"
      ]
     },
     "metadata": {
      "needs_background": "light"
     },
     "output_type": "display_data"
    }
   ],
   "source": [
    "for col in binar.columns:\n",
    "    sns.catplot(col, col=\"Churn\", data = binar, kind=\"count\", height=2.5, aspect=.8)"
   ]
  },
  {
   "cell_type": "markdown",
   "metadata": {},
   "source": [
    "###### Вывод: Из графиков можно сделать вывод, что чаще уходят клиенты которые:\n",
    "- Покупают абонемент всего на один месяц\n",
    "- Реже посещают групповые занятия"
   ]
  },
  {
   "cell_type": "markdown",
   "metadata": {},
   "source": [
    "###### Построим матрицу корреляций"
   ]
  },
  {
   "cell_type": "code",
   "execution_count": 14,
   "metadata": {},
   "outputs": [
    {
     "data": {
      "image/png": "[encoded data removed]",
      "text/plain": [
       "<Figure size 1008x1008 with 2 Axes>"
      ]
     },
     "metadata": {
      "needs_background": "light"
     },
     "output_type": "display_data"
    }
   ],
   "source": [
    "mc = df.corr()\n",
    "plt.figure(figsize=(14, 14))\n",
    "sns.heatmap(mc, annot=True, fmt = '.3f', square=True)\n",
    "plt.show()"
   ]
  },
  {
   "cell_type": "markdown",
   "metadata": {},
   "source": [
    "###### Вывод: \n",
    "Из матрицы корреляций можно выделить, что сильно коррелируют такие признаки как Month_to_end_contract и Contract_period = 0,973, а так же Avg_class_frequency_current_month и Avg_class_frequency_total = 0,953, что логично так как признаки взаимосвязанны между собой."
   ]
  },
  {
   "cell_type": "markdown",
   "metadata": {},
   "source": [
    "# 3. Построим модель прогнозирования оттока клиентов"
   ]
  },
  {
   "cell_type": "markdown",
   "metadata": {},
   "source": [
    "Разобъем данные на обучающую и валидационную выборки"
   ]
  },
  {
   "cell_type": "code",
   "execution_count": 24,
   "metadata": {},
   "outputs": [],
   "source": [
    "X = df.drop('Churn', axis = 1)\n",
    "y = df['Churn']\n",
    "X_train, X_test, y_train, y_test = train_test_split(X, y, test_size=0.2)"
   ]
  },
  {
   "cell_type": "code",
   "execution_count": 60,
   "metadata": {
    "scrolled": true
   },
   "outputs": [
    {
     "name": "stdout",
     "output_type": "stream",
     "text": [
      "Размер первоначального датафрейма: (4000, 13)\n"
     ]
    }
   ],
   "source": [
    "print('Размер первоначального датафрейма:', X.shape)"
   ]
  },
  {
   "cell_type": "code",
   "execution_count": 57,
   "metadata": {},
   "outputs": [
    {
     "name": "stdout",
     "output_type": "stream",
     "text": [
      "Размер обучающей выборки: (3200, 13)\n"
     ]
    }
   ],
   "source": [
    "print('Размер обучающей выборки:', X_train.shape)"
   ]
  },
  {
   "cell_type": "code",
   "execution_count": 59,
   "metadata": {},
   "outputs": [
    {
     "name": "stdout",
     "output_type": "stream",
     "text": [
      "Размер валидационной выборки: (800, 13)\n"
     ]
    }
   ],
   "source": [
    "print('Размер валидационной выборки:', X_test.shape)"
   ]
  },
  {
   "cell_type": "markdown",
   "metadata": {},
   "source": [
    "Обучим модель двумя способами, логистической регрессией и случайным лесом и оценим метрики accuracy, precision и recall для обеих моделей на валидационной выборке"
   ]
  },
  {
   "cell_type": "code",
   "execution_count": 16,
   "metadata": {},
   "outputs": [],
   "source": [
    "def print_metrics(y_true, y_pred, y_proba, title = 'Метрики классификации'):\n",
    "    print(title)\n",
    "    print('\\tAccuracy: {:.2f}'.format(accuracy_score(y_true, y_pred)))\n",
    "    print('\\tPrecision: {:.2f}'.format(precision_score(y_true, y_pred)))\n",
    "    print('\\tRecall: {:.2f}'.format(recall_score(y_true, y_pred)))"
   ]
  },
  {
   "cell_type": "code",
   "execution_count": 17,
   "metadata": {},
   "outputs": [
    {
     "name": "stdout",
     "output_type": "stream",
     "text": [
      "Метрики для модели логистической регрессии:\n",
      "\tAccuracy: 0.93\n",
      "\tPrecision: 0.91\n",
      "\tRecall: 0.80\n"
     ]
    }
   ],
   "source": [
    "lr_model = LogisticRegression(random_state = 0)\n",
    "lr_model.fit(X_train, y_train)\n",
    "lr_predictions = lr_model.predict(X_test)\n",
    "lr_probabilities = lr_model.predict_proba(X_test)[:,1]\n",
    "print_metrics(y_test, lr_predictions, lr_probabilities , title='Метрики для модели логистической регрессии:')"
   ]
  },
  {
   "cell_type": "code",
   "execution_count": 18,
   "metadata": {},
   "outputs": [
    {
     "name": "stdout",
     "output_type": "stream",
     "text": [
      "Метрики для модели случайного леса:\n",
      "\tAccuracy: 0.92\n",
      "\tPrecision: 0.87\n",
      "\tRecall: 0.79\n"
     ]
    }
   ],
   "source": [
    "rf_model = RandomForestClassifier(n_estimators = 100, random_state = 0)\n",
    "rf_model.fit(X_train, y_train)\n",
    "rf_predictions = rf_model.predict(X_test)\n",
    "rf_probabilities = rf_model.predict_proba(X_test)[:,1]\n",
    "print_metrics(y_test, rf_predictions, rf_probabilities, title = 'Метрики для модели случайного леса:')"
   ]
  },
  {
   "cell_type": "markdown",
   "metadata": {},
   "source": [
    "###### Вывод: \n",
    "- Из исследования видно, что модели практически не отличаются, но можно отметить, что модель линейной регрессии показала  себя немного лучше, чем модель случайного леса."
   ]
  },
  {
   "cell_type": "markdown",
   "metadata": {},
   "source": [
    "# 4. Кластеризация клиентов "
   ]
  },
  {
   "cell_type": "markdown",
   "metadata": {},
   "source": [
    "Нарисуем дендрограмму."
   ]
  },
  {
   "cell_type": "code",
   "execution_count": 19,
   "metadata": {},
   "outputs": [],
   "source": [
    "sc = StandardScaler()\n",
    "x_sc = sc.fit_transform(X)"
   ]
  },
  {
   "cell_type": "code",
   "execution_count": 20,
   "metadata": {
    "scrolled": true
   },
   "outputs": [
    {
     "data": {
      "image/png": "[encoded data removed]",
      "text/plain": [
       "<Figure size 1080x720 with 1 Axes>"
      ]
     },
     "metadata": {
      "needs_background": "light"
     },
     "output_type": "display_data"
    }
   ],
   "source": [
    "linked = linkage(x_sc, method = 'ward')\n",
    "plt.figure(figsize=(15, 10))  \n",
    "dendrogram(linked, orientation='top')\n",
    "plt.title('Hierarchial clustering for GYM')\n",
    "plt.show()"
   ]
  },
  {
   "cell_type": "markdown",
   "metadata": {},
   "source": [
    "Обучим модель на основании алгоритма K-Means."
   ]
  },
  {
   "cell_type": "code",
   "execution_count": 21,
   "metadata": {},
   "outputs": [],
   "source": [
    "km = KMeans(n_clusters = 5, random_state=0)\n",
    "labels = km.fit_predict(x_sc) \n",
    "df_clust = df\n",
    "df_clust['cluster_km'] = labels"
   ]
  },
  {
   "cell_type": "code",
   "execution_count": 22,
   "metadata": {},
   "outputs": [
    {
     "data": {
      "text/html": [
       "<div>\n",
       "<style scoped>\n",
       "    .dataframe tbody tr th:only-of-type {\n",
       "        vertical-align: middle;\n",
       "    }\n",
       "\n",
       "    .dataframe tbody tr th {\n",
       "        vertical-align: top;\n",
       "    }\n",
       "\n",
       "    .dataframe thead th {\n",
       "        text-align: right;\n",
       "    }\n",
       "</style>\n",
       "<table border=\"1\" class=\"dataframe\">\n",
       "  <thead>\n",
       "    <tr style=\"text-align: right;\">\n",
       "      <th></th>\n",
       "      <th>gender</th>\n",
       "      <th>Near_Location</th>\n",
       "      <th>Partner</th>\n",
       "      <th>Promo_friends</th>\n",
       "      <th>Phone</th>\n",
       "      <th>Contract_period</th>\n",
       "      <th>Group_visits</th>\n",
       "      <th>Age</th>\n",
       "      <th>Avg_additional_charges_total</th>\n",
       "      <th>Month_to_end_contract</th>\n",
       "      <th>Lifetime</th>\n",
       "      <th>Avg_class_frequency_total</th>\n",
       "      <th>Avg_class_frequency_current_month</th>\n",
       "      <th>Churn</th>\n",
       "    </tr>\n",
       "    <tr>\n",
       "      <th>cluster_km</th>\n",
       "      <th></th>\n",
       "      <th></th>\n",
       "      <th></th>\n",
       "      <th></th>\n",
       "      <th></th>\n",
       "      <th></th>\n",
       "      <th></th>\n",
       "      <th></th>\n",
       "      <th></th>\n",
       "      <th></th>\n",
       "      <th></th>\n",
       "      <th></th>\n",
       "      <th></th>\n",
       "      <th></th>\n",
       "    </tr>\n",
       "  </thead>\n",
       "  <tbody>\n",
       "    <tr>\n",
       "      <th>0</th>\n",
       "      <td>0.502970</td>\n",
       "      <td>0.959406</td>\n",
       "      <td>0.783168</td>\n",
       "      <td>0.574257</td>\n",
       "      <td>1.000000</td>\n",
       "      <td>10.889109</td>\n",
       "      <td>0.542574</td>\n",
       "      <td>29.982178</td>\n",
       "      <td>160.761016</td>\n",
       "      <td>9.954455</td>\n",
       "      <td>4.736634</td>\n",
       "      <td>1.982055</td>\n",
       "      <td>1.974789</td>\n",
       "      <td>0.027723</td>\n",
       "    </tr>\n",
       "    <tr>\n",
       "      <th>1</th>\n",
       "      <td>0.522078</td>\n",
       "      <td>0.862338</td>\n",
       "      <td>0.470130</td>\n",
       "      <td>0.306494</td>\n",
       "      <td>0.000000</td>\n",
       "      <td>4.787013</td>\n",
       "      <td>0.425974</td>\n",
       "      <td>29.301299</td>\n",
       "      <td>143.957664</td>\n",
       "      <td>4.475325</td>\n",
       "      <td>3.924675</td>\n",
       "      <td>1.847220</td>\n",
       "      <td>1.716369</td>\n",
       "      <td>0.267532</td>\n",
       "    </tr>\n",
       "    <tr>\n",
       "      <th>2</th>\n",
       "      <td>0.495050</td>\n",
       "      <td>0.000000</td>\n",
       "      <td>0.463366</td>\n",
       "      <td>0.079208</td>\n",
       "      <td>1.000000</td>\n",
       "      <td>2.352475</td>\n",
       "      <td>0.215842</td>\n",
       "      <td>28.477228</td>\n",
       "      <td>135.457501</td>\n",
       "      <td>2.198020</td>\n",
       "      <td>2.809901</td>\n",
       "      <td>1.660461</td>\n",
       "      <td>1.477324</td>\n",
       "      <td>0.443564</td>\n",
       "    </tr>\n",
       "    <tr>\n",
       "      <th>3</th>\n",
       "      <td>0.485737</td>\n",
       "      <td>1.000000</td>\n",
       "      <td>0.350238</td>\n",
       "      <td>0.240095</td>\n",
       "      <td>1.000000</td>\n",
       "      <td>1.948494</td>\n",
       "      <td>0.341521</td>\n",
       "      <td>28.167987</td>\n",
       "      <td>131.622204</td>\n",
       "      <td>1.856577</td>\n",
       "      <td>2.440571</td>\n",
       "      <td>1.247634</td>\n",
       "      <td>1.012983</td>\n",
       "      <td>0.514263</td>\n",
       "    </tr>\n",
       "    <tr>\n",
       "      <th>4</th>\n",
       "      <td>0.559666</td>\n",
       "      <td>0.976134</td>\n",
       "      <td>0.356802</td>\n",
       "      <td>0.230310</td>\n",
       "      <td>0.998807</td>\n",
       "      <td>2.669451</td>\n",
       "      <td>0.473747</td>\n",
       "      <td>30.125298</td>\n",
       "      <td>161.657905</td>\n",
       "      <td>2.459427</td>\n",
       "      <td>4.898568</td>\n",
       "      <td>2.852002</td>\n",
       "      <td>2.850161</td>\n",
       "      <td>0.068019</td>\n",
       "    </tr>\n",
       "  </tbody>\n",
       "</table>\n",
       "</div>"
      ],
      "text/plain": [
       "              gender  Near_Location   Partner  Promo_friends     Phone  \\\n",
       "cluster_km                                                               \n",
       "0           0.502970       0.959406  0.783168       0.574257  1.000000   \n",
       "1           0.522078       0.862338  0.470130       0.306494  0.000000   \n",
       "2           0.495050       0.000000  0.463366       0.079208  1.000000   \n",
       "3           0.485737       1.000000  0.350238       0.240095  1.000000   \n",
       "4           0.559666       0.976134  0.356802       0.230310  0.998807   \n",
       "\n",
       "            Contract_period  Group_visits        Age  \\\n",
       "cluster_km                                             \n",
       "0                 10.889109      0.542574  29.982178   \n",
       "1                  4.787013      0.425974  29.301299   \n",
       "2                  2.352475      0.215842  28.477228   \n",
       "3                  1.948494      0.341521  28.167987   \n",
       "4                  2.669451      0.473747  30.125298   \n",
       "\n",
       "            Avg_additional_charges_total  Month_to_end_contract  Lifetime  \\\n",
       "cluster_km                                                                  \n",
       "0                             160.761016               9.954455  4.736634   \n",
       "1                             143.957664               4.475325  3.924675   \n",
       "2                             135.457501               2.198020  2.809901   \n",
       "3                             131.622204               1.856577  2.440571   \n",
       "4                             161.657905               2.459427  4.898568   \n",
       "\n",
       "            Avg_class_frequency_total  Avg_class_frequency_current_month  \\\n",
       "cluster_km                                                                 \n",
       "0                            1.982055                           1.974789   \n",
       "1                            1.847220                           1.716369   \n",
       "2                            1.660461                           1.477324   \n",
       "3                            1.247634                           1.012983   \n",
       "4                            2.852002                           2.850161   \n",
       "\n",
       "               Churn  \n",
       "cluster_km            \n",
       "0           0.027723  \n",
       "1           0.267532  \n",
       "2           0.443564  \n",
       "3           0.514263  \n",
       "4           0.068019  "
      ]
     },
     "execution_count": 22,
     "metadata": {},
     "output_type": "execute_result"
    }
   ],
   "source": [
    "df_clust_final = df_clust.groupby('cluster_km').agg('mean')\n",
    "df_clust_final"
   ]
  },
  {
   "cell_type": "markdown",
   "metadata": {},
   "source": [
    "###### Вывод: Самая высокая доля оттока у 3-го кластера - 51%, у 2-го и 1-го кластеров - 44% и 27% соотвественно, минимальные значения у 4-го и 0-го кластеров - 7% и 3%."
   ]
  },
  {
   "cell_type": "markdown",
   "metadata": {},
   "source": [
    "###### Построим распределения признаков для кластеров"
   ]
  },
  {
   "cell_type": "markdown",
   "metadata": {},
   "source": [
    "Снова распределим столбцы на бинарные и не бинарные"
   ]
  },
  {
   "cell_type": "code",
   "execution_count": 23,
   "metadata": {},
   "outputs": [],
   "source": [
    "non_binary = df.drop(columns =(['gender', 'Near_Location','Partner','Promo_friends', 'Phone',\n",
    "                              'Group_visits', 'Churn', 'cluster_km','Contract_period', 'Month_to_end_contract', 'Lifetime']))\n",
    "binary = df[['gender', 'Near_Location', 'Partner','Promo_friends', 'Phone',\n",
    "                              'Group_visits', 'Contract_period', 'Month_to_end_contract', 'Lifetime']]"
   ]
  },
  {
   "cell_type": "code",
   "execution_count": 24,
   "metadata": {},
   "outputs": [
    {
     "data": {
      "image/png": "[encoded data removed]",
      "text/plain": [
       "<Figure size 432x288 with 1 Axes>"
      ]
     },
     "metadata": {
      "needs_background": "light"
     },
     "output_type": "display_data"
    },
    {
     "data": {
      "image/png": "[encoded data removed]",
      "text/plain": [
       "<Figure size 432x288 with 1 Axes>"
      ]
     },
     "metadata": {
      "needs_background": "light"
     },
     "output_type": "display_data"
    },
    {
     "data": {
      "image/png": "[encoded data removed]",
      "text/plain": [
       "<Figure size 432x288 with 1 Axes>"
      ]
     },
     "metadata": {
      "needs_background": "light"
     },
     "output_type": "display_data"
    },
    {
     "data": {
      "image/png": "[encoded data removed]",
      "text/plain": [
       "<Figure size 432x288 with 1 Axes>"
      ]
     },
     "metadata": {
      "needs_background": "light"
     },
     "output_type": "display_data"
    }
   ],
   "source": [
    "for col in non_binary:\n",
    "    plt.figure()\n",
    "    for i in range(0,5):\n",
    "        sns.distplot(df_clust.query('cluster_km == @i')[col],\n",
    "                    hist=False,\n",
    "                    rug=True,\n",
    "                    kde_kws={'label':'Кластер'+ str(i)})\n",
    "plt.tight_layout()"
   ]
  },
  {
   "cell_type": "markdown",
   "metadata": {},
   "source": [
    "###### Вывод:\n",
    "- Из графика Age можно сделать вывод, что больше всего склонны к оттоку молодые клиенты, на пике 28 лет(3-й кластер), а \"надежные\" кластеры самые возрастные, 0-й кластер на пике 32 года, 4-й на пике 30 лет.\n",
    "- По параметру доп.затрат - более надежные кластеры имеют более широкий график, большинство клиентов 3-го тратят меньше, далее 2-й и 1-й кластер.\n",
    "- Самый активный кластер 4-й, в среднем 3 посещения в неделю. Минимальная активность наблюдается у 3-го кластера, в среднем 1 занятие в неделю. Чем клиент активнее в течение недели посещает зал, тем меньше вероятность его оттока\n",
    "- Месячная посещаемость, в целом, схожа с динамикой посещений в неделю."
   ]
  },
  {
   "cell_type": "code",
   "execution_count": 25,
   "metadata": {},
   "outputs": [
    {
     "data": {
      "image/png": "[encoded data removed]",
      "text/plain": [
       "<Figure size 1080x864 with 9 Axes>"
      ]
     },
     "metadata": {
      "needs_background": "light"
     },
     "output_type": "display_data"
    }
   ],
   "source": [
    "plt.figure(figsize=(15,12))\n",
    "for i in range(len(binary.columns)):\n",
    "    plt.subplot(3,3,i+1)\n",
    "    x = df_clust['cluster_km']\n",
    "    y = binary.iloc[:,i]\n",
    "    sns.barplot(x=x, y=y)\n",
    "plt.tight_layout()\n",
    "plt.show()"
   ]
  },
  {
   "cell_type": "markdown",
   "metadata": {},
   "source": [
    "###### Вывод:\n",
    "- Достаточно наглядная динамика параметра Lifetime (время с момента первого посещения), новые клиенты больше всего подвержены к оттоку.\n",
    "- Динамика параметра Contract_period (длительность текущего абонемента) интересна, так как неясно почему у 4-го кластера такая низкая длительность абонемента, возможно клиентам удобнее покупать более короткие абонементы, стоит обратить на это внимание, возможно дело в цене, так как у 0-го кластера в основном все абонементы куплены на год, среднее 10 и замечается значимая динамика по признаку Partner.\n",
    "- 1-й кластер не оставил ни одного телефонного номера.\n",
    "- Клиенты 2-го кластера живут/работают не рядом с фитнесом.\n",
    "- Активнее всего посещают груповые занятия клиенты в 0-ом кластере, так как у них самый высокий показатель Partner и Promo_frinds, наверное у них много знакомых, кто ходит вместе с ними на эти занятия и соответственно так же в большинстве ходят на групповые занятия."
   ]
  },
  {
   "cell_type": "markdown",
   "metadata": {},
   "source": [
    "# 5. Общий вывод:\n",
    "- В выводе стоит обратить внимание на новых клиентов, так как это самый влиятельный признак на отток. А так же на то, что их траты выше всех остальных кластеров, именно поэтому для новых клиентов нужно создавать акции и дополнительные скидки на первое время, чтобы удержать их. \n",
    "- Так же они чаще вcего покупают абонемент на один месяц, нужно их заинтересовать, возможно предлагать для новых клиентов абономент на 3 месяца + возможность посетить платные занятие бесплатно, так они смогу познакомиться с уже постоянными клиентами, а это очень важно. \n",
    "- Так же нужно уделить внимание акциям \"Приведи друга\" и для новых клиентов, кто купил абонемент, например не на 1 месяц, а на 12, он получит дополнительный абонемент для друга бесплатно. \n",
    "- В остальном же постоянные клиенты имеют минимальную склонность к оттоку, но так же имеют тенденцию покупать абонемент на один месяц, стоить создать программу лояльности, таким образом уменьшится вероятность оттока постоянных клиентов!"
   ]
  },
  {
   "cell_type": "code",
   "execution_count": null,
   "metadata": {},
   "outputs": [],
   "source": []
  }
 ],
 "metadata": {
  "ExecuteTimeLog": [
   {
    "duration": 1607,
    "start_time": "2022-07-17T19:09:55.282Z"
   },
   {
    "duration": 4,
    "start_time": "2022-07-17T19:09:59.209Z"
   },
   {
    "duration": 69,
    "start_time": "2022-07-17T19:10:06.870Z"
   },
   {
    "duration": 116,
    "start_time": "2022-07-17T19:10:11.342Z"
   },
   {
    "duration": 36,
    "start_time": "2022-07-17T19:10:22.614Z"
   },
   {
    "duration": 35,
    "start_time": "2022-07-17T19:10:23.881Z"
   },
   {
    "duration": 18,
    "start_time": "2022-07-17T19:10:42.437Z"
   },
   {
    "duration": 47,
    "start_time": "2022-07-17T19:10:49.485Z"
   },
   {
    "duration": 16,
    "start_time": "2022-07-17T19:11:32.237Z"
   },
   {
    "duration": 44,
    "start_time": "2022-07-18T16:30:12.992Z"
   },
   {
    "duration": 1652,
    "start_time": "2022-07-18T16:30:20.591Z"
   },
   {
    "duration": 63,
    "start_time": "2022-07-18T16:30:22.246Z"
   },
   {
    "duration": 13,
    "start_time": "2022-07-18T16:30:22.310Z"
   },
   {
    "duration": 58,
    "start_time": "2022-07-18T16:30:22.325Z"
   },
   {
    "duration": 27,
    "start_time": "2022-07-18T16:30:22.384Z"
   },
   {
    "duration": 29,
    "start_time": "2022-07-18T16:30:31.680Z"
   },
   {
    "duration": 10,
    "start_time": "2022-07-18T16:30:32.806Z"
   },
   {
    "duration": 15,
    "start_time": "2022-07-18T16:34:25.882Z"
   },
   {
    "duration": 6,
    "start_time": "2022-07-18T16:35:09.264Z"
   },
   {
    "duration": 124,
    "start_time": "2022-07-18T16:40:22.924Z"
   },
   {
    "duration": 16,
    "start_time": "2022-07-18T16:40:38.252Z"
   },
   {
    "duration": 7,
    "start_time": "2022-07-18T16:41:18.212Z"
   },
   {
    "duration": 12,
    "start_time": "2022-07-18T16:41:20.382Z"
   },
   {
    "duration": 9,
    "start_time": "2022-07-18T16:45:00.766Z"
   },
   {
    "duration": 10,
    "start_time": "2022-07-18T16:45:07.697Z"
   },
   {
    "duration": 25,
    "start_time": "2022-07-18T16:45:13.294Z"
   },
   {
    "duration": 9,
    "start_time": "2022-07-18T16:45:25.661Z"
   },
   {
    "duration": 11,
    "start_time": "2022-07-18T17:00:12.156Z"
   },
   {
    "duration": 9,
    "start_time": "2022-07-18T17:01:40.965Z"
   },
   {
    "duration": 13,
    "start_time": "2022-07-18T17:01:52.807Z"
   },
   {
    "duration": 9,
    "start_time": "2022-07-18T17:06:37.134Z"
   },
   {
    "duration": 1720,
    "start_time": "2022-07-18T17:08:17.869Z"
   },
   {
    "duration": 65,
    "start_time": "2022-07-18T17:22:48.331Z"
   },
   {
    "duration": 12,
    "start_time": "2022-07-18T17:23:43.614Z"
   },
   {
    "duration": 10,
    "start_time": "2022-07-18T17:24:19.285Z"
   },
   {
    "duration": 5,
    "start_time": "2022-07-18T17:24:22.876Z"
   },
   {
    "duration": 2426,
    "start_time": "2022-07-18T17:24:27.195Z"
   },
   {
    "duration": 3,
    "start_time": "2022-07-18T17:24:29.623Z"
   },
   {
    "duration": 1798,
    "start_time": "2022-07-18T17:24:51.591Z"
   },
   {
    "duration": 4,
    "start_time": "2022-07-18T17:27:11.787Z"
   },
   {
    "duration": 856,
    "start_time": "2022-07-18T17:27:13.697Z"
   },
   {
    "duration": 4,
    "start_time": "2022-07-18T17:27:19.012Z"
   },
   {
    "duration": 1000,
    "start_time": "2022-07-18T17:27:21.509Z"
   },
   {
    "duration": 4,
    "start_time": "2022-07-18T17:27:39.456Z"
   },
   {
    "duration": 2472,
    "start_time": "2022-07-18T17:27:41.864Z"
   },
   {
    "duration": 1562,
    "start_time": "2022-07-18T17:29:19.666Z"
   },
   {
    "duration": 1485,
    "start_time": "2022-07-18T17:29:33.431Z"
   },
   {
    "duration": 1487,
    "start_time": "2022-07-18T17:29:55.447Z"
   },
   {
    "duration": 3,
    "start_time": "2022-07-18T17:35:24.343Z"
   },
   {
    "duration": 9,
    "start_time": "2022-07-18T17:35:54.201Z"
   },
   {
    "duration": 7,
    "start_time": "2022-07-18T17:35:55.482Z"
   },
   {
    "duration": 7,
    "start_time": "2022-07-18T17:35:59.197Z"
   },
   {
    "duration": 1251,
    "start_time": "2022-07-18T17:40:35.051Z"
   },
   {
    "duration": 4,
    "start_time": "2022-07-18T17:40:58.380Z"
   },
   {
    "duration": 696,
    "start_time": "2022-07-18T17:41:00.011Z"
   },
   {
    "duration": 538,
    "start_time": "2022-07-18T17:41:02.046Z"
   },
   {
    "duration": 8,
    "start_time": "2022-07-18T17:52:10.115Z"
   },
   {
    "duration": 9,
    "start_time": "2022-07-18T17:52:11.656Z"
   },
   {
    "duration": 8,
    "start_time": "2022-07-18T17:52:12.637Z"
   },
   {
    "duration": 108967,
    "start_time": "2022-07-18T17:52:14.383Z"
   },
   {
    "duration": 47,
    "start_time": "2022-07-18T17:57:42.610Z"
   },
   {
    "duration": 941,
    "start_time": "2022-07-18T18:08:40.774Z"
   },
   {
    "duration": 18,
    "start_time": "2022-07-18T18:08:42.727Z"
   },
   {
    "duration": 1290,
    "start_time": "2022-07-18T18:10:43.019Z"
   },
   {
    "duration": 1082,
    "start_time": "2022-07-18T18:10:44.425Z"
   },
   {
    "duration": 1230,
    "start_time": "2022-07-18T18:13:40.371Z"
   },
   {
    "duration": 17,
    "start_time": "2022-07-18T18:13:45.971Z"
   },
   {
    "duration": 26,
    "start_time": "2022-07-18T18:14:33.901Z"
   },
   {
    "duration": 7,
    "start_time": "2022-07-18T18:39:21.635Z"
   },
   {
    "duration": 2131,
    "start_time": "2022-07-18T18:40:01.388Z"
   },
   {
    "duration": 71,
    "start_time": "2022-07-18T18:40:11.655Z"
   },
   {
    "duration": 5,
    "start_time": "2022-07-18T18:40:34.458Z"
   },
   {
    "duration": 2146,
    "start_time": "2022-07-18T18:40:36.124Z"
   },
   {
    "duration": 1356,
    "start_time": "2022-07-18T18:41:13.224Z"
   },
   {
    "duration": 29,
    "start_time": "2022-07-18T18:41:14.582Z"
   },
   {
    "duration": 12,
    "start_time": "2022-07-18T18:41:14.612Z"
   },
   {
    "duration": 18,
    "start_time": "2022-07-18T18:41:14.626Z"
   },
   {
    "duration": 4,
    "start_time": "2022-07-18T18:41:14.646Z"
   },
   {
    "duration": 63,
    "start_time": "2022-07-18T18:41:14.651Z"
   },
   {
    "duration": 0,
    "start_time": "2022-07-18T18:41:14.716Z"
   },
   {
    "duration": 0,
    "start_time": "2022-07-18T18:41:14.717Z"
   },
   {
    "duration": 0,
    "start_time": "2022-07-18T18:41:14.719Z"
   },
   {
    "duration": 0,
    "start_time": "2022-07-18T18:41:14.720Z"
   },
   {
    "duration": 0,
    "start_time": "2022-07-18T18:41:14.722Z"
   },
   {
    "duration": 0,
    "start_time": "2022-07-18T18:41:14.723Z"
   },
   {
    "duration": 0,
    "start_time": "2022-07-18T18:41:14.724Z"
   },
   {
    "duration": 0,
    "start_time": "2022-07-18T18:41:14.725Z"
   },
   {
    "duration": 0,
    "start_time": "2022-07-18T18:41:14.726Z"
   },
   {
    "duration": 0,
    "start_time": "2022-07-18T18:41:14.728Z"
   },
   {
    "duration": 0,
    "start_time": "2022-07-18T18:41:14.729Z"
   },
   {
    "duration": 0,
    "start_time": "2022-07-18T18:41:14.730Z"
   },
   {
    "duration": 0,
    "start_time": "2022-07-18T18:41:14.732Z"
   },
   {
    "duration": 0,
    "start_time": "2022-07-18T18:41:14.733Z"
   },
   {
    "duration": 0,
    "start_time": "2022-07-18T18:41:14.735Z"
   },
   {
    "duration": 0,
    "start_time": "2022-07-18T18:41:14.736Z"
   },
   {
    "duration": 0,
    "start_time": "2022-07-18T18:41:14.737Z"
   },
   {
    "duration": 0,
    "start_time": "2022-07-18T18:41:14.740Z"
   },
   {
    "duration": 113,
    "start_time": "2022-07-18T18:41:22.649Z"
   },
   {
    "duration": 8,
    "start_time": "2022-07-18T18:41:29.511Z"
   },
   {
    "duration": 4,
    "start_time": "2022-07-18T18:41:31.176Z"
   },
   {
    "duration": 378,
    "start_time": "2022-07-18T18:41:33.976Z"
   },
   {
    "duration": 1338,
    "start_time": "2022-07-18T18:41:46.029Z"
   },
   {
    "duration": 30,
    "start_time": "2022-07-18T18:41:47.369Z"
   },
   {
    "duration": 12,
    "start_time": "2022-07-18T18:41:47.403Z"
   },
   {
    "duration": 14,
    "start_time": "2022-07-18T18:41:47.417Z"
   },
   {
    "duration": 4,
    "start_time": "2022-07-18T18:41:47.432Z"
   },
   {
    "duration": 48,
    "start_time": "2022-07-18T18:41:47.438Z"
   },
   {
    "duration": 0,
    "start_time": "2022-07-18T18:41:47.488Z"
   },
   {
    "duration": 0,
    "start_time": "2022-07-18T18:41:47.490Z"
   },
   {
    "duration": 0,
    "start_time": "2022-07-18T18:41:47.491Z"
   },
   {
    "duration": 0,
    "start_time": "2022-07-18T18:41:47.492Z"
   },
   {
    "duration": 0,
    "start_time": "2022-07-18T18:41:47.494Z"
   },
   {
    "duration": 0,
    "start_time": "2022-07-18T18:41:47.495Z"
   },
   {
    "duration": 0,
    "start_time": "2022-07-18T18:41:47.497Z"
   },
   {
    "duration": 0,
    "start_time": "2022-07-18T18:41:47.500Z"
   },
   {
    "duration": 0,
    "start_time": "2022-07-18T18:41:47.502Z"
   },
   {
    "duration": 0,
    "start_time": "2022-07-18T18:41:47.503Z"
   },
   {
    "duration": 0,
    "start_time": "2022-07-18T18:41:47.504Z"
   },
   {
    "duration": 0,
    "start_time": "2022-07-18T18:41:47.505Z"
   },
   {
    "duration": 0,
    "start_time": "2022-07-18T18:41:47.506Z"
   },
   {
    "duration": 0,
    "start_time": "2022-07-18T18:41:47.508Z"
   },
   {
    "duration": 0,
    "start_time": "2022-07-18T18:41:47.509Z"
   },
   {
    "duration": 0,
    "start_time": "2022-07-18T18:41:47.509Z"
   },
   {
    "duration": 0,
    "start_time": "2022-07-18T18:41:47.510Z"
   },
   {
    "duration": 0,
    "start_time": "2022-07-18T18:41:47.512Z"
   },
   {
    "duration": 1376,
    "start_time": "2022-07-18T18:42:17.488Z"
   },
   {
    "duration": 30,
    "start_time": "2022-07-18T18:42:18.866Z"
   },
   {
    "duration": 12,
    "start_time": "2022-07-18T18:42:18.899Z"
   },
   {
    "duration": 28,
    "start_time": "2022-07-18T18:42:18.912Z"
   },
   {
    "duration": 14,
    "start_time": "2022-07-18T18:42:18.942Z"
   },
   {
    "duration": 45,
    "start_time": "2022-07-18T18:42:18.957Z"
   },
   {
    "duration": 8,
    "start_time": "2022-07-18T18:42:19.003Z"
   },
   {
    "duration": 24,
    "start_time": "2022-07-18T18:42:19.012Z"
   },
   {
    "duration": 1608,
    "start_time": "2022-07-18T18:42:19.038Z"
   },
   {
    "duration": 4,
    "start_time": "2022-07-18T18:42:20.648Z"
   },
   {
    "duration": 2520,
    "start_time": "2022-07-18T18:42:20.653Z"
   },
   {
    "duration": 1520,
    "start_time": "2022-07-18T18:42:23.174Z"
   },
   {
    "duration": 9,
    "start_time": "2022-07-18T18:42:24.696Z"
   },
   {
    "duration": 14,
    "start_time": "2022-07-18T18:42:24.707Z"
   },
   {
    "duration": 680,
    "start_time": "2022-07-18T18:42:24.722Z"
   },
   {
    "duration": 456,
    "start_time": "2022-07-18T18:42:25.404Z"
   },
   {
    "duration": 8,
    "start_time": "2022-07-18T18:42:25.861Z"
   },
   {
    "duration": 1274,
    "start_time": "2022-07-18T18:44:16.064Z"
   },
   {
    "duration": 29,
    "start_time": "2022-07-18T18:44:17.340Z"
   },
   {
    "duration": 11,
    "start_time": "2022-07-18T18:44:17.370Z"
   },
   {
    "duration": 13,
    "start_time": "2022-07-18T18:44:17.383Z"
   },
   {
    "duration": 3,
    "start_time": "2022-07-18T18:44:17.398Z"
   },
   {
    "duration": 49,
    "start_time": "2022-07-18T18:44:17.403Z"
   },
   {
    "duration": 8,
    "start_time": "2022-07-18T18:44:17.453Z"
   },
   {
    "duration": 39,
    "start_time": "2022-07-18T18:44:17.462Z"
   },
   {
    "duration": 1621,
    "start_time": "2022-07-18T18:44:17.503Z"
   },
   {
    "duration": 4,
    "start_time": "2022-07-18T18:44:19.127Z"
   },
   {
    "duration": 2468,
    "start_time": "2022-07-18T18:44:19.132Z"
   },
   {
    "duration": 1533,
    "start_time": "2022-07-18T18:44:21.602Z"
   },
   {
    "duration": 6,
    "start_time": "2022-07-18T18:44:23.137Z"
   },
   {
    "duration": 5,
    "start_time": "2022-07-18T18:44:23.145Z"
   },
   {
    "duration": 559,
    "start_time": "2022-07-18T18:44:23.152Z"
   },
   {
    "duration": 563,
    "start_time": "2022-07-18T18:44:23.712Z"
   },
   {
    "duration": 8,
    "start_time": "2022-07-18T18:44:24.276Z"
   },
   {
    "duration": 109780,
    "start_time": "2022-07-18T18:44:24.285Z"
   },
   {
    "duration": 1235,
    "start_time": "2022-07-18T18:46:14.066Z"
   },
   {
    "duration": 25,
    "start_time": "2022-07-18T18:46:15.303Z"
   },
   {
    "duration": 154,
    "start_time": "2022-07-18T18:46:15.330Z"
   },
   {
    "duration": 0,
    "start_time": "2022-07-18T18:46:15.486Z"
   },
   {
    "duration": 0,
    "start_time": "2022-07-18T18:46:15.488Z"
   },
   {
    "duration": 11,
    "start_time": "2022-07-18T18:47:47.550Z"
   },
   {
    "duration": 9,
    "start_time": "2022-07-18T18:47:50.616Z"
   },
   {
    "duration": 1509,
    "start_time": "2022-07-18T18:48:06.000Z"
   },
   {
    "duration": 20,
    "start_time": "2022-07-18T18:48:07.923Z"
   },
   {
    "duration": 8,
    "start_time": "2022-07-18T18:48:24.401Z"
   },
   {
    "duration": 2634,
    "start_time": "2022-07-18T18:48:31.500Z"
   },
   {
    "duration": 2081,
    "start_time": "2022-07-18T18:48:46.549Z"
   },
   {
    "duration": 2164,
    "start_time": "2022-07-18T18:48:53.863Z"
   },
   {
    "duration": 57,
    "start_time": "2022-07-19T13:36:27.145Z"
   },
   {
    "duration": 6,
    "start_time": "2022-07-19T13:36:30.098Z"
   },
   {
    "duration": 15,
    "start_time": "2022-07-19T17:02:39.468Z"
   },
   {
    "duration": 73,
    "start_time": "2022-07-19T17:08:38.738Z"
   },
   {
    "duration": 1908,
    "start_time": "2022-07-19T17:08:40.866Z"
   },
   {
    "duration": 156,
    "start_time": "2022-07-19T17:08:42.776Z"
   },
   {
    "duration": 19,
    "start_time": "2022-07-19T17:08:44.101Z"
   },
   {
    "duration": 20,
    "start_time": "2022-07-19T17:08:45.967Z"
   },
   {
    "duration": 84,
    "start_time": "2022-07-19T17:10:32.764Z"
   },
   {
    "duration": 6,
    "start_time": "2022-07-19T17:10:36.430Z"
   },
   {
    "duration": 12,
    "start_time": "2022-07-19T17:10:37.562Z"
   },
   {
    "duration": 6,
    "start_time": "2022-07-19T17:10:52.767Z"
   },
   {
    "duration": 85,
    "start_time": "2022-07-19T17:10:54.503Z"
   },
   {
    "duration": 16,
    "start_time": "2022-07-19T17:10:58.381Z"
   },
   {
    "duration": 103,
    "start_time": "2022-07-19T17:11:30.779Z"
   },
   {
    "duration": 12,
    "start_time": "2022-07-19T17:11:32.581Z"
   },
   {
    "duration": 11,
    "start_time": "2022-07-19T17:12:42.602Z"
   },
   {
    "duration": 27,
    "start_time": "2022-07-19T17:12:45.367Z"
   },
   {
    "duration": 13,
    "start_time": "2022-07-19T17:12:46.807Z"
   },
   {
    "duration": 11,
    "start_time": "2022-07-19T18:00:32.906Z"
   },
   {
    "duration": 10,
    "start_time": "2022-07-19T18:00:35.910Z"
   },
   {
    "duration": 1658,
    "start_time": "2022-07-19T18:00:43.966Z"
   },
   {
    "duration": 92,
    "start_time": "2022-07-19T18:00:45.627Z"
   },
   {
    "duration": 28,
    "start_time": "2022-07-19T18:00:45.721Z"
   },
   {
    "duration": 42,
    "start_time": "2022-07-19T18:00:45.753Z"
   },
   {
    "duration": 5,
    "start_time": "2022-07-19T18:00:45.799Z"
   },
   {
    "duration": 64,
    "start_time": "2022-07-19T18:00:45.806Z"
   },
   {
    "duration": 9,
    "start_time": "2022-07-19T18:00:45.872Z"
   },
   {
    "duration": 12,
    "start_time": "2022-07-19T18:00:45.883Z"
   },
   {
    "duration": 1986,
    "start_time": "2022-07-19T18:00:45.897Z"
   },
   {
    "duration": 6,
    "start_time": "2022-07-19T18:00:47.885Z"
   },
   {
    "duration": 2776,
    "start_time": "2022-07-19T18:00:47.893Z"
   },
   {
    "duration": 1659,
    "start_time": "2022-07-19T18:00:50.671Z"
   },
   {
    "duration": 16,
    "start_time": "2022-07-19T18:00:52.333Z"
   },
   {
    "duration": 12,
    "start_time": "2022-07-19T18:00:52.362Z"
   },
   {
    "duration": 4395,
    "start_time": "2022-07-19T18:00:52.376Z"
   },
   {
    "duration": 594,
    "start_time": "2022-07-19T18:00:56.773Z"
   },
   {
    "duration": 17,
    "start_time": "2022-07-19T18:00:57.369Z"
   },
   {
    "duration": 132146,
    "start_time": "2022-07-19T18:00:57.388Z"
   },
   {
    "duration": 4,
    "start_time": "2022-07-19T18:03:09.536Z"
   },
   {
    "duration": 1218,
    "start_time": "2022-07-19T18:03:09.551Z"
   },
   {
    "duration": 28,
    "start_time": "2022-07-19T18:03:10.852Z"
   },
   {
    "duration": 5,
    "start_time": "2022-07-19T18:03:10.882Z"
   },
   {
    "duration": 143,
    "start_time": "2022-07-19T18:03:10.889Z"
   },
   {
    "duration": 0,
    "start_time": "2022-07-19T18:03:11.034Z"
   },
   {
    "duration": 1137,
    "start_time": "2022-07-19T18:03:20.031Z"
   },
   {
    "duration": 34,
    "start_time": "2022-07-19T18:03:22.015Z"
   },
   {
    "duration": 2805,
    "start_time": "2022-07-19T18:03:34.530Z"
   },
   {
    "duration": 2481,
    "start_time": "2022-07-19T18:03:44.072Z"
   },
   {
    "duration": 36,
    "start_time": "2022-07-19T18:06:45.474Z"
   },
   {
    "duration": 29,
    "start_time": "2022-07-19T18:07:04.229Z"
   },
   {
    "duration": 18,
    "start_time": "2022-07-19T18:07:06.110Z"
   },
   {
    "duration": 1273,
    "start_time": "2022-07-19T18:07:07.474Z"
   },
   {
    "duration": 3118,
    "start_time": "2022-07-19T18:07:29.509Z"
   },
   {
    "duration": 2676,
    "start_time": "2022-07-19T18:07:36.711Z"
   },
   {
    "duration": 20,
    "start_time": "2022-07-19T18:07:50.612Z"
   },
   {
    "duration": 16,
    "start_time": "2022-07-19T18:35:12.741Z"
   },
   {
    "duration": 13,
    "start_time": "2022-07-19T18:36:13.736Z"
   },
   {
    "duration": 1517,
    "start_time": "2022-07-19T18:44:37.832Z"
   },
   {
    "duration": 51,
    "start_time": "2022-07-19T18:44:39.371Z"
   },
   {
    "duration": 2226,
    "start_time": "2022-07-19T18:44:43.495Z"
   },
   {
    "duration": 2166,
    "start_time": "2022-07-19T18:44:48.497Z"
   },
   {
    "duration": 2057,
    "start_time": "2022-07-19T18:45:01.568Z"
   },
   {
    "duration": 9,
    "start_time": "2022-07-19T18:45:08.318Z"
   },
   {
    "duration": 1176,
    "start_time": "2022-07-19T18:45:12.278Z"
   },
   {
    "duration": 37,
    "start_time": "2022-07-19T18:45:14.924Z"
   },
   {
    "duration": 6,
    "start_time": "2022-07-19T18:45:17.396Z"
   },
   {
    "duration": 2150,
    "start_time": "2022-07-19T18:45:19.359Z"
   },
   {
    "duration": 2224,
    "start_time": "2022-07-19T18:45:25.833Z"
   },
   {
    "duration": 1276,
    "start_time": "2022-07-19T18:45:37.679Z"
   },
   {
    "duration": 41,
    "start_time": "2022-07-19T18:45:39.463Z"
   },
   {
    "duration": 16,
    "start_time": "2022-07-19T18:45:41.472Z"
   },
   {
    "duration": 2237,
    "start_time": "2022-07-19T18:45:42.774Z"
   },
   {
    "duration": 2161,
    "start_time": "2022-07-19T18:45:49.701Z"
   },
   {
    "duration": 1871,
    "start_time": "2022-07-19T18:46:04.234Z"
   },
   {
    "duration": 111,
    "start_time": "2022-07-19T18:46:06.109Z"
   },
   {
    "duration": 14,
    "start_time": "2022-07-19T18:46:06.222Z"
   },
   {
    "duration": 69,
    "start_time": "2022-07-19T18:46:06.239Z"
   },
   {
    "duration": 10,
    "start_time": "2022-07-19T18:46:06.310Z"
   },
   {
    "duration": 13,
    "start_time": "2022-07-19T18:46:06.322Z"
   },
   {
    "duration": 65,
    "start_time": "2022-07-19T18:46:06.337Z"
   },
   {
    "duration": 81,
    "start_time": "2022-07-19T18:46:06.405Z"
   },
   {
    "duration": 19,
    "start_time": "2022-07-19T18:46:06.487Z"
   },
   {
    "duration": 13,
    "start_time": "2022-07-19T18:46:06.510Z"
   },
   {
    "duration": 2391,
    "start_time": "2022-07-19T18:46:06.524Z"
   },
   {
    "duration": 6,
    "start_time": "2022-07-19T18:46:08.917Z"
   },
   {
    "duration": 3139,
    "start_time": "2022-07-19T18:46:08.926Z"
   },
   {
    "duration": 2006,
    "start_time": "2022-07-19T18:46:12.067Z"
   },
   {
    "duration": 26,
    "start_time": "2022-07-19T18:46:14.075Z"
   },
   {
    "duration": 20,
    "start_time": "2022-07-19T18:46:14.103Z"
   },
   {
    "duration": 3975,
    "start_time": "2022-07-19T18:46:14.126Z"
   },
   {
    "duration": 686,
    "start_time": "2022-07-19T18:46:18.107Z"
   },
   {
    "duration": 15,
    "start_time": "2022-07-19T18:46:18.795Z"
   },
   {
    "duration": 157480,
    "start_time": "2022-07-19T18:46:18.814Z"
   },
   {
    "duration": 1160,
    "start_time": "2022-07-19T18:48:56.305Z"
   },
   {
    "duration": 83,
    "start_time": "2022-07-19T18:48:57.499Z"
   },
   {
    "duration": 21,
    "start_time": "2022-07-19T18:48:57.589Z"
   },
   {
    "duration": 2301,
    "start_time": "2022-07-19T18:48:57.612Z"
   },
   {
    "duration": 2302,
    "start_time": "2022-07-19T18:48:59.914Z"
   },
   {
    "duration": 28,
    "start_time": "2022-07-19T18:50:31.226Z"
   },
   {
    "duration": 1368,
    "start_time": "2022-07-19T18:50:32.889Z"
   },
   {
    "duration": 25,
    "start_time": "2022-07-19T18:50:35.432Z"
   },
   {
    "duration": 2891,
    "start_time": "2022-07-19T18:50:38.772Z"
   },
   {
    "duration": 3250,
    "start_time": "2022-07-19T18:50:49.784Z"
   },
   {
    "duration": 1825,
    "start_time": "2022-07-19T18:52:13.896Z"
   },
   {
    "duration": 126,
    "start_time": "2022-07-19T18:52:15.724Z"
   },
   {
    "duration": 17,
    "start_time": "2022-07-19T18:52:15.852Z"
   },
   {
    "duration": 51,
    "start_time": "2022-07-19T18:52:15.871Z"
   },
   {
    "duration": 5,
    "start_time": "2022-07-19T18:52:15.926Z"
   },
   {
    "duration": 10,
    "start_time": "2022-07-19T18:52:15.932Z"
   },
   {
    "duration": 51,
    "start_time": "2022-07-19T18:52:15.944Z"
   },
   {
    "duration": 67,
    "start_time": "2022-07-19T18:52:15.997Z"
   },
   {
    "duration": 20,
    "start_time": "2022-07-19T18:52:16.065Z"
   },
   {
    "duration": 34,
    "start_time": "2022-07-19T18:52:16.090Z"
   },
   {
    "duration": 2423,
    "start_time": "2022-07-19T18:52:16.126Z"
   },
   {
    "duration": 4,
    "start_time": "2022-07-19T18:52:18.551Z"
   },
   {
    "duration": 3028,
    "start_time": "2022-07-19T18:52:18.557Z"
   },
   {
    "duration": 2011,
    "start_time": "2022-07-19T18:52:21.589Z"
   },
   {
    "duration": 6,
    "start_time": "2022-07-19T18:52:23.607Z"
   },
   {
    "duration": 9,
    "start_time": "2022-07-19T18:52:23.615Z"
   },
   {
    "duration": 4033,
    "start_time": "2022-07-19T18:52:23.626Z"
   },
   {
    "duration": 671,
    "start_time": "2022-07-19T18:52:27.662Z"
   },
   {
    "duration": 42,
    "start_time": "2022-07-19T18:52:28.335Z"
   },
   {
    "duration": 151071,
    "start_time": "2022-07-19T18:52:28.390Z"
   },
   {
    "duration": 1186,
    "start_time": "2022-07-19T18:54:59.462Z"
   },
   {
    "duration": 45,
    "start_time": "2022-07-19T18:55:00.667Z"
   },
   {
    "duration": 19,
    "start_time": "2022-07-19T18:55:00.714Z"
   },
   {
    "duration": 3042,
    "start_time": "2022-07-19T18:55:00.735Z"
   },
   {
    "duration": 2716,
    "start_time": "2022-07-19T18:55:03.778Z"
   },
   {
    "duration": 1534,
    "start_time": "2022-07-20T10:47:27.735Z"
   },
   {
    "duration": 92,
    "start_time": "2022-07-20T10:47:29.270Z"
   },
   {
    "duration": 11,
    "start_time": "2022-07-20T10:47:29.364Z"
   },
   {
    "duration": 19,
    "start_time": "2022-07-20T10:47:29.378Z"
   },
   {
    "duration": 4,
    "start_time": "2022-07-20T10:47:29.399Z"
   },
   {
    "duration": 16,
    "start_time": "2022-07-20T10:47:29.405Z"
   },
   {
    "duration": 8,
    "start_time": "2022-07-20T10:47:29.422Z"
   },
   {
    "duration": 53,
    "start_time": "2022-07-20T10:47:29.432Z"
   },
   {
    "duration": 8,
    "start_time": "2022-07-20T10:47:29.487Z"
   },
   {
    "duration": 10,
    "start_time": "2022-07-20T10:47:29.498Z"
   },
   {
    "duration": 1695,
    "start_time": "2022-07-20T10:47:29.524Z"
   },
   {
    "duration": 4,
    "start_time": "2022-07-20T10:47:31.220Z"
   },
   {
    "duration": 2374,
    "start_time": "2022-07-20T10:47:31.225Z"
   },
   {
    "duration": 1457,
    "start_time": "2022-07-20T10:47:33.601Z"
   },
   {
    "duration": 7,
    "start_time": "2022-07-20T10:47:35.059Z"
   },
   {
    "duration": 8,
    "start_time": "2022-07-20T10:47:35.068Z"
   },
   {
    "duration": 657,
    "start_time": "2022-07-20T10:47:35.077Z"
   },
   {
    "duration": 475,
    "start_time": "2022-07-20T10:47:35.824Z"
   },
   {
    "duration": 7,
    "start_time": "2022-07-20T10:47:36.301Z"
   },
   {
    "duration": 111367,
    "start_time": "2022-07-20T10:47:36.309Z"
   },
   {
    "duration": 1248,
    "start_time": "2022-07-20T10:49:27.678Z"
   },
   {
    "duration": 105,
    "start_time": "2022-07-20T10:49:28.927Z"
   },
   {
    "duration": 5,
    "start_time": "2022-07-20T10:49:29.034Z"
   },
   {
    "duration": 2357,
    "start_time": "2022-07-20T10:49:29.041Z"
   },
   {
    "duration": 1982,
    "start_time": "2022-07-20T10:49:31.400Z"
   },
   {
    "duration": 1803,
    "start_time": "2022-07-20T12:21:22.357Z"
   },
   {
    "duration": 159,
    "start_time": "2022-07-20T12:21:24.890Z"
   },
   {
    "duration": 13,
    "start_time": "2022-07-20T12:21:26.861Z"
   },
   {
    "duration": 12,
    "start_time": "2022-07-20T12:21:28.271Z"
   },
   {
    "duration": 21,
    "start_time": "2022-07-20T12:21:30.339Z"
   },
   {
    "duration": 9,
    "start_time": "2022-07-20T12:21:32.966Z"
   },
   {
    "duration": 9,
    "start_time": "2022-07-20T12:21:33.986Z"
   },
   {
    "duration": 119,
    "start_time": "2022-07-20T12:24:30.023Z"
   },
   {
    "duration": 19,
    "start_time": "2022-07-20T12:24:37.982Z"
   },
   {
    "duration": 14,
    "start_time": "2022-07-20T12:24:49.718Z"
   },
   {
    "duration": 24,
    "start_time": "2022-07-20T12:25:06.057Z"
   },
   {
    "duration": 16,
    "start_time": "2022-07-20T12:25:18.875Z"
   },
   {
    "duration": 14,
    "start_time": "2022-07-20T12:25:26.108Z"
   },
   {
    "duration": 15,
    "start_time": "2022-07-20T12:25:33.994Z"
   },
   {
    "duration": 11,
    "start_time": "2022-07-20T12:28:56.326Z"
   },
   {
    "duration": 18,
    "start_time": "2022-07-20T12:28:57.849Z"
   },
   {
    "duration": 18,
    "start_time": "2022-07-20T12:29:03.775Z"
   },
   {
    "duration": 11,
    "start_time": "2022-07-20T12:29:06.783Z"
   },
   {
    "duration": 11,
    "start_time": "2022-07-20T12:30:37.013Z"
   },
   {
    "duration": 10,
    "start_time": "2022-07-20T12:30:47.754Z"
   },
   {
    "duration": 8,
    "start_time": "2022-07-20T12:30:50.462Z"
   },
   {
    "duration": 7,
    "start_time": "2022-07-20T12:30:56.706Z"
   },
   {
    "duration": 11,
    "start_time": "2022-07-20T12:30:57.708Z"
   },
   {
    "duration": 7,
    "start_time": "2022-07-20T12:31:00.707Z"
   },
   {
    "duration": 9,
    "start_time": "2022-07-20T12:31:16.077Z"
   },
   {
    "duration": 9,
    "start_time": "2022-07-20T12:31:26.418Z"
   },
   {
    "duration": 12,
    "start_time": "2022-07-20T12:32:03.068Z"
   },
   {
    "duration": 11,
    "start_time": "2022-07-20T12:32:04.675Z"
   },
   {
    "duration": 15,
    "start_time": "2022-07-20T12:32:09.068Z"
   },
   {
    "duration": 135,
    "start_time": "2022-07-20T12:32:10.242Z"
   },
   {
    "duration": 11,
    "start_time": "2022-07-20T12:32:23.473Z"
   },
   {
    "duration": 7,
    "start_time": "2022-07-20T12:32:29.572Z"
   },
   {
    "duration": 4,
    "start_time": "2022-07-20T12:32:32.480Z"
   },
   {
    "duration": 5,
    "start_time": "2022-07-20T12:32:47.487Z"
   },
   {
    "duration": 6,
    "start_time": "2022-07-20T12:33:17.182Z"
   },
   {
    "duration": 5,
    "start_time": "2022-07-20T12:33:18.276Z"
   },
   {
    "duration": 4,
    "start_time": "2022-07-20T12:33:29.935Z"
   },
   {
    "duration": 5,
    "start_time": "2022-07-20T12:33:33.599Z"
   },
   {
    "duration": 10,
    "start_time": "2022-07-20T12:34:06.878Z"
   },
   {
    "duration": 22,
    "start_time": "2022-07-20T12:34:12.606Z"
   },
   {
    "duration": 9,
    "start_time": "2022-07-20T12:34:25.189Z"
   },
   {
    "duration": 4,
    "start_time": "2022-07-20T12:34:36.240Z"
   },
   {
    "duration": 5,
    "start_time": "2022-07-20T12:35:48.068Z"
   },
   {
    "duration": 4,
    "start_time": "2022-07-20T12:35:58.892Z"
   },
   {
    "duration": 14,
    "start_time": "2022-07-20T12:37:06.841Z"
   },
   {
    "duration": 4,
    "start_time": "2022-07-20T12:37:13.471Z"
   },
   {
    "duration": 10,
    "start_time": "2022-07-20T12:37:32.819Z"
   },
   {
    "duration": 67,
    "start_time": "2022-07-20T12:37:48.040Z"
   },
   {
    "duration": 10,
    "start_time": "2022-07-20T12:37:52.879Z"
   },
   {
    "duration": 5,
    "start_time": "2022-07-20T12:38:10.443Z"
   },
   {
    "duration": 56,
    "start_time": "2022-07-20T12:38:50.261Z"
   },
   {
    "duration": 54,
    "start_time": "2022-07-20T12:38:55.280Z"
   },
   {
    "duration": 10,
    "start_time": "2022-07-20T12:39:00.920Z"
   },
   {
    "duration": 67,
    "start_time": "2022-07-20T12:39:06.920Z"
   },
   {
    "duration": 71,
    "start_time": "2022-07-20T12:39:10.634Z"
   },
   {
    "duration": 109,
    "start_time": "2022-07-20T12:39:17.040Z"
   },
   {
    "duration": 4,
    "start_time": "2022-07-20T12:39:21.502Z"
   },
   {
    "duration": 9,
    "start_time": "2022-07-20T12:39:49.863Z"
   },
   {
    "duration": 4,
    "start_time": "2022-07-20T12:40:01.814Z"
   },
   {
    "duration": 3,
    "start_time": "2022-07-20T12:40:25.318Z"
   }
  ],
  "kernelspec": {
   "display_name": "Python 3 (ipykernel)",
   "language": "python",
   "name": "python3"
  },
  "language_info": {
   "codemirror_mode": {
    "name": "ipython",
    "version": 3
   },
   "file_extension": ".py",
   "mimetype": "text/x-python",
   "name": "python",
   "nbconvert_exporter": "python",
   "pygments_lexer": "ipython3",
   "version": "3.9.7"
  },
  "toc": {
   "base_numbering": 1,
   "nav_menu": {},
   "number_sections": true,
   "sideBar": true,
   "skip_h1_title": true,
   "title_cell": "Table of Contents",
   "title_sidebar": "Contents",
   "toc_cell": false,
   "toc_position": {},
   "toc_section_display": true,
   "toc_window_display": false
  }
 },
 "nbformat": 4,
 "nbformat_minor": 2
}

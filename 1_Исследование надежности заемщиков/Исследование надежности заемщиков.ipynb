{
 "cells": [
  {
   "cell_type": "markdown",
   "id": "366c716f",
   "metadata": {},
   "source": [
    "# Исследование надежности заемщиков."
   ]
  },
  {
   "cell_type": "markdown",
   "id": "a8744cb2",
   "metadata": {},
   "source": [
    "### Шаг 1. Обзор данных"
   ]
  },
  {
   "cell_type": "code",
   "execution_count": 1,
   "id": "aa12143f",
   "metadata": {},
   "outputs": [
    {
     "name": "stdout",
     "output_type": "stream",
     "text": [
      "   children  days_employed  dob_years education  education_id  \\\n",
      "0         1   -8437.673028         42    высшее             0   \n",
      "1         1   -4024.803754         36   среднее             1   \n",
      "2         0   -5623.422610         33   Среднее             1   \n",
      "3         3   -4124.747207         32   среднее             1   \n",
      "4         0  340266.072047         53   среднее             1   \n",
      "\n",
      "      family_status  family_status_id gender income_type  debt   total_income  \\\n",
      "0   женат / замужем                 0      F   сотрудник     0  253875.639453   \n",
      "1   женат / замужем                 0      F   сотрудник     0  112080.014102   \n",
      "2   женат / замужем                 0      M   сотрудник     0  145885.952297   \n",
      "3   женат / замужем                 0      M   сотрудник     0  267628.550329   \n",
      "4  гражданский брак                 1      F   пенсионер     0  158616.077870   \n",
      "\n",
      "                      purpose  \n",
      "0               покупка жилья  \n",
      "1     приобретение автомобиля  \n",
      "2               покупка жилья  \n",
      "3  дополнительное образование  \n",
      "4             сыграть свадьбу  \n",
      "<class 'pandas.core.frame.DataFrame'>\n",
      "RangeIndex: 21525 entries, 0 to 21524\n",
      "Data columns (total 12 columns):\n",
      "children            21525 non-null int64\n",
      "days_employed       19351 non-null float64\n",
      "dob_years           21525 non-null int64\n",
      "education           21525 non-null object\n",
      "education_id        21525 non-null int64\n",
      "family_status       21525 non-null object\n",
      "family_status_id    21525 non-null int64\n",
      "gender              21525 non-null object\n",
      "income_type         21525 non-null object\n",
      "debt                21525 non-null int64\n",
      "total_income        19351 non-null float64\n",
      "purpose             21525 non-null object\n",
      "dtypes: float64(2), int64(5), object(5)\n",
      "memory usage: 2.0+ MB\n"
     ]
    }
   ],
   "source": [
    "import pandas as pd\n",
    "data = pd.read_csv('/datasets/data.csv') # чтение содержимого файла и сохранение в датафрейме data\n",
    "print(data.head()) # знакомство с данными\n",
    "data.info() # оценка объема данных в таблице"
   ]
  },
  {
   "cell_type": "markdown",
   "id": "c6c9071f",
   "metadata": {},
   "source": [
    "### Шаг 2.1 Заполнение пропусков"
   ]
  },
  {
   "cell_type": "code",
   "execution_count": 2,
   "id": "ae160464",
   "metadata": {},
   "outputs": [
    {
     "name": "stdout",
     "output_type": "stream",
     "text": [
      "0.8990011614401858\n",
      "0.8990011614401858\n",
      "<class 'pandas.core.frame.DataFrame'>\n",
      "RangeIndex: 21525 entries, 0 to 21524\n",
      "Data columns (total 12 columns):\n",
      "children            21525 non-null int64\n",
      "days_employed       21525 non-null float64\n",
      "dob_years           21525 non-null int64\n",
      "education           21525 non-null object\n",
      "education_id        21525 non-null int64\n",
      "family_status       21525 non-null object\n",
      "family_status_id    21525 non-null int64\n",
      "gender              21525 non-null object\n",
      "income_type         21525 non-null object\n",
      "debt                21525 non-null int64\n",
      "total_income        21525 non-null float64\n",
      "purpose             21525 non-null object\n",
      "dtypes: float64(2), int64(5), object(5)\n",
      "memory usage: 2.0+ MB\n"
     ]
    }
   ],
   "source": [
    "# Из полученного обзора данных выявлено, что в столбцах 'days_employed' и 'total_income' имеются пропущенные значения\n",
    "# Определим долю пропущенных значений в столбце 'days_employed'\n",
    "print(data['days_employed'].count() / data['children'].count())\n",
    "# также определим долю пропущенных в столбце 'total_income'\n",
    "print(data['total_income'].count()/data['children'].count())\n",
    "\n",
    "# Исходя из одинакового количества пропусков с столбцах 'days_employed' и 'total_income' можно предположить, \n",
    "# что возможная причина пропусков, это отсутствие трудового стажа заемщика, и соответственно, отсутствие ежемесячного дохода.\n",
    "\n",
    "# Медианное значение корректнее применять, когда некоторые значения сильно выделяются среди остального большинства.\n",
    "# заполнение пропусков медианым значением столбца 'days_employed'\n",
    "data['days_employed'] = data['days_employed'].fillna(data['days_employed'].median())\n",
    "# заполнение пропусков медианым значением столбца 'total_income'\n",
    "data['total_income'] = data['total_income'].fillna(data['total_income'].median())\n",
    "\n",
    "# проверка, пропуски отсутствуют, тип столбцов 'days_employed' и 'total_income' остался прежним 'float64'\n",
    "data.info()"
   ]
  },
  {
   "cell_type": "markdown",
   "id": "30805694",
   "metadata": {},
   "source": [
    "### Шаг 2.2 Проверка данных на аномалии и исправления."
   ]
  },
  {
   "cell_type": "code",
   "execution_count": 3,
   "id": "685e4d02",
   "metadata": {},
   "outputs": [
    {
     "name": "stdout",
     "output_type": "stream",
     "text": [
      "0      8437.673028\n",
      "1      4024.803754\n",
      "2      5623.422610\n",
      "3      4124.747207\n",
      "4    340266.072047\n",
      "Name: days_employed, dtype: float64\n"
     ]
    }
   ],
   "source": [
    "# В целях исключения аномалий обратим внимание на столбец 'days_employed', в нем имеются отрицательные значения,\n",
    "# которые соответствуют возможному стажу заемщика при соответствии количества прожитых лет.\n",
    "# В целях исключения аномалий в столбце days_employed', изменим данные с отрицательного на положительные.\n",
    "data ['days_employed'] = data.loc[:,'days_employed'].abs()\n",
    "print(data['days_employed'].head(5))"
   ]
  },
  {
   "cell_type": "code",
   "execution_count": 4,
   "id": "5129d984",
   "metadata": {},
   "outputs": [
    {
     "name": "stdout",
     "output_type": "stream",
     "text": [
      "3450\n"
     ]
    }
   ],
   "source": [
    "# также видно, что в данном столбце остались аномальные данные с величиной стажа, превышающем 100 лет (например, строка 5)\n",
    "# рассчитаем количество строк с величиной стажа более 45 лет.\n",
    "print (data['days_employed'][data['days_employed'] > 16000].count())"
   ]
  },
  {
   "cell_type": "code",
   "execution_count": 5,
   "id": "9788ea36",
   "metadata": {},
   "outputs": [
    {
     "name": "stdout",
     "output_type": "stream",
     "text": [
      "1328.1808865308271\n"
     ]
    }
   ],
   "source": [
    "# рассчитаем медианное значение по столбцу 'days_employed' при условии стажа менее 30 лет.\n",
    "print(data[data['days_employed'] < 10950]['days_employed'].median()) # получилось 1328.18 дней\n",
    "# заполним аномальные значения медианым значением столбца 'days_employed' при стаже менее 30 лет.\n",
    "data.loc[data['days_employed'] > 10950, 'days_employed'] = '1328.18'"
   ]
  },
  {
   "cell_type": "code",
   "execution_count": 6,
   "id": "9b7d11f9",
   "metadata": {},
   "outputs": [
    {
     "name": "stdout",
     "output_type": "stream",
     "text": [
      "F    14236\n",
      "M     7288\n",
      "Name: gender, dtype: int64\n"
     ]
    }
   ],
   "source": [
    "# Кроме того, в столбце 'gender'обнаружился пол клиента с индексом 'XNA' в количестве 1 шт.\n",
    "# удалим данную строку в связи с незначительной величиной.\n",
    "data.loc[data['gender'] == 'XNA','gender'] = None\n",
    "data = data.dropna(subset=['gender'])\n",
    "# проверка столбца 'gender' после удаления, остались только F и M\n",
    "print(data['gender'].value_counts())"
   ]
  },
  {
   "cell_type": "code",
   "execution_count": 7,
   "id": "d4a0d5de",
   "metadata": {},
   "outputs": [
    {
     "name": "stdout",
     "output_type": "stream",
     "text": [
      "0.0    14148\n",
      "1.0     4818\n",
      "2.0     2055\n",
      "3.0      330\n",
      "4.0       41\n",
      "5.0        9\n",
      "Name: children, dtype: int64\n"
     ]
    }
   ],
   "source": [
    "# в столбце 'children' обнаружилось количество детей равное \"-1\" в кол-ве 1 шт. и количество детей равное 20 - 76 шт.\n",
    "# Появление данных аномальных величин можеет быт вызвано \"человеческим\" фактором при занесении данных в таблицу\n",
    "# также удалим данные строки в связи с незначительной величиной.\n",
    "data.loc[data['children'] == -1, 'children'] = None\n",
    "data.loc[data['children'] == 20,'children'] = None\n",
    "data = data.dropna(subset=['children'])\n",
    "print(data['children'].value_counts())"
   ]
  },
  {
   "cell_type": "markdown",
   "id": "6d6e26c9",
   "metadata": {},
   "source": [
    "### Шаг 2.3. Изменение типов данных."
   ]
  },
  {
   "cell_type": "code",
   "execution_count": 8,
   "id": "1aac5ca7",
   "metadata": {},
   "outputs": [
    {
     "name": "stdout",
     "output_type": "stream",
     "text": [
      "0    253875\n",
      "1    112080\n",
      "2    145885\n",
      "3    267628\n",
      "4    158616\n",
      "Name: total_income, dtype: int64\n"
     ]
    }
   ],
   "source": [
    "# Заменим вещественный тип данных в столбце 'total_income' на целочисленный.\n",
    "data['total_income'] = data['total_income'].astype('int')\n",
    "print(data['total_income'].head())"
   ]
  },
  {
   "cell_type": "markdown",
   "id": "51c27066",
   "metadata": {},
   "source": [
    "### Шаг 2.4. Удаление дубликатов."
   ]
  },
  {
   "cell_type": "code",
   "execution_count": 9,
   "id": "dbff9926",
   "metadata": {},
   "outputs": [
    {
     "name": "stdout",
     "output_type": "stream",
     "text": [
      "['высшее' 'среднее' 'неоконченное высшее' 'начальное' 'ученая степень']\n",
      "71\n",
      "0\n"
     ]
    }
   ],
   "source": [
    "# для исключения не явных дубликатов в столбце 'education' все символы в столбце 'education' приведем к нижнему регистру\n",
    "data['education'] = data['education'].str.lower()\n",
    "print(data['education'].unique()) # выведем все уникальные значения столбца 'education'\n",
    "\n",
    "# Для удаления дубликатов проведена обработка данных:\n",
    "# пропуски в столбцах заполнены в пункте 2.1;\n",
    "# аномальные значения обработаны в пункте 2.2;\n",
    "# не явные дубли (приведение к единому регистру) были обработаны в предыдущем задании;\n",
    "# осталось удалить явные дубли:\n",
    " \n",
    "print(data.duplicated().sum()) # количество дубликатов - 71\n",
    "# очистим таблицу от дубликатов с новой индексацией и удалением старой индексации\n",
    "data = data.drop_duplicates().reset_index(drop=True)\n",
    "# проверим количество дубликатов в таблице\n",
    "print(data.duplicated().sum()) # количество дубликатов - 0"
   ]
  },
  {
   "cell_type": "markdown",
   "id": "0f91b317",
   "metadata": {},
   "source": [
    "### Шаг 2.5. Формирование дополнительных датафреймов словарей, декомпозиция исходного датафрейма."
   ]
  },
  {
   "cell_type": "code",
   "execution_count": 10,
   "id": "a3e7ce16",
   "metadata": {},
   "outputs": [
    {
     "name": "stdout",
     "output_type": "stream",
     "text": [
      "   education_id education\n",
      "0             0    высшее\n",
      "1             1   среднее\n",
      "2             1   среднее\n",
      "3             1   среднее\n",
      "4             1   среднее\n",
      "   family_status_id     family_status\n",
      "0                 0   женат / замужем\n",
      "1                 0   женат / замужем\n",
      "2                 0   женат / замужем\n",
      "3                 0   женат / замужем\n",
      "4                 1  гражданский брак\n",
      "   children days_employed  dob_years  education_id  family_status_id gender  \\\n",
      "0       1.0       8437.67         42             0                 0      F   \n",
      "1       1.0        4024.8         36             1                 0      F   \n",
      "2       0.0       5623.42         33             1                 0      M   \n",
      "3       3.0       4124.75         32             1                 0      M   \n",
      "4       0.0       1328.18         53             1                 1      F   \n",
      "\n",
      "  income_type  debt  total_income                     purpose  \n",
      "0   сотрудник     0        253875               покупка жилья  \n",
      "1   сотрудник     0        112080     приобретение автомобиля  \n",
      "2   сотрудник     0        145885               покупка жилья  \n",
      "3   сотрудник     0        267628  дополнительное образование  \n",
      "4   пенсионер     0        158616             сыграть свадьбу  \n"
     ]
    }
   ],
   "source": [
    "# Создаем два новых датафрейма:\n",
    "# первый со столбцами 'education_id' и 'education'\n",
    "data_education = data[['education_id','education']]\n",
    "print(data_education.head(5))\n",
    "# второй со столбцами 'family_status_id' и 'family_status'\n",
    "data_family = data[['family_status_id','family_status']]\n",
    "print(data_family.head(5))\n",
    "# удалим из исходного датафрейма столбцы 'education' и 'family_status'\n",
    "data.drop(['education','family_status'], inplace=True, axis=1)\n",
    "print(data.head(5))"
   ]
  },
  {
   "cell_type": "markdown",
   "id": "4c737780",
   "metadata": {},
   "source": [
    "### Шаг 2.6. Категоризация дохода."
   ]
  },
  {
   "cell_type": "code",
   "execution_count": 11,
   "id": "435727ea",
   "metadata": {},
   "outputs": [
    {
     "data": {
      "text/plain": [
       "C    15922\n",
       "B     5012\n",
       "D      349\n",
       "A       25\n",
       "E       22\n",
       "Name: total_income_category, dtype: int64"
      ]
     },
     "metadata": {},
     "output_type": "display_data"
    }
   ],
   "source": [
    "# создаем функцию для указания заданных категорий в столбце \"total_income_category\"\n",
    "def income_group(income):\n",
    "    if income <= 30000:\n",
    "        return 'E'\n",
    "    if income <= 50000:\n",
    "        return 'D'\n",
    "    if income <= 200000:\n",
    "        return 'C'\n",
    "    if income <= 1000000:\n",
    "        return 'B'\n",
    "    return 'A'\n",
    "# создаем столбец \"total_income_category\" с вышеуказанными категориями \n",
    "data['total_income_category'] = data['total_income'].apply(income_group)\n",
    "display(data['total_income_category'].value_counts()) # выводим данные из столбца \"total_income_category\""
   ]
  },
  {
   "cell_type": "markdown",
   "id": "7940d992",
   "metadata": {},
   "source": [
    "### Шаг 2.7. Категоризация целей кредита."
   ]
  },
  {
   "cell_type": "code",
   "execution_count": 12,
   "id": "cb6ccebd",
   "metadata": {},
   "outputs": [
    {
     "data": {
      "text/plain": [
       "операции с недвижимостью    10750\n",
       "операции с автомобилем       4279\n",
       "получение образования        3988\n",
       "проведение свадьбы           2313\n",
       "Name: purpose_category, dtype: int64"
      ]
     },
     "metadata": {},
     "output_type": "display_data"
    }
   ],
   "source": [
    "# создаем функцию, которая на основании данных из столбца \"purpose\" сформирует новый столбец \"purpose_category\"\n",
    "# с данными по категориям\n",
    "def purpose_categoried(purpose):\n",
    "    if 'свадьб' in purpose:\n",
    "        return 'проведение свадьбы'\n",
    "    elif 'авто' in purpose:\n",
    "        return 'операции с автомобилем'\n",
    "    elif 'образован' in purpose:\n",
    "        return 'получение образования'\n",
    "    else:\n",
    "# по категории 'операции с недвижимостью' функция будет присваивать данные при не выполнении всех условий        \n",
    "        return 'операции с недвижимостью' \n",
    "data['purpose_category'] = data['purpose'].apply(purpose_categoried)\n",
    "display(data['purpose_category'].value_counts())"
   ]
  },
  {
   "cell_type": "markdown",
   "id": "1331fb0d",
   "metadata": {},
   "source": [
    "### Ответы на вопросы."
   ]
  },
  {
   "cell_type": "markdown",
   "id": "30f305cd",
   "metadata": {},
   "source": [
    "##### Вопрос 1:  Есть ли зависимость между количеством детей и возвратом кредита в срок?"
   ]
  },
  {
   "cell_type": "code",
   "execution_count": 13,
   "id": "a1051309",
   "metadata": {
    "scrolled": true
   },
   "outputs": [
    {
     "data": {
      "text/html": [
       "<div>\n",
       "<style scoped>\n",
       "    .dataframe tbody tr th:only-of-type {\n",
       "        vertical-align: middle;\n",
       "    }\n",
       "\n",
       "    .dataframe tbody tr th {\n",
       "        vertical-align: top;\n",
       "    }\n",
       "\n",
       "    .dataframe thead tr th {\n",
       "        text-align: left;\n",
       "    }\n",
       "\n",
       "    .dataframe thead tr:last-of-type th {\n",
       "        text-align: right;\n",
       "    }\n",
       "</style>\n",
       "<table border=\"1\" class=\"dataframe\">\n",
       "  <thead>\n",
       "    <tr>\n",
       "      <th></th>\n",
       "      <th>sum</th>\n",
       "      <th>count</th>\n",
       "      <th>mean</th>\n",
       "    </tr>\n",
       "    <tr>\n",
       "      <th></th>\n",
       "      <th>debt</th>\n",
       "      <th>debt</th>\n",
       "      <th>debt</th>\n",
       "    </tr>\n",
       "    <tr>\n",
       "      <th>children</th>\n",
       "      <th></th>\n",
       "      <th></th>\n",
       "      <th></th>\n",
       "    </tr>\n",
       "  </thead>\n",
       "  <tbody>\n",
       "    <tr>\n",
       "      <td>0.0</td>\n",
       "      <td>1063</td>\n",
       "      <td>14090</td>\n",
       "      <td>0.075444</td>\n",
       "    </tr>\n",
       "    <tr>\n",
       "      <td>1.0</td>\n",
       "      <td>444</td>\n",
       "      <td>4808</td>\n",
       "      <td>0.092346</td>\n",
       "    </tr>\n",
       "    <tr>\n",
       "      <td>2.0</td>\n",
       "      <td>194</td>\n",
       "      <td>2052</td>\n",
       "      <td>0.094542</td>\n",
       "    </tr>\n",
       "    <tr>\n",
       "      <td>3.0</td>\n",
       "      <td>27</td>\n",
       "      <td>330</td>\n",
       "      <td>0.081818</td>\n",
       "    </tr>\n",
       "    <tr>\n",
       "      <td>4.0</td>\n",
       "      <td>4</td>\n",
       "      <td>41</td>\n",
       "      <td>0.097561</td>\n",
       "    </tr>\n",
       "    <tr>\n",
       "      <td>5.0</td>\n",
       "      <td>0</td>\n",
       "      <td>9</td>\n",
       "      <td>0.000000</td>\n",
       "    </tr>\n",
       "  </tbody>\n",
       "</table>\n",
       "</div>"
      ],
      "text/plain": [
       "           sum  count      mean\n",
       "          debt   debt      debt\n",
       "children                       \n",
       "0.0       1063  14090  0.075444\n",
       "1.0        444   4808  0.092346\n",
       "2.0        194   2052  0.094542\n",
       "3.0         27    330  0.081818\n",
       "4.0          4     41  0.097561\n",
       "5.0          0      9  0.000000"
      ]
     },
     "metadata": {},
     "output_type": "display_data"
    }
   ],
   "source": [
    "# рассчитаем долю не возврата кредита в зависимости от количества детей:\n",
    "display(data.pivot_table(index=['children'], values='debt', aggfunc=['sum','count','mean']))"
   ]
  },
  {
   "cell_type": "markdown",
   "id": "eb8be1a7",
   "metadata": {},
   "source": [
    "##### Ответ:\n",
    "При анализе данных выявлено, максимальный % не возврата кредита у клиентов с 4 детьми (хотя таких случаев всего 41).\n",
    "При количестве одного и двух детей процент невозврата практически одинаковый (9,23 и 9,45 соответственно), хотя количество случаев при 1 ребенке более чем в 2 раза превышает при 2 детях. У клиентов с 5 детьми отсутствуют случаи не возврата кредита в срок."
   ]
  },
  {
   "cell_type": "markdown",
   "id": "544f976c",
   "metadata": {},
   "source": [
    "##### Вопрос 2:  Есть ли зависимость между семейным положением и возвратом кредита в срок?"
   ]
  },
  {
   "cell_type": "code",
   "execution_count": 14,
   "id": "c73fceae",
   "metadata": {
    "scrolled": true
   },
   "outputs": [
    {
     "data": {
      "text/html": [
       "<div>\n",
       "<style scoped>\n",
       "    .dataframe tbody tr th:only-of-type {\n",
       "        vertical-align: middle;\n",
       "    }\n",
       "\n",
       "    .dataframe tbody tr th {\n",
       "        vertical-align: top;\n",
       "    }\n",
       "\n",
       "    .dataframe thead tr th {\n",
       "        text-align: left;\n",
       "    }\n",
       "\n",
       "    .dataframe thead tr:last-of-type th {\n",
       "        text-align: right;\n",
       "    }\n",
       "</style>\n",
       "<table border=\"1\" class=\"dataframe\">\n",
       "  <thead>\n",
       "    <tr>\n",
       "      <th></th>\n",
       "      <th>sum</th>\n",
       "      <th>count</th>\n",
       "      <th>mean</th>\n",
       "    </tr>\n",
       "    <tr>\n",
       "      <th></th>\n",
       "      <th>debt</th>\n",
       "      <th>debt</th>\n",
       "      <th>debt</th>\n",
       "    </tr>\n",
       "    <tr>\n",
       "      <th>family_status_id</th>\n",
       "      <th></th>\n",
       "      <th></th>\n",
       "      <th></th>\n",
       "    </tr>\n",
       "  </thead>\n",
       "  <tbody>\n",
       "    <tr>\n",
       "      <td>Не женат / не замужем</td>\n",
       "      <td>63</td>\n",
       "      <td>951</td>\n",
       "      <td>0.066246</td>\n",
       "    </tr>\n",
       "    <tr>\n",
       "      <td>в разводе</td>\n",
       "      <td>84</td>\n",
       "      <td>1189</td>\n",
       "      <td>0.070648</td>\n",
       "    </tr>\n",
       "    <tr>\n",
       "      <td>вдовец / вдова</td>\n",
       "      <td>273</td>\n",
       "      <td>2796</td>\n",
       "      <td>0.097639</td>\n",
       "    </tr>\n",
       "    <tr>\n",
       "      <td>гражданский брак</td>\n",
       "      <td>385</td>\n",
       "      <td>4133</td>\n",
       "      <td>0.093153</td>\n",
       "    </tr>\n",
       "    <tr>\n",
       "      <td>женат / замужем</td>\n",
       "      <td>927</td>\n",
       "      <td>12261</td>\n",
       "      <td>0.075606</td>\n",
       "    </tr>\n",
       "  </tbody>\n",
       "</table>\n",
       "</div>"
      ],
      "text/plain": [
       "                       sum  count      mean\n",
       "                      debt   debt      debt\n",
       "family_status_id                           \n",
       "Не женат / не замужем   63    951  0.066246\n",
       "в разводе               84   1189  0.070648\n",
       "вдовец / вдова         273   2796  0.097639\n",
       "гражданский брак       385   4133  0.093153\n",
       "женат / замужем        927  12261  0.075606"
      ]
     },
     "metadata": {},
     "output_type": "display_data"
    }
   ],
   "source": [
    "# рассчитаем процент не возврата кредита в зависимости от семейного положения:\n",
    "# для этого заменим в столбце 'family_status_id' имеющиеся цифры на понятия в соответствии таблицей соответствия:\n",
    "data['family_status_id'] = data['family_status_id'].replace({0:'женат / замужем', 1:'гражданский брак', 2:'Не женат / не замужем', 3:'в разводе',4:'вдовец / вдова'})\n",
    "# рассчитаем долю не возврата кредита в зависимости от семейного положения:\n",
    "display(data.pivot_table(index=['family_status_id'], values='debt', aggfunc=['sum','count','mean']))"
   ]
  },
  {
   "cell_type": "markdown",
   "id": "9cc9023a",
   "metadata": {},
   "source": [
    "##### Ответ:\n",
    "При анализе данных выявлено, максимальный % не возврата кредита у клиентов с семейным положением \"вдовец / вдова\" и \"гражданский брак\" (9,76 и 9,28 соответственно). Что вполне естественно с моей точки зрения, т.к. существует либо недостаток средств в случае \"вдовы\", либо отсутствие \"семейного\" бюджета\" при проживании в \"гражданском браке\". У клиентов с семейным положением \"не женат\" самая низкий  % не возврата - 6,62."
   ]
  },
  {
   "cell_type": "markdown",
   "id": "683b7bb8",
   "metadata": {},
   "source": [
    "##### Вопрос 3:  Есть ли зависимость между уровнем дохода и возвратом кредита в срок?"
   ]
  },
  {
   "cell_type": "code",
   "execution_count": 15,
   "id": "f9cacaee",
   "metadata": {
    "scrolled": false
   },
   "outputs": [
    {
     "data": {
      "text/html": [
       "<div>\n",
       "<style scoped>\n",
       "    .dataframe tbody tr th:only-of-type {\n",
       "        vertical-align: middle;\n",
       "    }\n",
       "\n",
       "    .dataframe tbody tr th {\n",
       "        vertical-align: top;\n",
       "    }\n",
       "\n",
       "    .dataframe thead tr th {\n",
       "        text-align: left;\n",
       "    }\n",
       "\n",
       "    .dataframe thead tr:last-of-type th {\n",
       "        text-align: right;\n",
       "    }\n",
       "</style>\n",
       "<table border=\"1\" class=\"dataframe\">\n",
       "  <thead>\n",
       "    <tr>\n",
       "      <th></th>\n",
       "      <th>sum</th>\n",
       "      <th>count</th>\n",
       "      <th>mean</th>\n",
       "    </tr>\n",
       "    <tr>\n",
       "      <th></th>\n",
       "      <th>debt</th>\n",
       "      <th>debt</th>\n",
       "      <th>debt</th>\n",
       "    </tr>\n",
       "    <tr>\n",
       "      <th>total_income_category</th>\n",
       "      <th></th>\n",
       "      <th></th>\n",
       "      <th></th>\n",
       "    </tr>\n",
       "  </thead>\n",
       "  <tbody>\n",
       "    <tr>\n",
       "      <td>A</td>\n",
       "      <td>2</td>\n",
       "      <td>25</td>\n",
       "      <td>0.080000</td>\n",
       "    </tr>\n",
       "    <tr>\n",
       "      <td>B</td>\n",
       "      <td>354</td>\n",
       "      <td>5012</td>\n",
       "      <td>0.070630</td>\n",
       "    </tr>\n",
       "    <tr>\n",
       "      <td>C</td>\n",
       "      <td>1353</td>\n",
       "      <td>15922</td>\n",
       "      <td>0.084977</td>\n",
       "    </tr>\n",
       "    <tr>\n",
       "      <td>D</td>\n",
       "      <td>21</td>\n",
       "      <td>349</td>\n",
       "      <td>0.060172</td>\n",
       "    </tr>\n",
       "    <tr>\n",
       "      <td>E</td>\n",
       "      <td>2</td>\n",
       "      <td>22</td>\n",
       "      <td>0.090909</td>\n",
       "    </tr>\n",
       "  </tbody>\n",
       "</table>\n",
       "</div>"
      ],
      "text/plain": [
       "                        sum  count      mean\n",
       "                       debt   debt      debt\n",
       "total_income_category                       \n",
       "A                         2     25  0.080000\n",
       "B                       354   5012  0.070630\n",
       "C                      1353  15922  0.084977\n",
       "D                        21    349  0.060172\n",
       "E                         2     22  0.090909"
      ]
     },
     "metadata": {},
     "output_type": "display_data"
    }
   ],
   "source": [
    "# рассчитаем долю не возврата кредита в зависимости от уровня дохода:\n",
    "display(data.pivot_table(index=['total_income_category'], values='debt', aggfunc=['sum','count','mean']))"
   ]
  },
  {
   "cell_type": "markdown",
   "id": "8845db5b",
   "metadata": {},
   "source": [
    "##### Ответ: \n",
    "При анализе данных выявлено, максимальный % не возврата кредита у клиентов с уровнем дохода категории E (0–30000) - 9.09. У клиентов с уровнем дохода категории A (выше 1 000 001) и C (50 001–200 000) приблизительно одинаковый % не возврата (8 и 8,49 соответственно). Самый низкий % не возврата у клиентов с уровнем дохода категории D (30 001–50 000) - 6.17."
   ]
  },
  {
   "cell_type": "markdown",
   "id": "6fc7a954",
   "metadata": {},
   "source": [
    "##### Вопрос 4:  Как разные цели кредита влияют на его возврат в срок?"
   ]
  },
  {
   "cell_type": "code",
   "execution_count": 16,
   "id": "7e45c5ec",
   "metadata": {
    "scrolled": false
   },
   "outputs": [
    {
     "data": {
      "text/html": [
       "<div>\n",
       "<style scoped>\n",
       "    .dataframe tbody tr th:only-of-type {\n",
       "        vertical-align: middle;\n",
       "    }\n",
       "\n",
       "    .dataframe tbody tr th {\n",
       "        vertical-align: top;\n",
       "    }\n",
       "\n",
       "    .dataframe thead tr th {\n",
       "        text-align: left;\n",
       "    }\n",
       "\n",
       "    .dataframe thead tr:last-of-type th {\n",
       "        text-align: right;\n",
       "    }\n",
       "</style>\n",
       "<table border=\"1\" class=\"dataframe\">\n",
       "  <thead>\n",
       "    <tr>\n",
       "      <th></th>\n",
       "      <th>sum</th>\n",
       "      <th>count</th>\n",
       "      <th>mean</th>\n",
       "    </tr>\n",
       "    <tr>\n",
       "      <th></th>\n",
       "      <th>debt</th>\n",
       "      <th>debt</th>\n",
       "      <th>debt</th>\n",
       "    </tr>\n",
       "    <tr>\n",
       "      <th>purpose_category</th>\n",
       "      <th></th>\n",
       "      <th></th>\n",
       "      <th></th>\n",
       "    </tr>\n",
       "  </thead>\n",
       "  <tbody>\n",
       "    <tr>\n",
       "      <td>операции с автомобилем</td>\n",
       "      <td>400</td>\n",
       "      <td>4279</td>\n",
       "      <td>0.093480</td>\n",
       "    </tr>\n",
       "    <tr>\n",
       "      <td>операции с недвижимостью</td>\n",
       "      <td>780</td>\n",
       "      <td>10750</td>\n",
       "      <td>0.072558</td>\n",
       "    </tr>\n",
       "    <tr>\n",
       "      <td>получение образования</td>\n",
       "      <td>369</td>\n",
       "      <td>3988</td>\n",
       "      <td>0.092528</td>\n",
       "    </tr>\n",
       "    <tr>\n",
       "      <td>проведение свадьбы</td>\n",
       "      <td>183</td>\n",
       "      <td>2313</td>\n",
       "      <td>0.079118</td>\n",
       "    </tr>\n",
       "  </tbody>\n",
       "</table>\n",
       "</div>"
      ],
      "text/plain": [
       "                          sum  count      mean\n",
       "                         debt   debt      debt\n",
       "purpose_category                              \n",
       "операции с автомобилем    400   4279  0.093480\n",
       "операции с недвижимостью  780  10750  0.072558\n",
       "получение образования     369   3988  0.092528\n",
       "проведение свадьбы        183   2313  0.079118"
      ]
     },
     "metadata": {},
     "output_type": "display_data"
    }
   ],
   "source": [
    "# рассчитаем долю не возврата кредита в зависимости от цели кредита:\n",
    "display(data.pivot_table(index=['purpose_category'], values='debt', aggfunc=['sum','count','mean']))"
   ]
  },
  {
   "cell_type": "markdown",
   "id": "cd371540",
   "metadata": {},
   "source": [
    "##### Ответ: \n",
    "При анализе данных выявлено, максимальный % не возврата кредита у клиентов с целью кредита \"операции с автомобилем\" и \"получение образования\" (9,34 и 9,25 соответственно). Самый низкий % не возврата у клиентов с целью кредита \"операции с недвижимостью\"- 7,25. Количество клиентов с целью кредита \"операции с недвижимостью\" сопоставимо с суммой количества клиентов по оставшимся трем категориям."
   ]
  },
  {
   "cell_type": "markdown",
   "id": "e9242f5c",
   "metadata": {},
   "source": [
    "## Общий вывод:"
   ]
  },
  {
   "cell_type": "markdown",
   "id": "5d055121",
   "metadata": {},
   "source": [
    "При проведении исследования предоставленой банком статистики о платёжеспособности клиентов были выявлены зависимости между семейным положением клиента и количеством детей на факт погашения кредита в срок. Максимальный процент не возврата кредита у клиентов с семейным положением \"вдовец / вдова\" и \"гражданский брак\" (9,76 и 9,28 соответственно), а также у клиентов с 4 детьми (9.76). Клиенты, входящие в данные категории являются клиентами с максимальной степенью риска не возврата кредита.  \n",
    "Надежнее выдавать кредиты клиентам с отсутствием детей и семейным положением \"женат / замужем\", данные категории с больше вероятностью смогут погасить кредиты в установленные договором сроки. Кроме того, клиенты из указанных категорий более часто обращаются в банк за предоставлением кредита, что также более выгодно для банка."
   ]
  }
 ],
 "metadata": {
  "ExecuteTimeLog": [
   {
    "duration": 4,
    "start_time": "2022-03-01T17:40:44.171Z"
   },
   {
    "duration": 625,
    "start_time": "2022-03-01T17:40:54.879Z"
   },
   {
    "duration": 39,
    "start_time": "2022-03-01T17:40:56.407Z"
   },
   {
    "duration": 60,
    "start_time": "2022-03-01T17:41:02.384Z"
   },
   {
    "duration": 49,
    "start_time": "2022-03-01T17:41:07.235Z"
   },
   {
    "duration": 217,
    "start_time": "2022-03-01T17:41:31.631Z"
   },
   {
    "duration": 48,
    "start_time": "2022-03-01T17:41:40.151Z"
   },
   {
    "duration": 52,
    "start_time": "2022-03-01T17:42:22.687Z"
   },
   {
    "duration": 45,
    "start_time": "2022-03-01T17:44:42.355Z"
   },
   {
    "duration": 46,
    "start_time": "2022-03-01T17:45:06.528Z"
   },
   {
    "duration": 47,
    "start_time": "2022-03-01T17:45:20.715Z"
   },
   {
    "duration": 47,
    "start_time": "2022-03-01T17:45:28.548Z"
   },
   {
    "duration": 45,
    "start_time": "2022-03-01T17:45:58.241Z"
   },
   {
    "duration": 54,
    "start_time": "2022-03-01T17:46:07.990Z"
   },
   {
    "duration": 54,
    "start_time": "2022-03-01T17:48:57.220Z"
   },
   {
    "duration": 52,
    "start_time": "2022-03-01T17:51:12.271Z"
   },
   {
    "duration": 53,
    "start_time": "2022-03-01T17:51:28.162Z"
   },
   {
    "duration": 60,
    "start_time": "2022-03-01T17:52:42.030Z"
   },
   {
    "duration": 52,
    "start_time": "2022-03-01T17:53:08.807Z"
   },
   {
    "duration": 6,
    "start_time": "2022-03-01T17:54:09.895Z"
   },
   {
    "duration": 53,
    "start_time": "2022-03-01T17:54:49.800Z"
   },
   {
    "duration": 53,
    "start_time": "2022-03-01T17:56:09.643Z"
   },
   {
    "duration": 74,
    "start_time": "2022-03-01T17:56:19.245Z"
   },
   {
    "duration": 2,
    "start_time": "2022-03-01T17:59:04.853Z"
   },
   {
    "duration": 5,
    "start_time": "2022-03-01T17:59:59.772Z"
   },
   {
    "duration": 6,
    "start_time": "2022-03-01T18:02:00.285Z"
   },
   {
    "duration": 7,
    "start_time": "2022-03-01T18:02:12.285Z"
   },
   {
    "duration": 4,
    "start_time": "2022-03-01T18:02:46.768Z"
   },
   {
    "duration": 5,
    "start_time": "2022-03-01T18:06:09.924Z"
   },
   {
    "duration": 3,
    "start_time": "2022-03-01T18:06:19.711Z"
   },
   {
    "duration": 4,
    "start_time": "2022-03-01T18:07:14.033Z"
   },
   {
    "duration": 5,
    "start_time": "2022-03-01T18:08:33.250Z"
   },
   {
    "duration": 5,
    "start_time": "2022-03-01T18:14:25.456Z"
   },
   {
    "duration": 9,
    "start_time": "2022-03-01T18:15:18.869Z"
   },
   {
    "duration": 10,
    "start_time": "2022-03-01T18:15:29.314Z"
   },
   {
    "duration": 11,
    "start_time": "2022-03-01T18:16:29.641Z"
   },
   {
    "duration": 13,
    "start_time": "2022-03-01T18:17:52.350Z"
   },
   {
    "duration": 17,
    "start_time": "2022-03-01T18:18:32.811Z"
   },
   {
    "duration": 16,
    "start_time": "2022-03-01T18:18:38.543Z"
   },
   {
    "duration": 7,
    "start_time": "2022-03-01T18:19:40.192Z"
   },
   {
    "duration": 8,
    "start_time": "2022-03-01T18:20:25.275Z"
   },
   {
    "duration": 8,
    "start_time": "2022-03-01T18:34:31.426Z"
   },
   {
    "duration": 12,
    "start_time": "2022-03-01T18:36:08.948Z"
   },
   {
    "duration": 10,
    "start_time": "2022-03-01T18:40:38.643Z"
   },
   {
    "duration": 9,
    "start_time": "2022-03-01T18:41:08.250Z"
   },
   {
    "duration": 9,
    "start_time": "2022-03-01T18:41:14.816Z"
   },
   {
    "duration": 10,
    "start_time": "2022-03-01T18:41:42.624Z"
   },
   {
    "duration": 11,
    "start_time": "2022-03-01T18:43:03.212Z"
   },
   {
    "duration": 1947,
    "start_time": "2022-03-01T18:43:24.176Z"
   },
   {
    "duration": 1937,
    "start_time": "2022-03-01T18:43:47.875Z"
   },
   {
    "duration": 2013,
    "start_time": "2022-03-01T18:44:00.323Z"
   },
   {
    "duration": 1973,
    "start_time": "2022-03-01T18:44:19.215Z"
   },
   {
    "duration": 1898,
    "start_time": "2022-03-01T18:44:21.614Z"
   },
   {
    "duration": 1970,
    "start_time": "2022-03-01T18:44:45.704Z"
   },
   {
    "duration": -10,
    "start_time": "2022-03-01T18:45:40.654Z"
   },
   {
    "duration": 1808,
    "start_time": "2022-03-01T18:45:45.707Z"
   },
   {
    "duration": 586,
    "start_time": "2022-03-01T18:45:59.907Z"
   },
   {
    "duration": 8,
    "start_time": "2022-03-01T18:46:00.496Z"
   },
   {
    "duration": 8,
    "start_time": "2022-03-01T18:46:22.493Z"
   },
   {
    "duration": -47,
    "start_time": "2022-03-01T18:46:27.565Z"
   },
   {
    "duration": 1865,
    "start_time": "2022-03-01T18:46:41.464Z"
   },
   {
    "duration": 1852,
    "start_time": "2022-03-01T18:47:40.382Z"
   },
   {
    "duration": 57,
    "start_time": "2022-03-01T18:47:49.801Z"
   },
   {
    "duration": 7,
    "start_time": "2022-03-01T18:49:14.965Z"
   },
   {
    "duration": 13,
    "start_time": "2022-03-01T18:50:57.192Z"
   },
   {
    "duration": 21,
    "start_time": "2022-03-01T18:51:21.722Z"
   },
   {
    "duration": 26,
    "start_time": "2022-03-01T18:51:33.169Z"
   },
   {
    "duration": 22,
    "start_time": "2022-03-01T18:52:05.975Z"
   },
   {
    "duration": 23,
    "start_time": "2022-03-01T18:55:37.473Z"
   },
   {
    "duration": 615,
    "start_time": "2022-03-01T18:55:50.799Z"
   },
   {
    "duration": 24,
    "start_time": "2022-03-01T18:55:51.416Z"
   },
   {
    "duration": 24,
    "start_time": "2022-03-01T18:56:24.312Z"
   },
   {
    "duration": 17,
    "start_time": "2022-03-01T19:01:01.067Z"
   },
   {
    "duration": 606,
    "start_time": "2022-03-01T19:01:07.286Z"
   },
   {
    "duration": 17,
    "start_time": "2022-03-01T19:01:07.895Z"
   },
   {
    "duration": 324,
    "start_time": "2022-03-02T16:17:25.766Z"
   },
   {
    "duration": 96,
    "start_time": "2022-03-02T16:17:55.779Z"
   },
   {
    "duration": 415,
    "start_time": "2022-03-02T16:18:03.664Z"
   },
   {
    "duration": 845,
    "start_time": "2022-03-02T16:18:12.400Z"
   },
   {
    "duration": 32,
    "start_time": "2022-03-02T16:18:13.247Z"
   },
   {
    "duration": 22,
    "start_time": "2022-03-02T16:18:24.762Z"
   },
   {
    "duration": 70,
    "start_time": "2022-03-02T16:18:42.740Z"
   },
   {
    "duration": 75,
    "start_time": "2022-03-02T16:19:01.535Z"
   },
   {
    "duration": 850,
    "start_time": "2022-03-02T16:19:16.967Z"
   },
   {
    "duration": 24,
    "start_time": "2022-03-02T16:19:17.821Z"
   },
   {
    "duration": 6,
    "start_time": "2022-03-02T16:28:35.702Z"
   },
   {
    "duration": 99,
    "start_time": "2022-03-02T16:33:18.188Z"
   },
   {
    "duration": 6,
    "start_time": "2022-03-02T16:33:26.163Z"
   },
   {
    "duration": 7,
    "start_time": "2022-03-02T16:49:35.256Z"
   },
   {
    "duration": 6,
    "start_time": "2022-03-02T16:50:04.632Z"
   },
   {
    "duration": 7,
    "start_time": "2022-03-02T16:50:18.549Z"
   },
   {
    "duration": 24,
    "start_time": "2022-03-02T16:57:12.015Z"
   },
   {
    "duration": 70,
    "start_time": "2022-03-02T16:57:21.741Z"
   },
   {
    "duration": 14,
    "start_time": "2022-03-02T16:57:37.440Z"
   },
   {
    "duration": 13,
    "start_time": "2022-03-02T16:58:12.389Z"
   },
   {
    "duration": 72,
    "start_time": "2022-03-02T16:58:27.575Z"
   },
   {
    "duration": 86,
    "start_time": "2022-03-02T16:58:33.216Z"
   },
   {
    "duration": 475,
    "start_time": "2022-03-02T16:58:51.327Z"
   },
   {
    "duration": 15,
    "start_time": "2022-03-02T16:59:06.996Z"
   },
   {
    "duration": 12,
    "start_time": "2022-03-02T16:59:33.417Z"
   },
   {
    "duration": 8,
    "start_time": "2022-03-02T16:59:45.986Z"
   },
   {
    "duration": 9,
    "start_time": "2022-03-02T17:00:59.584Z"
   },
   {
    "duration": 9,
    "start_time": "2022-03-02T17:01:39.256Z"
   },
   {
    "duration": 22,
    "start_time": "2022-03-02T17:02:09.297Z"
   },
   {
    "duration": 17,
    "start_time": "2022-03-02T17:02:46.220Z"
   },
   {
    "duration": 21,
    "start_time": "2022-03-02T17:04:27.071Z"
   },
   {
    "duration": 20,
    "start_time": "2022-03-02T17:04:43.263Z"
   },
   {
    "duration": 20,
    "start_time": "2022-03-02T17:04:52.948Z"
   },
   {
    "duration": 18,
    "start_time": "2022-03-02T17:05:05.165Z"
   },
   {
    "duration": 889,
    "start_time": "2022-03-02T17:05:12.561Z"
   },
   {
    "duration": 28,
    "start_time": "2022-03-02T17:05:13.453Z"
   },
   {
    "duration": 20,
    "start_time": "2022-03-02T17:05:13.483Z"
   },
   {
    "duration": 18,
    "start_time": "2022-03-02T17:05:34.834Z"
   },
   {
    "duration": 15,
    "start_time": "2022-03-02T17:05:46.767Z"
   },
   {
    "duration": 3480,
    "start_time": "2022-03-02T17:05:49.041Z"
   },
   {
    "duration": 3508,
    "start_time": "2022-03-02T17:06:03.782Z"
   },
   {
    "duration": 3528,
    "start_time": "2022-03-02T17:06:22.098Z"
   },
   {
    "duration": 3616,
    "start_time": "2022-03-02T17:08:11.390Z"
   },
   {
    "duration": 88,
    "start_time": "2022-03-02T17:08:37.139Z"
   },
   {
    "duration": 3520,
    "start_time": "2022-03-02T17:08:49.953Z"
   },
   {
    "duration": 3573,
    "start_time": "2022-03-02T17:09:04.675Z"
   },
   {
    "duration": 3665,
    "start_time": "2022-03-02T17:09:54.077Z"
   },
   {
    "duration": 3589,
    "start_time": "2022-03-02T17:10:09.176Z"
   },
   {
    "duration": 3932,
    "start_time": "2022-03-02T17:11:38.753Z"
   },
   {
    "duration": 3608,
    "start_time": "2022-03-02T17:13:15.040Z"
   },
   {
    "duration": 267,
    "start_time": "2022-03-02T17:16:20.631Z"
   },
   {
    "duration": 281,
    "start_time": "2022-03-02T17:17:25.610Z"
   },
   {
    "duration": 325,
    "start_time": "2022-03-02T17:17:37.356Z"
   },
   {
    "duration": 812,
    "start_time": "2022-03-02T17:18:54.527Z"
   },
   {
    "duration": 37,
    "start_time": "2022-03-02T17:18:55.342Z"
   },
   {
    "duration": 8,
    "start_time": "2022-03-02T17:18:55.382Z"
   },
   {
    "duration": 390,
    "start_time": "2022-03-02T17:19:12.047Z"
   },
   {
    "duration": 882,
    "start_time": "2022-03-02T17:19:30.487Z"
   },
   {
    "duration": 34,
    "start_time": "2022-03-02T17:19:31.372Z"
   },
   {
    "duration": 25,
    "start_time": "2022-03-02T17:19:31.410Z"
   },
   {
    "duration": 7,
    "start_time": "2022-03-02T17:20:00.380Z"
   },
   {
    "duration": 385,
    "start_time": "2022-03-02T17:20:30.266Z"
   },
   {
    "duration": 849,
    "start_time": "2022-03-02T17:20:36.433Z"
   },
   {
    "duration": 24,
    "start_time": "2022-03-02T17:20:37.285Z"
   },
   {
    "duration": 13,
    "start_time": "2022-03-02T17:20:37.312Z"
   },
   {
    "duration": 20,
    "start_time": "2022-03-02T17:20:50.230Z"
   },
   {
    "duration": 14,
    "start_time": "2022-03-02T17:21:08.419Z"
   },
   {
    "duration": 7,
    "start_time": "2022-03-02T17:21:22.572Z"
   },
   {
    "duration": 20,
    "start_time": "2022-03-02T17:21:34.009Z"
   },
   {
    "duration": 11,
    "start_time": "2022-03-02T17:21:46.023Z"
   },
   {
    "duration": 429,
    "start_time": "2022-03-02T17:22:11.159Z"
   },
   {
    "duration": 95,
    "start_time": "2022-03-02T17:22:23.953Z"
   },
   {
    "duration": 9,
    "start_time": "2022-03-02T17:22:56.241Z"
   },
   {
    "duration": 17,
    "start_time": "2022-03-02T17:24:28.142Z"
   },
   {
    "duration": 20,
    "start_time": "2022-03-02T17:24:46.930Z"
   },
   {
    "duration": 20,
    "start_time": "2022-03-02T17:24:52.512Z"
   },
   {
    "duration": 100,
    "start_time": "2022-03-02T17:31:40.624Z"
   },
   {
    "duration": 25,
    "start_time": "2022-03-02T17:31:52.132Z"
   },
   {
    "duration": 14,
    "start_time": "2022-03-02T17:32:01.541Z"
   },
   {
    "duration": 15,
    "start_time": "2022-03-02T17:32:47.628Z"
   },
   {
    "duration": 15,
    "start_time": "2022-03-02T17:33:38.017Z"
   },
   {
    "duration": 15,
    "start_time": "2022-03-02T17:35:06.767Z"
   },
   {
    "duration": 25,
    "start_time": "2022-03-02T17:36:47.371Z"
   },
   {
    "duration": 14,
    "start_time": "2022-03-02T17:37:36.228Z"
   },
   {
    "duration": 20,
    "start_time": "2022-03-02T17:44:14.546Z"
   },
   {
    "duration": 304,
    "start_time": "2022-03-02T17:44:59.950Z"
   },
   {
    "duration": 284,
    "start_time": "2022-03-02T17:45:15.854Z"
   },
   {
    "duration": 879,
    "start_time": "2022-03-02T17:45:32.139Z"
   },
   {
    "duration": 23,
    "start_time": "2022-03-02T17:45:33.021Z"
   },
   {
    "duration": 41,
    "start_time": "2022-03-02T17:45:33.047Z"
   },
   {
    "duration": 369,
    "start_time": "2022-03-02T17:45:55.160Z"
   },
   {
    "duration": 817,
    "start_time": "2022-03-02T17:46:07.204Z"
   },
   {
    "duration": 22,
    "start_time": "2022-03-02T17:46:08.023Z"
   },
   {
    "duration": 44,
    "start_time": "2022-03-02T17:46:08.048Z"
   },
   {
    "duration": 381,
    "start_time": "2022-03-02T17:46:41.929Z"
   },
   {
    "duration": 841,
    "start_time": "2022-03-02T17:46:47.785Z"
   },
   {
    "duration": 25,
    "start_time": "2022-03-02T17:46:48.629Z"
   },
   {
    "duration": 29,
    "start_time": "2022-03-02T17:46:48.678Z"
   },
   {
    "duration": 368,
    "start_time": "2022-03-02T17:47:14.341Z"
   },
   {
    "duration": 865,
    "start_time": "2022-03-02T17:47:34.686Z"
   },
   {
    "duration": 32,
    "start_time": "2022-03-02T17:47:35.554Z"
   },
   {
    "duration": 30,
    "start_time": "2022-03-02T17:47:35.589Z"
   },
   {
    "duration": 396,
    "start_time": "2022-03-02T17:48:09.604Z"
   },
   {
    "duration": 6625,
    "start_time": "2022-03-02T17:48:55.270Z"
   },
   {
    "duration": 859,
    "start_time": "2022-03-02T17:49:12.987Z"
   },
   {
    "duration": 39,
    "start_time": "2022-03-02T17:49:13.850Z"
   },
   {
    "duration": 5152,
    "start_time": "2022-03-02T17:49:13.893Z"
   },
   {
    "duration": 31,
    "start_time": "2022-03-02T17:49:33.375Z"
   },
   {
    "duration": 330,
    "start_time": "2022-03-02T17:49:48.055Z"
   },
   {
    "duration": 294,
    "start_time": "2022-03-02T17:49:51.803Z"
   },
   {
    "duration": 291,
    "start_time": "2022-03-02T17:50:01.386Z"
   },
   {
    "duration": 876,
    "start_time": "2022-03-02T17:50:07.949Z"
   },
   {
    "duration": 23,
    "start_time": "2022-03-02T17:50:08.827Z"
   },
   {
    "duration": 42,
    "start_time": "2022-03-02T17:50:08.852Z"
   },
   {
    "duration": 368,
    "start_time": "2022-03-02T17:51:47.422Z"
   },
   {
    "duration": 822,
    "start_time": "2022-03-02T17:52:05.730Z"
   },
   {
    "duration": 26,
    "start_time": "2022-03-02T17:52:06.555Z"
   },
   {
    "duration": 36,
    "start_time": "2022-03-02T17:52:06.583Z"
   },
   {
    "duration": 397,
    "start_time": "2022-03-02T17:52:26.142Z"
   },
   {
    "duration": 279,
    "start_time": "2022-03-02T17:52:28.161Z"
   },
   {
    "duration": 865,
    "start_time": "2022-03-02T17:52:35.002Z"
   },
   {
    "duration": 23,
    "start_time": "2022-03-02T17:52:35.870Z"
   },
   {
    "duration": 34,
    "start_time": "2022-03-02T17:52:35.896Z"
   },
   {
    "duration": 382,
    "start_time": "2022-03-02T17:55:08.883Z"
   },
   {
    "duration": 1076,
    "start_time": "2022-03-02T17:55:22.723Z"
   },
   {
    "duration": 1098,
    "start_time": "2022-03-02T17:56:59.698Z"
   },
   {
    "duration": 822,
    "start_time": "2022-03-02T17:57:10.792Z"
   },
   {
    "duration": 25,
    "start_time": "2022-03-02T17:57:11.618Z"
   },
   {
    "duration": 414,
    "start_time": "2022-03-02T17:57:11.646Z"
   },
   {
    "duration": 1071,
    "start_time": "2022-03-02T17:58:57.313Z"
   },
   {
    "duration": 15,
    "start_time": "2022-03-02T17:59:16.828Z"
   },
   {
    "duration": 6,
    "start_time": "2022-03-02T17:59:42.011Z"
   },
   {
    "duration": 7,
    "start_time": "2022-03-02T18:00:29.712Z"
   },
   {
    "duration": 9,
    "start_time": "2022-03-02T18:01:15.456Z"
   },
   {
    "duration": 8,
    "start_time": "2022-03-02T18:01:41.671Z"
   },
   {
    "duration": 289,
    "start_time": "2022-03-02T18:01:49.531Z"
   },
   {
    "duration": 7,
    "start_time": "2022-03-02T18:02:01.122Z"
   },
   {
    "duration": 257,
    "start_time": "2022-03-02T18:03:14.607Z"
   },
   {
    "duration": 282,
    "start_time": "2022-03-02T18:04:43.950Z"
   },
   {
    "duration": 814,
    "start_time": "2022-03-02T18:06:23.623Z"
   },
   {
    "duration": 23,
    "start_time": "2022-03-02T18:06:24.439Z"
   },
   {
    "duration": 11,
    "start_time": "2022-03-02T18:06:24.473Z"
   },
   {
    "duration": 11,
    "start_time": "2022-03-02T18:06:54.101Z"
   },
   {
    "duration": 22,
    "start_time": "2022-03-02T18:10:31.907Z"
   },
   {
    "duration": 13,
    "start_time": "2022-03-02T18:10:50.443Z"
   },
   {
    "duration": 15,
    "start_time": "2022-03-02T18:10:56.945Z"
   },
   {
    "duration": 13,
    "start_time": "2022-03-02T18:11:14.032Z"
   },
   {
    "duration": 16,
    "start_time": "2022-03-02T18:11:21.218Z"
   },
   {
    "duration": 21,
    "start_time": "2022-03-02T18:15:06.523Z"
   },
   {
    "duration": 19,
    "start_time": "2022-03-02T18:15:15.855Z"
   },
   {
    "duration": 85,
    "start_time": "2022-03-02T18:22:14.688Z"
   },
   {
    "duration": 86,
    "start_time": "2022-03-02T18:22:32.969Z"
   },
   {
    "duration": 90,
    "start_time": "2022-03-02T18:24:00.956Z"
   },
   {
    "duration": 95,
    "start_time": "2022-03-02T18:24:27.775Z"
   },
   {
    "duration": 86,
    "start_time": "2022-03-02T18:24:36.751Z"
   },
   {
    "duration": 93,
    "start_time": "2022-03-02T18:24:46.171Z"
   },
   {
    "duration": 99,
    "start_time": "2022-03-02T18:24:59.813Z"
   },
   {
    "duration": 91,
    "start_time": "2022-03-02T18:25:18.843Z"
   },
   {
    "duration": 130,
    "start_time": "2022-03-02T18:25:25.546Z"
   },
   {
    "duration": 11,
    "start_time": "2022-03-02T18:25:32.491Z"
   },
   {
    "duration": 25,
    "start_time": "2022-03-02T18:35:01.019Z"
   },
   {
    "duration": 26,
    "start_time": "2022-03-02T18:35:04.497Z"
   },
   {
    "duration": 28,
    "start_time": "2022-03-02T18:35:16.513Z"
   },
   {
    "duration": 28,
    "start_time": "2022-03-02T18:35:35.346Z"
   },
   {
    "duration": 12,
    "start_time": "2022-03-02T18:35:45.505Z"
   },
   {
    "duration": 12,
    "start_time": "2022-03-02T18:35:49.386Z"
   },
   {
    "duration": 853,
    "start_time": "2022-03-02T18:36:00.492Z"
   },
   {
    "duration": 33,
    "start_time": "2022-03-02T18:36:01.349Z"
   },
   {
    "duration": 13,
    "start_time": "2022-03-02T18:36:01.386Z"
   },
   {
    "duration": 25,
    "start_time": "2022-03-02T18:37:09.292Z"
   },
   {
    "duration": 27,
    "start_time": "2022-03-02T18:37:12.957Z"
   },
   {
    "duration": 25,
    "start_time": "2022-03-02T18:37:23.012Z"
   },
   {
    "duration": 934,
    "start_time": "2022-03-02T18:37:31.237Z"
   },
   {
    "duration": 23,
    "start_time": "2022-03-02T18:37:32.174Z"
   },
   {
    "duration": 26,
    "start_time": "2022-03-02T18:37:32.200Z"
   },
   {
    "duration": 25,
    "start_time": "2022-03-02T18:38:10.521Z"
   },
   {
    "duration": 35,
    "start_time": "2022-03-02T18:38:13.099Z"
   },
   {
    "duration": 25,
    "start_time": "2022-03-02T18:38:22.837Z"
   },
   {
    "duration": 396,
    "start_time": "2022-03-02T18:38:43.936Z"
   },
   {
    "duration": 284,
    "start_time": "2022-03-02T18:39:01.374Z"
   },
   {
    "duration": 825,
    "start_time": "2022-03-02T18:39:08.305Z"
   },
   {
    "duration": 27,
    "start_time": "2022-03-02T18:39:09.133Z"
   },
   {
    "duration": 26,
    "start_time": "2022-03-02T18:39:09.174Z"
   },
   {
    "duration": 28,
    "start_time": "2022-03-02T18:42:10.153Z"
   },
   {
    "duration": 824,
    "start_time": "2022-03-02T18:42:16.392Z"
   },
   {
    "duration": 23,
    "start_time": "2022-03-02T18:42:17.219Z"
   },
   {
    "duration": 41,
    "start_time": "2022-03-02T18:42:17.245Z"
   },
   {
    "duration": 34,
    "start_time": "2022-03-02T18:42:30.673Z"
   },
   {
    "duration": 30,
    "start_time": "2022-03-02T18:42:57.544Z"
   },
   {
    "duration": 33,
    "start_time": "2022-03-02T18:43:04.944Z"
   },
   {
    "duration": 30,
    "start_time": "2022-03-02T18:43:20.032Z"
   },
   {
    "duration": 30,
    "start_time": "2022-03-02T18:43:42.366Z"
   },
   {
    "duration": 32,
    "start_time": "2022-03-02T18:43:44.989Z"
   },
   {
    "duration": 32,
    "start_time": "2022-03-02T18:43:54.617Z"
   },
   {
    "duration": 878,
    "start_time": "2022-03-02T18:44:00.838Z"
   },
   {
    "duration": 25,
    "start_time": "2022-03-02T18:44:01.719Z"
   },
   {
    "duration": 52,
    "start_time": "2022-03-02T18:44:01.748Z"
   },
   {
    "duration": 32,
    "start_time": "2022-03-02T18:44:12.134Z"
   },
   {
    "duration": 822,
    "start_time": "2022-03-02T18:44:25.492Z"
   },
   {
    "duration": 23,
    "start_time": "2022-03-02T18:44:26.316Z"
   },
   {
    "duration": 49,
    "start_time": "2022-03-02T18:44:26.342Z"
   },
   {
    "duration": 59,
    "start_time": "2022-03-02T18:48:42.289Z"
   },
   {
    "duration": 850,
    "start_time": "2022-03-02T18:48:53.682Z"
   },
   {
    "duration": 24,
    "start_time": "2022-03-02T18:48:54.535Z"
   },
   {
    "duration": 69,
    "start_time": "2022-03-02T18:48:54.562Z"
   },
   {
    "duration": 375,
    "start_time": "2022-03-02T18:50:12.613Z"
   },
   {
    "duration": 868,
    "start_time": "2022-03-02T18:50:17.951Z"
   },
   {
    "duration": 26,
    "start_time": "2022-03-02T18:50:18.821Z"
   },
   {
    "duration": 69,
    "start_time": "2022-03-02T18:50:18.850Z"
   },
   {
    "duration": 392,
    "start_time": "2022-03-02T18:51:20.314Z"
   },
   {
    "duration": 859,
    "start_time": "2022-03-02T18:51:26.054Z"
   },
   {
    "duration": 23,
    "start_time": "2022-03-02T18:51:26.916Z"
   },
   {
    "duration": 380,
    "start_time": "2022-03-02T18:51:26.942Z"
   },
   {
    "duration": 294,
    "start_time": "2022-03-02T18:51:40.377Z"
   },
   {
    "duration": 876,
    "start_time": "2022-03-02T18:51:48.430Z"
   },
   {
    "duration": 23,
    "start_time": "2022-03-02T18:51:49.309Z"
   },
   {
    "duration": 68,
    "start_time": "2022-03-02T18:51:49.335Z"
   },
   {
    "duration": 292,
    "start_time": "2022-03-03T16:07:17.301Z"
   },
   {
    "duration": 220,
    "start_time": "2022-03-03T16:07:55.194Z"
   },
   {
    "duration": 220,
    "start_time": "2022-03-03T16:08:19.596Z"
   },
   {
    "duration": 645,
    "start_time": "2022-03-03T16:08:33.243Z"
   },
   {
    "duration": 18,
    "start_time": "2022-03-03T16:08:33.890Z"
   },
   {
    "duration": 34,
    "start_time": "2022-03-03T16:08:33.910Z"
   },
   {
    "duration": 282,
    "start_time": "2022-03-03T16:09:13.978Z"
   },
   {
    "duration": 646,
    "start_time": "2022-03-03T16:09:23.897Z"
   },
   {
    "duration": 19,
    "start_time": "2022-03-03T16:09:24.545Z"
   },
   {
    "duration": 38,
    "start_time": "2022-03-03T16:09:24.566Z"
   },
   {
    "duration": 4,
    "start_time": "2022-03-03T16:15:57.558Z"
   },
   {
    "duration": 5,
    "start_time": "2022-03-03T16:16:09.597Z"
   },
   {
    "duration": 7,
    "start_time": "2022-03-03T16:16:16.952Z"
   },
   {
    "duration": 3765,
    "start_time": "2022-03-03T16:17:27.894Z"
   },
   {
    "duration": 20,
    "start_time": "2022-03-03T16:17:35.532Z"
   },
   {
    "duration": 51,
    "start_time": "2022-03-03T16:18:53.850Z"
   },
   {
    "duration": 39,
    "start_time": "2022-03-03T16:19:36.715Z"
   },
   {
    "duration": 43,
    "start_time": "2022-03-03T16:19:50.249Z"
   },
   {
    "duration": 35,
    "start_time": "2022-03-03T16:21:35.609Z"
   },
   {
    "duration": 308,
    "start_time": "2022-03-03T16:22:15.786Z"
   },
   {
    "duration": 64,
    "start_time": "2022-03-03T16:22:26.455Z"
   },
   {
    "duration": 41,
    "start_time": "2022-03-03T16:23:17.501Z"
   },
   {
    "duration": 37,
    "start_time": "2022-03-03T16:23:52.526Z"
   },
   {
    "duration": 40,
    "start_time": "2022-03-03T16:24:08.845Z"
   },
   {
    "duration": 57,
    "start_time": "2022-03-03T16:29:09.454Z"
   },
   {
    "duration": 54,
    "start_time": "2022-03-03T16:29:22.622Z"
   },
   {
    "duration": 59,
    "start_time": "2022-03-03T16:29:35.644Z"
   },
   {
    "duration": 56,
    "start_time": "2022-03-03T16:32:21.850Z"
   },
   {
    "duration": 53,
    "start_time": "2022-03-03T16:33:21.918Z"
   },
   {
    "duration": 51,
    "start_time": "2022-03-03T16:33:31.791Z"
   },
   {
    "duration": 58,
    "start_time": "2022-03-03T16:34:28.349Z"
   },
   {
    "duration": 53,
    "start_time": "2022-03-03T16:34:57.686Z"
   },
   {
    "duration": 56,
    "start_time": "2022-03-03T16:35:11.305Z"
   },
   {
    "duration": 56,
    "start_time": "2022-03-03T16:35:57.134Z"
   },
   {
    "duration": 64,
    "start_time": "2022-03-03T16:36:08.332Z"
   },
   {
    "duration": 57,
    "start_time": "2022-03-03T16:36:58.242Z"
   },
   {
    "duration": 213,
    "start_time": "2022-03-03T16:51:57.257Z"
   },
   {
    "duration": 5379,
    "start_time": "2022-03-03T16:52:30.096Z"
   },
   {
    "duration": 250,
    "start_time": "2022-03-03T16:53:00.249Z"
   },
   {
    "duration": 7,
    "start_time": "2022-03-03T16:54:05.146Z"
   },
   {
    "duration": 17,
    "start_time": "2022-03-03T16:58:07.764Z"
   },
   {
    "duration": 17,
    "start_time": "2022-03-03T17:05:46.742Z"
   },
   {
    "duration": 266,
    "start_time": "2022-03-03T17:06:55.269Z"
   },
   {
    "duration": 230,
    "start_time": "2022-03-03T17:07:03.516Z"
   },
   {
    "duration": 280,
    "start_time": "2022-03-03T17:07:07.258Z"
   },
   {
    "duration": 663,
    "start_time": "2022-03-03T17:07:19.379Z"
   },
   {
    "duration": 18,
    "start_time": "2022-03-03T17:07:20.044Z"
   },
   {
    "duration": 40,
    "start_time": "2022-03-03T17:07:20.066Z"
   },
   {
    "duration": 5,
    "start_time": "2022-03-03T17:07:20.108Z"
   },
   {
    "duration": 54,
    "start_time": "2022-03-03T17:07:20.114Z"
   },
   {
    "duration": 16,
    "start_time": "2022-03-03T17:07:20.177Z"
   },
   {
    "duration": 286,
    "start_time": "2022-03-03T17:08:04.876Z"
   },
   {
    "duration": 675,
    "start_time": "2022-03-03T17:08:17.162Z"
   },
   {
    "duration": 17,
    "start_time": "2022-03-03T17:08:17.839Z"
   },
   {
    "duration": 39,
    "start_time": "2022-03-03T17:08:17.858Z"
   },
   {
    "duration": 5,
    "start_time": "2022-03-03T17:08:17.899Z"
   },
   {
    "duration": 53,
    "start_time": "2022-03-03T17:08:17.905Z"
   },
   {
    "duration": 29,
    "start_time": "2022-03-03T17:08:17.960Z"
   },
   {
    "duration": 272,
    "start_time": "2022-03-03T17:18:33.964Z"
   },
   {
    "duration": 271,
    "start_time": "2022-03-03T17:20:52.137Z"
   },
   {
    "duration": 4,
    "start_time": "2022-03-03T17:22:03.597Z"
   },
   {
    "duration": 4,
    "start_time": "2022-03-03T17:22:10.653Z"
   },
   {
    "duration": 4,
    "start_time": "2022-03-03T17:22:23.591Z"
   },
   {
    "duration": 1058,
    "start_time": "2022-03-03T17:24:50.000Z"
   },
   {
    "duration": 9,
    "start_time": "2022-03-03T17:24:58.629Z"
   },
   {
    "duration": 9,
    "start_time": "2022-03-03T17:25:02.604Z"
   },
   {
    "duration": 14,
    "start_time": "2022-03-03T17:25:46.435Z"
   },
   {
    "duration": 15,
    "start_time": "2022-03-03T17:26:04.757Z"
   },
   {
    "duration": 15,
    "start_time": "2022-03-03T17:26:08.113Z"
   },
   {
    "duration": 13,
    "start_time": "2022-03-03T17:26:09.448Z"
   },
   {
    "duration": 14,
    "start_time": "2022-03-03T17:26:38.451Z"
   },
   {
    "duration": 13,
    "start_time": "2022-03-03T17:27:32.271Z"
   },
   {
    "duration": 5371,
    "start_time": "2022-03-03T17:44:06.326Z"
   },
   {
    "duration": 5330,
    "start_time": "2022-03-03T17:44:19.334Z"
   },
   {
    "duration": 28,
    "start_time": "2022-03-03T17:44:46.840Z"
   },
   {
    "duration": 36,
    "start_time": "2022-03-03T17:50:53.952Z"
   },
   {
    "duration": 17,
    "start_time": "2022-03-03T17:51:21.811Z"
   },
   {
    "duration": 19,
    "start_time": "2022-03-03T17:51:39.357Z"
   },
   {
    "duration": 28,
    "start_time": "2022-03-03T17:53:12.837Z"
   },
   {
    "duration": 15,
    "start_time": "2022-03-03T17:54:02.524Z"
   },
   {
    "duration": 12,
    "start_time": "2022-03-03T17:54:53.440Z"
   },
   {
    "duration": 15,
    "start_time": "2022-03-03T17:55:08.796Z"
   },
   {
    "duration": 33,
    "start_time": "2022-03-03T17:55:13.804Z"
   },
   {
    "duration": 31,
    "start_time": "2022-03-03T17:55:23.133Z"
   },
   {
    "duration": 966,
    "start_time": "2022-03-03T17:55:49.909Z"
   },
   {
    "duration": 989,
    "start_time": "2022-03-03T17:55:51.949Z"
   },
   {
    "duration": 32,
    "start_time": "2022-03-03T17:56:21.614Z"
   },
   {
    "duration": 31,
    "start_time": "2022-03-03T17:56:47.363Z"
   },
   {
    "duration": 31,
    "start_time": "2022-03-03T17:59:12.899Z"
   },
   {
    "duration": 34,
    "start_time": "2022-03-03T17:59:20.457Z"
   },
   {
    "duration": 13,
    "start_time": "2022-03-03T18:00:51.312Z"
   },
   {
    "duration": 225,
    "start_time": "2022-03-03T18:02:14.537Z"
   },
   {
    "duration": 22,
    "start_time": "2022-03-03T18:02:57.261Z"
   },
   {
    "duration": 221,
    "start_time": "2022-03-03T18:03:23.866Z"
   },
   {
    "duration": 202,
    "start_time": "2022-03-03T18:03:42.751Z"
   },
   {
    "duration": 9,
    "start_time": "2022-03-03T18:04:36.442Z"
   },
   {
    "duration": 207,
    "start_time": "2022-03-03T18:04:45.461Z"
   },
   {
    "duration": 9,
    "start_time": "2022-03-03T18:04:52.472Z"
   },
   {
    "duration": 4,
    "start_time": "2022-03-03T18:05:09.701Z"
   },
   {
    "duration": 4,
    "start_time": "2022-03-03T18:05:19.061Z"
   },
   {
    "duration": 82,
    "start_time": "2022-03-03T18:06:39.889Z"
   },
   {
    "duration": 4,
    "start_time": "2022-03-03T18:06:57.041Z"
   },
   {
    "duration": 3,
    "start_time": "2022-03-03T18:07:20.565Z"
   },
   {
    "duration": 3,
    "start_time": "2022-03-03T18:07:39.925Z"
   },
   {
    "duration": 4,
    "start_time": "2022-03-03T18:11:12.481Z"
   },
   {
    "duration": 4,
    "start_time": "2022-03-03T18:11:22.226Z"
   },
   {
    "duration": 4,
    "start_time": "2022-03-03T18:11:38.333Z"
   },
   {
    "duration": 4,
    "start_time": "2022-03-03T18:11:54.374Z"
   },
   {
    "duration": 4,
    "start_time": "2022-03-03T18:12:08.389Z"
   },
   {
    "duration": 4,
    "start_time": "2022-03-03T18:12:17.872Z"
   },
   {
    "duration": 9,
    "start_time": "2022-03-03T18:15:05.418Z"
   },
   {
    "duration": 13,
    "start_time": "2022-03-03T18:15:09.642Z"
   },
   {
    "duration": 12,
    "start_time": "2022-03-03T18:16:47.596Z"
   },
   {
    "duration": 13,
    "start_time": "2022-03-03T18:17:03.948Z"
   },
   {
    "duration": 713,
    "start_time": "2022-03-03T18:17:11.056Z"
   },
   {
    "duration": 17,
    "start_time": "2022-03-03T18:17:11.771Z"
   },
   {
    "duration": 58,
    "start_time": "2022-03-03T18:17:11.790Z"
   },
   {
    "duration": 11,
    "start_time": "2022-03-03T18:17:11.850Z"
   },
   {
    "duration": 86,
    "start_time": "2022-03-03T18:17:11.863Z"
   },
   {
    "duration": 10,
    "start_time": "2022-03-03T18:17:11.951Z"
   },
   {
    "duration": 45,
    "start_time": "2022-03-03T18:17:11.963Z"
   },
   {
    "duration": 38,
    "start_time": "2022-03-03T18:17:12.010Z"
   },
   {
    "duration": 13,
    "start_time": "2022-03-03T18:21:53.669Z"
   },
   {
    "duration": 338,
    "start_time": "2022-03-03T18:22:01.552Z"
   },
   {
    "duration": 13,
    "start_time": "2022-03-03T18:22:06.893Z"
   },
   {
    "duration": 12,
    "start_time": "2022-03-03T18:22:37.383Z"
   },
   {
    "duration": 7,
    "start_time": "2022-03-03T18:22:47.644Z"
   },
   {
    "duration": 103,
    "start_time": "2022-03-03T18:23:03.926Z"
   },
   {
    "duration": 8,
    "start_time": "2022-03-03T18:23:39.995Z"
   },
   {
    "duration": 417,
    "start_time": "2022-03-03T18:23:48.331Z"
   },
   {
    "duration": 370,
    "start_time": "2022-03-03T18:24:01.539Z"
   },
   {
    "duration": 8,
    "start_time": "2022-03-03T18:24:11.007Z"
   },
   {
    "duration": 7,
    "start_time": "2022-03-03T18:24:22.647Z"
   },
   {
    "duration": 9,
    "start_time": "2022-03-03T18:24:43.694Z"
   },
   {
    "duration": 8,
    "start_time": "2022-03-03T18:25:06.394Z"
   },
   {
    "duration": 8,
    "start_time": "2022-03-03T18:25:08.445Z"
   },
   {
    "duration": 7,
    "start_time": "2022-03-03T18:25:21.312Z"
   },
   {
    "duration": 8,
    "start_time": "2022-03-03T18:25:37.580Z"
   },
   {
    "duration": 7,
    "start_time": "2022-03-03T18:26:08.260Z"
   },
   {
    "duration": 8,
    "start_time": "2022-03-03T18:26:34.391Z"
   },
   {
    "duration": 214,
    "start_time": "2022-03-03T19:19:48.247Z"
   },
   {
    "duration": 238,
    "start_time": "2022-03-03T19:20:25.819Z"
   },
   {
    "duration": 659,
    "start_time": "2022-03-03T19:20:31.921Z"
   },
   {
    "duration": 18,
    "start_time": "2022-03-03T19:20:32.581Z"
   },
   {
    "duration": 33,
    "start_time": "2022-03-03T19:20:32.601Z"
   },
   {
    "duration": 5,
    "start_time": "2022-03-03T19:20:32.636Z"
   },
   {
    "duration": 74,
    "start_time": "2022-03-03T19:20:32.643Z"
   },
   {
    "duration": 14,
    "start_time": "2022-03-03T19:20:32.718Z"
   },
   {
    "duration": 44,
    "start_time": "2022-03-03T19:20:32.734Z"
   },
   {
    "duration": 6367,
    "start_time": "2022-03-03T19:20:32.780Z"
   },
   {
    "duration": 213,
    "start_time": "2022-03-03T19:21:11.569Z"
   },
   {
    "duration": 671,
    "start_time": "2022-03-03T19:21:28.880Z"
   },
   {
    "duration": 18,
    "start_time": "2022-03-03T19:21:29.553Z"
   },
   {
    "duration": 33,
    "start_time": "2022-03-03T19:21:29.573Z"
   },
   {
    "duration": 4,
    "start_time": "2022-03-03T19:21:29.608Z"
   },
   {
    "duration": 63,
    "start_time": "2022-03-03T19:21:29.614Z"
   },
   {
    "duration": 16,
    "start_time": "2022-03-03T19:21:29.679Z"
   },
   {
    "duration": 26,
    "start_time": "2022-03-03T19:21:29.697Z"
   },
   {
    "duration": 5559,
    "start_time": "2022-03-03T19:21:29.726Z"
   },
   {
    "duration": 4,
    "start_time": "2022-03-03T19:22:53.389Z"
   },
   {
    "duration": 659,
    "start_time": "2022-03-03T19:40:05.747Z"
   },
   {
    "duration": 13,
    "start_time": "2022-03-03T19:41:18.732Z"
   },
   {
    "duration": 15,
    "start_time": "2022-03-03T19:45:22.384Z"
   },
   {
    "duration": 18,
    "start_time": "2022-03-03T19:50:09.040Z"
   },
   {
    "duration": 18,
    "start_time": "2022-03-03T19:51:08.864Z"
   },
   {
    "duration": 19,
    "start_time": "2022-03-03T19:51:12.642Z"
   },
   {
    "duration": 33,
    "start_time": "2022-03-03T19:52:56.340Z"
   },
   {
    "duration": 757,
    "start_time": "2022-03-03T19:53:09.654Z"
   },
   {
    "duration": 17,
    "start_time": "2022-03-03T19:53:10.414Z"
   },
   {
    "duration": 52,
    "start_time": "2022-03-03T19:53:10.433Z"
   },
   {
    "duration": 5,
    "start_time": "2022-03-03T19:53:10.486Z"
   },
   {
    "duration": 88,
    "start_time": "2022-03-03T19:53:10.493Z"
   },
   {
    "duration": 20,
    "start_time": "2022-03-03T19:53:10.586Z"
   },
   {
    "duration": 27,
    "start_time": "2022-03-03T19:53:10.609Z"
   },
   {
    "duration": 63,
    "start_time": "2022-03-03T19:53:10.637Z"
   },
   {
    "duration": 39,
    "start_time": "2022-03-03T19:57:33.541Z"
   },
   {
    "duration": 41,
    "start_time": "2022-03-03T19:58:11.450Z"
   },
   {
    "duration": 43,
    "start_time": "2022-03-03T19:58:29.439Z"
   },
   {
    "duration": 660,
    "start_time": "2022-03-03T19:58:41.541Z"
   },
   {
    "duration": 16,
    "start_time": "2022-03-03T19:58:42.203Z"
   },
   {
    "duration": 35,
    "start_time": "2022-03-03T19:58:42.221Z"
   },
   {
    "duration": 22,
    "start_time": "2022-03-03T19:58:42.258Z"
   },
   {
    "duration": 56,
    "start_time": "2022-03-03T19:58:42.282Z"
   },
   {
    "duration": 37,
    "start_time": "2022-03-03T19:58:42.340Z"
   },
   {
    "duration": 25,
    "start_time": "2022-03-03T19:58:42.379Z"
   },
   {
    "duration": 44,
    "start_time": "2022-03-03T19:58:42.407Z"
   },
   {
    "duration": 44,
    "start_time": "2022-03-03T20:01:04.637Z"
   },
   {
    "duration": 89,
    "start_time": "2022-03-03T20:02:37.248Z"
   },
   {
    "duration": 44,
    "start_time": "2022-03-03T20:05:55.847Z"
   },
   {
    "duration": 15,
    "start_time": "2022-03-03T20:06:29.800Z"
   },
   {
    "duration": 41,
    "start_time": "2022-03-03T20:07:53.300Z"
   },
   {
    "duration": 38,
    "start_time": "2022-03-03T20:09:53.407Z"
   },
   {
    "duration": 48,
    "start_time": "2022-03-03T20:10:18.450Z"
   },
   {
    "duration": 47,
    "start_time": "2022-03-03T20:10:41.436Z"
   },
   {
    "duration": 405,
    "start_time": "2022-03-04T16:06:49.281Z"
   },
   {
    "duration": 350,
    "start_time": "2022-03-04T16:07:22.840Z"
   },
   {
    "duration": 664,
    "start_time": "2022-03-04T16:07:29.671Z"
   },
   {
    "duration": 18,
    "start_time": "2022-03-04T16:07:30.338Z"
   },
   {
    "duration": 33,
    "start_time": "2022-03-04T16:07:30.359Z"
   },
   {
    "duration": 7,
    "start_time": "2022-03-04T16:07:30.394Z"
   },
   {
    "duration": 74,
    "start_time": "2022-03-04T16:07:30.402Z"
   },
   {
    "duration": 16,
    "start_time": "2022-03-04T16:07:30.478Z"
   },
   {
    "duration": 23,
    "start_time": "2022-03-04T16:07:30.496Z"
   },
   {
    "duration": 71,
    "start_time": "2022-03-04T16:07:30.521Z"
   },
   {
    "duration": 367,
    "start_time": "2022-03-04T16:14:10.072Z"
   },
   {
    "duration": 22,
    "start_time": "2022-03-04T16:14:39.780Z"
   },
   {
    "duration": 269,
    "start_time": "2022-03-04T16:15:22.887Z"
   },
   {
    "duration": 251,
    "start_time": "2022-03-04T16:29:10.671Z"
   },
   {
    "duration": 574,
    "start_time": "2022-03-04T16:29:46.723Z"
   },
   {
    "duration": 226,
    "start_time": "2022-03-04T16:31:25.951Z"
   },
   {
    "duration": 690,
    "start_time": "2022-03-04T16:31:31.469Z"
   },
   {
    "duration": 16,
    "start_time": "2022-03-04T16:31:32.161Z"
   },
   {
    "duration": 31,
    "start_time": "2022-03-04T16:31:32.179Z"
   },
   {
    "duration": 4,
    "start_time": "2022-03-04T16:31:32.212Z"
   },
   {
    "duration": 73,
    "start_time": "2022-03-04T16:31:32.218Z"
   },
   {
    "duration": 15,
    "start_time": "2022-03-04T16:31:32.293Z"
   },
   {
    "duration": 321,
    "start_time": "2022-03-04T16:31:32.310Z"
   },
   {
    "duration": -578,
    "start_time": "2022-03-04T16:31:33.211Z"
   },
   {
    "duration": 226,
    "start_time": "2022-03-04T16:41:37.273Z"
   },
   {
    "duration": 20,
    "start_time": "2022-03-04T16:42:05.336Z"
   },
   {
    "duration": 244,
    "start_time": "2022-03-04T16:51:40.765Z"
   },
   {
    "duration": 618,
    "start_time": "2022-03-04T16:51:47.800Z"
   },
   {
    "duration": 16,
    "start_time": "2022-03-04T16:51:48.420Z"
   },
   {
    "duration": 38,
    "start_time": "2022-03-04T16:51:48.438Z"
   },
   {
    "duration": 5,
    "start_time": "2022-03-04T16:51:48.478Z"
   },
   {
    "duration": 50,
    "start_time": "2022-03-04T16:51:48.484Z"
   },
   {
    "duration": 31,
    "start_time": "2022-03-04T16:51:48.535Z"
   },
   {
    "duration": 346,
    "start_time": "2022-03-04T16:51:48.568Z"
   },
   {
    "duration": -575,
    "start_time": "2022-03-04T16:51:49.491Z"
   },
   {
    "duration": 224,
    "start_time": "2022-03-04T16:52:05.354Z"
   },
   {
    "duration": 1138,
    "start_time": "2022-03-04T16:52:12.243Z"
   },
   {
    "duration": 16,
    "start_time": "2022-03-04T16:52:13.383Z"
   },
   {
    "duration": 31,
    "start_time": "2022-03-04T16:52:13.402Z"
   },
   {
    "duration": 25,
    "start_time": "2022-03-04T16:52:13.435Z"
   },
   {
    "duration": 49,
    "start_time": "2022-03-04T16:52:13.462Z"
   },
   {
    "duration": 14,
    "start_time": "2022-03-04T16:52:13.513Z"
   },
   {
    "duration": 344,
    "start_time": "2022-03-04T16:52:13.529Z"
   },
   {
    "duration": -581,
    "start_time": "2022-03-04T16:52:14.456Z"
   },
   {
    "duration": 224,
    "start_time": "2022-03-04T16:53:44.281Z"
   },
   {
    "duration": 267,
    "start_time": "2022-03-04T16:54:08.373Z"
   },
   {
    "duration": 690,
    "start_time": "2022-03-04T16:54:16.238Z"
   },
   {
    "duration": 16,
    "start_time": "2022-03-04T16:54:16.930Z"
   },
   {
    "duration": 36,
    "start_time": "2022-03-04T16:54:16.948Z"
   },
   {
    "duration": 5,
    "start_time": "2022-03-04T16:54:16.985Z"
   },
   {
    "duration": 49,
    "start_time": "2022-03-04T16:54:16.992Z"
   },
   {
    "duration": 15,
    "start_time": "2022-03-04T16:54:17.059Z"
   },
   {
    "duration": 41,
    "start_time": "2022-03-04T16:54:17.076Z"
   },
   {
    "duration": 72,
    "start_time": "2022-03-04T16:54:17.119Z"
   },
   {
    "duration": 384,
    "start_time": "2022-03-04T16:54:49.536Z"
   },
   {
    "duration": 293,
    "start_time": "2022-03-04T16:55:32.558Z"
   },
   {
    "duration": 229,
    "start_time": "2022-03-04T16:57:16.272Z"
   },
   {
    "duration": 246,
    "start_time": "2022-03-04T16:57:32.624Z"
   },
   {
    "duration": 283,
    "start_time": "2022-03-04T16:57:34.154Z"
   },
   {
    "duration": 250,
    "start_time": "2022-03-04T16:57:41.961Z"
   },
   {
    "duration": 6068,
    "start_time": "2022-03-04T16:57:50.844Z"
   },
   {
    "duration": 642,
    "start_time": "2022-03-04T16:58:09.964Z"
   },
   {
    "duration": 15,
    "start_time": "2022-03-04T16:58:10.608Z"
   },
   {
    "duration": 38,
    "start_time": "2022-03-04T16:58:10.626Z"
   },
   {
    "duration": 5,
    "start_time": "2022-03-04T16:58:10.666Z"
   },
   {
    "duration": 52,
    "start_time": "2022-03-04T16:58:10.672Z"
   },
   {
    "duration": 34,
    "start_time": "2022-03-04T16:58:10.726Z"
   },
   {
    "duration": 495,
    "start_time": "2022-03-04T16:58:10.762Z"
   },
   {
    "duration": -575,
    "start_time": "2022-03-04T16:58:11.834Z"
   },
   {
    "duration": 274,
    "start_time": "2022-03-04T16:59:10.855Z"
   },
   {
    "duration": 242,
    "start_time": "2022-03-04T16:59:21.592Z"
   },
   {
    "duration": 269,
    "start_time": "2022-03-04T16:59:51.063Z"
   },
   {
    "duration": 49,
    "start_time": "2022-03-04T16:59:58.567Z"
   },
   {
    "duration": 16,
    "start_time": "2022-03-04T16:59:58.617Z"
   },
   {
    "duration": 50,
    "start_time": "2022-03-04T16:59:58.635Z"
   },
   {
    "duration": 5,
    "start_time": "2022-03-04T16:59:58.686Z"
   },
   {
    "duration": 50,
    "start_time": "2022-03-04T16:59:58.693Z"
   },
   {
    "duration": 17,
    "start_time": "2022-03-04T16:59:58.759Z"
   },
   {
    "duration": 14,
    "start_time": "2022-03-04T16:59:58.778Z"
   },
   {
    "duration": 77,
    "start_time": "2022-03-04T16:59:58.794Z"
   },
   {
    "duration": 288,
    "start_time": "2022-03-04T17:00:53.154Z"
   },
   {
    "duration": 637,
    "start_time": "2022-03-04T17:00:58.376Z"
   },
   {
    "duration": 15,
    "start_time": "2022-03-04T17:00:59.015Z"
   },
   {
    "duration": 38,
    "start_time": "2022-03-04T17:00:59.033Z"
   },
   {
    "duration": 5,
    "start_time": "2022-03-04T17:00:59.072Z"
   },
   {
    "duration": 45,
    "start_time": "2022-03-04T17:00:59.078Z"
   },
   {
    "duration": 14,
    "start_time": "2022-03-04T17:00:59.124Z"
   },
   {
    "duration": 23,
    "start_time": "2022-03-04T17:00:59.160Z"
   },
   {
    "duration": 47,
    "start_time": "2022-03-04T17:00:59.185Z"
   },
   {
    "duration": 333,
    "start_time": "2022-03-04T17:02:35.369Z"
   },
   {
    "duration": 630,
    "start_time": "2022-03-04T17:02:46.668Z"
   },
   {
    "duration": 15,
    "start_time": "2022-03-04T17:02:47.300Z"
   },
   {
    "duration": 42,
    "start_time": "2022-03-04T17:02:47.317Z"
   },
   {
    "duration": 4,
    "start_time": "2022-03-04T17:02:47.361Z"
   },
   {
    "duration": 60,
    "start_time": "2022-03-04T17:02:47.367Z"
   },
   {
    "duration": 14,
    "start_time": "2022-03-04T17:02:47.429Z"
   },
   {
    "duration": 363,
    "start_time": "2022-03-04T17:02:47.444Z"
   },
   {
    "duration": -593,
    "start_time": "2022-03-04T17:02:48.402Z"
   },
   {
    "duration": 30,
    "start_time": "2022-03-04T17:06:26.112Z"
   },
   {
    "duration": 268,
    "start_time": "2022-03-04T17:08:47.629Z"
   },
   {
    "duration": 655,
    "start_time": "2022-03-04T17:08:59.169Z"
   },
   {
    "duration": 17,
    "start_time": "2022-03-04T17:08:59.826Z"
   },
   {
    "duration": 38,
    "start_time": "2022-03-04T17:08:59.845Z"
   },
   {
    "duration": 4,
    "start_time": "2022-03-04T17:08:59.885Z"
   },
   {
    "duration": 49,
    "start_time": "2022-03-04T17:08:59.891Z"
   },
   {
    "duration": 15,
    "start_time": "2022-03-04T17:08:59.959Z"
   },
   {
    "duration": 41,
    "start_time": "2022-03-04T17:08:59.975Z"
   },
   {
    "duration": 69,
    "start_time": "2022-03-04T17:09:00.018Z"
   },
   {
    "duration": 286,
    "start_time": "2022-03-04T17:10:54.264Z"
   },
   {
    "duration": 634,
    "start_time": "2022-03-04T17:11:00.090Z"
   },
   {
    "duration": 16,
    "start_time": "2022-03-04T17:11:00.727Z"
   },
   {
    "duration": 51,
    "start_time": "2022-03-04T17:11:00.746Z"
   },
   {
    "duration": 9,
    "start_time": "2022-03-04T17:11:00.799Z"
   },
   {
    "duration": 78,
    "start_time": "2022-03-04T17:11:00.809Z"
   },
   {
    "duration": 15,
    "start_time": "2022-03-04T17:11:00.888Z"
   },
   {
    "duration": 58,
    "start_time": "2022-03-04T17:11:00.905Z"
   },
   {
    "duration": 53,
    "start_time": "2022-03-04T17:11:00.965Z"
   },
   {
    "duration": 290,
    "start_time": "2022-03-04T17:14:45.276Z"
   },
   {
    "duration": 635,
    "start_time": "2022-03-04T17:14:50.285Z"
   },
   {
    "duration": 16,
    "start_time": "2022-03-04T17:14:50.922Z"
   },
   {
    "duration": 48,
    "start_time": "2022-03-04T17:14:50.940Z"
   },
   {
    "duration": 7,
    "start_time": "2022-03-04T17:14:50.990Z"
   },
   {
    "duration": 63,
    "start_time": "2022-03-04T17:14:50.999Z"
   },
   {
    "duration": 15,
    "start_time": "2022-03-04T17:14:51.064Z"
   },
   {
    "duration": 44,
    "start_time": "2022-03-04T17:14:51.081Z"
   },
   {
    "duration": 74,
    "start_time": "2022-03-04T17:14:51.128Z"
   },
   {
    "duration": 30,
    "start_time": "2022-03-04T17:19:31.240Z"
   },
   {
    "duration": 26,
    "start_time": "2022-03-04T17:20:17.571Z"
   },
   {
    "duration": 34,
    "start_time": "2022-03-04T17:34:37.925Z"
   },
   {
    "duration": 43,
    "start_time": "2022-03-04T17:36:58.659Z"
   },
   {
    "duration": 307,
    "start_time": "2022-03-04T17:52:27.285Z"
   },
   {
    "duration": 267,
    "start_time": "2022-03-04T17:52:57.902Z"
   },
   {
    "duration": 227,
    "start_time": "2022-03-04T17:53:13.101Z"
   },
   {
    "duration": 634,
    "start_time": "2022-03-04T17:53:22.004Z"
   },
   {
    "duration": 21,
    "start_time": "2022-03-04T17:53:22.641Z"
   },
   {
    "duration": 46,
    "start_time": "2022-03-04T17:53:22.664Z"
   },
   {
    "duration": 5,
    "start_time": "2022-03-04T17:53:22.712Z"
   },
   {
    "duration": 70,
    "start_time": "2022-03-04T17:53:22.718Z"
   },
   {
    "duration": 15,
    "start_time": "2022-03-04T17:53:22.790Z"
   },
   {
    "duration": 362,
    "start_time": "2022-03-04T17:53:22.807Z"
   },
   {
    "duration": -552,
    "start_time": "2022-03-04T17:53:23.724Z"
   },
   {
    "duration": 261,
    "start_time": "2022-03-04T17:54:28.492Z"
   },
   {
    "duration": 661,
    "start_time": "2022-03-04T17:54:36.461Z"
   },
   {
    "duration": 16,
    "start_time": "2022-03-04T17:54:37.123Z"
   },
   {
    "duration": 55,
    "start_time": "2022-03-04T17:54:37.141Z"
   },
   {
    "duration": 5,
    "start_time": "2022-03-04T17:54:37.198Z"
   },
   {
    "duration": 54,
    "start_time": "2022-03-04T17:54:37.205Z"
   },
   {
    "duration": 16,
    "start_time": "2022-03-04T17:54:37.260Z"
   },
   {
    "duration": 468,
    "start_time": "2022-03-04T17:54:37.278Z"
   },
   {
    "duration": -798,
    "start_time": "2022-03-04T17:54:38.545Z"
   },
   {
    "duration": 267,
    "start_time": "2022-03-04T17:54:58.435Z"
   },
   {
    "duration": 60,
    "start_time": "2022-03-04T17:55:44.225Z"
   },
   {
    "duration": 299,
    "start_time": "2022-03-04T17:56:32.982Z"
   },
   {
    "duration": 630,
    "start_time": "2022-03-04T17:56:40.319Z"
   },
   {
    "duration": 16,
    "start_time": "2022-03-04T17:56:40.951Z"
   },
   {
    "duration": 43,
    "start_time": "2022-03-04T17:56:40.969Z"
   },
   {
    "duration": 4,
    "start_time": "2022-03-04T17:56:41.014Z"
   },
   {
    "duration": 68,
    "start_time": "2022-03-04T17:56:41.020Z"
   },
   {
    "duration": 14,
    "start_time": "2022-03-04T17:56:41.090Z"
   },
   {
    "duration": 267,
    "start_time": "2022-03-04T18:03:04.053Z"
   },
   {
    "duration": 669,
    "start_time": "2022-03-04T18:03:12.573Z"
   },
   {
    "duration": 19,
    "start_time": "2022-03-04T18:03:13.245Z"
   },
   {
    "duration": 42,
    "start_time": "2022-03-04T18:03:13.269Z"
   },
   {
    "duration": 5,
    "start_time": "2022-03-04T18:03:13.313Z"
   },
   {
    "duration": 82,
    "start_time": "2022-03-04T18:03:13.319Z"
   },
   {
    "duration": 15,
    "start_time": "2022-03-04T18:03:13.403Z"
   },
   {
    "duration": 381,
    "start_time": "2022-03-04T18:03:13.420Z"
   },
   {
    "duration": -555,
    "start_time": "2022-03-04T18:03:14.358Z"
   },
   {
    "duration": 294,
    "start_time": "2022-03-04T18:03:58.340Z"
   },
   {
    "duration": 612,
    "start_time": "2022-03-04T18:04:03.520Z"
   },
   {
    "duration": 17,
    "start_time": "2022-03-04T18:04:04.134Z"
   },
   {
    "duration": 45,
    "start_time": "2022-03-04T18:04:04.153Z"
   },
   {
    "duration": 4,
    "start_time": "2022-03-04T18:04:04.200Z"
   },
   {
    "duration": 76,
    "start_time": "2022-03-04T18:04:04.206Z"
   },
   {
    "duration": 15,
    "start_time": "2022-03-04T18:04:04.284Z"
   },
   {
    "duration": 363,
    "start_time": "2022-03-04T18:04:04.301Z"
   },
   {
    "duration": -572,
    "start_time": "2022-03-04T18:04:05.238Z"
   },
   {
    "duration": 244,
    "start_time": "2022-03-04T18:14:05.270Z"
   },
   {
    "duration": 665,
    "start_time": "2022-03-04T18:14:12.053Z"
   },
   {
    "duration": 16,
    "start_time": "2022-03-04T18:14:12.720Z"
   },
   {
    "duration": 49,
    "start_time": "2022-03-04T18:14:12.738Z"
   },
   {
    "duration": 5,
    "start_time": "2022-03-04T18:14:12.789Z"
   },
   {
    "duration": 64,
    "start_time": "2022-03-04T18:14:12.795Z"
   },
   {
    "duration": 14,
    "start_time": "2022-03-04T18:14:12.861Z"
   },
   {
    "duration": 327,
    "start_time": "2022-03-04T18:14:12.877Z"
   },
   {
    "duration": -578,
    "start_time": "2022-03-04T18:14:13.784Z"
   },
   {
    "duration": 278,
    "start_time": "2022-03-04T18:21:16.130Z"
   },
   {
    "duration": 281,
    "start_time": "2022-03-04T18:21:50.686Z"
   },
   {
    "duration": 40,
    "start_time": "2022-03-04T18:24:05.428Z"
   },
   {
    "duration": 43,
    "start_time": "2022-03-04T18:24:44.622Z"
   },
   {
    "duration": 39,
    "start_time": "2022-03-04T18:25:02.190Z"
   },
   {
    "duration": 45,
    "start_time": "2022-03-04T18:27:30.032Z"
   },
   {
    "duration": 286,
    "start_time": "2022-03-04T18:29:42.565Z"
   },
   {
    "duration": 254,
    "start_time": "2022-03-04T18:30:25.068Z"
   },
   {
    "duration": 658,
    "start_time": "2022-03-04T18:30:35.664Z"
   },
   {
    "duration": 23,
    "start_time": "2022-03-04T18:30:36.324Z"
   },
   {
    "duration": 52,
    "start_time": "2022-03-04T18:30:36.352Z"
   },
   {
    "duration": 5,
    "start_time": "2022-03-04T18:30:36.406Z"
   },
   {
    "duration": 71,
    "start_time": "2022-03-04T18:30:36.413Z"
   },
   {
    "duration": 15,
    "start_time": "2022-03-04T18:30:36.486Z"
   },
   {
    "duration": 386,
    "start_time": "2022-03-04T18:30:36.504Z"
   },
   {
    "duration": -512,
    "start_time": "2022-03-04T18:30:37.404Z"
   },
   {
    "duration": 43,
    "start_time": "2022-03-04T18:31:04.900Z"
   },
   {
    "duration": 44,
    "start_time": "2022-03-04T18:32:03.201Z"
   },
   {
    "duration": 55,
    "start_time": "2022-03-04T18:34:59.773Z"
   },
   {
    "duration": 53,
    "start_time": "2022-03-04T18:37:16.249Z"
   },
   {
    "duration": 52,
    "start_time": "2022-03-04T18:40:36.104Z"
   },
   {
    "duration": 53,
    "start_time": "2022-03-04T18:40:57.136Z"
   },
   {
    "duration": 124,
    "start_time": "2022-03-04T18:46:52.628Z"
   },
   {
    "duration": 14,
    "start_time": "2022-03-04T18:47:23.942Z"
   },
   {
    "duration": 15,
    "start_time": "2022-03-04T18:47:55.232Z"
   },
   {
    "duration": 79,
    "start_time": "2022-03-04T18:56:52.625Z"
   },
   {
    "duration": 84,
    "start_time": "2022-03-04T18:57:03.336Z"
   },
   {
    "duration": 81,
    "start_time": "2022-03-04T18:57:23.291Z"
   },
   {
    "duration": 75,
    "start_time": "2022-03-04T18:57:36.191Z"
   },
   {
    "duration": 231,
    "start_time": "2022-03-04T18:57:51.414Z"
   },
   {
    "duration": 600,
    "start_time": "2022-03-04T18:58:12.118Z"
   },
   {
    "duration": 16,
    "start_time": "2022-03-04T18:58:12.720Z"
   },
   {
    "duration": 42,
    "start_time": "2022-03-04T18:58:12.738Z"
   },
   {
    "duration": 4,
    "start_time": "2022-03-04T18:58:12.782Z"
   },
   {
    "duration": 50,
    "start_time": "2022-03-04T18:58:12.787Z"
   },
   {
    "duration": 28,
    "start_time": "2022-03-04T18:58:12.838Z"
   },
   {
    "duration": 19,
    "start_time": "2022-03-04T18:58:12.868Z"
   },
   {
    "duration": 131,
    "start_time": "2022-03-04T18:58:12.889Z"
   },
   {
    "duration": 319,
    "start_time": "2022-03-04T19:03:45.259Z"
   },
   {
    "duration": 643,
    "start_time": "2022-03-04T19:03:50.480Z"
   },
   {
    "duration": 16,
    "start_time": "2022-03-04T19:03:51.125Z"
   },
   {
    "duration": 35,
    "start_time": "2022-03-04T19:03:51.144Z"
   },
   {
    "duration": 4,
    "start_time": "2022-03-04T19:03:51.181Z"
   },
   {
    "duration": 50,
    "start_time": "2022-03-04T19:03:51.187Z"
   },
   {
    "duration": 25,
    "start_time": "2022-03-04T19:03:51.238Z"
   },
   {
    "duration": 18,
    "start_time": "2022-03-04T19:03:51.265Z"
   },
   {
    "duration": 125,
    "start_time": "2022-03-04T19:03:51.286Z"
   },
   {
    "duration": 313,
    "start_time": "2022-03-04T19:04:19.568Z"
   },
   {
    "duration": 626,
    "start_time": "2022-03-04T19:04:24.224Z"
   },
   {
    "duration": 16,
    "start_time": "2022-03-04T19:04:24.852Z"
   },
   {
    "duration": 37,
    "start_time": "2022-03-04T19:04:24.870Z"
   },
   {
    "duration": 5,
    "start_time": "2022-03-04T19:04:24.909Z"
   },
   {
    "duration": 66,
    "start_time": "2022-03-04T19:04:24.915Z"
   },
   {
    "duration": 14,
    "start_time": "2022-03-04T19:04:24.983Z"
   },
   {
    "duration": 19,
    "start_time": "2022-03-04T19:04:24.999Z"
   },
   {
    "duration": 144,
    "start_time": "2022-03-04T19:04:25.020Z"
   },
   {
    "duration": 75,
    "start_time": "2022-03-04T19:06:00.231Z"
   },
   {
    "duration": 5,
    "start_time": "2022-03-04T19:06:07.702Z"
   },
   {
    "duration": 5760,
    "start_time": "2022-03-04T19:08:01.635Z"
   },
   {
    "duration": 637,
    "start_time": "2022-03-04T19:08:11.086Z"
   },
   {
    "duration": 17,
    "start_time": "2022-03-04T19:08:11.724Z"
   },
   {
    "duration": 39,
    "start_time": "2022-03-04T19:08:11.742Z"
   },
   {
    "duration": 4,
    "start_time": "2022-03-04T19:08:11.783Z"
   },
   {
    "duration": 52,
    "start_time": "2022-03-04T19:08:11.789Z"
   },
   {
    "duration": 14,
    "start_time": "2022-03-04T19:08:11.859Z"
   },
   {
    "duration": 19,
    "start_time": "2022-03-04T19:08:11.875Z"
   },
   {
    "duration": 126,
    "start_time": "2022-03-04T19:08:11.896Z"
   },
   {
    "duration": 5869,
    "start_time": "2022-03-04T19:09:02.270Z"
   },
   {
    "duration": 656,
    "start_time": "2022-03-04T19:09:19.450Z"
   },
   {
    "duration": 16,
    "start_time": "2022-03-04T19:09:20.108Z"
   },
   {
    "duration": 53,
    "start_time": "2022-03-04T19:09:20.128Z"
   },
   {
    "duration": 5,
    "start_time": "2022-03-04T19:09:20.183Z"
   },
   {
    "duration": 84,
    "start_time": "2022-03-04T19:09:20.190Z"
   },
   {
    "duration": 15,
    "start_time": "2022-03-04T19:09:20.276Z"
   },
   {
    "duration": 19,
    "start_time": "2022-03-04T19:09:20.293Z"
   },
   {
    "duration": 145,
    "start_time": "2022-03-04T19:09:20.314Z"
   },
   {
    "duration": 994,
    "start_time": "2022-03-06T11:09:36.536Z"
   },
   {
    "duration": 90,
    "start_time": "2022-03-06T11:09:41.376Z"
   },
   {
    "duration": 105,
    "start_time": "2022-03-06T11:10:01.739Z"
   },
   {
    "duration": 404,
    "start_time": "2022-03-06T11:31:51.234Z"
   },
   {
    "duration": 319,
    "start_time": "2022-03-06T11:33:42.286Z"
   },
   {
    "duration": 354,
    "start_time": "2022-03-06T11:34:05.954Z"
   },
   {
    "duration": 341,
    "start_time": "2022-03-06T11:34:45.008Z"
   },
   {
    "duration": 763,
    "start_time": "2022-03-06T11:34:52.891Z"
   },
   {
    "duration": 36,
    "start_time": "2022-03-06T11:34:53.657Z"
   },
   {
    "duration": 70,
    "start_time": "2022-03-06T11:34:53.697Z"
   },
   {
    "duration": 7,
    "start_time": "2022-03-06T11:34:53.784Z"
   },
   {
    "duration": 112,
    "start_time": "2022-03-06T11:34:53.794Z"
   },
   {
    "duration": 22,
    "start_time": "2022-03-06T11:34:53.909Z"
   },
   {
    "duration": 50,
    "start_time": "2022-03-06T11:34:53.934Z"
   },
   {
    "duration": 180,
    "start_time": "2022-03-06T11:34:53.987Z"
   },
   {
    "duration": 156,
    "start_time": "2022-03-06T11:37:44.575Z"
   },
   {
    "duration": 594,
    "start_time": "2022-03-06T14:23:42.543Z"
   },
   {
    "duration": 15,
    "start_time": "2022-03-06T14:23:43.139Z"
   },
   {
    "duration": 33,
    "start_time": "2022-03-06T14:23:43.159Z"
   },
   {
    "duration": 4,
    "start_time": "2022-03-06T14:23:43.194Z"
   },
   {
    "duration": 82,
    "start_time": "2022-03-06T14:23:43.200Z"
   },
   {
    "duration": 13,
    "start_time": "2022-03-06T14:23:43.283Z"
   },
   {
    "duration": 36,
    "start_time": "2022-03-06T14:23:43.298Z"
   },
   {
    "duration": 115,
    "start_time": "2022-03-06T14:23:43.336Z"
   },
   {
    "duration": 873,
    "start_time": "2022-03-14T16:34:57.195Z"
   },
   {
    "duration": 904,
    "start_time": "2022-03-14T16:35:36.013Z"
   },
   {
    "duration": 23,
    "start_time": "2022-03-14T16:35:36.920Z"
   },
   {
    "duration": 78,
    "start_time": "2022-03-14T16:35:36.946Z"
   },
   {
    "duration": 7,
    "start_time": "2022-03-14T16:35:37.027Z"
   },
   {
    "duration": 138,
    "start_time": "2022-03-14T16:35:37.036Z"
   },
   {
    "duration": 22,
    "start_time": "2022-03-14T16:35:37.177Z"
   },
   {
    "duration": 34,
    "start_time": "2022-03-14T16:35:37.202Z"
   },
   {
    "duration": 221,
    "start_time": "2022-03-14T16:35:37.273Z"
   },
   {
    "duration": 436,
    "start_time": "2022-03-14T16:39:03.892Z"
   },
   {
    "duration": 269,
    "start_time": "2022-03-14T16:39:16.625Z"
   },
   {
    "duration": 1003,
    "start_time": "2022-03-14T16:39:28.702Z"
   },
   {
    "duration": 292,
    "start_time": "2022-03-14T16:39:29.707Z"
   },
   {
    "duration": -1937,
    "start_time": "2022-03-14T16:39:31.939Z"
   },
   {
    "duration": -1941,
    "start_time": "2022-03-14T16:39:31.945Z"
   },
   {
    "duration": -1947,
    "start_time": "2022-03-14T16:39:31.953Z"
   },
   {
    "duration": -1955,
    "start_time": "2022-03-14T16:39:31.962Z"
   },
   {
    "duration": -1965,
    "start_time": "2022-03-14T16:39:31.974Z"
   },
   {
    "duration": -2023,
    "start_time": "2022-03-14T16:39:32.034Z"
   },
   {
    "duration": 489,
    "start_time": "2022-03-14T16:40:07.283Z"
   },
   {
    "duration": 1050,
    "start_time": "2022-03-14T16:40:36.919Z"
   },
   {
    "duration": 463,
    "start_time": "2022-03-14T16:40:37.972Z"
   },
   {
    "duration": -2002,
    "start_time": "2022-03-14T16:40:40.440Z"
   },
   {
    "duration": -2009,
    "start_time": "2022-03-14T16:40:40.449Z"
   },
   {
    "duration": -2021,
    "start_time": "2022-03-14T16:40:40.462Z"
   },
   {
    "duration": -2028,
    "start_time": "2022-03-14T16:40:40.471Z"
   },
   {
    "duration": -2059,
    "start_time": "2022-03-14T16:40:40.503Z"
   },
   {
    "duration": -2065,
    "start_time": "2022-03-14T16:40:40.511Z"
   },
   {
    "duration": 24,
    "start_time": "2022-03-14T16:41:00.606Z"
   },
   {
    "duration": 24,
    "start_time": "2022-03-14T16:42:35.963Z"
   },
   {
    "duration": 36,
    "start_time": "2022-03-14T16:43:33.947Z"
   },
   {
    "duration": 1299,
    "start_time": "2022-03-14T16:43:57.483Z"
   },
   {
    "duration": 25,
    "start_time": "2022-03-14T16:43:58.785Z"
   },
   {
    "duration": 87,
    "start_time": "2022-03-14T16:43:58.814Z"
   },
   {
    "duration": 7,
    "start_time": "2022-03-14T16:43:58.903Z"
   },
   {
    "duration": 133,
    "start_time": "2022-03-14T16:43:58.913Z"
   },
   {
    "duration": 37,
    "start_time": "2022-03-14T16:43:59.049Z"
   },
   {
    "duration": 36,
    "start_time": "2022-03-14T16:43:59.089Z"
   },
   {
    "duration": 223,
    "start_time": "2022-03-14T16:43:59.128Z"
   },
   {
    "duration": 25,
    "start_time": "2022-03-14T16:44:32.373Z"
   },
   {
    "duration": 23,
    "start_time": "2022-03-14T16:44:54.085Z"
   },
   {
    "duration": 22,
    "start_time": "2022-03-14T16:45:19.809Z"
   },
   {
    "duration": 31,
    "start_time": "2022-03-14T16:45:56.767Z"
   },
   {
    "duration": 32,
    "start_time": "2022-03-14T16:46:00.600Z"
   },
   {
    "duration": 41,
    "start_time": "2022-03-14T16:46:38.974Z"
   },
   {
    "duration": -1894,
    "start_time": "2022-03-14T16:50:36.804Z"
   },
   {
    "duration": 1103,
    "start_time": "2022-03-14T16:50:42.473Z"
   },
   {
    "duration": 24,
    "start_time": "2022-03-14T16:50:43.580Z"
   },
   {
    "duration": 92,
    "start_time": "2022-03-14T16:50:43.607Z"
   },
   {
    "duration": 7,
    "start_time": "2022-03-14T16:50:43.702Z"
   },
   {
    "duration": 139,
    "start_time": "2022-03-14T16:50:43.712Z"
   },
   {
    "duration": 37,
    "start_time": "2022-03-14T16:50:43.853Z"
   },
   {
    "duration": 30,
    "start_time": "2022-03-14T16:50:43.893Z"
   },
   {
    "duration": 221,
    "start_time": "2022-03-14T16:50:43.927Z"
   },
   {
    "duration": 1115,
    "start_time": "2022-03-14T17:01:00.373Z"
   },
   {
    "duration": 22,
    "start_time": "2022-03-14T17:01:01.491Z"
   },
   {
    "duration": 87,
    "start_time": "2022-03-14T17:01:01.516Z"
   },
   {
    "duration": 8,
    "start_time": "2022-03-14T17:01:01.606Z"
   },
   {
    "duration": 141,
    "start_time": "2022-03-14T17:01:01.616Z"
   },
   {
    "duration": 33,
    "start_time": "2022-03-14T17:01:01.775Z"
   },
   {
    "duration": 76,
    "start_time": "2022-03-14T17:01:01.811Z"
   },
   {
    "duration": 224,
    "start_time": "2022-03-14T17:01:01.891Z"
   },
   {
    "duration": 369,
    "start_time": "2022-03-14T17:22:59.124Z"
   },
   {
    "duration": 331,
    "start_time": "2022-03-14T17:24:56.899Z"
   },
   {
    "duration": 313,
    "start_time": "2022-03-14T17:33:59.494Z"
   },
   {
    "duration": 170,
    "start_time": "2022-03-14T17:35:05.403Z"
   },
   {
    "duration": 157,
    "start_time": "2022-03-14T17:35:14.151Z"
   },
   {
    "duration": 168,
    "start_time": "2022-03-14T17:35:30.763Z"
   },
   {
    "duration": 168,
    "start_time": "2022-03-14T17:36:56.916Z"
   },
   {
    "duration": 184,
    "start_time": "2022-03-14T17:37:25.767Z"
   },
   {
    "duration": 218,
    "start_time": "2022-03-14T17:37:49.117Z"
   },
   {
    "duration": 167,
    "start_time": "2022-03-14T17:38:56.364Z"
   },
   {
    "duration": 183,
    "start_time": "2022-03-14T17:39:24.743Z"
   },
   {
    "duration": 200,
    "start_time": "2022-03-14T17:40:06.280Z"
   },
   {
    "duration": 163,
    "start_time": "2022-03-14T17:40:13.362Z"
   },
   {
    "duration": 118,
    "start_time": "2022-03-14T17:43:08.493Z"
   },
   {
    "duration": 115,
    "start_time": "2022-03-14T17:44:36.416Z"
   },
   {
    "duration": 161,
    "start_time": "2022-03-14T17:45:32.283Z"
   },
   {
    "duration": 157,
    "start_time": "2022-03-14T17:52:44.594Z"
   },
   {
    "duration": 222,
    "start_time": "2022-03-14T17:53:19.961Z"
   },
   {
    "duration": 1119,
    "start_time": "2022-03-14T17:54:18.292Z"
   },
   {
    "duration": 1261,
    "start_time": "2022-03-14T17:54:47.071Z"
   },
   {
    "duration": 157,
    "start_time": "2022-03-14T17:54:59.894Z"
   },
   {
    "duration": 201,
    "start_time": "2022-03-14T17:56:00.502Z"
   },
   {
    "duration": 207,
    "start_time": "2022-03-14T17:56:19.976Z"
   },
   {
    "duration": 242,
    "start_time": "2022-03-14T17:57:00.055Z"
   },
   {
    "duration": 258,
    "start_time": "2022-03-14T17:58:10.196Z"
   },
   {
    "duration": 309,
    "start_time": "2022-03-14T18:03:14.745Z"
   },
   {
    "duration": 220,
    "start_time": "2022-03-14T18:03:44.932Z"
   },
   {
    "duration": 27,
    "start_time": "2022-03-14T18:11:38.189Z"
   },
   {
    "duration": 873,
    "start_time": "2022-03-14T18:11:46.165Z"
   },
   {
    "duration": 39,
    "start_time": "2022-03-14T18:11:47.041Z"
   },
   {
    "duration": 57,
    "start_time": "2022-03-14T18:11:47.083Z"
   },
   {
    "duration": 30,
    "start_time": "2022-03-14T18:11:47.143Z"
   },
   {
    "duration": 138,
    "start_time": "2022-03-14T18:11:47.176Z"
   },
   {
    "duration": 23,
    "start_time": "2022-03-14T18:11:47.316Z"
   },
   {
    "duration": 59,
    "start_time": "2022-03-14T18:11:47.342Z"
   },
   {
    "duration": 238,
    "start_time": "2022-03-14T18:11:47.404Z"
   },
   {
    "duration": -1844,
    "start_time": "2022-03-14T18:14:11.430Z"
   },
   {
    "duration": 982,
    "start_time": "2022-03-14T18:14:22.222Z"
   },
   {
    "duration": 27,
    "start_time": "2022-03-14T18:14:23.208Z"
   },
   {
    "duration": 89,
    "start_time": "2022-03-14T18:14:23.238Z"
   },
   {
    "duration": 1719,
    "start_time": "2022-03-14T18:14:23.330Z"
   },
   {
    "duration": -1854,
    "start_time": "2022-03-14T18:14:26.906Z"
   },
   {
    "duration": -1857,
    "start_time": "2022-03-14T18:14:26.910Z"
   },
   {
    "duration": -1859,
    "start_time": "2022-03-14T18:14:26.914Z"
   },
   {
    "duration": -1860,
    "start_time": "2022-03-14T18:14:26.917Z"
   },
   {
    "duration": -1862,
    "start_time": "2022-03-14T18:14:26.921Z"
   },
   {
    "duration": -1851,
    "start_time": "2022-03-14T18:16:01.606Z"
   },
   {
    "duration": 900,
    "start_time": "2022-03-14T18:16:04.707Z"
   },
   {
    "duration": 25,
    "start_time": "2022-03-14T18:16:05.611Z"
   },
   {
    "duration": 78,
    "start_time": "2022-03-14T18:16:05.640Z"
   },
   {
    "duration": 1551,
    "start_time": "2022-03-14T18:16:05.722Z"
   },
   {
    "duration": -1870,
    "start_time": "2022-03-14T18:16:09.146Z"
   },
   {
    "duration": -1873,
    "start_time": "2022-03-14T18:16:09.150Z"
   },
   {
    "duration": -1875,
    "start_time": "2022-03-14T18:16:09.154Z"
   },
   {
    "duration": -1881,
    "start_time": "2022-03-14T18:16:09.161Z"
   },
   {
    "duration": -1881,
    "start_time": "2022-03-14T18:16:09.163Z"
   },
   {
    "duration": -1881,
    "start_time": "2022-03-14T18:16:09.166Z"
   },
   {
    "duration": 353,
    "start_time": "2022-03-14T18:17:22.868Z"
   },
   {
    "duration": 1386,
    "start_time": "2022-03-14T18:19:06.726Z"
   },
   {
    "duration": 22,
    "start_time": "2022-03-14T18:19:49.707Z"
   },
   {
    "duration": 38,
    "start_time": "2022-03-14T18:20:14.754Z"
   },
   {
    "duration": 1169,
    "start_time": "2022-03-14T18:20:55.423Z"
   },
   {
    "duration": 23,
    "start_time": "2022-03-14T18:20:56.595Z"
   },
   {
    "duration": 8,
    "start_time": "2022-03-14T18:20:56.624Z"
   },
   {
    "duration": 18,
    "start_time": "2022-03-14T18:20:56.674Z"
   },
   {
    "duration": 25,
    "start_time": "2022-03-14T18:20:56.694Z"
   },
   {
    "duration": 71,
    "start_time": "2022-03-14T18:20:56.723Z"
   },
   {
    "duration": 10,
    "start_time": "2022-03-14T18:20:56.799Z"
   },
   {
    "duration": 149,
    "start_time": "2022-03-14T18:20:56.812Z"
   },
   {
    "duration": 26,
    "start_time": "2022-03-14T18:20:56.972Z"
   },
   {
    "duration": 72,
    "start_time": "2022-03-14T18:20:57.001Z"
   },
   {
    "duration": 252,
    "start_time": "2022-03-14T18:20:57.077Z"
   },
   {
    "duration": 1641,
    "start_time": "2022-03-14T18:22:16.353Z"
   },
   {
    "duration": 1371,
    "start_time": "2022-03-14T18:22:30.417Z"
   },
   {
    "duration": 1420,
    "start_time": "2022-03-14T18:22:34.019Z"
   },
   {
    "duration": 884,
    "start_time": "2022-03-14T18:22:41.449Z"
   },
   {
    "duration": 40,
    "start_time": "2022-03-14T18:22:42.336Z"
   },
   {
    "duration": 7,
    "start_time": "2022-03-14T18:22:42.379Z"
   },
   {
    "duration": 20,
    "start_time": "2022-03-14T18:22:42.389Z"
   },
   {
    "duration": 18,
    "start_time": "2022-03-14T18:22:42.412Z"
   },
   {
    "duration": 27,
    "start_time": "2022-03-14T18:22:42.473Z"
   },
   {
    "duration": 28,
    "start_time": "2022-03-14T18:22:42.503Z"
   },
   {
    "duration": 41,
    "start_time": "2022-03-14T18:22:42.537Z"
   },
   {
    "duration": 133,
    "start_time": "2022-03-14T18:22:42.580Z"
   },
   {
    "duration": 25,
    "start_time": "2022-03-14T18:22:42.715Z"
   },
   {
    "duration": 31,
    "start_time": "2022-03-14T18:22:42.773Z"
   },
   {
    "duration": 245,
    "start_time": "2022-03-14T18:22:42.807Z"
   },
   {
    "duration": 37,
    "start_time": "2022-03-14T18:24:34.561Z"
   },
   {
    "duration": 234,
    "start_time": "2022-03-14T18:27:34.082Z"
   },
   {
    "duration": 251,
    "start_time": "2022-03-14T18:28:23.324Z"
   },
   {
    "duration": 21,
    "start_time": "2022-03-14T18:28:33.844Z"
   },
   {
    "duration": 55,
    "start_time": "2022-03-14T18:37:09.364Z"
   },
   {
    "duration": 69,
    "start_time": "2022-03-14T18:40:12.395Z"
   },
   {
    "duration": 44,
    "start_time": "2022-03-14T18:42:29.057Z"
   },
   {
    "duration": 51,
    "start_time": "2022-03-14T18:44:11.750Z"
   },
   {
    "duration": 976,
    "start_time": "2022-03-14T18:54:48.109Z"
   },
   {
    "duration": 32,
    "start_time": "2022-03-14T18:54:49.088Z"
   },
   {
    "duration": 7,
    "start_time": "2022-03-14T18:54:49.124Z"
   },
   {
    "duration": 41,
    "start_time": "2022-03-14T18:54:49.134Z"
   },
   {
    "duration": 21,
    "start_time": "2022-03-14T18:54:49.178Z"
   },
   {
    "duration": 72,
    "start_time": "2022-03-14T18:54:49.202Z"
   },
   {
    "duration": 28,
    "start_time": "2022-03-14T18:54:49.279Z"
   },
   {
    "duration": 8,
    "start_time": "2022-03-14T18:54:49.310Z"
   },
   {
    "duration": 166,
    "start_time": "2022-03-14T18:54:49.322Z"
   },
   {
    "duration": 24,
    "start_time": "2022-03-14T18:54:49.492Z"
   },
   {
    "duration": 78,
    "start_time": "2022-03-14T18:54:49.519Z"
   },
   {
    "duration": 23,
    "start_time": "2022-03-14T18:54:49.600Z"
   },
   {
    "duration": 84,
    "start_time": "2022-03-14T18:54:49.626Z"
   },
   {
    "duration": 97,
    "start_time": "2022-03-14T18:54:49.713Z"
   },
   {
    "duration": 43,
    "start_time": "2022-03-14T18:54:49.813Z"
   },
   {
    "duration": 51,
    "start_time": "2022-03-14T18:54:49.874Z"
   }
  ],
  "kernelspec": {
   "display_name": "Python 3 (ipykernel)",
   "language": "python",
   "name": "python3"
  },
  "language_info": {
   "codemirror_mode": {
    "name": "ipython",
    "version": 3
   },
   "file_extension": ".py",
   "mimetype": "text/x-python",
   "name": "python",
   "nbconvert_exporter": "python",
   "pygments_lexer": "ipython3",
   "version": "3.9.7"
  },
  "toc": {
   "base_numbering": 1,
   "nav_menu": {},
   "number_sections": true,
   "sideBar": true,
   "skip_h1_title": true,
   "title_cell": "Table of Contents",
   "title_sidebar": "Contents",
   "toc_cell": false,
   "toc_position": {},
   "toc_section_display": true,
   "toc_window_display": false
  }
 },
 "nbformat": 4,
 "nbformat_minor": 5
}
